{
  "cells": [
    {
      "cell_type": "code",
      "execution_count": null,
      "metadata": {
        "id": "k66EsTsYkWv0"
      },
      "outputs": [],
      "source": [
        "import pandas as pd\n",
        "import numpy as np\n",
        "import tensorflow as tf\n",
        "import time\n",
        "from tensorflow import keras\n",
        "import matplotlib.pyplot as plt\n",
        "% matplotlib inline\n",
        "import seaborn as sns\n",
        "import os\n",
        "import glob\n",
        "from tensorflow.keras.models import Sequential\n",
        "from tensorflow.keras import layers\n",
        "from tensorflow.keras.utils import to_categorical \n",
        "from sklearn.model_selection import train_test_split\n",
        "from keras.models import Model\n",
        "# from keras.layers.normalization import BatchNormalization\n",
        "from keras.layers.convolutional import Conv2D\n",
        "from keras.layers.convolutional import MaxPooling2D\n",
        "from keras.layers.core import Activation\n",
        "from keras.layers.core import Dropout\n",
        "from keras.layers.core import Lambda\n",
        "from keras.layers.core import Dense\n",
        "# from keras.optimizers import SGD\n",
        "from keras.layers import Flatten\n",
        "from keras.layers import Input\n",
        "import tensorflow as tf\n",
        "from sklearn import datasets \n",
        "from sklearn.metrics import confusion_matrix\n",
        "from sklearn.neighbors import KNeighborsClassifier\n",
        "from sklearn.tree import DecisionTreeClassifier \n",
        "from sklearn.svm import SVC \n",
        "from sklearn.naive_bayes import GaussianNB \n",
        "from sklearn import preprocessing\n",
        "from sklearn.decomposition import PCA"
      ]
    },
    {
      "cell_type": "code",
      "execution_count": null,
      "metadata": {
        "id": "g64GWU8vsAcT"
      },
      "outputs": [],
      "source": [
        "os.mkdir('results')"
      ]
    },
    {
      "cell_type": "markdown",
      "metadata": {
        "id": "vkThldYAk1mR"
      },
      "source": [
        "# Helper Functions"
      ]
    },
    {
      "cell_type": "code",
      "execution_count": null,
      "metadata": {
        "id": "Y3jC5oA_k0t5"
      },
      "outputs": [],
      "source": [
        "def split_X_y(data):\n",
        "  X = data.drop('H/A',axis = 1)\n",
        "  X = X.drop('W/A',axis = 1)\n",
        "  X = X.drop('W/H',axis = 1)\n",
        "  X = X.drop('Bmi',axis = 1)\n",
        "  X = X.drop('HAWH',axis = 1)\n",
        "  y1 = data['W/A']\n",
        "  y2 = data['H/A']\n",
        "  y3 = data['W/H']\n",
        "  y4 = data['Bmi']\n",
        "  y5 = data['HAWH']\n",
        "  y1 = y1.to_frame()  # convert y outputs from series to dataframe\n",
        "  y2 = y2.to_frame()\n",
        "  y3 = y3.to_frame()\n",
        "  y4 = y4.to_frame()\n",
        "  print(X.shape, 'X shape')\n",
        "  print(y1.shape, 'y1 shape')\n",
        "  print(y2.shape, 'y2 shape')\n",
        "  print(y3.shape, 'y3 shape')\n",
        "  print(y4.shape, 'y4 shape')\n",
        "  print(y5.shape, 'y5 shape')\n",
        "  return X, y1, y2, y3, y4, y5"
      ]
    },
    {
      "cell_type": "code",
      "execution_count": null,
      "metadata": {
        "id": "2MoG4fxGk4AZ"
      },
      "outputs": [],
      "source": [
        "def norm(data):\n",
        "  _data = pd.DataFrame(columns=data.columns)\n",
        "  for c in data.columns:           #Normalization of Data\n",
        "    min = data[c].min()\n",
        "    max = data[c].max()\n",
        "    _data[c] = (data[c] - min)/(max - min)\n",
        "    # _data = data\n",
        "  print(_data.head())\n",
        "  return _data\n"
      ]
    },
    {
      "cell_type": "code",
      "execution_count": null,
      "metadata": {
        "id": "qIDKRVtKGWiA"
      },
      "outputs": [],
      "source": [
        "def get_accuracy(pred, y_test):\n",
        "  a = np.argmax(pred, axis = 1)\n",
        "  accuracy = []\n",
        "  count = 0\n",
        "  for i,c in enumerate(y_test):\n",
        "    if c == a[i]:\n",
        "      accuracy.append(1)\n",
        "      count += 1\n",
        "    else:\n",
        "      accuracy.append(0)\n",
        "  print('accuracy', count/len(accuracy))\n",
        "  return count/len(accuracy)"
      ]
    },
    {
      "cell_type": "markdown",
      "metadata": {
        "id": "pIZN8BKf_P1Y"
      },
      "source": [
        "# Data Load and Preprocessing\n",
        "###  df = original dataframe\n",
        "### dfl = label encoded dataframe\n",
        "### dfd = dummies dataframe\n"
      ]
    },
    {
      "cell_type": "markdown",
      "metadata": {
        "id": "hGV8SyrRzW7o"
      },
      "source": [
        "### df "
      ]
    },
    {
      "cell_type": "code",
      "execution_count": null,
      "metadata": {
        "id": "rV2MLF8IlTDl"
      },
      "outputs": [],
      "source": [
        "df = pd.read_csv('New_Dataset_15-16.csv')"
      ]
    },
    {
      "cell_type": "code",
      "execution_count": null,
      "metadata": {
        "id": "YLL9hjY_ld22"
      },
      "outputs": [],
      "source": [
        "df = df.drop(['Unnamed: 0', 'Unnamed: 0.1'], axis = 1)"
      ]
    },
    {
      "cell_type": "code",
      "execution_count": null,
      "metadata": {
        "colab": {
          "base_uri": "https://localhost:8080/",
          "height": 669
        },
        "id": "TpRWKWcW3FLv",
        "outputId": "74d4090e-db96-45fd-93bb-4c7215c62f3f"
      },
      "outputs": [
        {
          "data": {
            "text/html": [
              "<div>\n",
              "<style scoped>\n",
              "    .dataframe tbody tr th:only-of-type {\n",
              "        vertical-align: middle;\n",
              "    }\n",
              "\n",
              "    .dataframe tbody tr th {\n",
              "        vertical-align: top;\n",
              "    }\n",
              "\n",
              "    .dataframe thead th {\n",
              "        text-align: right;\n",
              "    }\n",
              "</style>\n",
              "<table border=\"1\" class=\"dataframe\">\n",
              "  <thead>\n",
              "    <tr style=\"text-align: right;\">\n",
              "      <th></th>\n",
              "      <th>State</th>\n",
              "      <th>Area</th>\n",
              "      <th>Religion</th>\n",
              "      <th>caste</th>\n",
              "      <th>mothers education</th>\n",
              "      <th>source of water</th>\n",
              "      <th>toilet facility</th>\n",
              "      <th>no of members</th>\n",
              "      <th>no of living children</th>\n",
              "      <th>mothers age(at first birth)</th>\n",
              "      <th>sex of household head</th>\n",
              "      <th>wealth index</th>\n",
              "      <th>initiaion of bf</th>\n",
              "      <th>sex of child</th>\n",
              "      <th>months of bf</th>\n",
              "      <th>mothers bmi</th>\n",
              "      <th>child's age</th>\n",
              "      <th>index to birth history</th>\n",
              "      <th>birth weight</th>\n",
              "      <th>history of illness</th>\n",
              "      <th>Exposure to mass media</th>\n",
              "      <th>dietary score</th>\n",
              "      <th>immunization</th>\n",
              "      <th>H/A</th>\n",
              "      <th>W/A</th>\n",
              "      <th>W/H</th>\n",
              "      <th>Bmi</th>\n",
              "      <th>HAWH</th>\n",
              "    </tr>\n",
              "  </thead>\n",
              "  <tbody>\n",
              "    <tr>\n",
              "      <th>0</th>\n",
              "      <td>East_India</td>\n",
              "      <td>Urban</td>\n",
              "      <td>Hindu</td>\n",
              "      <td>Others</td>\n",
              "      <td>Secondary education</td>\n",
              "      <td>Improved</td>\n",
              "      <td>Improved</td>\n",
              "      <td>4</td>\n",
              "      <td>1</td>\n",
              "      <td>20-29</td>\n",
              "      <td>Male</td>\n",
              "      <td>Richer</td>\n",
              "      <td>Early Initiation</td>\n",
              "      <td>Female</td>\n",
              "      <td>&gt;24</td>\n",
              "      <td>healthy</td>\n",
              "      <td>48-60</td>\n",
              "      <td>1</td>\n",
              "      <td>2.5+</td>\n",
              "      <td>Yes</td>\n",
              "      <td>Yes</td>\n",
              "      <td>0</td>\n",
              "      <td>fully immunized</td>\n",
              "      <td>0</td>\n",
              "      <td>0</td>\n",
              "      <td>0</td>\n",
              "      <td>0</td>\n",
              "      <td>0</td>\n",
              "    </tr>\n",
              "    <tr>\n",
              "      <th>1</th>\n",
              "      <td>East_India</td>\n",
              "      <td>Urban</td>\n",
              "      <td>Hindu</td>\n",
              "      <td>OBC</td>\n",
              "      <td>Higher education</td>\n",
              "      <td>Improved</td>\n",
              "      <td>Improved</td>\n",
              "      <td>3</td>\n",
              "      <td>1</td>\n",
              "      <td>20-29</td>\n",
              "      <td>Male</td>\n",
              "      <td>Richer</td>\n",
              "      <td>Late Initiation</td>\n",
              "      <td>Female</td>\n",
              "      <td>&lt;24</td>\n",
              "      <td>overweight</td>\n",
              "      <td>24-36</td>\n",
              "      <td>1</td>\n",
              "      <td>2.5+</td>\n",
              "      <td>No</td>\n",
              "      <td>Yes</td>\n",
              "      <td>0</td>\n",
              "      <td>fully immunized</td>\n",
              "      <td>0</td>\n",
              "      <td>0</td>\n",
              "      <td>0</td>\n",
              "      <td>0</td>\n",
              "      <td>0</td>\n",
              "    </tr>\n",
              "    <tr>\n",
              "      <th>2</th>\n",
              "      <td>East_India</td>\n",
              "      <td>Rural</td>\n",
              "      <td>Christian</td>\n",
              "      <td>ST</td>\n",
              "      <td>Secondary education</td>\n",
              "      <td>Improved</td>\n",
              "      <td>Improved</td>\n",
              "      <td>6</td>\n",
              "      <td>2</td>\n",
              "      <td>20-29</td>\n",
              "      <td>Male</td>\n",
              "      <td>Middle</td>\n",
              "      <td>Early Initiation</td>\n",
              "      <td>Female</td>\n",
              "      <td>&lt;24</td>\n",
              "      <td>healthy</td>\n",
              "      <td>6-</td>\n",
              "      <td>1</td>\n",
              "      <td>2.5+</td>\n",
              "      <td>No</td>\n",
              "      <td>Yes</td>\n",
              "      <td>4</td>\n",
              "      <td>unimmunized</td>\n",
              "      <td>0</td>\n",
              "      <td>0</td>\n",
              "      <td>0</td>\n",
              "      <td>0</td>\n",
              "      <td>0</td>\n",
              "    </tr>\n",
              "    <tr>\n",
              "      <th>3</th>\n",
              "      <td>East_India</td>\n",
              "      <td>Rural</td>\n",
              "      <td>Christian</td>\n",
              "      <td>ST</td>\n",
              "      <td>Secondary education</td>\n",
              "      <td>Improved</td>\n",
              "      <td>Improved</td>\n",
              "      <td>6</td>\n",
              "      <td>3</td>\n",
              "      <td>20-29</td>\n",
              "      <td>Male</td>\n",
              "      <td>Richest</td>\n",
              "      <td>Early Initiation</td>\n",
              "      <td>Male</td>\n",
              "      <td>&lt;24</td>\n",
              "      <td>healthy</td>\n",
              "      <td>6-12</td>\n",
              "      <td>1</td>\n",
              "      <td>2.5+</td>\n",
              "      <td>No</td>\n",
              "      <td>Yes</td>\n",
              "      <td>3</td>\n",
              "      <td>unimmunized</td>\n",
              "      <td>0</td>\n",
              "      <td>0</td>\n",
              "      <td>0</td>\n",
              "      <td>0</td>\n",
              "      <td>0</td>\n",
              "    </tr>\n",
              "    <tr>\n",
              "      <th>4</th>\n",
              "      <td>East_India</td>\n",
              "      <td>Rural</td>\n",
              "      <td>Christian</td>\n",
              "      <td>ST</td>\n",
              "      <td>Secondary education</td>\n",
              "      <td>Improved</td>\n",
              "      <td>Improved</td>\n",
              "      <td>5</td>\n",
              "      <td>2</td>\n",
              "      <td>20-29</td>\n",
              "      <td>Female</td>\n",
              "      <td>Middle</td>\n",
              "      <td>Early Initiation</td>\n",
              "      <td>Female</td>\n",
              "      <td>&lt;24</td>\n",
              "      <td>healthy</td>\n",
              "      <td>24-36</td>\n",
              "      <td>1</td>\n",
              "      <td>2.5+</td>\n",
              "      <td>No</td>\n",
              "      <td>Yes</td>\n",
              "      <td>0</td>\n",
              "      <td>unimmunized</td>\n",
              "      <td>0</td>\n",
              "      <td>0</td>\n",
              "      <td>0</td>\n",
              "      <td>0</td>\n",
              "      <td>0</td>\n",
              "    </tr>\n",
              "    <tr>\n",
              "      <th>...</th>\n",
              "      <td>...</td>\n",
              "      <td>...</td>\n",
              "      <td>...</td>\n",
              "      <td>...</td>\n",
              "      <td>...</td>\n",
              "      <td>...</td>\n",
              "      <td>...</td>\n",
              "      <td>...</td>\n",
              "      <td>...</td>\n",
              "      <td>...</td>\n",
              "      <td>...</td>\n",
              "      <td>...</td>\n",
              "      <td>...</td>\n",
              "      <td>...</td>\n",
              "      <td>...</td>\n",
              "      <td>...</td>\n",
              "      <td>...</td>\n",
              "      <td>...</td>\n",
              "      <td>...</td>\n",
              "      <td>...</td>\n",
              "      <td>...</td>\n",
              "      <td>...</td>\n",
              "      <td>...</td>\n",
              "      <td>...</td>\n",
              "      <td>...</td>\n",
              "      <td>...</td>\n",
              "      <td>...</td>\n",
              "      <td>...</td>\n",
              "    </tr>\n",
              "    <tr>\n",
              "      <th>172617</th>\n",
              "      <td>South_India</td>\n",
              "      <td>Urban</td>\n",
              "      <td>Hindu</td>\n",
              "      <td>OBC</td>\n",
              "      <td>Higher education</td>\n",
              "      <td>Improved</td>\n",
              "      <td>Improved</td>\n",
              "      <td>4</td>\n",
              "      <td>1</td>\n",
              "      <td>20-29</td>\n",
              "      <td>Male</td>\n",
              "      <td>Richest</td>\n",
              "      <td>Early Initiation</td>\n",
              "      <td>Female</td>\n",
              "      <td>&lt;24</td>\n",
              "      <td>overweight</td>\n",
              "      <td>24-36</td>\n",
              "      <td>1</td>\n",
              "      <td>2.5+</td>\n",
              "      <td>No</td>\n",
              "      <td>Yes</td>\n",
              "      <td>0</td>\n",
              "      <td>fully immunized</td>\n",
              "      <td>0</td>\n",
              "      <td>0</td>\n",
              "      <td>0</td>\n",
              "      <td>0</td>\n",
              "      <td>0</td>\n",
              "    </tr>\n",
              "    <tr>\n",
              "      <th>172618</th>\n",
              "      <td>South_India</td>\n",
              "      <td>Urban</td>\n",
              "      <td>Hindu</td>\n",
              "      <td>OBC</td>\n",
              "      <td>Secondary education</td>\n",
              "      <td>Improved</td>\n",
              "      <td>Improved</td>\n",
              "      <td>4</td>\n",
              "      <td>2</td>\n",
              "      <td>&lt;20</td>\n",
              "      <td>Male</td>\n",
              "      <td>Richest</td>\n",
              "      <td>Early Initiation</td>\n",
              "      <td>Female</td>\n",
              "      <td>&lt;24</td>\n",
              "      <td>overweight</td>\n",
              "      <td>48-60</td>\n",
              "      <td>1</td>\n",
              "      <td>2.5+</td>\n",
              "      <td>No</td>\n",
              "      <td>Yes</td>\n",
              "      <td>0</td>\n",
              "      <td>fully immunized</td>\n",
              "      <td>0</td>\n",
              "      <td>0</td>\n",
              "      <td>0</td>\n",
              "      <td>0</td>\n",
              "      <td>0</td>\n",
              "    </tr>\n",
              "    <tr>\n",
              "      <th>172619</th>\n",
              "      <td>South_India</td>\n",
              "      <td>Rural</td>\n",
              "      <td>Hindu</td>\n",
              "      <td>OBC</td>\n",
              "      <td>Secondary education</td>\n",
              "      <td>Improved</td>\n",
              "      <td>Improved</td>\n",
              "      <td>3</td>\n",
              "      <td>1</td>\n",
              "      <td>&lt;20</td>\n",
              "      <td>Male</td>\n",
              "      <td>Middle</td>\n",
              "      <td>Late Initiation</td>\n",
              "      <td>Male</td>\n",
              "      <td>&lt;24</td>\n",
              "      <td>underweight</td>\n",
              "      <td>6-12</td>\n",
              "      <td>1</td>\n",
              "      <td>2.5+</td>\n",
              "      <td>Yes</td>\n",
              "      <td>Yes</td>\n",
              "      <td>1</td>\n",
              "      <td>partially immunized</td>\n",
              "      <td>0</td>\n",
              "      <td>0</td>\n",
              "      <td>0</td>\n",
              "      <td>0</td>\n",
              "      <td>0</td>\n",
              "    </tr>\n",
              "    <tr>\n",
              "      <th>172620</th>\n",
              "      <td>South_India</td>\n",
              "      <td>Rural</td>\n",
              "      <td>Hindu</td>\n",
              "      <td>OBC</td>\n",
              "      <td>Secondary education</td>\n",
              "      <td>Unimproved</td>\n",
              "      <td>Unimproved</td>\n",
              "      <td>8</td>\n",
              "      <td>1</td>\n",
              "      <td>&lt;20</td>\n",
              "      <td>Male</td>\n",
              "      <td>Richer</td>\n",
              "      <td>Late Initiation</td>\n",
              "      <td>Male</td>\n",
              "      <td>&lt;24</td>\n",
              "      <td>healthy</td>\n",
              "      <td>6-</td>\n",
              "      <td>1</td>\n",
              "      <td>2.5-</td>\n",
              "      <td>No</td>\n",
              "      <td>Yes</td>\n",
              "      <td>0</td>\n",
              "      <td>partially immunized</td>\n",
              "      <td>0</td>\n",
              "      <td>1</td>\n",
              "      <td>1</td>\n",
              "      <td>1</td>\n",
              "      <td>0</td>\n",
              "    </tr>\n",
              "    <tr>\n",
              "      <th>172621</th>\n",
              "      <td>South_India</td>\n",
              "      <td>Rural</td>\n",
              "      <td>Hindu</td>\n",
              "      <td>Others</td>\n",
              "      <td>Secondary education</td>\n",
              "      <td>Improved</td>\n",
              "      <td>Improved</td>\n",
              "      <td>4</td>\n",
              "      <td>2</td>\n",
              "      <td>20-29</td>\n",
              "      <td>Male</td>\n",
              "      <td>Richer</td>\n",
              "      <td>Early Initiation</td>\n",
              "      <td>Male</td>\n",
              "      <td>&lt;24</td>\n",
              "      <td>healthy</td>\n",
              "      <td>24-36</td>\n",
              "      <td>1</td>\n",
              "      <td>2.5+</td>\n",
              "      <td>No</td>\n",
              "      <td>Yes</td>\n",
              "      <td>0</td>\n",
              "      <td>fully immunized</td>\n",
              "      <td>0</td>\n",
              "      <td>0</td>\n",
              "      <td>0</td>\n",
              "      <td>0</td>\n",
              "      <td>0</td>\n",
              "    </tr>\n",
              "  </tbody>\n",
              "</table>\n",
              "<p>172622 rows × 28 columns</p>\n",
              "</div>"
            ],
            "text/plain": [
              "              State   Area   Religion   caste  ... W/A W/H Bmi  HAWH\n",
              "0        East_India  Urban      Hindu  Others  ...   0   0   0     0\n",
              "1        East_India  Urban      Hindu     OBC  ...   0   0   0     0\n",
              "2        East_India  Rural  Christian      ST  ...   0   0   0     0\n",
              "3        East_India  Rural  Christian      ST  ...   0   0   0     0\n",
              "4        East_India  Rural  Christian      ST  ...   0   0   0     0\n",
              "...             ...    ...        ...     ...  ...  ..  ..  ..   ...\n",
              "172617  South_India  Urban      Hindu     OBC  ...   0   0   0     0\n",
              "172618  South_India  Urban      Hindu     OBC  ...   0   0   0     0\n",
              "172619  South_India  Rural      Hindu     OBC  ...   0   0   0     0\n",
              "172620  South_India  Rural      Hindu     OBC  ...   1   1   1     0\n",
              "172621  South_India  Rural      Hindu  Others  ...   0   0   0     0\n",
              "\n",
              "[172622 rows x 28 columns]"
            ]
          },
          "execution_count": 13,
          "metadata": {},
          "output_type": "execute_result"
        }
      ],
      "source": [
        "df"
      ]
    },
    {
      "cell_type": "code",
      "execution_count": null,
      "metadata": {
        "colab": {
          "base_uri": "https://localhost:8080/"
        },
        "id": "OI7rMDfClxdJ",
        "outputId": "687304fe-296c-4931-d9c3-976b4a29bbeb"
      },
      "outputs": [
        {
          "name": "stdout",
          "output_type": "stream",
          "text": [
            "State                          0\n",
            "Area                           0\n",
            "Religion                       0\n",
            "caste                          0\n",
            "mothers education              0\n",
            "source of water                0\n",
            "toilet facility                0\n",
            "no of members                  0\n",
            "no of living children          0\n",
            "mothers age(at first birth)    0\n",
            "sex of household head          0\n",
            "wealth index                   0\n",
            "initiaion of bf                0\n",
            "sex of child                   0\n",
            "months of bf                   0\n",
            "mothers bmi                    0\n",
            "child's age                    0\n",
            "index to birth history         0\n",
            "birth weight                   0\n",
            "history of illness             0\n",
            "Exposure to mass media         0\n",
            "dietary score                  0\n",
            "immunization                   0\n",
            "H/A                            0\n",
            "W/A                            0\n",
            "W/H                            0\n",
            "Bmi                            0\n",
            "HAWH                           0\n",
            "dtype: int64\n",
            "(172622, 28)\n"
          ]
        }
      ],
      "source": [
        "print(df.isnull().sum())\n",
        "print(df.shape)"
      ]
    },
    {
      "cell_type": "markdown",
      "metadata": {
        "id": "-rjTy4LJzbY8"
      },
      "source": [
        "### dfl"
      ]
    },
    {
      "cell_type": "code",
      "execution_count": null,
      "metadata": {
        "id": "Hff0c2hMe1yl"
      },
      "outputs": [],
      "source": [
        "dfl = pd.DataFrame()"
      ]
    },
    {
      "cell_type": "code",
      "execution_count": null,
      "metadata": {
        "id": "WlnwTB3DejOX"
      },
      "outputs": [],
      "source": [
        "label_encoder = preprocessing.LabelEncoder()\n",
        "dfl = df.apply(label_encoder.fit_transform)\n",
        "# dfl['state']= label_encoder.fit_transform(df['state'])\n",
        "# dfl['area']= label_encoder.fit_transform(df['area'])\n",
        "# dfl['religion']= label_encoder.fit_transform(df['religion'])\n",
        "# dfl['caste']= label_encoder.fit_transform(df['caste'])\n",
        "# dfl['father\\'s education']= label_encoder.fit_transform(df['father\\'s education'])\n",
        "# dfl['father\\'s occupation']= label_encoder.fit_transform(df['father\\'s occupation'])\n",
        "# dfl['mother\\'s education']= label_encoder.fit_transform(df['mother\\'s education'])\n",
        "# dfl['mother\\'s occupation']= label_encoder.fit_transform(df['mother\\'s occupation'])\n",
        "# dfl['exposure to mass media']= label_encoder.fit_transform(df['exposure to mass media'])\n",
        "# dfl['Source of drinking water']= label_encoder.fit_transform(df['Source of drinking water'])\n",
        "# dfl['Toilet Facility'] = label_encoder.fit_transform(df['Toilet Facility'])\n",
        "# dfl['mother\\'s age']= label_encoder.fit_transform(df['mother\\'s age'])\n",
        "# dfl['mother\\'s bmi']= label_encoder.fit_transform(df['mother\\'s bmi'])\n",
        "# dfl['child\\'s age']= label_encoder.fit_transform(df['child\\'s age'])\n",
        "# dfl['sex of child']= label_encoder.fit_transform(df['sex of child'])\n",
        "# dfl['birth weight']= label_encoder.fit_transform(df['birth weight'])\n",
        "# dfl['initiation of bf(early initiation)']= label_encoder.fit_transform(df['initiation of bf(early initiation)'])\n",
        "# dfl['wealth index']= label_encoder.fit_transform(df['wealth index'])\n",
        "# dfl['months of bf']= label_encoder.fit_transform(df['months of bf'])\n",
        "# dfl['immunization']= label_encoder.fit_transform(df['immunization'])\n",
        "# dfl['sex of household head']= label_encoder.fit_transform(df['sex of household head'])\n",
        "# dfl['H/A'] = df['H/A']\n",
        "# dfl['W/A'] = df['W/A']\n",
        "# dfl['W/H'] = df['W/H']\n",
        "# dfl['Bmi'] = df['Bmi']\n",
        "# dfl['HAWH'] = df['HAWH']\n",
        "# dfl['history of illness'] = df['history of illness']\n",
        "# dfl['index to birth history'] = df['index to birth history']\n",
        "# dfl['no of living children'] = df['no of living children']\n",
        "# dfl['dietary score'] = df['dietary score']\n",
        "# dfl['total family members'] = df['total family members']\n",
        "# dfl['type of family'] = df['type of family']"
      ]
    },
    {
      "cell_type": "code",
      "execution_count": null,
      "metadata": {
        "colab": {
          "base_uri": "https://localhost:8080/",
          "height": 496
        },
        "id": "3kA8LQFniG4r",
        "outputId": "fad596df-5218-4086-e500-804a8596a964"
      },
      "outputs": [
        {
          "data": {
            "text/html": [
              "<div>\n",
              "<style scoped>\n",
              "    .dataframe tbody tr th:only-of-type {\n",
              "        vertical-align: middle;\n",
              "    }\n",
              "\n",
              "    .dataframe tbody tr th {\n",
              "        vertical-align: top;\n",
              "    }\n",
              "\n",
              "    .dataframe thead th {\n",
              "        text-align: right;\n",
              "    }\n",
              "</style>\n",
              "<table border=\"1\" class=\"dataframe\">\n",
              "  <thead>\n",
              "    <tr style=\"text-align: right;\">\n",
              "      <th></th>\n",
              "      <th>State</th>\n",
              "      <th>Area</th>\n",
              "      <th>Religion</th>\n",
              "      <th>caste</th>\n",
              "      <th>mothers education</th>\n",
              "      <th>source of water</th>\n",
              "      <th>toilet facility</th>\n",
              "      <th>no of members</th>\n",
              "      <th>no of living children</th>\n",
              "      <th>mothers age(at first birth)</th>\n",
              "      <th>sex of household head</th>\n",
              "      <th>wealth index</th>\n",
              "      <th>initiaion of bf</th>\n",
              "      <th>sex of child</th>\n",
              "      <th>months of bf</th>\n",
              "      <th>mothers bmi</th>\n",
              "      <th>child's age</th>\n",
              "      <th>index to birth history</th>\n",
              "      <th>birth weight</th>\n",
              "      <th>history of illness</th>\n",
              "      <th>Exposure to mass media</th>\n",
              "      <th>dietary score</th>\n",
              "      <th>immunization</th>\n",
              "      <th>H/A</th>\n",
              "      <th>W/A</th>\n",
              "      <th>W/H</th>\n",
              "      <th>Bmi</th>\n",
              "      <th>HAWH</th>\n",
              "    </tr>\n",
              "  </thead>\n",
              "  <tbody>\n",
              "    <tr>\n",
              "      <th>0</th>\n",
              "      <td>1</td>\n",
              "      <td>1</td>\n",
              "      <td>1</td>\n",
              "      <td>1</td>\n",
              "      <td>3</td>\n",
              "      <td>0</td>\n",
              "      <td>0</td>\n",
              "      <td>2</td>\n",
              "      <td>0</td>\n",
              "      <td>0</td>\n",
              "      <td>1</td>\n",
              "      <td>3</td>\n",
              "      <td>0</td>\n",
              "      <td>0</td>\n",
              "      <td>1</td>\n",
              "      <td>0</td>\n",
              "      <td>4</td>\n",
              "      <td>0</td>\n",
              "      <td>0</td>\n",
              "      <td>1</td>\n",
              "      <td>1</td>\n",
              "      <td>0</td>\n",
              "      <td>0</td>\n",
              "      <td>0</td>\n",
              "      <td>0</td>\n",
              "      <td>0</td>\n",
              "      <td>0</td>\n",
              "      <td>0</td>\n",
              "    </tr>\n",
              "    <tr>\n",
              "      <th>1</th>\n",
              "      <td>1</td>\n",
              "      <td>1</td>\n",
              "      <td>1</td>\n",
              "      <td>0</td>\n",
              "      <td>0</td>\n",
              "      <td>0</td>\n",
              "      <td>0</td>\n",
              "      <td>1</td>\n",
              "      <td>0</td>\n",
              "      <td>0</td>\n",
              "      <td>1</td>\n",
              "      <td>3</td>\n",
              "      <td>1</td>\n",
              "      <td>0</td>\n",
              "      <td>0</td>\n",
              "      <td>1</td>\n",
              "      <td>2</td>\n",
              "      <td>0</td>\n",
              "      <td>0</td>\n",
              "      <td>0</td>\n",
              "      <td>1</td>\n",
              "      <td>0</td>\n",
              "      <td>0</td>\n",
              "      <td>0</td>\n",
              "      <td>0</td>\n",
              "      <td>0</td>\n",
              "      <td>0</td>\n",
              "      <td>0</td>\n",
              "    </tr>\n",
              "    <tr>\n",
              "      <th>2</th>\n",
              "      <td>1</td>\n",
              "      <td>0</td>\n",
              "      <td>0</td>\n",
              "      <td>3</td>\n",
              "      <td>3</td>\n",
              "      <td>0</td>\n",
              "      <td>0</td>\n",
              "      <td>4</td>\n",
              "      <td>1</td>\n",
              "      <td>0</td>\n",
              "      <td>1</td>\n",
              "      <td>0</td>\n",
              "      <td>0</td>\n",
              "      <td>0</td>\n",
              "      <td>0</td>\n",
              "      <td>0</td>\n",
              "      <td>5</td>\n",
              "      <td>0</td>\n",
              "      <td>0</td>\n",
              "      <td>0</td>\n",
              "      <td>1</td>\n",
              "      <td>4</td>\n",
              "      <td>2</td>\n",
              "      <td>0</td>\n",
              "      <td>0</td>\n",
              "      <td>0</td>\n",
              "      <td>0</td>\n",
              "      <td>0</td>\n",
              "    </tr>\n",
              "    <tr>\n",
              "      <th>3</th>\n",
              "      <td>1</td>\n",
              "      <td>0</td>\n",
              "      <td>0</td>\n",
              "      <td>3</td>\n",
              "      <td>3</td>\n",
              "      <td>0</td>\n",
              "      <td>0</td>\n",
              "      <td>4</td>\n",
              "      <td>2</td>\n",
              "      <td>0</td>\n",
              "      <td>1</td>\n",
              "      <td>4</td>\n",
              "      <td>0</td>\n",
              "      <td>1</td>\n",
              "      <td>0</td>\n",
              "      <td>0</td>\n",
              "      <td>6</td>\n",
              "      <td>0</td>\n",
              "      <td>0</td>\n",
              "      <td>0</td>\n",
              "      <td>1</td>\n",
              "      <td>3</td>\n",
              "      <td>2</td>\n",
              "      <td>0</td>\n",
              "      <td>0</td>\n",
              "      <td>0</td>\n",
              "      <td>0</td>\n",
              "      <td>0</td>\n",
              "    </tr>\n",
              "    <tr>\n",
              "      <th>4</th>\n",
              "      <td>1</td>\n",
              "      <td>0</td>\n",
              "      <td>0</td>\n",
              "      <td>3</td>\n",
              "      <td>3</td>\n",
              "      <td>0</td>\n",
              "      <td>0</td>\n",
              "      <td>3</td>\n",
              "      <td>1</td>\n",
              "      <td>0</td>\n",
              "      <td>0</td>\n",
              "      <td>0</td>\n",
              "      <td>0</td>\n",
              "      <td>0</td>\n",
              "      <td>0</td>\n",
              "      <td>0</td>\n",
              "      <td>2</td>\n",
              "      <td>0</td>\n",
              "      <td>0</td>\n",
              "      <td>0</td>\n",
              "      <td>1</td>\n",
              "      <td>0</td>\n",
              "      <td>2</td>\n",
              "      <td>0</td>\n",
              "      <td>0</td>\n",
              "      <td>0</td>\n",
              "      <td>0</td>\n",
              "      <td>0</td>\n",
              "    </tr>\n",
              "    <tr>\n",
              "      <th>...</th>\n",
              "      <td>...</td>\n",
              "      <td>...</td>\n",
              "      <td>...</td>\n",
              "      <td>...</td>\n",
              "      <td>...</td>\n",
              "      <td>...</td>\n",
              "      <td>...</td>\n",
              "      <td>...</td>\n",
              "      <td>...</td>\n",
              "      <td>...</td>\n",
              "      <td>...</td>\n",
              "      <td>...</td>\n",
              "      <td>...</td>\n",
              "      <td>...</td>\n",
              "      <td>...</td>\n",
              "      <td>...</td>\n",
              "      <td>...</td>\n",
              "      <td>...</td>\n",
              "      <td>...</td>\n",
              "      <td>...</td>\n",
              "      <td>...</td>\n",
              "      <td>...</td>\n",
              "      <td>...</td>\n",
              "      <td>...</td>\n",
              "      <td>...</td>\n",
              "      <td>...</td>\n",
              "      <td>...</td>\n",
              "      <td>...</td>\n",
              "    </tr>\n",
              "    <tr>\n",
              "      <th>172617</th>\n",
              "      <td>4</td>\n",
              "      <td>1</td>\n",
              "      <td>1</td>\n",
              "      <td>0</td>\n",
              "      <td>0</td>\n",
              "      <td>0</td>\n",
              "      <td>0</td>\n",
              "      <td>2</td>\n",
              "      <td>0</td>\n",
              "      <td>0</td>\n",
              "      <td>1</td>\n",
              "      <td>4</td>\n",
              "      <td>0</td>\n",
              "      <td>0</td>\n",
              "      <td>0</td>\n",
              "      <td>1</td>\n",
              "      <td>2</td>\n",
              "      <td>0</td>\n",
              "      <td>0</td>\n",
              "      <td>0</td>\n",
              "      <td>1</td>\n",
              "      <td>0</td>\n",
              "      <td>0</td>\n",
              "      <td>0</td>\n",
              "      <td>0</td>\n",
              "      <td>0</td>\n",
              "      <td>0</td>\n",
              "      <td>0</td>\n",
              "    </tr>\n",
              "    <tr>\n",
              "      <th>172618</th>\n",
              "      <td>4</td>\n",
              "      <td>1</td>\n",
              "      <td>1</td>\n",
              "      <td>0</td>\n",
              "      <td>3</td>\n",
              "      <td>0</td>\n",
              "      <td>0</td>\n",
              "      <td>2</td>\n",
              "      <td>1</td>\n",
              "      <td>3</td>\n",
              "      <td>1</td>\n",
              "      <td>4</td>\n",
              "      <td>0</td>\n",
              "      <td>0</td>\n",
              "      <td>0</td>\n",
              "      <td>1</td>\n",
              "      <td>4</td>\n",
              "      <td>0</td>\n",
              "      <td>0</td>\n",
              "      <td>0</td>\n",
              "      <td>1</td>\n",
              "      <td>0</td>\n",
              "      <td>0</td>\n",
              "      <td>0</td>\n",
              "      <td>0</td>\n",
              "      <td>0</td>\n",
              "      <td>0</td>\n",
              "      <td>0</td>\n",
              "    </tr>\n",
              "    <tr>\n",
              "      <th>172619</th>\n",
              "      <td>4</td>\n",
              "      <td>0</td>\n",
              "      <td>1</td>\n",
              "      <td>0</td>\n",
              "      <td>3</td>\n",
              "      <td>0</td>\n",
              "      <td>0</td>\n",
              "      <td>1</td>\n",
              "      <td>0</td>\n",
              "      <td>3</td>\n",
              "      <td>1</td>\n",
              "      <td>0</td>\n",
              "      <td>1</td>\n",
              "      <td>1</td>\n",
              "      <td>0</td>\n",
              "      <td>2</td>\n",
              "      <td>6</td>\n",
              "      <td>0</td>\n",
              "      <td>0</td>\n",
              "      <td>1</td>\n",
              "      <td>1</td>\n",
              "      <td>1</td>\n",
              "      <td>1</td>\n",
              "      <td>0</td>\n",
              "      <td>0</td>\n",
              "      <td>0</td>\n",
              "      <td>0</td>\n",
              "      <td>0</td>\n",
              "    </tr>\n",
              "    <tr>\n",
              "      <th>172620</th>\n",
              "      <td>4</td>\n",
              "      <td>0</td>\n",
              "      <td>1</td>\n",
              "      <td>0</td>\n",
              "      <td>3</td>\n",
              "      <td>1</td>\n",
              "      <td>1</td>\n",
              "      <td>6</td>\n",
              "      <td>0</td>\n",
              "      <td>3</td>\n",
              "      <td>1</td>\n",
              "      <td>3</td>\n",
              "      <td>1</td>\n",
              "      <td>1</td>\n",
              "      <td>0</td>\n",
              "      <td>0</td>\n",
              "      <td>5</td>\n",
              "      <td>0</td>\n",
              "      <td>1</td>\n",
              "      <td>0</td>\n",
              "      <td>1</td>\n",
              "      <td>0</td>\n",
              "      <td>1</td>\n",
              "      <td>0</td>\n",
              "      <td>1</td>\n",
              "      <td>1</td>\n",
              "      <td>1</td>\n",
              "      <td>0</td>\n",
              "    </tr>\n",
              "    <tr>\n",
              "      <th>172621</th>\n",
              "      <td>4</td>\n",
              "      <td>0</td>\n",
              "      <td>1</td>\n",
              "      <td>1</td>\n",
              "      <td>3</td>\n",
              "      <td>0</td>\n",
              "      <td>0</td>\n",
              "      <td>2</td>\n",
              "      <td>1</td>\n",
              "      <td>0</td>\n",
              "      <td>1</td>\n",
              "      <td>3</td>\n",
              "      <td>0</td>\n",
              "      <td>1</td>\n",
              "      <td>0</td>\n",
              "      <td>0</td>\n",
              "      <td>2</td>\n",
              "      <td>0</td>\n",
              "      <td>0</td>\n",
              "      <td>0</td>\n",
              "      <td>1</td>\n",
              "      <td>0</td>\n",
              "      <td>0</td>\n",
              "      <td>0</td>\n",
              "      <td>0</td>\n",
              "      <td>0</td>\n",
              "      <td>0</td>\n",
              "      <td>0</td>\n",
              "    </tr>\n",
              "  </tbody>\n",
              "</table>\n",
              "<p>172622 rows × 28 columns</p>\n",
              "</div>"
            ],
            "text/plain": [
              "        State  Area  Religion  caste  ...  W/A  W/H  Bmi  HAWH\n",
              "0           1     1         1      1  ...    0    0    0     0\n",
              "1           1     1         1      0  ...    0    0    0     0\n",
              "2           1     0         0      3  ...    0    0    0     0\n",
              "3           1     0         0      3  ...    0    0    0     0\n",
              "4           1     0         0      3  ...    0    0    0     0\n",
              "...       ...   ...       ...    ...  ...  ...  ...  ...   ...\n",
              "172617      4     1         1      0  ...    0    0    0     0\n",
              "172618      4     1         1      0  ...    0    0    0     0\n",
              "172619      4     0         1      0  ...    0    0    0     0\n",
              "172620      4     0         1      0  ...    1    1    1     0\n",
              "172621      4     0         1      1  ...    0    0    0     0\n",
              "\n",
              "[172622 rows x 28 columns]"
            ]
          },
          "execution_count": 17,
          "metadata": {},
          "output_type": "execute_result"
        }
      ],
      "source": [
        "dfl"
      ]
    },
    {
      "cell_type": "markdown",
      "metadata": {
        "id": "L2wSJT-UzmDm"
      },
      "source": [
        "### dfd"
      ]
    },
    {
      "cell_type": "code",
      "execution_count": null,
      "metadata": {
        "id": "STrrl4l7jZ1O"
      },
      "outputs": [],
      "source": [
        "dfd = pd.get_dummies(df)"
      ]
    },
    {
      "cell_type": "code",
      "execution_count": null,
      "metadata": {
        "colab": {
          "base_uri": "https://localhost:8080/",
          "height": 513
        },
        "id": "dhjUM1agjbPI",
        "outputId": "59ceea13-1963-4964-e358-6f93ddfac18b"
      },
      "outputs": [
        {
          "data": {
            "text/html": [
              "<div>\n",
              "<style scoped>\n",
              "    .dataframe tbody tr th:only-of-type {\n",
              "        vertical-align: middle;\n",
              "    }\n",
              "\n",
              "    .dataframe tbody tr th {\n",
              "        vertical-align: top;\n",
              "    }\n",
              "\n",
              "    .dataframe thead th {\n",
              "        text-align: right;\n",
              "    }\n",
              "</style>\n",
              "<table border=\"1\" class=\"dataframe\">\n",
              "  <thead>\n",
              "    <tr style=\"text-align: right;\">\n",
              "      <th></th>\n",
              "      <th>no of members</th>\n",
              "      <th>no of living children</th>\n",
              "      <th>index to birth history</th>\n",
              "      <th>dietary score</th>\n",
              "      <th>H/A</th>\n",
              "      <th>W/A</th>\n",
              "      <th>W/H</th>\n",
              "      <th>Bmi</th>\n",
              "      <th>HAWH</th>\n",
              "      <th>State_Central_India</th>\n",
              "      <th>State_East_India</th>\n",
              "      <th>State_NorthEast_India</th>\n",
              "      <th>State_North_India</th>\n",
              "      <th>State_South_India</th>\n",
              "      <th>State_West_India</th>\n",
              "      <th>Area_Rural</th>\n",
              "      <th>Area_Urban</th>\n",
              "      <th>Religion_Christian</th>\n",
              "      <th>Religion_Hindu</th>\n",
              "      <th>Religion_Muslim</th>\n",
              "      <th>Religion_Others</th>\n",
              "      <th>Religion_Sikh</th>\n",
              "      <th>caste_OBC</th>\n",
              "      <th>caste_Others</th>\n",
              "      <th>caste_SC</th>\n",
              "      <th>caste_ST</th>\n",
              "      <th>mothers education_Higher education</th>\n",
              "      <th>mothers education_No education</th>\n",
              "      <th>mothers education_Primary education</th>\n",
              "      <th>mothers education_Secondary education</th>\n",
              "      <th>source of water_Improved</th>\n",
              "      <th>source of water_Unimproved</th>\n",
              "      <th>toilet facility_Improved</th>\n",
              "      <th>toilet facility_Unimproved</th>\n",
              "      <th>mothers age(at first birth)_20-29</th>\n",
              "      <th>mothers age(at first birth)_30-39</th>\n",
              "      <th>mothers age(at first birth)_40 or above</th>\n",
              "      <th>mothers age(at first birth)_&lt;20</th>\n",
              "      <th>sex of household head_Female</th>\n",
              "      <th>sex of household head_Male</th>\n",
              "      <th>wealth index_Middle</th>\n",
              "      <th>wealth index_Poorer</th>\n",
              "      <th>wealth index_Poorest</th>\n",
              "      <th>wealth index_Richer</th>\n",
              "      <th>wealth index_Richest</th>\n",
              "      <th>initiaion of bf_Early Initiation</th>\n",
              "      <th>initiaion of bf_Late Initiation</th>\n",
              "      <th>sex of child_Female</th>\n",
              "      <th>sex of child_Male</th>\n",
              "      <th>months of bf_&lt;24</th>\n",
              "      <th>months of bf_&gt;24</th>\n",
              "      <th>mothers bmi_healthy</th>\n",
              "      <th>mothers bmi_overweight</th>\n",
              "      <th>mothers bmi_underweight</th>\n",
              "      <th>child's age_12-18</th>\n",
              "      <th>child's age_18-24</th>\n",
              "      <th>child's age_24-36</th>\n",
              "      <th>child's age_36-48</th>\n",
              "      <th>child's age_48-60</th>\n",
              "      <th>child's age_6-</th>\n",
              "      <th>child's age_6-12</th>\n",
              "      <th>birth weight_2.5+</th>\n",
              "      <th>birth weight_2.5-</th>\n",
              "      <th>birth weight_not weighed at birth</th>\n",
              "      <th>history of illness_No</th>\n",
              "      <th>history of illness_Yes</th>\n",
              "      <th>Exposure to mass media_No</th>\n",
              "      <th>Exposure to mass media_Yes</th>\n",
              "      <th>immunization_fully immunized</th>\n",
              "      <th>immunization_partially immunized</th>\n",
              "      <th>immunization_unimmunized</th>\n",
              "    </tr>\n",
              "  </thead>\n",
              "  <tbody>\n",
              "    <tr>\n",
              "      <th>0</th>\n",
              "      <td>4</td>\n",
              "      <td>1</td>\n",
              "      <td>1</td>\n",
              "      <td>0</td>\n",
              "      <td>0</td>\n",
              "      <td>0</td>\n",
              "      <td>0</td>\n",
              "      <td>0</td>\n",
              "      <td>0</td>\n",
              "      <td>0</td>\n",
              "      <td>1</td>\n",
              "      <td>0</td>\n",
              "      <td>0</td>\n",
              "      <td>0</td>\n",
              "      <td>0</td>\n",
              "      <td>0</td>\n",
              "      <td>1</td>\n",
              "      <td>0</td>\n",
              "      <td>1</td>\n",
              "      <td>0</td>\n",
              "      <td>0</td>\n",
              "      <td>0</td>\n",
              "      <td>0</td>\n",
              "      <td>1</td>\n",
              "      <td>0</td>\n",
              "      <td>0</td>\n",
              "      <td>0</td>\n",
              "      <td>0</td>\n",
              "      <td>0</td>\n",
              "      <td>1</td>\n",
              "      <td>1</td>\n",
              "      <td>0</td>\n",
              "      <td>1</td>\n",
              "      <td>0</td>\n",
              "      <td>1</td>\n",
              "      <td>0</td>\n",
              "      <td>0</td>\n",
              "      <td>0</td>\n",
              "      <td>0</td>\n",
              "      <td>1</td>\n",
              "      <td>0</td>\n",
              "      <td>0</td>\n",
              "      <td>0</td>\n",
              "      <td>1</td>\n",
              "      <td>0</td>\n",
              "      <td>1</td>\n",
              "      <td>0</td>\n",
              "      <td>1</td>\n",
              "      <td>0</td>\n",
              "      <td>0</td>\n",
              "      <td>1</td>\n",
              "      <td>1</td>\n",
              "      <td>0</td>\n",
              "      <td>0</td>\n",
              "      <td>0</td>\n",
              "      <td>0</td>\n",
              "      <td>0</td>\n",
              "      <td>0</td>\n",
              "      <td>1</td>\n",
              "      <td>0</td>\n",
              "      <td>0</td>\n",
              "      <td>1</td>\n",
              "      <td>0</td>\n",
              "      <td>0</td>\n",
              "      <td>0</td>\n",
              "      <td>1</td>\n",
              "      <td>0</td>\n",
              "      <td>1</td>\n",
              "      <td>1</td>\n",
              "      <td>0</td>\n",
              "      <td>0</td>\n",
              "    </tr>\n",
              "    <tr>\n",
              "      <th>1</th>\n",
              "      <td>3</td>\n",
              "      <td>1</td>\n",
              "      <td>1</td>\n",
              "      <td>0</td>\n",
              "      <td>0</td>\n",
              "      <td>0</td>\n",
              "      <td>0</td>\n",
              "      <td>0</td>\n",
              "      <td>0</td>\n",
              "      <td>0</td>\n",
              "      <td>1</td>\n",
              "      <td>0</td>\n",
              "      <td>0</td>\n",
              "      <td>0</td>\n",
              "      <td>0</td>\n",
              "      <td>0</td>\n",
              "      <td>1</td>\n",
              "      <td>0</td>\n",
              "      <td>1</td>\n",
              "      <td>0</td>\n",
              "      <td>0</td>\n",
              "      <td>0</td>\n",
              "      <td>1</td>\n",
              "      <td>0</td>\n",
              "      <td>0</td>\n",
              "      <td>0</td>\n",
              "      <td>1</td>\n",
              "      <td>0</td>\n",
              "      <td>0</td>\n",
              "      <td>0</td>\n",
              "      <td>1</td>\n",
              "      <td>0</td>\n",
              "      <td>1</td>\n",
              "      <td>0</td>\n",
              "      <td>1</td>\n",
              "      <td>0</td>\n",
              "      <td>0</td>\n",
              "      <td>0</td>\n",
              "      <td>0</td>\n",
              "      <td>1</td>\n",
              "      <td>0</td>\n",
              "      <td>0</td>\n",
              "      <td>0</td>\n",
              "      <td>1</td>\n",
              "      <td>0</td>\n",
              "      <td>0</td>\n",
              "      <td>1</td>\n",
              "      <td>1</td>\n",
              "      <td>0</td>\n",
              "      <td>1</td>\n",
              "      <td>0</td>\n",
              "      <td>0</td>\n",
              "      <td>1</td>\n",
              "      <td>0</td>\n",
              "      <td>0</td>\n",
              "      <td>0</td>\n",
              "      <td>1</td>\n",
              "      <td>0</td>\n",
              "      <td>0</td>\n",
              "      <td>0</td>\n",
              "      <td>0</td>\n",
              "      <td>1</td>\n",
              "      <td>0</td>\n",
              "      <td>0</td>\n",
              "      <td>1</td>\n",
              "      <td>0</td>\n",
              "      <td>0</td>\n",
              "      <td>1</td>\n",
              "      <td>1</td>\n",
              "      <td>0</td>\n",
              "      <td>0</td>\n",
              "    </tr>\n",
              "    <tr>\n",
              "      <th>2</th>\n",
              "      <td>6</td>\n",
              "      <td>2</td>\n",
              "      <td>1</td>\n",
              "      <td>4</td>\n",
              "      <td>0</td>\n",
              "      <td>0</td>\n",
              "      <td>0</td>\n",
              "      <td>0</td>\n",
              "      <td>0</td>\n",
              "      <td>0</td>\n",
              "      <td>1</td>\n",
              "      <td>0</td>\n",
              "      <td>0</td>\n",
              "      <td>0</td>\n",
              "      <td>0</td>\n",
              "      <td>1</td>\n",
              "      <td>0</td>\n",
              "      <td>1</td>\n",
              "      <td>0</td>\n",
              "      <td>0</td>\n",
              "      <td>0</td>\n",
              "      <td>0</td>\n",
              "      <td>0</td>\n",
              "      <td>0</td>\n",
              "      <td>0</td>\n",
              "      <td>1</td>\n",
              "      <td>0</td>\n",
              "      <td>0</td>\n",
              "      <td>0</td>\n",
              "      <td>1</td>\n",
              "      <td>1</td>\n",
              "      <td>0</td>\n",
              "      <td>1</td>\n",
              "      <td>0</td>\n",
              "      <td>1</td>\n",
              "      <td>0</td>\n",
              "      <td>0</td>\n",
              "      <td>0</td>\n",
              "      <td>0</td>\n",
              "      <td>1</td>\n",
              "      <td>1</td>\n",
              "      <td>0</td>\n",
              "      <td>0</td>\n",
              "      <td>0</td>\n",
              "      <td>0</td>\n",
              "      <td>1</td>\n",
              "      <td>0</td>\n",
              "      <td>1</td>\n",
              "      <td>0</td>\n",
              "      <td>1</td>\n",
              "      <td>0</td>\n",
              "      <td>1</td>\n",
              "      <td>0</td>\n",
              "      <td>0</td>\n",
              "      <td>0</td>\n",
              "      <td>0</td>\n",
              "      <td>0</td>\n",
              "      <td>0</td>\n",
              "      <td>0</td>\n",
              "      <td>1</td>\n",
              "      <td>0</td>\n",
              "      <td>1</td>\n",
              "      <td>0</td>\n",
              "      <td>0</td>\n",
              "      <td>1</td>\n",
              "      <td>0</td>\n",
              "      <td>0</td>\n",
              "      <td>1</td>\n",
              "      <td>0</td>\n",
              "      <td>0</td>\n",
              "      <td>1</td>\n",
              "    </tr>\n",
              "    <tr>\n",
              "      <th>3</th>\n",
              "      <td>6</td>\n",
              "      <td>3</td>\n",
              "      <td>1</td>\n",
              "      <td>3</td>\n",
              "      <td>0</td>\n",
              "      <td>0</td>\n",
              "      <td>0</td>\n",
              "      <td>0</td>\n",
              "      <td>0</td>\n",
              "      <td>0</td>\n",
              "      <td>1</td>\n",
              "      <td>0</td>\n",
              "      <td>0</td>\n",
              "      <td>0</td>\n",
              "      <td>0</td>\n",
              "      <td>1</td>\n",
              "      <td>0</td>\n",
              "      <td>1</td>\n",
              "      <td>0</td>\n",
              "      <td>0</td>\n",
              "      <td>0</td>\n",
              "      <td>0</td>\n",
              "      <td>0</td>\n",
              "      <td>0</td>\n",
              "      <td>0</td>\n",
              "      <td>1</td>\n",
              "      <td>0</td>\n",
              "      <td>0</td>\n",
              "      <td>0</td>\n",
              "      <td>1</td>\n",
              "      <td>1</td>\n",
              "      <td>0</td>\n",
              "      <td>1</td>\n",
              "      <td>0</td>\n",
              "      <td>1</td>\n",
              "      <td>0</td>\n",
              "      <td>0</td>\n",
              "      <td>0</td>\n",
              "      <td>0</td>\n",
              "      <td>1</td>\n",
              "      <td>0</td>\n",
              "      <td>0</td>\n",
              "      <td>0</td>\n",
              "      <td>0</td>\n",
              "      <td>1</td>\n",
              "      <td>1</td>\n",
              "      <td>0</td>\n",
              "      <td>0</td>\n",
              "      <td>1</td>\n",
              "      <td>1</td>\n",
              "      <td>0</td>\n",
              "      <td>1</td>\n",
              "      <td>0</td>\n",
              "      <td>0</td>\n",
              "      <td>0</td>\n",
              "      <td>0</td>\n",
              "      <td>0</td>\n",
              "      <td>0</td>\n",
              "      <td>0</td>\n",
              "      <td>0</td>\n",
              "      <td>1</td>\n",
              "      <td>1</td>\n",
              "      <td>0</td>\n",
              "      <td>0</td>\n",
              "      <td>1</td>\n",
              "      <td>0</td>\n",
              "      <td>0</td>\n",
              "      <td>1</td>\n",
              "      <td>0</td>\n",
              "      <td>0</td>\n",
              "      <td>1</td>\n",
              "    </tr>\n",
              "    <tr>\n",
              "      <th>4</th>\n",
              "      <td>5</td>\n",
              "      <td>2</td>\n",
              "      <td>1</td>\n",
              "      <td>0</td>\n",
              "      <td>0</td>\n",
              "      <td>0</td>\n",
              "      <td>0</td>\n",
              "      <td>0</td>\n",
              "      <td>0</td>\n",
              "      <td>0</td>\n",
              "      <td>1</td>\n",
              "      <td>0</td>\n",
              "      <td>0</td>\n",
              "      <td>0</td>\n",
              "      <td>0</td>\n",
              "      <td>1</td>\n",
              "      <td>0</td>\n",
              "      <td>1</td>\n",
              "      <td>0</td>\n",
              "      <td>0</td>\n",
              "      <td>0</td>\n",
              "      <td>0</td>\n",
              "      <td>0</td>\n",
              "      <td>0</td>\n",
              "      <td>0</td>\n",
              "      <td>1</td>\n",
              "      <td>0</td>\n",
              "      <td>0</td>\n",
              "      <td>0</td>\n",
              "      <td>1</td>\n",
              "      <td>1</td>\n",
              "      <td>0</td>\n",
              "      <td>1</td>\n",
              "      <td>0</td>\n",
              "      <td>1</td>\n",
              "      <td>0</td>\n",
              "      <td>0</td>\n",
              "      <td>0</td>\n",
              "      <td>1</td>\n",
              "      <td>0</td>\n",
              "      <td>1</td>\n",
              "      <td>0</td>\n",
              "      <td>0</td>\n",
              "      <td>0</td>\n",
              "      <td>0</td>\n",
              "      <td>1</td>\n",
              "      <td>0</td>\n",
              "      <td>1</td>\n",
              "      <td>0</td>\n",
              "      <td>1</td>\n",
              "      <td>0</td>\n",
              "      <td>1</td>\n",
              "      <td>0</td>\n",
              "      <td>0</td>\n",
              "      <td>0</td>\n",
              "      <td>0</td>\n",
              "      <td>1</td>\n",
              "      <td>0</td>\n",
              "      <td>0</td>\n",
              "      <td>0</td>\n",
              "      <td>0</td>\n",
              "      <td>1</td>\n",
              "      <td>0</td>\n",
              "      <td>0</td>\n",
              "      <td>1</td>\n",
              "      <td>0</td>\n",
              "      <td>0</td>\n",
              "      <td>1</td>\n",
              "      <td>0</td>\n",
              "      <td>0</td>\n",
              "      <td>1</td>\n",
              "    </tr>\n",
              "    <tr>\n",
              "      <th>...</th>\n",
              "      <td>...</td>\n",
              "      <td>...</td>\n",
              "      <td>...</td>\n",
              "      <td>...</td>\n",
              "      <td>...</td>\n",
              "      <td>...</td>\n",
              "      <td>...</td>\n",
              "      <td>...</td>\n",
              "      <td>...</td>\n",
              "      <td>...</td>\n",
              "      <td>...</td>\n",
              "      <td>...</td>\n",
              "      <td>...</td>\n",
              "      <td>...</td>\n",
              "      <td>...</td>\n",
              "      <td>...</td>\n",
              "      <td>...</td>\n",
              "      <td>...</td>\n",
              "      <td>...</td>\n",
              "      <td>...</td>\n",
              "      <td>...</td>\n",
              "      <td>...</td>\n",
              "      <td>...</td>\n",
              "      <td>...</td>\n",
              "      <td>...</td>\n",
              "      <td>...</td>\n",
              "      <td>...</td>\n",
              "      <td>...</td>\n",
              "      <td>...</td>\n",
              "      <td>...</td>\n",
              "      <td>...</td>\n",
              "      <td>...</td>\n",
              "      <td>...</td>\n",
              "      <td>...</td>\n",
              "      <td>...</td>\n",
              "      <td>...</td>\n",
              "      <td>...</td>\n",
              "      <td>...</td>\n",
              "      <td>...</td>\n",
              "      <td>...</td>\n",
              "      <td>...</td>\n",
              "      <td>...</td>\n",
              "      <td>...</td>\n",
              "      <td>...</td>\n",
              "      <td>...</td>\n",
              "      <td>...</td>\n",
              "      <td>...</td>\n",
              "      <td>...</td>\n",
              "      <td>...</td>\n",
              "      <td>...</td>\n",
              "      <td>...</td>\n",
              "      <td>...</td>\n",
              "      <td>...</td>\n",
              "      <td>...</td>\n",
              "      <td>...</td>\n",
              "      <td>...</td>\n",
              "      <td>...</td>\n",
              "      <td>...</td>\n",
              "      <td>...</td>\n",
              "      <td>...</td>\n",
              "      <td>...</td>\n",
              "      <td>...</td>\n",
              "      <td>...</td>\n",
              "      <td>...</td>\n",
              "      <td>...</td>\n",
              "      <td>...</td>\n",
              "      <td>...</td>\n",
              "      <td>...</td>\n",
              "      <td>...</td>\n",
              "      <td>...</td>\n",
              "      <td>...</td>\n",
              "    </tr>\n",
              "    <tr>\n",
              "      <th>172617</th>\n",
              "      <td>4</td>\n",
              "      <td>1</td>\n",
              "      <td>1</td>\n",
              "      <td>0</td>\n",
              "      <td>0</td>\n",
              "      <td>0</td>\n",
              "      <td>0</td>\n",
              "      <td>0</td>\n",
              "      <td>0</td>\n",
              "      <td>0</td>\n",
              "      <td>0</td>\n",
              "      <td>0</td>\n",
              "      <td>0</td>\n",
              "      <td>1</td>\n",
              "      <td>0</td>\n",
              "      <td>0</td>\n",
              "      <td>1</td>\n",
              "      <td>0</td>\n",
              "      <td>1</td>\n",
              "      <td>0</td>\n",
              "      <td>0</td>\n",
              "      <td>0</td>\n",
              "      <td>1</td>\n",
              "      <td>0</td>\n",
              "      <td>0</td>\n",
              "      <td>0</td>\n",
              "      <td>1</td>\n",
              "      <td>0</td>\n",
              "      <td>0</td>\n",
              "      <td>0</td>\n",
              "      <td>1</td>\n",
              "      <td>0</td>\n",
              "      <td>1</td>\n",
              "      <td>0</td>\n",
              "      <td>1</td>\n",
              "      <td>0</td>\n",
              "      <td>0</td>\n",
              "      <td>0</td>\n",
              "      <td>0</td>\n",
              "      <td>1</td>\n",
              "      <td>0</td>\n",
              "      <td>0</td>\n",
              "      <td>0</td>\n",
              "      <td>0</td>\n",
              "      <td>1</td>\n",
              "      <td>1</td>\n",
              "      <td>0</td>\n",
              "      <td>1</td>\n",
              "      <td>0</td>\n",
              "      <td>1</td>\n",
              "      <td>0</td>\n",
              "      <td>0</td>\n",
              "      <td>1</td>\n",
              "      <td>0</td>\n",
              "      <td>0</td>\n",
              "      <td>0</td>\n",
              "      <td>1</td>\n",
              "      <td>0</td>\n",
              "      <td>0</td>\n",
              "      <td>0</td>\n",
              "      <td>0</td>\n",
              "      <td>1</td>\n",
              "      <td>0</td>\n",
              "      <td>0</td>\n",
              "      <td>1</td>\n",
              "      <td>0</td>\n",
              "      <td>0</td>\n",
              "      <td>1</td>\n",
              "      <td>1</td>\n",
              "      <td>0</td>\n",
              "      <td>0</td>\n",
              "    </tr>\n",
              "    <tr>\n",
              "      <th>172618</th>\n",
              "      <td>4</td>\n",
              "      <td>2</td>\n",
              "      <td>1</td>\n",
              "      <td>0</td>\n",
              "      <td>0</td>\n",
              "      <td>0</td>\n",
              "      <td>0</td>\n",
              "      <td>0</td>\n",
              "      <td>0</td>\n",
              "      <td>0</td>\n",
              "      <td>0</td>\n",
              "      <td>0</td>\n",
              "      <td>0</td>\n",
              "      <td>1</td>\n",
              "      <td>0</td>\n",
              "      <td>0</td>\n",
              "      <td>1</td>\n",
              "      <td>0</td>\n",
              "      <td>1</td>\n",
              "      <td>0</td>\n",
              "      <td>0</td>\n",
              "      <td>0</td>\n",
              "      <td>1</td>\n",
              "      <td>0</td>\n",
              "      <td>0</td>\n",
              "      <td>0</td>\n",
              "      <td>0</td>\n",
              "      <td>0</td>\n",
              "      <td>0</td>\n",
              "      <td>1</td>\n",
              "      <td>1</td>\n",
              "      <td>0</td>\n",
              "      <td>1</td>\n",
              "      <td>0</td>\n",
              "      <td>0</td>\n",
              "      <td>0</td>\n",
              "      <td>0</td>\n",
              "      <td>1</td>\n",
              "      <td>0</td>\n",
              "      <td>1</td>\n",
              "      <td>0</td>\n",
              "      <td>0</td>\n",
              "      <td>0</td>\n",
              "      <td>0</td>\n",
              "      <td>1</td>\n",
              "      <td>1</td>\n",
              "      <td>0</td>\n",
              "      <td>1</td>\n",
              "      <td>0</td>\n",
              "      <td>1</td>\n",
              "      <td>0</td>\n",
              "      <td>0</td>\n",
              "      <td>1</td>\n",
              "      <td>0</td>\n",
              "      <td>0</td>\n",
              "      <td>0</td>\n",
              "      <td>0</td>\n",
              "      <td>0</td>\n",
              "      <td>1</td>\n",
              "      <td>0</td>\n",
              "      <td>0</td>\n",
              "      <td>1</td>\n",
              "      <td>0</td>\n",
              "      <td>0</td>\n",
              "      <td>1</td>\n",
              "      <td>0</td>\n",
              "      <td>0</td>\n",
              "      <td>1</td>\n",
              "      <td>1</td>\n",
              "      <td>0</td>\n",
              "      <td>0</td>\n",
              "    </tr>\n",
              "    <tr>\n",
              "      <th>172619</th>\n",
              "      <td>3</td>\n",
              "      <td>1</td>\n",
              "      <td>1</td>\n",
              "      <td>1</td>\n",
              "      <td>0</td>\n",
              "      <td>0</td>\n",
              "      <td>0</td>\n",
              "      <td>0</td>\n",
              "      <td>0</td>\n",
              "      <td>0</td>\n",
              "      <td>0</td>\n",
              "      <td>0</td>\n",
              "      <td>0</td>\n",
              "      <td>1</td>\n",
              "      <td>0</td>\n",
              "      <td>1</td>\n",
              "      <td>0</td>\n",
              "      <td>0</td>\n",
              "      <td>1</td>\n",
              "      <td>0</td>\n",
              "      <td>0</td>\n",
              "      <td>0</td>\n",
              "      <td>1</td>\n",
              "      <td>0</td>\n",
              "      <td>0</td>\n",
              "      <td>0</td>\n",
              "      <td>0</td>\n",
              "      <td>0</td>\n",
              "      <td>0</td>\n",
              "      <td>1</td>\n",
              "      <td>1</td>\n",
              "      <td>0</td>\n",
              "      <td>1</td>\n",
              "      <td>0</td>\n",
              "      <td>0</td>\n",
              "      <td>0</td>\n",
              "      <td>0</td>\n",
              "      <td>1</td>\n",
              "      <td>0</td>\n",
              "      <td>1</td>\n",
              "      <td>1</td>\n",
              "      <td>0</td>\n",
              "      <td>0</td>\n",
              "      <td>0</td>\n",
              "      <td>0</td>\n",
              "      <td>0</td>\n",
              "      <td>1</td>\n",
              "      <td>0</td>\n",
              "      <td>1</td>\n",
              "      <td>1</td>\n",
              "      <td>0</td>\n",
              "      <td>0</td>\n",
              "      <td>0</td>\n",
              "      <td>1</td>\n",
              "      <td>0</td>\n",
              "      <td>0</td>\n",
              "      <td>0</td>\n",
              "      <td>0</td>\n",
              "      <td>0</td>\n",
              "      <td>0</td>\n",
              "      <td>1</td>\n",
              "      <td>1</td>\n",
              "      <td>0</td>\n",
              "      <td>0</td>\n",
              "      <td>0</td>\n",
              "      <td>1</td>\n",
              "      <td>0</td>\n",
              "      <td>1</td>\n",
              "      <td>0</td>\n",
              "      <td>1</td>\n",
              "      <td>0</td>\n",
              "    </tr>\n",
              "    <tr>\n",
              "      <th>172620</th>\n",
              "      <td>8</td>\n",
              "      <td>1</td>\n",
              "      <td>1</td>\n",
              "      <td>0</td>\n",
              "      <td>0</td>\n",
              "      <td>1</td>\n",
              "      <td>1</td>\n",
              "      <td>1</td>\n",
              "      <td>0</td>\n",
              "      <td>0</td>\n",
              "      <td>0</td>\n",
              "      <td>0</td>\n",
              "      <td>0</td>\n",
              "      <td>1</td>\n",
              "      <td>0</td>\n",
              "      <td>1</td>\n",
              "      <td>0</td>\n",
              "      <td>0</td>\n",
              "      <td>1</td>\n",
              "      <td>0</td>\n",
              "      <td>0</td>\n",
              "      <td>0</td>\n",
              "      <td>1</td>\n",
              "      <td>0</td>\n",
              "      <td>0</td>\n",
              "      <td>0</td>\n",
              "      <td>0</td>\n",
              "      <td>0</td>\n",
              "      <td>0</td>\n",
              "      <td>1</td>\n",
              "      <td>0</td>\n",
              "      <td>1</td>\n",
              "      <td>0</td>\n",
              "      <td>1</td>\n",
              "      <td>0</td>\n",
              "      <td>0</td>\n",
              "      <td>0</td>\n",
              "      <td>1</td>\n",
              "      <td>0</td>\n",
              "      <td>1</td>\n",
              "      <td>0</td>\n",
              "      <td>0</td>\n",
              "      <td>0</td>\n",
              "      <td>1</td>\n",
              "      <td>0</td>\n",
              "      <td>0</td>\n",
              "      <td>1</td>\n",
              "      <td>0</td>\n",
              "      <td>1</td>\n",
              "      <td>1</td>\n",
              "      <td>0</td>\n",
              "      <td>1</td>\n",
              "      <td>0</td>\n",
              "      <td>0</td>\n",
              "      <td>0</td>\n",
              "      <td>0</td>\n",
              "      <td>0</td>\n",
              "      <td>0</td>\n",
              "      <td>0</td>\n",
              "      <td>1</td>\n",
              "      <td>0</td>\n",
              "      <td>0</td>\n",
              "      <td>1</td>\n",
              "      <td>0</td>\n",
              "      <td>1</td>\n",
              "      <td>0</td>\n",
              "      <td>0</td>\n",
              "      <td>1</td>\n",
              "      <td>0</td>\n",
              "      <td>1</td>\n",
              "      <td>0</td>\n",
              "    </tr>\n",
              "    <tr>\n",
              "      <th>172621</th>\n",
              "      <td>4</td>\n",
              "      <td>2</td>\n",
              "      <td>1</td>\n",
              "      <td>0</td>\n",
              "      <td>0</td>\n",
              "      <td>0</td>\n",
              "      <td>0</td>\n",
              "      <td>0</td>\n",
              "      <td>0</td>\n",
              "      <td>0</td>\n",
              "      <td>0</td>\n",
              "      <td>0</td>\n",
              "      <td>0</td>\n",
              "      <td>1</td>\n",
              "      <td>0</td>\n",
              "      <td>1</td>\n",
              "      <td>0</td>\n",
              "      <td>0</td>\n",
              "      <td>1</td>\n",
              "      <td>0</td>\n",
              "      <td>0</td>\n",
              "      <td>0</td>\n",
              "      <td>0</td>\n",
              "      <td>1</td>\n",
              "      <td>0</td>\n",
              "      <td>0</td>\n",
              "      <td>0</td>\n",
              "      <td>0</td>\n",
              "      <td>0</td>\n",
              "      <td>1</td>\n",
              "      <td>1</td>\n",
              "      <td>0</td>\n",
              "      <td>1</td>\n",
              "      <td>0</td>\n",
              "      <td>1</td>\n",
              "      <td>0</td>\n",
              "      <td>0</td>\n",
              "      <td>0</td>\n",
              "      <td>0</td>\n",
              "      <td>1</td>\n",
              "      <td>0</td>\n",
              "      <td>0</td>\n",
              "      <td>0</td>\n",
              "      <td>1</td>\n",
              "      <td>0</td>\n",
              "      <td>1</td>\n",
              "      <td>0</td>\n",
              "      <td>0</td>\n",
              "      <td>1</td>\n",
              "      <td>1</td>\n",
              "      <td>0</td>\n",
              "      <td>1</td>\n",
              "      <td>0</td>\n",
              "      <td>0</td>\n",
              "      <td>0</td>\n",
              "      <td>0</td>\n",
              "      <td>1</td>\n",
              "      <td>0</td>\n",
              "      <td>0</td>\n",
              "      <td>0</td>\n",
              "      <td>0</td>\n",
              "      <td>1</td>\n",
              "      <td>0</td>\n",
              "      <td>0</td>\n",
              "      <td>1</td>\n",
              "      <td>0</td>\n",
              "      <td>0</td>\n",
              "      <td>1</td>\n",
              "      <td>1</td>\n",
              "      <td>0</td>\n",
              "      <td>0</td>\n",
              "    </tr>\n",
              "  </tbody>\n",
              "</table>\n",
              "<p>172622 rows × 71 columns</p>\n",
              "</div>"
            ],
            "text/plain": [
              "        no of members  ...  immunization_unimmunized\n",
              "0                   4  ...                         0\n",
              "1                   3  ...                         0\n",
              "2                   6  ...                         1\n",
              "3                   6  ...                         1\n",
              "4                   5  ...                         1\n",
              "...               ...  ...                       ...\n",
              "172617              4  ...                         0\n",
              "172618              4  ...                         0\n",
              "172619              3  ...                         0\n",
              "172620              8  ...                         0\n",
              "172621              4  ...                         0\n",
              "\n",
              "[172622 rows x 71 columns]"
            ]
          },
          "execution_count": 19,
          "metadata": {},
          "output_type": "execute_result"
        }
      ],
      "source": [
        "dfd"
      ]
    },
    {
      "cell_type": "markdown",
      "metadata": {
        "id": "MQ-7Znzizo-h"
      },
      "source": [
        "### dfh"
      ]
    },
    {
      "cell_type": "code",
      "execution_count": null,
      "metadata": {
        "id": "YY99ct7Izr0I"
      },
      "outputs": [],
      "source": [
        "dfh = pd.DataFrame()"
      ]
    },
    {
      "cell_type": "code",
      "execution_count": null,
      "metadata": {
        "colab": {
          "base_uri": "https://localhost:8080/",
          "height": 596
        },
        "id": "cIPXv_9c6ENi",
        "outputId": "e7a5772d-ad49-48c5-c64e-f72572b9c037"
      },
      "outputs": [
        {
          "ename": "KeyError",
          "evalue": "ignored",
          "output_type": "error",
          "traceback": [
            "\u001b[0;31m---------------------------------------------------------------------------\u001b[0m",
            "\u001b[0;31mKeyError\u001b[0m                                  Traceback (most recent call last)",
            "\u001b[0;32m/usr/local/lib/python3.7/dist-packages/pandas/core/indexes/base.py\u001b[0m in \u001b[0;36mget_loc\u001b[0;34m(self, key, method, tolerance)\u001b[0m\n\u001b[1;32m   2897\u001b[0m             \u001b[0;32mtry\u001b[0m\u001b[0;34m:\u001b[0m\u001b[0;34m\u001b[0m\u001b[0;34m\u001b[0m\u001b[0m\n\u001b[0;32m-> 2898\u001b[0;31m                 \u001b[0;32mreturn\u001b[0m \u001b[0mself\u001b[0m\u001b[0;34m.\u001b[0m\u001b[0m_engine\u001b[0m\u001b[0;34m.\u001b[0m\u001b[0mget_loc\u001b[0m\u001b[0;34m(\u001b[0m\u001b[0mcasted_key\u001b[0m\u001b[0;34m)\u001b[0m\u001b[0;34m\u001b[0m\u001b[0;34m\u001b[0m\u001b[0m\n\u001b[0m\u001b[1;32m   2899\u001b[0m             \u001b[0;32mexcept\u001b[0m \u001b[0mKeyError\u001b[0m \u001b[0;32mas\u001b[0m \u001b[0merr\u001b[0m\u001b[0;34m:\u001b[0m\u001b[0;34m\u001b[0m\u001b[0;34m\u001b[0m\u001b[0m\n",
            "\u001b[0;32mpandas/_libs/index.pyx\u001b[0m in \u001b[0;36mpandas._libs.index.IndexEngine.get_loc\u001b[0;34m()\u001b[0m\n",
            "\u001b[0;32mpandas/_libs/index.pyx\u001b[0m in \u001b[0;36mpandas._libs.index.IndexEngine.get_loc\u001b[0;34m()\u001b[0m\n",
            "\u001b[0;32mpandas/_libs/hashtable_class_helper.pxi\u001b[0m in \u001b[0;36mpandas._libs.hashtable.PyObjectHashTable.get_item\u001b[0;34m()\u001b[0m\n",
            "\u001b[0;32mpandas/_libs/hashtable_class_helper.pxi\u001b[0m in \u001b[0;36mpandas._libs.hashtable.PyObjectHashTable.get_item\u001b[0;34m()\u001b[0m\n",
            "\u001b[0;31mKeyError\u001b[0m: \"mother's age\"",
            "\nThe above exception was the direct cause of the following exception:\n",
            "\u001b[0;31mKeyError\u001b[0m                                  Traceback (most recent call last)",
            "\u001b[0;32m<ipython-input-24-73a05057aa5e>\u001b[0m in \u001b[0;36m<module>\u001b[0;34m()\u001b[0m\n\u001b[1;32m      3\u001b[0m \u001b[0mdfh\u001b[0m\u001b[0;34m[\u001b[0m\u001b[0;34m'mothers education'\u001b[0m\u001b[0;34m]\u001b[0m\u001b[0;34m=\u001b[0m \u001b[0mdf\u001b[0m\u001b[0;34m[\u001b[0m\u001b[0;34m'mothers education'\u001b[0m\u001b[0;34m]\u001b[0m\u001b[0;34m\u001b[0m\u001b[0;34m\u001b[0m\u001b[0m\n\u001b[1;32m      4\u001b[0m \u001b[0;31m# dfh['mother\\'s occupation']= df['mother\\'s occupation']\u001b[0m\u001b[0;34m\u001b[0m\u001b[0;34m\u001b[0m\u001b[0;34m\u001b[0m\u001b[0m\n\u001b[0;32m----> 5\u001b[0;31m \u001b[0mdfh\u001b[0m\u001b[0;34m[\u001b[0m\u001b[0;34m'mother\\'s age'\u001b[0m\u001b[0;34m]\u001b[0m\u001b[0;34m=\u001b[0m \u001b[0mdf\u001b[0m\u001b[0;34m[\u001b[0m\u001b[0;34m'mother\\'s age'\u001b[0m\u001b[0;34m]\u001b[0m\u001b[0;34m\u001b[0m\u001b[0;34m\u001b[0m\u001b[0m\n\u001b[0m\u001b[1;32m      6\u001b[0m \u001b[0mdfh\u001b[0m\u001b[0;34m[\u001b[0m\u001b[0;34m'mother\\'s bmi'\u001b[0m\u001b[0;34m]\u001b[0m\u001b[0;34m=\u001b[0m \u001b[0mdf\u001b[0m\u001b[0;34m[\u001b[0m\u001b[0;34m'mother\\'s bmi'\u001b[0m\u001b[0;34m]\u001b[0m\u001b[0;34m\u001b[0m\u001b[0;34m\u001b[0m\u001b[0m\n\u001b[1;32m      7\u001b[0m \u001b[0mdfh\u001b[0m\u001b[0;34m[\u001b[0m\u001b[0;34m'child\\'s age'\u001b[0m\u001b[0;34m]\u001b[0m\u001b[0;34m=\u001b[0m \u001b[0mdf\u001b[0m\u001b[0;34m[\u001b[0m\u001b[0;34m'child\\'s age'\u001b[0m\u001b[0;34m]\u001b[0m\u001b[0;34m\u001b[0m\u001b[0;34m\u001b[0m\u001b[0m\n",
            "\u001b[0;32m/usr/local/lib/python3.7/dist-packages/pandas/core/frame.py\u001b[0m in \u001b[0;36m__getitem__\u001b[0;34m(self, key)\u001b[0m\n\u001b[1;32m   2904\u001b[0m             \u001b[0;32mif\u001b[0m \u001b[0mself\u001b[0m\u001b[0;34m.\u001b[0m\u001b[0mcolumns\u001b[0m\u001b[0;34m.\u001b[0m\u001b[0mnlevels\u001b[0m \u001b[0;34m>\u001b[0m \u001b[0;36m1\u001b[0m\u001b[0;34m:\u001b[0m\u001b[0;34m\u001b[0m\u001b[0;34m\u001b[0m\u001b[0m\n\u001b[1;32m   2905\u001b[0m                 \u001b[0;32mreturn\u001b[0m \u001b[0mself\u001b[0m\u001b[0;34m.\u001b[0m\u001b[0m_getitem_multilevel\u001b[0m\u001b[0;34m(\u001b[0m\u001b[0mkey\u001b[0m\u001b[0;34m)\u001b[0m\u001b[0;34m\u001b[0m\u001b[0;34m\u001b[0m\u001b[0m\n\u001b[0;32m-> 2906\u001b[0;31m             \u001b[0mindexer\u001b[0m \u001b[0;34m=\u001b[0m \u001b[0mself\u001b[0m\u001b[0;34m.\u001b[0m\u001b[0mcolumns\u001b[0m\u001b[0;34m.\u001b[0m\u001b[0mget_loc\u001b[0m\u001b[0;34m(\u001b[0m\u001b[0mkey\u001b[0m\u001b[0;34m)\u001b[0m\u001b[0;34m\u001b[0m\u001b[0;34m\u001b[0m\u001b[0m\n\u001b[0m\u001b[1;32m   2907\u001b[0m             \u001b[0;32mif\u001b[0m \u001b[0mis_integer\u001b[0m\u001b[0;34m(\u001b[0m\u001b[0mindexer\u001b[0m\u001b[0;34m)\u001b[0m\u001b[0;34m:\u001b[0m\u001b[0;34m\u001b[0m\u001b[0;34m\u001b[0m\u001b[0m\n\u001b[1;32m   2908\u001b[0m                 \u001b[0mindexer\u001b[0m \u001b[0;34m=\u001b[0m \u001b[0;34m[\u001b[0m\u001b[0mindexer\u001b[0m\u001b[0;34m]\u001b[0m\u001b[0;34m\u001b[0m\u001b[0;34m\u001b[0m\u001b[0m\n",
            "\u001b[0;32m/usr/local/lib/python3.7/dist-packages/pandas/core/indexes/base.py\u001b[0m in \u001b[0;36mget_loc\u001b[0;34m(self, key, method, tolerance)\u001b[0m\n\u001b[1;32m   2898\u001b[0m                 \u001b[0;32mreturn\u001b[0m \u001b[0mself\u001b[0m\u001b[0;34m.\u001b[0m\u001b[0m_engine\u001b[0m\u001b[0;34m.\u001b[0m\u001b[0mget_loc\u001b[0m\u001b[0;34m(\u001b[0m\u001b[0mcasted_key\u001b[0m\u001b[0;34m)\u001b[0m\u001b[0;34m\u001b[0m\u001b[0;34m\u001b[0m\u001b[0m\n\u001b[1;32m   2899\u001b[0m             \u001b[0;32mexcept\u001b[0m \u001b[0mKeyError\u001b[0m \u001b[0;32mas\u001b[0m \u001b[0merr\u001b[0m\u001b[0;34m:\u001b[0m\u001b[0;34m\u001b[0m\u001b[0;34m\u001b[0m\u001b[0m\n\u001b[0;32m-> 2900\u001b[0;31m                 \u001b[0;32mraise\u001b[0m \u001b[0mKeyError\u001b[0m\u001b[0;34m(\u001b[0m\u001b[0mkey\u001b[0m\u001b[0;34m)\u001b[0m \u001b[0;32mfrom\u001b[0m \u001b[0merr\u001b[0m\u001b[0;34m\u001b[0m\u001b[0;34m\u001b[0m\u001b[0m\n\u001b[0m\u001b[1;32m   2901\u001b[0m \u001b[0;34m\u001b[0m\u001b[0m\n\u001b[1;32m   2902\u001b[0m         \u001b[0;32mif\u001b[0m \u001b[0mtolerance\u001b[0m \u001b[0;32mis\u001b[0m \u001b[0;32mnot\u001b[0m \u001b[0;32mNone\u001b[0m\u001b[0;34m:\u001b[0m\u001b[0;34m\u001b[0m\u001b[0;34m\u001b[0m\u001b[0m\n",
            "\u001b[0;31mKeyError\u001b[0m: \"mother's age\""
          ]
        }
      ],
      "source": [
        "dfh['State']= df['State']\n",
        "# dfh['father\\'s education']= df['father\\'s education']\n",
        "dfh['mothers education']= df['mothers education']\n",
        "# dfh['mother\\'s occupation']= df['mother\\'s occupation']\n",
        "dfh['mother\\'s age']= df['mother\\'s age']\n",
        "dfh['mother\\'s bmi']= df['mother\\'s bmi']\n",
        "dfh['child\\'s age']= df['child\\'s age']\n",
        "dfh['birth weight']= df['birth weight']\n",
        "dfh['wealth index']= df['wealth index']\n",
        "dfh['months of bf']= df['months of bf']\n",
        "dfh['immunization']= df['immunization']\n",
        "dfh['H/A'] = df['H/A']\n",
        "dfh['W/A'] = df['W/A']\n",
        "dfh['W/H'] = df['W/H']\n",
        "dfh['HAWH'] = df['HAWH']\n",
        "dfh['Bmi'] = df['Bmi']\n",
        "dfh['index to birth history'] = df['index to birth history']\n",
        "dfh['no of living children'] = df['no of living children']\n",
        "dfh['total family members'] = df['total family members']\n",
        "dfh['type of family'] = df['type of family']\n"
      ]
    },
    {
      "cell_type": "code",
      "execution_count": null,
      "metadata": {
        "id": "N88EPXUrkxcR"
      },
      "outputs": [],
      "source": [
        "dfh.to_csv('Dataset_5-6_top15.csv')"
      ]
    },
    {
      "cell_type": "code",
      "execution_count": null,
      "metadata": {
        "id": "Tzd4_WSz6nYC"
      },
      "outputs": [],
      "source": [
        "dfhd = pd.get_dummies(dfh)"
      ]
    },
    {
      "cell_type": "markdown",
      "metadata": {
        "id": "MQTliWWlewb_"
      },
      "source": [
        "## dfch"
      ]
    },
    {
      "cell_type": "code",
      "execution_count": null,
      "metadata": {
        "id": "9dbClz55ezE-"
      },
      "outputs": [],
      "source": [
        "dfch = pd.DataFrame()"
      ]
    },
    {
      "cell_type": "code",
      "execution_count": null,
      "metadata": {
        "colab": {
          "base_uri": "https://localhost:8080/",
          "height": 596
        },
        "id": "CwGx6yb6fugZ",
        "outputId": "3fd53e2a-4347-4b6f-bbb6-190e7c3533ee"
      },
      "outputs": [
        {
          "ename": "KeyError",
          "evalue": "ignored",
          "output_type": "error",
          "traceback": [
            "\u001b[0;31m---------------------------------------------------------------------------\u001b[0m",
            "\u001b[0;31mKeyError\u001b[0m                                  Traceback (most recent call last)",
            "\u001b[0;32m/usr/local/lib/python3.7/dist-packages/pandas/core/indexes/base.py\u001b[0m in \u001b[0;36mget_loc\u001b[0;34m(self, key, method, tolerance)\u001b[0m\n\u001b[1;32m   2897\u001b[0m             \u001b[0;32mtry\u001b[0m\u001b[0;34m:\u001b[0m\u001b[0;34m\u001b[0m\u001b[0;34m\u001b[0m\u001b[0m\n\u001b[0;32m-> 2898\u001b[0;31m                 \u001b[0;32mreturn\u001b[0m \u001b[0mself\u001b[0m\u001b[0;34m.\u001b[0m\u001b[0m_engine\u001b[0m\u001b[0;34m.\u001b[0m\u001b[0mget_loc\u001b[0m\u001b[0;34m(\u001b[0m\u001b[0mcasted_key\u001b[0m\u001b[0;34m)\u001b[0m\u001b[0;34m\u001b[0m\u001b[0;34m\u001b[0m\u001b[0m\n\u001b[0m\u001b[1;32m   2899\u001b[0m             \u001b[0;32mexcept\u001b[0m \u001b[0mKeyError\u001b[0m \u001b[0;32mas\u001b[0m \u001b[0merr\u001b[0m\u001b[0;34m:\u001b[0m\u001b[0;34m\u001b[0m\u001b[0;34m\u001b[0m\u001b[0m\n",
            "\u001b[0;32mpandas/_libs/index.pyx\u001b[0m in \u001b[0;36mpandas._libs.index.IndexEngine.get_loc\u001b[0;34m()\u001b[0m\n",
            "\u001b[0;32mpandas/_libs/index.pyx\u001b[0m in \u001b[0;36mpandas._libs.index.IndexEngine.get_loc\u001b[0;34m()\u001b[0m\n",
            "\u001b[0;32mpandas/_libs/hashtable_class_helper.pxi\u001b[0m in \u001b[0;36mpandas._libs.hashtable.PyObjectHashTable.get_item\u001b[0;34m()\u001b[0m\n",
            "\u001b[0;32mpandas/_libs/hashtable_class_helper.pxi\u001b[0m in \u001b[0;36mpandas._libs.hashtable.PyObjectHashTable.get_item\u001b[0;34m()\u001b[0m\n",
            "\u001b[0;31mKeyError\u001b[0m: 'state'",
            "\nThe above exception was the direct cause of the following exception:\n",
            "\u001b[0;31mKeyError\u001b[0m                                  Traceback (most recent call last)",
            "\u001b[0;32m<ipython-input-26-f4334193586e>\u001b[0m in \u001b[0;36m<module>\u001b[0;34m()\u001b[0m\n\u001b[1;32m      1\u001b[0m \u001b[0mdfch\u001b[0m\u001b[0;34m[\u001b[0m\u001b[0;34m'caste'\u001b[0m\u001b[0;34m]\u001b[0m\u001b[0;34m=\u001b[0m \u001b[0mdf\u001b[0m\u001b[0;34m[\u001b[0m\u001b[0;34m'caste'\u001b[0m\u001b[0;34m]\u001b[0m\u001b[0;34m\u001b[0m\u001b[0;34m\u001b[0m\u001b[0m\n\u001b[0;32m----> 2\u001b[0;31m \u001b[0mdfch\u001b[0m\u001b[0;34m[\u001b[0m\u001b[0;34m'state'\u001b[0m\u001b[0;34m]\u001b[0m\u001b[0;34m=\u001b[0m \u001b[0mdf\u001b[0m\u001b[0;34m[\u001b[0m\u001b[0;34m'state'\u001b[0m\u001b[0;34m]\u001b[0m\u001b[0;34m\u001b[0m\u001b[0;34m\u001b[0m\u001b[0m\n\u001b[0m\u001b[1;32m      3\u001b[0m \u001b[0mdfch\u001b[0m\u001b[0;34m[\u001b[0m\u001b[0;34m'area'\u001b[0m\u001b[0;34m]\u001b[0m\u001b[0;34m=\u001b[0m \u001b[0mdf\u001b[0m\u001b[0;34m[\u001b[0m\u001b[0;34m'area'\u001b[0m\u001b[0;34m]\u001b[0m\u001b[0;34m\u001b[0m\u001b[0;34m\u001b[0m\u001b[0m\n\u001b[1;32m      4\u001b[0m \u001b[0mdfch\u001b[0m\u001b[0;34m[\u001b[0m\u001b[0;34m'father\\'s education'\u001b[0m\u001b[0;34m]\u001b[0m\u001b[0;34m=\u001b[0m \u001b[0mdf\u001b[0m\u001b[0;34m[\u001b[0m\u001b[0;34m'father\\'s education'\u001b[0m\u001b[0;34m]\u001b[0m\u001b[0;34m\u001b[0m\u001b[0;34m\u001b[0m\u001b[0m\n\u001b[1;32m      5\u001b[0m \u001b[0mdfch\u001b[0m\u001b[0;34m[\u001b[0m\u001b[0;34m'father\\'s occupation'\u001b[0m\u001b[0;34m]\u001b[0m\u001b[0;34m=\u001b[0m \u001b[0mdf\u001b[0m\u001b[0;34m[\u001b[0m\u001b[0;34m'father\\'s occupation'\u001b[0m\u001b[0;34m]\u001b[0m\u001b[0;34m\u001b[0m\u001b[0;34m\u001b[0m\u001b[0m\n",
            "\u001b[0;32m/usr/local/lib/python3.7/dist-packages/pandas/core/frame.py\u001b[0m in \u001b[0;36m__getitem__\u001b[0;34m(self, key)\u001b[0m\n\u001b[1;32m   2904\u001b[0m             \u001b[0;32mif\u001b[0m \u001b[0mself\u001b[0m\u001b[0;34m.\u001b[0m\u001b[0mcolumns\u001b[0m\u001b[0;34m.\u001b[0m\u001b[0mnlevels\u001b[0m \u001b[0;34m>\u001b[0m \u001b[0;36m1\u001b[0m\u001b[0;34m:\u001b[0m\u001b[0;34m\u001b[0m\u001b[0;34m\u001b[0m\u001b[0m\n\u001b[1;32m   2905\u001b[0m                 \u001b[0;32mreturn\u001b[0m \u001b[0mself\u001b[0m\u001b[0;34m.\u001b[0m\u001b[0m_getitem_multilevel\u001b[0m\u001b[0;34m(\u001b[0m\u001b[0mkey\u001b[0m\u001b[0;34m)\u001b[0m\u001b[0;34m\u001b[0m\u001b[0;34m\u001b[0m\u001b[0m\n\u001b[0;32m-> 2906\u001b[0;31m             \u001b[0mindexer\u001b[0m \u001b[0;34m=\u001b[0m \u001b[0mself\u001b[0m\u001b[0;34m.\u001b[0m\u001b[0mcolumns\u001b[0m\u001b[0;34m.\u001b[0m\u001b[0mget_loc\u001b[0m\u001b[0;34m(\u001b[0m\u001b[0mkey\u001b[0m\u001b[0;34m)\u001b[0m\u001b[0;34m\u001b[0m\u001b[0;34m\u001b[0m\u001b[0m\n\u001b[0m\u001b[1;32m   2907\u001b[0m             \u001b[0;32mif\u001b[0m \u001b[0mis_integer\u001b[0m\u001b[0;34m(\u001b[0m\u001b[0mindexer\u001b[0m\u001b[0;34m)\u001b[0m\u001b[0;34m:\u001b[0m\u001b[0;34m\u001b[0m\u001b[0;34m\u001b[0m\u001b[0m\n\u001b[1;32m   2908\u001b[0m                 \u001b[0mindexer\u001b[0m \u001b[0;34m=\u001b[0m \u001b[0;34m[\u001b[0m\u001b[0mindexer\u001b[0m\u001b[0;34m]\u001b[0m\u001b[0;34m\u001b[0m\u001b[0;34m\u001b[0m\u001b[0m\n",
            "\u001b[0;32m/usr/local/lib/python3.7/dist-packages/pandas/core/indexes/base.py\u001b[0m in \u001b[0;36mget_loc\u001b[0;34m(self, key, method, tolerance)\u001b[0m\n\u001b[1;32m   2898\u001b[0m                 \u001b[0;32mreturn\u001b[0m \u001b[0mself\u001b[0m\u001b[0;34m.\u001b[0m\u001b[0m_engine\u001b[0m\u001b[0;34m.\u001b[0m\u001b[0mget_loc\u001b[0m\u001b[0;34m(\u001b[0m\u001b[0mcasted_key\u001b[0m\u001b[0;34m)\u001b[0m\u001b[0;34m\u001b[0m\u001b[0;34m\u001b[0m\u001b[0m\n\u001b[1;32m   2899\u001b[0m             \u001b[0;32mexcept\u001b[0m \u001b[0mKeyError\u001b[0m \u001b[0;32mas\u001b[0m \u001b[0merr\u001b[0m\u001b[0;34m:\u001b[0m\u001b[0;34m\u001b[0m\u001b[0;34m\u001b[0m\u001b[0m\n\u001b[0;32m-> 2900\u001b[0;31m                 \u001b[0;32mraise\u001b[0m \u001b[0mKeyError\u001b[0m\u001b[0;34m(\u001b[0m\u001b[0mkey\u001b[0m\u001b[0;34m)\u001b[0m \u001b[0;32mfrom\u001b[0m \u001b[0merr\u001b[0m\u001b[0;34m\u001b[0m\u001b[0;34m\u001b[0m\u001b[0m\n\u001b[0m\u001b[1;32m   2901\u001b[0m \u001b[0;34m\u001b[0m\u001b[0m\n\u001b[1;32m   2902\u001b[0m         \u001b[0;32mif\u001b[0m \u001b[0mtolerance\u001b[0m \u001b[0;32mis\u001b[0m \u001b[0;32mnot\u001b[0m \u001b[0;32mNone\u001b[0m\u001b[0;34m:\u001b[0m\u001b[0;34m\u001b[0m\u001b[0;34m\u001b[0m\u001b[0m\n",
            "\u001b[0;31mKeyError\u001b[0m: 'state'"
          ]
        }
      ],
      "source": [
        "dfch['caste']= df['caste']\n",
        "dfch['state']= df['state']\n",
        "dfch['area']= df['area']\n",
        "dfch['father\\'s education']= df['father\\'s education']\n",
        "dfch['father\\'s occupation']= df['father\\'s occupation']\n",
        "dfch['mother\\'s education']= df['mother\\'s education']\n",
        "dfch['mother\\'s occupation']= df['mother\\'s occupation']\n",
        "dfch['exposure to mass media']= df['exposure to mass media']\n",
        "dfch['Toilet Facility'] = df['Toilet Facility']\n",
        "dfch['mother\\'s age']= df['mother\\'s age']\n",
        "dfch['mother\\'s bmi']= df['mother\\'s bmi']\n",
        "dfch['child\\'s age']= df['child\\'s age']\n",
        "dfch['birth weight']= df['birth weight']\n",
        "dfch['wealth index']= df['wealth index']\n",
        "dfch['H/A'] = df['H/A']\n",
        "dfch['W/A'] = df['W/A']\n",
        "dfch['W/H'] = df['W/H']\n",
        "dfch['Bmi'] = df['Bmi']\n",
        "dfch['HAWH'] = df['HAWH']\n",
        "dfch['no of living children'] = df['no of living children']\n",
        "dfch['immunization']= df['immunization']\n",
        "dfch = dfch.drop(['type of family'], axis = 1)"
      ]
    },
    {
      "cell_type": "code",
      "execution_count": null,
      "metadata": {
        "colab": {
          "base_uri": "https://localhost:8080/"
        },
        "id": "JjE7MSzJiVnF",
        "outputId": "30e9ccb9-4898-49ec-8339-c7b02d098c0c"
      },
      "outputs": [
        {
          "data": {
            "text/plain": [
              "(38059, 20)"
            ]
          },
          "execution_count": 77,
          "metadata": {},
          "output_type": "execute_result"
        }
      ],
      "source": [
        "dfch.shape"
      ]
    },
    {
      "cell_type": "code",
      "execution_count": null,
      "metadata": {
        "id": "Sf2fRo9Vkjtv"
      },
      "outputs": [],
      "source": [
        "dfch.to_csv('Dataset_5-6_chi16.csv')"
      ]
    },
    {
      "cell_type": "code",
      "execution_count": null,
      "metadata": {
        "id": "TYYAmhLFhPzG"
      },
      "outputs": [],
      "source": [
        "dfchd = pd.get_dummies(dfch)"
      ]
    },
    {
      "cell_type": "code",
      "execution_count": null,
      "metadata": {
        "colab": {
          "base_uri": "https://localhost:8080/",
          "height": 467
        },
        "id": "pvMuOik7hWuD",
        "outputId": "bb49b4b0-d9d1-448b-df9b-11ded2d84616"
      },
      "outputs": [
        {
          "data": {
            "text/html": [
              "<div>\n",
              "<style scoped>\n",
              "    .dataframe tbody tr th:only-of-type {\n",
              "        vertical-align: middle;\n",
              "    }\n",
              "\n",
              "    .dataframe tbody tr th {\n",
              "        vertical-align: top;\n",
              "    }\n",
              "\n",
              "    .dataframe thead th {\n",
              "        text-align: right;\n",
              "    }\n",
              "</style>\n",
              "<table border=\"1\" class=\"dataframe\">\n",
              "  <thead>\n",
              "    <tr style=\"text-align: right;\">\n",
              "      <th></th>\n",
              "      <th>H/A</th>\n",
              "      <th>W/A</th>\n",
              "      <th>W/H</th>\n",
              "      <th>Bmi</th>\n",
              "      <th>no of living children</th>\n",
              "      <th>caste_OBC</th>\n",
              "      <th>caste_Others</th>\n",
              "      <th>caste_SC</th>\n",
              "      <th>caste_ST</th>\n",
              "      <th>father's education_Higher education</th>\n",
              "      <th>father's education_No education</th>\n",
              "      <th>father's education_Primary education</th>\n",
              "      <th>father's education_Secondary education</th>\n",
              "      <th>father's occupation_Rgri</th>\n",
              "      <th>father's occupation_clerical</th>\n",
              "      <th>father's occupation_professional</th>\n",
              "      <th>father's occupation_sales</th>\n",
              "      <th>father's occupation_services</th>\n",
              "      <th>father's occupation_skilled labour</th>\n",
              "      <th>father's occupation_unemployed</th>\n",
              "      <th>mother's education_Higher education</th>\n",
              "      <th>mother's education_No education</th>\n",
              "      <th>mother's education_Primary education</th>\n",
              "      <th>mother's education_Secondary education</th>\n",
              "      <th>mother's occupation_Rgri</th>\n",
              "      <th>mother's occupation_clerical</th>\n",
              "      <th>mother's occupation_professional</th>\n",
              "      <th>mother's occupation_sales</th>\n",
              "      <th>mother's occupation_services</th>\n",
              "      <th>mother's occupation_skilled labour</th>\n",
              "      <th>mother's occupation_unemployed</th>\n",
              "      <th>exposure to mass media_No</th>\n",
              "      <th>exposure to mass media_Yes</th>\n",
              "      <th>Toilet Facility_Improved</th>\n",
              "      <th>Toilet Facility_Unimproved</th>\n",
              "      <th>mother's age_20-29</th>\n",
              "      <th>mother's age_30-39</th>\n",
              "      <th>mother's age_40 or above</th>\n",
              "      <th>mother's age_&lt;20</th>\n",
              "      <th>mother's bmi_healthy</th>\n",
              "      <th>mother's bmi_overweight</th>\n",
              "      <th>mother's bmi_underweight</th>\n",
              "      <th>child's age_12-18</th>\n",
              "      <th>child's age_18-24</th>\n",
              "      <th>child's age_24-36</th>\n",
              "      <th>child's age_36-48</th>\n",
              "      <th>child's age_48-59</th>\n",
              "      <th>child's age_6-</th>\n",
              "      <th>child's age_6-12</th>\n",
              "      <th>birth weight_2.5+</th>\n",
              "      <th>birth weight_2.5-</th>\n",
              "      <th>birth weight_Not Measured</th>\n",
              "      <th>wealth index_Middle</th>\n",
              "      <th>wealth index_Poorer</th>\n",
              "      <th>wealth index_Poorest</th>\n",
              "      <th>wealth index_Richer</th>\n",
              "      <th>wealth index_Richest</th>\n",
              "      <th>state_Central_India</th>\n",
              "      <th>state_East_India</th>\n",
              "      <th>state_NorthEast_India</th>\n",
              "      <th>state_North_India</th>\n",
              "      <th>state_South_India</th>\n",
              "      <th>state_West_India</th>\n",
              "      <th>area_Rural</th>\n",
              "      <th>area_Urban</th>\n",
              "      <th>immunization_Fully immunized</th>\n",
              "      <th>immunization_Not immunized</th>\n",
              "      <th>immunization_Partially immunized</th>\n",
              "    </tr>\n",
              "  </thead>\n",
              "  <tbody>\n",
              "    <tr>\n",
              "      <th>0</th>\n",
              "      <td>1</td>\n",
              "      <td>1</td>\n",
              "      <td>1</td>\n",
              "      <td>0</td>\n",
              "      <td>2</td>\n",
              "      <td>1</td>\n",
              "      <td>0</td>\n",
              "      <td>0</td>\n",
              "      <td>0</td>\n",
              "      <td>0</td>\n",
              "      <td>0</td>\n",
              "      <td>1</td>\n",
              "      <td>0</td>\n",
              "      <td>1</td>\n",
              "      <td>0</td>\n",
              "      <td>0</td>\n",
              "      <td>0</td>\n",
              "      <td>0</td>\n",
              "      <td>0</td>\n",
              "      <td>0</td>\n",
              "      <td>0</td>\n",
              "      <td>0</td>\n",
              "      <td>1</td>\n",
              "      <td>0</td>\n",
              "      <td>1</td>\n",
              "      <td>0</td>\n",
              "      <td>0</td>\n",
              "      <td>0</td>\n",
              "      <td>0</td>\n",
              "      <td>0</td>\n",
              "      <td>0</td>\n",
              "      <td>0</td>\n",
              "      <td>1</td>\n",
              "      <td>0</td>\n",
              "      <td>1</td>\n",
              "      <td>0</td>\n",
              "      <td>0</td>\n",
              "      <td>0</td>\n",
              "      <td>1</td>\n",
              "      <td>0</td>\n",
              "      <td>0</td>\n",
              "      <td>1</td>\n",
              "      <td>0</td>\n",
              "      <td>0</td>\n",
              "      <td>1</td>\n",
              "      <td>0</td>\n",
              "      <td>0</td>\n",
              "      <td>0</td>\n",
              "      <td>0</td>\n",
              "      <td>0</td>\n",
              "      <td>0</td>\n",
              "      <td>1</td>\n",
              "      <td>0</td>\n",
              "      <td>1</td>\n",
              "      <td>0</td>\n",
              "      <td>0</td>\n",
              "      <td>0</td>\n",
              "      <td>0</td>\n",
              "      <td>0</td>\n",
              "      <td>0</td>\n",
              "      <td>0</td>\n",
              "      <td>1</td>\n",
              "      <td>0</td>\n",
              "      <td>1</td>\n",
              "      <td>0</td>\n",
              "      <td>0</td>\n",
              "      <td>0</td>\n",
              "      <td>1</td>\n",
              "    </tr>\n",
              "    <tr>\n",
              "      <th>1</th>\n",
              "      <td>1</td>\n",
              "      <td>0</td>\n",
              "      <td>0</td>\n",
              "      <td>0</td>\n",
              "      <td>2</td>\n",
              "      <td>1</td>\n",
              "      <td>0</td>\n",
              "      <td>0</td>\n",
              "      <td>0</td>\n",
              "      <td>0</td>\n",
              "      <td>0</td>\n",
              "      <td>0</td>\n",
              "      <td>1</td>\n",
              "      <td>1</td>\n",
              "      <td>0</td>\n",
              "      <td>0</td>\n",
              "      <td>0</td>\n",
              "      <td>0</td>\n",
              "      <td>0</td>\n",
              "      <td>0</td>\n",
              "      <td>0</td>\n",
              "      <td>1</td>\n",
              "      <td>0</td>\n",
              "      <td>0</td>\n",
              "      <td>1</td>\n",
              "      <td>0</td>\n",
              "      <td>0</td>\n",
              "      <td>0</td>\n",
              "      <td>0</td>\n",
              "      <td>0</td>\n",
              "      <td>0</td>\n",
              "      <td>0</td>\n",
              "      <td>1</td>\n",
              "      <td>0</td>\n",
              "      <td>1</td>\n",
              "      <td>0</td>\n",
              "      <td>0</td>\n",
              "      <td>0</td>\n",
              "      <td>1</td>\n",
              "      <td>1</td>\n",
              "      <td>0</td>\n",
              "      <td>0</td>\n",
              "      <td>0</td>\n",
              "      <td>0</td>\n",
              "      <td>0</td>\n",
              "      <td>0</td>\n",
              "      <td>1</td>\n",
              "      <td>0</td>\n",
              "      <td>0</td>\n",
              "      <td>0</td>\n",
              "      <td>0</td>\n",
              "      <td>1</td>\n",
              "      <td>1</td>\n",
              "      <td>0</td>\n",
              "      <td>0</td>\n",
              "      <td>0</td>\n",
              "      <td>0</td>\n",
              "      <td>0</td>\n",
              "      <td>0</td>\n",
              "      <td>0</td>\n",
              "      <td>0</td>\n",
              "      <td>1</td>\n",
              "      <td>0</td>\n",
              "      <td>1</td>\n",
              "      <td>0</td>\n",
              "      <td>0</td>\n",
              "      <td>0</td>\n",
              "      <td>1</td>\n",
              "    </tr>\n",
              "    <tr>\n",
              "      <th>2</th>\n",
              "      <td>0</td>\n",
              "      <td>0</td>\n",
              "      <td>0</td>\n",
              "      <td>0</td>\n",
              "      <td>2</td>\n",
              "      <td>0</td>\n",
              "      <td>1</td>\n",
              "      <td>0</td>\n",
              "      <td>0</td>\n",
              "      <td>0</td>\n",
              "      <td>0</td>\n",
              "      <td>0</td>\n",
              "      <td>1</td>\n",
              "      <td>1</td>\n",
              "      <td>0</td>\n",
              "      <td>0</td>\n",
              "      <td>0</td>\n",
              "      <td>0</td>\n",
              "      <td>0</td>\n",
              "      <td>0</td>\n",
              "      <td>0</td>\n",
              "      <td>0</td>\n",
              "      <td>0</td>\n",
              "      <td>1</td>\n",
              "      <td>0</td>\n",
              "      <td>0</td>\n",
              "      <td>0</td>\n",
              "      <td>0</td>\n",
              "      <td>0</td>\n",
              "      <td>0</td>\n",
              "      <td>1</td>\n",
              "      <td>0</td>\n",
              "      <td>1</td>\n",
              "      <td>1</td>\n",
              "      <td>0</td>\n",
              "      <td>1</td>\n",
              "      <td>0</td>\n",
              "      <td>0</td>\n",
              "      <td>0</td>\n",
              "      <td>0</td>\n",
              "      <td>0</td>\n",
              "      <td>1</td>\n",
              "      <td>0</td>\n",
              "      <td>0</td>\n",
              "      <td>0</td>\n",
              "      <td>0</td>\n",
              "      <td>0</td>\n",
              "      <td>0</td>\n",
              "      <td>1</td>\n",
              "      <td>0</td>\n",
              "      <td>0</td>\n",
              "      <td>1</td>\n",
              "      <td>0</td>\n",
              "      <td>0</td>\n",
              "      <td>0</td>\n",
              "      <td>1</td>\n",
              "      <td>0</td>\n",
              "      <td>0</td>\n",
              "      <td>0</td>\n",
              "      <td>0</td>\n",
              "      <td>0</td>\n",
              "      <td>1</td>\n",
              "      <td>0</td>\n",
              "      <td>1</td>\n",
              "      <td>0</td>\n",
              "      <td>0</td>\n",
              "      <td>0</td>\n",
              "      <td>1</td>\n",
              "    </tr>\n",
              "    <tr>\n",
              "      <th>3</th>\n",
              "      <td>1</td>\n",
              "      <td>0</td>\n",
              "      <td>0</td>\n",
              "      <td>0</td>\n",
              "      <td>2</td>\n",
              "      <td>0</td>\n",
              "      <td>1</td>\n",
              "      <td>0</td>\n",
              "      <td>0</td>\n",
              "      <td>0</td>\n",
              "      <td>0</td>\n",
              "      <td>0</td>\n",
              "      <td>1</td>\n",
              "      <td>1</td>\n",
              "      <td>0</td>\n",
              "      <td>0</td>\n",
              "      <td>0</td>\n",
              "      <td>0</td>\n",
              "      <td>0</td>\n",
              "      <td>0</td>\n",
              "      <td>0</td>\n",
              "      <td>0</td>\n",
              "      <td>0</td>\n",
              "      <td>1</td>\n",
              "      <td>0</td>\n",
              "      <td>0</td>\n",
              "      <td>0</td>\n",
              "      <td>0</td>\n",
              "      <td>0</td>\n",
              "      <td>0</td>\n",
              "      <td>1</td>\n",
              "      <td>0</td>\n",
              "      <td>1</td>\n",
              "      <td>1</td>\n",
              "      <td>0</td>\n",
              "      <td>1</td>\n",
              "      <td>0</td>\n",
              "      <td>0</td>\n",
              "      <td>0</td>\n",
              "      <td>0</td>\n",
              "      <td>0</td>\n",
              "      <td>1</td>\n",
              "      <td>0</td>\n",
              "      <td>1</td>\n",
              "      <td>0</td>\n",
              "      <td>0</td>\n",
              "      <td>0</td>\n",
              "      <td>0</td>\n",
              "      <td>0</td>\n",
              "      <td>0</td>\n",
              "      <td>0</td>\n",
              "      <td>1</td>\n",
              "      <td>0</td>\n",
              "      <td>0</td>\n",
              "      <td>0</td>\n",
              "      <td>1</td>\n",
              "      <td>0</td>\n",
              "      <td>0</td>\n",
              "      <td>0</td>\n",
              "      <td>0</td>\n",
              "      <td>0</td>\n",
              "      <td>1</td>\n",
              "      <td>0</td>\n",
              "      <td>1</td>\n",
              "      <td>0</td>\n",
              "      <td>1</td>\n",
              "      <td>0</td>\n",
              "      <td>0</td>\n",
              "    </tr>\n",
              "    <tr>\n",
              "      <th>4</th>\n",
              "      <td>0</td>\n",
              "      <td>0</td>\n",
              "      <td>0</td>\n",
              "      <td>0</td>\n",
              "      <td>1</td>\n",
              "      <td>0</td>\n",
              "      <td>0</td>\n",
              "      <td>1</td>\n",
              "      <td>0</td>\n",
              "      <td>0</td>\n",
              "      <td>1</td>\n",
              "      <td>0</td>\n",
              "      <td>0</td>\n",
              "      <td>0</td>\n",
              "      <td>0</td>\n",
              "      <td>0</td>\n",
              "      <td>0</td>\n",
              "      <td>0</td>\n",
              "      <td>1</td>\n",
              "      <td>0</td>\n",
              "      <td>0</td>\n",
              "      <td>1</td>\n",
              "      <td>0</td>\n",
              "      <td>0</td>\n",
              "      <td>0</td>\n",
              "      <td>0</td>\n",
              "      <td>0</td>\n",
              "      <td>0</td>\n",
              "      <td>0</td>\n",
              "      <td>0</td>\n",
              "      <td>1</td>\n",
              "      <td>0</td>\n",
              "      <td>1</td>\n",
              "      <td>0</td>\n",
              "      <td>1</td>\n",
              "      <td>0</td>\n",
              "      <td>0</td>\n",
              "      <td>0</td>\n",
              "      <td>1</td>\n",
              "      <td>1</td>\n",
              "      <td>0</td>\n",
              "      <td>0</td>\n",
              "      <td>0</td>\n",
              "      <td>0</td>\n",
              "      <td>0</td>\n",
              "      <td>0</td>\n",
              "      <td>0</td>\n",
              "      <td>1</td>\n",
              "      <td>0</td>\n",
              "      <td>0</td>\n",
              "      <td>0</td>\n",
              "      <td>1</td>\n",
              "      <td>1</td>\n",
              "      <td>0</td>\n",
              "      <td>0</td>\n",
              "      <td>0</td>\n",
              "      <td>0</td>\n",
              "      <td>0</td>\n",
              "      <td>0</td>\n",
              "      <td>0</td>\n",
              "      <td>0</td>\n",
              "      <td>1</td>\n",
              "      <td>0</td>\n",
              "      <td>1</td>\n",
              "      <td>0</td>\n",
              "      <td>0</td>\n",
              "      <td>0</td>\n",
              "      <td>1</td>\n",
              "    </tr>\n",
              "    <tr>\n",
              "      <th>...</th>\n",
              "      <td>...</td>\n",
              "      <td>...</td>\n",
              "      <td>...</td>\n",
              "      <td>...</td>\n",
              "      <td>...</td>\n",
              "      <td>...</td>\n",
              "      <td>...</td>\n",
              "      <td>...</td>\n",
              "      <td>...</td>\n",
              "      <td>...</td>\n",
              "      <td>...</td>\n",
              "      <td>...</td>\n",
              "      <td>...</td>\n",
              "      <td>...</td>\n",
              "      <td>...</td>\n",
              "      <td>...</td>\n",
              "      <td>...</td>\n",
              "      <td>...</td>\n",
              "      <td>...</td>\n",
              "      <td>...</td>\n",
              "      <td>...</td>\n",
              "      <td>...</td>\n",
              "      <td>...</td>\n",
              "      <td>...</td>\n",
              "      <td>...</td>\n",
              "      <td>...</td>\n",
              "      <td>...</td>\n",
              "      <td>...</td>\n",
              "      <td>...</td>\n",
              "      <td>...</td>\n",
              "      <td>...</td>\n",
              "      <td>...</td>\n",
              "      <td>...</td>\n",
              "      <td>...</td>\n",
              "      <td>...</td>\n",
              "      <td>...</td>\n",
              "      <td>...</td>\n",
              "      <td>...</td>\n",
              "      <td>...</td>\n",
              "      <td>...</td>\n",
              "      <td>...</td>\n",
              "      <td>...</td>\n",
              "      <td>...</td>\n",
              "      <td>...</td>\n",
              "      <td>...</td>\n",
              "      <td>...</td>\n",
              "      <td>...</td>\n",
              "      <td>...</td>\n",
              "      <td>...</td>\n",
              "      <td>...</td>\n",
              "      <td>...</td>\n",
              "      <td>...</td>\n",
              "      <td>...</td>\n",
              "      <td>...</td>\n",
              "      <td>...</td>\n",
              "      <td>...</td>\n",
              "      <td>...</td>\n",
              "      <td>...</td>\n",
              "      <td>...</td>\n",
              "      <td>...</td>\n",
              "      <td>...</td>\n",
              "      <td>...</td>\n",
              "      <td>...</td>\n",
              "      <td>...</td>\n",
              "      <td>...</td>\n",
              "      <td>...</td>\n",
              "      <td>...</td>\n",
              "      <td>...</td>\n",
              "    </tr>\n",
              "    <tr>\n",
              "      <th>38054</th>\n",
              "      <td>1</td>\n",
              "      <td>1</td>\n",
              "      <td>0</td>\n",
              "      <td>0</td>\n",
              "      <td>1</td>\n",
              "      <td>0</td>\n",
              "      <td>1</td>\n",
              "      <td>0</td>\n",
              "      <td>0</td>\n",
              "      <td>0</td>\n",
              "      <td>1</td>\n",
              "      <td>0</td>\n",
              "      <td>0</td>\n",
              "      <td>0</td>\n",
              "      <td>0</td>\n",
              "      <td>0</td>\n",
              "      <td>0</td>\n",
              "      <td>0</td>\n",
              "      <td>1</td>\n",
              "      <td>0</td>\n",
              "      <td>0</td>\n",
              "      <td>0</td>\n",
              "      <td>0</td>\n",
              "      <td>1</td>\n",
              "      <td>0</td>\n",
              "      <td>0</td>\n",
              "      <td>0</td>\n",
              "      <td>0</td>\n",
              "      <td>0</td>\n",
              "      <td>0</td>\n",
              "      <td>1</td>\n",
              "      <td>0</td>\n",
              "      <td>1</td>\n",
              "      <td>1</td>\n",
              "      <td>0</td>\n",
              "      <td>0</td>\n",
              "      <td>0</td>\n",
              "      <td>0</td>\n",
              "      <td>1</td>\n",
              "      <td>0</td>\n",
              "      <td>0</td>\n",
              "      <td>1</td>\n",
              "      <td>0</td>\n",
              "      <td>0</td>\n",
              "      <td>0</td>\n",
              "      <td>0</td>\n",
              "      <td>1</td>\n",
              "      <td>0</td>\n",
              "      <td>0</td>\n",
              "      <td>0</td>\n",
              "      <td>0</td>\n",
              "      <td>1</td>\n",
              "      <td>0</td>\n",
              "      <td>0</td>\n",
              "      <td>1</td>\n",
              "      <td>0</td>\n",
              "      <td>0</td>\n",
              "      <td>0</td>\n",
              "      <td>1</td>\n",
              "      <td>0</td>\n",
              "      <td>0</td>\n",
              "      <td>0</td>\n",
              "      <td>0</td>\n",
              "      <td>1</td>\n",
              "      <td>0</td>\n",
              "      <td>1</td>\n",
              "      <td>0</td>\n",
              "      <td>0</td>\n",
              "    </tr>\n",
              "    <tr>\n",
              "      <th>38055</th>\n",
              "      <td>1</td>\n",
              "      <td>1</td>\n",
              "      <td>0</td>\n",
              "      <td>0</td>\n",
              "      <td>2</td>\n",
              "      <td>0</td>\n",
              "      <td>1</td>\n",
              "      <td>0</td>\n",
              "      <td>0</td>\n",
              "      <td>0</td>\n",
              "      <td>0</td>\n",
              "      <td>1</td>\n",
              "      <td>0</td>\n",
              "      <td>0</td>\n",
              "      <td>0</td>\n",
              "      <td>0</td>\n",
              "      <td>0</td>\n",
              "      <td>0</td>\n",
              "      <td>1</td>\n",
              "      <td>0</td>\n",
              "      <td>0</td>\n",
              "      <td>0</td>\n",
              "      <td>1</td>\n",
              "      <td>0</td>\n",
              "      <td>0</td>\n",
              "      <td>0</td>\n",
              "      <td>0</td>\n",
              "      <td>0</td>\n",
              "      <td>0</td>\n",
              "      <td>0</td>\n",
              "      <td>1</td>\n",
              "      <td>0</td>\n",
              "      <td>1</td>\n",
              "      <td>1</td>\n",
              "      <td>0</td>\n",
              "      <td>1</td>\n",
              "      <td>0</td>\n",
              "      <td>0</td>\n",
              "      <td>0</td>\n",
              "      <td>0</td>\n",
              "      <td>0</td>\n",
              "      <td>1</td>\n",
              "      <td>0</td>\n",
              "      <td>0</td>\n",
              "      <td>0</td>\n",
              "      <td>0</td>\n",
              "      <td>1</td>\n",
              "      <td>0</td>\n",
              "      <td>0</td>\n",
              "      <td>0</td>\n",
              "      <td>0</td>\n",
              "      <td>1</td>\n",
              "      <td>0</td>\n",
              "      <td>0</td>\n",
              "      <td>1</td>\n",
              "      <td>0</td>\n",
              "      <td>0</td>\n",
              "      <td>0</td>\n",
              "      <td>1</td>\n",
              "      <td>0</td>\n",
              "      <td>0</td>\n",
              "      <td>0</td>\n",
              "      <td>0</td>\n",
              "      <td>1</td>\n",
              "      <td>0</td>\n",
              "      <td>1</td>\n",
              "      <td>0</td>\n",
              "      <td>0</td>\n",
              "    </tr>\n",
              "    <tr>\n",
              "      <th>38056</th>\n",
              "      <td>1</td>\n",
              "      <td>1</td>\n",
              "      <td>0</td>\n",
              "      <td>0</td>\n",
              "      <td>1</td>\n",
              "      <td>0</td>\n",
              "      <td>1</td>\n",
              "      <td>0</td>\n",
              "      <td>0</td>\n",
              "      <td>0</td>\n",
              "      <td>0</td>\n",
              "      <td>0</td>\n",
              "      <td>1</td>\n",
              "      <td>1</td>\n",
              "      <td>0</td>\n",
              "      <td>0</td>\n",
              "      <td>0</td>\n",
              "      <td>0</td>\n",
              "      <td>0</td>\n",
              "      <td>0</td>\n",
              "      <td>0</td>\n",
              "      <td>0</td>\n",
              "      <td>0</td>\n",
              "      <td>1</td>\n",
              "      <td>0</td>\n",
              "      <td>0</td>\n",
              "      <td>0</td>\n",
              "      <td>0</td>\n",
              "      <td>0</td>\n",
              "      <td>0</td>\n",
              "      <td>1</td>\n",
              "      <td>0</td>\n",
              "      <td>1</td>\n",
              "      <td>0</td>\n",
              "      <td>1</td>\n",
              "      <td>0</td>\n",
              "      <td>0</td>\n",
              "      <td>0</td>\n",
              "      <td>1</td>\n",
              "      <td>1</td>\n",
              "      <td>0</td>\n",
              "      <td>0</td>\n",
              "      <td>0</td>\n",
              "      <td>0</td>\n",
              "      <td>1</td>\n",
              "      <td>0</td>\n",
              "      <td>0</td>\n",
              "      <td>0</td>\n",
              "      <td>0</td>\n",
              "      <td>1</td>\n",
              "      <td>0</td>\n",
              "      <td>0</td>\n",
              "      <td>0</td>\n",
              "      <td>1</td>\n",
              "      <td>0</td>\n",
              "      <td>0</td>\n",
              "      <td>0</td>\n",
              "      <td>0</td>\n",
              "      <td>1</td>\n",
              "      <td>0</td>\n",
              "      <td>0</td>\n",
              "      <td>0</td>\n",
              "      <td>0</td>\n",
              "      <td>1</td>\n",
              "      <td>0</td>\n",
              "      <td>1</td>\n",
              "      <td>0</td>\n",
              "      <td>0</td>\n",
              "    </tr>\n",
              "    <tr>\n",
              "      <th>38057</th>\n",
              "      <td>0</td>\n",
              "      <td>0</td>\n",
              "      <td>0</td>\n",
              "      <td>0</td>\n",
              "      <td>3</td>\n",
              "      <td>0</td>\n",
              "      <td>1</td>\n",
              "      <td>0</td>\n",
              "      <td>0</td>\n",
              "      <td>0</td>\n",
              "      <td>0</td>\n",
              "      <td>0</td>\n",
              "      <td>1</td>\n",
              "      <td>1</td>\n",
              "      <td>0</td>\n",
              "      <td>0</td>\n",
              "      <td>0</td>\n",
              "      <td>0</td>\n",
              "      <td>0</td>\n",
              "      <td>0</td>\n",
              "      <td>0</td>\n",
              "      <td>0</td>\n",
              "      <td>0</td>\n",
              "      <td>1</td>\n",
              "      <td>0</td>\n",
              "      <td>0</td>\n",
              "      <td>0</td>\n",
              "      <td>0</td>\n",
              "      <td>0</td>\n",
              "      <td>0</td>\n",
              "      <td>1</td>\n",
              "      <td>1</td>\n",
              "      <td>0</td>\n",
              "      <td>1</td>\n",
              "      <td>0</td>\n",
              "      <td>0</td>\n",
              "      <td>0</td>\n",
              "      <td>0</td>\n",
              "      <td>1</td>\n",
              "      <td>1</td>\n",
              "      <td>0</td>\n",
              "      <td>0</td>\n",
              "      <td>0</td>\n",
              "      <td>0</td>\n",
              "      <td>0</td>\n",
              "      <td>1</td>\n",
              "      <td>0</td>\n",
              "      <td>0</td>\n",
              "      <td>0</td>\n",
              "      <td>1</td>\n",
              "      <td>0</td>\n",
              "      <td>0</td>\n",
              "      <td>1</td>\n",
              "      <td>0</td>\n",
              "      <td>0</td>\n",
              "      <td>0</td>\n",
              "      <td>0</td>\n",
              "      <td>0</td>\n",
              "      <td>1</td>\n",
              "      <td>0</td>\n",
              "      <td>0</td>\n",
              "      <td>0</td>\n",
              "      <td>0</td>\n",
              "      <td>1</td>\n",
              "      <td>0</td>\n",
              "      <td>1</td>\n",
              "      <td>0</td>\n",
              "      <td>0</td>\n",
              "    </tr>\n",
              "    <tr>\n",
              "      <th>38058</th>\n",
              "      <td>0</td>\n",
              "      <td>0</td>\n",
              "      <td>0</td>\n",
              "      <td>0</td>\n",
              "      <td>1</td>\n",
              "      <td>0</td>\n",
              "      <td>1</td>\n",
              "      <td>0</td>\n",
              "      <td>0</td>\n",
              "      <td>0</td>\n",
              "      <td>0</td>\n",
              "      <td>0</td>\n",
              "      <td>1</td>\n",
              "      <td>0</td>\n",
              "      <td>0</td>\n",
              "      <td>0</td>\n",
              "      <td>1</td>\n",
              "      <td>0</td>\n",
              "      <td>0</td>\n",
              "      <td>0</td>\n",
              "      <td>0</td>\n",
              "      <td>0</td>\n",
              "      <td>0</td>\n",
              "      <td>1</td>\n",
              "      <td>0</td>\n",
              "      <td>0</td>\n",
              "      <td>0</td>\n",
              "      <td>0</td>\n",
              "      <td>0</td>\n",
              "      <td>0</td>\n",
              "      <td>1</td>\n",
              "      <td>0</td>\n",
              "      <td>1</td>\n",
              "      <td>1</td>\n",
              "      <td>0</td>\n",
              "      <td>1</td>\n",
              "      <td>0</td>\n",
              "      <td>0</td>\n",
              "      <td>0</td>\n",
              "      <td>1</td>\n",
              "      <td>0</td>\n",
              "      <td>0</td>\n",
              "      <td>0</td>\n",
              "      <td>0</td>\n",
              "      <td>0</td>\n",
              "      <td>1</td>\n",
              "      <td>0</td>\n",
              "      <td>0</td>\n",
              "      <td>0</td>\n",
              "      <td>0</td>\n",
              "      <td>1</td>\n",
              "      <td>0</td>\n",
              "      <td>0</td>\n",
              "      <td>0</td>\n",
              "      <td>0</td>\n",
              "      <td>1</td>\n",
              "      <td>0</td>\n",
              "      <td>0</td>\n",
              "      <td>1</td>\n",
              "      <td>0</td>\n",
              "      <td>0</td>\n",
              "      <td>0</td>\n",
              "      <td>0</td>\n",
              "      <td>1</td>\n",
              "      <td>0</td>\n",
              "      <td>1</td>\n",
              "      <td>0</td>\n",
              "      <td>0</td>\n",
              "    </tr>\n",
              "  </tbody>\n",
              "</table>\n",
              "<p>38059 rows × 68 columns</p>\n",
              "</div>"
            ],
            "text/plain": [
              "       H/A  W/A  ...  immunization_Not immunized  immunization_Partially immunized\n",
              "0        1    1  ...                           0                                 1\n",
              "1        1    0  ...                           0                                 1\n",
              "2        0    0  ...                           0                                 1\n",
              "3        1    0  ...                           0                                 0\n",
              "4        0    0  ...                           0                                 1\n",
              "...    ...  ...  ...                         ...                               ...\n",
              "38054    1    1  ...                           0                                 0\n",
              "38055    1    1  ...                           0                                 0\n",
              "38056    1    1  ...                           0                                 0\n",
              "38057    0    0  ...                           0                                 0\n",
              "38058    0    0  ...                           0                                 0\n",
              "\n",
              "[38059 rows x 68 columns]"
            ]
          },
          "execution_count": 83,
          "metadata": {},
          "output_type": "execute_result"
        }
      ],
      "source": [
        "dfchd"
      ]
    },
    {
      "cell_type": "markdown",
      "metadata": {
        "id": "Kv5i8lp-jndM"
      },
      "source": [
        "# Feature Engineering"
      ]
    },
    {
      "cell_type": "code",
      "execution_count": null,
      "metadata": {
        "colab": {
          "base_uri": "https://localhost:8080/",
          "height": 1000
        },
        "id": "rJgaflxG4c4r",
        "outputId": "d8bc2a73-92e9-420e-b7b0-bc85a169c0b5"
      },
      "outputs": [
        {
          "data": {
            "image/png": "[encoded data removed]",
            "text/plain": [
              "<Figure size 3600x3600 with 2 Axes>"
            ]
          },
          "metadata": {},
          "output_type": "display_data"
        }
      ],
      "source": [
        "corrmat = dfl.corr()\n",
        "top_corr_features = corrmat.index\n",
        "plt.figure(figsize=(50,50))\n",
        "#plot heat map\n",
        "g=sns.heatmap(dfl[top_corr_features].corr(),annot=True,cmap=\"gist_earth\")\n",
        "plt.show()"
      ]
    },
    {
      "cell_type": "code",
      "execution_count": null,
      "metadata": {
        "colab": {
          "base_uri": "https://localhost:8080/"
        },
        "id": "NeyFBX5vG78e",
        "outputId": "5f13eda2-22e6-40e2-9f5e-0ef74475beeb"
      },
      "outputs": [
        {
          "name": "stdout",
          "output_type": "stream",
          "text": [
            "(172622, 66) X shape\n",
            "(172622, 1) y1 shape\n",
            "(172622, 1) y2 shape\n",
            "(172622, 1) y3 shape\n",
            "(172622, 1) y4 shape\n"
          ]
        }
      ],
      "source": [
        "X1, a, b, c, d= split_X_y(dfd)"
      ]
    },
    {
      "cell_type": "code",
      "execution_count": null,
      "metadata": {
        "colab": {
          "base_uri": "https://localhost:8080/"
        },
        "id": "2qHXUgZ_FcG1",
        "outputId": "40e4857b-3d3e-490e-e539-cf4082a47bdd"
      },
      "outputs": [
        {
          "name": "stdout",
          "output_type": "stream",
          "text": [
            "variance explained by 35 components is 97.4708277855586\n"
          ]
        }
      ],
      "source": [
        "pca_35 = PCA(n_components=35, random_state= 574)\n",
        "pca_35.fit(X1)\n",
        "print('variance explained by 35 components is' , sum(pca_35.explained_variance_ratio_*100))"
      ]
    },
    {
      "cell_type": "code",
      "execution_count": null,
      "metadata": {
        "colab": {
          "base_uri": "https://localhost:8080/"
        },
        "id": "z-klfAUgFcLb",
        "outputId": "c84853b2-08aa-4df7-bd9a-1a942706740b"
      },
      "outputs": [
        {
          "name": "stdout",
          "output_type": "stream",
          "text": [
            "variance explained by 16 components is 84.41649718995531\n"
          ]
        }
      ],
      "source": [
        "pca_16 = PCA(n_components=16, random_state= 52)\n",
        "pca_16.fit(X1)\n",
        "print('variance explained by 16 components is' , sum(pca_16.explained_variance_ratio_*100))"
      ]
    },
    {
      "cell_type": "code",
      "execution_count": null,
      "metadata": {
        "colab": {
          "base_uri": "https://localhost:8080/"
        },
        "id": "RomVJqHMFcRP",
        "outputId": "868e349d-7be4-44f2-96df-ff28da33b5aa"
      },
      "outputs": [
        {
          "data": {
            "text/plain": [
              "array([23.99144279, 41.3528594 , 50.36942841, 58.18652437, 65.19133855,\n",
              "       70.73804653, 75.70260918, 79.46916585, 82.90290367, 85.76521965,\n",
              "       88.3313542 , 90.17427471, 91.87533056, 93.47667882, 94.77146713,\n",
              "       95.78784132])"
            ]
          },
          "execution_count": 69,
          "metadata": {},
          "output_type": "execute_result"
        }
      ],
      "source": [
        "np.cumsum(pca_16.explained_variance_ratio_*100)"
      ]
    },
    {
      "cell_type": "code",
      "execution_count": null,
      "metadata": {
        "colab": {
          "base_uri": "https://localhost:8080/",
          "height": 281
        },
        "id": "r9U_9jb2cRZJ",
        "outputId": "4812b72b-cd39-418e-9ddd-32693cf40f39"
      },
      "outputs": [
        {
          "data": {
            "image/png": "[encoded data removed]",
            "text/plain": [
              "<Figure size 432x288 with 1 Axes>"
            ]
          },
          "metadata": {},
          "output_type": "display_data"
        }
      ],
      "source": [
        "plt.plot(np.cumsum(pca_35.explained_variance_ratio_*100))\n",
        "plt.xlabel('Number of components')\n",
        "plt.ylabel('Explained Variance')\n",
        "plt.savefig('elbow_plot.png', dpi = 100)"
      ]
    },
    {
      "cell_type": "code",
      "execution_count": null,
      "metadata": {
        "colab": {
          "base_uri": "https://localhost:8080/"
        },
        "id": "uJAJFmrXFcVY",
        "outputId": "df7304b0-08bd-49af-c857-458f6c0cd30a"
      },
      "outputs": [
        {
          "data": {
            "text/plain": [
              "array([32.63998829, 22.08949046,  7.80720531,  3.54286331,  2.21951406,\n",
              "        1.99794337,  1.85348657,  1.68487711,  1.60869334,  1.5378173 ,\n",
              "        1.35581754,  1.32798368,  1.29318691,  1.24729311,  1.12449801,\n",
              "        1.09974098,  1.00790785,  0.94928985,  0.88745101,  0.85220776,\n",
              "        0.82732733,  0.80677726,  0.72987062,  0.72490901,  0.71100402,\n",
              "        0.6779572 ,  0.65777084,  0.60899433,  0.57446826,  0.56615048,\n",
              "        0.55365432,  0.52483659,  0.49171809,  0.46228308,  0.42585054])"
            ]
          },
          "execution_count": 64,
          "metadata": {},
          "output_type": "execute_result"
        }
      ],
      "source": [
        "pca_35.explained_variance_ratio_*100"
      ]
    },
    {
      "cell_type": "code",
      "execution_count": null,
      "metadata": {
        "id": "bp3l_cThlu-8"
      },
      "outputs": [],
      "source": [
        "# pca_n95 = PCA(n_components=0.95, random_state= 359)\n",
        "# pca_n95.fit(X1)\n",
        "X_pca_35 = pca_35.transform(X1)"
      ]
    },
    {
      "cell_type": "code",
      "execution_count": null,
      "metadata": {
        "colab": {
          "base_uri": "https://localhost:8080/"
        },
        "id": "zZe56yjwmFUr",
        "outputId": "e46ac1dc-62fa-4b8a-e92e-fd16c5d1925b"
      },
      "outputs": [
        {
          "data": {
            "text/plain": [
              "(172622, 35)"
            ]
          },
          "execution_count": 66,
          "metadata": {},
          "output_type": "execute_result"
        }
      ],
      "source": [
        "X_pca_35.shape"
      ]
    },
    {
      "cell_type": "code",
      "execution_count": null,
      "metadata": {
        "colab": {
          "base_uri": "https://localhost:8080/"
        },
        "id": "FExd-JcPndia",
        "outputId": "a362d992-fb4a-4c62-db2d-4647e7b6b541"
      },
      "outputs": [
        {
          "data": {
            "text/plain": [
              "array([[-2.61158037e+00, -1.14478320e+00, -1.47052822e+00, ...,\n",
              "        -6.49006755e-02, -9.86402847e-02,  1.67396018e-01],\n",
              "       [-3.56507315e+00, -1.08811771e+00, -1.36642488e+00, ...,\n",
              "        -7.83245694e-02, -3.17373608e-01,  1.52484672e-01],\n",
              "       [-4.92396738e-01,  2.94761796e+00, -3.59906808e-01, ...,\n",
              "         4.10959931e-01,  2.32731848e-01,  1.01292867e+00],\n",
              "       ...,\n",
              "       [-3.51920181e+00, -3.75021655e-02, -1.05970641e+00, ...,\n",
              "         3.77160643e-02,  5.34568140e-01, -4.10821678e-01],\n",
              "       [ 1.48266249e+00, -1.06343067e+00, -1.37371635e+00, ...,\n",
              "         1.12645652e-01,  3.62588166e-01, -4.71498516e-01],\n",
              "       [-2.46995707e+00, -1.08598004e+00, -5.59696659e-01, ...,\n",
              "        -3.11740672e-03,  3.03465920e-01, -5.82432009e-01]])"
            ]
          },
          "execution_count": 67,
          "metadata": {},
          "output_type": "execute_result"
        }
      ],
      "source": [
        "X_pca_35"
      ]
    },
    {
      "cell_type": "code",
      "execution_count": null,
      "metadata": {
        "id": "QKyq1Fm9QLBt"
      },
      "outputs": [],
      "source": [
        "dfl = dfl.astype(float)\n",
        "dfd = dfd.astype(float)"
      ]
    },
    {
      "cell_type": "code",
      "execution_count": null,
      "metadata": {
        "colab": {
          "base_uri": "https://localhost:8080/",
          "height": 552
        },
        "id": "JHto5-a1QpmL",
        "outputId": "6a07055b-bd4b-404f-e425-65051e8c3143"
      },
      "outputs": [
        {
          "ename": "KeyError",
          "evalue": "ignored",
          "output_type": "error",
          "traceback": [
            "\u001b[0;31m---------------------------------------------------------------------------\u001b[0m",
            "\u001b[0;31mKeyError\u001b[0m                                  Traceback (most recent call last)",
            "\u001b[0;32m/usr/local/lib/python3.7/dist-packages/pandas/core/indexes/base.py\u001b[0m in \u001b[0;36mget_loc\u001b[0;34m(self, key, method, tolerance)\u001b[0m\n\u001b[1;32m   2897\u001b[0m             \u001b[0;32mtry\u001b[0m\u001b[0;34m:\u001b[0m\u001b[0;34m\u001b[0m\u001b[0;34m\u001b[0m\u001b[0m\n\u001b[0;32m-> 2898\u001b[0;31m                 \u001b[0;32mreturn\u001b[0m \u001b[0mself\u001b[0m\u001b[0;34m.\u001b[0m\u001b[0m_engine\u001b[0m\u001b[0;34m.\u001b[0m\u001b[0mget_loc\u001b[0m\u001b[0;34m(\u001b[0m\u001b[0mcasted_key\u001b[0m\u001b[0;34m)\u001b[0m\u001b[0;34m\u001b[0m\u001b[0;34m\u001b[0m\u001b[0m\n\u001b[0m\u001b[1;32m   2899\u001b[0m             \u001b[0;32mexcept\u001b[0m \u001b[0mKeyError\u001b[0m \u001b[0;32mas\u001b[0m \u001b[0merr\u001b[0m\u001b[0;34m:\u001b[0m\u001b[0;34m\u001b[0m\u001b[0;34m\u001b[0m\u001b[0m\n",
            "\u001b[0;32mpandas/_libs/index.pyx\u001b[0m in \u001b[0;36mpandas._libs.index.IndexEngine.get_loc\u001b[0;34m()\u001b[0m\n",
            "\u001b[0;32mpandas/_libs/index.pyx\u001b[0m in \u001b[0;36mpandas._libs.index.IndexEngine.get_loc\u001b[0;34m()\u001b[0m\n",
            "\u001b[0;32mpandas/_libs/hashtable_class_helper.pxi\u001b[0m in \u001b[0;36mpandas._libs.hashtable.PyObjectHashTable.get_item\u001b[0;34m()\u001b[0m\n",
            "\u001b[0;32mpandas/_libs/hashtable_class_helper.pxi\u001b[0m in \u001b[0;36mpandas._libs.hashtable.PyObjectHashTable.get_item\u001b[0;34m()\u001b[0m\n",
            "\u001b[0;31mKeyError\u001b[0m: 'religion'",
            "\nThe above exception was the direct cause of the following exception:\n",
            "\u001b[0;31mKeyError\u001b[0m                                  Traceback (most recent call last)",
            "\u001b[0;32m<ipython-input-69-ec41a49eee85>\u001b[0m in \u001b[0;36m<module>\u001b[0;34m()\u001b[0m\n\u001b[0;32m----> 1\u001b[0;31m \u001b[0mdf\u001b[0m\u001b[0;34m[\u001b[0m\u001b[0;34m'religion'\u001b[0m\u001b[0;34m]\u001b[0m\u001b[0;34m.\u001b[0m\u001b[0mhist\u001b[0m\u001b[0;34m(\u001b[0m\u001b[0mbins\u001b[0m\u001b[0;34m=\u001b[0m\u001b[0;36m20\u001b[0m\u001b[0;34m)\u001b[0m\u001b[0;34m;\u001b[0m\u001b[0;34m\u001b[0m\u001b[0;34m\u001b[0m\u001b[0m\n\u001b[0m",
            "\u001b[0;32m/usr/local/lib/python3.7/dist-packages/pandas/core/frame.py\u001b[0m in \u001b[0;36m__getitem__\u001b[0;34m(self, key)\u001b[0m\n\u001b[1;32m   2904\u001b[0m             \u001b[0;32mif\u001b[0m \u001b[0mself\u001b[0m\u001b[0;34m.\u001b[0m\u001b[0mcolumns\u001b[0m\u001b[0;34m.\u001b[0m\u001b[0mnlevels\u001b[0m \u001b[0;34m>\u001b[0m \u001b[0;36m1\u001b[0m\u001b[0;34m:\u001b[0m\u001b[0;34m\u001b[0m\u001b[0;34m\u001b[0m\u001b[0m\n\u001b[1;32m   2905\u001b[0m                 \u001b[0;32mreturn\u001b[0m \u001b[0mself\u001b[0m\u001b[0;34m.\u001b[0m\u001b[0m_getitem_multilevel\u001b[0m\u001b[0;34m(\u001b[0m\u001b[0mkey\u001b[0m\u001b[0;34m)\u001b[0m\u001b[0;34m\u001b[0m\u001b[0;34m\u001b[0m\u001b[0m\n\u001b[0;32m-> 2906\u001b[0;31m             \u001b[0mindexer\u001b[0m \u001b[0;34m=\u001b[0m \u001b[0mself\u001b[0m\u001b[0;34m.\u001b[0m\u001b[0mcolumns\u001b[0m\u001b[0;34m.\u001b[0m\u001b[0mget_loc\u001b[0m\u001b[0;34m(\u001b[0m\u001b[0mkey\u001b[0m\u001b[0;34m)\u001b[0m\u001b[0;34m\u001b[0m\u001b[0;34m\u001b[0m\u001b[0m\n\u001b[0m\u001b[1;32m   2907\u001b[0m             \u001b[0;32mif\u001b[0m \u001b[0mis_integer\u001b[0m\u001b[0;34m(\u001b[0m\u001b[0mindexer\u001b[0m\u001b[0;34m)\u001b[0m\u001b[0;34m:\u001b[0m\u001b[0;34m\u001b[0m\u001b[0;34m\u001b[0m\u001b[0m\n\u001b[1;32m   2908\u001b[0m                 \u001b[0mindexer\u001b[0m \u001b[0;34m=\u001b[0m \u001b[0;34m[\u001b[0m\u001b[0mindexer\u001b[0m\u001b[0;34m]\u001b[0m\u001b[0;34m\u001b[0m\u001b[0;34m\u001b[0m\u001b[0m\n",
            "\u001b[0;32m/usr/local/lib/python3.7/dist-packages/pandas/core/indexes/base.py\u001b[0m in \u001b[0;36mget_loc\u001b[0;34m(self, key, method, tolerance)\u001b[0m\n\u001b[1;32m   2898\u001b[0m                 \u001b[0;32mreturn\u001b[0m \u001b[0mself\u001b[0m\u001b[0;34m.\u001b[0m\u001b[0m_engine\u001b[0m\u001b[0;34m.\u001b[0m\u001b[0mget_loc\u001b[0m\u001b[0;34m(\u001b[0m\u001b[0mcasted_key\u001b[0m\u001b[0;34m)\u001b[0m\u001b[0;34m\u001b[0m\u001b[0;34m\u001b[0m\u001b[0m\n\u001b[1;32m   2899\u001b[0m             \u001b[0;32mexcept\u001b[0m \u001b[0mKeyError\u001b[0m \u001b[0;32mas\u001b[0m \u001b[0merr\u001b[0m\u001b[0;34m:\u001b[0m\u001b[0;34m\u001b[0m\u001b[0;34m\u001b[0m\u001b[0m\n\u001b[0;32m-> 2900\u001b[0;31m                 \u001b[0;32mraise\u001b[0m \u001b[0mKeyError\u001b[0m\u001b[0;34m(\u001b[0m\u001b[0mkey\u001b[0m\u001b[0;34m)\u001b[0m \u001b[0;32mfrom\u001b[0m \u001b[0merr\u001b[0m\u001b[0;34m\u001b[0m\u001b[0;34m\u001b[0m\u001b[0m\n\u001b[0m\u001b[1;32m   2901\u001b[0m \u001b[0;34m\u001b[0m\u001b[0m\n\u001b[1;32m   2902\u001b[0m         \u001b[0;32mif\u001b[0m \u001b[0mtolerance\u001b[0m \u001b[0;32mis\u001b[0m \u001b[0;32mnot\u001b[0m \u001b[0;32mNone\u001b[0m\u001b[0;34m:\u001b[0m\u001b[0;34m\u001b[0m\u001b[0;34m\u001b[0m\u001b[0m\n",
            "\u001b[0;31mKeyError\u001b[0m: 'religion'"
          ]
        }
      ],
      "source": [
        "df['religion'].hist(bins=20);"
      ]
    },
    {
      "cell_type": "markdown",
      "metadata": {
        "id": "02EvJ0X7lHoh"
      },
      "source": [
        "# New Data For PCA"
      ]
    },
    {
      "cell_type": "code",
      "execution_count": null,
      "metadata": {
        "id": "Z4GiG7eflJau"
      },
      "outputs": [],
      "source": [
        "df_pca = pd.DataFrame(X_pca_35, columns = ['PC1', 'PC2', 'PC3', 'PC4', 'PC5', 'PC6', 'PC7', 'PC8', 'PC9', 'PC10', 'PC11', 'PC12', 'PC13', 'PC14', 'PC15', 'PC16', \n",
        "                                           'PC17', 'PC18', 'PC19', 'PC20', 'PC21', 'PC22', 'PC23', 'PC24', 'PC25', 'PC26', 'PC27', 'PC28', 'PC29', 'PC30', 'PC31',\n",
        "                                           'PC32', 'PC33', 'PC34', 'PC35'])\n",
        "df_pca['H/A'] = df['H/A']\n",
        "df_pca['W/A'] = df['W/A']\n",
        "df_pca['W/H'] = df['W/H']\n",
        "df_pca['Bmi'] = df['Bmi']"
      ]
    },
    {
      "cell_type": "code",
      "execution_count": null,
      "metadata": {
        "colab": {
          "base_uri": "https://localhost:8080/"
        },
        "id": "pN6UgmCmlJer",
        "outputId": "556ac927-2728-4dff-cae9-577841e6ab87"
      },
      "outputs": [
        {
          "data": {
            "text/plain": [
              "(172622, 39)"
            ]
          },
          "execution_count": 71,
          "metadata": {},
          "output_type": "execute_result"
        }
      ],
      "source": [
        "df_pca.shape"
      ]
    },
    {
      "cell_type": "code",
      "execution_count": null,
      "metadata": {
        "colab": {
          "base_uri": "https://localhost:8080/",
          "height": 434
        },
        "id": "gzaOBKdUnWoW",
        "outputId": "9b9dfad5-3acf-4291-fee7-d83176285354"
      },
      "outputs": [
        {
          "data": {
            "text/html": [
              "<div>\n",
              "<style scoped>\n",
              "    .dataframe tbody tr th:only-of-type {\n",
              "        vertical-align: middle;\n",
              "    }\n",
              "\n",
              "    .dataframe tbody tr th {\n",
              "        vertical-align: top;\n",
              "    }\n",
              "\n",
              "    .dataframe thead th {\n",
              "        text-align: right;\n",
              "    }\n",
              "</style>\n",
              "<table border=\"1\" class=\"dataframe\">\n",
              "  <thead>\n",
              "    <tr style=\"text-align: right;\">\n",
              "      <th></th>\n",
              "      <th>PC1</th>\n",
              "      <th>PC2</th>\n",
              "      <th>PC3</th>\n",
              "      <th>PC4</th>\n",
              "      <th>PC5</th>\n",
              "      <th>PC6</th>\n",
              "      <th>PC7</th>\n",
              "      <th>PC8</th>\n",
              "      <th>PC9</th>\n",
              "      <th>PC10</th>\n",
              "      <th>PC11</th>\n",
              "      <th>PC12</th>\n",
              "      <th>PC13</th>\n",
              "      <th>PC14</th>\n",
              "      <th>PC15</th>\n",
              "      <th>PC16</th>\n",
              "      <th>PC17</th>\n",
              "      <th>PC18</th>\n",
              "      <th>PC19</th>\n",
              "      <th>PC20</th>\n",
              "      <th>PC21</th>\n",
              "      <th>PC22</th>\n",
              "      <th>PC23</th>\n",
              "      <th>PC24</th>\n",
              "      <th>PC25</th>\n",
              "      <th>PC26</th>\n",
              "      <th>PC27</th>\n",
              "      <th>PC28</th>\n",
              "      <th>PC29</th>\n",
              "      <th>PC30</th>\n",
              "      <th>PC31</th>\n",
              "      <th>PC32</th>\n",
              "      <th>PC33</th>\n",
              "      <th>PC34</th>\n",
              "      <th>PC35</th>\n",
              "      <th>H/A</th>\n",
              "      <th>W/A</th>\n",
              "      <th>W/H</th>\n",
              "      <th>Bmi</th>\n",
              "    </tr>\n",
              "  </thead>\n",
              "  <tbody>\n",
              "    <tr>\n",
              "      <th>0</th>\n",
              "      <td>-2.611580</td>\n",
              "      <td>-1.144783</td>\n",
              "      <td>-1.470528</td>\n",
              "      <td>0.969800</td>\n",
              "      <td>0.606137</td>\n",
              "      <td>0.768696</td>\n",
              "      <td>0.547583</td>\n",
              "      <td>0.275222</td>\n",
              "      <td>0.179013</td>\n",
              "      <td>0.657300</td>\n",
              "      <td>0.032226</td>\n",
              "      <td>0.202547</td>\n",
              "      <td>-0.165528</td>\n",
              "      <td>1.105486</td>\n",
              "      <td>-0.069619</td>\n",
              "      <td>-0.185972</td>\n",
              "      <td>0.968950</td>\n",
              "      <td>0.298585</td>\n",
              "      <td>0.328417</td>\n",
              "      <td>-0.065105</td>\n",
              "      <td>-0.242451</td>\n",
              "      <td>0.353719</td>\n",
              "      <td>-0.367155</td>\n",
              "      <td>-0.285063</td>\n",
              "      <td>-0.123723</td>\n",
              "      <td>0.504882</td>\n",
              "      <td>-0.912571</td>\n",
              "      <td>-0.062560</td>\n",
              "      <td>0.501104</td>\n",
              "      <td>0.833035</td>\n",
              "      <td>0.466628</td>\n",
              "      <td>-0.071177</td>\n",
              "      <td>-0.064901</td>\n",
              "      <td>-0.098640</td>\n",
              "      <td>0.167396</td>\n",
              "      <td>0</td>\n",
              "      <td>0</td>\n",
              "      <td>0</td>\n",
              "      <td>0</td>\n",
              "    </tr>\n",
              "    <tr>\n",
              "      <th>1</th>\n",
              "      <td>-3.565073</td>\n",
              "      <td>-1.088118</td>\n",
              "      <td>-1.366425</td>\n",
              "      <td>0.895530</td>\n",
              "      <td>-0.085538</td>\n",
              "      <td>0.575861</td>\n",
              "      <td>1.412264</td>\n",
              "      <td>0.359849</td>\n",
              "      <td>-0.432639</td>\n",
              "      <td>-0.889223</td>\n",
              "      <td>-0.071501</td>\n",
              "      <td>0.128148</td>\n",
              "      <td>0.156355</td>\n",
              "      <td>-0.236750</td>\n",
              "      <td>0.325269</td>\n",
              "      <td>0.808102</td>\n",
              "      <td>-0.000131</td>\n",
              "      <td>-0.043368</td>\n",
              "      <td>-0.401620</td>\n",
              "      <td>0.565243</td>\n",
              "      <td>-0.744567</td>\n",
              "      <td>0.197913</td>\n",
              "      <td>-0.191749</td>\n",
              "      <td>0.651424</td>\n",
              "      <td>-0.413296</td>\n",
              "      <td>0.337386</td>\n",
              "      <td>-0.478640</td>\n",
              "      <td>-0.483349</td>\n",
              "      <td>0.481293</td>\n",
              "      <td>-0.370240</td>\n",
              "      <td>-0.551504</td>\n",
              "      <td>0.188669</td>\n",
              "      <td>-0.078325</td>\n",
              "      <td>-0.317374</td>\n",
              "      <td>0.152485</td>\n",
              "      <td>0</td>\n",
              "      <td>0</td>\n",
              "      <td>0</td>\n",
              "      <td>0</td>\n",
              "    </tr>\n",
              "    <tr>\n",
              "      <th>2</th>\n",
              "      <td>-0.492397</td>\n",
              "      <td>2.947618</td>\n",
              "      <td>-0.359907</td>\n",
              "      <td>0.547681</td>\n",
              "      <td>-0.507146</td>\n",
              "      <td>0.904731</td>\n",
              "      <td>-0.824846</td>\n",
              "      <td>-0.975701</td>\n",
              "      <td>0.360330</td>\n",
              "      <td>0.333163</td>\n",
              "      <td>-0.162173</td>\n",
              "      <td>-0.270162</td>\n",
              "      <td>0.102504</td>\n",
              "      <td>-0.094867</td>\n",
              "      <td>-0.373026</td>\n",
              "      <td>0.428541</td>\n",
              "      <td>0.360654</td>\n",
              "      <td>-0.204528</td>\n",
              "      <td>-0.425001</td>\n",
              "      <td>0.000454</td>\n",
              "      <td>-0.342128</td>\n",
              "      <td>-0.690766</td>\n",
              "      <td>0.171918</td>\n",
              "      <td>-0.278044</td>\n",
              "      <td>-0.316210</td>\n",
              "      <td>-0.000346</td>\n",
              "      <td>-0.454288</td>\n",
              "      <td>-0.332093</td>\n",
              "      <td>-0.091986</td>\n",
              "      <td>-0.062652</td>\n",
              "      <td>-0.123419</td>\n",
              "      <td>-0.773199</td>\n",
              "      <td>0.410960</td>\n",
              "      <td>0.232732</td>\n",
              "      <td>1.012929</td>\n",
              "      <td>0</td>\n",
              "      <td>0</td>\n",
              "      <td>0</td>\n",
              "      <td>0</td>\n",
              "    </tr>\n",
              "    <tr>\n",
              "      <th>3</th>\n",
              "      <td>-0.360977</td>\n",
              "      <td>1.951331</td>\n",
              "      <td>0.446607</td>\n",
              "      <td>1.042135</td>\n",
              "      <td>-0.231394</td>\n",
              "      <td>-0.480800</td>\n",
              "      <td>-0.820855</td>\n",
              "      <td>-1.128317</td>\n",
              "      <td>0.292953</td>\n",
              "      <td>0.184500</td>\n",
              "      <td>-0.384490</td>\n",
              "      <td>-0.124644</td>\n",
              "      <td>0.000632</td>\n",
              "      <td>-0.011302</td>\n",
              "      <td>-0.188105</td>\n",
              "      <td>0.414684</td>\n",
              "      <td>0.364858</td>\n",
              "      <td>-0.171795</td>\n",
              "      <td>-0.052087</td>\n",
              "      <td>0.204867</td>\n",
              "      <td>-0.434612</td>\n",
              "      <td>-0.164047</td>\n",
              "      <td>-0.402767</td>\n",
              "      <td>-0.192897</td>\n",
              "      <td>-0.547974</td>\n",
              "      <td>-0.304786</td>\n",
              "      <td>-0.114812</td>\n",
              "      <td>-0.341662</td>\n",
              "      <td>-0.671601</td>\n",
              "      <td>-0.278616</td>\n",
              "      <td>0.322586</td>\n",
              "      <td>0.407229</td>\n",
              "      <td>0.255125</td>\n",
              "      <td>0.622344</td>\n",
              "      <td>0.985223</td>\n",
              "      <td>0</td>\n",
              "      <td>0</td>\n",
              "      <td>0</td>\n",
              "      <td>0</td>\n",
              "    </tr>\n",
              "    <tr>\n",
              "      <th>4</th>\n",
              "      <td>-1.488282</td>\n",
              "      <td>-1.045526</td>\n",
              "      <td>-0.363541</td>\n",
              "      <td>0.632826</td>\n",
              "      <td>-0.354855</td>\n",
              "      <td>0.996954</td>\n",
              "      <td>-0.770848</td>\n",
              "      <td>-0.966754</td>\n",
              "      <td>0.411747</td>\n",
              "      <td>0.371617</td>\n",
              "      <td>-0.427957</td>\n",
              "      <td>-0.276346</td>\n",
              "      <td>0.172458</td>\n",
              "      <td>-0.100358</td>\n",
              "      <td>-0.288422</td>\n",
              "      <td>0.486905</td>\n",
              "      <td>0.627636</td>\n",
              "      <td>0.097641</td>\n",
              "      <td>-0.632533</td>\n",
              "      <td>0.772967</td>\n",
              "      <td>0.647063</td>\n",
              "      <td>-0.896012</td>\n",
              "      <td>0.295744</td>\n",
              "      <td>0.439298</td>\n",
              "      <td>-0.461127</td>\n",
              "      <td>-0.265369</td>\n",
              "      <td>-0.366271</td>\n",
              "      <td>-0.178662</td>\n",
              "      <td>-0.184990</td>\n",
              "      <td>-0.175782</td>\n",
              "      <td>-0.285806</td>\n",
              "      <td>-0.204727</td>\n",
              "      <td>0.175594</td>\n",
              "      <td>0.210913</td>\n",
              "      <td>0.807520</td>\n",
              "      <td>0</td>\n",
              "      <td>0</td>\n",
              "      <td>0</td>\n",
              "      <td>0</td>\n",
              "    </tr>\n",
              "    <tr>\n",
              "      <th>...</th>\n",
              "      <td>...</td>\n",
              "      <td>...</td>\n",
              "      <td>...</td>\n",
              "      <td>...</td>\n",
              "      <td>...</td>\n",
              "      <td>...</td>\n",
              "      <td>...</td>\n",
              "      <td>...</td>\n",
              "      <td>...</td>\n",
              "      <td>...</td>\n",
              "      <td>...</td>\n",
              "      <td>...</td>\n",
              "      <td>...</td>\n",
              "      <td>...</td>\n",
              "      <td>...</td>\n",
              "      <td>...</td>\n",
              "      <td>...</td>\n",
              "      <td>...</td>\n",
              "      <td>...</td>\n",
              "      <td>...</td>\n",
              "      <td>...</td>\n",
              "      <td>...</td>\n",
              "      <td>...</td>\n",
              "      <td>...</td>\n",
              "      <td>...</td>\n",
              "      <td>...</td>\n",
              "      <td>...</td>\n",
              "      <td>...</td>\n",
              "      <td>...</td>\n",
              "      <td>...</td>\n",
              "      <td>...</td>\n",
              "      <td>...</td>\n",
              "      <td>...</td>\n",
              "      <td>...</td>\n",
              "      <td>...</td>\n",
              "      <td>...</td>\n",
              "      <td>...</td>\n",
              "      <td>...</td>\n",
              "      <td>...</td>\n",
              "    </tr>\n",
              "    <tr>\n",
              "      <th>172617</th>\n",
              "      <td>-2.587128</td>\n",
              "      <td>-1.067993</td>\n",
              "      <td>-1.551868</td>\n",
              "      <td>1.073562</td>\n",
              "      <td>-0.068456</td>\n",
              "      <td>0.690717</td>\n",
              "      <td>1.037673</td>\n",
              "      <td>-0.084058</td>\n",
              "      <td>-0.660513</td>\n",
              "      <td>-0.976732</td>\n",
              "      <td>-0.247205</td>\n",
              "      <td>0.212233</td>\n",
              "      <td>0.356224</td>\n",
              "      <td>0.233257</td>\n",
              "      <td>0.476265</td>\n",
              "      <td>-0.292857</td>\n",
              "      <td>-0.447795</td>\n",
              "      <td>-0.228484</td>\n",
              "      <td>-0.272400</td>\n",
              "      <td>0.197735</td>\n",
              "      <td>-0.275481</td>\n",
              "      <td>0.132747</td>\n",
              "      <td>0.167266</td>\n",
              "      <td>0.385376</td>\n",
              "      <td>-0.605646</td>\n",
              "      <td>-0.497083</td>\n",
              "      <td>0.365680</td>\n",
              "      <td>-0.674974</td>\n",
              "      <td>0.188618</td>\n",
              "      <td>-0.523908</td>\n",
              "      <td>-0.417951</td>\n",
              "      <td>0.185356</td>\n",
              "      <td>-0.053807</td>\n",
              "      <td>0.264696</td>\n",
              "      <td>-0.519750</td>\n",
              "      <td>0</td>\n",
              "      <td>0</td>\n",
              "      <td>0</td>\n",
              "      <td>0</td>\n",
              "    </tr>\n",
              "    <tr>\n",
              "      <th>172618</th>\n",
              "      <td>-2.456389</td>\n",
              "      <td>-1.075227</td>\n",
              "      <td>-0.547351</td>\n",
              "      <td>1.396536</td>\n",
              "      <td>0.001726</td>\n",
              "      <td>0.790723</td>\n",
              "      <td>-0.118933</td>\n",
              "      <td>0.983308</td>\n",
              "      <td>-0.909287</td>\n",
              "      <td>-1.064219</td>\n",
              "      <td>-0.396387</td>\n",
              "      <td>0.135411</td>\n",
              "      <td>0.216463</td>\n",
              "      <td>-0.151139</td>\n",
              "      <td>0.441397</td>\n",
              "      <td>-0.213155</td>\n",
              "      <td>0.225802</td>\n",
              "      <td>-0.405716</td>\n",
              "      <td>0.012989</td>\n",
              "      <td>0.045754</td>\n",
              "      <td>-0.234827</td>\n",
              "      <td>0.242815</td>\n",
              "      <td>0.040433</td>\n",
              "      <td>-0.281021</td>\n",
              "      <td>-0.145446</td>\n",
              "      <td>-0.577165</td>\n",
              "      <td>0.461591</td>\n",
              "      <td>-0.761063</td>\n",
              "      <td>0.459020</td>\n",
              "      <td>0.120048</td>\n",
              "      <td>0.498466</td>\n",
              "      <td>0.082305</td>\n",
              "      <td>-0.103374</td>\n",
              "      <td>0.189781</td>\n",
              "      <td>-0.319077</td>\n",
              "      <td>0</td>\n",
              "      <td>0</td>\n",
              "      <td>0</td>\n",
              "      <td>0</td>\n",
              "    </tr>\n",
              "    <tr>\n",
              "      <th>172619</th>\n",
              "      <td>-3.519202</td>\n",
              "      <td>-0.037502</td>\n",
              "      <td>-1.059706</td>\n",
              "      <td>-0.031369</td>\n",
              "      <td>-0.708769</td>\n",
              "      <td>-1.015254</td>\n",
              "      <td>-0.421201</td>\n",
              "      <td>1.807692</td>\n",
              "      <td>-0.304749</td>\n",
              "      <td>0.443301</td>\n",
              "      <td>-0.180103</td>\n",
              "      <td>0.141067</td>\n",
              "      <td>0.753136</td>\n",
              "      <td>-0.459536</td>\n",
              "      <td>-0.772020</td>\n",
              "      <td>0.782807</td>\n",
              "      <td>-0.016555</td>\n",
              "      <td>-0.272059</td>\n",
              "      <td>-0.623747</td>\n",
              "      <td>-0.030857</td>\n",
              "      <td>-0.402117</td>\n",
              "      <td>-0.211898</td>\n",
              "      <td>0.536058</td>\n",
              "      <td>-0.050196</td>\n",
              "      <td>-0.014333</td>\n",
              "      <td>-0.226305</td>\n",
              "      <td>-0.214988</td>\n",
              "      <td>0.327900</td>\n",
              "      <td>-0.192948</td>\n",
              "      <td>0.202505</td>\n",
              "      <td>0.008220</td>\n",
              "      <td>0.710423</td>\n",
              "      <td>0.037716</td>\n",
              "      <td>0.534568</td>\n",
              "      <td>-0.410822</td>\n",
              "      <td>0</td>\n",
              "      <td>0</td>\n",
              "      <td>0</td>\n",
              "      <td>0</td>\n",
              "    </tr>\n",
              "    <tr>\n",
              "      <th>172620</th>\n",
              "      <td>1.482662</td>\n",
              "      <td>-1.063431</td>\n",
              "      <td>-1.373716</td>\n",
              "      <td>-1.152617</td>\n",
              "      <td>-0.679769</td>\n",
              "      <td>-0.733039</td>\n",
              "      <td>-0.870806</td>\n",
              "      <td>0.892090</td>\n",
              "      <td>-0.141057</td>\n",
              "      <td>-0.069438</td>\n",
              "      <td>0.560967</td>\n",
              "      <td>-0.630224</td>\n",
              "      <td>-0.284574</td>\n",
              "      <td>-1.070378</td>\n",
              "      <td>0.712784</td>\n",
              "      <td>0.423546</td>\n",
              "      <td>0.461691</td>\n",
              "      <td>0.308443</td>\n",
              "      <td>-0.637653</td>\n",
              "      <td>-0.041122</td>\n",
              "      <td>-0.453291</td>\n",
              "      <td>0.895040</td>\n",
              "      <td>-0.300075</td>\n",
              "      <td>0.462483</td>\n",
              "      <td>0.337632</td>\n",
              "      <td>0.222474</td>\n",
              "      <td>0.164980</td>\n",
              "      <td>0.477074</td>\n",
              "      <td>0.671790</td>\n",
              "      <td>-0.491158</td>\n",
              "      <td>-0.008585</td>\n",
              "      <td>-0.431437</td>\n",
              "      <td>0.112646</td>\n",
              "      <td>0.362588</td>\n",
              "      <td>-0.471499</td>\n",
              "      <td>0</td>\n",
              "      <td>1</td>\n",
              "      <td>1</td>\n",
              "      <td>1</td>\n",
              "    </tr>\n",
              "    <tr>\n",
              "      <th>172621</th>\n",
              "      <td>-2.469957</td>\n",
              "      <td>-1.085980</td>\n",
              "      <td>-0.559697</td>\n",
              "      <td>0.986400</td>\n",
              "      <td>0.406363</td>\n",
              "      <td>-0.442700</td>\n",
              "      <td>-0.322317</td>\n",
              "      <td>-0.697619</td>\n",
              "      <td>-0.439324</td>\n",
              "      <td>0.208230</td>\n",
              "      <td>-0.472428</td>\n",
              "      <td>-0.232112</td>\n",
              "      <td>-0.484628</td>\n",
              "      <td>-0.238477</td>\n",
              "      <td>-0.510846</td>\n",
              "      <td>0.073467</td>\n",
              "      <td>0.301853</td>\n",
              "      <td>-0.059557</td>\n",
              "      <td>0.202680</td>\n",
              "      <td>-0.369529</td>\n",
              "      <td>0.216595</td>\n",
              "      <td>0.417446</td>\n",
              "      <td>-0.401717</td>\n",
              "      <td>0.839700</td>\n",
              "      <td>-0.244429</td>\n",
              "      <td>0.233750</td>\n",
              "      <td>-0.469954</td>\n",
              "      <td>0.105085</td>\n",
              "      <td>0.369945</td>\n",
              "      <td>-0.072892</td>\n",
              "      <td>-0.632457</td>\n",
              "      <td>0.186484</td>\n",
              "      <td>-0.003117</td>\n",
              "      <td>0.303466</td>\n",
              "      <td>-0.582432</td>\n",
              "      <td>0</td>\n",
              "      <td>0</td>\n",
              "      <td>0</td>\n",
              "      <td>0</td>\n",
              "    </tr>\n",
              "  </tbody>\n",
              "</table>\n",
              "<p>172622 rows × 39 columns</p>\n",
              "</div>"
            ],
            "text/plain": [
              "             PC1       PC2       PC3       PC4  ...  H/A  W/A  W/H  Bmi\n",
              "0      -2.611580 -1.144783 -1.470528  0.969800  ...    0    0    0    0\n",
              "1      -3.565073 -1.088118 -1.366425  0.895530  ...    0    0    0    0\n",
              "2      -0.492397  2.947618 -0.359907  0.547681  ...    0    0    0    0\n",
              "3      -0.360977  1.951331  0.446607  1.042135  ...    0    0    0    0\n",
              "4      -1.488282 -1.045526 -0.363541  0.632826  ...    0    0    0    0\n",
              "...          ...       ...       ...       ...  ...  ...  ...  ...  ...\n",
              "172617 -2.587128 -1.067993 -1.551868  1.073562  ...    0    0    0    0\n",
              "172618 -2.456389 -1.075227 -0.547351  1.396536  ...    0    0    0    0\n",
              "172619 -3.519202 -0.037502 -1.059706 -0.031369  ...    0    0    0    0\n",
              "172620  1.482662 -1.063431 -1.373716 -1.152617  ...    0    1    1    1\n",
              "172621 -2.469957 -1.085980 -0.559697  0.986400  ...    0    0    0    0\n",
              "\n",
              "[172622 rows x 39 columns]"
            ]
          },
          "execution_count": 72,
          "metadata": {},
          "output_type": "execute_result"
        }
      ],
      "source": [
        "df_pca"
      ]
    },
    {
      "cell_type": "markdown",
      "metadata": {
        "id": "8VsYDiryuVxW"
      },
      "source": [
        "# Train Test Val Split"
      ]
    },
    {
      "cell_type": "markdown",
      "metadata": {
        "id": "kLVnf_UnCJdc"
      },
      "source": [
        "### Splitting for original algorithm"
      ]
    },
    {
      "cell_type": "code",
      "execution_count": null,
      "metadata": {
        "id": "tV5wuUJNwpmV"
      },
      "outputs": [],
      "source": [
        "Train, test = train_test_split(dfd, test_size=0.15, random_state = 13)\n",
        "train, val = train_test_split(Train, test_size=0.15, random_state = 59)"
      ]
    },
    {
      "cell_type": "code",
      "execution_count": null,
      "metadata": {
        "colab": {
          "base_uri": "https://localhost:8080/"
        },
        "id": "t9RBKNoJwy70",
        "outputId": "027a6ffc-f120-4a24-e56e-3eb2118b54d2"
      },
      "outputs": [
        {
          "name": "stdout",
          "output_type": "stream",
          "text": [
            "(124718, 71)  is the shape of training data for NN\n",
            "(146728, 71)  is the shape of training data for ML algos\n",
            "(25894, 71)  is the shape of testing data\n",
            "(22010, 71)  is the shape of validation data\n"
          ]
        }
      ],
      "source": [
        "print(train.shape, ' is the shape of training data for NN')\n",
        "print(Train.shape, ' is the shape of training data for ML algos')\n",
        "print(test.shape, ' is the shape of testing data')\n",
        "print(val.shape, ' is the shape of validation data')"
      ]
    },
    {
      "cell_type": "code",
      "execution_count": null,
      "metadata": {
        "colab": {
          "base_uri": "https://localhost:8080/"
        },
        "id": "7cwONbmz0nGv",
        "outputId": "beb8e71e-e236-4089-888f-68e29131330d"
      },
      "outputs": [
        {
          "name": "stdout",
          "output_type": "stream",
          "text": [
            "(146728, 66) X shape\n",
            "(146728, 1) y1 shape\n",
            "(146728, 1) y2 shape\n",
            "(146728, 1) y3 shape\n",
            "(146728, 1) y4 shape\n",
            "(146728,) y5 shape\n"
          ]
        }
      ],
      "source": [
        "X_Train, y1_Train, y2_Train, y3_Train, y4_Train, y5_Train = split_X_y(Train)"
      ]
    },
    {
      "cell_type": "code",
      "execution_count": null,
      "metadata": {
        "colab": {
          "base_uri": "https://localhost:8080/"
        },
        "id": "MXyXQkdj0ur_",
        "outputId": "ac96f04f-638c-4821-e9f6-b7b41cd92dc9"
      },
      "outputs": [
        {
          "name": "stdout",
          "output_type": "stream",
          "text": [
            "(25894, 66) X shape\n",
            "(25894, 1) y1 shape\n",
            "(25894, 1) y2 shape\n",
            "(25894, 1) y3 shape\n",
            "(25894, 1) y4 shape\n",
            "(25894,) y5 shape\n"
          ]
        }
      ],
      "source": [
        "X_test, y1_test, y2_test, y3_test, y4_test, y5_test= split_X_y(test)"
      ]
    },
    {
      "cell_type": "code",
      "execution_count": null,
      "metadata": {
        "colab": {
          "base_uri": "https://localhost:8080/"
        },
        "id": "1vOHMCXG0vKP",
        "outputId": "ecc463f9-7cb0-4995-ac65-14d69eb48900"
      },
      "outputs": [
        {
          "name": "stdout",
          "output_type": "stream",
          "text": [
            "(22010, 66) X shape\n",
            "(22010, 1) y1 shape\n",
            "(22010, 1) y2 shape\n",
            "(22010, 1) y3 shape\n",
            "(22010, 1) y4 shape\n",
            "(22010,) y5 shape\n"
          ]
        }
      ],
      "source": [
        "X_val, y1_val, y2_val, y3_val, y4_val, y5_val = split_X_y(val)"
      ]
    },
    {
      "cell_type": "code",
      "execution_count": null,
      "metadata": {
        "colab": {
          "base_uri": "https://localhost:8080/"
        },
        "id": "zLb4WjOVerpH",
        "outputId": "3bd9a792-e570-4066-8c70-08baf4147d96"
      },
      "outputs": [
        {
          "name": "stdout",
          "output_type": "stream",
          "text": [
            "(124718, 66) X shape\n",
            "(124718, 1) y1 shape\n",
            "(124718, 1) y2 shape\n",
            "(124718, 1) y3 shape\n",
            "(124718, 1) y4 shape\n",
            "(124718,) y5 shape\n"
          ]
        }
      ],
      "source": [
        "X_train, y1_train, y2_train, y3_train, y4_train, y5_train = split_X_y(train)"
      ]
    },
    {
      "cell_type": "code",
      "execution_count": null,
      "metadata": {
        "colab": {
          "base_uri": "https://localhost:8080/"
        },
        "id": "iYFi78FMS2qP",
        "outputId": "6eeb97c7-b240-4725-8bbc-ce8e125f0476"
      },
      "outputs": [
        {
          "name": "stdout",
          "output_type": "stream",
          "text": [
            "        no of members  ...  immunization_unimmunized\n",
            "41164        0.102564  ...                       0.0\n",
            "77080        0.282051  ...                       0.0\n",
            "113182       0.102564  ...                       0.0\n",
            "19321        0.153846  ...                       0.0\n",
            "89910        0.205128  ...                       0.0\n",
            "\n",
            "[5 rows x 66 columns]\n",
            "        no of members  ...  immunization_unimmunized\n",
            "89636        0.076923  ...                       0.0\n",
            "93028        0.051282  ...                       0.0\n",
            "114581       0.051282  ...                       0.0\n",
            "119324       0.179487  ...                       0.0\n",
            "123404       0.153846  ...                       0.0\n",
            "\n",
            "[5 rows x 66 columns]\n",
            "        no of members  ...  immunization_unimmunized\n",
            "105569       0.090909  ...                       0.0\n",
            "9427         0.121212  ...                       1.0\n",
            "151278       0.151515  ...                       0.0\n",
            "44109        0.151515  ...                       0.0\n",
            "110016       0.151515  ...                       0.0\n",
            "\n",
            "[5 rows x 66 columns]\n",
            "        no of members  ...  immunization_unimmunized\n",
            "147838       0.230769  ...                       0.0\n",
            "26067        0.153846  ...                       0.0\n",
            "144003       0.128205  ...                       0.0\n",
            "74021        0.051282  ...                       0.0\n",
            "116999       0.128205  ...                       0.0\n",
            "\n",
            "[5 rows x 66 columns]\n"
          ]
        }
      ],
      "source": [
        "_X_Train = norm(X_Train)\n",
        "_X_train = norm(X_train)\n",
        "_X_val = norm(X_val)\n",
        "_X_test = norm(X_test)"
      ]
    },
    {
      "cell_type": "code",
      "execution_count": null,
      "metadata": {
        "colab": {
          "base_uri": "https://localhost:8080/"
        },
        "id": "pO9eSwPXFhjV",
        "outputId": "4b8d1601-affa-452f-c3b1-84191164c7dc"
      },
      "outputs": [
        {
          "data": {
            "text/plain": [
              "(146728, 1)"
            ]
          },
          "execution_count": 25,
          "metadata": {},
          "output_type": "execute_result"
        }
      ],
      "source": [
        "y1_Train.shape"
      ]
    },
    {
      "cell_type": "markdown",
      "metadata": {
        "id": "9CY_wDD3m4Gm"
      },
      "source": [
        "### Splitting for PCA"
      ]
    },
    {
      "cell_type": "code",
      "execution_count": null,
      "metadata": {
        "id": "4hwTnU7om7cS"
      },
      "outputs": [],
      "source": [
        "Train_pca, test_pca = train_test_split(df_pca, test_size=0.2, random_state = 368)\n",
        "train_pca, val_pca = train_test_split(Train_pca, test_size=0.15, random_state = 40)"
      ]
    },
    {
      "cell_type": "code",
      "execution_count": null,
      "metadata": {
        "colab": {
          "base_uri": "https://localhost:8080/"
        },
        "id": "sYUCDDX4m7gJ",
        "outputId": "6d5634ad-e895-4fa0-8545-6af142618161"
      },
      "outputs": [
        {
          "name": "stdout",
          "output_type": "stream",
          "text": [
            "(117382, 39)  is the shape of training data for NN\n",
            "(138097, 39)  is the shape of training data for ML algos\n",
            "(34525, 39)  is the shape of testing data\n",
            "(20715, 39)  is the shape of validation data\n"
          ]
        }
      ],
      "source": [
        "print(train_pca.shape, ' is the shape of training data for NN')\n",
        "print(Train_pca.shape, ' is the shape of training data for ML algos')\n",
        "print(test_pca.shape, ' is the shape of testing data')\n",
        "print(val_pca.shape, ' is the shape of validation data')"
      ]
    },
    {
      "cell_type": "code",
      "execution_count": null,
      "metadata": {
        "colab": {
          "base_uri": "https://localhost:8080/"
        },
        "id": "xv6zFiatm7lC",
        "outputId": "0554c448-61e9-4796-c6e6-7180b6c67dd7"
      },
      "outputs": [
        {
          "name": "stdout",
          "output_type": "stream",
          "text": [
            "(138097, 35) X shape\n",
            "(138097, 1) y1 shape\n",
            "(138097, 1) y2 shape\n",
            "(138097, 1) y3 shape\n",
            "(138097, 1) y4 shape\n"
          ]
        }
      ],
      "source": [
        "X_Train_pca, y1_Train_pca, y2_Train_pca, y3_Train_pca, y4_Train_pca = split_X_y(Train_pca)"
      ]
    },
    {
      "cell_type": "code",
      "execution_count": null,
      "metadata": {
        "colab": {
          "base_uri": "https://localhost:8080/"
        },
        "id": "g1aF7ApZm7o3",
        "outputId": "255bd69d-0a85-422f-db79-877b32175253"
      },
      "outputs": [
        {
          "name": "stdout",
          "output_type": "stream",
          "text": [
            "(34525, 35) X shape\n",
            "(34525, 1) y1 shape\n",
            "(34525, 1) y2 shape\n",
            "(34525, 1) y3 shape\n",
            "(34525, 1) y4 shape\n"
          ]
        }
      ],
      "source": [
        "X_test_pca, y1_test_pca, y2_test_pca, y3_test_pca, y4_test_pca = split_X_y(test_pca)"
      ]
    },
    {
      "cell_type": "code",
      "execution_count": null,
      "metadata": {
        "colab": {
          "base_uri": "https://localhost:8080/"
        },
        "id": "4PicwU9Hm7sm",
        "outputId": "da7b8f9b-f726-46a2-cb25-26e7e160de88"
      },
      "outputs": [
        {
          "name": "stdout",
          "output_type": "stream",
          "text": [
            "(20715, 35) X shape\n",
            "(20715, 1) y1 shape\n",
            "(20715, 1) y2 shape\n",
            "(20715, 1) y3 shape\n",
            "(20715, 1) y4 shape\n"
          ]
        }
      ],
      "source": [
        "X_val_pca, y1_val_pca, y2_val_pca, y3_val_pca, y4_val_pca = split_X_y(val_pca)"
      ]
    },
    {
      "cell_type": "code",
      "execution_count": null,
      "metadata": {
        "colab": {
          "base_uri": "https://localhost:8080/"
        },
        "id": "ohI6lwuBoEzG",
        "outputId": "db845b25-ffb0-4b11-abac-04f6c23099ef"
      },
      "outputs": [
        {
          "name": "stdout",
          "output_type": "stream",
          "text": [
            "(117382, 35) X shape\n",
            "(117382, 1) y1 shape\n",
            "(117382, 1) y2 shape\n",
            "(117382, 1) y3 shape\n",
            "(117382, 1) y4 shape\n"
          ]
        }
      ],
      "source": [
        "X_train_pca, y1_train_pca, y2_train_pca, y3_train_pca, y4_train_pca = split_X_y(train_pca)"
      ]
    },
    {
      "cell_type": "code",
      "execution_count": null,
      "metadata": {
        "colab": {
          "base_uri": "https://localhost:8080/"
        },
        "id": "0qqgw8I9qG8Y",
        "outputId": "594c5eb8-f329-4040-a1ef-0002ba2f7a84"
      },
      "outputs": [
        {
          "name": "stdout",
          "output_type": "stream",
          "text": [
            "             PC1       PC2       PC3  ...      PC33      PC34      PC35\n",
            "23984   0.077776  0.306875  0.224807  ...  0.789405  0.355764  0.358068\n",
            "142207  0.028950  0.012898  0.311496  ...  0.565484  0.713290  0.641929\n",
            "98089   0.111516  0.849711  0.471890  ...  0.267014  0.721452  0.719780\n",
            "96394   0.113221  0.164843  0.455116  ...  0.437272  0.474025  0.353408\n",
            "96557   0.054352  0.021948  0.304114  ...  0.432958  0.435409  0.419267\n",
            "\n",
            "[5 rows x 35 columns]\n",
            "            PC1       PC2       PC3  ...      PC33      PC34      PC35\n",
            "42111  0.078489  0.236758  0.247048  ...  0.122200  0.376732  0.568470\n",
            "13850  0.078121  0.035049  0.222749  ...  0.100487  0.532662  0.356791\n",
            "42406  0.291009  0.026544  0.353944  ...  0.471960  0.429455  0.555122\n",
            "6427   0.056056  0.025893  0.306620  ...  0.423529  0.537364  0.349056\n",
            "34520  0.133475  0.095200  0.274923  ...  0.516709  0.357491  0.586257\n",
            "\n",
            "[5 rows x 35 columns]\n",
            "             PC1       PC2       PC3  ...      PC33      PC34      PC35\n",
            "167310  0.090468  0.022654  0.191906  ...  0.417266  0.286160  0.674719\n",
            "151692  0.244120  0.028250  0.216268  ...  0.526863  0.319925  0.565398\n",
            "160594  0.451450  0.036262  0.175203  ...  0.501351  0.510412  0.526226\n",
            "89646   0.183967  0.030065  0.224575  ...  0.548662  0.376502  0.541067\n",
            "120633  0.298267  0.023336  0.106136  ...  0.431965  0.396000  0.564299\n",
            "\n",
            "[5 rows x 35 columns]\n",
            "             PC1       PC2       PC3  ...      PC33      PC34      PC35\n",
            "158639  0.057487  0.021211  0.339161  ...  0.417056  0.311292  0.406429\n",
            "100997  0.054887  0.027653  0.294988  ...  0.494644  0.599767  0.702879\n",
            "116101  0.130890  0.100453  0.243833  ...  0.770365  0.183511  0.520539\n",
            "73880   0.027421  0.097606  0.239335  ...  0.096439  0.374186  0.524779\n",
            "7085    0.076943  0.442477  0.220462  ...  0.773125  0.443742  0.339666\n",
            "\n",
            "[5 rows x 35 columns]\n"
          ]
        }
      ],
      "source": [
        "_X_Train_pca = norm(X_Train_pca)\n",
        "_X_train_pca = norm(X_train_pca)\n",
        "_X_val_pca = norm(X_val_pca)\n",
        "_X_test_pca = norm(X_test_pca)"
      ]
    },
    {
      "cell_type": "markdown",
      "metadata": {
        "id": "dc74a2DiqZFW"
      },
      "source": [
        "# NN PCA"
      ]
    },
    {
      "cell_type": "code",
      "execution_count": null,
      "metadata": {
        "id": "4M83psqWqHHG"
      },
      "outputs": [],
      "source": [
        "def base_model_pca(inputs):\n",
        "    x = tf.keras.layers.Dense(2048, activation= tf.nn.relu)(inputs)\n",
        "    x = tf.keras.layers.Dropout(0.5)(x)\n",
        "    x = tf.keras.layers.Dense(1024, activation= tf.nn.relu)(x)\n",
        "    x = tf.keras.layers.Dense(512, activation= tf.nn.relu)(x)\n",
        "    x = tf.keras.layers.Dropout(0.3)(x)\n",
        "    x = tf.keras.layers.Dense(256, activation= tf.nn.relu)(x)\n",
        "    x = tf.keras.layers.Dropout(0.3)(x)\n",
        "    x = tf.keras.layers.Dense(256, activation= tf.nn.relu)(x)\n",
        "    x = tf.keras.layers.Dense(128, activation= tf.nn.relu)(x)\n",
        "    x = tf.keras.layers.Dropout(0.3)(x)\n",
        "    x = tf.keras.layers.Dense(128, activation= tf.nn.relu)(x)\n",
        "    x = tf.keras.layers.Dense(64, activation= tf.nn.relu)(x)\n",
        "    x = tf.keras.layers.Dropout(0.3)(x)\n",
        "    x = tf.keras.layers.Dense(64, activation= tf.nn.relu)(x)\n",
        "    x = tf.keras.layers.Dense(32, activation= tf.nn.relu)(x)\n",
        "    x = tf.keras.layers.Dropout(0.3)(x)\n",
        "    x = tf.keras.layers.Dense(16, activation= tf.nn.relu)(x)\n",
        "    x = tf.keras.layers.Dropout(0.3)(x)\n",
        "    x = tf.keras.layers.Dense(8, activation= tf.nn.relu)(x)\n",
        "    return x"
      ]
    },
    {
      "cell_type": "code",
      "execution_count": null,
      "metadata": {
        "id": "m3RFtUawqHK4"
      },
      "outputs": [],
      "source": [
        "def final_model_pca(inputs):\n",
        "    \n",
        "    # get the base model\n",
        "    x = base_model_pca(inputs)\n",
        "\n",
        "    # connect the output Dense layer for classification. this will use a sigmoid activation.\n",
        "    wa = Dense(units='2', activation='sigmoid', name = 'W/A')(x)\n",
        "    ha = Dense(units='2', activation='sigmoid', name='H/A')(x)\n",
        "    wh = Dense(units='2', activation='sigmoid', name='W/H')(x)\n",
        "    bmi = Dense(units='2', activation='sigmoid', name='Bmi')(x)\n",
        "\n",
        "    # define the model using the input and output layers\n",
        "    model = Model(inputs=inputs, outputs=[wa, ha, wh, bmi])\n",
        "\n",
        "    return model"
      ]
    },
    {
      "cell_type": "code",
      "execution_count": null,
      "metadata": {
        "colab": {
          "base_uri": "https://localhost:8080/"
        },
        "id": "mNTOVzeEqely",
        "outputId": "559b59c1-6eb6-4930-d9e2-24b7fcb45dad"
      },
      "outputs": [
        {
          "name": "stdout",
          "output_type": "stream",
          "text": [
            "<class 'tensorflow.python.framework.ops.Tensor'>\n"
          ]
        }
      ],
      "source": [
        "# inputs = tf.keras.layers.Input(shape=(25,))\n",
        "inputs= Input(shape=(len(_X_train_pca.columns,)), name='inputs')\n",
        "print(type(inputs))\n",
        "adam = tf.keras.optimizers.Adam(learning_rate=0.0008)\n",
        "model_pca = final_model_pca(inputs)\n",
        "\n",
        "model_pca.compile(optimizer=adam, \n",
        "              loss = {'W/A' : 'binary_crossentropy',\n",
        "                      'H/A' : 'binary_crossentropy',\n",
        "                      'W/H' : 'binary_crossentropy',\n",
        "                      'Bmi' : 'binary_crossentropy'\n",
        "                     },\n",
        "              metrics = {'W/A' : 'accuracy',\n",
        "                         'H/A' : 'accuracy',\n",
        "                         'W/H' : 'accuracy',\n",
        "                         'Bmi' : 'accuracy'\n",
        "                       }\n",
        "             )"
      ]
    },
    {
      "cell_type": "code",
      "execution_count": null,
      "metadata": {
        "id": "ukWdKbVqqerx"
      },
      "outputs": [],
      "source": [
        "_X_train_pca_np = _X_train_pca.to_numpy()\n",
        "_X_test_pca_np = _X_test_pca.to_numpy()\n",
        "_X_Train_pca_np = _X_Train_pca.to_numpy()\n",
        "_X_val_pca_np = _X_val_pca.to_numpy()"
      ]
    },
    {
      "cell_type": "code",
      "execution_count": null,
      "metadata": {
        "id": "usFAsoaEqew3"
      },
      "outputs": [],
      "source": [
        "y1_train_pca_oh = to_categorical(y1_train_pca, 2)\n",
        "y2_train_pca_oh = to_categorical(y2_train_pca, 2)\n",
        "y3_train_pca_oh = to_categorical(y3_train_pca, 2)\n",
        "y4_train_pca_oh = to_categorical(y4_train_pca, 2)"
      ]
    },
    {
      "cell_type": "code",
      "execution_count": null,
      "metadata": {
        "id": "Pg2lck9Nqe3O"
      },
      "outputs": [],
      "source": [
        "y1_val_pca_oh = to_categorical(y1_val_pca, 2)\n",
        "y2_val_pca_oh = to_categorical(y2_val_pca, 2)\n",
        "y3_val_pca_oh = to_categorical(y3_val_pca, 2)\n",
        "y4_val_pca_oh = to_categorical(y4_val_pca, 2)"
      ]
    },
    {
      "cell_type": "code",
      "execution_count": null,
      "metadata": {
        "colab": {
          "base_uri": "https://localhost:8080/"
        },
        "id": "rtOwe41Yqe9M",
        "outputId": "5c8f0885-906c-4406-d620-aef74658b6db"
      },
      "outputs": [
        {
          "name": "stdout",
          "output_type": "stream",
          "text": [
            "Model: \"model_2\"\n",
            "__________________________________________________________________________________________________\n",
            "Layer (type)                    Output Shape         Param #     Connected to                     \n",
            "==================================================================================================\n",
            "inputs (InputLayer)             [(None, 35)]         0                                            \n",
            "__________________________________________________________________________________________________\n",
            "dense_25 (Dense)                (None, 2048)         73728       inputs[0][0]                     \n",
            "__________________________________________________________________________________________________\n",
            "dropout_15 (Dropout)            (None, 2048)         0           dense_25[0][0]                   \n",
            "__________________________________________________________________________________________________\n",
            "dense_26 (Dense)                (None, 1024)         2098176     dropout_15[0][0]                 \n",
            "__________________________________________________________________________________________________\n",
            "dense_27 (Dense)                (None, 512)          524800      dense_26[0][0]                   \n",
            "__________________________________________________________________________________________________\n",
            "dropout_16 (Dropout)            (None, 512)          0           dense_27[0][0]                   \n",
            "__________________________________________________________________________________________________\n",
            "dense_28 (Dense)                (None, 256)          131328      dropout_16[0][0]                 \n",
            "__________________________________________________________________________________________________\n",
            "dropout_17 (Dropout)            (None, 256)          0           dense_28[0][0]                   \n",
            "__________________________________________________________________________________________________\n",
            "dense_29 (Dense)                (None, 256)          65792       dropout_17[0][0]                 \n",
            "__________________________________________________________________________________________________\n",
            "dense_30 (Dense)                (None, 128)          32896       dense_29[0][0]                   \n",
            "__________________________________________________________________________________________________\n",
            "dropout_18 (Dropout)            (None, 128)          0           dense_30[0][0]                   \n",
            "__________________________________________________________________________________________________\n",
            "dense_31 (Dense)                (None, 128)          16512       dropout_18[0][0]                 \n",
            "__________________________________________________________________________________________________\n",
            "dense_32 (Dense)                (None, 64)           8256        dense_31[0][0]                   \n",
            "__________________________________________________________________________________________________\n",
            "dropout_19 (Dropout)            (None, 64)           0           dense_32[0][0]                   \n",
            "__________________________________________________________________________________________________\n",
            "dense_33 (Dense)                (None, 64)           4160        dropout_19[0][0]                 \n",
            "__________________________________________________________________________________________________\n",
            "dense_34 (Dense)                (None, 32)           2080        dense_33[0][0]                   \n",
            "__________________________________________________________________________________________________\n",
            "dropout_20 (Dropout)            (None, 32)           0           dense_34[0][0]                   \n",
            "__________________________________________________________________________________________________\n",
            "dense_35 (Dense)                (None, 16)           528         dropout_20[0][0]                 \n",
            "__________________________________________________________________________________________________\n",
            "dropout_21 (Dropout)            (None, 16)           0           dense_35[0][0]                   \n",
            "__________________________________________________________________________________________________\n",
            "dense_36 (Dense)                (None, 8)            136         dropout_21[0][0]                 \n",
            "__________________________________________________________________________________________________\n",
            "W/A (Dense)                     (None, 2)            18          dense_36[0][0]                   \n",
            "__________________________________________________________________________________________________\n",
            "H/A (Dense)                     (None, 2)            18          dense_36[0][0]                   \n",
            "__________________________________________________________________________________________________\n",
            "W/H (Dense)                     (None, 2)            18          dense_36[0][0]                   \n",
            "__________________________________________________________________________________________________\n",
            "Bmi (Dense)                     (None, 2)            18          dense_36[0][0]                   \n",
            "==================================================================================================\n",
            "Total params: 2,958,464\n",
            "Trainable params: 2,958,464\n",
            "Non-trainable params: 0\n",
            "__________________________________________________________________________________________________\n"
          ]
        }
      ],
      "source": [
        "model_pca.summary()"
      ]
    },
    {
      "cell_type": "code",
      "execution_count": null,
      "metadata": {
        "colab": {
          "base_uri": "https://localhost:8080/",
          "height": 856
        },
        "id": "13e6-XzbqfC2",
        "outputId": "0701b199-22d1-401e-aa89-3d2287b1a325"
      },
      "outputs": [
        {
          "name": "stdout",
          "output_type": "stream",
          "text": [
            "Train on 117382 samples, validate on 20715 samples\n",
            "Epoch 1/15\n",
            "117312/117382 [============================>.] - ETA: 0s - loss: 2.3367 - W/A_loss: 0.6415 - H/A_loss: 0.6587 - W/H_loss: 0.5292 - Bmi_loss: 0.5073 - W/A_accuracy: 0.6465 - H/A_accuracy: 0.6277 - W/H_accuracy: 0.7812 - Bmi_accuracy: 0.8000"
          ]
        },
        {
          "name": "stderr",
          "output_type": "stream",
          "text": [
            "/usr/local/lib/python3.7/dist-packages/keras/engine/training.py:2470: UserWarning: `Model.state_updates` will be removed in a future version. This property should not be used in TensorFlow 2.0, as `updates` are applied automatically.\n",
            "  warnings.warn('`Model.state_updates` will be removed in a future version. '\n"
          ]
        },
        {
          "name": "stdout",
          "output_type": "stream",
          "text": [
            "117382/117382 [==============================] - 38s 324us/sample - loss: 2.3366 - W/A_loss: 0.6415 - H/A_loss: 0.6586 - W/H_loss: 0.5295 - Bmi_loss: 0.5076 - W/A_accuracy: 0.6465 - H/A_accuracy: 0.6277 - W/H_accuracy: 0.7812 - Bmi_accuracy: 0.8000 - val_loss: 2.2841 - val_W/A_loss: 0.6219 - val_H/A_loss: 0.6480 - val_W/H_loss: 0.5197 - val_Bmi_loss: 0.4945 - val_W/A_accuracy: 0.6644 - val_H/A_accuracy: 0.6340 - val_W/H_accuracy: 0.7834 - val_Bmi_accuracy: 0.8035\n",
            "Epoch 2/15\n",
            "117382/117382 [==============================] - 37s 318us/sample - loss: 2.2694 - W/A_loss: 0.6124 - H/A_loss: 0.6420 - W/H_loss: 0.5181 - Bmi_loss: 0.4972 - W/A_accuracy: 0.6668 - H/A_accuracy: 0.6367 - W/H_accuracy: 0.7831 - Bmi_accuracy: 0.8005 - val_loss: 2.2423 - val_W/A_loss: 0.6012 - val_H/A_loss: 0.6338 - val_W/H_loss: 0.5159 - val_Bmi_loss: 0.4917 - val_W/A_accuracy: 0.6657 - val_H/A_accuracy: 0.6371 - val_W/H_accuracy: 0.7834 - val_Bmi_accuracy: 0.8035\n",
            "Epoch 3/15\n",
            "117382/117382 [==============================] - 38s 322us/sample - loss: 2.2531 - W/A_loss: 0.6037 - H/A_loss: 0.6345 - W/H_loss: 0.5179 - Bmi_loss: 0.4972 - W/A_accuracy: 0.6726 - H/A_accuracy: 0.6405 - W/H_accuracy: 0.7831 - Bmi_accuracy: 0.8005 - val_loss: 2.2260 - val_W/A_loss: 0.5942 - val_H/A_loss: 0.6270 - val_W/H_loss: 0.5141 - val_Bmi_loss: 0.4907 - val_W/A_accuracy: 0.6797 - val_H/A_accuracy: 0.6498 - val_W/H_accuracy: 0.7834 - val_Bmi_accuracy: 0.8035\n",
            "Epoch 4/15\n",
            "117382/117382 [==============================] - 38s 323us/sample - loss: 2.2456 - W/A_loss: 0.6005 - H/A_loss: 0.6313 - W/H_loss: 0.5171 - Bmi_loss: 0.4964 - W/A_accuracy: 0.6761 - H/A_accuracy: 0.6461 - W/H_accuracy: 0.7831 - Bmi_accuracy: 0.8005 - val_loss: 2.2267 - val_W/A_loss: 0.5942 - val_H/A_loss: 0.6264 - val_W/H_loss: 0.5148 - val_Bmi_loss: 0.4913 - val_W/A_accuracy: 0.6829 - val_H/A_accuracy: 0.6516 - val_W/H_accuracy: 0.7834 - val_Bmi_accuracy: 0.8035\n",
            "Epoch 5/15\n",
            "117382/117382 [==============================] - 38s 327us/sample - loss: 2.2449 - W/A_loss: 0.6000 - H/A_loss: 0.6306 - W/H_loss: 0.5173 - Bmi_loss: 0.4968 - W/A_accuracy: 0.6767 - H/A_accuracy: 0.6474 - W/H_accuracy: 0.7831 - Bmi_accuracy: 0.8005 - val_loss: 2.2249 - val_W/A_loss: 0.5940 - val_H/A_loss: 0.6256 - val_W/H_loss: 0.5143 - val_Bmi_loss: 0.4911 - val_W/A_accuracy: 0.6782 - val_H/A_accuracy: 0.6519 - val_W/H_accuracy: 0.7834 - val_Bmi_accuracy: 0.8035\n",
            "Epoch 6/15\n",
            "117382/117382 [==============================] - 39s 330us/sample - loss: 2.2420 - W/A_loss: 0.5988 - H/A_loss: 0.6289 - W/H_loss: 0.5174 - Bmi_loss: 0.4970 - W/A_accuracy: 0.6785 - H/A_accuracy: 0.6508 - W/H_accuracy: 0.7831 - Bmi_accuracy: 0.8005 - val_loss: 2.2326 - val_W/A_loss: 0.5972 - val_H/A_loss: 0.6284 - val_W/H_loss: 0.5153 - val_Bmi_loss: 0.4918 - val_W/A_accuracy: 0.6706 - val_H/A_accuracy: 0.6471 - val_W/H_accuracy: 0.7834 - val_Bmi_accuracy: 0.8035\n",
            "Epoch 7/15\n",
            "117382/117382 [==============================] - 38s 326us/sample - loss: 2.2426 - W/A_loss: 0.5993 - H/A_loss: 0.6293 - W/H_loss: 0.5172 - Bmi_loss: 0.4966 - W/A_accuracy: 0.6784 - H/A_accuracy: 0.6492 - W/H_accuracy: 0.7831 - Bmi_accuracy: 0.8005 - val_loss: 2.2246 - val_W/A_loss: 0.5936 - val_H/A_loss: 0.6255 - val_W/H_loss: 0.5143 - val_Bmi_loss: 0.4911 - val_W/A_accuracy: 0.6816 - val_H/A_accuracy: 0.6546 - val_W/H_accuracy: 0.7834 - val_Bmi_accuracy: 0.8035\n",
            "Epoch 8/15\n",
            "117382/117382 [==============================] - 38s 327us/sample - loss: 2.2394 - W/A_loss: 0.5978 - H/A_loss: 0.6280 - W/H_loss: 0.5169 - Bmi_loss: 0.4967 - W/A_accuracy: 0.6796 - H/A_accuracy: 0.6518 - W/H_accuracy: 0.7831 - Bmi_accuracy: 0.8005 - val_loss: 2.2299 - val_W/A_loss: 0.5964 - val_H/A_loss: 0.6261 - val_W/H_loss: 0.5153 - val_Bmi_loss: 0.4921 - val_W/A_accuracy: 0.6760 - val_H/A_accuracy: 0.6524 - val_W/H_accuracy: 0.7834 - val_Bmi_accuracy: 0.8035\n",
            "Epoch 9/15\n",
            "117382/117382 [==============================] - 38s 327us/sample - loss: 2.2381 - W/A_loss: 0.5969 - H/A_loss: 0.6278 - W/H_loss: 0.5169 - Bmi_loss: 0.4965 - W/A_accuracy: 0.6795 - H/A_accuracy: 0.6505 - W/H_accuracy: 0.7831 - Bmi_accuracy: 0.8005 - val_loss: 2.2263 - val_W/A_loss: 0.5942 - val_H/A_loss: 0.6249 - val_W/H_loss: 0.5155 - val_Bmi_loss: 0.4921 - val_W/A_accuracy: 0.6836 - val_H/A_accuracy: 0.6543 - val_W/H_accuracy: 0.7834 - val_Bmi_accuracy: 0.8035\n",
            "Epoch 10/15\n",
            "117382/117382 [==============================] - 39s 331us/sample - loss: 2.2385 - W/A_loss: 0.5972 - H/A_loss: 0.6275 - W/H_loss: 0.5172 - Bmi_loss: 0.4969 - W/A_accuracy: 0.6793 - H/A_accuracy: 0.6508 - W/H_accuracy: 0.7831 - Bmi_accuracy: 0.8005 - val_loss: 2.2238 - val_W/A_loss: 0.5930 - val_H/A_loss: 0.6247 - val_W/H_loss: 0.5148 - val_Bmi_loss: 0.4916 - val_W/A_accuracy: 0.6779 - val_H/A_accuracy: 0.6531 - val_W/H_accuracy: 0.7834 - val_Bmi_accuracy: 0.8035\n",
            "Epoch 11/15\n",
            "117382/117382 [==============================] - 39s 329us/sample - loss: 2.2361 - W/A_loss: 0.5963 - H/A_loss: 0.6265 - W/H_loss: 0.5169 - Bmi_loss: 0.4968 - W/A_accuracy: 0.6787 - H/A_accuracy: 0.6513 - W/H_accuracy: 0.7831 - Bmi_accuracy: 0.8005 - val_loss: 2.2297 - val_W/A_loss: 0.5957 - val_H/A_loss: 0.6265 - val_W/H_loss: 0.5154 - val_Bmi_loss: 0.4919 - val_W/A_accuracy: 0.6837 - val_H/A_accuracy: 0.6552 - val_W/H_accuracy: 0.7834 - val_Bmi_accuracy: 0.8035\n",
            "Epoch 12/15\n",
            "117382/117382 [==============================] - 39s 329us/sample - loss: 2.2367 - W/A_loss: 0.5967 - H/A_loss: 0.6271 - W/H_loss: 0.5165 - Bmi_loss: 0.4964 - W/A_accuracy: 0.6800 - H/A_accuracy: 0.6524 - W/H_accuracy: 0.7831 - Bmi_accuracy: 0.8005 - val_loss: 2.2291 - val_W/A_loss: 0.5951 - val_H/A_loss: 0.6261 - val_W/H_loss: 0.5154 - val_Bmi_loss: 0.4922 - val_W/A_accuracy: 0.6785 - val_H/A_accuracy: 0.6537 - val_W/H_accuracy: 0.7834 - val_Bmi_accuracy: 0.8035\n",
            "Epoch 13/15\n",
            "109120/117382 [==========================>...] - ETA: 2s - loss: 2.2361 - W/A_loss: 0.5961 - H/A_loss: 0.6260 - W/H_loss: 0.5170 - Bmi_loss: 0.4970 - W/A_accuracy: 0.6802 - H/A_accuracy: 0.6523 - W/H_accuracy: 0.7826 - Bmi_accuracy: 0.8000"
          ]
        },
        {
          "ename": "KeyboardInterrupt",
          "evalue": "ignored",
          "output_type": "error",
          "traceback": [
            "\u001b[0;31m---------------------------------------------------------------------------\u001b[0m",
            "\u001b[0;31mKeyboardInterrupt\u001b[0m                         Traceback (most recent call last)",
            "\u001b[0;32m<ipython-input-88-4295c52cae70>\u001b[0m in \u001b[0;36m<module>\u001b[0;34m()\u001b[0m\n\u001b[1;32m      3\u001b[0m                     \u001b[0mepochs\u001b[0m\u001b[0;34m=\u001b[0m\u001b[0;36m15\u001b[0m\u001b[0;34m,\u001b[0m \u001b[0mbatch_size\u001b[0m\u001b[0;34m=\u001b[0m\u001b[0;36m64\u001b[0m\u001b[0;34m,\u001b[0m\u001b[0;34m\u001b[0m\u001b[0;34m\u001b[0m\u001b[0m\n\u001b[1;32m      4\u001b[0m                     \u001b[0mvalidation_data\u001b[0m\u001b[0;34m=\u001b[0m\u001b[0;34m(\u001b[0m\u001b[0m_X_val_pca_np\u001b[0m\u001b[0;34m,\u001b[0m \u001b[0;34m[\u001b[0m\u001b[0my1_val_pca_oh\u001b[0m\u001b[0;34m,\u001b[0m \u001b[0my2_val_pca_oh\u001b[0m\u001b[0;34m,\u001b[0m \u001b[0my3_val_pca_oh\u001b[0m\u001b[0;34m,\u001b[0m \u001b[0my4_val_pca_oh\u001b[0m\u001b[0;34m]\u001b[0m\u001b[0;34m)\u001b[0m\u001b[0;34m,\u001b[0m\u001b[0;34m\u001b[0m\u001b[0;34m\u001b[0m\u001b[0m\n\u001b[0;32m----> 5\u001b[0;31m                     verbose=1)\n\u001b[0m",
            "\u001b[0;32m/usr/local/lib/python3.7/dist-packages/keras/engine/training_v1.py\u001b[0m in \u001b[0;36mfit\u001b[0;34m(self, x, y, batch_size, epochs, verbose, callbacks, validation_split, validation_data, shuffle, class_weight, sample_weight, initial_epoch, steps_per_epoch, validation_steps, validation_freq, max_queue_size, workers, use_multiprocessing, **kwargs)\u001b[0m\n\u001b[1;32m    794\u001b[0m         \u001b[0mmax_queue_size\u001b[0m\u001b[0;34m=\u001b[0m\u001b[0mmax_queue_size\u001b[0m\u001b[0;34m,\u001b[0m\u001b[0;34m\u001b[0m\u001b[0;34m\u001b[0m\u001b[0m\n\u001b[1;32m    795\u001b[0m         \u001b[0mworkers\u001b[0m\u001b[0;34m=\u001b[0m\u001b[0mworkers\u001b[0m\u001b[0;34m,\u001b[0m\u001b[0;34m\u001b[0m\u001b[0;34m\u001b[0m\u001b[0m\n\u001b[0;32m--> 796\u001b[0;31m         use_multiprocessing=use_multiprocessing)\n\u001b[0m\u001b[1;32m    797\u001b[0m \u001b[0;34m\u001b[0m\u001b[0m\n\u001b[1;32m    798\u001b[0m   def evaluate(self,\n",
            "\u001b[0;32m/usr/local/lib/python3.7/dist-packages/keras/engine/training_arrays_v1.py\u001b[0m in \u001b[0;36mfit\u001b[0;34m(self, model, x, y, batch_size, epochs, verbose, callbacks, validation_split, validation_data, shuffle, class_weight, sample_weight, initial_epoch, steps_per_epoch, validation_steps, validation_freq, **kwargs)\u001b[0m\n\u001b[1;32m    655\u001b[0m         \u001b[0mvalidation_steps\u001b[0m\u001b[0;34m=\u001b[0m\u001b[0mvalidation_steps\u001b[0m\u001b[0;34m,\u001b[0m\u001b[0;34m\u001b[0m\u001b[0;34m\u001b[0m\u001b[0m\n\u001b[1;32m    656\u001b[0m         \u001b[0mvalidation_freq\u001b[0m\u001b[0;34m=\u001b[0m\u001b[0mvalidation_freq\u001b[0m\u001b[0;34m,\u001b[0m\u001b[0;34m\u001b[0m\u001b[0;34m\u001b[0m\u001b[0m\n\u001b[0;32m--> 657\u001b[0;31m         steps_name='steps_per_epoch')\n\u001b[0m\u001b[1;32m    658\u001b[0m \u001b[0;34m\u001b[0m\u001b[0m\n\u001b[1;32m    659\u001b[0m   def evaluate(self,\n",
            "\u001b[0;32m/usr/local/lib/python3.7/dist-packages/keras/engine/training_arrays_v1.py\u001b[0m in \u001b[0;36mmodel_iteration\u001b[0;34m(model, inputs, targets, sample_weights, batch_size, epochs, verbose, callbacks, val_inputs, val_targets, val_sample_weights, shuffle, initial_epoch, steps_per_epoch, validation_steps, validation_freq, mode, validation_in_fit, prepared_feed_values_from_dataset, steps_name, **kwargs)\u001b[0m\n\u001b[1;32m    385\u001b[0m         \u001b[0;31m# Callbacks batch end.\u001b[0m\u001b[0;34m\u001b[0m\u001b[0;34m\u001b[0m\u001b[0;34m\u001b[0m\u001b[0m\n\u001b[1;32m    386\u001b[0m         \u001b[0mbatch_logs\u001b[0m \u001b[0;34m=\u001b[0m \u001b[0mcbks\u001b[0m\u001b[0;34m.\u001b[0m\u001b[0mmake_logs\u001b[0m\u001b[0;34m(\u001b[0m\u001b[0mmodel\u001b[0m\u001b[0;34m,\u001b[0m \u001b[0mbatch_logs\u001b[0m\u001b[0;34m,\u001b[0m \u001b[0mbatch_outs\u001b[0m\u001b[0;34m,\u001b[0m \u001b[0mmode\u001b[0m\u001b[0;34m)\u001b[0m\u001b[0;34m\u001b[0m\u001b[0;34m\u001b[0m\u001b[0m\n\u001b[0;32m--> 387\u001b[0;31m         \u001b[0mcallbacks\u001b[0m\u001b[0;34m.\u001b[0m\u001b[0m_call_batch_hook\u001b[0m\u001b[0;34m(\u001b[0m\u001b[0mmode\u001b[0m\u001b[0;34m,\u001b[0m \u001b[0;34m'end'\u001b[0m\u001b[0;34m,\u001b[0m \u001b[0mbatch_index\u001b[0m\u001b[0;34m,\u001b[0m \u001b[0mbatch_logs\u001b[0m\u001b[0;34m)\u001b[0m\u001b[0;34m\u001b[0m\u001b[0;34m\u001b[0m\u001b[0m\n\u001b[0m\u001b[1;32m    388\u001b[0m \u001b[0;34m\u001b[0m\u001b[0m\n\u001b[1;32m    389\u001b[0m         \u001b[0;32mif\u001b[0m \u001b[0mcallbacks\u001b[0m\u001b[0;34m.\u001b[0m\u001b[0mmodel\u001b[0m\u001b[0;34m.\u001b[0m\u001b[0mstop_training\u001b[0m\u001b[0;34m:\u001b[0m\u001b[0;34m\u001b[0m\u001b[0;34m\u001b[0m\u001b[0m\n",
            "\u001b[0;32m/usr/local/lib/python3.7/dist-packages/keras/callbacks.py\u001b[0m in \u001b[0;36m_call_batch_hook\u001b[0;34m(self, mode, hook, batch, logs)\u001b[0m\n\u001b[1;32m    293\u001b[0m       \u001b[0mself\u001b[0m\u001b[0;34m.\u001b[0m\u001b[0m_call_batch_begin_hook\u001b[0m\u001b[0;34m(\u001b[0m\u001b[0mmode\u001b[0m\u001b[0;34m,\u001b[0m \u001b[0mbatch\u001b[0m\u001b[0;34m,\u001b[0m \u001b[0mlogs\u001b[0m\u001b[0;34m)\u001b[0m\u001b[0;34m\u001b[0m\u001b[0;34m\u001b[0m\u001b[0m\n\u001b[1;32m    294\u001b[0m     \u001b[0;32melif\u001b[0m \u001b[0mhook\u001b[0m \u001b[0;34m==\u001b[0m \u001b[0;34m'end'\u001b[0m\u001b[0;34m:\u001b[0m\u001b[0;34m\u001b[0m\u001b[0;34m\u001b[0m\u001b[0m\n\u001b[0;32m--> 295\u001b[0;31m       \u001b[0mself\u001b[0m\u001b[0;34m.\u001b[0m\u001b[0m_call_batch_end_hook\u001b[0m\u001b[0;34m(\u001b[0m\u001b[0mmode\u001b[0m\u001b[0;34m,\u001b[0m \u001b[0mbatch\u001b[0m\u001b[0;34m,\u001b[0m \u001b[0mlogs\u001b[0m\u001b[0;34m)\u001b[0m\u001b[0;34m\u001b[0m\u001b[0;34m\u001b[0m\u001b[0m\n\u001b[0m\u001b[1;32m    296\u001b[0m     \u001b[0;32melse\u001b[0m\u001b[0;34m:\u001b[0m\u001b[0;34m\u001b[0m\u001b[0;34m\u001b[0m\u001b[0m\n\u001b[1;32m    297\u001b[0m       \u001b[0;32mraise\u001b[0m \u001b[0mValueError\u001b[0m\u001b[0;34m(\u001b[0m\u001b[0;34m'Unrecognized hook: {}'\u001b[0m\u001b[0;34m.\u001b[0m\u001b[0mformat\u001b[0m\u001b[0;34m(\u001b[0m\u001b[0mhook\u001b[0m\u001b[0;34m)\u001b[0m\u001b[0;34m)\u001b[0m\u001b[0;34m\u001b[0m\u001b[0;34m\u001b[0m\u001b[0m\n",
            "\u001b[0;32m/usr/local/lib/python3.7/dist-packages/keras/callbacks.py\u001b[0m in \u001b[0;36m_call_batch_end_hook\u001b[0;34m(self, mode, batch, logs)\u001b[0m\n\u001b[1;32m    313\u001b[0m       \u001b[0mself\u001b[0m\u001b[0;34m.\u001b[0m\u001b[0m_batch_times\u001b[0m\u001b[0;34m.\u001b[0m\u001b[0mappend\u001b[0m\u001b[0;34m(\u001b[0m\u001b[0mbatch_time\u001b[0m\u001b[0;34m)\u001b[0m\u001b[0;34m\u001b[0m\u001b[0;34m\u001b[0m\u001b[0m\n\u001b[1;32m    314\u001b[0m \u001b[0;34m\u001b[0m\u001b[0m\n\u001b[0;32m--> 315\u001b[0;31m     \u001b[0mself\u001b[0m\u001b[0;34m.\u001b[0m\u001b[0m_call_batch_hook_helper\u001b[0m\u001b[0;34m(\u001b[0m\u001b[0mhook_name\u001b[0m\u001b[0;34m,\u001b[0m \u001b[0mbatch\u001b[0m\u001b[0;34m,\u001b[0m \u001b[0mlogs\u001b[0m\u001b[0;34m)\u001b[0m\u001b[0;34m\u001b[0m\u001b[0;34m\u001b[0m\u001b[0m\n\u001b[0m\u001b[1;32m    316\u001b[0m \u001b[0;34m\u001b[0m\u001b[0m\n\u001b[1;32m    317\u001b[0m     \u001b[0;32mif\u001b[0m \u001b[0mlen\u001b[0m\u001b[0;34m(\u001b[0m\u001b[0mself\u001b[0m\u001b[0;34m.\u001b[0m\u001b[0m_batch_times\u001b[0m\u001b[0;34m)\u001b[0m \u001b[0;34m>=\u001b[0m \u001b[0mself\u001b[0m\u001b[0;34m.\u001b[0m\u001b[0m_num_batches_for_timing_check\u001b[0m\u001b[0;34m:\u001b[0m\u001b[0;34m\u001b[0m\u001b[0;34m\u001b[0m\u001b[0m\n",
            "\u001b[0;32m/usr/local/lib/python3.7/dist-packages/keras/callbacks.py\u001b[0m in \u001b[0;36m_call_batch_hook_helper\u001b[0;34m(self, hook_name, batch, logs)\u001b[0m\n\u001b[1;32m    351\u001b[0m     \u001b[0;32mfor\u001b[0m \u001b[0mcallback\u001b[0m \u001b[0;32min\u001b[0m \u001b[0mself\u001b[0m\u001b[0;34m.\u001b[0m\u001b[0mcallbacks\u001b[0m\u001b[0;34m:\u001b[0m\u001b[0;34m\u001b[0m\u001b[0;34m\u001b[0m\u001b[0m\n\u001b[1;32m    352\u001b[0m       \u001b[0mhook\u001b[0m \u001b[0;34m=\u001b[0m \u001b[0mgetattr\u001b[0m\u001b[0;34m(\u001b[0m\u001b[0mcallback\u001b[0m\u001b[0;34m,\u001b[0m \u001b[0mhook_name\u001b[0m\u001b[0;34m)\u001b[0m\u001b[0;34m\u001b[0m\u001b[0;34m\u001b[0m\u001b[0m\n\u001b[0;32m--> 353\u001b[0;31m       \u001b[0mhook\u001b[0m\u001b[0;34m(\u001b[0m\u001b[0mbatch\u001b[0m\u001b[0;34m,\u001b[0m \u001b[0mlogs\u001b[0m\u001b[0;34m)\u001b[0m\u001b[0;34m\u001b[0m\u001b[0;34m\u001b[0m\u001b[0m\n\u001b[0m\u001b[1;32m    354\u001b[0m \u001b[0;34m\u001b[0m\u001b[0m\n\u001b[1;32m    355\u001b[0m     \u001b[0;32mif\u001b[0m \u001b[0mself\u001b[0m\u001b[0;34m.\u001b[0m\u001b[0m_check_timing\u001b[0m\u001b[0;34m:\u001b[0m\u001b[0;34m\u001b[0m\u001b[0;34m\u001b[0m\u001b[0m\n",
            "\u001b[0;32m/usr/local/lib/python3.7/dist-packages/keras/callbacks.py\u001b[0m in \u001b[0;36mon_train_batch_end\u001b[0;34m(self, batch, logs)\u001b[0m\n\u001b[1;32m   1026\u001b[0m \u001b[0;34m\u001b[0m\u001b[0m\n\u001b[1;32m   1027\u001b[0m   \u001b[0;32mdef\u001b[0m \u001b[0mon_train_batch_end\u001b[0m\u001b[0;34m(\u001b[0m\u001b[0mself\u001b[0m\u001b[0;34m,\u001b[0m \u001b[0mbatch\u001b[0m\u001b[0;34m,\u001b[0m \u001b[0mlogs\u001b[0m\u001b[0;34m=\u001b[0m\u001b[0;32mNone\u001b[0m\u001b[0;34m)\u001b[0m\u001b[0;34m:\u001b[0m\u001b[0;34m\u001b[0m\u001b[0;34m\u001b[0m\u001b[0m\n\u001b[0;32m-> 1028\u001b[0;31m     \u001b[0mself\u001b[0m\u001b[0;34m.\u001b[0m\u001b[0m_batch_update_progbar\u001b[0m\u001b[0;34m(\u001b[0m\u001b[0mbatch\u001b[0m\u001b[0;34m,\u001b[0m \u001b[0mlogs\u001b[0m\u001b[0;34m)\u001b[0m\u001b[0;34m\u001b[0m\u001b[0;34m\u001b[0m\u001b[0m\n\u001b[0m\u001b[1;32m   1029\u001b[0m \u001b[0;34m\u001b[0m\u001b[0m\n\u001b[1;32m   1030\u001b[0m   \u001b[0;32mdef\u001b[0m \u001b[0mon_test_batch_end\u001b[0m\u001b[0;34m(\u001b[0m\u001b[0mself\u001b[0m\u001b[0;34m,\u001b[0m \u001b[0mbatch\u001b[0m\u001b[0;34m,\u001b[0m \u001b[0mlogs\u001b[0m\u001b[0;34m=\u001b[0m\u001b[0;32mNone\u001b[0m\u001b[0;34m)\u001b[0m\u001b[0;34m:\u001b[0m\u001b[0;34m\u001b[0m\u001b[0;34m\u001b[0m\u001b[0m\n",
            "\u001b[0;32m/usr/local/lib/python3.7/dist-packages/keras/callbacks.py\u001b[0m in \u001b[0;36m_batch_update_progbar\u001b[0;34m(self, batch, logs)\u001b[0m\n\u001b[1;32m   1099\u001b[0m       \u001b[0;31m# Only block async when verbose = 1.\u001b[0m\u001b[0;34m\u001b[0m\u001b[0;34m\u001b[0m\u001b[0;34m\u001b[0m\u001b[0m\n\u001b[1;32m   1100\u001b[0m       \u001b[0mlogs\u001b[0m \u001b[0;34m=\u001b[0m \u001b[0mtf_utils\u001b[0m\u001b[0;34m.\u001b[0m\u001b[0msync_to_numpy_or_python_type\u001b[0m\u001b[0;34m(\u001b[0m\u001b[0mlogs\u001b[0m\u001b[0;34m)\u001b[0m\u001b[0;34m\u001b[0m\u001b[0;34m\u001b[0m\u001b[0m\n\u001b[0;32m-> 1101\u001b[0;31m       \u001b[0mself\u001b[0m\u001b[0;34m.\u001b[0m\u001b[0mprogbar\u001b[0m\u001b[0;34m.\u001b[0m\u001b[0mupdate\u001b[0m\u001b[0;34m(\u001b[0m\u001b[0mself\u001b[0m\u001b[0;34m.\u001b[0m\u001b[0mseen\u001b[0m\u001b[0;34m,\u001b[0m \u001b[0mlist\u001b[0m\u001b[0;34m(\u001b[0m\u001b[0mlogs\u001b[0m\u001b[0;34m.\u001b[0m\u001b[0mitems\u001b[0m\u001b[0;34m(\u001b[0m\u001b[0;34m)\u001b[0m\u001b[0;34m)\u001b[0m\u001b[0;34m,\u001b[0m \u001b[0mfinalize\u001b[0m\u001b[0;34m=\u001b[0m\u001b[0;32mFalse\u001b[0m\u001b[0;34m)\u001b[0m\u001b[0;34m\u001b[0m\u001b[0;34m\u001b[0m\u001b[0m\n\u001b[0m\u001b[1;32m   1102\u001b[0m \u001b[0;34m\u001b[0m\u001b[0m\n\u001b[1;32m   1103\u001b[0m   \u001b[0;32mdef\u001b[0m \u001b[0m_finalize_progbar\u001b[0m\u001b[0;34m(\u001b[0m\u001b[0mself\u001b[0m\u001b[0;34m,\u001b[0m \u001b[0mlogs\u001b[0m\u001b[0;34m,\u001b[0m \u001b[0mcounter\u001b[0m\u001b[0;34m)\u001b[0m\u001b[0;34m:\u001b[0m\u001b[0;34m\u001b[0m\u001b[0;34m\u001b[0m\u001b[0m\n",
            "\u001b[0;32m/usr/local/lib/python3.7/dist-packages/keras/utils/generic_utils.py\u001b[0m in \u001b[0;36mupdate\u001b[0;34m(self, current, values, finalize)\u001b[0m\n\u001b[1;32m    971\u001b[0m \u001b[0;34m\u001b[0m\u001b[0m\n\u001b[1;32m    972\u001b[0m       \u001b[0msys\u001b[0m\u001b[0;34m.\u001b[0m\u001b[0mstdout\u001b[0m\u001b[0;34m.\u001b[0m\u001b[0mwrite\u001b[0m\u001b[0;34m(\u001b[0m\u001b[0minfo\u001b[0m\u001b[0;34m)\u001b[0m\u001b[0;34m\u001b[0m\u001b[0;34m\u001b[0m\u001b[0m\n\u001b[0;32m--> 973\u001b[0;31m       \u001b[0msys\u001b[0m\u001b[0;34m.\u001b[0m\u001b[0mstdout\u001b[0m\u001b[0;34m.\u001b[0m\u001b[0mflush\u001b[0m\u001b[0;34m(\u001b[0m\u001b[0;34m)\u001b[0m\u001b[0;34m\u001b[0m\u001b[0;34m\u001b[0m\u001b[0m\n\u001b[0m\u001b[1;32m    974\u001b[0m \u001b[0;34m\u001b[0m\u001b[0m\n\u001b[1;32m    975\u001b[0m     \u001b[0;32melif\u001b[0m \u001b[0mself\u001b[0m\u001b[0;34m.\u001b[0m\u001b[0mverbose\u001b[0m \u001b[0;34m==\u001b[0m \u001b[0;36m2\u001b[0m\u001b[0;34m:\u001b[0m\u001b[0;34m\u001b[0m\u001b[0;34m\u001b[0m\u001b[0m\n",
            "\u001b[0;32m/usr/local/lib/python3.7/dist-packages/ipykernel/iostream.py\u001b[0m in \u001b[0;36mflush\u001b[0;34m(self)\u001b[0m\n\u001b[1;32m    339\u001b[0m         \u001b[0;32mif\u001b[0m \u001b[0mself\u001b[0m\u001b[0;34m.\u001b[0m\u001b[0mpub_thread\u001b[0m\u001b[0;34m.\u001b[0m\u001b[0mthread\u001b[0m\u001b[0;34m.\u001b[0m\u001b[0mis_alive\u001b[0m\u001b[0;34m(\u001b[0m\u001b[0;34m)\u001b[0m\u001b[0;34m:\u001b[0m\u001b[0;34m\u001b[0m\u001b[0;34m\u001b[0m\u001b[0m\n\u001b[1;32m    340\u001b[0m             \u001b[0;31m# request flush on the background thread\u001b[0m\u001b[0;34m\u001b[0m\u001b[0;34m\u001b[0m\u001b[0;34m\u001b[0m\u001b[0m\n\u001b[0;32m--> 341\u001b[0;31m             \u001b[0mself\u001b[0m\u001b[0;34m.\u001b[0m\u001b[0mpub_thread\u001b[0m\u001b[0;34m.\u001b[0m\u001b[0mschedule\u001b[0m\u001b[0;34m(\u001b[0m\u001b[0mself\u001b[0m\u001b[0;34m.\u001b[0m\u001b[0m_flush\u001b[0m\u001b[0;34m)\u001b[0m\u001b[0;34m\u001b[0m\u001b[0;34m\u001b[0m\u001b[0m\n\u001b[0m\u001b[1;32m    342\u001b[0m             \u001b[0;31m# wait for flush to actually get through, if we can.\u001b[0m\u001b[0;34m\u001b[0m\u001b[0;34m\u001b[0m\u001b[0;34m\u001b[0m\u001b[0m\n\u001b[1;32m    343\u001b[0m             \u001b[0;31m# waiting across threads during import can cause deadlocks\u001b[0m\u001b[0;34m\u001b[0m\u001b[0;34m\u001b[0m\u001b[0;34m\u001b[0m\u001b[0m\n",
            "\u001b[0;32m/usr/local/lib/python3.7/dist-packages/ipykernel/iostream.py\u001b[0m in \u001b[0;36mschedule\u001b[0;34m(self, f)\u001b[0m\n\u001b[1;32m    201\u001b[0m             \u001b[0mself\u001b[0m\u001b[0;34m.\u001b[0m\u001b[0m_events\u001b[0m\u001b[0;34m.\u001b[0m\u001b[0mappend\u001b[0m\u001b[0;34m(\u001b[0m\u001b[0mf\u001b[0m\u001b[0;34m)\u001b[0m\u001b[0;34m\u001b[0m\u001b[0;34m\u001b[0m\u001b[0m\n\u001b[1;32m    202\u001b[0m             \u001b[0;31m# wake event thread (message content is ignored)\u001b[0m\u001b[0;34m\u001b[0m\u001b[0;34m\u001b[0m\u001b[0;34m\u001b[0m\u001b[0m\n\u001b[0;32m--> 203\u001b[0;31m             \u001b[0mself\u001b[0m\u001b[0;34m.\u001b[0m\u001b[0m_event_pipe\u001b[0m\u001b[0;34m.\u001b[0m\u001b[0msend\u001b[0m\u001b[0;34m(\u001b[0m\u001b[0;34mb''\u001b[0m\u001b[0;34m)\u001b[0m\u001b[0;34m\u001b[0m\u001b[0;34m\u001b[0m\u001b[0m\n\u001b[0m\u001b[1;32m    204\u001b[0m         \u001b[0;32melse\u001b[0m\u001b[0;34m:\u001b[0m\u001b[0;34m\u001b[0m\u001b[0;34m\u001b[0m\u001b[0m\n\u001b[1;32m    205\u001b[0m             \u001b[0mf\u001b[0m\u001b[0;34m(\u001b[0m\u001b[0;34m)\u001b[0m\u001b[0;34m\u001b[0m\u001b[0;34m\u001b[0m\u001b[0m\n",
            "\u001b[0;32m/usr/local/lib/python3.7/dist-packages/zmq/sugar/socket.py\u001b[0m in \u001b[0;36msend\u001b[0;34m(self, data, flags, copy, track, routing_id, group)\u001b[0m\n\u001b[1;32m    539\u001b[0m                 )\n\u001b[1;32m    540\u001b[0m             \u001b[0mdata\u001b[0m\u001b[0;34m.\u001b[0m\u001b[0mgroup\u001b[0m \u001b[0;34m=\u001b[0m \u001b[0mgroup\u001b[0m\u001b[0;34m\u001b[0m\u001b[0;34m\u001b[0m\u001b[0m\n\u001b[0;32m--> 541\u001b[0;31m         \u001b[0;32mreturn\u001b[0m \u001b[0msuper\u001b[0m\u001b[0;34m(\u001b[0m\u001b[0mSocket\u001b[0m\u001b[0;34m,\u001b[0m \u001b[0mself\u001b[0m\u001b[0;34m)\u001b[0m\u001b[0;34m.\u001b[0m\u001b[0msend\u001b[0m\u001b[0;34m(\u001b[0m\u001b[0mdata\u001b[0m\u001b[0;34m,\u001b[0m \u001b[0mflags\u001b[0m\u001b[0;34m=\u001b[0m\u001b[0mflags\u001b[0m\u001b[0;34m,\u001b[0m \u001b[0mcopy\u001b[0m\u001b[0;34m=\u001b[0m\u001b[0mcopy\u001b[0m\u001b[0;34m,\u001b[0m \u001b[0mtrack\u001b[0m\u001b[0;34m=\u001b[0m\u001b[0mtrack\u001b[0m\u001b[0;34m)\u001b[0m\u001b[0;34m\u001b[0m\u001b[0;34m\u001b[0m\u001b[0m\n\u001b[0m\u001b[1;32m    542\u001b[0m \u001b[0;34m\u001b[0m\u001b[0m\n\u001b[1;32m    543\u001b[0m     \u001b[0;32mdef\u001b[0m \u001b[0msend_multipart\u001b[0m\u001b[0;34m(\u001b[0m\u001b[0mself\u001b[0m\u001b[0;34m,\u001b[0m \u001b[0mmsg_parts\u001b[0m\u001b[0;34m,\u001b[0m \u001b[0mflags\u001b[0m\u001b[0;34m=\u001b[0m\u001b[0;36m0\u001b[0m\u001b[0;34m,\u001b[0m \u001b[0mcopy\u001b[0m\u001b[0;34m=\u001b[0m\u001b[0;32mTrue\u001b[0m\u001b[0;34m,\u001b[0m \u001b[0mtrack\u001b[0m\u001b[0;34m=\u001b[0m\u001b[0;32mFalse\u001b[0m\u001b[0;34m,\u001b[0m \u001b[0;34m**\u001b[0m\u001b[0mkwargs\u001b[0m\u001b[0;34m)\u001b[0m\u001b[0;34m:\u001b[0m\u001b[0;34m\u001b[0m\u001b[0;34m\u001b[0m\u001b[0m\n",
            "\u001b[0;32mzmq/backend/cython/socket.pyx\u001b[0m in \u001b[0;36mzmq.backend.cython.socket.Socket.send\u001b[0;34m()\u001b[0m\n",
            "\u001b[0;32mzmq/backend/cython/socket.pyx\u001b[0m in \u001b[0;36mzmq.backend.cython.socket.Socket.send\u001b[0;34m()\u001b[0m\n",
            "\u001b[0;32mzmq/backend/cython/socket.pyx\u001b[0m in \u001b[0;36mzmq.backend.cython.socket._send_copy\u001b[0;34m()\u001b[0m\n",
            "\u001b[0;32m/usr/local/lib/python3.7/dist-packages/zmq/backend/cython/checkrc.pxd\u001b[0m in \u001b[0;36mzmq.backend.cython.checkrc._check_rc\u001b[0;34m()\u001b[0m\n",
            "\u001b[0;31mKeyboardInterrupt\u001b[0m: "
          ]
        }
      ],
      "source": [
        "# train the model for 2000 epochs\n",
        "history_pca = model_pca.fit(_X_train_pca_np, [y1_train_pca_oh, y2_train_pca_oh, y3_train_pca_oh, y4_train_pca_oh], \n",
        "                    epochs=15, batch_size=64, \n",
        "                    validation_data=(_X_val_pca_np, [y1_val_pca_oh, y2_val_pca_oh, y3_val_pca_oh, y4_val_pca_oh]),\n",
        "                    verbose=1)"
      ]
    },
    {
      "cell_type": "code",
      "execution_count": null,
      "metadata": {
        "colab": {
          "base_uri": "https://localhost:8080/"
        },
        "id": "I1rWcQekqfHY",
        "outputId": "fbfc9b36-46e0-444a-aa5a-65b2432fbdc3"
      },
      "outputs": [
        {
          "name": "stderr",
          "output_type": "stream",
          "text": [
            "/usr/local/lib/python3.7/dist-packages/keras/engine/training.py:2470: UserWarning: `Model.state_updates` will be removed in a future version. This property should not be used in TensorFlow 2.0, as `updates` are applied automatically.\n",
            "  warnings.warn('`Model.state_updates` will be removed in a future version. '\n"
          ]
        }
      ],
      "source": [
        "pred1, pred2, pred3, pred4 = model_pca.predict(_X_test_pca_np)"
      ]
    },
    {
      "cell_type": "code",
      "execution_count": null,
      "metadata": {
        "id": "QeLCMUjpBA6V"
      },
      "outputs": [],
      "source": [
        "y1_test_pca_np = y1_test_pca.to_numpy()\n",
        "y2_test_pca_np = y2_test_pca.to_numpy()\n",
        "y3_test_pca_np = y3_test_pca.to_numpy()\n",
        "y4_test_pca_np = y4_test_pca.to_numpy()"
      ]
    },
    {
      "cell_type": "code",
      "execution_count": null,
      "metadata": {
        "colab": {
          "base_uri": "https://localhost:8080/"
        },
        "id": "sPIiLM6OqfLo",
        "outputId": "bfdd0e29-05f2-47c0-f0d7-af248d84c0b1"
      },
      "outputs": [
        {
          "name": "stdout",
          "output_type": "stream",
          "text": [
            "accuracy 0.6648805213613324\n"
          ]
        }
      ],
      "source": [
        "WA_accuracy = get_accuracy(pred1, y1_test_pca_np)"
      ]
    },
    {
      "cell_type": "code",
      "execution_count": null,
      "metadata": {
        "colab": {
          "base_uri": "https://localhost:8080/"
        },
        "id": "rF6X88pnqfRE",
        "outputId": "a1e35630-2812-4851-c369-26f5b10be7b4"
      },
      "outputs": [
        {
          "name": "stdout",
          "output_type": "stream",
          "text": [
            "accuracy 0.6435626357711803\n"
          ]
        }
      ],
      "source": [
        "HA_accuracy = get_accuracy(pred2, y2_test_pca_np)"
      ]
    },
    {
      "cell_type": "code",
      "execution_count": null,
      "metadata": {
        "colab": {
          "base_uri": "https://localhost:8080/"
        },
        "id": "PS0jwQo6qfVV",
        "outputId": "76732385-46fc-4d1d-84f1-cd0f399ef61c"
      },
      "outputs": [
        {
          "name": "stdout",
          "output_type": "stream",
          "text": [
            "accuracy 0.7852860246198407\n"
          ]
        }
      ],
      "source": [
        "WA_accuracy = get_accuracy(pred3, y3_test_pca_np)"
      ]
    },
    {
      "cell_type": "code",
      "execution_count": null,
      "metadata": {
        "colab": {
          "base_uri": "https://localhost:8080/"
        },
        "id": "kbBUKXZuqfgT",
        "outputId": "2b107139-ba0f-4856-d0be-72d3ea8cf098"
      },
      "outputs": [
        {
          "name": "stdout",
          "output_type": "stream",
          "text": [
            "accuracy 0.8028385228095583\n"
          ]
        }
      ],
      "source": [
        "Bmi_accuracy = get_accuracy(pred4, y4_test_pca_np)"
      ]
    },
    {
      "cell_type": "code",
      "execution_count": null,
      "metadata": {
        "id": "D_rIYLMZvA3d"
      },
      "outputs": [],
      "source": [
        "model_pca.save('/content/results/pca_nn1.h5')"
      ]
    },
    {
      "cell_type": "markdown",
      "metadata": {
        "id": "d99bmMyxzZ4K"
      },
      "source": [
        "# NN"
      ]
    },
    {
      "cell_type": "code",
      "execution_count": null,
      "metadata": {
        "id": "lip-eZ4WQYdl"
      },
      "outputs": [],
      "source": [
        "def base_model(inputs):\n",
        "    x = tf.keras.layers.Dense(2048, activation= tf.nn.relu)(inputs)\n",
        "    x = tf.keras.layers.Dropout(0.5)(x)\n",
        "    x = tf.keras.layers.Dense(1024, activation= tf.nn.relu)(x)\n",
        "    x = tf.keras.layers.Dense(512, activation= tf.nn.relu)(x)\n",
        "    x = tf.keras.layers.Dropout(0.5)(x)\n",
        "    x = tf.keras.layers.Dense(256, activation= tf.nn.relu)(x)\n",
        "    x = tf.keras.layers.Dropout(0.3)(x)\n",
        "    x = tf.keras.layers.Dense(256, activation= tf.nn.relu)(x)\n",
        "    x = tf.keras.layers.Dense(128, activation= tf.nn.relu)(x)\n",
        "    x = tf.keras.layers.Dropout(0.3)(x)\n",
        "    x = tf.keras.layers.Dense(128, activation= tf.nn.relu)(x)\n",
        "    x = tf.keras.layers.Dense(64, activation= tf.nn.relu)(x)\n",
        "    x = tf.keras.layers.Dropout(0.3)(x)\n",
        "    x = tf.keras.layers.Dense(64, activation= tf.nn.relu)(x)\n",
        "    x = tf.keras.layers.Dense(32, activation= tf.nn.relu)(x)\n",
        "    x = tf.keras.layers.Dropout(0.3)(x)\n",
        "    x = tf.keras.layers.Dense(16, activation= tf.nn.relu)(x)\n",
        "    x = tf.keras.layers.Dropout(0.3)(x)\n",
        "    x = tf.keras.layers.Dense(8, activation= tf.nn.relu)(x)\n",
        "    return x"
      ]
    },
    {
      "cell_type": "code",
      "execution_count": null,
      "metadata": {
        "id": "WXnVrOr9QYiu"
      },
      "outputs": [],
      "source": [
        "def final_model(inputs):\n",
        "    \n",
        "    # get the base model\n",
        "    x = base_model(inputs)\n",
        "\n",
        "    # connect the output Dense layer for classification. this will use a sigmoid activation.\n",
        "    wa = Dense(units='2', activation='sigmoid', name = 'W/A')(x)\n",
        "    ha = Dense(units='2', activation='sigmoid', name='H/A')(x)\n",
        "    wh = Dense(units='2', activation='sigmoid', name='W/H')(x)\n",
        "    bmi = Dense(units='2', activation='sigmoid', name='Bmi')(x)\n",
        "    hawh = Dense(units='2', activation='sigmoid', name='HAWH')(x)\n",
        "    # mal = Dense(units = '4', activation = 'softmax', name = 'Mal')(x)\n",
        "\n",
        "    # define the model using the input and output layers\n",
        "    model = Model(inputs=inputs, outputs=[wa, ha, wh, bmi, hawh])\n",
        "    # model = Model(inputs = inputs, outputs = [mal])\n",
        "\n",
        "    return model"
      ]
    },
    {
      "cell_type": "code",
      "execution_count": null,
      "metadata": {
        "id": "UEIK6E7eLfz8"
      },
      "outputs": [],
      "source": [
        "from tensorflow.python.framework.ops import disable_eager_execution\n",
        "disable_eager_execution()"
      ]
    },
    {
      "cell_type": "code",
      "execution_count": null,
      "metadata": {
        "colab": {
          "base_uri": "https://localhost:8080/"
        },
        "id": "s0R_Cx0hQYqR",
        "outputId": "0c57cf3c-bb59-4e58-eea8-2d14c035435f"
      },
      "outputs": [
        {
          "name": "stdout",
          "output_type": "stream",
          "text": [
            "<class 'keras.engine.keras_tensor.KerasTensor'>\n"
          ]
        }
      ],
      "source": [
        "# inputs = tf.keras.layers.Input(shape=(25,))\n",
        "inputs= Input(shape=(len(_X_train.columns,)), name='inputs')\n",
        "print(type(inputs))\n",
        "adam = tf.keras.optimizers.Adam(learning_rate=0.0009)\n",
        "model = final_model(inputs)\n",
        "\n",
        "model.compile(optimizer=adam, \n",
        "              loss = {'W/A' : 'binary_crossentropy',\n",
        "                      'H/A' : 'binary_crossentropy',\n",
        "                      'W/H' : 'binary_crossentropy',\n",
        "                      'Bmi' : 'binary_crossentropy',\n",
        "                      'HAWH' : 'binary_crossentropy'\n",
        "                     },\n",
        "              metrics = {'W/A' : ['accuracy', tf.keras.metrics.AUC()],\n",
        "                         'H/A' : ['accuracy', tf.keras.metrics.AUC()],\n",
        "                         'W/H' : ['accuracy', tf.keras.metrics.AUC()],\n",
        "                         'Bmi' : ['accuracy', tf.keras.metrics.AUC()],\n",
        "                         'HAWH' : ['accuracy', tf.keras.metrics.AUC()]\n",
        "                       }\n",
        "             )\n",
        "# model.compile(optimizer = adam, loss = {'Mal':'categorical_crossentropy'}, metrics = {'Mal':'accuracy'})"
      ]
    },
    {
      "cell_type": "code",
      "execution_count": null,
      "metadata": {
        "id": "-JM7ZXb_iAqn"
      },
      "outputs": [],
      "source": [
        "_X_train_np = _X_train.to_numpy()\n",
        "_X_test_np = _X_test.to_numpy()\n",
        "_X_val_np = _X_val.to_numpy()"
      ]
    },
    {
      "cell_type": "code",
      "execution_count": null,
      "metadata": {
        "id": "iqLDgjJqkVwO"
      },
      "outputs": [],
      "source": [
        "y1_train_oh = to_categorical(y1_train, 2)\n",
        "y2_train_oh = to_categorical(y2_train, 2)\n",
        "y3_train_oh = to_categorical(y3_train, 2)\n",
        "y4_train_oh = to_categorical(y4_train, 2)\n",
        "y5_train_oh = to_categorical(y5_train, 2)\n",
        "# y_train_oh = to_categorical(y_train, 4)"
      ]
    },
    {
      "cell_type": "code",
      "execution_count": null,
      "metadata": {
        "id": "RDxp9dp8DgxE"
      },
      "outputs": [],
      "source": [
        "y1_val_oh = to_categorical(y1_val, 2)\n",
        "y2_val_oh = to_categorical(y2_val, 2)\n",
        "y3_val_oh = to_categorical(y3_val, 2)\n",
        "y4_val_oh = to_categorical(y4_val, 2)\n",
        "y5_val_oh = to_categorical(y5_val, 2)\n",
        "# y_val_oh = to_categorical(y_val, 4)"
      ]
    },
    {
      "cell_type": "code",
      "execution_count": null,
      "metadata": {
        "colab": {
          "base_uri": "https://localhost:8080/"
        },
        "id": "FMQitDXrUs9e",
        "outputId": "8fca9763-2842-40c8-dc7f-4e4dde0dbcdf"
      },
      "outputs": [
        {
          "name": "stdout",
          "output_type": "stream",
          "text": [
            "Model: \"model\"\n",
            "__________________________________________________________________________________________________\n",
            " Layer (type)                   Output Shape         Param #     Connected to                     \n",
            "==================================================================================================\n",
            " inputs (InputLayer)            [(None, 66)]         0           []                               \n",
            "                                                                                                  \n",
            " dense (Dense)                  (None, 2048)         137216      ['inputs[0][0]']                 \n",
            "                                                                                                  \n",
            " dropout (Dropout)              (None, 2048)         0           ['dense[0][0]']                  \n",
            "                                                                                                  \n",
            " dense_1 (Dense)                (None, 1024)         2098176     ['dropout[0][0]']                \n",
            "                                                                                                  \n",
            " dense_2 (Dense)                (None, 512)          524800      ['dense_1[0][0]']                \n",
            "                                                                                                  \n",
            " dropout_1 (Dropout)            (None, 512)          0           ['dense_2[0][0]']                \n",
            "                                                                                                  \n",
            " dense_3 (Dense)                (None, 256)          131328      ['dropout_1[0][0]']              \n",
            "                                                                                                  \n",
            " dropout_2 (Dropout)            (None, 256)          0           ['dense_3[0][0]']                \n",
            "                                                                                                  \n",
            " dense_4 (Dense)                (None, 256)          65792       ['dropout_2[0][0]']              \n",
            "                                                                                                  \n",
            " dense_5 (Dense)                (None, 128)          32896       ['dense_4[0][0]']                \n",
            "                                                                                                  \n",
            " dropout_3 (Dropout)            (None, 128)          0           ['dense_5[0][0]']                \n",
            "                                                                                                  \n",
            " dense_6 (Dense)                (None, 128)          16512       ['dropout_3[0][0]']              \n",
            "                                                                                                  \n",
            " dense_7 (Dense)                (None, 64)           8256        ['dense_6[0][0]']                \n",
            "                                                                                                  \n",
            " dropout_4 (Dropout)            (None, 64)           0           ['dense_7[0][0]']                \n",
            "                                                                                                  \n",
            " dense_8 (Dense)                (None, 64)           4160        ['dropout_4[0][0]']              \n",
            "                                                                                                  \n",
            " dense_9 (Dense)                (None, 32)           2080        ['dense_8[0][0]']                \n",
            "                                                                                                  \n",
            " dropout_5 (Dropout)            (None, 32)           0           ['dense_9[0][0]']                \n",
            "                                                                                                  \n",
            " dense_10 (Dense)               (None, 16)           528         ['dropout_5[0][0]']              \n",
            "                                                                                                  \n",
            " dropout_6 (Dropout)            (None, 16)           0           ['dense_10[0][0]']               \n",
            "                                                                                                  \n",
            " dense_11 (Dense)               (None, 8)            136         ['dropout_6[0][0]']              \n",
            "                                                                                                  \n",
            " W/A (Dense)                    (None, 2)            18          ['dense_11[0][0]']               \n",
            "                                                                                                  \n",
            " H/A (Dense)                    (None, 2)            18          ['dense_11[0][0]']               \n",
            "                                                                                                  \n",
            " W/H (Dense)                    (None, 2)            18          ['dense_11[0][0]']               \n",
            "                                                                                                  \n",
            " Bmi (Dense)                    (None, 2)            18          ['dense_11[0][0]']               \n",
            "                                                                                                  \n",
            " HAWH (Dense)                   (None, 2)            18          ['dense_11[0][0]']               \n",
            "                                                                                                  \n",
            "==================================================================================================\n",
            "Total params: 3,021,970\n",
            "Trainable params: 3,021,970\n",
            "Non-trainable params: 0\n",
            "__________________________________________________________________________________________________\n"
          ]
        }
      ],
      "source": [
        "model.summary()"
      ]
    },
    {
      "cell_type": "code",
      "execution_count": null,
      "metadata": {
        "id": "g80kex88mdBT"
      },
      "outputs": [],
      "source": [
        "checkpoint_filepath = '/content/results/basic_nn1.h5'"
      ]
    },
    {
      "cell_type": "code",
      "execution_count": null,
      "metadata": {
        "id": "mU0-6xlo6hQP"
      },
      "outputs": [],
      "source": [
        "model_checkpoint_callback = tf.keras.callbacks.ModelCheckpoint(\n",
        "    filepath=checkpoint_filepath,\n",
        "    save_weights_only=True,\n",
        "    monitor='val_H/A_accuracy',\n",
        "    mode='max',\n",
        "    save_best_only=True)                                     "
      ]
    },
    {
      "cell_type": "code",
      "execution_count": null,
      "metadata": {
        "colab": {
          "background_save": true,
          "base_uri": "https://localhost:8080/"
        },
        "id": "_EAW2d1DQY0j",
        "outputId": "ccff32b9-e7ce-4b47-803b-a5506358e4d8"
      },
      "outputs": [
        {
          "name": "stdout",
          "output_type": "stream",
          "text": [
            "Epoch 1/20\n",
            "1949/1949 [==============================] - 51s 23ms/step - loss: 2.5939 - W/A_loss: 0.6181 - H/A_loss: 0.6437 - W/H_loss: 0.5321 - Bmi_loss: 0.5191 - HAWH_loss: 0.2809 - W/A_accuracy: 0.6676 - W/A_auc: 0.7189 - H/A_accuracy: 0.6386 - H/A_auc_1: 0.6802 - W/H_accuracy: 0.7843 - W/H_auc_2: 0.8041 - Bmi_accuracy: 0.7950 - Bmi_auc_3: 0.8136 - HAWH_accuracy: 0.9329 - HAWH_auc_4: 0.9474 - val_loss: 2.4459 - val_W/A_loss: 0.5892 - val_H/A_loss: 0.6280 - val_W/H_loss: 0.5145 - val_Bmi_loss: 0.4941 - val_HAWH_loss: 0.2201 - val_W/A_accuracy: 0.6848 - val_W/A_auc: 0.7546 - val_H/A_accuracy: 0.6401 - val_H/A_auc_1: 0.7061 - val_W/H_accuracy: 0.7839 - val_W/H_auc_2: 0.8126 - val_Bmi_accuracy: 0.8016 - val_Bmi_auc_3: 0.8218 - val_HAWH_accuracy: 0.9371 - val_HAWH_auc_4: 0.9607\n",
            "Epoch 2/20\n",
            "1949/1949 [==============================] - 44s 22ms/step - loss: 2.4602 - W/A_loss: 0.5971 - H/A_loss: 0.6255 - W/H_loss: 0.5162 - Bmi_loss: 0.4959 - HAWH_loss: 0.2254 - W/A_accuracy: 0.6776 - W/A_auc: 0.7452 - H/A_accuracy: 0.6501 - H/A_auc_1: 0.7083 - W/H_accuracy: 0.7843 - W/H_auc_2: 0.8088 - Bmi_accuracy: 0.8018 - Bmi_auc_3: 0.8160 - HAWH_accuracy: 0.9360 - HAWH_auc_4: 0.9580 - val_loss: 2.4483 - val_W/A_loss: 0.5926 - val_H/A_loss: 0.6241 - val_W/H_loss: 0.5157 - val_Bmi_loss: 0.4955 - val_HAWH_loss: 0.2205 - val_W/A_accuracy: 0.6899 - val_W/A_auc: 0.7590 - val_H/A_accuracy: 0.6581 - val_H/A_auc_1: 0.7154 - val_W/H_accuracy: 0.7839 - val_W/H_auc_2: 0.8121 - val_Bmi_accuracy: 0.8016 - val_Bmi_auc_3: 0.8201 - val_HAWH_accuracy: 0.9371 - val_HAWH_auc_4: 0.9614\n",
            "Epoch 3/20\n",
            "1949/1949 [==============================] - 45s 23ms/step - loss: 2.4494 - W/A_loss: 0.5935 - H/A_loss: 0.6208 - W/H_loss: 0.5157 - Bmi_loss: 0.4956 - HAWH_loss: 0.2239 - W/A_accuracy: 0.6811 - W/A_auc: 0.7490 - H/A_accuracy: 0.6566 - H/A_auc_1: 0.7151 - W/H_accuracy: 0.7843 - W/H_auc_2: 0.8093 - Bmi_accuracy: 0.8018 - Bmi_auc_3: 0.8162 - HAWH_accuracy: 0.9360 - HAWH_auc_4: 0.9593 - val_loss: 2.4356 - val_W/A_loss: 0.5855 - val_H/A_loss: 0.6212 - val_W/H_loss: 0.5151 - val_Bmi_loss: 0.4947 - val_HAWH_loss: 0.2191 - val_W/A_accuracy: 0.6871 - val_W/A_auc: 0.7583 - val_H/A_accuracy: 0.6582 - val_H/A_auc_1: 0.7151 - val_W/H_accuracy: 0.7839 - val_W/H_auc_2: 0.8112 - val_Bmi_accuracy: 0.8016 - val_Bmi_auc_3: 0.8194 - val_HAWH_accuracy: 0.9371 - val_HAWH_auc_4: 0.9616\n",
            "Epoch 4/20\n",
            "1949/1949 [==============================] - 44s 23ms/step - loss: 2.4450 - W/A_loss: 0.5917 - H/A_loss: 0.6195 - W/H_loss: 0.5153 - Bmi_loss: 0.4953 - HAWH_loss: 0.2231 - W/A_accuracy: 0.6834 - W/A_auc: 0.7508 - H/A_accuracy: 0.6584 - H/A_auc_1: 0.7168 - W/H_accuracy: 0.7843 - W/H_auc_2: 0.8096 - Bmi_accuracy: 0.8018 - Bmi_auc_3: 0.8165 - HAWH_accuracy: 0.9360 - HAWH_auc_4: 0.9598 - val_loss: 2.4349 - val_W/A_loss: 0.5874 - val_H/A_loss: 0.6199 - val_W/H_loss: 0.5146 - val_Bmi_loss: 0.4945 - val_HAWH_loss: 0.2186 - val_W/A_accuracy: 0.6847 - val_W/A_auc: 0.7567 - val_H/A_accuracy: 0.6504 - val_H/A_auc_1: 0.7154 - val_W/H_accuracy: 0.7839 - val_W/H_auc_2: 0.8114 - val_Bmi_accuracy: 0.8016 - val_Bmi_auc_3: 0.8200 - val_HAWH_accuracy: 0.9371 - val_HAWH_auc_4: 0.9620\n",
            "Epoch 5/20\n",
            "1949/1949 [==============================] - 44s 23ms/step - loss: 2.4406 - W/A_loss: 0.5902 - H/A_loss: 0.6186 - W/H_loss: 0.5144 - Bmi_loss: 0.4945 - HAWH_loss: 0.2229 - W/A_accuracy: 0.6845 - W/A_auc: 0.7522 - H/A_accuracy: 0.6585 - H/A_auc_1: 0.7172 - W/H_accuracy: 0.7843 - W/H_auc_2: 0.8112 - Bmi_accuracy: 0.8018 - Bmi_auc_3: 0.8187 - HAWH_accuracy: 0.9360 - HAWH_auc_4: 0.9599 - val_loss: 2.4404 - val_W/A_loss: 0.5878 - val_H/A_loss: 0.6205 - val_W/H_loss: 0.5161 - val_Bmi_loss: 0.4959 - val_HAWH_loss: 0.2200 - val_W/A_accuracy: 0.6898 - val_W/A_auc: 0.7606 - val_H/A_accuracy: 0.6574 - val_H/A_auc_1: 0.7171 - val_W/H_accuracy: 0.7839 - val_W/H_auc_2: 0.8108 - val_Bmi_accuracy: 0.8016 - val_Bmi_auc_3: 0.8188 - val_HAWH_accuracy: 0.9371 - val_HAWH_auc_4: 0.9618\n",
            "Epoch 6/20\n",
            "1949/1949 [==============================] - 46s 24ms/step - loss: 2.4385 - W/A_loss: 0.5893 - H/A_loss: 0.6181 - W/H_loss: 0.5141 - Bmi_loss: 0.4943 - HAWH_loss: 0.2227 - W/A_accuracy: 0.6861 - W/A_auc: 0.7537 - H/A_accuracy: 0.6584 - H/A_auc_1: 0.7179 - W/H_accuracy: 0.7843 - W/H_auc_2: 0.8114 - Bmi_accuracy: 0.8018 - Bmi_auc_3: 0.8196 - HAWH_accuracy: 0.9360 - HAWH_auc_4: 0.9601 - val_loss: 2.4415 - val_W/A_loss: 0.5906 - val_H/A_loss: 0.6227 - val_W/H_loss: 0.5147 - val_Bmi_loss: 0.4945 - val_HAWH_loss: 0.2190 - val_W/A_accuracy: 0.6861 - val_W/A_auc: 0.7595 - val_H/A_accuracy: 0.6539 - val_H/A_auc_1: 0.7144 - val_W/H_accuracy: 0.7839 - val_W/H_auc_2: 0.8134 - val_Bmi_accuracy: 0.8016 - val_Bmi_auc_3: 0.8236 - val_HAWH_accuracy: 0.9371 - val_HAWH_auc_4: 0.9617\n",
            "Epoch 7/20\n",
            "1949/1949 [==============================] - 45s 23ms/step - loss: 2.4372 - W/A_loss: 0.5887 - H/A_loss: 0.6180 - W/H_loss: 0.5138 - Bmi_loss: 0.4940 - HAWH_loss: 0.2226 - W/A_accuracy: 0.6861 - W/A_auc: 0.7540 - H/A_accuracy: 0.6593 - H/A_auc_1: 0.7180 - W/H_accuracy: 0.7843 - W/H_auc_2: 0.8117 - Bmi_accuracy: 0.8018 - Bmi_auc_3: 0.8205 - HAWH_accuracy: 0.9360 - HAWH_auc_4: 0.9601 - val_loss: 2.4385 - val_W/A_loss: 0.5885 - val_H/A_loss: 0.6240 - val_W/H_loss: 0.5134 - val_Bmi_loss: 0.4935 - val_HAWH_loss: 0.2191 - val_W/A_accuracy: 0.6877 - val_W/A_auc: 0.7601 - val_H/A_accuracy: 0.6518 - val_H/A_auc_1: 0.7128 - val_W/H_accuracy: 0.7839 - val_W/H_auc_2: 0.8140 - val_Bmi_accuracy: 0.8016 - val_Bmi_auc_3: 0.8248 - val_HAWH_accuracy: 0.9371 - val_HAWH_auc_4: 0.9618\n",
            "Epoch 8/20\n",
            "1949/1949 [==============================] - 45s 23ms/step - loss: 2.4344 - W/A_loss: 0.5878 - H/A_loss: 0.6184 - W/H_loss: 0.5128 - Bmi_loss: 0.4931 - HAWH_loss: 0.2223 - W/A_accuracy: 0.6864 - W/A_auc: 0.7551 - H/A_accuracy: 0.6585 - H/A_auc_1: 0.7177 - W/H_accuracy: 0.7843 - W/H_auc_2: 0.8127 - Bmi_accuracy: 0.8018 - Bmi_auc_3: 0.8224 - HAWH_accuracy: 0.9360 - HAWH_auc_4: 0.9603 - val_loss: 2.4408 - val_W/A_loss: 0.5915 - val_H/A_loss: 0.6217 - val_W/H_loss: 0.5147 - val_Bmi_loss: 0.4940 - val_HAWH_loss: 0.2189 - val_W/A_accuracy: 0.6884 - val_W/A_auc: 0.7600 - val_H/A_accuracy: 0.6536 - val_H/A_auc_1: 0.7173 - val_W/H_accuracy: 0.7839 - val_W/H_auc_2: 0.8126 - val_Bmi_accuracy: 0.8016 - val_Bmi_auc_3: 0.8249 - val_HAWH_accuracy: 0.9371 - val_HAWH_auc_4: 0.9624\n",
            "Epoch 9/20\n",
            "1949/1949 [==============================] - 44s 23ms/step - loss: 2.4331 - W/A_loss: 0.5879 - H/A_loss: 0.6180 - W/H_loss: 0.5125 - Bmi_loss: 0.4926 - HAWH_loss: 0.2221 - W/A_accuracy: 0.6865 - W/A_auc: 0.7551 - H/A_accuracy: 0.6601 - H/A_auc_1: 0.7186 - W/H_accuracy: 0.7843 - W/H_auc_2: 0.8134 - Bmi_accuracy: 0.8018 - Bmi_auc_3: 0.8242 - HAWH_accuracy: 0.9360 - HAWH_auc_4: 0.9605 - val_loss: 2.4403 - val_W/A_loss: 0.5921 - val_H/A_loss: 0.6219 - val_W/H_loss: 0.5141 - val_Bmi_loss: 0.4932 - val_HAWH_loss: 0.2190 - val_W/A_accuracy: 0.6866 - val_W/A_auc: 0.7596 - val_H/A_accuracy: 0.6514 - val_H/A_auc_1: 0.7152 - val_W/H_accuracy: 0.7839 - val_W/H_auc_2: 0.8149 - val_Bmi_accuracy: 0.8016 - val_Bmi_auc_3: 0.8269 - val_HAWH_accuracy: 0.9371 - val_HAWH_auc_4: 0.9620\n",
            "Epoch 10/20\n",
            "1949/1949 [==============================] - 45s 23ms/step - loss: 2.4318 - W/A_loss: 0.5873 - H/A_loss: 0.6177 - W/H_loss: 0.5124 - Bmi_loss: 0.4924 - HAWH_loss: 0.2220 - W/A_accuracy: 0.6875 - W/A_auc: 0.7556 - H/A_accuracy: 0.6608 - H/A_auc_1: 0.7190 - W/H_accuracy: 0.7843 - W/H_auc_2: 0.8137 - Bmi_accuracy: 0.8018 - Bmi_auc_3: 0.8250 - HAWH_accuracy: 0.9360 - HAWH_auc_4: 0.9606 - val_loss: 2.4461 - val_W/A_loss: 0.5931 - val_H/A_loss: 0.6222 - val_W/H_loss: 0.5158 - val_Bmi_loss: 0.4948 - val_HAWH_loss: 0.2201 - val_W/A_accuracy: 0.6864 - val_W/A_auc: 0.7592 - val_H/A_accuracy: 0.6570 - val_H/A_auc_1: 0.7177 - val_W/H_accuracy: 0.7839 - val_W/H_auc_2: 0.8155 - val_Bmi_accuracy: 0.8016 - val_Bmi_auc_3: 0.8258 - val_HAWH_accuracy: 0.9371 - val_HAWH_auc_4: 0.9622\n",
            "Epoch 11/20\n",
            "1949/1949 [==============================] - 44s 22ms/step - loss: 2.4305 - W/A_loss: 0.5878 - H/A_loss: 0.6164 - W/H_loss: 0.5125 - Bmi_loss: 0.4920 - HAWH_loss: 0.2218 - W/A_accuracy: 0.6862 - W/A_auc: 0.7551 - H/A_accuracy: 0.6619 - H/A_auc_1: 0.7204 - W/H_accuracy: 0.7843 - W/H_auc_2: 0.8142 - Bmi_accuracy: 0.8018 - Bmi_auc_3: 0.8262 - HAWH_accuracy: 0.9360 - HAWH_auc_4: 0.9607 - val_loss: 2.4481 - val_W/A_loss: 0.5957 - val_H/A_loss: 0.6265 - val_W/H_loss: 0.5135 - val_Bmi_loss: 0.4924 - val_HAWH_loss: 0.2201 - val_W/A_accuracy: 0.6874 - val_W/A_auc: 0.7591 - val_H/A_accuracy: 0.6592 - val_H/A_auc_1: 0.7133 - val_W/H_accuracy: 0.7839 - val_W/H_auc_2: 0.8193 - val_Bmi_accuracy: 0.8016 - val_Bmi_auc_3: 0.8310 - val_HAWH_accuracy: 0.9371 - val_HAWH_auc_4: 0.9619\n",
            "Epoch 12/20\n",
            "1949/1949 [==============================] - 44s 23ms/step - loss: 2.4297 - W/A_loss: 0.5879 - H/A_loss: 0.6167 - W/H_loss: 0.5118 - Bmi_loss: 0.4913 - HAWH_loss: 0.2220 - W/A_accuracy: 0.6859 - W/A_auc: 0.7549 - H/A_accuracy: 0.6626 - H/A_auc_1: 0.7203 - W/H_accuracy: 0.7843 - W/H_auc_2: 0.8148 - Bmi_accuracy: 0.8018 - Bmi_auc_3: 0.8274 - HAWH_accuracy: 0.9360 - HAWH_auc_4: 0.9605 - val_loss: 2.4329 - val_W/A_loss: 0.5897 - val_H/A_loss: 0.6196 - val_W/H_loss: 0.5131 - val_Bmi_loss: 0.4923 - val_HAWH_loss: 0.2183 - val_W/A_accuracy: 0.6890 - val_W/A_auc: 0.7587 - val_H/A_accuracy: 0.6595 - val_H/A_auc_1: 0.7175 - val_W/H_accuracy: 0.7839 - val_W/H_auc_2: 0.8177 - val_Bmi_accuracy: 0.8016 - val_Bmi_auc_3: 0.8310 - val_HAWH_accuracy: 0.9371 - val_HAWH_auc_4: 0.9618\n",
            "Epoch 13/20\n",
            "1949/1949 [==============================] - 46s 23ms/step - loss: 2.4279 - W/A_loss: 0.5873 - H/A_loss: 0.6172 - W/H_loss: 0.5111 - Bmi_loss: 0.4906 - HAWH_loss: 0.2216 - W/A_accuracy: 0.6864 - W/A_auc: 0.7551 - H/A_accuracy: 0.6596 - H/A_auc_1: 0.7186 - W/H_accuracy: 0.7843 - W/H_auc_2: 0.8168 - Bmi_accuracy: 0.8018 - Bmi_auc_3: 0.8292 - HAWH_accuracy: 0.9360 - HAWH_auc_4: 0.9608 - val_loss: 2.4375 - val_W/A_loss: 0.5918 - val_H/A_loss: 0.6204 - val_W/H_loss: 0.5138 - val_Bmi_loss: 0.4924 - val_HAWH_loss: 0.2192 - val_W/A_accuracy: 0.6862 - val_W/A_auc: 0.7577 - val_H/A_accuracy: 0.6548 - val_H/A_auc_1: 0.7170 - val_W/H_accuracy: 0.7839 - val_W/H_auc_2: 0.8183 - val_Bmi_accuracy: 0.8016 - val_Bmi_auc_3: 0.8309 - val_HAWH_accuracy: 0.9371 - val_HAWH_auc_4: 0.9621\n",
            "Epoch 14/20\n",
            "1949/1949 [==============================] - 46s 24ms/step - loss: 2.4266 - W/A_loss: 0.5873 - H/A_loss: 0.6168 - W/H_loss: 0.5106 - Bmi_loss: 0.4901 - HAWH_loss: 0.2217 - W/A_accuracy: 0.6870 - W/A_auc: 0.7555 - H/A_accuracy: 0.6617 - H/A_auc_1: 0.7197 - W/H_accuracy: 0.7843 - W/H_auc_2: 0.8175 - Bmi_accuracy: 0.8018 - Bmi_auc_3: 0.8299 - HAWH_accuracy: 0.9360 - HAWH_auc_4: 0.9607 - val_loss: 2.4512 - val_W/A_loss: 0.5957 - val_H/A_loss: 0.6233 - val_W/H_loss: 0.5166 - val_Bmi_loss: 0.4950 - val_HAWH_loss: 0.2205 - val_W/A_accuracy: 0.6876 - val_W/A_auc: 0.7558 - val_H/A_accuracy: 0.6657 - val_H/A_auc_1: 0.7141 - val_W/H_accuracy: 0.7839 - val_W/H_auc_2: 0.8184 - val_Bmi_accuracy: 0.8016 - val_Bmi_auc_3: 0.8302 - val_HAWH_accuracy: 0.9371 - val_HAWH_auc_4: 0.9608\n",
            "Epoch 15/20\n",
            "1949/1949 [==============================] - 46s 24ms/step - loss: 2.4282 - W/A_loss: 0.5879 - H/A_loss: 0.6179 - W/H_loss: 0.5105 - Bmi_loss: 0.4900 - HAWH_loss: 0.2219 - W/A_accuracy: 0.6864 - W/A_auc: 0.7544 - H/A_accuracy: 0.6582 - H/A_auc_1: 0.7174 - W/H_accuracy: 0.7843 - W/H_auc_2: 0.8175 - Bmi_accuracy: 0.8018 - Bmi_auc_3: 0.8306 - HAWH_accuracy: 0.9360 - HAWH_auc_4: 0.9604 - val_loss: 2.4404 - val_W/A_loss: 0.5914 - val_H/A_loss: 0.6210 - val_W/H_loss: 0.5152 - val_Bmi_loss: 0.4934 - val_HAWH_loss: 0.2194 - val_W/A_accuracy: 0.6879 - val_W/A_auc: 0.7579 - val_H/A_accuracy: 0.6626 - val_H/A_auc_1: 0.7164 - val_W/H_accuracy: 0.7839 - val_W/H_auc_2: 0.8178 - val_Bmi_accuracy: 0.8016 - val_Bmi_auc_3: 0.8294 - val_HAWH_accuracy: 0.9371 - val_HAWH_auc_4: 0.9616\n",
            "Epoch 16/20\n",
            "1949/1949 [==============================] - 45s 23ms/step - loss: 2.4281 - W/A_loss: 0.5878 - H/A_loss: 0.6183 - W/H_loss: 0.5104 - Bmi_loss: 0.4899 - HAWH_loss: 0.2217 - W/A_accuracy: 0.6880 - W/A_auc: 0.7549 - H/A_accuracy: 0.6605 - H/A_auc_1: 0.7170 - W/H_accuracy: 0.7843 - W/H_auc_2: 0.8183 - Bmi_accuracy: 0.8018 - Bmi_auc_3: 0.8306 - HAWH_accuracy: 0.9360 - HAWH_auc_4: 0.9606 - val_loss: 2.4411 - val_W/A_loss: 0.5944 - val_H/A_loss: 0.6213 - val_W/H_loss: 0.5136 - val_Bmi_loss: 0.4919 - val_HAWH_loss: 0.2199 - val_W/A_accuracy: 0.6877 - val_W/A_auc: 0.7575 - val_H/A_accuracy: 0.6594 - val_H/A_auc_1: 0.7155 - val_W/H_accuracy: 0.7839 - val_W/H_auc_2: 0.8183 - val_Bmi_accuracy: 0.8016 - val_Bmi_auc_3: 0.8317 - val_HAWH_accuracy: 0.9371 - val_HAWH_auc_4: 0.9615\n",
            "Epoch 17/20\n",
            "1949/1949 [==============================] - 46s 24ms/step - loss: 2.4268 - W/A_loss: 0.5873 - H/A_loss: 0.6183 - W/H_loss: 0.5100 - Bmi_loss: 0.4895 - HAWH_loss: 0.2218 - W/A_accuracy: 0.6888 - W/A_auc: 0.7553 - H/A_accuracy: 0.6590 - H/A_auc_1: 0.7167 - W/H_accuracy: 0.7843 - W/H_auc_2: 0.8193 - Bmi_accuracy: 0.8018 - Bmi_auc_3: 0.8316 - HAWH_accuracy: 0.9360 - HAWH_auc_4: 0.9606 - val_loss: 2.4445 - val_W/A_loss: 0.5961 - val_H/A_loss: 0.6227 - val_W/H_loss: 0.5137 - val_Bmi_loss: 0.4913 - val_HAWH_loss: 0.2208 - val_W/A_accuracy: 0.6826 - val_W/A_auc: 0.7525 - val_H/A_accuracy: 0.6481 - val_H/A_auc_1: 0.7117 - val_W/H_accuracy: 0.7839 - val_W/H_auc_2: 0.8170 - val_Bmi_accuracy: 0.8016 - val_Bmi_auc_3: 0.8303 - val_HAWH_accuracy: 0.9371 - val_HAWH_auc_4: 0.9613\n",
            "Epoch 18/20\n",
            "1949/1949 [==============================] - 45s 23ms/step - loss: 2.4308 - W/A_loss: 0.5893 - H/A_loss: 0.6179 - W/H_loss: 0.5110 - Bmi_loss: 0.4901 - HAWH_loss: 0.2224 - W/A_accuracy: 0.6874 - W/A_auc: 0.7531 - H/A_accuracy: 0.6584 - H/A_auc_1: 0.7175 - W/H_accuracy: 0.7843 - W/H_auc_2: 0.8164 - Bmi_accuracy: 0.8018 - Bmi_auc_3: 0.8293 - HAWH_accuracy: 0.9360 - HAWH_auc_4: 0.9601 - val_loss: 2.4351 - val_W/A_loss: 0.5926 - val_H/A_loss: 0.6192 - val_W/H_loss: 0.5123 - val_Bmi_loss: 0.4909 - val_HAWH_loss: 0.2200 - val_W/A_accuracy: 0.6881 - val_W/A_auc: 0.7571 - val_H/A_accuracy: 0.6518 - val_H/A_auc_1: 0.7156 - val_W/H_accuracy: 0.7839 - val_W/H_auc_2: 0.8206 - val_Bmi_accuracy: 0.8016 - val_Bmi_auc_3: 0.8322 - val_HAWH_accuracy: 0.9371 - val_HAWH_auc_4: 0.9618\n",
            "Epoch 19/20\n",
            "1949/1949 [==============================] - 44s 22ms/step - loss: 2.4275 - W/A_loss: 0.5891 - H/A_loss: 0.6183 - W/H_loss: 0.5096 - Bmi_loss: 0.4885 - HAWH_loss: 0.2220 - W/A_accuracy: 0.6883 - W/A_auc: 0.7535 - H/A_accuracy: 0.6586 - H/A_auc_1: 0.7162 - W/H_accuracy: 0.7843 - W/H_auc_2: 0.8202 - Bmi_accuracy: 0.8018 - Bmi_auc_3: 0.8331 - HAWH_accuracy: 0.9360 - HAWH_auc_4: 0.9605 - val_loss: 2.4390 - val_W/A_loss: 0.5934 - val_H/A_loss: 0.6221 - val_W/H_loss: 0.5136 - val_Bmi_loss: 0.4911 - val_HAWH_loss: 0.2189 - val_W/A_accuracy: 0.6866 - val_W/A_auc: 0.7565 - val_H/A_accuracy: 0.6502 - val_H/A_auc_1: 0.7123 - val_W/H_accuracy: 0.7839 - val_W/H_auc_2: 0.8189 - val_Bmi_accuracy: 0.8016 - val_Bmi_auc_3: 0.8314 - val_HAWH_accuracy: 0.9371 - val_HAWH_auc_4: 0.9621\n",
            "Epoch 20/20\n",
            "1949/1949 [==============================] - 44s 23ms/step - loss: 2.4283 - W/A_loss: 0.5889 - H/A_loss: 0.6187 - W/H_loss: 0.5099 - Bmi_loss: 0.4886 - HAWH_loss: 0.2221 - W/A_accuracy: 0.6889 - W/A_auc: 0.7535 - H/A_accuracy: 0.6607 - H/A_auc_1: 0.7168 - W/H_accuracy: 0.7843 - W/H_auc_2: 0.8193 - Bmi_accuracy: 0.8018 - Bmi_auc_3: 0.8329 - HAWH_accuracy: 0.9360 - HAWH_auc_4: 0.9603 - val_loss: 2.4408 - val_W/A_loss: 0.5951 - val_H/A_loss: 0.6240 - val_W/H_loss: 0.5114 - val_Bmi_loss: 0.4898 - val_HAWH_loss: 0.2205 - val_W/A_accuracy: 0.6876 - val_W/A_auc: 0.7556 - val_H/A_accuracy: 0.6558 - val_H/A_auc_1: 0.7119 - val_W/H_accuracy: 0.7839 - val_W/H_auc_2: 0.8218 - val_Bmi_accuracy: 0.8016 - val_Bmi_auc_3: 0.8341 - val_HAWH_accuracy: 0.9371 - val_HAWH_auc_4: 0.9618\n"
          ]
        }
      ],
      "source": [
        "# train the model for 2000 epochs\n",
        "history = model.fit(_X_train_np, [y1_train_oh, y2_train_oh, y3_train_oh, y4_train_oh, y5_train_oh], \n",
        "                    epochs=20, batch_size=64, \n",
        "                    validation_data=(_X_val_np, [y1_val_oh, y2_val_oh, y3_val_oh, y4_val_oh, y5_val_oh]),\n",
        "                    verbose=1)\n",
        "# history = model.fit(_X_train_np, y_train_oh, epochs=100, batch_size=64, validation_data=(_X_val_np, y_val_oh), verbose=1)"
      ]
    },
    {
      "cell_type": "code",
      "execution_count": null,
      "metadata": {
        "colab": {
          "base_uri": "https://localhost:8080/"
        },
        "id": "mXhHMvNWQZVP",
        "outputId": "ef089cdd-ad0c-4931-ada6-4d1a13307b0f"
      },
      "outputs": [
        {
          "name": "stderr",
          "output_type": "stream",
          "text": [
            "/usr/local/lib/python3.7/dist-packages/keras/engine/training.py:2470: UserWarning: `Model.state_updates` will be removed in a future version. This property should not be used in TensorFlow 2.0, as `updates` are applied automatically.\n",
            "  warnings.warn('`Model.state_updates` will be removed in a future version. '\n"
          ]
        }
      ],
      "source": [
        "predictions1, predictions2, predictions3, predictions4, predictions5 = model.predict(_X_test_np)\n",
        "# predictions = model.predict(_X_test_np)"
      ]
    },
    {
      "cell_type": "code",
      "execution_count": null,
      "metadata": {
        "id": "ofEdUya57EuX"
      },
      "outputs": [],
      "source": [
        "y1_test_np = y1_test.to_numpy()\n",
        "y2_test_np = y2_test.to_numpy()\n",
        "y3_test_np = y3_test.to_numpy()\n",
        "y4_test_np = y4_test.to_numpy()\n",
        "# y_test_np = y_test.to_numpy()"
      ]
    },
    {
      "cell_type": "code",
      "execution_count": null,
      "metadata": {
        "colab": {
          "base_uri": "https://localhost:8080/"
        },
        "id": "jJUqJ4UuCaJ6",
        "outputId": "93969dc4-2c8e-424a-b7b7-09c1f48731dc"
      },
      "outputs": [
        {
          "name": "stdout",
          "output_type": "stream",
          "text": [
            "accuracy 0.6817409438479957\n"
          ]
        }
      ],
      "source": [
        "WA_accuracy = get_accuracy(predictions1, y1_test_np)"
      ]
    },
    {
      "cell_type": "code",
      "execution_count": null,
      "metadata": {
        "colab": {
          "base_uri": "https://localhost:8080/"
        },
        "id": "b6LvzNpcCqjp",
        "outputId": "42047d52-95de-4638-aa67-a478c77b0dcf"
      },
      "outputs": [
        {
          "name": "stdout",
          "output_type": "stream",
          "text": [
            "accuracy 0.6633583069436935\n"
          ]
        }
      ],
      "source": [
        "HA_accuracy = get_accuracy(predictions2, y2_test_np)"
      ]
    },
    {
      "cell_type": "code",
      "execution_count": null,
      "metadata": {
        "colab": {
          "base_uri": "https://localhost:8080/"
        },
        "id": "LhO0vtdeCque",
        "outputId": "c69277db-5a51-45a4-c94d-857d5db7cf9e"
      },
      "outputs": [
        {
          "name": "stdout",
          "output_type": "stream",
          "text": [
            "accuracy 0.7796400710589326\n"
          ]
        }
      ],
      "source": [
        "WH_accuracy = get_accuracy(predictions3, y3_test_np)"
      ]
    },
    {
      "cell_type": "code",
      "execution_count": null,
      "metadata": {
        "colab": {
          "base_uri": "https://localhost:8080/"
        },
        "id": "q6tcDA7ACq6y",
        "outputId": "5c8ca742-0fb1-47d7-b034-af1f8967c5ca"
      },
      "outputs": [
        {
          "name": "stdout",
          "output_type": "stream",
          "text": [
            "accuracy 0.7984475167992585\n"
          ]
        }
      ],
      "source": [
        "Bmi_accuracy = get_accuracy(predictions4, y4_test_np)"
      ]
    },
    {
      "cell_type": "code",
      "execution_count": null,
      "metadata": {
        "id": "6pbb19S6nrH7"
      },
      "outputs": [],
      "source": [
        "# model.load_weights('/content/results/chi16_nn1.h5')"
      ]
    },
    {
      "cell_type": "code",
      "execution_count": null,
      "metadata": {
        "id": "1d8ICztsr37J"
      },
      "outputs": [],
      "source": [
        "model.save('/content/results/chi16_nn1.h5')"
      ]
    },
    {
      "cell_type": "markdown",
      "metadata": {
        "id": "jKAckiypUUMG"
      },
      "source": [
        "# Basic ML Algos"
      ]
    },
    {
      "cell_type": "code",
      "execution_count": null,
      "metadata": {
        "id": "G6dPgmmAbJfi"
      },
      "outputs": [],
      "source": [
        "import sklearn\n",
        "from sklearn.feature_selection import RFE\n",
        "# define the method\n",
        "from sklearn.tree import DecisionTreeClassifier\n",
        "rfe = RFE(estimator=DecisionTreeClassifier(), n_features_to_select=3)\n",
        "# fit the model\n",
        "rfe.fit(_X_Train, y1_Train)\n",
        "# transform the data\n",
        "X, y = rfe.transform(_X_Train, y1_Train)"
      ]
    },
    {
      "cell_type": "code",
      "execution_count": null,
      "metadata": {
        "id": "rqdZkF57bnCB"
      },
      "outputs": [],
      "source": [
        "# evaluate RFE for classification\n",
        "from numpy import mean\n",
        "from numpy import std\n",
        "from sklearn.datasets import make_classification\n",
        "from sklearn.model_selection import cross_val_score\n",
        "from sklearn.model_selection import RepeatedStratifiedKFold\n",
        "from sklearn.feature_selection import RFE\n",
        "from sklearn.tree import DecisionTreeClassifier\n",
        "from sklearn.pipeline import Pipeline\n",
        "# define dataset\n",
        "# X, y = make_classification(n_samples=1000, n_features=10, n_informative=5, n_redundant=5, random_state=1)\n",
        "# create pipeline\n",
        "rfe = RFE(estimator=DecisionTreeClassifier(), n_features_to_select=10)\n",
        "model = DecisionTreeClassifier()\n",
        "pipeline = Pipeline(steps=[('s',rfe),('m',model)])\n",
        "# evaluate model\n",
        "cv = RepeatedStratifiedKFold(n_splits=10, n_repeats=3, random_state=1)\n",
        "n_scores = cross_val_score(pipeline, _X_Train, y1_Train, scoring='accuracy', cv=cv, n_jobs=-1, error_score='raise')\n",
        "# report performance\n",
        "print('Accuracy: %.3f (%.3f)' % (mean(n_scores), std(n_scores)))"
      ]
    },
    {
      "cell_type": "markdown",
      "metadata": {
        "id": "gOtjkK7kUXYj"
      },
      "source": [
        "## KNN"
      ]
    },
    {
      "cell_type": "code",
      "execution_count": null,
      "metadata": {
        "colab": {
          "base_uri": "https://localhost:8080/"
        },
        "id": "6jvoA5hqUb_y",
        "outputId": "2c62d83f-fa95-45cf-a655-5b49936988fb"
      },
      "outputs": [
        {
          "name": "stderr",
          "output_type": "stream",
          "text": [
            "/usr/local/lib/python3.7/dist-packages/ipykernel_launcher.py:2: DataConversionWarning: A column-vector y was passed when a 1d array was expected. Please change the shape of y to (n_samples, ), for example using ravel().\n",
            "  \n"
          ]
        },
        {
          "name": "stdout",
          "output_type": "stream",
          "text": [
            "12.371987104415894 seconds\n",
            "Accuracy of Knn on variable y1 is 0.6513288377627925\n"
          ]
        }
      ],
      "source": [
        "start = time.time()\n",
        "knn = KNeighborsClassifier(n_neighbors = 50 ).fit(_X_Train, y1_Train) \n",
        "  \n",
        "# accuracy on X_test \n",
        "accuracy = knn.score(_X_Test, y1_Test) \n",
        "end = time.time()\n",
        "print(end-start, 'seconds')\n",
        "print (f'Accuracy of Knn on variable y1 is {accuracy}')"
      ]
    },
    {
      "cell_type": "code",
      "execution_count": null,
      "metadata": {
        "id": "UFbqS2K_UcEe"
      },
      "outputs": [],
      "source": [
        "accuracy = []\n",
        "for i in range(1,50):\n",
        "  knn = KNeighborsClassifier(n_neighbors = i).fit(_X_Train, y1_Train) \n",
        "  knn_accuracy = knn.score(_X_Test, y1_Test)\n",
        "  accuracy.append(knn_accuracy)\n",
        "plt.plot(np.arange(1,50), accuracy, '-o')"
      ]
    },
    {
      "cell_type": "markdown",
      "metadata": {
        "id": "sEZ5a3gFVG9Y"
      },
      "source": [
        "## SVM"
      ]
    },
    {
      "cell_type": "code",
      "execution_count": null,
      "metadata": {
        "colab": {
          "base_uri": "https://localhost:8080/"
        },
        "id": "G4lN8joCUcKl",
        "outputId": "82dace26-e5af-4066-b80c-d1030d60f120"
      },
      "outputs": [
        {
          "name": "stderr",
          "output_type": "stream",
          "text": [
            "/usr/local/lib/python3.7/dist-packages/sklearn/utils/validation.py:760: DataConversionWarning: A column-vector y was passed when a 1d array was expected. Please change the shape of y to (n_samples, ), for example using ravel().\n",
            "  y = column_or_1d(y, warn=True)\n"
          ]
        },
        {
          "name": "stdout",
          "output_type": "stream",
          "text": [
            "331.08939385414124 seconds\n",
            "accuracy of SVM is 0.6296443210366257\n"
          ]
        }
      ],
      "source": [
        "start = time.time()\n",
        "svm_model_linear = SVC(kernel = 'rbf', C = 25).fit(_X_Train, y1_Train) \n",
        "svm_predictions = svm_model_linear.predict(_X_Test) \n",
        "  \n",
        "# model accuracy for X_test   \n",
        "accuracy = svm_model_linear.score(_X_Test, y1_Test) \n",
        "end = time.time()\n",
        "print(end - start, 'seconds')\n",
        "print('accuracy of SVM is', accuracy)"
      ]
    },
    {
      "cell_type": "code",
      "execution_count": null,
      "metadata": {
        "colab": {
          "base_uri": "https://localhost:8080/",
          "height": 514
        },
        "id": "gBmvkDgnUcPW",
        "outputId": "3f01bba1-8feb-41ce-cc47-becceb29e9a6"
      },
      "outputs": [
        {
          "name": "stderr",
          "output_type": "stream",
          "text": [
            "/usr/local/lib/python3.7/dist-packages/sklearn/utils/validation.py:760: DataConversionWarning: A column-vector y was passed when a 1d array was expected. Please change the shape of y to (n_samples, ), for example using ravel().\n",
            "  y = column_or_1d(y, warn=True)\n",
            "/usr/local/lib/python3.7/dist-packages/sklearn/utils/validation.py:760: DataConversionWarning: A column-vector y was passed when a 1d array was expected. Please change the shape of y to (n_samples, ), for example using ravel().\n",
            "  y = column_or_1d(y, warn=True)\n",
            "/usr/local/lib/python3.7/dist-packages/sklearn/utils/validation.py:760: DataConversionWarning: A column-vector y was passed when a 1d array was expected. Please change the shape of y to (n_samples, ), for example using ravel().\n",
            "  y = column_or_1d(y, warn=True)\n"
          ]
        },
        {
          "ename": "KeyboardInterrupt",
          "evalue": "ignored",
          "output_type": "error",
          "traceback": [
            "\u001b[0;31m---------------------------------------------------------------------------\u001b[0m",
            "\u001b[0;31mKeyboardInterrupt\u001b[0m                         Traceback (most recent call last)",
            "\u001b[0;32m<ipython-input-38-80920ba149b0>\u001b[0m in \u001b[0;36m<module>\u001b[0;34m()\u001b[0m\n\u001b[1;32m      1\u001b[0m \u001b[0maccuracy\u001b[0m \u001b[0;34m=\u001b[0m \u001b[0;34m[\u001b[0m\u001b[0;34m]\u001b[0m\u001b[0;34m\u001b[0m\u001b[0;34m\u001b[0m\u001b[0m\n\u001b[1;32m      2\u001b[0m \u001b[0;32mfor\u001b[0m \u001b[0mi\u001b[0m \u001b[0;32min\u001b[0m \u001b[0mrange\u001b[0m\u001b[0;34m(\u001b[0m\u001b[0;36m1\u001b[0m\u001b[0;34m,\u001b[0m\u001b[0;36m50\u001b[0m\u001b[0;34m)\u001b[0m\u001b[0;34m:\u001b[0m\u001b[0;34m\u001b[0m\u001b[0;34m\u001b[0m\u001b[0m\n\u001b[0;32m----> 3\u001b[0;31m   \u001b[0msvm_model_linear\u001b[0m \u001b[0;34m=\u001b[0m \u001b[0mSVC\u001b[0m\u001b[0;34m(\u001b[0m\u001b[0mkernel\u001b[0m \u001b[0;34m=\u001b[0m \u001b[0;34m'rbf'\u001b[0m\u001b[0;34m,\u001b[0m \u001b[0mC\u001b[0m \u001b[0;34m=\u001b[0m \u001b[0mi\u001b[0m\u001b[0;34m)\u001b[0m\u001b[0;34m.\u001b[0m\u001b[0mfit\u001b[0m\u001b[0;34m(\u001b[0m\u001b[0m_X_Train\u001b[0m\u001b[0;34m,\u001b[0m \u001b[0my1_Train\u001b[0m\u001b[0;34m)\u001b[0m\u001b[0;34m\u001b[0m\u001b[0;34m\u001b[0m\u001b[0m\n\u001b[0m\u001b[1;32m      4\u001b[0m   \u001b[0msvm_predictions\u001b[0m \u001b[0;34m=\u001b[0m \u001b[0msvm_model_linear\u001b[0m\u001b[0;34m.\u001b[0m\u001b[0mpredict\u001b[0m\u001b[0;34m(\u001b[0m\u001b[0m_X_Test\u001b[0m\u001b[0;34m)\u001b[0m\u001b[0;34m\u001b[0m\u001b[0;34m\u001b[0m\u001b[0m\n\u001b[1;32m      5\u001b[0m   \u001b[0msvm_accuracy\u001b[0m \u001b[0;34m=\u001b[0m \u001b[0msvm_model_linear\u001b[0m\u001b[0;34m.\u001b[0m\u001b[0mscore\u001b[0m\u001b[0;34m(\u001b[0m\u001b[0m_X_Test\u001b[0m\u001b[0;34m,\u001b[0m \u001b[0my1_Test\u001b[0m\u001b[0;34m)\u001b[0m\u001b[0;34m\u001b[0m\u001b[0;34m\u001b[0m\u001b[0m\n",
            "\u001b[0;32m/usr/local/lib/python3.7/dist-packages/sklearn/svm/_base.py\u001b[0m in \u001b[0;36mfit\u001b[0;34m(self, X, y, sample_weight)\u001b[0m\n\u001b[1;32m    197\u001b[0m \u001b[0;34m\u001b[0m\u001b[0m\n\u001b[1;32m    198\u001b[0m         \u001b[0mseed\u001b[0m \u001b[0;34m=\u001b[0m \u001b[0mrnd\u001b[0m\u001b[0;34m.\u001b[0m\u001b[0mrandint\u001b[0m\u001b[0;34m(\u001b[0m\u001b[0mnp\u001b[0m\u001b[0;34m.\u001b[0m\u001b[0miinfo\u001b[0m\u001b[0;34m(\u001b[0m\u001b[0;34m'i'\u001b[0m\u001b[0;34m)\u001b[0m\u001b[0;34m.\u001b[0m\u001b[0mmax\u001b[0m\u001b[0;34m)\u001b[0m\u001b[0;34m\u001b[0m\u001b[0;34m\u001b[0m\u001b[0m\n\u001b[0;32m--> 199\u001b[0;31m         \u001b[0mfit\u001b[0m\u001b[0;34m(\u001b[0m\u001b[0mX\u001b[0m\u001b[0;34m,\u001b[0m \u001b[0my\u001b[0m\u001b[0;34m,\u001b[0m \u001b[0msample_weight\u001b[0m\u001b[0;34m,\u001b[0m \u001b[0msolver_type\u001b[0m\u001b[0;34m,\u001b[0m \u001b[0mkernel\u001b[0m\u001b[0;34m,\u001b[0m \u001b[0mrandom_seed\u001b[0m\u001b[0;34m=\u001b[0m\u001b[0mseed\u001b[0m\u001b[0;34m)\u001b[0m\u001b[0;34m\u001b[0m\u001b[0;34m\u001b[0m\u001b[0m\n\u001b[0m\u001b[1;32m    200\u001b[0m         \u001b[0;31m# see comment on the other call to np.iinfo in this file\u001b[0m\u001b[0;34m\u001b[0m\u001b[0;34m\u001b[0m\u001b[0;34m\u001b[0m\u001b[0m\n\u001b[1;32m    201\u001b[0m \u001b[0;34m\u001b[0m\u001b[0m\n",
            "\u001b[0;32m/usr/local/lib/python3.7/dist-packages/sklearn/svm/_base.py\u001b[0m in \u001b[0;36m_dense_fit\u001b[0;34m(self, X, y, sample_weight, solver_type, kernel, random_seed)\u001b[0m\n\u001b[1;32m    256\u001b[0m                 \u001b[0mcache_size\u001b[0m\u001b[0;34m=\u001b[0m\u001b[0mself\u001b[0m\u001b[0;34m.\u001b[0m\u001b[0mcache_size\u001b[0m\u001b[0;34m,\u001b[0m \u001b[0mcoef0\u001b[0m\u001b[0;34m=\u001b[0m\u001b[0mself\u001b[0m\u001b[0;34m.\u001b[0m\u001b[0mcoef0\u001b[0m\u001b[0;34m,\u001b[0m\u001b[0;34m\u001b[0m\u001b[0;34m\u001b[0m\u001b[0m\n\u001b[1;32m    257\u001b[0m                 \u001b[0mgamma\u001b[0m\u001b[0;34m=\u001b[0m\u001b[0mself\u001b[0m\u001b[0;34m.\u001b[0m\u001b[0m_gamma\u001b[0m\u001b[0;34m,\u001b[0m \u001b[0mepsilon\u001b[0m\u001b[0;34m=\u001b[0m\u001b[0mself\u001b[0m\u001b[0;34m.\u001b[0m\u001b[0mepsilon\u001b[0m\u001b[0;34m,\u001b[0m\u001b[0;34m\u001b[0m\u001b[0;34m\u001b[0m\u001b[0m\n\u001b[0;32m--> 258\u001b[0;31m                 max_iter=self.max_iter, random_seed=random_seed)\n\u001b[0m\u001b[1;32m    259\u001b[0m \u001b[0;34m\u001b[0m\u001b[0m\n\u001b[1;32m    260\u001b[0m         \u001b[0mself\u001b[0m\u001b[0;34m.\u001b[0m\u001b[0m_warn_from_fit_status\u001b[0m\u001b[0;34m(\u001b[0m\u001b[0;34m)\u001b[0m\u001b[0;34m\u001b[0m\u001b[0;34m\u001b[0m\u001b[0m\n",
            "\u001b[0;31mKeyboardInterrupt\u001b[0m: "
          ]
        }
      ],
      "source": [
        "accuracy = []\n",
        "for i in range(1,50):\n",
        "  svm_model_linear = SVC(kernel = 'rbf', C = i).fit(_X_Train, y1_Train) \n",
        "  svm_predictions = svm_model_linear.predict(_X_Test) \n",
        "  svm_accuracy = svm_model_linear.score(_X_Test, y1_Test) \n",
        "  accuracy.append(svm_accuracy)\n",
        "plt.plot(np.arange(1,50), accuracy, '-o')"
      ]
    },
    {
      "cell_type": "markdown",
      "metadata": {
        "id": "j9oFXcjUIZp9"
      },
      "source": [
        "### Decision Tree"
      ]
    },
    {
      "cell_type": "code",
      "execution_count": null,
      "metadata": {
        "colab": {
          "base_uri": "https://localhost:8080/"
        },
        "id": "GJKjLQQsUcT8",
        "outputId": "55896950-b091-40a8-a442-6c84e3efd668"
      },
      "outputs": [
        {
          "name": "stdout",
          "output_type": "stream",
          "text": [
            "0.07317614555358887 seconds\n",
            "0.6480232711886817\n"
          ]
        }
      ],
      "source": [
        "start = time.time()\n",
        "dtree_model = DecisionTreeClassifier(max_depth = 5).fit(_X_Train, y1_Train) \n",
        "dtree_predictions = dtree_model.predict(_X_Test)\n",
        "end = time.time()\n",
        "print(end - start, 'seconds') \n",
        "print(dtree_model.score(_X_Test, y1_Test))\n",
        "  \n",
        "# creating a confusion matrix \n",
        "cm = confusion_matrix(y1_Test, dtree_predictions)"
      ]
    },
    {
      "cell_type": "code",
      "execution_count": null,
      "metadata": {
        "id": "5PBEnL1KK-Nw"
      },
      "outputs": [],
      "source": [
        "def relation_graph(max_depth):\n",
        "  dtree_model = DecisionTreeClassifier(max_depth = max_depth).fit(_X_Train, y1_Train) \n",
        "  dtree_predictions = dtree_model.predict(_X_Test)\n",
        "  dtree_accuracy = []\n",
        "  count = 0\n",
        "  for i,c in enumerate(y1_Test):\n",
        "      if c == dtree_predictions[i]:\n",
        "        dtree_accuracy.append(1)\n",
        "        count += 1\n",
        "      else:\n",
        "        dtree_accuracy.append(0)\n",
        "  print('decision_tree_accuracy', count/len(dtree_accuracy))\n",
        "  return (count/len(dtree_accuracy))"
      ]
    },
    {
      "cell_type": "code",
      "execution_count": null,
      "metadata": {
        "colab": {
          "base_uri": "https://localhost:8080/"
        },
        "id": "cqSp43-1Lrzb",
        "outputId": "4741fc93-9806-4919-916c-f3760db56a75"
      },
      "outputs": [
        {
          "data": {
            "text/plain": [
              "(7563, 25)"
            ]
          },
          "execution_count": 47,
          "metadata": {},
          "output_type": "execute_result"
        }
      ],
      "source": [
        "_X_Test.shape"
      ]
    },
    {
      "cell_type": "code",
      "execution_count": null,
      "metadata": {
        "colab": {
          "base_uri": "https://localhost:8080/",
          "height": 1000
        },
        "id": "jirDMOsKLA-1",
        "outputId": "5f9d0f34-6d41-41f5-b5f7-119979125840"
      },
      "outputs": [
        {
          "name": "stdout",
          "output_type": "stream",
          "text": [
            "decision_tree_accuracy 0.0\n",
            "decision_tree_accuracy 0.0\n",
            "decision_tree_accuracy 0.0\n",
            "decision_tree_accuracy 0.0\n",
            "decision_tree_accuracy 0.0\n",
            "decision_tree_accuracy 0.0\n",
            "decision_tree_accuracy 0.0\n",
            "decision_tree_accuracy 0.0\n",
            "decision_tree_accuracy 0.0\n",
            "decision_tree_accuracy 0.0\n",
            "decision_tree_accuracy 0.0\n",
            "decision_tree_accuracy 0.0\n",
            "decision_tree_accuracy 0.0\n",
            "decision_tree_accuracy 0.0\n",
            "decision_tree_accuracy 0.0\n",
            "decision_tree_accuracy 0.0\n",
            "decision_tree_accuracy 0.0\n",
            "decision_tree_accuracy 0.0\n",
            "decision_tree_accuracy 0.0\n",
            "decision_tree_accuracy 0.0\n",
            "decision_tree_accuracy 0.0\n",
            "decision_tree_accuracy 0.0\n",
            "decision_tree_accuracy 0.0\n",
            "decision_tree_accuracy 0.0\n",
            "decision_tree_accuracy 0.0\n",
            "decision_tree_accuracy 0.0\n",
            "decision_tree_accuracy 0.0\n",
            "decision_tree_accuracy 0.0\n",
            "decision_tree_accuracy 0.0\n",
            "decision_tree_accuracy 0.0\n",
            "decision_tree_accuracy 0.0\n",
            "decision_tree_accuracy 0.0\n",
            "decision_tree_accuracy 0.0\n",
            "decision_tree_accuracy 0.0\n",
            "decision_tree_accuracy 0.0\n",
            "decision_tree_accuracy 0.0\n",
            "decision_tree_accuracy 0.0\n",
            "decision_tree_accuracy 0.0\n",
            "decision_tree_accuracy 0.0\n",
            "decision_tree_accuracy 0.0\n",
            "decision_tree_accuracy 0.0\n",
            "decision_tree_accuracy 0.0\n",
            "decision_tree_accuracy 0.0\n",
            "decision_tree_accuracy 0.0\n",
            "decision_tree_accuracy 0.0\n",
            "decision_tree_accuracy 0.0\n",
            "decision_tree_accuracy 0.0\n",
            "decision_tree_accuracy 0.0\n"
          ]
        },
        {
          "data": {
            "text/plain": [
              "[<matplotlib.lines.Line2D at 0x7feb0a9f2f10>]"
            ]
          },
          "execution_count": 48,
          "metadata": {},
          "output_type": "execute_result"
        },
        {
          "data": {
            "image/png": "[encoded data removed]",
            "text/plain": [
              "<Figure size 432x288 with 1 Axes>"
            ]
          },
          "metadata": {},
          "output_type": "display_data"
        }
      ],
      "source": [
        "accuracy= []\n",
        "for i in range(2,50):\n",
        "  a = relation_graph(i)\n",
        "  accuracy.append(a)\n",
        "plt.plot(np.arange(2,50,1), accuracy, '-o')"
      ]
    },
    {
      "cell_type": "code",
      "execution_count": null,
      "metadata": {
        "colab": {
          "base_uri": "https://localhost:8080/"
        },
        "id": "RXX-uCWPMFE2",
        "outputId": "57a49726-4ee7-4554-ed4c-38ed2b247585"
      },
      "outputs": [
        {
          "name": "stderr",
          "output_type": "stream",
          "text": [
            "/usr/local/lib/python3.7/dist-packages/sklearn/utils/validation.py:760: DataConversionWarning: A column-vector y was passed when a 1d array was expected. Please change the shape of y to (n_samples, ), for example using ravel().\n",
            "  y = column_or_1d(y, warn=True)\n"
          ]
        }
      ],
      "source": [
        "# import the class\n",
        "from sklearn.linear_model import LogisticRegression\n",
        "\n",
        "# instantiate the model (using the default parameters)\n",
        "logreg = LogisticRegression()\n",
        "\n",
        "# fit the model with data\n",
        "logreg.fit(_X_Train,y1_Train)\n",
        "\n",
        "#\n",
        "y_pred=logreg.predict(_X_Test)"
      ]
    },
    {
      "cell_type": "code",
      "execution_count": null,
      "metadata": {
        "colab": {
          "base_uri": "https://localhost:8080/"
        },
        "id": "A_vSY1weMFIh",
        "outputId": "4b99b83d-08cf-482b-a7f8-e25f4404ac31"
      },
      "outputs": [
        {
          "name": "stdout",
          "output_type": "stream",
          "text": [
            "Accuracy: 0.6530477323813302\n"
          ]
        }
      ],
      "source": [
        "import sklearn.metrics as metrics\n",
        "# from sklearn.metrics import accuracy_score \n",
        "print(\"Accuracy:\",metrics.accuracy_score(y1_Test, y_pred))"
      ]
    },
    {
      "cell_type": "code",
      "execution_count": null,
      "metadata": {
        "id": "b5VXxvC1MFLz"
      },
      "outputs": [],
      "source": []
    },
    {
      "cell_type": "code",
      "execution_count": null,
      "metadata": {
        "id": "QCcCx4KMMFQA"
      },
      "outputs": [],
      "source": []
    }
  ],
  "metadata": {
    "accelerator": "GPU",
    "colab": {
      "collapsed_sections": [
        "9CY_wDD3m4Gm"
      ],
      "provenance": []
    },
    "kernelspec": {
      "display_name": "Python 3",
      "name": "python3"
    },
    "language_info": {
      "name": "python"
    }
  },
  "nbformat": 4,
  "nbformat_minor": 0
}
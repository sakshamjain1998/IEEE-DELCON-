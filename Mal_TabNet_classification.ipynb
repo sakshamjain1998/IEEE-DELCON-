{
  "cells": [
    {
      "cell_type": "code",
      "execution_count": null,
      "metadata": {
        "colab": {
          "base_uri": "https://localhost:8080/"
        },
        "id": "KWxC_y0rHh4b",
        "outputId": "b3c69761-9281-486d-c4ef-6a247b0f4d5c"
      },
      "outputs": [
        {
          "name": "stdout",
          "output_type": "stream",
          "text": [
            "Requirement already satisfied: pytorch_tabular[all] in /usr/local/lib/python3.7/dist-packages (0.7.0)\n",
            "Requirement already satisfied: tensorboard!=2.5.0,>=2.2.0 in /usr/local/lib/python3.7/dist-packages (from pytorch_tabular[all]) (2.7.0)\n",
            "Requirement already satisfied: numpy>=1.17.2 in /usr/local/lib/python3.7/dist-packages (from pytorch_tabular[all]) (1.19.5)\n",
            "Requirement already satisfied: torch>=1.4 in /usr/local/lib/python3.7/dist-packages (from pytorch_tabular[all]) (1.10.0+cu111)\n",
            "Requirement already satisfied: einops==0.3.0 in /usr/local/lib/python3.7/dist-packages (from pytorch_tabular[all]) (0.3.0)\n",
            "Requirement already satisfied: pandas==1.1.5 in /usr/local/lib/python3.7/dist-packages (from pytorch_tabular[all]) (1.1.5)\n",
            "Requirement already satisfied: scikit-learn>=0.23.2 in /usr/local/lib/python3.7/dist-packages (from pytorch_tabular[all]) (1.0.1)\n",
            "Requirement already satisfied: omegaconf>=2.0.1 in /usr/local/lib/python3.7/dist-packages (from pytorch_tabular[all]) (2.1.1)\n",
            "Requirement already satisfied: PyYAML>=5.1.* in /usr/local/lib/python3.7/dist-packages (from pytorch_tabular[all]) (5.4.1)\n",
            "Requirement already satisfied: torchmetrics>=0.3.2 in /usr/local/lib/python3.7/dist-packages (from pytorch_tabular[all]) (0.6.2)\n",
            "Requirement already satisfied: pytorch-lightning==1.3.6 in /usr/local/lib/python3.7/dist-packages (from pytorch_tabular[all]) (1.3.6)\n",
            "Requirement already satisfied: ipywidgets in /usr/local/lib/python3.7/dist-packages (from pytorch_tabular[all]) (7.6.5)\n",
            "Requirement already satisfied: category-encoders==2.2.2 in /usr/local/lib/python3.7/dist-packages (from pytorch_tabular[all]) (2.2.2)\n",
            "Requirement already satisfied: matplotlib>3.1 in /usr/local/lib/python3.7/dist-packages (from pytorch_tabular[all]) (3.2.2)\n",
            "Requirement already satisfied: pytorch-tabnet==3.0.0 in /usr/local/lib/python3.7/dist-packages (from pytorch_tabular[all]) (3.0.0)\n",
            "Requirement already satisfied: wandb==0.10.11 in /usr/local/lib/python3.7/dist-packages (from pytorch_tabular[all]) (0.10.11)\n",
            "Requirement already satisfied: plotly==4.14.* in /usr/local/lib/python3.7/dist-packages (from pytorch_tabular[all]) (4.14.3)\n",
            "Requirement already satisfied: statsmodels>=0.9.0 in /usr/local/lib/python3.7/dist-packages (from category-encoders==2.2.2->pytorch_tabular[all]) (0.10.2)\n",
            "Requirement already satisfied: scipy>=1.0.0 in /usr/local/lib/python3.7/dist-packages (from category-encoders==2.2.2->pytorch_tabular[all]) (1.4.1)\n",
            "Requirement already satisfied: patsy>=0.5.1 in /usr/local/lib/python3.7/dist-packages (from category-encoders==2.2.2->pytorch_tabular[all]) (0.5.2)\n",
            "Requirement already satisfied: python-dateutil>=2.7.3 in /usr/local/lib/python3.7/dist-packages (from pandas==1.1.5->pytorch_tabular[all]) (2.8.2)\n",
            "Requirement already satisfied: pytz>=2017.2 in /usr/local/lib/python3.7/dist-packages (from pandas==1.1.5->pytorch_tabular[all]) (2018.9)\n",
            "Requirement already satisfied: retrying>=1.3.3 in /usr/local/lib/python3.7/dist-packages (from plotly==4.14.*->pytorch_tabular[all]) (1.3.3)\n",
            "Requirement already satisfied: six in /usr/local/lib/python3.7/dist-packages (from plotly==4.14.*->pytorch_tabular[all]) (1.15.0)\n",
            "Requirement already satisfied: pyDeprecate==0.3.0 in /usr/local/lib/python3.7/dist-packages (from pytorch-lightning==1.3.6->pytorch_tabular[all]) (0.3.0)\n",
            "Requirement already satisfied: packaging in /usr/local/lib/python3.7/dist-packages (from pytorch-lightning==1.3.6->pytorch_tabular[all]) (21.3)\n",
            "Requirement already satisfied: fsspec[http]!=2021.06.0,>=2021.05.0 in /usr/local/lib/python3.7/dist-packages (from pytorch-lightning==1.3.6->pytorch_tabular[all]) (2021.11.1)\n",
            "Requirement already satisfied: tqdm>=4.41.0 in /usr/local/lib/python3.7/dist-packages (from pytorch-lightning==1.3.6->pytorch_tabular[all]) (4.62.3)\n",
            "Requirement already satisfied: future>=0.17.1 in /usr/local/lib/python3.7/dist-packages (from pytorch-lightning==1.3.6->pytorch_tabular[all]) (0.18.2)\n",
            "Requirement already satisfied: Click>=7.0 in /usr/local/lib/python3.7/dist-packages (from wandb==0.10.11->pytorch_tabular[all]) (7.1.2)\n",
            "Requirement already satisfied: configparser>=3.8.1 in /usr/local/lib/python3.7/dist-packages (from wandb==0.10.11->pytorch_tabular[all]) (5.2.0)\n",
            "Requirement already satisfied: requests<3,>=2.0.0 in /usr/local/lib/python3.7/dist-packages (from wandb==0.10.11->pytorch_tabular[all]) (2.23.0)\n",
            "Requirement already satisfied: sentry-sdk>=0.4.0 in /usr/local/lib/python3.7/dist-packages (from wandb==0.10.11->pytorch_tabular[all]) (1.5.1)\n",
            "Requirement already satisfied: protobuf>=3.12.0 in /usr/local/lib/python3.7/dist-packages (from wandb==0.10.11->pytorch_tabular[all]) (3.17.3)\n",
            "Requirement already satisfied: subprocess32>=3.5.3 in /usr/local/lib/python3.7/dist-packages (from wandb==0.10.11->pytorch_tabular[all]) (3.5.4)\n",
            "Requirement already satisfied: psutil>=5.0.0 in /usr/local/lib/python3.7/dist-packages (from wandb==0.10.11->pytorch_tabular[all]) (5.4.8)\n",
            "Requirement already satisfied: GitPython>=1.0.0 in /usr/local/lib/python3.7/dist-packages (from wandb==0.10.11->pytorch_tabular[all]) (3.1.24)\n",
            "Requirement already satisfied: watchdog>=0.8.3 in /usr/local/lib/python3.7/dist-packages (from wandb==0.10.11->pytorch_tabular[all]) (2.1.6)\n",
            "Requirement already satisfied: shortuuid>=0.5.0 in /usr/local/lib/python3.7/dist-packages (from wandb==0.10.11->pytorch_tabular[all]) (1.0.8)\n",
            "Requirement already satisfied: promise<3,>=2.0 in /usr/local/lib/python3.7/dist-packages (from wandb==0.10.11->pytorch_tabular[all]) (2.3)\n",
            "Requirement already satisfied: docker-pycreds>=0.4.0 in /usr/local/lib/python3.7/dist-packages (from wandb==0.10.11->pytorch_tabular[all]) (0.4.0)\n",
            "Requirement already satisfied: aiohttp in /usr/local/lib/python3.7/dist-packages (from fsspec[http]!=2021.06.0,>=2021.05.0->pytorch-lightning==1.3.6->pytorch_tabular[all]) (3.8.1)\n",
            "Requirement already satisfied: typing-extensions>=3.7.4.3 in /usr/local/lib/python3.7/dist-packages (from GitPython>=1.0.0->wandb==0.10.11->pytorch_tabular[all]) (3.10.0.2)\n",
            "Requirement already satisfied: gitdb<5,>=4.0.1 in /usr/local/lib/python3.7/dist-packages (from GitPython>=1.0.0->wandb==0.10.11->pytorch_tabular[all]) (4.0.9)\n",
            "Requirement already satisfied: smmap<6,>=3.0.1 in /usr/local/lib/python3.7/dist-packages (from gitdb<5,>=4.0.1->GitPython>=1.0.0->wandb==0.10.11->pytorch_tabular[all]) (5.0.0)\n",
            "Requirement already satisfied: kiwisolver>=1.0.1 in /usr/local/lib/python3.7/dist-packages (from matplotlib>3.1->pytorch_tabular[all]) (1.3.2)\n",
            "Requirement already satisfied: cycler>=0.10 in /usr/local/lib/python3.7/dist-packages (from matplotlib>3.1->pytorch_tabular[all]) (0.11.0)\n",
            "Requirement already satisfied: pyparsing!=2.0.4,!=2.1.2,!=2.1.6,>=2.0.1 in /usr/local/lib/python3.7/dist-packages (from matplotlib>3.1->pytorch_tabular[all]) (3.0.6)\n",
            "Requirement already satisfied: antlr4-python3-runtime==4.8 in /usr/local/lib/python3.7/dist-packages (from omegaconf>=2.0.1->pytorch_tabular[all]) (4.8)\n",
            "Requirement already satisfied: urllib3!=1.25.0,!=1.25.1,<1.26,>=1.21.1 in /usr/local/lib/python3.7/dist-packages (from requests<3,>=2.0.0->wandb==0.10.11->pytorch_tabular[all]) (1.24.3)\n",
            "Requirement already satisfied: certifi>=2017.4.17 in /usr/local/lib/python3.7/dist-packages (from requests<3,>=2.0.0->wandb==0.10.11->pytorch_tabular[all]) (2021.10.8)\n",
            "Requirement already satisfied: chardet<4,>=3.0.2 in /usr/local/lib/python3.7/dist-packages (from requests<3,>=2.0.0->wandb==0.10.11->pytorch_tabular[all]) (3.0.4)\n",
            "Requirement already satisfied: idna<3,>=2.5 in /usr/local/lib/python3.7/dist-packages (from requests<3,>=2.0.0->wandb==0.10.11->pytorch_tabular[all]) (2.10)\n",
            "Requirement already satisfied: joblib>=0.11 in /usr/local/lib/python3.7/dist-packages (from scikit-learn>=0.23.2->pytorch_tabular[all]) (1.1.0)\n",
            "Requirement already satisfied: threadpoolctl>=2.0.0 in /usr/local/lib/python3.7/dist-packages (from scikit-learn>=0.23.2->pytorch_tabular[all]) (3.0.0)\n",
            "Requirement already satisfied: wheel>=0.26 in /usr/local/lib/python3.7/dist-packages (from tensorboard!=2.5.0,>=2.2.0->pytorch_tabular[all]) (0.37.0)\n",
            "Requirement already satisfied: absl-py>=0.4 in /usr/local/lib/python3.7/dist-packages (from tensorboard!=2.5.0,>=2.2.0->pytorch_tabular[all]) (0.12.0)\n",
            "Requirement already satisfied: google-auth<3,>=1.6.3 in /usr/local/lib/python3.7/dist-packages (from tensorboard!=2.5.0,>=2.2.0->pytorch_tabular[all]) (1.35.0)\n",
            "Requirement already satisfied: markdown>=2.6.8 in /usr/local/lib/python3.7/dist-packages (from tensorboard!=2.5.0,>=2.2.0->pytorch_tabular[all]) (3.3.6)\n",
            "Requirement already satisfied: setuptools>=41.0.0 in /usr/local/lib/python3.7/dist-packages (from tensorboard!=2.5.0,>=2.2.0->pytorch_tabular[all]) (57.4.0)\n",
            "Requirement already satisfied: werkzeug>=0.11.15 in /usr/local/lib/python3.7/dist-packages (from tensorboard!=2.5.0,>=2.2.0->pytorch_tabular[all]) (1.0.1)\n",
            "Requirement already satisfied: google-auth-oauthlib<0.5,>=0.4.1 in /usr/local/lib/python3.7/dist-packages (from tensorboard!=2.5.0,>=2.2.0->pytorch_tabular[all]) (0.4.6)\n",
            "Requirement already satisfied: grpcio>=1.24.3 in /usr/local/lib/python3.7/dist-packages (from tensorboard!=2.5.0,>=2.2.0->pytorch_tabular[all]) (1.42.0)\n",
            "Requirement already satisfied: tensorboard-data-server<0.7.0,>=0.6.0 in /usr/local/lib/python3.7/dist-packages (from tensorboard!=2.5.0,>=2.2.0->pytorch_tabular[all]) (0.6.1)\n",
            "Requirement already satisfied: tensorboard-plugin-wit>=1.6.0 in /usr/local/lib/python3.7/dist-packages (from tensorboard!=2.5.0,>=2.2.0->pytorch_tabular[all]) (1.8.0)\n",
            "Requirement already satisfied: pyasn1-modules>=0.2.1 in /usr/local/lib/python3.7/dist-packages (from google-auth<3,>=1.6.3->tensorboard!=2.5.0,>=2.2.0->pytorch_tabular[all]) (0.2.8)\n",
            "Requirement already satisfied: cachetools<5.0,>=2.0.0 in /usr/local/lib/python3.7/dist-packages (from google-auth<3,>=1.6.3->tensorboard!=2.5.0,>=2.2.0->pytorch_tabular[all]) (4.2.4)\n",
            "Requirement already satisfied: rsa<5,>=3.1.4 in /usr/local/lib/python3.7/dist-packages (from google-auth<3,>=1.6.3->tensorboard!=2.5.0,>=2.2.0->pytorch_tabular[all]) (4.8)\n",
            "Requirement already satisfied: requests-oauthlib>=0.7.0 in /usr/local/lib/python3.7/dist-packages (from google-auth-oauthlib<0.5,>=0.4.1->tensorboard!=2.5.0,>=2.2.0->pytorch_tabular[all]) (1.3.0)\n",
            "Requirement already satisfied: importlib-metadata>=4.4 in /usr/local/lib/python3.7/dist-packages (from markdown>=2.6.8->tensorboard!=2.5.0,>=2.2.0->pytorch_tabular[all]) (4.8.2)\n",
            "Requirement already satisfied: zipp>=0.5 in /usr/local/lib/python3.7/dist-packages (from importlib-metadata>=4.4->markdown>=2.6.8->tensorboard!=2.5.0,>=2.2.0->pytorch_tabular[all]) (3.6.0)\n",
            "Requirement already satisfied: pyasn1<0.5.0,>=0.4.6 in /usr/local/lib/python3.7/dist-packages (from pyasn1-modules>=0.2.1->google-auth<3,>=1.6.3->tensorboard!=2.5.0,>=2.2.0->pytorch_tabular[all]) (0.4.8)\n",
            "Requirement already satisfied: oauthlib>=3.0.0 in /usr/local/lib/python3.7/dist-packages (from requests-oauthlib>=0.7.0->google-auth-oauthlib<0.5,>=0.4.1->tensorboard!=2.5.0,>=2.2.0->pytorch_tabular[all]) (3.1.1)\n",
            "Requirement already satisfied: async-timeout<5.0,>=4.0.0a3 in /usr/local/lib/python3.7/dist-packages (from aiohttp->fsspec[http]!=2021.06.0,>=2021.05.0->pytorch-lightning==1.3.6->pytorch_tabular[all]) (4.0.2)\n",
            "Requirement already satisfied: frozenlist>=1.1.1 in /usr/local/lib/python3.7/dist-packages (from aiohttp->fsspec[http]!=2021.06.0,>=2021.05.0->pytorch-lightning==1.3.6->pytorch_tabular[all]) (1.2.0)\n",
            "Requirement already satisfied: aiosignal>=1.1.2 in /usr/local/lib/python3.7/dist-packages (from aiohttp->fsspec[http]!=2021.06.0,>=2021.05.0->pytorch-lightning==1.3.6->pytorch_tabular[all]) (1.2.0)\n",
            "Requirement already satisfied: yarl<2.0,>=1.0 in /usr/local/lib/python3.7/dist-packages (from aiohttp->fsspec[http]!=2021.06.0,>=2021.05.0->pytorch-lightning==1.3.6->pytorch_tabular[all]) (1.7.2)\n",
            "Requirement already satisfied: multidict<7.0,>=4.5 in /usr/local/lib/python3.7/dist-packages (from aiohttp->fsspec[http]!=2021.06.0,>=2021.05.0->pytorch-lightning==1.3.6->pytorch_tabular[all]) (5.2.0)\n",
            "Requirement already satisfied: attrs>=17.3.0 in /usr/local/lib/python3.7/dist-packages (from aiohttp->fsspec[http]!=2021.06.0,>=2021.05.0->pytorch-lightning==1.3.6->pytorch_tabular[all]) (21.2.0)\n",
            "Requirement already satisfied: charset-normalizer<3.0,>=2.0 in /usr/local/lib/python3.7/dist-packages (from aiohttp->fsspec[http]!=2021.06.0,>=2021.05.0->pytorch-lightning==1.3.6->pytorch_tabular[all]) (2.0.8)\n",
            "Requirement already satisfied: asynctest==0.13.0 in /usr/local/lib/python3.7/dist-packages (from aiohttp->fsspec[http]!=2021.06.0,>=2021.05.0->pytorch-lightning==1.3.6->pytorch_tabular[all]) (0.13.0)\n",
            "Requirement already satisfied: ipython-genutils~=0.2.0 in /usr/local/lib/python3.7/dist-packages (from ipywidgets->pytorch_tabular[all]) (0.2.0)\n",
            "Requirement already satisfied: traitlets>=4.3.1 in /usr/local/lib/python3.7/dist-packages (from ipywidgets->pytorch_tabular[all]) (5.1.1)\n",
            "Requirement already satisfied: ipython>=4.0.0 in /usr/local/lib/python3.7/dist-packages (from ipywidgets->pytorch_tabular[all]) (5.5.0)\n",
            "Requirement already satisfied: jupyterlab-widgets>=1.0.0 in /usr/local/lib/python3.7/dist-packages (from ipywidgets->pytorch_tabular[all]) (1.0.2)\n",
            "Requirement already satisfied: ipykernel>=4.5.1 in /usr/local/lib/python3.7/dist-packages (from ipywidgets->pytorch_tabular[all]) (4.10.1)\n",
            "Requirement already satisfied: nbformat>=4.2.0 in /usr/local/lib/python3.7/dist-packages (from ipywidgets->pytorch_tabular[all]) (5.1.3)\n",
            "Requirement already satisfied: widgetsnbextension~=3.5.0 in /usr/local/lib/python3.7/dist-packages (from ipywidgets->pytorch_tabular[all]) (3.5.2)\n",
            "Requirement already satisfied: tornado>=4.0 in /usr/local/lib/python3.7/dist-packages (from ipykernel>=4.5.1->ipywidgets->pytorch_tabular[all]) (5.1.1)\n",
            "Requirement already satisfied: jupyter-client in /usr/local/lib/python3.7/dist-packages (from ipykernel>=4.5.1->ipywidgets->pytorch_tabular[all]) (5.3.5)\n",
            "Requirement already satisfied: simplegeneric>0.8 in /usr/local/lib/python3.7/dist-packages (from ipython>=4.0.0->ipywidgets->pytorch_tabular[all]) (0.8.1)\n",
            "Requirement already satisfied: decorator in /usr/local/lib/python3.7/dist-packages (from ipython>=4.0.0->ipywidgets->pytorch_tabular[all]) (4.4.2)\n",
            "Requirement already satisfied: pygments in /usr/local/lib/python3.7/dist-packages (from ipython>=4.0.0->ipywidgets->pytorch_tabular[all]) (2.6.1)\n",
            "Requirement already satisfied: pexpect in /usr/local/lib/python3.7/dist-packages (from ipython>=4.0.0->ipywidgets->pytorch_tabular[all]) (4.8.0)\n",
            "Requirement already satisfied: prompt-toolkit<2.0.0,>=1.0.4 in /usr/local/lib/python3.7/dist-packages (from ipython>=4.0.0->ipywidgets->pytorch_tabular[all]) (1.0.18)\n",
            "Requirement already satisfied: pickleshare in /usr/local/lib/python3.7/dist-packages (from ipython>=4.0.0->ipywidgets->pytorch_tabular[all]) (0.7.5)\n",
            "Requirement already satisfied: jupyter-core in /usr/local/lib/python3.7/dist-packages (from nbformat>=4.2.0->ipywidgets->pytorch_tabular[all]) (4.9.1)\n",
            "Requirement already satisfied: jsonschema!=2.5.0,>=2.4 in /usr/local/lib/python3.7/dist-packages (from nbformat>=4.2.0->ipywidgets->pytorch_tabular[all]) (2.6.0)\n",
            "Requirement already satisfied: wcwidth in /usr/local/lib/python3.7/dist-packages (from prompt-toolkit<2.0.0,>=1.0.4->ipython>=4.0.0->ipywidgets->pytorch_tabular[all]) (0.2.5)\n",
            "Requirement already satisfied: notebook>=4.4.1 in /usr/local/lib/python3.7/dist-packages (from widgetsnbextension~=3.5.0->ipywidgets->pytorch_tabular[all]) (5.3.1)\n",
            "Requirement already satisfied: Send2Trash in /usr/local/lib/python3.7/dist-packages (from notebook>=4.4.1->widgetsnbextension~=3.5.0->ipywidgets->pytorch_tabular[all]) (1.8.0)\n",
            "Requirement already satisfied: terminado>=0.8.1 in /usr/local/lib/python3.7/dist-packages (from notebook>=4.4.1->widgetsnbextension~=3.5.0->ipywidgets->pytorch_tabular[all]) (0.12.1)\n",
            "Requirement already satisfied: nbconvert in /usr/local/lib/python3.7/dist-packages (from notebook>=4.4.1->widgetsnbextension~=3.5.0->ipywidgets->pytorch_tabular[all]) (5.6.1)\n",
            "Requirement already satisfied: jinja2 in /usr/local/lib/python3.7/dist-packages (from notebook>=4.4.1->widgetsnbextension~=3.5.0->ipywidgets->pytorch_tabular[all]) (2.11.3)\n",
            "Requirement already satisfied: pyzmq>=13 in /usr/local/lib/python3.7/dist-packages (from jupyter-client->ipykernel>=4.5.1->ipywidgets->pytorch_tabular[all]) (22.3.0)\n",
            "Requirement already satisfied: ptyprocess in /usr/local/lib/python3.7/dist-packages (from terminado>=0.8.1->notebook>=4.4.1->widgetsnbextension~=3.5.0->ipywidgets->pytorch_tabular[all]) (0.7.0)\n",
            "Requirement already satisfied: MarkupSafe>=0.23 in /usr/local/lib/python3.7/dist-packages (from jinja2->notebook>=4.4.1->widgetsnbextension~=3.5.0->ipywidgets->pytorch_tabular[all]) (2.0.1)\n",
            "Requirement already satisfied: mistune<2,>=0.8.1 in /usr/local/lib/python3.7/dist-packages (from nbconvert->notebook>=4.4.1->widgetsnbextension~=3.5.0->ipywidgets->pytorch_tabular[all]) (0.8.4)\n",
            "Requirement already satisfied: bleach in /usr/local/lib/python3.7/dist-packages (from nbconvert->notebook>=4.4.1->widgetsnbextension~=3.5.0->ipywidgets->pytorch_tabular[all]) (4.1.0)\n",
            "Requirement already satisfied: testpath in /usr/local/lib/python3.7/dist-packages (from nbconvert->notebook>=4.4.1->widgetsnbextension~=3.5.0->ipywidgets->pytorch_tabular[all]) (0.5.0)\n",
            "Requirement already satisfied: entrypoints>=0.2.2 in /usr/local/lib/python3.7/dist-packages (from nbconvert->notebook>=4.4.1->widgetsnbextension~=3.5.0->ipywidgets->pytorch_tabular[all]) (0.3)\n",
            "Requirement already satisfied: defusedxml in /usr/local/lib/python3.7/dist-packages (from nbconvert->notebook>=4.4.1->widgetsnbextension~=3.5.0->ipywidgets->pytorch_tabular[all]) (0.7.1)\n",
            "Requirement already satisfied: pandocfilters>=1.4.1 in /usr/local/lib/python3.7/dist-packages (from nbconvert->notebook>=4.4.1->widgetsnbextension~=3.5.0->ipywidgets->pytorch_tabular[all]) (1.5.0)\n",
            "Requirement already satisfied: webencodings in /usr/local/lib/python3.7/dist-packages (from bleach->nbconvert->notebook>=4.4.1->widgetsnbextension~=3.5.0->ipywidgets->pytorch_tabular[all]) (0.5.1)\n"
          ]
        }
      ],
      "source": [
        "! pip install pytorch_tabular[all]"
      ]
    },
    {
      "cell_type": "markdown",
      "metadata": {
        "id": "rIi55u4i3_eu"
      },
      "source": [
        "## Imports"
      ]
    },
    {
      "cell_type": "code",
      "execution_count": null,
      "metadata": {
        "colab": {
          "base_uri": "https://localhost:8080/"
        },
        "id": "ATB_KrDdHYhO",
        "outputId": "54c42300-fc4a-4647-9879-2bbc2675f966"
      },
      "outputs": [
        {
          "name": "stdout",
          "output_type": "stream",
          "text": [
            "The autoreload extension is already loaded. To reload it, use:\n",
            "  %reload_ext autoreload\n"
          ]
        }
      ],
      "source": [
        "from pytorch_tabnet.multitask import TabNetMultiTaskClassifier\n",
        "from pytorch_tabnet.tab_model import TabNetClassifier\n",
        "from pytorch_tabnet.metrics import Metric\n",
        "\n",
        "import torch\n",
        "from sklearn.preprocessing import LabelEncoder\n",
        "from sklearn.metrics import roc_auc_score, log_loss, accuracy_score\n",
        "from tqdm.notebook import tqdm\n",
        "\n",
        "import pandas as pd\n",
        "import numpy as np\n",
        "import os\n",
        "import random\n",
        "np.random.seed(0)\n",
        "\n",
        "\n",
        "import os\n",
        "from pathlib import Path\n",
        "\n",
        "from matplotlib import pyplot as plt\n",
        "%matplotlib inline\n",
        "import seaborn as sns\n",
        "\n",
        "%load_ext autoreload\n",
        "\n",
        "%autoreload 2\n",
        "\n",
        "#Sklearn only for splitting\n",
        "from sklearn.model_selection import KFold"
      ]
    },
    {
      "cell_type": "markdown",
      "metadata": {
        "id": "kZOSqFW54Eug"
      },
      "source": [
        "## Helper Functions"
      ]
    },
    {
      "cell_type": "code",
      "execution_count": null,
      "metadata": {
        "id": "Um88gX6wJv9z"
      },
      "outputs": [],
      "source": [
        "def seed_everything(seed):\n",
        "    random.seed(seed)\n",
        "    os.environ['PYTHONHASHSEED'] = str(seed)\n",
        "    np.random.seed(seed)\n",
        "    torch.manual_seed(seed)\n",
        "    torch.cuda.manual_seed(seed)\n",
        "    torch.backends.cudnn.deterministic = True"
      ]
    },
    {
      "cell_type": "code",
      "execution_count": null,
      "metadata": {
        "id": "qySq6izDEphX"
      },
      "outputs": [],
      "source": [
        "def preprocess_data(train, train_indices):\n",
        "\n",
        "  nunique = train.nunique()\n",
        "  print(nunique)\n",
        "  types = train.dtypes\n",
        "  print(types)\n",
        "\n",
        "  categorical_columns = []\n",
        "  categorical_dims =  {}\n",
        "  for col in train.columns:\n",
        "      if types[col] == 'object' or nunique[col] < 200:\n",
        "          print(col, train[col].nunique())\n",
        "          l_enc = LabelEncoder()\n",
        "          train[col] = train[col].fillna(\"VV_likely\")\n",
        "          train[col] = l_enc.fit_transform(train[col].values)\n",
        "          categorical_columns.append(col)\n",
        "          categorical_dims[col] = len(l_enc.classes_)\n",
        "      else:\n",
        "          train.fillna(train.loc[train_indices, col].mean(), inplace=True)\n",
        "  \n",
        "  return categorical_columns, categorical_dims\n"
      ]
    },
    {
      "cell_type": "code",
      "execution_count": null,
      "metadata": {
        "id": "vE-_Xj76C__L"
      },
      "outputs": [],
      "source": [
        "def split_traindata(train_df):\n",
        "  if \"Set\" not in train_df.columns:\n",
        "    train_df[\"Set\"] = np.random.choice([\"train\", \"valid\", \"test\"], p =[.75, .125, .125], size=(train_df.shape[0],))\n",
        "\n",
        "  train_indices = train_df[train_df.Set==\"train\"].index\n",
        "  valid_indices = train_df[train_df.Set==\"valid\"].index\n",
        "  test_indices = train_df[train_df.Set==\"test\"].index\n",
        "\n",
        "  return train_indices, valid_indices, test_indices"
      ]
    },
    {
      "cell_type": "code",
      "execution_count": null,
      "metadata": {
        "id": "2mrk2uyxFoB6"
      },
      "outputs": [],
      "source": [
        "def cat_features(train, target, categorical_columns, categorical_dims):\n",
        "  unused_feat = ['Set']\n",
        "  features = [ col for col in train.columns if col not in unused_feat+[target]] \n",
        "  cat_idxs = [ i for i, f in enumerate(features) if f in categorical_columns]\n",
        "  cat_dims = [ categorical_dims[f] for i, f in enumerate(features) if f in categorical_columns]\n",
        "  return features, cat_idxs, cat_dims"
      ]
    },
    {
      "cell_type": "code",
      "execution_count": null,
      "metadata": {
        "id": "spba49bkIv7g"
      },
      "outputs": [],
      "source": [
        "def final_data(train, target, features, train_indices, valid_indices, test_indices):\n",
        "  X_train = train[features].values[train_indices]\n",
        "  y_train = train[target].values[train_indices]\n",
        "  X_valid = train[features].values[valid_indices]\n",
        "  y_valid = train[target].values[valid_indices]\n",
        "  X_test = train[features].values[test_indices]\n",
        "  y_test = train[target].values[test_indices]\n",
        "  return X_train, X_valid, X_test, y_train, y_valid, y_test"
      ]
    },
    {
      "cell_type": "code",
      "execution_count": null,
      "metadata": {
        "id": "QhsQazjog8TO"
      },
      "outputs": [],
      "source": [
        "def my_loss_fn(y_pred, y_true):\n",
        "    \"\"\"\n",
        "    Dummy example similar to using default torch.nn.functional.cross_entropy\n",
        "    \"\"\"\n",
        "    softmax_pred = torch.nn.Softmax(dim=-1)(y_pred)\n",
        "    logloss = (1-y_true)*torch.log(softmax_pred[:,0])\n",
        "    logloss += y_true*torch.log(softmax_pred[:,1])\n",
        "    return -torch.mean(logloss)"
      ]
    },
    {
      "cell_type": "code",
      "execution_count": null,
      "metadata": {
        "id": "jQuEwv-PGhM8"
      },
      "outputs": [],
      "source": [
        "def model(max_epochs, batch_size, cat_idxs, cat_dims, train):\n",
        "  clf = TabNetClassifier(cat_idxs = cat_idxs,\n",
        "                       cat_dims = cat_dims,\n",
        "                       cat_emb_dim=1,\n",
        "                       optimizer_fn=torch.optim.Adam, # Any optimizer works here\n",
        "                       optimizer_params=dict(lr=2e-2),\n",
        "                       scheduler_fn=torch.optim.lr_scheduler.OneCycleLR,\n",
        "                       scheduler_params={\"is_batch_level\":True,\n",
        "                                         \"max_lr\":5e-2,\n",
        "                                         \"steps_per_epoch\":int(train.shape[0] / batch_size)+1,\n",
        "                                         \"epochs\":max_epochs\n",
        "                                          },\n",
        "                       mask_type='sparsemax', # \"entmax\",\n",
        "                      )\n",
        "  return clf"
      ]
    },
    {
      "cell_type": "code",
      "execution_count": null,
      "metadata": {
        "id": "O3nLXJOug8cA"
      },
      "outputs": [],
      "source": [
        "def training(X_train, X_valid, y_train, y_valid, train, val, clf):\n",
        "\n",
        "  clf.fit(\n",
        "      X_train=X_train, y_train=y_train,\n",
        "      eval_set=[(X_train, y_train), (X_valid, y_valid)],\n",
        "      eval_name=['train', 'val'],\n",
        "      eval_metric=[\"auc\", 'logloss', 'accuracy'],\n",
        "      max_epochs= max_epochs, patience = 30,\n",
        "      batch_size= batch_size,\n",
        "      virtual_batch_size= 64,\n",
        "      num_workers=0,\n",
        "      weights=1,\n",
        "      drop_last=False,\n",
        "      loss_fn=my_loss_fn\n",
        "  )"
      ]
    },
    {
      "cell_type": "code",
      "execution_count": null,
      "metadata": {
        "id": "fxXy_9Bkg8YL"
      },
      "outputs": [],
      "source": [
        "class my_metric(Metric):\n",
        "    \"\"\"\n",
        "    2xAUC.\n",
        "    \"\"\"\n",
        "\n",
        "    def __init__(self):\n",
        "        self._name = \"custom\" # write an understandable name here\n",
        "        self._maximize = True\n",
        "\n",
        "    def __call__(self, y_true, y_score):\n",
        "        \"\"\"\n",
        "        Compute AUC of predictions.\n",
        "\n",
        "        Parameters\n",
        "        ----------\n",
        "        y_true: np.ndarray\n",
        "            Target matrix or vector\n",
        "        y_score: np.ndarray\n",
        "            Score matrix or vector\n",
        "\n",
        "        Returns\n",
        "        -------\n",
        "            float\n",
        "            AUC of predictions vs targets.\n",
        "        \"\"\"\n",
        "        return 2*roc_auc_score(y_true, y_score[:, 1])"
      ]
    },
    {
      "cell_type": "code",
      "execution_count": null,
      "metadata": {
        "id": "1Ov9---Ng8tH"
      },
      "outputs": [],
      "source": [
        "def test_model(X_test, y_test, X_valid, y_valid, clf):\n",
        "\n",
        "  test_preds_prob = clf.predict_proba(X_test)\n",
        "  test_preds_bin = clf.predict(X_test)\n",
        "  test_auc = roc_auc_score(y_score=test_preds_prob[:,1], y_true=y_test)\n",
        "  test_accuracy = accuracy_score(y_true = y_test, y_pred = test_preds_bin)\n",
        "\n",
        "  valid_preds_prob = clf.predict_proba(X_valid)\n",
        "  valid_preds_bin = clf.predict(X_valid)\n",
        "  # valid_auc = roc_auc_score(y_score=valid_preds_prob[:,1], y_true=y_test)\n",
        "  # valid_accuracy = accuracy_score(y_true = y_test, y_pred = valid_preds_bin)\n",
        "\n",
        "\n",
        "  print(f\"FINAL VALID AUC_SCORE: {clf.history['val_auc'][-1]}\")\n",
        "  print(f\"FINAL VALID ACCURACY_SCORE: {clf.history['val_accuracy'][-1]}\")\n",
        "  print(f\"FINAL TEST ACCURACY_SCORE: {test_accuracy}\")\n",
        "  print(f\"FINAL TEST AUC_SCORE: {test_auc}\")\n",
        "  # print(f\"FINAL valid ACCURACY_SCORE: {valid_accuracy}\")\n",
        "  # print(f\"FINAL valid AUC_SCORE: {valid_auc}\")\n",
        "  \n"
      ]
    },
    {
      "cell_type": "markdown",
      "metadata": {
        "id": "lP7OWWhq4MFB"
      },
      "source": [
        "## Load & Preprocess"
      ]
    },
    {
      "cell_type": "code",
      "execution_count": null,
      "metadata": {
        "id": "22dSnNzhZkbP"
      },
      "outputs": [],
      "source": [
        "max_epochs = 500\n",
        "batch_size = 2048"
      ]
    },
    {
      "cell_type": "code",
      "execution_count": null,
      "metadata": {
        "id": "X4cD7VTnJv5b"
      },
      "outputs": [],
      "source": [
        "NUM_FOLDS = 7  # you can specify your folds here\n",
        "seed = 2020"
      ]
    },
    {
      "cell_type": "code",
      "execution_count": null,
      "metadata": {
        "id": "1Ix-grErJwBf"
      },
      "outputs": [],
      "source": [
        "seed_everything(seed)"
      ]
    },
    {
      "cell_type": "markdown",
      "metadata": {
        "id": "J8JUYi0fi68b"
      },
      "source": [
        "## 5-6"
      ]
    },
    {
      "cell_type": "markdown",
      "metadata": {
        "id": "8xLM1O_kYqkg"
      },
      "source": [
        "### Data"
      ]
    },
    {
      "cell_type": "code",
      "execution_count": null,
      "metadata": {
        "id": "mdNxDuGRYs2O"
      },
      "outputs": [],
      "source": [
        "df1 = pd.read_csv('5-6_Balanced_Stunting.csv')\n",
        "df2 = pd.read_csv('5-6_Balanced_Wasting.csv')\n",
        "df3 = pd.read_csv('5-6_Balanced_Stunted_Wasting.csv')"
      ]
    },
    {
      "cell_type": "code",
      "execution_count": null,
      "metadata": {
        "id": "rjVNQFq6pC5P"
      },
      "outputs": [],
      "source": [
        "df1 = df1.drop(['Unnamed: 0'], axis =1)\n",
        "df2 = df2.drop(['Unnamed: 0'], axis = 1)\n",
        "df3 = df3.drop(['Unnamed: 0'], axis =1)"
      ]
    },
    {
      "cell_type": "code",
      "execution_count": null,
      "metadata": {
        "id": "VWkFU-GWDfCX"
      },
      "outputs": [],
      "source": [
        "train1_indices, valid1_indices, test1_indices = split_traindata(df1)\n",
        "train2_indices, valid2_indices, test2_indices = split_traindata(df2)\n",
        "train3_indices, valid3_indices, test3_indices = split_traindata(df3)\n",
        "# train4_indices, valid4_indices, test4_indices = split_traindata(train4)"
      ]
    },
    {
      "cell_type": "code",
      "execution_count": null,
      "metadata": {
        "colab": {
          "base_uri": "https://localhost:8080/"
        },
        "id": "HOVbFAThFO-P",
        "outputId": "92fadd9b-5438-415e-e790-c242efa85f3b"
      },
      "outputs": [
        {
          "name": "stdout",
          "output_type": "stream",
          "text": [
            "state                                  6\n",
            "area                                   2\n",
            "religion                               5\n",
            "caste                                  4\n",
            "type of family                         3\n",
            "father's education                     4\n",
            "father's occupation                    7\n",
            "mother's education                     4\n",
            "mother's occupation                    7\n",
            "total family members                  32\n",
            "exposure to mass media                 2\n",
            "Source of drinking water               2\n",
            "Toilet Facility                        2\n",
            "mother's age                           4\n",
            "mother's bmi                           3\n",
            "child's age                            7\n",
            "sex of child                           2\n",
            "birth weight                           3\n",
            "initiation of bf(early initiation)     2\n",
            "wealth index                           5\n",
            "months of bf                           2\n",
            "history of illness                     2\n",
            "immunization                           3\n",
            "index to birth history                 5\n",
            "no of living children                 13\n",
            "sex of household head                  2\n",
            "dietary score                          2\n",
            "H/A                                    2\n",
            "Set                                    3\n",
            "dtype: int64\n",
            "state                                  int64\n",
            "area                                   int64\n",
            "religion                               int64\n",
            "caste                                  int64\n",
            "type of family                         int64\n",
            "father's education                     int64\n",
            "father's occupation                    int64\n",
            "mother's education                     int64\n",
            "mother's occupation                    int64\n",
            "total family members                   int64\n",
            "exposure to mass media                 int64\n",
            "Source of drinking water               int64\n",
            "Toilet Facility                        int64\n",
            "mother's age                           int64\n",
            "mother's bmi                           int64\n",
            "child's age                            int64\n",
            "sex of child                           int64\n",
            "birth weight                           int64\n",
            "initiation of bf(early initiation)     int64\n",
            "wealth index                           int64\n",
            "months of bf                           int64\n",
            "history of illness                     int64\n",
            "immunization                           int64\n",
            "index to birth history                 int64\n",
            "no of living children                  int64\n",
            "sex of household head                  int64\n",
            "dietary score                          int64\n",
            "H/A                                    int64\n",
            "Set                                   object\n",
            "dtype: object\n",
            "state 6\n",
            "area 2\n",
            "religion 5\n",
            "caste 4\n",
            "type of family 3\n",
            "father's education 4\n",
            "father's occupation 7\n",
            "mother's education 4\n",
            "mother's occupation 7\n",
            "total family members 32\n",
            "exposure to mass media 2\n",
            "Source of drinking water 2\n",
            "Toilet Facility 2\n",
            "mother's age 4\n",
            "mother's bmi 3\n",
            "child's age 7\n",
            "sex of child 2\n",
            "birth weight 3\n",
            "initiation of bf(early initiation) 2\n",
            "wealth index 5\n",
            "months of bf 2\n",
            "history of illness 2\n",
            "immunization 3\n",
            "index to birth history 5\n",
            "no of living children 13\n",
            "sex of household head 2\n",
            "dietary score 2\n",
            "H/A 2\n",
            "Set 3\n",
            "state                                  6\n",
            "area                                   2\n",
            "religion                               5\n",
            "caste                                  4\n",
            "type of family                         3\n",
            "father's education                     4\n",
            "father's occupation                    7\n",
            "mother's education                     4\n",
            "mother's occupation                    7\n",
            "total family members                  32\n",
            "exposure to mass media                 2\n",
            "Source of drinking water               2\n",
            "Toilet Facility                        2\n",
            "mother's age                           4\n",
            "mother's bmi                           3\n",
            "child's age                            7\n",
            "sex of child                           2\n",
            "birth weight                           3\n",
            "initiation of bf(early initiation)     2\n",
            "wealth index                           5\n",
            "months of bf                           2\n",
            "history of illness                     2\n",
            "immunization                           3\n",
            "index to birth history                 5\n",
            "no of living children                 13\n",
            "sex of household head                  2\n",
            "dietary score                          2\n",
            "W/H                                    2\n",
            "Set                                    3\n",
            "dtype: int64\n",
            "state                                  int64\n",
            "area                                   int64\n",
            "religion                               int64\n",
            "caste                                  int64\n",
            "type of family                         int64\n",
            "father's education                     int64\n",
            "father's occupation                    int64\n",
            "mother's education                     int64\n",
            "mother's occupation                    int64\n",
            "total family members                   int64\n",
            "exposure to mass media                 int64\n",
            "Source of drinking water               int64\n",
            "Toilet Facility                        int64\n",
            "mother's age                           int64\n",
            "mother's bmi                           int64\n",
            "child's age                            int64\n",
            "sex of child                           int64\n",
            "birth weight                           int64\n",
            "initiation of bf(early initiation)     int64\n",
            "wealth index                           int64\n",
            "months of bf                           int64\n",
            "history of illness                     int64\n",
            "immunization                           int64\n",
            "index to birth history                 int64\n",
            "no of living children                  int64\n",
            "sex of household head                  int64\n",
            "dietary score                          int64\n",
            "W/H                                    int64\n",
            "Set                                   object\n",
            "dtype: object\n",
            "state 6\n",
            "area 2\n",
            "religion 5\n",
            "caste 4\n",
            "type of family 3\n",
            "father's education 4\n",
            "father's occupation 7\n",
            "mother's education 4\n",
            "mother's occupation 7\n",
            "total family members 32\n",
            "exposure to mass media 2\n",
            "Source of drinking water 2\n",
            "Toilet Facility 2\n",
            "mother's age 4\n",
            "mother's bmi 3\n",
            "child's age 7\n",
            "sex of child 2\n",
            "birth weight 3\n",
            "initiation of bf(early initiation) 2\n",
            "wealth index 5\n",
            "months of bf 2\n",
            "history of illness 2\n",
            "immunization 3\n",
            "index to birth history 5\n",
            "no of living children 13\n",
            "sex of household head 2\n",
            "dietary score 2\n",
            "W/H 2\n",
            "Set 3\n",
            "state                                  6\n",
            "area                                   2\n",
            "religion                               5\n",
            "caste                                  4\n",
            "type of family                         3\n",
            "father's education                     4\n",
            "father's occupation                    7\n",
            "mother's education                     4\n",
            "mother's occupation                    7\n",
            "total family members                  32\n",
            "exposure to mass media                 2\n",
            "Source of drinking water               2\n",
            "Toilet Facility                        2\n",
            "mother's age                           4\n",
            "mother's bmi                           3\n",
            "child's age                            7\n",
            "sex of child                           2\n",
            "birth weight                           3\n",
            "initiation of bf(early initiation)     2\n",
            "wealth index                           5\n",
            "months of bf                           2\n",
            "history of illness                     2\n",
            "immunization                           3\n",
            "index to birth history                 5\n",
            "no of living children                 13\n",
            "sex of household head                  2\n",
            "dietary score                          2\n",
            "HAWH                                   2\n",
            "Set                                    3\n",
            "dtype: int64\n",
            "state                                  int64\n",
            "area                                   int64\n",
            "religion                               int64\n",
            "caste                                  int64\n",
            "type of family                         int64\n",
            "father's education                     int64\n",
            "father's occupation                    int64\n",
            "mother's education                     int64\n",
            "mother's occupation                    int64\n",
            "total family members                   int64\n",
            "exposure to mass media                 int64\n",
            "Source of drinking water               int64\n",
            "Toilet Facility                        int64\n",
            "mother's age                           int64\n",
            "mother's bmi                           int64\n",
            "child's age                            int64\n",
            "sex of child                           int64\n",
            "birth weight                           int64\n",
            "initiation of bf(early initiation)     int64\n",
            "wealth index                           int64\n",
            "months of bf                           int64\n",
            "history of illness                     int64\n",
            "immunization                           int64\n",
            "index to birth history                 int64\n",
            "no of living children                  int64\n",
            "sex of household head                  int64\n",
            "dietary score                          int64\n",
            "HAWH                                   int64\n",
            "Set                                   object\n",
            "dtype: object\n",
            "state 6\n",
            "area 2\n",
            "religion 5\n",
            "caste 4\n",
            "type of family 3\n",
            "father's education 4\n",
            "father's occupation 7\n",
            "mother's education 4\n",
            "mother's occupation 7\n",
            "total family members 32\n",
            "exposure to mass media 2\n",
            "Source of drinking water 2\n",
            "Toilet Facility 2\n",
            "mother's age 4\n",
            "mother's bmi 3\n",
            "child's age 7\n",
            "sex of child 2\n",
            "birth weight 3\n",
            "initiation of bf(early initiation) 2\n",
            "wealth index 5\n",
            "months of bf 2\n",
            "history of illness 2\n",
            "immunization 3\n",
            "index to birth history 5\n",
            "no of living children 13\n",
            "sex of household head 2\n",
            "dietary score 2\n",
            "HAWH 2\n",
            "Set 3\n"
          ]
        }
      ],
      "source": [
        "categorical_columns1, categorical_dims1 = preprocess_data(df1, train1_indices)\n",
        "categorical_columns2, categorical_dims2 = preprocess_data(df2, train2_indices)\n",
        "categorical_columns3, categorical_dims3 = preprocess_data(df3, train3_indices)"
      ]
    },
    {
      "cell_type": "code",
      "execution_count": null,
      "metadata": {
        "id": "U6l-JE2YF-Sg"
      },
      "outputs": [],
      "source": [
        "features1, cat_idxs1, cat_dims1 = cat_features(df1, 'H/A', categorical_columns1, categorical_dims1)\n",
        "features2, cat_idxs2, cat_dims2 = cat_features(df2, 'W/H', categorical_columns2, categorical_dims2)\n",
        "features3, cat_idxs3, cat_dims3 = cat_features(df3, 'HAWH', categorical_columns3, categorical_dims3)"
      ]
    },
    {
      "cell_type": "code",
      "execution_count": null,
      "metadata": {
        "colab": {
          "base_uri": "https://localhost:8080/"
        },
        "id": "YZJUCRMsHAQ-",
        "outputId": "e8c1ab6d-e2e8-45d0-8662-5a63ac56423f"
      },
      "outputs": [
        {
          "name": "stdout",
          "output_type": "stream",
          "text": [
            "Device used : cuda\n",
            "Device used : cuda\n",
            "Device used : cuda\n"
          ]
        }
      ],
      "source": [
        "clf1 = model(500, 1024, cat_idxs1, cat_dims1, df1)\n",
        "clf2 = model(500, 1024, cat_idxs2, cat_dims2, df2)\n",
        "clf3 = model(500, 1024, cat_idxs3, cat_dims3, df3)"
      ]
    },
    {
      "cell_type": "code",
      "execution_count": null,
      "metadata": {
        "id": "scxcc9LDJEkx"
      },
      "outputs": [],
      "source": [
        "X_train1, X_valid1, X_test1, y_train1, y_valid1, y_test1 = final_data(df1, 'H/A', features1, train1_indices, valid1_indices, test1_indices)\n",
        "X_train2, X_valid2, X_test2, y_train2, y_valid2, y_test2 = final_data(df2, 'W/H', features2, train2_indices, valid2_indices, test2_indices)\n",
        "X_train3, X_valid3, X_test3, y_train3, y_valid3, y_test3 = final_data(df3, 'HAWH', features3, train3_indices, valid3_indices, test3_indices)"
      ]
    },
    {
      "cell_type": "markdown",
      "metadata": {
        "id": "pf5pSc9l4Q9o"
      },
      "source": [
        "###  H/A"
      ]
    },
    {
      "cell_type": "code",
      "execution_count": null,
      "metadata": {
        "colab": {
          "base_uri": "https://localhost:8080/"
        },
        "id": "zpi20zU4MJmd",
        "outputId": "5c5548a9-a015-449b-c2d1-96b2ee451049"
      },
      "outputs": [
        {
          "name": "stdout",
          "output_type": "stream",
          "text": [
            "epoch 0  | loss: 0.7288  | train_auc: 0.51516 | train_logloss: 0.71122 | train_accuracy: 0.52162 | val_auc: 0.51582 | val_logloss: 0.71369 | val_accuracy: 0.51954 |  0:00:03s\n",
            "epoch 1  | loss: 0.70698 | train_auc: 0.52403 | train_logloss: 0.69381 | train_accuracy: 0.52578 | val_auc: 0.5187  | val_logloss: 0.69611 | val_accuracy: 0.52326 |  0:00:07s\n",
            "epoch 2  | loss: 0.69601 | train_auc: 0.53512 | train_logloss: 0.69254 | train_accuracy: 0.5238  | val_auc: 0.53203 | val_logloss: 0.69395 | val_accuracy: 0.52346 |  0:00:10s\n",
            "epoch 3  | loss: 0.69178 | train_auc: 0.54453 | train_logloss: 0.69227 | train_accuracy: 0.52657 | val_auc: 0.53751 | val_logloss: 0.69427 | val_accuracy: 0.51974 |  0:00:13s\n",
            "epoch 4  | loss: 0.69108 | train_auc: 0.55064 | train_logloss: 0.69164 | train_accuracy: 0.52408 | val_auc: 0.55011 | val_logloss: 0.69294 | val_accuracy: 0.52471 |  0:00:17s\n",
            "epoch 5  | loss: 0.6863  | train_auc: 0.56005 | train_logloss: 0.69078 | train_accuracy: 0.52813 | val_auc: 0.56371 | val_logloss: 0.69143 | val_accuracy: 0.53711 |  0:00:20s\n",
            "epoch 6  | loss: 0.68637 | train_auc: 0.56454 | train_logloss: 0.69059 | train_accuracy: 0.52691 | val_auc: 0.56731 | val_logloss: 0.69137 | val_accuracy: 0.53235 |  0:00:23s\n",
            "epoch 7  | loss: 0.68586 | train_auc: 0.57232 | train_logloss: 0.68888 | train_accuracy: 0.53522 | val_auc: 0.57377 | val_logloss: 0.68961 | val_accuracy: 0.5336  |  0:00:26s\n",
            "epoch 8  | loss: 0.68174 | train_auc: 0.58351 | train_logloss: 0.68822 | train_accuracy: 0.53856 | val_auc: 0.57637 | val_logloss: 0.6902  | val_accuracy: 0.53339 |  0:00:30s\n",
            "epoch 9  | loss: 0.68232 | train_auc: 0.58934 | train_logloss: 0.68627 | train_accuracy: 0.54616 | val_auc: 0.58056 | val_logloss: 0.68833 | val_accuracy: 0.54228 |  0:00:33s\n",
            "epoch 10 | loss: 0.6795  | train_auc: 0.59669 | train_logloss: 0.68384 | train_accuracy: 0.55748 | val_auc: 0.59221 | val_logloss: 0.68569 | val_accuracy: 0.55923 |  0:00:36s\n",
            "epoch 11 | loss: 0.67822 | train_auc: 0.60193 | train_logloss: 0.68297 | train_accuracy: 0.56092 | val_auc: 0.60091 | val_logloss: 0.68465 | val_accuracy: 0.55985 |  0:00:40s\n",
            "epoch 12 | loss: 0.67785 | train_auc: 0.6057  | train_logloss: 0.68126 | train_accuracy: 0.56552 | val_auc: 0.59792 | val_logloss: 0.68457 | val_accuracy: 0.55861 |  0:00:43s\n",
            "epoch 13 | loss: 0.67897 | train_auc: 0.6082  | train_logloss: 0.67953 | train_accuracy: 0.56841 | val_auc: 0.59738 | val_logloss: 0.68339 | val_accuracy: 0.56337 |  0:00:49s\n",
            "epoch 14 | loss: 0.67572 | train_auc: 0.61172 | train_logloss: 0.67966 | train_accuracy: 0.56865 | val_auc: 0.60337 | val_logloss: 0.68315 | val_accuracy: 0.56791 |  0:00:52s\n",
            "epoch 15 | loss: 0.67525 | train_auc: 0.61369 | train_logloss: 0.67881 | train_accuracy: 0.5721  | val_auc: 0.60305 | val_logloss: 0.68292 | val_accuracy: 0.56977 |  0:00:55s\n",
            "epoch 16 | loss: 0.67498 | train_auc: 0.61733 | train_logloss: 0.67498 | train_accuracy: 0.57976 | val_auc: 0.60464 | val_logloss: 0.67956 | val_accuracy: 0.57618 |  0:00:59s\n",
            "epoch 17 | loss: 0.67457 | train_auc: 0.62006 | train_logloss: 0.67339 | train_accuracy: 0.58239 | val_auc: 0.60642 | val_logloss: 0.67841 | val_accuracy: 0.57887 |  0:01:02s\n",
            "epoch 18 | loss: 0.67368 | train_auc: 0.6208  | train_logloss: 0.67423 | train_accuracy: 0.58106 | val_auc: 0.60806 | val_logloss: 0.67906 | val_accuracy: 0.57598 |  0:01:05s\n",
            "epoch 19 | loss: 0.67245 | train_auc: 0.62309 | train_logloss: 0.67379 | train_accuracy: 0.58188 | val_auc: 0.6124  | val_logloss: 0.67772 | val_accuracy: 0.57825 |  0:01:08s\n",
            "epoch 20 | loss: 0.67274 | train_auc: 0.62373 | train_logloss: 0.67249 | train_accuracy: 0.58327 | val_auc: 0.61004 | val_logloss: 0.67716 | val_accuracy: 0.57763 |  0:01:12s\n",
            "epoch 21 | loss: 0.67224 | train_auc: 0.62579 | train_logloss: 0.67042 | train_accuracy: 0.58736 | val_auc: 0.61411 | val_logloss: 0.6744  | val_accuracy: 0.5799  |  0:01:16s\n",
            "epoch 22 | loss: 0.67155 | train_auc: 0.62692 | train_logloss: 0.67017 | train_accuracy: 0.58743 | val_auc: 0.61667 | val_logloss: 0.67364 | val_accuracy: 0.57928 |  0:01:22s\n",
            "epoch 23 | loss: 0.67035 | train_auc: 0.62773 | train_logloss: 0.67011 | train_accuracy: 0.58866 | val_auc: 0.6168  | val_logloss: 0.67401 | val_accuracy: 0.57825 |  0:01:30s\n",
            "epoch 24 | loss: 0.67061 | train_auc: 0.62934 | train_logloss: 0.66905 | train_accuracy: 0.58948 | val_auc: 0.62141 | val_logloss: 0.67207 | val_accuracy: 0.58135 |  0:01:34s\n",
            "epoch 25 | loss: 0.668   | train_auc: 0.63081 | train_logloss: 0.66786 | train_accuracy: 0.59053 | val_auc: 0.62283 | val_logloss: 0.67113 | val_accuracy: 0.58115 |  0:01:37s\n",
            "epoch 26 | loss: 0.66793 | train_auc: 0.63248 | train_logloss: 0.66682 | train_accuracy: 0.59118 | val_auc: 0.62235 | val_logloss: 0.67068 | val_accuracy: 0.58404 |  0:01:40s\n",
            "epoch 27 | loss: 0.66979 | train_auc: 0.63455 | train_logloss: 0.6661  | train_accuracy: 0.59145 | val_auc: 0.62611 | val_logloss: 0.66908 | val_accuracy: 0.58776 |  0:01:44s\n",
            "epoch 28 | loss: 0.66798 | train_auc: 0.6356  | train_logloss: 0.66682 | train_accuracy: 0.59213 | val_auc: 0.6302  | val_logloss: 0.66889 | val_accuracy: 0.58879 |  0:01:47s\n",
            "epoch 29 | loss: 0.66572 | train_auc: 0.63656 | train_logloss: 0.66531 | train_accuracy: 0.59384 | val_auc: 0.62872 | val_logloss: 0.66833 | val_accuracy: 0.59107 |  0:01:50s\n",
            "epoch 30 | loss: 0.66629 | train_auc: 0.63675 | train_logloss: 0.66337 | train_accuracy: 0.59496 | val_auc: 0.62852 | val_logloss: 0.6672  | val_accuracy: 0.58962 |  0:01:54s\n",
            "epoch 31 | loss: 0.66507 | train_auc: 0.63863 | train_logloss: 0.66577 | train_accuracy: 0.59322 | val_auc: 0.63039 | val_logloss: 0.66998 | val_accuracy: 0.5828  |  0:01:57s\n",
            "epoch 32 | loss: 0.66578 | train_auc: 0.64031 | train_logloss: 0.66308 | train_accuracy: 0.59653 | val_auc: 0.63238 | val_logloss: 0.66746 | val_accuracy: 0.58838 |  0:02:00s\n",
            "epoch 33 | loss: 0.66622 | train_auc: 0.64156 | train_logloss: 0.66301 | train_accuracy: 0.59554 | val_auc: 0.63463 | val_logloss: 0.6669  | val_accuracy: 0.58859 |  0:02:04s\n",
            "epoch 34 | loss: 0.66499 | train_auc: 0.6432  | train_logloss: 0.66298 | train_accuracy: 0.59714 | val_auc: 0.63642 | val_logloss: 0.66723 | val_accuracy: 0.58859 |  0:02:07s\n",
            "epoch 35 | loss: 0.66352 | train_auc: 0.64509 | train_logloss: 0.65978 | train_accuracy: 0.6013  | val_auc: 0.63614 | val_logloss: 0.66543 | val_accuracy: 0.59066 |  0:02:10s\n",
            "epoch 36 | loss: 0.6632  | train_auc: 0.64612 | train_logloss: 0.66124 | train_accuracy: 0.60014 | val_auc: 0.63716 | val_logloss: 0.66671 | val_accuracy: 0.59066 |  0:02:13s\n",
            "epoch 37 | loss: 0.66257 | train_auc: 0.64802 | train_logloss: 0.65941 | train_accuracy: 0.60089 | val_auc: 0.6404  | val_logloss: 0.66484 | val_accuracy: 0.59107 |  0:02:17s\n",
            "epoch 38 | loss: 0.66042 | train_auc: 0.64989 | train_logloss: 0.65978 | train_accuracy: 0.60168 | val_auc: 0.64335 | val_logloss: 0.66493 | val_accuracy: 0.59252 |  0:02:20s\n",
            "epoch 39 | loss: 0.66079 | train_auc: 0.65364 | train_logloss: 0.65704 | train_accuracy: 0.60713 | val_auc: 0.64514 | val_logloss: 0.66401 | val_accuracy: 0.59789 |  0:02:23s\n",
            "epoch 40 | loss: 0.65747 | train_auc: 0.65601 | train_logloss: 0.65511 | train_accuracy: 0.61095 | val_auc: 0.64807 | val_logloss: 0.66177 | val_accuracy: 0.60017 |  0:02:27s\n",
            "epoch 41 | loss: 0.65631 | train_auc: 0.66009 | train_logloss: 0.65519 | train_accuracy: 0.61125 | val_auc: 0.6525  | val_logloss: 0.66102 | val_accuracy: 0.60223 |  0:02:30s\n",
            "epoch 42 | loss: 0.65752 | train_auc: 0.66394 | train_logloss: 0.65223 | train_accuracy: 0.61657 | val_auc: 0.65527 | val_logloss: 0.65822 | val_accuracy: 0.60968 |  0:02:33s\n",
            "epoch 43 | loss: 0.65629 | train_auc: 0.66701 | train_logloss: 0.65151 | train_accuracy: 0.61868 | val_auc: 0.65831 | val_logloss: 0.65722 | val_accuracy: 0.6136  |  0:02:36s\n",
            "epoch 44 | loss: 0.65439 | train_auc: 0.66988 | train_logloss: 0.64759 | train_accuracy: 0.6239  | val_auc: 0.65913 | val_logloss: 0.65505 | val_accuracy: 0.61795 |  0:02:40s\n",
            "epoch 45 | loss: 0.65118 | train_auc: 0.67238 | train_logloss: 0.64731 | train_accuracy: 0.62635 | val_auc: 0.66025 | val_logloss: 0.65573 | val_accuracy: 0.62311 |  0:02:43s\n",
            "epoch 46 | loss: 0.65158 | train_auc: 0.67402 | train_logloss: 0.64887 | train_accuracy: 0.62581 | val_auc: 0.66302 | val_logloss: 0.65619 | val_accuracy: 0.62249 |  0:02:46s\n",
            "epoch 47 | loss: 0.64939 | train_auc: 0.67608 | train_logloss: 0.64441 | train_accuracy: 0.62911 | val_auc: 0.6688  | val_logloss: 0.64988 | val_accuracy: 0.63242 |  0:02:50s\n",
            "epoch 48 | loss: 0.64715 | train_auc: 0.67624 | train_logloss: 0.64666 | train_accuracy: 0.62737 | val_auc: 0.67171 | val_logloss: 0.65035 | val_accuracy: 0.63262 |  0:02:53s\n",
            "epoch 49 | loss: 0.64947 | train_auc: 0.67703 | train_logloss: 0.64497 | train_accuracy: 0.63061 | val_auc: 0.67193 | val_logloss: 0.64885 | val_accuracy: 0.63014 |  0:02:56s\n",
            "epoch 50 | loss: 0.64771 | train_auc: 0.67783 | train_logloss: 0.64724 | train_accuracy: 0.62877 | val_auc: 0.67239 | val_logloss: 0.65112 | val_accuracy: 0.6289  |  0:03:00s\n",
            "epoch 51 | loss: 0.64888 | train_auc: 0.67924 | train_logloss: 0.64263 | train_accuracy: 0.63354 | val_auc: 0.673   | val_logloss: 0.64688 | val_accuracy: 0.62973 |  0:03:03s\n",
            "epoch 52 | loss: 0.6465  | train_auc: 0.67956 | train_logloss: 0.64351 | train_accuracy: 0.63272 | val_auc: 0.6756  | val_logloss: 0.64686 | val_accuracy: 0.63283 |  0:03:06s\n",
            "epoch 53 | loss: 0.64688 | train_auc: 0.6805  | train_logloss: 0.64352 | train_accuracy: 0.63371 | val_auc: 0.6786  | val_logloss: 0.64579 | val_accuracy: 0.632   |  0:03:10s\n",
            "epoch 54 | loss: 0.64527 | train_auc: 0.68151 | train_logloss: 0.64198 | train_accuracy: 0.63388 | val_auc: 0.67718 | val_logloss: 0.64557 | val_accuracy: 0.63262 |  0:03:13s\n",
            "epoch 55 | loss: 0.6452  | train_auc: 0.68287 | train_logloss: 0.64206 | train_accuracy: 0.63705 | val_auc: 0.67791 | val_logloss: 0.64556 | val_accuracy: 0.62973 |  0:03:17s\n",
            "epoch 56 | loss: 0.6455  | train_auc: 0.68403 | train_logloss: 0.64029 | train_accuracy: 0.63736 | val_auc: 0.67896 | val_logloss: 0.64458 | val_accuracy: 0.63097 |  0:03:20s\n",
            "epoch 57 | loss: 0.64799 | train_auc: 0.68533 | train_logloss: 0.63956 | train_accuracy: 0.63831 | val_auc: 0.67923 | val_logloss: 0.64467 | val_accuracy: 0.63242 |  0:03:23s\n",
            "epoch 58 | loss: 0.64268 | train_auc: 0.68626 | train_logloss: 0.64076 | train_accuracy: 0.63644 | val_auc: 0.67935 | val_logloss: 0.64609 | val_accuracy: 0.63448 |  0:03:27s\n",
            "epoch 59 | loss: 0.6427  | train_auc: 0.68664 | train_logloss: 0.64057 | train_accuracy: 0.63347 | val_auc: 0.67964 | val_logloss: 0.64601 | val_accuracy: 0.63366 |  0:03:30s\n",
            "epoch 60 | loss: 0.64402 | train_auc: 0.68736 | train_logloss: 0.6383  | train_accuracy: 0.63552 | val_auc: 0.6789  | val_logloss: 0.64425 | val_accuracy: 0.62932 |  0:03:33s\n",
            "epoch 61 | loss: 0.6409  | train_auc: 0.68802 | train_logloss: 0.63915 | train_accuracy: 0.63719 | val_auc: 0.67903 | val_logloss: 0.64575 | val_accuracy: 0.63345 |  0:03:36s\n",
            "epoch 62 | loss: 0.64156 | train_auc: 0.68711 | train_logloss: 0.63674 | train_accuracy: 0.63818 | val_auc: 0.67813 | val_logloss: 0.64335 | val_accuracy: 0.63697 |  0:03:40s\n",
            "epoch 63 | loss: 0.63981 | train_auc: 0.6883  | train_logloss: 0.63838 | train_accuracy: 0.63487 | val_auc: 0.67938 | val_logloss: 0.6453  | val_accuracy: 0.63076 |  0:03:43s\n",
            "epoch 64 | loss: 0.64204 | train_auc: 0.68922 | train_logloss: 0.63818 | train_accuracy: 0.63705 | val_auc: 0.68064 | val_logloss: 0.64464 | val_accuracy: 0.63221 |  0:03:46s\n",
            "epoch 65 | loss: 0.64012 | train_auc: 0.68948 | train_logloss: 0.6392  | train_accuracy: 0.63542 | val_auc: 0.68116 | val_logloss: 0.64555 | val_accuracy: 0.62911 |  0:03:50s\n",
            "epoch 66 | loss: 0.64188 | train_auc: 0.6896  | train_logloss: 0.63562 | train_accuracy: 0.63845 | val_auc: 0.68022 | val_logloss: 0.64289 | val_accuracy: 0.63738 |  0:03:53s\n",
            "epoch 67 | loss: 0.63714 | train_auc: 0.69008 | train_logloss: 0.64266 | train_accuracy: 0.63477 | val_auc: 0.67999 | val_logloss: 0.65041 | val_accuracy: 0.62621 |  0:03:56s\n",
            "epoch 68 | loss: 0.63856 | train_auc: 0.69126 | train_logloss: 0.63504 | train_accuracy: 0.6408  | val_auc: 0.68234 | val_logloss: 0.64166 | val_accuracy: 0.63531 |  0:04:00s\n",
            "epoch 69 | loss: 0.64087 | train_auc: 0.69181 | train_logloss: 0.63683 | train_accuracy: 0.63903 | val_auc: 0.68206 | val_logloss: 0.64361 | val_accuracy: 0.62828 |  0:04:03s\n",
            "epoch 70 | loss: 0.64008 | train_auc: 0.6929  | train_logloss: 0.63638 | train_accuracy: 0.63719 | val_auc: 0.68327 | val_logloss: 0.6439  | val_accuracy: 0.62787 |  0:04:06s\n",
            "epoch 71 | loss: 0.63921 | train_auc: 0.69319 | train_logloss: 0.63436 | train_accuracy: 0.64111 | val_auc: 0.68355 | val_logloss: 0.64148 | val_accuracy: 0.638   |  0:04:10s\n",
            "epoch 72 | loss: 0.63398 | train_auc: 0.69329 | train_logloss: 0.63793 | train_accuracy: 0.63906 | val_auc: 0.68505 | val_logloss: 0.64468 | val_accuracy: 0.63242 |  0:04:13s\n",
            "epoch 73 | loss: 0.63857 | train_auc: 0.69366 | train_logloss: 0.63622 | train_accuracy: 0.6376  | val_auc: 0.68529 | val_logloss: 0.64287 | val_accuracy: 0.63407 |  0:04:16s\n",
            "epoch 74 | loss: 0.63925 | train_auc: 0.69509 | train_logloss: 0.63157 | train_accuracy: 0.64186 | val_auc: 0.68657 | val_logloss: 0.63817 | val_accuracy: 0.63448 |  0:04:19s\n",
            "epoch 75 | loss: 0.63965 | train_auc: 0.69536 | train_logloss: 0.63545 | train_accuracy: 0.6408  | val_auc: 0.68598 | val_logloss: 0.64324 | val_accuracy: 0.63386 |  0:04:23s\n",
            "epoch 76 | loss: 0.6388  | train_auc: 0.69657 | train_logloss: 0.63249 | train_accuracy: 0.64155 | val_auc: 0.68365 | val_logloss: 0.64187 | val_accuracy: 0.63014 |  0:04:26s\n",
            "epoch 77 | loss: 0.63905 | train_auc: 0.69552 | train_logloss: 0.63285 | train_accuracy: 0.64087 | val_auc: 0.68358 | val_logloss: 0.64177 | val_accuracy: 0.63242 |  0:04:29s\n",
            "epoch 78 | loss: 0.63599 | train_auc: 0.6946  | train_logloss: 0.63491 | train_accuracy: 0.64073 | val_auc: 0.68462 | val_logloss: 0.64311 | val_accuracy: 0.632   |  0:04:33s\n",
            "epoch 79 | loss: 0.63552 | train_auc: 0.69245 | train_logloss: 0.63392 | train_accuracy: 0.64118 | val_auc: 0.68407 | val_logloss: 0.64116 | val_accuracy: 0.63593 |  0:04:36s\n",
            "epoch 80 | loss: 0.63832 | train_auc: 0.69284 | train_logloss: 0.63621 | train_accuracy: 0.6408  | val_auc: 0.68108 | val_logloss: 0.64584 | val_accuracy: 0.632   |  0:04:39s\n",
            "epoch 81 | loss: 0.63798 | train_auc: 0.69275 | train_logloss: 0.63411 | train_accuracy: 0.64182 | val_auc: 0.67747 | val_logloss: 0.64538 | val_accuracy: 0.63076 |  0:04:42s\n",
            "epoch 82 | loss: 0.63513 | train_auc: 0.69399 | train_logloss: 0.63407 | train_accuracy: 0.64155 | val_auc: 0.68025 | val_logloss: 0.64489 | val_accuracy: 0.63386 |  0:04:46s\n",
            "epoch 83 | loss: 0.63883 | train_auc: 0.69535 | train_logloss: 0.6372  | train_accuracy: 0.63903 | val_auc: 0.68432 | val_logloss: 0.64529 | val_accuracy: 0.63448 |  0:04:49s\n",
            "epoch 84 | loss: 0.63611 | train_auc: 0.69557 | train_logloss: 0.63233 | train_accuracy: 0.64353 | val_auc: 0.68637 | val_logloss: 0.63896 | val_accuracy: 0.64069 |  0:04:52s\n",
            "epoch 85 | loss: 0.63151 | train_auc: 0.69601 | train_logloss: 0.63254 | train_accuracy: 0.64387 | val_auc: 0.68605 | val_logloss: 0.64085 | val_accuracy: 0.63779 |  0:04:56s\n",
            "epoch 86 | loss: 0.63562 | train_auc: 0.69534 | train_logloss: 0.63465 | train_accuracy: 0.64244 | val_auc: 0.68684 | val_logloss: 0.64221 | val_accuracy: 0.63924 |  0:04:59s\n",
            "epoch 87 | loss: 0.633   | train_auc: 0.69436 | train_logloss: 0.63602 | train_accuracy: 0.64441 | val_auc: 0.68573 | val_logloss: 0.64365 | val_accuracy: 0.6349  |  0:05:02s\n",
            "epoch 88 | loss: 0.63808 | train_auc: 0.69406 | train_logloss: 0.63222 | train_accuracy: 0.64462 | val_auc: 0.68583 | val_logloss: 0.63833 | val_accuracy: 0.63841 |  0:05:05s\n",
            "epoch 89 | loss: 0.63854 | train_auc: 0.69441 | train_logloss: 0.63684 | train_accuracy: 0.6391  | val_auc: 0.6858  | val_logloss: 0.64401 | val_accuracy: 0.6318  |  0:05:09s\n",
            "epoch 90 | loss: 0.63609 | train_auc: 0.6956  | train_logloss: 0.63365 | train_accuracy: 0.6439  | val_auc: 0.68661 | val_logloss: 0.64108 | val_accuracy: 0.63469 |  0:05:12s\n",
            "epoch 91 | loss: 0.63607 | train_auc: 0.69562 | train_logloss: 0.63277 | train_accuracy: 0.64503 | val_auc: 0.68629 | val_logloss: 0.64083 | val_accuracy: 0.63883 |  0:05:15s\n",
            "epoch 92 | loss: 0.63588 | train_auc: 0.69593 | train_logloss: 0.63116 | train_accuracy: 0.64264 | val_auc: 0.68721 | val_logloss: 0.6389  | val_accuracy: 0.63531 |  0:05:18s\n",
            "epoch 93 | loss: 0.63653 | train_auc: 0.69614 | train_logloss: 0.63621 | train_accuracy: 0.63916 | val_auc: 0.68835 | val_logloss: 0.64335 | val_accuracy: 0.63118 |  0:05:22s\n",
            "epoch 94 | loss: 0.63562 | train_auc: 0.69674 | train_logloss: 0.6364  | train_accuracy: 0.63957 | val_auc: 0.68711 | val_logloss: 0.64392 | val_accuracy: 0.63035 |  0:05:25s\n",
            "epoch 95 | loss: 0.63805 | train_auc: 0.69715 | train_logloss: 0.63165 | train_accuracy: 0.64274 | val_auc: 0.68707 | val_logloss: 0.63881 | val_accuracy: 0.63821 |  0:05:28s\n",
            "epoch 96 | loss: 0.62821 | train_auc: 0.69845 | train_logloss: 0.63152 | train_accuracy: 0.64533 | val_auc: 0.69037 | val_logloss: 0.63853 | val_accuracy: 0.64296 |  0:05:31s\n",
            "epoch 97 | loss: 0.63552 | train_auc: 0.6993  | train_logloss: 0.63172 | train_accuracy: 0.64315 | val_auc: 0.68848 | val_logloss: 0.63919 | val_accuracy: 0.63717 |  0:05:35s\n",
            "epoch 98 | loss: 0.63199 | train_auc: 0.69868 | train_logloss: 0.63055 | train_accuracy: 0.64424 | val_auc: 0.68956 | val_logloss: 0.63808 | val_accuracy: 0.638   |  0:05:38s\n",
            "epoch 99 | loss: 0.63415 | train_auc: 0.6981  | train_logloss: 0.63036 | train_accuracy: 0.64448 | val_auc: 0.68953 | val_logloss: 0.63669 | val_accuracy: 0.63945 |  0:05:41s\n",
            "epoch 100| loss: 0.63274 | train_auc: 0.69794 | train_logloss: 0.63142 | train_accuracy: 0.64291 | val_auc: 0.69197 | val_logloss: 0.63627 | val_accuracy: 0.63779 |  0:05:45s\n",
            "epoch 101| loss: 0.63509 | train_auc: 0.69562 | train_logloss: 0.63152 | train_accuracy: 0.6423  | val_auc: 0.68963 | val_logloss: 0.63627 | val_accuracy: 0.63862 |  0:05:48s\n",
            "epoch 102| loss: 0.63297 | train_auc: 0.69544 | train_logloss: 0.6349  | train_accuracy: 0.64135 | val_auc: 0.69079 | val_logloss: 0.6391  | val_accuracy: 0.63945 |  0:05:51s\n",
            "epoch 103| loss: 0.63706 | train_auc: 0.69615 | train_logloss: 0.63378 | train_accuracy: 0.64196 | val_auc: 0.68974 | val_logloss: 0.63834 | val_accuracy: 0.63676 |  0:05:54s\n",
            "epoch 104| loss: 0.63564 | train_auc: 0.69735 | train_logloss: 0.62934 | train_accuracy: 0.64479 | val_auc: 0.68821 | val_logloss: 0.63618 | val_accuracy: 0.638   |  0:05:58s\n",
            "epoch 105| loss: 0.63699 | train_auc: 0.69797 | train_logloss: 0.63278 | train_accuracy: 0.64237 | val_auc: 0.68663 | val_logloss: 0.64056 | val_accuracy: 0.63593 |  0:06:01s\n",
            "epoch 106| loss: 0.63482 | train_auc: 0.69891 | train_logloss: 0.63041 | train_accuracy: 0.64785 | val_auc: 0.68605 | val_logloss: 0.63997 | val_accuracy: 0.64172 |  0:06:04s\n",
            "epoch 107| loss: 0.63287 | train_auc: 0.69903 | train_logloss: 0.6303  | train_accuracy: 0.64792 | val_auc: 0.68796 | val_logloss: 0.63973 | val_accuracy: 0.63924 |  0:06:08s\n",
            "epoch 108| loss: 0.63167 | train_auc: 0.70027 | train_logloss: 0.6344  | train_accuracy: 0.64036 | val_auc: 0.689   | val_logloss: 0.64386 | val_accuracy: 0.63676 |  0:06:11s\n",
            "epoch 109| loss: 0.63216 | train_auc: 0.70016 | train_logloss: 0.63076 | train_accuracy: 0.64397 | val_auc: 0.68377 | val_logloss: 0.64266 | val_accuracy: 0.63821 |  0:06:14s\n",
            "epoch 110| loss: 0.63348 | train_auc: 0.69952 | train_logloss: 0.63165 | train_accuracy: 0.64359 | val_auc: 0.68611 | val_logloss: 0.64143 | val_accuracy: 0.63965 |  0:06:17s\n",
            "epoch 111| loss: 0.63461 | train_auc: 0.69799 | train_logloss: 0.62947 | train_accuracy: 0.64557 | val_auc: 0.68533 | val_logloss: 0.63897 | val_accuracy: 0.64255 |  0:06:21s\n",
            "epoch 112| loss: 0.63484 | train_auc: 0.69779 | train_logloss: 0.63146 | train_accuracy: 0.64438 | val_auc: 0.6875  | val_logloss: 0.63995 | val_accuracy: 0.64358 |  0:06:24s\n",
            "epoch 113| loss: 0.63426 | train_auc: 0.69706 | train_logloss: 0.63313 | train_accuracy: 0.64223 | val_auc: 0.68727 | val_logloss: 0.64043 | val_accuracy: 0.64193 |  0:06:27s\n",
            "epoch 114| loss: 0.6329  | train_auc: 0.69588 | train_logloss: 0.63553 | train_accuracy: 0.64312 | val_auc: 0.68574 | val_logloss: 0.64275 | val_accuracy: 0.64131 |  0:06:31s\n",
            "epoch 115| loss: 0.63547 | train_auc: 0.69653 | train_logloss: 0.63472 | train_accuracy: 0.64383 | val_auc: 0.68825 | val_logloss: 0.64067 | val_accuracy: 0.63862 |  0:06:34s\n",
            "epoch 116| loss: 0.6362  | train_auc: 0.69846 | train_logloss: 0.63093 | train_accuracy: 0.64728 | val_auc: 0.68964 | val_logloss: 0.63788 | val_accuracy: 0.64399 |  0:06:37s\n",
            "epoch 117| loss: 0.63372 | train_auc: 0.69964 | train_logloss: 0.63033 | train_accuracy: 0.64738 | val_auc: 0.69011 | val_logloss: 0.63741 | val_accuracy: 0.64255 |  0:06:41s\n",
            "epoch 118| loss: 0.63385 | train_auc: 0.69979 | train_logloss: 0.63044 | train_accuracy: 0.64595 | val_auc: 0.69076 | val_logloss: 0.63724 | val_accuracy: 0.64379 |  0:06:44s\n",
            "epoch 119| loss: 0.63566 | train_auc: 0.69819 | train_logloss: 0.63378 | train_accuracy: 0.6347  | val_auc: 0.68618 | val_logloss: 0.64238 | val_accuracy: 0.62911 |  0:06:47s\n",
            "epoch 120| loss: 0.6345  | train_auc: 0.69799 | train_logloss: 0.6342  | train_accuracy: 0.64244 | val_auc: 0.68593 | val_logloss: 0.64334 | val_accuracy: 0.6351  |  0:06:50s\n",
            "epoch 121| loss: 0.63366 | train_auc: 0.69939 | train_logloss: 0.63595 | train_accuracy: 0.63988 | val_auc: 0.68709 | val_logloss: 0.64515 | val_accuracy: 0.638   |  0:06:54s\n",
            "epoch 122| loss: 0.63319 | train_auc: 0.69898 | train_logloss: 0.63323 | train_accuracy: 0.64342 | val_auc: 0.68594 | val_logloss: 0.64278 | val_accuracy: 0.64151 |  0:06:57s\n",
            "epoch 123| loss: 0.63363 | train_auc: 0.70012 | train_logloss: 0.63822 | train_accuracy: 0.64002 | val_auc: 0.68606 | val_logloss: 0.6482  | val_accuracy: 0.63572 |  0:07:00s\n",
            "epoch 124| loss: 0.63494 | train_auc: 0.69876 | train_logloss: 0.63856 | train_accuracy: 0.63736 | val_auc: 0.68409 | val_logloss: 0.64866 | val_accuracy: 0.63676 |  0:07:04s\n",
            "epoch 125| loss: 0.63484 | train_auc: 0.70016 | train_logloss: 0.63166 | train_accuracy: 0.6424  | val_auc: 0.68573 | val_logloss: 0.6422  | val_accuracy: 0.63159 |  0:07:07s\n",
            "epoch 126| loss: 0.63462 | train_auc: 0.69893 | train_logloss: 0.63268 | train_accuracy: 0.64434 | val_auc: 0.68764 | val_logloss: 0.64055 | val_accuracy: 0.63903 |  0:07:10s\n",
            "epoch 127| loss: 0.63451 | train_auc: 0.69808 | train_logloss: 0.63616 | train_accuracy: 0.64189 | val_auc: 0.68997 | val_logloss: 0.6437  | val_accuracy: 0.63572 |  0:07:13s\n",
            "epoch 128| loss: 0.63413 | train_auc: 0.69829 | train_logloss: 0.63643 | train_accuracy: 0.64107 | val_auc: 0.68975 | val_logloss: 0.64301 | val_accuracy: 0.64007 |  0:07:17s\n",
            "epoch 129| loss: 0.63169 | train_auc: 0.69694 | train_logloss: 0.63438 | train_accuracy: 0.64353 | val_auc: 0.6898  | val_logloss: 0.64055 | val_accuracy: 0.64048 |  0:07:20s\n",
            "epoch 130| loss: 0.631   | train_auc: 0.69685 | train_logloss: 0.62937 | train_accuracy: 0.64612 | val_auc: 0.68671 | val_logloss: 0.63668 | val_accuracy: 0.64441 |  0:07:23s\n",
            "epoch 131| loss: 0.63564 | train_auc: 0.69734 | train_logloss: 0.63207 | train_accuracy: 0.64339 | val_auc: 0.6844  | val_logloss: 0.64161 | val_accuracy: 0.63552 |  0:07:27s\n",
            "epoch 132| loss: 0.6365  | train_auc: 0.69679 | train_logloss: 0.63892 | train_accuracy: 0.63685 | val_auc: 0.68817 | val_logloss: 0.6456  | val_accuracy: 0.63841 |  0:07:30s\n",
            "epoch 133| loss: 0.63581 | train_auc: 0.69775 | train_logloss: 0.6358  | train_accuracy: 0.64332 | val_auc: 0.69011 | val_logloss: 0.64149 | val_accuracy: 0.64069 |  0:07:33s\n",
            "epoch 134| loss: 0.63343 | train_auc: 0.69735 | train_logloss: 0.63311 | train_accuracy: 0.64325 | val_auc: 0.69038 | val_logloss: 0.63829 | val_accuracy: 0.64317 |  0:07:36s\n",
            "epoch 135| loss: 0.63385 | train_auc: 0.69841 | train_logloss: 0.6318  | train_accuracy: 0.64434 | val_auc: 0.69055 | val_logloss: 0.63835 | val_accuracy: 0.6411  |  0:07:40s\n",
            "epoch 136| loss: 0.63567 | train_auc: 0.69845 | train_logloss: 0.63458 | train_accuracy: 0.64373 | val_auc: 0.6902  | val_logloss: 0.63999 | val_accuracy: 0.63821 |  0:07:43s\n",
            "epoch 137| loss: 0.6365  | train_auc: 0.69763 | train_logloss: 0.63637 | train_accuracy: 0.64066 | val_auc: 0.6868  | val_logloss: 0.64478 | val_accuracy: 0.63097 |  0:07:46s\n",
            "epoch 138| loss: 0.63875 | train_auc: 0.69842 | train_logloss: 0.63232 | train_accuracy: 0.64261 | val_auc: 0.68878 | val_logloss: 0.63953 | val_accuracy: 0.63965 |  0:07:50s\n",
            "epoch 139| loss: 0.63133 | train_auc: 0.69965 | train_logloss: 0.62889 | train_accuracy: 0.64601 | val_auc: 0.68972 | val_logloss: 0.63576 | val_accuracy: 0.63903 |  0:07:53s\n",
            "epoch 140| loss: 0.63298 | train_auc: 0.69855 | train_logloss: 0.63105 | train_accuracy: 0.64254 | val_auc: 0.68375 | val_logloss: 0.64134 | val_accuracy: 0.63717 |  0:07:56s\n",
            "epoch 141| loss: 0.634   | train_auc: 0.69892 | train_logloss: 0.63088 | train_accuracy: 0.64445 | val_auc: 0.68695 | val_logloss: 0.64002 | val_accuracy: 0.6411  |  0:07:59s\n",
            "epoch 142| loss: 0.63139 | train_auc: 0.69781 | train_logloss: 0.63083 | train_accuracy: 0.64346 | val_auc: 0.68881 | val_logloss: 0.63862 | val_accuracy: 0.64296 |  0:08:03s\n",
            "epoch 143| loss: 0.63509 | train_auc: 0.69858 | train_logloss: 0.6303  | train_accuracy: 0.64257 | val_auc: 0.68998 | val_logloss: 0.637   | val_accuracy: 0.64089 |  0:08:06s\n",
            "epoch 144| loss: 0.63564 | train_auc: 0.69991 | train_logloss: 0.63365 | train_accuracy: 0.64288 | val_auc: 0.68849 | val_logloss: 0.64231 | val_accuracy: 0.63676 |  0:08:09s\n",
            "epoch 145| loss: 0.63197 | train_auc: 0.69905 | train_logloss: 0.63421 | train_accuracy: 0.64451 | val_auc: 0.68555 | val_logloss: 0.64492 | val_accuracy: 0.63366 |  0:08:13s\n",
            "epoch 146| loss: 0.63226 | train_auc: 0.69941 | train_logloss: 0.62929 | train_accuracy: 0.64486 | val_auc: 0.68505 | val_logloss: 0.63996 | val_accuracy: 0.63903 |  0:08:16s\n",
            "epoch 147| loss: 0.63116 | train_auc: 0.69844 | train_logloss: 0.63362 | train_accuracy: 0.64223 | val_auc: 0.6879  | val_logloss: 0.64163 | val_accuracy: 0.63986 |  0:08:19s\n",
            "epoch 148| loss: 0.63452 | train_auc: 0.70052 | train_logloss: 0.6292  | train_accuracy: 0.64581 | val_auc: 0.68797 | val_logloss: 0.63834 | val_accuracy: 0.64048 |  0:08:23s\n",
            "epoch 149| loss: 0.63339 | train_auc: 0.70162 | train_logloss: 0.63085 | train_accuracy: 0.644   | val_auc: 0.68788 | val_logloss: 0.64195 | val_accuracy: 0.63634 |  0:08:26s\n",
            "epoch 150| loss: 0.63006 | train_auc: 0.70154 | train_logloss: 0.62766 | train_accuracy: 0.64605 | val_auc: 0.68497 | val_logloss: 0.64032 | val_accuracy: 0.63862 |  0:08:29s\n",
            "epoch 151| loss: 0.63044 | train_auc: 0.70257 | train_logloss: 0.62832 | train_accuracy: 0.64595 | val_auc: 0.68741 | val_logloss: 0.64    | val_accuracy: 0.63697 |  0:08:33s\n",
            "epoch 152| loss: 0.6256  | train_auc: 0.70243 | train_logloss: 0.62769 | train_accuracy: 0.64741 | val_auc: 0.68663 | val_logloss: 0.63912 | val_accuracy: 0.63634 |  0:08:36s\n",
            "epoch 153| loss: 0.62875 | train_auc: 0.70251 | train_logloss: 0.62751 | train_accuracy: 0.64673 | val_auc: 0.68627 | val_logloss: 0.64048 | val_accuracy: 0.63738 |  0:08:39s\n",
            "epoch 154| loss: 0.63071 | train_auc: 0.70283 | train_logloss: 0.62756 | train_accuracy: 0.64649 | val_auc: 0.68814 | val_logloss: 0.63762 | val_accuracy: 0.63531 |  0:08:43s\n",
            "epoch 155| loss: 0.63407 | train_auc: 0.70216 | train_logloss: 0.62575 | train_accuracy: 0.64721 | val_auc: 0.68875 | val_logloss: 0.63502 | val_accuracy: 0.63862 |  0:08:46s\n",
            "epoch 156| loss: 0.62976 | train_auc: 0.70185 | train_logloss: 0.62756 | train_accuracy: 0.64884 | val_auc: 0.68403 | val_logloss: 0.63949 | val_accuracy: 0.63924 |  0:08:49s\n",
            "epoch 157| loss: 0.63274 | train_auc: 0.70265 | train_logloss: 0.62781 | train_accuracy: 0.64738 | val_auc: 0.6877  | val_logloss: 0.63925 | val_accuracy: 0.64193 |  0:08:53s\n",
            "epoch 158| loss: 0.62704 | train_auc: 0.70406 | train_logloss: 0.62572 | train_accuracy: 0.65024 | val_auc: 0.68466 | val_logloss: 0.63972 | val_accuracy: 0.63862 |  0:08:56s\n",
            "epoch 159| loss: 0.63045 | train_auc: 0.70348 | train_logloss: 0.62884 | train_accuracy: 0.64792 | val_auc: 0.68429 | val_logloss: 0.64332 | val_accuracy: 0.63676 |  0:08:59s\n",
            "epoch 160| loss: 0.63095 | train_auc: 0.69828 | train_logloss: 0.63219 | train_accuracy: 0.64486 | val_auc: 0.68422 | val_logloss: 0.64211 | val_accuracy: 0.638   |  0:09:03s\n",
            "\n",
            "Early stopping occured at epoch 160 with best_epoch = 130 and best_val_accuracy = 0.64441\n",
            "Best weights from best epoch are automatically used!\n"
          ]
        }
      ],
      "source": [
        "training(X_train1, X_valid1, y_train1, y_valid1, 'train1', 'val1', clf1)"
      ]
    },
    {
      "cell_type": "code",
      "execution_count": null,
      "metadata": {
        "colab": {
          "base_uri": "https://localhost:8080/",
          "height": 300
        },
        "id": "kcgP63cbg8f1",
        "outputId": "a2e5cfe9-02fd-469b-d051-a64b813077d6"
      },
      "outputs": [
        {
          "data": {
            "text/plain": [
              "Text(0.5, 1.0, 'Loss for HA')"
            ]
          },
          "execution_count": 28,
          "metadata": {},
          "output_type": "execute_result"
        },
        {
          "data": {
            "image/png": "[encoded data removed]",
            "text/plain": [
              "<Figure size 432x288 with 1 Axes>"
            ]
          },
          "metadata": {},
          "output_type": "display_data"
        }
      ],
      "source": [
        "# plot losses\n",
        "plt.plot(clf1.history['loss'])\n",
        "plt.title('Loss for HA')"
      ]
    },
    {
      "cell_type": "code",
      "execution_count": null,
      "metadata": {
        "colab": {
          "base_uri": "https://localhost:8080/",
          "height": 300
        },
        "id": "WIxJOgWZ9qEi",
        "outputId": "711c70d6-bf32-4537-876b-411f0702fb7e"
      },
      "outputs": [
        {
          "data": {
            "text/plain": [
              "Text(0.5, 1.0, 'Accuracies for HA')"
            ]
          },
          "execution_count": 29,
          "metadata": {},
          "output_type": "execute_result"
        },
        {
          "data": {
            "image/png": "[encoded data removed]",
            "text/plain": [
              "<Figure size 432x288 with 1 Axes>"
            ]
          },
          "metadata": {},
          "output_type": "display_data"
        }
      ],
      "source": [
        "plt.plot(clf1.history['train_accuracy'])\n",
        "plt.plot(clf1.history['val_accuracy'])\n",
        "plt.title('Accuracies for HA')"
      ]
    },
    {
      "cell_type": "code",
      "execution_count": null,
      "metadata": {
        "colab": {
          "base_uri": "https://localhost:8080/",
          "height": 300
        },
        "id": "99P4hmGOg8kl",
        "outputId": "d356f616-6042-4b3a-ea50-8816543a10ec"
      },
      "outputs": [
        {
          "data": {
            "text/plain": [
              "Text(0.5, 1.0, 'Area Under the Curve for HA')"
            ]
          },
          "execution_count": 30,
          "metadata": {},
          "output_type": "execute_result"
        },
        {
          "data": {
            "image/png": "[encoded data removed]",
            "text/plain": [
              "<Figure size 432x288 with 1 Axes>"
            ]
          },
          "metadata": {},
          "output_type": "display_data"
        }
      ],
      "source": [
        "# plot auc\n",
        "plt.plot(clf1.history['train_auc'])\n",
        "plt.plot(clf1.history['val_auc'])\n",
        "plt.title('Area Under the Curve for HA')"
      ]
    },
    {
      "cell_type": "code",
      "execution_count": null,
      "metadata": {
        "colab": {
          "base_uri": "https://localhost:8080/",
          "height": 300
        },
        "id": "E0-qJ3FVg8ob",
        "outputId": "c6b376f9-2c9e-489f-dda1-3b02ca0f9281"
      },
      "outputs": [
        {
          "data": {
            "text/plain": [
              "Text(0.5, 1.0, 'Learning rates for HA')"
            ]
          },
          "execution_count": 31,
          "metadata": {},
          "output_type": "execute_result"
        },
        {
          "data": {
            "image/png": "[encoded data removed]",
            "text/plain": [
              "<Figure size 432x288 with 1 Axes>"
            ]
          },
          "metadata": {},
          "output_type": "display_data"
        }
      ],
      "source": [
        "# plot learning rates\n",
        "plt.plot(clf1.history['lr'])\n",
        "plt.title('Learning rates for HA')"
      ]
    },
    {
      "cell_type": "code",
      "execution_count": null,
      "metadata": {
        "colab": {
          "base_uri": "https://localhost:8080/"
        },
        "id": "Kz-ZWzrMg81e",
        "outputId": "7c16473d-4436-4875-9ec1-1b91128ca67b"
      },
      "outputs": [
        {
          "name": "stdout",
          "output_type": "stream",
          "text": [
            "FINAL VALID AUC_SCORE: 0.6842216638968854\n",
            "FINAL VALID ACCURACY_SCORE: 0.6379987595617118\n",
            "FINAL TEST ACCURACY_SCORE: 0.6425785259700267\n",
            "FINAL TEST AUC_SCORE: 0.6779759983354429\n"
          ]
        }
      ],
      "source": [
        "test_model(X_test1, y_test1, X_valid1, y_valid1, clf1)"
      ]
    },
    {
      "cell_type": "code",
      "execution_count": null,
      "metadata": {
        "colab": {
          "base_uri": "https://localhost:8080/"
        },
        "id": "VmFe7QyawEP4",
        "outputId": "5bbbd0f4-9777-4a17-9be6-e44e94cac97c"
      },
      "outputs": [
        {
          "name": "stdout",
          "output_type": "stream",
          "text": [
            "FINAL VALID AUC_SCORE: 0.6842216638968854\n",
            "FINAL VALID ACCURACY_SCORE: 0.6379987595617118\n",
            "FINAL TEST ACCURACY_SCORE: 0.646116620659101\n",
            "FINAL TEST AUC_SCORE: 0.6968507039921282\n"
          ]
        }
      ],
      "source": [
        "test_model(X_train1, y_train1, X_valid1, y_valid1, clf1)"
      ]
    },
    {
      "cell_type": "code",
      "execution_count": null,
      "metadata": {
        "id": "RubIQQpBP83o"
      },
      "outputs": [],
      "source": [
        "# os.mkdir('models')"
      ]
    },
    {
      "cell_type": "code",
      "execution_count": null,
      "metadata": {
        "id": "iksWD3sMPfD4"
      },
      "outputs": [],
      "source": [
        "# # save tabnet model \n",
        "# saving_path_name = \"/content/models/tabnet_basic_HA\"\n",
        "# saved_filepath = clf1.save_model(saving_path_name)"
      ]
    },
    {
      "cell_type": "code",
      "execution_count": null,
      "metadata": {
        "id": "JST1gE2qPfIJ"
      },
      "outputs": [],
      "source": [
        "# # define new model with basic parameters and load state dict weights\n",
        "# loaded_clf1 = TabNetClassifier()\n",
        "# loaded_clf1.load_model(saved_filepath)"
      ]
    },
    {
      "cell_type": "markdown",
      "metadata": {
        "id": "xgviXbl74USL"
      },
      "source": [
        "### W/H"
      ]
    },
    {
      "cell_type": "code",
      "execution_count": null,
      "metadata": {
        "colab": {
          "base_uri": "https://localhost:8080/"
        },
        "id": "0ZW9A5btg85i",
        "outputId": "d7eff1b5-c9c3-4ade-a1bc-89c4d986aeb9"
      },
      "outputs": [
        {
          "name": "stdout",
          "output_type": "stream",
          "text": [
            "epoch 0  | loss: 0.81913 | train_auc: 0.51279 | train_logloss: 0.73885 | train_accuracy: 0.50711 | val_auc: 0.49518 | val_logloss: 0.74871 | val_accuracy: 0.49589 |  0:00:05s\n",
            "epoch 1  | loss: 0.72957 | train_auc: 0.51947 | train_logloss: 0.70446 | train_accuracy: 0.51446 | val_auc: 0.5026  | val_logloss: 0.71121 | val_accuracy: 0.50895 |  0:00:10s\n",
            "epoch 2  | loss: 0.69935 | train_auc: 0.53749 | train_logloss: 0.69783 | train_accuracy: 0.53043 | val_auc: 0.52588 | val_logloss: 0.70239 | val_accuracy: 0.52423 |  0:00:15s\n",
            "epoch 3  | loss: 0.68517 | train_auc: 0.56046 | train_logloss: 0.6909  | train_accuracy: 0.54619 | val_auc: 0.55456 | val_logloss: 0.6936  | val_accuracy: 0.54133 |  0:00:20s\n",
            "epoch 4  | loss: 0.67794 | train_auc: 0.57544 | train_logloss: 0.68945 | train_accuracy: 0.55145 | val_auc: 0.57464 | val_logloss: 0.68974 | val_accuracy: 0.55139 |  0:00:25s\n",
            "epoch 5  | loss: 0.67466 | train_auc: 0.59435 | train_logloss: 0.68114 | train_accuracy: 0.56495 | val_auc: 0.59212 | val_logloss: 0.68205 | val_accuracy: 0.5638  |  0:00:30s\n",
            "epoch 6  | loss: 0.67087 | train_auc: 0.60862 | train_logloss: 0.67725 | train_accuracy: 0.57278 | val_auc: 0.60788 | val_logloss: 0.67735 | val_accuracy: 0.56994 |  0:00:36s\n",
            "epoch 7  | loss: 0.6682  | train_auc: 0.62058 | train_logloss: 0.67361 | train_accuracy: 0.57937 | val_auc: 0.61997 | val_logloss: 0.6733  | val_accuracy: 0.58169 |  0:00:41s\n",
            "epoch 8  | loss: 0.66463 | train_auc: 0.63464 | train_logloss: 0.66924 | train_accuracy: 0.58777 | val_auc: 0.63561 | val_logloss: 0.66799 | val_accuracy: 0.589   |  0:00:46s\n",
            "epoch 9  | loss: 0.65942 | train_auc: 0.64595 | train_logloss: 0.66505 | train_accuracy: 0.59323 | val_auc: 0.64581 | val_logloss: 0.66376 | val_accuracy: 0.59423 |  0:00:51s\n",
            "epoch 10 | loss: 0.65818 | train_auc: 0.65836 | train_logloss: 0.65987 | train_accuracy: 0.60609 | val_auc: 0.65806 | val_logloss: 0.65908 | val_accuracy: 0.60376 |  0:00:56s\n",
            "epoch 11 | loss: 0.65622 | train_auc: 0.66734 | train_logloss: 0.65496 | train_accuracy: 0.61728 | val_auc: 0.66364 | val_logloss: 0.65512 | val_accuracy: 0.61134 |  0:01:01s\n",
            "epoch 12 | loss: 0.65454 | train_auc: 0.67266 | train_logloss: 0.65306 | train_accuracy: 0.61963 | val_auc: 0.665   | val_logloss: 0.65441 | val_accuracy: 0.6069  |  0:01:06s\n",
            "epoch 13 | loss: 0.64983 | train_auc: 0.67694 | train_logloss: 0.64906 | train_accuracy: 0.62525 | val_auc: 0.66636 | val_logloss: 0.65206 | val_accuracy: 0.60977 |  0:01:12s\n",
            "epoch 14 | loss: 0.64748 | train_auc: 0.68092 | train_logloss: 0.64644 | train_accuracy: 0.62909 | val_auc: 0.67313 | val_logloss: 0.64808 | val_accuracy: 0.62074 |  0:01:17s\n",
            "epoch 15 | loss: 0.64748 | train_auc: 0.68503 | train_logloss: 0.64282 | train_accuracy: 0.63464 | val_auc: 0.67747 | val_logloss: 0.64507 | val_accuracy: 0.62427 |  0:01:22s\n",
            "epoch 16 | loss: 0.64212 | train_auc: 0.68864 | train_logloss: 0.63993 | train_accuracy: 0.63843 | val_auc: 0.6816  | val_logloss: 0.64252 | val_accuracy: 0.62831 |  0:01:31s\n",
            "epoch 17 | loss: 0.63921 | train_auc: 0.69256 | train_logloss: 0.63794 | train_accuracy: 0.6403  | val_auc: 0.68928 | val_logloss: 0.63899 | val_accuracy: 0.63119 |  0:01:36s\n",
            "epoch 18 | loss: 0.64017 | train_auc: 0.69575 | train_logloss: 0.63448 | train_accuracy: 0.64578 | val_auc: 0.69206 | val_logloss: 0.63552 | val_accuracy: 0.63706 |  0:01:41s\n",
            "epoch 19 | loss: 0.63704 | train_auc: 0.70025 | train_logloss: 0.63183 | train_accuracy: 0.64916 | val_auc: 0.69465 | val_logloss: 0.63459 | val_accuracy: 0.64216 |  0:01:46s\n",
            "epoch 20 | loss: 0.63526 | train_auc: 0.7063  | train_logloss: 0.62817 | train_accuracy: 0.65294 | val_auc: 0.70264 | val_logloss: 0.63061 | val_accuracy: 0.64817 |  0:01:51s\n",
            "epoch 21 | loss: 0.63444 | train_auc: 0.71015 | train_logloss: 0.62523 | train_accuracy: 0.65739 | val_auc: 0.70866 | val_logloss: 0.62617 | val_accuracy: 0.65522 |  0:01:57s\n",
            "epoch 22 | loss: 0.6297  | train_auc: 0.71306 | train_logloss: 0.62321 | train_accuracy: 0.65893 | val_auc: 0.70902 | val_logloss: 0.62558 | val_accuracy: 0.65326 |  0:02:02s\n",
            "epoch 23 | loss: 0.62752 | train_auc: 0.71665 | train_logloss: 0.62073 | train_accuracy: 0.65902 | val_auc: 0.71289 | val_logloss: 0.62362 | val_accuracy: 0.65848 |  0:02:07s\n",
            "epoch 24 | loss: 0.62273 | train_auc: 0.72084 | train_logloss: 0.61662 | train_accuracy: 0.66496 | val_auc: 0.71915 | val_logloss: 0.61841 | val_accuracy: 0.65992 |  0:02:12s\n",
            "epoch 25 | loss: 0.62416 | train_auc: 0.7249  | train_logloss: 0.61382 | train_accuracy: 0.66834 | val_auc: 0.71846 | val_logloss: 0.61902 | val_accuracy: 0.66031 |  0:02:17s\n",
            "epoch 26 | loss: 0.61783 | train_auc: 0.72912 | train_logloss: 0.61153 | train_accuracy: 0.67218 | val_auc: 0.72365 | val_logloss: 0.6154  | val_accuracy: 0.66475 |  0:02:22s\n",
            "epoch 27 | loss: 0.62097 | train_auc: 0.7319  | train_logloss: 0.60934 | train_accuracy: 0.67677 | val_auc: 0.72505 | val_logloss: 0.61473 | val_accuracy: 0.67011 |  0:02:27s\n",
            "epoch 28 | loss: 0.61839 | train_auc: 0.73478 | train_logloss: 0.60614 | train_accuracy: 0.67839 | val_auc: 0.72832 | val_logloss: 0.61109 | val_accuracy: 0.6705  |  0:02:32s\n",
            "epoch 29 | loss: 0.61308 | train_auc: 0.73674 | train_logloss: 0.605   | train_accuracy: 0.67802 | val_auc: 0.7313  | val_logloss: 0.60955 | val_accuracy: 0.67102 |  0:02:38s\n",
            "epoch 30 | loss: 0.61081 | train_auc: 0.73896 | train_logloss: 0.60185 | train_accuracy: 0.68039 | val_auc: 0.73454 | val_logloss: 0.60586 | val_accuracy: 0.67572 |  0:02:43s\n",
            "epoch 31 | loss: 0.61053 | train_auc: 0.74187 | train_logloss: 0.59991 | train_accuracy: 0.68129 | val_auc: 0.73771 | val_logloss: 0.60364 | val_accuracy: 0.67846 |  0:02:48s\n",
            "epoch 32 | loss: 0.60952 | train_auc: 0.74454 | train_logloss: 0.59826 | train_accuracy: 0.68484 | val_auc: 0.73974 | val_logloss: 0.6029  | val_accuracy: 0.68225 |  0:02:53s\n",
            "epoch 33 | loss: 0.6073  | train_auc: 0.74708 | train_logloss: 0.5958  | train_accuracy: 0.68723 | val_auc: 0.74046 | val_logloss: 0.60185 | val_accuracy: 0.68539 |  0:02:59s\n",
            "epoch 34 | loss: 0.60208 | train_auc: 0.7485  | train_logloss: 0.59387 | train_accuracy: 0.68844 | val_auc: 0.74449 | val_logloss: 0.59844 | val_accuracy: 0.68421 |  0:03:04s\n",
            "epoch 35 | loss: 0.59827 | train_auc: 0.75245 | train_logloss: 0.59069 | train_accuracy: 0.69009 | val_auc: 0.74662 | val_logloss: 0.59676 | val_accuracy: 0.68552 |  0:03:09s\n",
            "epoch 36 | loss: 0.59892 | train_auc: 0.75404 | train_logloss: 0.58887 | train_accuracy: 0.69173 | val_auc: 0.74888 | val_logloss: 0.59403 | val_accuracy: 0.68604 |  0:03:14s\n",
            "epoch 37 | loss: 0.60071 | train_auc: 0.75555 | train_logloss: 0.58752 | train_accuracy: 0.69384 | val_auc: 0.74923 | val_logloss: 0.59328 | val_accuracy: 0.68748 |  0:03:19s\n",
            "epoch 38 | loss: 0.59757 | train_auc: 0.75706 | train_logloss: 0.58656 | train_accuracy: 0.69627 | val_auc: 0.75251 | val_logloss: 0.59089 | val_accuracy: 0.69179 |  0:03:24s\n",
            "epoch 39 | loss: 0.59608 | train_auc: 0.75862 | train_logloss: 0.58465 | train_accuracy: 0.6975  | val_auc: 0.75317 | val_logloss: 0.58925 | val_accuracy: 0.69061 |  0:03:29s\n",
            "epoch 40 | loss: 0.59175 | train_auc: 0.75971 | train_logloss: 0.58415 | train_accuracy: 0.69671 | val_auc: 0.75239 | val_logloss: 0.59087 | val_accuracy: 0.6927  |  0:03:34s\n",
            "epoch 41 | loss: 0.59166 | train_auc: 0.76149 | train_logloss: 0.58273 | train_accuracy: 0.6984  | val_auc: 0.75393 | val_logloss: 0.59013 | val_accuracy: 0.69335 |  0:03:40s\n",
            "epoch 42 | loss: 0.58695 | train_auc: 0.76343 | train_logloss: 0.58033 | train_accuracy: 0.69937 | val_auc: 0.7547  | val_logloss: 0.5887  | val_accuracy: 0.69035 |  0:03:45s\n",
            "epoch 43 | loss: 0.58911 | train_auc: 0.76429 | train_logloss: 0.58007 | train_accuracy: 0.70031 | val_auc: 0.75768 | val_logloss: 0.58659 | val_accuracy: 0.69074 |  0:03:50s\n",
            "epoch 44 | loss: 0.58746 | train_auc: 0.76601 | train_logloss: 0.57799 | train_accuracy: 0.7047  | val_auc: 0.75882 | val_logloss: 0.58535 | val_accuracy: 0.6927  |  0:03:55s\n",
            "epoch 45 | loss: 0.58494 | train_auc: 0.76636 | train_logloss: 0.57747 | train_accuracy: 0.7042  | val_auc: 0.76146 | val_logloss: 0.58232 | val_accuracy: 0.69387 |  0:04:00s\n",
            "epoch 46 | loss: 0.58469 | train_auc: 0.76669 | train_logloss: 0.57681 | train_accuracy: 0.70457 | val_auc: 0.76245 | val_logloss: 0.5817  | val_accuracy: 0.69897 |  0:04:05s\n",
            "epoch 47 | loss: 0.58257 | train_auc: 0.76853 | train_logloss: 0.57511 | train_accuracy: 0.70617 | val_auc: 0.76193 | val_logloss: 0.58184 | val_accuracy: 0.69949 |  0:04:10s\n",
            "epoch 48 | loss: 0.58647 | train_auc: 0.76964 | train_logloss: 0.57636 | train_accuracy: 0.70795 | val_auc: 0.76221 | val_logloss: 0.58412 | val_accuracy: 0.69805 |  0:04:15s\n",
            "epoch 49 | loss: 0.58367 | train_auc: 0.77156 | train_logloss: 0.57279 | train_accuracy: 0.70904 | val_auc: 0.76498 | val_logloss: 0.57965 | val_accuracy: 0.70471 |  0:04:20s\n",
            "epoch 50 | loss: 0.57892 | train_auc: 0.77276 | train_logloss: 0.57124 | train_accuracy: 0.70966 | val_auc: 0.76517 | val_logloss: 0.57864 | val_accuracy: 0.70354 |  0:04:26s\n",
            "epoch 51 | loss: 0.58251 | train_auc: 0.77263 | train_logloss: 0.5714  | train_accuracy: 0.70979 | val_auc: 0.7652  | val_logloss: 0.57852 | val_accuracy: 0.70524 |  0:04:31s\n",
            "epoch 52 | loss: 0.58317 | train_auc: 0.77287 | train_logloss: 0.57132 | train_accuracy: 0.71126 | val_auc: 0.76664 | val_logloss: 0.57744 | val_accuracy: 0.69805 |  0:04:36s\n",
            "epoch 53 | loss: 0.58023 | train_auc: 0.77387 | train_logloss: 0.57042 | train_accuracy: 0.7094  | val_auc: 0.76855 | val_logloss: 0.57494 | val_accuracy: 0.70615 |  0:04:41s\n",
            "epoch 54 | loss: 0.58142 | train_auc: 0.77614 | train_logloss: 0.56862 | train_accuracy: 0.71192 | val_auc: 0.77074 | val_logloss: 0.57306 | val_accuracy: 0.7072  |  0:04:47s\n",
            "epoch 55 | loss: 0.57925 | train_auc: 0.77717 | train_logloss: 0.56751 | train_accuracy: 0.71163 | val_auc: 0.76951 | val_logloss: 0.57498 | val_accuracy: 0.70746 |  0:04:52s\n",
            "epoch 56 | loss: 0.58038 | train_auc: 0.777   | train_logloss: 0.5679  | train_accuracy: 0.71174 | val_auc: 0.77114 | val_logloss: 0.5731  | val_accuracy: 0.71059 |  0:04:57s\n",
            "epoch 57 | loss: 0.5759  | train_auc: 0.77618 | train_logloss: 0.56784 | train_accuracy: 0.71256 | val_auc: 0.7703  | val_logloss: 0.57407 | val_accuracy: 0.70876 |  0:05:02s\n",
            "epoch 58 | loss: 0.57618 | train_auc: 0.77525 | train_logloss: 0.56909 | train_accuracy: 0.71155 | val_auc: 0.7696  | val_logloss: 0.57489 | val_accuracy: 0.70615 |  0:05:07s\n",
            "epoch 59 | loss: 0.57545 | train_auc: 0.77594 | train_logloss: 0.56877 | train_accuracy: 0.71065 | val_auc: 0.76892 | val_logloss: 0.57647 | val_accuracy: 0.70498 |  0:05:12s\n",
            "epoch 60 | loss: 0.57126 | train_auc: 0.778   | train_logloss: 0.56647 | train_accuracy: 0.71468 | val_auc: 0.77308 | val_logloss: 0.57205 | val_accuracy: 0.70968 |  0:05:17s\n",
            "epoch 61 | loss: 0.57391 | train_auc: 0.77901 | train_logloss: 0.5653  | train_accuracy: 0.71545 | val_auc: 0.7755  | val_logloss: 0.56943 | val_accuracy: 0.71164 |  0:05:22s\n",
            "epoch 62 | loss: 0.57089 | train_auc: 0.77893 | train_logloss: 0.56485 | train_accuracy: 0.71253 | val_auc: 0.77493 | val_logloss: 0.56951 | val_accuracy: 0.70863 |  0:05:27s\n",
            "epoch 63 | loss: 0.57208 | train_auc: 0.77966 | train_logloss: 0.56437 | train_accuracy: 0.71503 | val_auc: 0.77558 | val_logloss: 0.5688  | val_accuracy: 0.70994 |  0:05:32s\n",
            "epoch 64 | loss: 0.57246 | train_auc: 0.77988 | train_logloss: 0.56369 | train_accuracy: 0.71528 | val_auc: 0.77472 | val_logloss: 0.56902 | val_accuracy: 0.71124 |  0:05:37s\n",
            "epoch 65 | loss: 0.57265 | train_auc: 0.77992 | train_logloss: 0.56462 | train_accuracy: 0.7153  | val_auc: 0.77577 | val_logloss: 0.56906 | val_accuracy: 0.71046 |  0:05:43s\n",
            "epoch 66 | loss: 0.56993 | train_auc: 0.77818 | train_logloss: 0.56549 | train_accuracy: 0.71602 | val_auc: 0.77342 | val_logloss: 0.5702  | val_accuracy: 0.7132  |  0:05:48s\n",
            "epoch 67 | loss: 0.57011 | train_auc: 0.7805  | train_logloss: 0.56308 | train_accuracy: 0.71664 | val_auc: 0.77669 | val_logloss: 0.56749 | val_accuracy: 0.7132  |  0:05:53s\n",
            "epoch 68 | loss: 0.56782 | train_auc: 0.78126 | train_logloss: 0.56326 | train_accuracy: 0.71569 | val_auc: 0.7792  | val_logloss: 0.56636 | val_accuracy: 0.71294 |  0:05:58s\n",
            "epoch 69 | loss: 0.56983 | train_auc: 0.78159 | train_logloss: 0.56298 | train_accuracy: 0.71455 | val_auc: 0.77767 | val_logloss: 0.56754 | val_accuracy: 0.71294 |  0:06:03s\n",
            "epoch 70 | loss: 0.57211 | train_auc: 0.78334 | train_logloss: 0.56057 | train_accuracy: 0.71751 | val_auc: 0.78018 | val_logloss: 0.56415 | val_accuracy: 0.71542 |  0:06:08s\n",
            "epoch 71 | loss: 0.57126 | train_auc: 0.78406 | train_logloss: 0.55932 | train_accuracy: 0.71999 | val_auc: 0.7787  | val_logloss: 0.56525 | val_accuracy: 0.71673 |  0:06:13s\n",
            "epoch 72 | loss: 0.56871 | train_auc: 0.78566 | train_logloss: 0.55837 | train_accuracy: 0.71769 | val_auc: 0.78014 | val_logloss: 0.56502 | val_accuracy: 0.7136  |  0:06:18s\n",
            "epoch 73 | loss: 0.56795 | train_auc: 0.78579 | train_logloss: 0.5604  | train_accuracy: 0.71747 | val_auc: 0.77993 | val_logloss: 0.56681 | val_accuracy: 0.71216 |  0:06:23s\n",
            "epoch 74 | loss: 0.56705 | train_auc: 0.78592 | train_logloss: 0.5593  | train_accuracy: 0.71866 | val_auc: 0.78009 | val_logloss: 0.56614 | val_accuracy: 0.71046 |  0:06:29s\n",
            "epoch 75 | loss: 0.56463 | train_auc: 0.78595 | train_logloss: 0.55956 | train_accuracy: 0.71857 | val_auc: 0.77918 | val_logloss: 0.56737 | val_accuracy: 0.70902 |  0:06:34s\n",
            "epoch 76 | loss: 0.5684  | train_auc: 0.78677 | train_logloss: 0.55713 | train_accuracy: 0.72111 | val_auc: 0.77937 | val_logloss: 0.56518 | val_accuracy: 0.71634 |  0:06:39s\n",
            "epoch 77 | loss: 0.56418 | train_auc: 0.78704 | train_logloss: 0.55669 | train_accuracy: 0.72124 | val_auc: 0.77932 | val_logloss: 0.56495 | val_accuracy: 0.71582 |  0:06:44s\n",
            "epoch 78 | loss: 0.56424 | train_auc: 0.78771 | train_logloss: 0.55625 | train_accuracy: 0.72151 | val_auc: 0.78341 | val_logloss: 0.56118 | val_accuracy: 0.71738 |  0:06:49s\n",
            "epoch 79 | loss: 0.55989 | train_auc: 0.78806 | train_logloss: 0.5553  | train_accuracy: 0.72208 | val_auc: 0.78631 | val_logloss: 0.55805 | val_accuracy: 0.7132  |  0:06:54s\n",
            "epoch 80 | loss: 0.56237 | train_auc: 0.7889  | train_logloss: 0.55473 | train_accuracy: 0.72239 | val_auc: 0.78522 | val_logloss: 0.55943 | val_accuracy: 0.71529 |  0:06:59s\n",
            "epoch 81 | loss: 0.56343 | train_auc: 0.79042 | train_logloss: 0.55343 | train_accuracy: 0.72335 | val_auc: 0.78484 | val_logloss: 0.55989 | val_accuracy: 0.71346 |  0:07:04s\n",
            "epoch 82 | loss: 0.56297 | train_auc: 0.78965 | train_logloss: 0.55415 | train_accuracy: 0.72368 | val_auc: 0.78578 | val_logloss: 0.55925 | val_accuracy: 0.71503 |  0:07:09s\n",
            "epoch 83 | loss: 0.5644  | train_auc: 0.79012 | train_logloss: 0.55464 | train_accuracy: 0.72329 | val_auc: 0.78591 | val_logloss: 0.56014 | val_accuracy: 0.71568 |  0:07:14s\n",
            "epoch 84 | loss: 0.5672  | train_auc: 0.79036 | train_logloss: 0.55396 | train_accuracy: 0.72307 | val_auc: 0.78537 | val_logloss: 0.55963 | val_accuracy: 0.71399 |  0:07:19s\n",
            "epoch 85 | loss: 0.56049 | train_auc: 0.7913  | train_logloss: 0.55225 | train_accuracy: 0.72383 | val_auc: 0.78552 | val_logloss: 0.56025 | val_accuracy: 0.71529 |  0:07:24s\n",
            "epoch 86 | loss: 0.56085 | train_auc: 0.79165 | train_logloss: 0.55148 | train_accuracy: 0.72673 | val_auc: 0.78634 | val_logloss: 0.55815 | val_accuracy: 0.7166  |  0:07:29s\n",
            "epoch 87 | loss: 0.55984 | train_auc: 0.79114 | train_logloss: 0.55217 | train_accuracy: 0.72515 | val_auc: 0.78522 | val_logloss: 0.55987 | val_accuracy: 0.71738 |  0:07:34s\n",
            "epoch 88 | loss: 0.56426 | train_auc: 0.79217 | train_logloss: 0.55073 | train_accuracy: 0.72594 | val_auc: 0.78506 | val_logloss: 0.5594  | val_accuracy: 0.71673 |  0:07:39s\n",
            "epoch 89 | loss: 0.56048 | train_auc: 0.79365 | train_logloss: 0.55002 | train_accuracy: 0.72671 | val_auc: 0.78767 | val_logloss: 0.55688 | val_accuracy: 0.7196  |  0:07:44s\n",
            "epoch 90 | loss: 0.55826 | train_auc: 0.79312 | train_logloss: 0.55036 | train_accuracy: 0.72609 | val_auc: 0.78556 | val_logloss: 0.5596  | val_accuracy: 0.7166  |  0:07:50s\n",
            "epoch 91 | loss: 0.56061 | train_auc: 0.79423 | train_logloss: 0.54941 | train_accuracy: 0.72519 | val_auc: 0.78691 | val_logloss: 0.55807 | val_accuracy: 0.71804 |  0:07:55s\n",
            "epoch 92 | loss: 0.55726 | train_auc: 0.7932  | train_logloss: 0.55005 | train_accuracy: 0.72478 | val_auc: 0.7856  | val_logloss: 0.55968 | val_accuracy: 0.71438 |  0:08:00s\n",
            "epoch 93 | loss: 0.55477 | train_auc: 0.79518 | train_logloss: 0.54842 | train_accuracy: 0.72794 | val_auc: 0.78701 | val_logloss: 0.55695 | val_accuracy: 0.71608 |  0:08:05s\n",
            "epoch 94 | loss: 0.55384 | train_auc: 0.79605 | train_logloss: 0.54699 | train_accuracy: 0.72877 | val_auc: 0.78782 | val_logloss: 0.55599 | val_accuracy: 0.71947 |  0:08:10s\n",
            "epoch 95 | loss: 0.55622 | train_auc: 0.79605 | train_logloss: 0.54665 | train_accuracy: 0.728   | val_auc: 0.78932 | val_logloss: 0.55396 | val_accuracy: 0.72104 |  0:08:15s\n",
            "epoch 96 | loss: 0.556   | train_auc: 0.79779 | train_logloss: 0.54512 | train_accuracy: 0.72939 | val_auc: 0.7905  | val_logloss: 0.55266 | val_accuracy: 0.72182 |  0:08:20s\n",
            "epoch 97 | loss: 0.55371 | train_auc: 0.79739 | train_logloss: 0.54514 | train_accuracy: 0.73024 | val_auc: 0.78895 | val_logloss: 0.55449 | val_accuracy: 0.71725 |  0:08:25s\n",
            "epoch 98 | loss: 0.55369 | train_auc: 0.79722 | train_logloss: 0.54551 | train_accuracy: 0.7302  | val_auc: 0.78896 | val_logloss: 0.55512 | val_accuracy: 0.71751 |  0:08:30s\n",
            "epoch 99 | loss: 0.55581 | train_auc: 0.79879 | train_logloss: 0.54339 | train_accuracy: 0.73154 | val_auc: 0.7907  | val_logloss: 0.55319 | val_accuracy: 0.71882 |  0:08:35s\n",
            "epoch 100| loss: 0.55214 | train_auc: 0.79922 | train_logloss: 0.54318 | train_accuracy: 0.73039 | val_auc: 0.78974 | val_logloss: 0.55312 | val_accuracy: 0.71947 |  0:08:40s\n",
            "epoch 101| loss: 0.55362 | train_auc: 0.80055 | train_logloss: 0.54167 | train_accuracy: 0.73263 | val_auc: 0.78954 | val_logloss: 0.55359 | val_accuracy: 0.71738 |  0:08:45s\n",
            "epoch 102| loss: 0.54609 | train_auc: 0.80034 | train_logloss: 0.54135 | train_accuracy: 0.73127 | val_auc: 0.78914 | val_logloss: 0.55441 | val_accuracy: 0.71764 |  0:08:50s\n",
            "epoch 103| loss: 0.5533  | train_auc: 0.80148 | train_logloss: 0.54061 | train_accuracy: 0.73327 | val_auc: 0.79173 | val_logloss: 0.55145 | val_accuracy: 0.71986 |  0:08:56s\n",
            "epoch 104| loss: 0.54922 | train_auc: 0.80107 | train_logloss: 0.54089 | train_accuracy: 0.73105 | val_auc: 0.7918  | val_logloss: 0.55212 | val_accuracy: 0.71908 |  0:09:01s\n",
            "epoch 105| loss: 0.54873 | train_auc: 0.80097 | train_logloss: 0.54098 | train_accuracy: 0.73211 | val_auc: 0.79241 | val_logloss: 0.55165 | val_accuracy: 0.72039 |  0:09:06s\n",
            "epoch 106| loss: 0.54892 | train_auc: 0.80256 | train_logloss: 0.53964 | train_accuracy: 0.73215 | val_auc: 0.79202 | val_logloss: 0.5507  | val_accuracy: 0.71817 |  0:09:11s\n",
            "epoch 107| loss: 0.54846 | train_auc: 0.80358 | train_logloss: 0.54003 | train_accuracy: 0.73268 | val_auc: 0.79188 | val_logloss: 0.55337 | val_accuracy: 0.7196  |  0:09:16s\n",
            "epoch 108| loss: 0.54574 | train_auc: 0.80169 | train_logloss: 0.54117 | train_accuracy: 0.73059 | val_auc: 0.791   | val_logloss: 0.5521  | val_accuracy: 0.71973 |  0:09:21s\n",
            "epoch 109| loss: 0.54739 | train_auc: 0.80225 | train_logloss: 0.53988 | train_accuracy: 0.7314  | val_auc: 0.79258 | val_logloss: 0.55071 | val_accuracy: 0.72013 |  0:09:26s\n",
            "epoch 110| loss: 0.54622 | train_auc: 0.80451 | train_logloss: 0.5372  | train_accuracy: 0.73426 | val_auc: 0.79269 | val_logloss: 0.54994 | val_accuracy: 0.7166  |  0:09:31s\n",
            "epoch 111| loss: 0.54493 | train_auc: 0.80436 | train_logloss: 0.5367  | train_accuracy: 0.73459 | val_auc: 0.79199 | val_logloss: 0.55133 | val_accuracy: 0.71986 |  0:09:36s\n",
            "epoch 112| loss: 0.54451 | train_auc: 0.80275 | train_logloss: 0.53869 | train_accuracy: 0.73279 | val_auc: 0.79283 | val_logloss: 0.55055 | val_accuracy: 0.7213  |  0:09:41s\n",
            "epoch 113| loss: 0.54945 | train_auc: 0.80283 | train_logloss: 0.53854 | train_accuracy: 0.73423 | val_auc: 0.79257 | val_logloss: 0.55076 | val_accuracy: 0.72378 |  0:09:46s\n",
            "epoch 114| loss: 0.54579 | train_auc: 0.8041  | train_logloss: 0.53754 | train_accuracy: 0.73498 | val_auc: 0.79526 | val_logloss: 0.54829 | val_accuracy: 0.7247  |  0:09:51s\n",
            "epoch 115| loss: 0.54534 | train_auc: 0.80348 | train_logloss: 0.53789 | train_accuracy: 0.73415 | val_auc: 0.79529 | val_logloss: 0.54788 | val_accuracy: 0.72339 |  0:09:56s\n",
            "epoch 116| loss: 0.54464 | train_auc: 0.80485 | train_logloss: 0.53954 | train_accuracy: 0.73434 | val_auc: 0.79765 | val_logloss: 0.54959 | val_accuracy: 0.72313 |  0:10:01s\n",
            "epoch 117| loss: 0.54536 | train_auc: 0.80523 | train_logloss: 0.53597 | train_accuracy: 0.73612 | val_auc: 0.797   | val_logloss: 0.54579 | val_accuracy: 0.72574 |  0:10:06s\n",
            "epoch 118| loss: 0.54728 | train_auc: 0.80484 | train_logloss: 0.53764 | train_accuracy: 0.73397 | val_auc: 0.79561 | val_logloss: 0.54727 | val_accuracy: 0.72731 |  0:10:14s\n",
            "epoch 119| loss: 0.54396 | train_auc: 0.80657 | train_logloss: 0.53426 | train_accuracy: 0.73667 | val_auc: 0.79744 | val_logloss: 0.54547 | val_accuracy: 0.7277  |  0:10:19s\n",
            "epoch 120| loss: 0.54206 | train_auc: 0.80622 | train_logloss: 0.53505 | train_accuracy: 0.73579 | val_auc: 0.79737 | val_logloss: 0.54492 | val_accuracy: 0.72496 |  0:10:24s\n",
            "epoch 121| loss: 0.54158 | train_auc: 0.80598 | train_logloss: 0.535   | train_accuracy: 0.73564 | val_auc: 0.7943  | val_logloss: 0.5489  | val_accuracy: 0.72169 |  0:10:31s\n",
            "epoch 122| loss: 0.54153 | train_auc: 0.80785 | train_logloss: 0.53293 | train_accuracy: 0.73649 | val_auc: 0.79547 | val_logloss: 0.54736 | val_accuracy: 0.72026 |  0:10:37s\n",
            "epoch 123| loss: 0.53962 | train_auc: 0.80791 | train_logloss: 0.53518 | train_accuracy: 0.73364 | val_auc: 0.79953 | val_logloss: 0.54613 | val_accuracy: 0.72052 |  0:10:42s\n",
            "epoch 124| loss: 0.54266 | train_auc: 0.80988 | train_logloss: 0.5322  | train_accuracy: 0.73722 | val_auc: 0.79714 | val_logloss: 0.54572 | val_accuracy: 0.72404 |  0:10:47s\n",
            "epoch 125| loss: 0.54351 | train_auc: 0.80772 | train_logloss: 0.53651 | train_accuracy: 0.7338  | val_auc: 0.79791 | val_logloss: 0.54887 | val_accuracy: 0.71921 |  0:10:52s\n",
            "epoch 126| loss: 0.53971 | train_auc: 0.80732 | train_logloss: 0.53356 | train_accuracy: 0.73698 | val_auc: 0.79437 | val_logloss: 0.54924 | val_accuracy: 0.72287 |  0:10:57s\n",
            "epoch 127| loss: 0.5443  | train_auc: 0.80834 | train_logloss: 0.53213 | train_accuracy: 0.73766 | val_auc: 0.79744 | val_logloss: 0.54631 | val_accuracy: 0.72313 |  0:11:02s\n",
            "epoch 128| loss: 0.54425 | train_auc: 0.80868 | train_logloss: 0.53256 | train_accuracy: 0.73649 | val_auc: 0.79629 | val_logloss: 0.54676 | val_accuracy: 0.72613 |  0:11:07s\n",
            "epoch 129| loss: 0.53938 | train_auc: 0.80939 | train_logloss: 0.53159 | train_accuracy: 0.73902 | val_auc: 0.79876 | val_logloss: 0.54591 | val_accuracy: 0.72822 |  0:11:12s\n",
            "epoch 130| loss: 0.54212 | train_auc: 0.81019 | train_logloss: 0.53313 | train_accuracy: 0.73878 | val_auc: 0.79827 | val_logloss: 0.54663 | val_accuracy: 0.72404 |  0:11:17s\n",
            "epoch 131| loss: 0.54265 | train_auc: 0.80973 | train_logloss: 0.53231 | train_accuracy: 0.73908 | val_auc: 0.79586 | val_logloss: 0.54793 | val_accuracy: 0.72574 |  0:11:23s\n",
            "epoch 132| loss: 0.53775 | train_auc: 0.80918 | train_logloss: 0.53284 | train_accuracy: 0.73891 | val_auc: 0.79708 | val_logloss: 0.54635 | val_accuracy: 0.72705 |  0:11:28s\n",
            "epoch 133| loss: 0.54389 | train_auc: 0.81008 | train_logloss: 0.53244 | train_accuracy: 0.73818 | val_auc: 0.79863 | val_logloss: 0.54639 | val_accuracy: 0.73057 |  0:11:33s\n",
            "epoch 134| loss: 0.53835 | train_auc: 0.81013 | train_logloss: 0.53066 | train_accuracy: 0.73994 | val_auc: 0.79789 | val_logloss: 0.54417 | val_accuracy: 0.7277  |  0:11:38s\n",
            "epoch 135| loss: 0.53591 | train_auc: 0.81119 | train_logloss: 0.53376 | train_accuracy: 0.73599 | val_auc: 0.79877 | val_logloss: 0.54815 | val_accuracy: 0.72483 |  0:11:43s\n",
            "epoch 136| loss: 0.53662 | train_auc: 0.81079 | train_logloss: 0.53131 | train_accuracy: 0.74033 | val_auc: 0.79746 | val_logloss: 0.54941 | val_accuracy: 0.72809 |  0:11:48s\n",
            "epoch 137| loss: 0.54188 | train_auc: 0.81034 | train_logloss: 0.5316  | train_accuracy: 0.73674 | val_auc: 0.79927 | val_logloss: 0.54471 | val_accuracy: 0.72979 |  0:11:53s\n",
            "epoch 138| loss: 0.53415 | train_auc: 0.81193 | train_logloss: 0.52774 | train_accuracy: 0.73948 | val_auc: 0.79951 | val_logloss: 0.5428  | val_accuracy: 0.73175 |  0:11:58s\n",
            "epoch 139| loss: 0.54312 | train_auc: 0.81151 | train_logloss: 0.52957 | train_accuracy: 0.73823 | val_auc: 0.7992  | val_logloss: 0.54413 | val_accuracy: 0.72809 |  0:12:03s\n",
            "epoch 140| loss: 0.54397 | train_auc: 0.80498 | train_logloss: 0.53757 | train_accuracy: 0.73342 | val_auc: 0.79357 | val_logloss: 0.54884 | val_accuracy: 0.726   |  0:12:08s\n",
            "epoch 141| loss: 0.53733 | train_auc: 0.81025 | train_logloss: 0.53023 | train_accuracy: 0.73805 | val_auc: 0.79848 | val_logloss: 0.54334 | val_accuracy: 0.72548 |  0:12:13s\n",
            "epoch 142| loss: 0.53836 | train_auc: 0.81205 | train_logloss: 0.52792 | train_accuracy: 0.73961 | val_auc: 0.79862 | val_logloss: 0.54379 | val_accuracy: 0.72208 |  0:12:18s\n",
            "epoch 143| loss: 0.53796 | train_auc: 0.8127  | train_logloss: 0.52733 | train_accuracy: 0.74174 | val_auc: 0.7981  | val_logloss: 0.54483 | val_accuracy: 0.72718 |  0:12:23s\n",
            "epoch 144| loss: 0.53535 | train_auc: 0.81363 | train_logloss: 0.52603 | train_accuracy: 0.74112 | val_auc: 0.7995  | val_logloss: 0.54203 | val_accuracy: 0.72613 |  0:12:28s\n",
            "epoch 145| loss: 0.53293 | train_auc: 0.8135  | train_logloss: 0.52672 | train_accuracy: 0.74007 | val_auc: 0.79895 | val_logloss: 0.54352 | val_accuracy: 0.72457 |  0:12:33s\n",
            "epoch 146| loss: 0.53452 | train_auc: 0.81373 | train_logloss: 0.52632 | train_accuracy: 0.73998 | val_auc: 0.79868 | val_logloss: 0.54536 | val_accuracy: 0.72979 |  0:12:39s\n",
            "epoch 147| loss: 0.53702 | train_auc: 0.81253 | train_logloss: 0.52854 | train_accuracy: 0.7399  | val_auc: 0.79639 | val_logloss: 0.54544 | val_accuracy: 0.72287 |  0:12:44s\n",
            "epoch 148| loss: 0.53589 | train_auc: 0.81448 | train_logloss: 0.52493 | train_accuracy: 0.74211 | val_auc: 0.80103 | val_logloss: 0.54055 | val_accuracy: 0.73332 |  0:12:49s\n",
            "epoch 149| loss: 0.53581 | train_auc: 0.81656 | train_logloss: 0.52402 | train_accuracy: 0.74242 | val_auc: 0.8007  | val_logloss: 0.54107 | val_accuracy: 0.72966 |  0:12:54s\n",
            "epoch 150| loss: 0.53496 | train_auc: 0.81628 | train_logloss: 0.52352 | train_accuracy: 0.7433  | val_auc: 0.79889 | val_logloss: 0.54263 | val_accuracy: 0.72666 |  0:12:59s\n",
            "epoch 151| loss: 0.53064 | train_auc: 0.81692 | train_logloss: 0.52237 | train_accuracy: 0.74316 | val_auc: 0.80273 | val_logloss: 0.54072 | val_accuracy: 0.73005 |  0:13:04s\n",
            "epoch 152| loss: 0.53329 | train_auc: 0.81681 | train_logloss: 0.52307 | train_accuracy: 0.74295 | val_auc: 0.80123 | val_logloss: 0.54282 | val_accuracy: 0.72783 |  0:13:09s\n",
            "epoch 153| loss: 0.53065 | train_auc: 0.81615 | train_logloss: 0.52426 | train_accuracy: 0.74319 | val_auc: 0.79986 | val_logloss: 0.54602 | val_accuracy: 0.72835 |  0:13:14s\n",
            "epoch 154| loss: 0.53335 | train_auc: 0.81825 | train_logloss: 0.52225 | train_accuracy: 0.74378 | val_auc: 0.80069 | val_logloss: 0.54148 | val_accuracy: 0.72652 |  0:13:19s\n",
            "epoch 155| loss: 0.53123 | train_auc: 0.81701 | train_logloss: 0.52194 | train_accuracy: 0.7431  | val_auc: 0.80109 | val_logloss: 0.54177 | val_accuracy: 0.73097 |  0:13:24s\n",
            "epoch 156| loss: 0.52677 | train_auc: 0.81381 | train_logloss: 0.53042 | train_accuracy: 0.73856 | val_auc: 0.79579 | val_logloss: 0.54989 | val_accuracy: 0.72639 |  0:13:29s\n",
            "epoch 157| loss: 0.53198 | train_auc: 0.81797 | train_logloss: 0.52254 | train_accuracy: 0.74231 | val_auc: 0.80006 | val_logloss: 0.5415  | val_accuracy: 0.72692 |  0:13:34s\n",
            "epoch 158| loss: 0.53747 | train_auc: 0.81721 | train_logloss: 0.52247 | train_accuracy: 0.74286 | val_auc: 0.80231 | val_logloss: 0.53966 | val_accuracy: 0.73123 |  0:13:39s\n",
            "epoch 159| loss: 0.52762 | train_auc: 0.81298 | train_logloss: 0.5287  | train_accuracy: 0.7404  | val_auc: 0.79356 | val_logloss: 0.54976 | val_accuracy: 0.72182 |  0:13:44s\n",
            "epoch 160| loss: 0.53483 | train_auc: 0.81535 | train_logloss: 0.5267  | train_accuracy: 0.73983 | val_auc: 0.7981  | val_logloss: 0.54932 | val_accuracy: 0.72339 |  0:13:50s\n",
            "epoch 161| loss: 0.53554 | train_auc: 0.8162  | train_logloss: 0.52379 | train_accuracy: 0.74198 | val_auc: 0.79751 | val_logloss: 0.54599 | val_accuracy: 0.72809 |  0:13:55s\n",
            "epoch 162| loss: 0.52861 | train_auc: 0.81479 | train_logloss: 0.52714 | train_accuracy: 0.74044 | val_auc: 0.79676 | val_logloss: 0.55239 | val_accuracy: 0.72457 |  0:14:00s\n",
            "epoch 163| loss: 0.5298  | train_auc: 0.80939 | train_logloss: 0.54225 | train_accuracy: 0.72638 | val_auc: 0.79112 | val_logloss: 0.56797 | val_accuracy: 0.7132  |  0:14:05s\n",
            "epoch 164| loss: 0.53226 | train_auc: 0.81529 | train_logloss: 0.52701 | train_accuracy: 0.7372  | val_auc: 0.79824 | val_logloss: 0.55002 | val_accuracy: 0.72078 |  0:14:10s\n",
            "epoch 165| loss: 0.53031 | train_auc: 0.8186  | train_logloss: 0.52667 | train_accuracy: 0.74049 | val_auc: 0.79725 | val_logloss: 0.55587 | val_accuracy: 0.72248 |  0:14:15s\n",
            "epoch 166| loss: 0.52989 | train_auc: 0.82205 | train_logloss: 0.51842 | train_accuracy: 0.74538 | val_auc: 0.80037 | val_logloss: 0.54713 | val_accuracy: 0.72731 |  0:14:20s\n",
            "epoch 167| loss: 0.52438 | train_auc: 0.81954 | train_logloss: 0.51964 | train_accuracy: 0.74562 | val_auc: 0.79887 | val_logloss: 0.54449 | val_accuracy: 0.72444 |  0:14:25s\n",
            "epoch 168| loss: 0.53207 | train_auc: 0.81211 | train_logloss: 0.5288  | train_accuracy: 0.73952 | val_auc: 0.79688 | val_logloss: 0.5476  | val_accuracy: 0.72548 |  0:14:30s\n",
            "epoch 169| loss: 0.54259 | train_auc: 0.80112 | train_logloss: 0.54256 | train_accuracy: 0.72651 | val_auc: 0.7865  | val_logloss: 0.55888 | val_accuracy: 0.71333 |  0:14:35s\n",
            "epoch 170| loss: 0.5421  | train_auc: 0.80948 | train_logloss: 0.53322 | train_accuracy: 0.73535 | val_auc: 0.79459 | val_logloss: 0.55244 | val_accuracy: 0.71895 |  0:14:40s\n",
            "epoch 171| loss: 0.5372  | train_auc: 0.81648 | train_logloss: 0.53012 | train_accuracy: 0.73994 | val_auc: 0.80004 | val_logloss: 0.55177 | val_accuracy: 0.72143 |  0:14:45s\n",
            "epoch 172| loss: 0.53292 | train_auc: 0.81761 | train_logloss: 0.52299 | train_accuracy: 0.74284 | val_auc: 0.79925 | val_logloss: 0.54437 | val_accuracy: 0.7196  |  0:14:50s\n",
            "epoch 173| loss: 0.53166 | train_auc: 0.81744 | train_logloss: 0.5214  | train_accuracy: 0.74343 | val_auc: 0.79809 | val_logloss: 0.54559 | val_accuracy: 0.72065 |  0:14:55s\n",
            "epoch 174| loss: 0.53244 | train_auc: 0.81936 | train_logloss: 0.51943 | train_accuracy: 0.74512 | val_auc: 0.79798 | val_logloss: 0.54524 | val_accuracy: 0.72626 |  0:15:00s\n",
            "epoch 175| loss: 0.53372 | train_auc: 0.8189  | train_logloss: 0.5197  | train_accuracy: 0.74516 | val_auc: 0.80287 | val_logloss: 0.53973 | val_accuracy: 0.73332 |  0:15:05s\n",
            "epoch 176| loss: 0.53108 | train_auc: 0.81752 | train_logloss: 0.5216  | train_accuracy: 0.74455 | val_auc: 0.80233 | val_logloss: 0.54066 | val_accuracy: 0.72757 |  0:15:10s\n",
            "epoch 177| loss: 0.52965 | train_auc: 0.81801 | train_logloss: 0.52095 | train_accuracy: 0.74257 | val_auc: 0.80033 | val_logloss: 0.54315 | val_accuracy: 0.7277  |  0:15:16s\n",
            "epoch 178| loss: 0.53216 | train_auc: 0.81591 | train_logloss: 0.52476 | train_accuracy: 0.73871 | val_auc: 0.8004  | val_logloss: 0.54337 | val_accuracy: 0.72652 |  0:15:21s\n",
            "\n",
            "Early stopping occured at epoch 178 with best_epoch = 148 and best_val_accuracy = 0.73332\n",
            "Best weights from best epoch are automatically used!\n"
          ]
        }
      ],
      "source": [
        "training(X_train2, X_valid2, y_train2, y_valid2, 'train2', 'val2', clf2)"
      ]
    },
    {
      "cell_type": "code",
      "execution_count": null,
      "metadata": {
        "colab": {
          "base_uri": "https://localhost:8080/",
          "height": 300
        },
        "id": "W17kqTGn8Jpz",
        "outputId": "71499f57-cb74-42f4-bbd7-db48f05b133c"
      },
      "outputs": [
        {
          "data": {
            "text/plain": [
              "Text(0.5, 1.0, 'Loss for W/H')"
            ]
          },
          "execution_count": 47,
          "metadata": {},
          "output_type": "execute_result"
        },
        {
          "data": {
            "image/png": "[encoded data removed]",
            "text/plain": [
              "<Figure size 432x288 with 1 Axes>"
            ]
          },
          "metadata": {},
          "output_type": "display_data"
        }
      ],
      "source": [
        "# plot losses\n",
        "plt.plot(clf2.history['loss'])\n",
        "plt.title('Loss for W/H')"
      ]
    },
    {
      "cell_type": "code",
      "execution_count": null,
      "metadata": {
        "colab": {
          "base_uri": "https://localhost:8080/"
        },
        "id": "zxgLc__ag89T",
        "outputId": "9e81ee72-0fda-46c0-f0c8-629c7bc6ed90"
      },
      "outputs": [
        {
          "name": "stdout",
          "output_type": "stream",
          "text": [
            "FINAL VALID AUC_SCORE: 0.8004029555168017\n",
            "FINAL VALID ACCURACY_SCORE: 0.7265247485960559\n",
            "FINAL TEST ACCURACY_SCORE: 0.7241515390686661\n",
            "FINAL TEST AUC_SCORE: 0.7993806679784967\n"
          ]
        }
      ],
      "source": [
        "test_model(X_test2, y_test2, X_valid2, y_valid2, clf2)"
      ]
    },
    {
      "cell_type": "code",
      "execution_count": null,
      "metadata": {
        "colab": {
          "base_uri": "https://localhost:8080/"
        },
        "id": "BJ8eA_ea0nE8",
        "outputId": "d92690fe-c46b-4588-b023-43de999fac06"
      },
      "outputs": [
        {
          "name": "stdout",
          "output_type": "stream",
          "text": [
            "FINAL VALID AUC_SCORE: 0.8004029555168017\n",
            "FINAL VALID ACCURACY_SCORE: 0.7265247485960559\n",
            "FINAL TEST ACCURACY_SCORE: 0.7421117303725808\n",
            "FINAL TEST AUC_SCORE: 0.8144811263386651\n"
          ]
        }
      ],
      "source": [
        "test_model(X_train2, y_train2, X_valid2, y_valid2, clf2)"
      ]
    },
    {
      "cell_type": "code",
      "execution_count": null,
      "metadata": {
        "colab": {
          "base_uri": "https://localhost:8080/",
          "height": 300
        },
        "id": "IuUqaN8TE66c",
        "outputId": "aef5cee8-5c12-48fa-d1a4-7d08cfd1d674"
      },
      "outputs": [
        {
          "data": {
            "text/plain": [
              "Text(0.5, 1.0, 'Accuracies for WH')"
            ]
          },
          "execution_count": 55,
          "metadata": {},
          "output_type": "execute_result"
        },
        {
          "data": {
            "image/png": "[encoded data removed]",
            "text/plain": [
              "<Figure size 432x288 with 1 Axes>"
            ]
          },
          "metadata": {},
          "output_type": "display_data"
        }
      ],
      "source": [
        "plt.plot(clf2.history['train_accuracy'])\n",
        "plt.plot(clf2.history['val_accuracy'])\n",
        "plt.title('Accuracies for WH')"
      ]
    },
    {
      "cell_type": "code",
      "execution_count": null,
      "metadata": {
        "colab": {
          "base_uri": "https://localhost:8080/",
          "height": 300
        },
        "id": "eRt1RwLEg9Ny",
        "outputId": "8873cba1-1e4c-4f61-c99e-a0e057f3dfbf"
      },
      "outputs": [
        {
          "data": {
            "text/plain": [
              "Text(0.5, 1.0, 'Learning rates for WH')"
            ]
          },
          "execution_count": 45,
          "metadata": {},
          "output_type": "execute_result"
        },
        {
          "data": {
            "image/png": "[encoded data removed]",
            "text/plain": [
              "<Figure size 432x288 with 1 Axes>"
            ]
          },
          "metadata": {},
          "output_type": "display_data"
        }
      ],
      "source": [
        "# plot learning rates\n",
        "plt.plot(clf2.history['lr'])\n",
        "plt.title('Learning rates for WH')"
      ]
    },
    {
      "cell_type": "code",
      "execution_count": null,
      "metadata": {
        "colab": {
          "base_uri": "https://localhost:8080/",
          "height": 300
        },
        "id": "FTFhBVVgg9RO",
        "outputId": "70ebd341-1469-499c-bc5b-a27dd94a5fe7"
      },
      "outputs": [
        {
          "data": {
            "text/plain": [
              "Text(0.5, 1.0, 'Area under the curves for WH')"
            ]
          },
          "execution_count": 46,
          "metadata": {},
          "output_type": "execute_result"
        },
        {
          "data": {
            "image/png": "[encoded data removed]",
            "text/plain": [
              "<Figure size 432x288 with 1 Axes>"
            ]
          },
          "metadata": {},
          "output_type": "display_data"
        }
      ],
      "source": [
        "plt.plot(clf2.history['train_auc'])\n",
        "plt.plot(clf2.history['val_auc'])\n",
        "plt.title('Area under the curves for WH')"
      ]
    },
    {
      "cell_type": "code",
      "execution_count": null,
      "metadata": {
        "id": "oCqtdBgag9VC"
      },
      "outputs": [],
      "source": [
        "# # save tabnet model \n",
        "# saving_path_name = \"/content/models/tabnet_WA_bs=2048\"\n",
        "# saved_filepath = clf2.save_model(saving_path_name)"
      ]
    },
    {
      "cell_type": "code",
      "execution_count": null,
      "metadata": {
        "id": "5XvSjl2a4pUI"
      },
      "outputs": [],
      "source": []
    },
    {
      "cell_type": "markdown",
      "metadata": {
        "id": "2VY_O8AZhHF3"
      },
      "source": [
        "### HAWH"
      ]
    },
    {
      "cell_type": "code",
      "execution_count": null,
      "metadata": {
        "colab": {
          "base_uri": "https://localhost:8080/"
        },
        "id": "zVXmFZWqhHGG",
        "outputId": "e63e6980-b4b1-4d0a-f999-264a8038e1eb"
      },
      "outputs": [
        {
          "name": "stdout",
          "output_type": "stream",
          "text": [
            "epoch 0  | loss: 1.27112 | train_auc: 0.5491  | train_logloss: 0.90322 | train_accuracy: 0.50382 | val_auc: 0.55176 | val_logloss: 0.88503 | val_accuracy: 0.50863 |  0:00:10s\n",
            "epoch 1  | loss: 0.79463 | train_auc: 0.58568 | train_logloss: 0.70391 | train_accuracy: 0.56489 | val_auc: 0.58728 | val_logloss: 0.70079 | val_accuracy: 0.56259 |  0:00:22s\n",
            "epoch 2  | loss: 0.69589 | train_auc: 0.61469 | train_logloss: 0.68233 | train_accuracy: 0.57965 | val_auc: 0.61097 | val_logloss: 0.68439 | val_accuracy: 0.5761  |  0:00:33s\n",
            "epoch 3  | loss: 0.67234 | train_auc: 0.62993 | train_logloss: 0.6701  | train_accuracy: 0.59363 | val_auc: 0.63255 | val_logloss: 0.66911 | val_accuracy: 0.5978  |  0:00:44s\n",
            "epoch 4  | loss: 0.66247 | train_auc: 0.64718 | train_logloss: 0.66098 | train_accuracy: 0.61494 | val_auc: 0.64983 | val_logloss: 0.66    | val_accuracy: 0.6179  |  0:00:54s\n",
            "epoch 5  | loss: 0.65402 | train_auc: 0.66634 | train_logloss: 0.65212 | train_accuracy: 0.62895 | val_auc: 0.66508 | val_logloss: 0.65326 | val_accuracy: 0.62619 |  0:01:02s\n",
            "epoch 6  | loss: 0.64911 | train_auc: 0.68298 | train_logloss: 0.64366 | train_accuracy: 0.63658 | val_auc: 0.67808 | val_logloss: 0.64653 | val_accuracy: 0.63448 |  0:01:08s\n",
            "epoch 7  | loss: 0.63987 | train_auc: 0.69355 | train_logloss: 0.63727 | train_accuracy: 0.64442 | val_auc: 0.69037 | val_logloss: 0.63928 | val_accuracy: 0.64073 |  0:01:16s\n",
            "epoch 8  | loss: 0.63459 | train_auc: 0.70313 | train_logloss: 0.63115 | train_accuracy: 0.6494  | val_auc: 0.70048 | val_logloss: 0.63364 | val_accuracy: 0.64493 |  0:01:24s\n",
            "epoch 9  | loss: 0.63137 | train_auc: 0.71202 | train_logloss: 0.62472 | train_accuracy: 0.65622 | val_auc: 0.70679 | val_logloss: 0.62827 | val_accuracy: 0.64925 |  0:01:29s\n",
            "epoch 10 | loss: 0.62347 | train_auc: 0.7201  | train_logloss: 0.61929 | train_accuracy: 0.66179 | val_auc: 0.71661 | val_logloss: 0.62232 | val_accuracy: 0.65709 |  0:01:35s\n",
            "epoch 11 | loss: 0.62004 | train_auc: 0.72748 | train_logloss: 0.6134  | train_accuracy: 0.66656 | val_auc: 0.72319 | val_logloss: 0.61714 | val_accuracy: 0.66322 |  0:01:41s\n",
            "epoch 12 | loss: 0.6161  | train_auc: 0.73512 | train_logloss: 0.60734 | train_accuracy: 0.67286 | val_auc: 0.73123 | val_logloss: 0.611   | val_accuracy: 0.66424 |  0:01:47s\n",
            "epoch 13 | loss: 0.61071 | train_auc: 0.74109 | train_logloss: 0.60152 | train_accuracy: 0.67845 | val_auc: 0.73836 | val_logloss: 0.60375 | val_accuracy: 0.66901 |  0:01:52s\n",
            "epoch 14 | loss: 0.6033  | train_auc: 0.74787 | train_logloss: 0.59537 | train_accuracy: 0.68207 | val_auc: 0.74501 | val_logloss: 0.59716 | val_accuracy: 0.67378 |  0:02:00s\n",
            "epoch 15 | loss: 0.59555 | train_auc: 0.75751 | train_logloss: 0.58765 | train_accuracy: 0.69078 | val_auc: 0.75357 | val_logloss: 0.59007 | val_accuracy: 0.68037 |  0:02:06s\n",
            "epoch 16 | loss: 0.5907  | train_auc: 0.76456 | train_logloss: 0.58074 | train_accuracy: 0.69708 | val_auc: 0.75859 | val_logloss: 0.58463 | val_accuracy: 0.68503 |  0:02:13s\n",
            "epoch 17 | loss: 0.58866 | train_auc: 0.77006 | train_logloss: 0.57595 | train_accuracy: 0.70115 | val_auc: 0.76397 | val_logloss: 0.57918 | val_accuracy: 0.69321 |  0:02:19s\n",
            "epoch 18 | loss: 0.58476 | train_auc: 0.77561 | train_logloss: 0.57032 | train_accuracy: 0.71065 | val_auc: 0.76848 | val_logloss: 0.57579 | val_accuracy: 0.69934 |  0:02:24s\n",
            "epoch 19 | loss: 0.58094 | train_auc: 0.78097 | train_logloss: 0.56493 | train_accuracy: 0.71242 | val_auc: 0.7737  | val_logloss: 0.57027 | val_accuracy: 0.69991 |  0:02:30s\n",
            "epoch 20 | loss: 0.5735  | train_auc: 0.78664 | train_logloss: 0.55948 | train_accuracy: 0.71749 | val_auc: 0.77795 | val_logloss: 0.56618 | val_accuracy: 0.70423 |  0:02:36s\n",
            "epoch 21 | loss: 0.56914 | train_auc: 0.791   | train_logloss: 0.55448 | train_accuracy: 0.72082 | val_auc: 0.78359 | val_logloss: 0.56037 | val_accuracy: 0.70786 |  0:02:43s\n",
            "epoch 22 | loss: 0.56171 | train_auc: 0.79682 | train_logloss: 0.54941 | train_accuracy: 0.72583 | val_auc: 0.78816 | val_logloss: 0.55665 | val_accuracy: 0.71138 |  0:02:56s\n",
            "epoch 23 | loss: 0.55933 | train_auc: 0.80078 | train_logloss: 0.5448  | train_accuracy: 0.72998 | val_auc: 0.79248 | val_logloss: 0.5523  | val_accuracy: 0.71649 |  0:03:02s\n",
            "epoch 24 | loss: 0.55492 | train_auc: 0.80424 | train_logloss: 0.54073 | train_accuracy: 0.73248 | val_auc: 0.7963  | val_logloss: 0.5481  | val_accuracy: 0.72263 |  0:03:08s\n",
            "epoch 25 | loss: 0.5517  | train_auc: 0.80988 | train_logloss: 0.53489 | train_accuracy: 0.73714 | val_auc: 0.80141 | val_logloss: 0.54257 | val_accuracy: 0.72342 |  0:03:14s\n",
            "epoch 26 | loss: 0.5459  | train_auc: 0.81317 | train_logloss: 0.5309  | train_accuracy: 0.74034 | val_auc: 0.80573 | val_logloss: 0.53749 | val_accuracy: 0.72831 |  0:03:20s\n",
            "epoch 27 | loss: 0.54448 | train_auc: 0.81618 | train_logloss: 0.52727 | train_accuracy: 0.74275 | val_auc: 0.8089  | val_logloss: 0.53375 | val_accuracy: 0.73626 |  0:03:26s\n",
            "epoch 28 | loss: 0.53868 | train_auc: 0.81912 | train_logloss: 0.52376 | train_accuracy: 0.74556 | val_auc: 0.81385 | val_logloss: 0.52814 | val_accuracy: 0.74012 |  0:03:32s\n",
            "epoch 29 | loss: 0.53465 | train_auc: 0.82332 | train_logloss: 0.51832 | train_accuracy: 0.74996 | val_auc: 0.81852 | val_logloss: 0.52295 | val_accuracy: 0.74523 |  0:03:38s\n",
            "epoch 30 | loss: 0.52633 | train_auc: 0.82685 | train_logloss: 0.51505 | train_accuracy: 0.75194 | val_auc: 0.82349 | val_logloss: 0.51804 | val_accuracy: 0.74864 |  0:03:44s\n",
            "epoch 31 | loss: 0.5276  | train_auc: 0.8295  | train_logloss: 0.51114 | train_accuracy: 0.75533 | val_auc: 0.8256  | val_logloss: 0.51487 | val_accuracy: 0.75102 |  0:03:49s\n",
            "epoch 32 | loss: 0.5186  | train_auc: 0.83119 | train_logloss: 0.50864 | train_accuracy: 0.75749 | val_auc: 0.82863 | val_logloss: 0.51107 | val_accuracy: 0.75295 |  0:03:56s\n",
            "epoch 33 | loss: 0.51715 | train_auc: 0.83543 | train_logloss: 0.50382 | train_accuracy: 0.76185 | val_auc: 0.83172 | val_logloss: 0.50798 | val_accuracy: 0.75682 |  0:04:02s\n",
            "epoch 34 | loss: 0.51677 | train_auc: 0.8379  | train_logloss: 0.50025 | train_accuracy: 0.76383 | val_auc: 0.83366 | val_logloss: 0.50445 | val_accuracy: 0.75772 |  0:04:08s\n",
            "epoch 35 | loss: 0.51058 | train_auc: 0.84106 | train_logloss: 0.49583 | train_accuracy: 0.76574 | val_auc: 0.83558 | val_logloss: 0.50202 | val_accuracy: 0.75693 |  0:04:14s\n",
            "epoch 36 | loss: 0.50488 | train_auc: 0.8433  | train_logloss: 0.49303 | train_accuracy: 0.76793 | val_auc: 0.83762 | val_logloss: 0.49952 | val_accuracy: 0.75875 |  0:04:19s\n",
            "epoch 37 | loss: 0.50463 | train_auc: 0.84529 | train_logloss: 0.49019 | train_accuracy: 0.7689  | val_auc: 0.83998 | val_logloss: 0.49654 | val_accuracy: 0.76102 |  0:04:25s\n",
            "epoch 38 | loss: 0.49905 | train_auc: 0.84835 | train_logloss: 0.48606 | train_accuracy: 0.7699  | val_auc: 0.84264 | val_logloss: 0.49327 | val_accuracy: 0.76034 |  0:04:31s\n",
            "epoch 39 | loss: 0.50029 | train_auc: 0.85062 | train_logloss: 0.48263 | train_accuracy: 0.77341 | val_auc: 0.84672 | val_logloss: 0.48738 | val_accuracy: 0.76522 |  0:04:37s\n",
            "epoch 40 | loss: 0.49407 | train_auc: 0.8523  | train_logloss: 0.48018 | train_accuracy: 0.7736  | val_auc: 0.84862 | val_logloss: 0.48482 | val_accuracy: 0.76704 |  0:04:43s\n",
            "epoch 41 | loss: 0.49055 | train_auc: 0.85411 | train_logloss: 0.47703 | train_accuracy: 0.77736 | val_auc: 0.84935 | val_logloss: 0.48332 | val_accuracy: 0.76988 |  0:04:49s\n",
            "epoch 42 | loss: 0.48729 | train_auc: 0.85609 | train_logloss: 0.47398 | train_accuracy: 0.77944 | val_auc: 0.85033 | val_logloss: 0.48204 | val_accuracy: 0.76954 |  0:04:55s\n",
            "epoch 43 | loss: 0.48227 | train_auc: 0.85856 | train_logloss: 0.47037 | train_accuracy: 0.78107 | val_auc: 0.85303 | val_logloss: 0.47796 | val_accuracy: 0.77385 |  0:05:01s\n",
            "epoch 44 | loss: 0.48734 | train_auc: 0.86033 | train_logloss: 0.46838 | train_accuracy: 0.78239 | val_auc: 0.85248 | val_logloss: 0.4789  | val_accuracy: 0.77397 |  0:05:06s\n",
            "epoch 45 | loss: 0.48682 | train_auc: 0.86137 | train_logloss: 0.46731 | train_accuracy: 0.78117 | val_auc: 0.85304 | val_logloss: 0.47918 | val_accuracy: 0.77181 |  0:05:12s\n",
            "epoch 46 | loss: 0.48103 | train_auc: 0.8633  | train_logloss: 0.46444 | train_accuracy: 0.78491 | val_auc: 0.85508 | val_logloss: 0.47604 | val_accuracy: 0.77533 |  0:05:18s\n",
            "epoch 47 | loss: 0.47681 | train_auc: 0.8648  | train_logloss: 0.46219 | train_accuracy: 0.78738 | val_auc: 0.85765 | val_logloss: 0.47179 | val_accuracy: 0.77806 |  0:05:24s\n",
            "epoch 48 | loss: 0.47505 | train_auc: 0.86519 | train_logloss: 0.46117 | train_accuracy: 0.78861 | val_auc: 0.8575  | val_logloss: 0.47211 | val_accuracy: 0.7776  |  0:05:30s\n",
            "epoch 49 | loss: 0.47167 | train_auc: 0.86675 | train_logloss: 0.45856 | train_accuracy: 0.78851 | val_auc: 0.85879 | val_logloss: 0.46984 | val_accuracy: 0.77976 |  0:05:36s\n",
            "epoch 50 | loss: 0.47284 | train_auc: 0.86858 | train_logloss: 0.45541 | train_accuracy: 0.79167 | val_auc: 0.86049 | val_logloss: 0.46706 | val_accuracy: 0.78385 |  0:05:42s\n",
            "epoch 51 | loss: 0.47233 | train_auc: 0.86911 | train_logloss: 0.45483 | train_accuracy: 0.79102 | val_auc: 0.86205 | val_logloss: 0.46511 | val_accuracy: 0.78169 |  0:05:48s\n",
            "epoch 52 | loss: 0.46677 | train_auc: 0.87059 | train_logloss: 0.45208 | train_accuracy: 0.79202 | val_auc: 0.86315 | val_logloss: 0.46356 | val_accuracy: 0.78351 |  0:05:54s\n",
            "epoch 53 | loss: 0.47041 | train_auc: 0.86877 | train_logloss: 0.457   | train_accuracy: 0.79028 | val_auc: 0.86235 | val_logloss: 0.4668  | val_accuracy: 0.78317 |  0:05:59s\n",
            "epoch 54 | loss: 0.46867 | train_auc: 0.87253 | train_logloss: 0.4493  | train_accuracy: 0.7951  | val_auc: 0.86566 | val_logloss: 0.45944 | val_accuracy: 0.7901  |  0:06:05s\n",
            "epoch 55 | loss: 0.46809 | train_auc: 0.87324 | train_logloss: 0.44928 | train_accuracy: 0.79449 | val_auc: 0.86521 | val_logloss: 0.46038 | val_accuracy: 0.78419 |  0:06:11s\n",
            "epoch 56 | loss: 0.46482 | train_auc: 0.87433 | train_logloss: 0.44653 | train_accuracy: 0.79425 | val_auc: 0.86594 | val_logloss: 0.45879 | val_accuracy: 0.78623 |  0:06:17s\n",
            "epoch 57 | loss: 0.46328 | train_auc: 0.87484 | train_logloss: 0.44609 | train_accuracy: 0.79834 | val_auc: 0.8664  | val_logloss: 0.45831 | val_accuracy: 0.78851 |  0:06:23s\n",
            "epoch 58 | loss: 0.46292 | train_auc: 0.87569 | train_logloss: 0.44528 | train_accuracy: 0.79768 | val_auc: 0.86652 | val_logloss: 0.45868 | val_accuracy: 0.78692 |  0:06:28s\n",
            "epoch 59 | loss: 0.4584  | train_auc: 0.875   | train_logloss: 0.44852 | train_accuracy: 0.79454 | val_auc: 0.86613 | val_logloss: 0.46041 | val_accuracy: 0.7851  |  0:06:34s\n",
            "epoch 60 | loss: 0.45733 | train_auc: 0.87777 | train_logloss: 0.4406  | train_accuracy: 0.7998  | val_auc: 0.86987 | val_logloss: 0.45234 | val_accuracy: 0.79078 |  0:06:40s\n",
            "epoch 61 | loss: 0.45739 | train_auc: 0.87757 | train_logloss: 0.44187 | train_accuracy: 0.79882 | val_auc: 0.86891 | val_logloss: 0.45437 | val_accuracy: 0.7893  |  0:06:51s\n",
            "epoch 62 | loss: 0.45693 | train_auc: 0.87814 | train_logloss: 0.43989 | train_accuracy: 0.79851 | val_auc: 0.86919 | val_logloss: 0.45364 | val_accuracy: 0.7901  |  0:06:56s\n",
            "epoch 63 | loss: 0.45345 | train_auc: 0.87827 | train_logloss: 0.43972 | train_accuracy: 0.79928 | val_auc: 0.86976 | val_logloss: 0.45307 | val_accuracy: 0.78862 |  0:07:09s\n",
            "epoch 64 | loss: 0.44602 | train_auc: 0.88171 | train_logloss: 0.43408 | train_accuracy: 0.80481 | val_auc: 0.87318 | val_logloss: 0.44735 | val_accuracy: 0.79555 |  0:07:16s\n",
            "epoch 65 | loss: 0.4499  | train_auc: 0.88241 | train_logloss: 0.43302 | train_accuracy: 0.80464 | val_auc: 0.87405 | val_logloss: 0.44554 | val_accuracy: 0.796   |  0:07:22s\n",
            "epoch 66 | loss: 0.45153 | train_auc: 0.88194 | train_logloss: 0.434   | train_accuracy: 0.80335 | val_auc: 0.87189 | val_logloss: 0.44966 | val_accuracy: 0.79237 |  0:07:30s\n",
            "epoch 67 | loss: 0.44756 | train_auc: 0.88318 | train_logloss: 0.43167 | train_accuracy: 0.80516 | val_auc: 0.87444 | val_logloss: 0.44591 | val_accuracy: 0.79555 |  0:07:38s\n",
            "epoch 68 | loss: 0.44729 | train_auc: 0.88372 | train_logloss: 0.43028 | train_accuracy: 0.80425 | val_auc: 0.8742  | val_logloss: 0.44507 | val_accuracy: 0.79225 |  0:07:44s\n",
            "epoch 69 | loss: 0.44537 | train_auc: 0.88491 | train_logloss: 0.42846 | train_accuracy: 0.80529 | val_auc: 0.8747  | val_logloss: 0.44443 | val_accuracy: 0.79464 |  0:07:49s\n",
            "epoch 70 | loss: 0.4424  | train_auc: 0.8854  | train_logloss: 0.42797 | train_accuracy: 0.8045  | val_auc: 0.87689 | val_logloss: 0.4415  | val_accuracy: 0.79543 |  0:07:58s\n",
            "epoch 71 | loss: 0.44789 | train_auc: 0.88653 | train_logloss: 0.42633 | train_accuracy: 0.80614 | val_auc: 0.87746 | val_logloss: 0.44053 | val_accuracy: 0.79816 |  0:08:03s\n",
            "epoch 72 | loss: 0.44238 | train_auc: 0.88721 | train_logloss: 0.42491 | train_accuracy: 0.80845 | val_auc: 0.87756 | val_logloss: 0.43999 | val_accuracy: 0.79748 |  0:08:09s\n",
            "epoch 73 | loss: 0.44645 | train_auc: 0.88716 | train_logloss: 0.42561 | train_accuracy: 0.80678 | val_auc: 0.87774 | val_logloss: 0.44027 | val_accuracy: 0.79907 |  0:08:15s\n",
            "epoch 74 | loss: 0.44135 | train_auc: 0.88824 | train_logloss: 0.42252 | train_accuracy: 0.80961 | val_auc: 0.87741 | val_logloss: 0.43982 | val_accuracy: 0.79487 |  0:08:21s\n",
            "epoch 75 | loss: 0.44073 | train_auc: 0.88854 | train_logloss: 0.42233 | train_accuracy: 0.80822 | val_auc: 0.87873 | val_logloss: 0.43778 | val_accuracy: 0.79714 |  0:08:27s\n",
            "epoch 76 | loss: 0.43878 | train_auc: 0.88903 | train_logloss: 0.42347 | train_accuracy: 0.81048 | val_auc: 0.87864 | val_logloss: 0.43951 | val_accuracy: 0.79725 |  0:08:33s\n",
            "epoch 77 | loss: 0.43917 | train_auc: 0.8882  | train_logloss: 0.42295 | train_accuracy: 0.81081 | val_auc: 0.87744 | val_logloss: 0.43969 | val_accuracy: 0.79475 |  0:08:38s\n",
            "epoch 78 | loss: 0.43753 | train_auc: 0.88884 | train_logloss: 0.42159 | train_accuracy: 0.81123 | val_auc: 0.87736 | val_logloss: 0.43968 | val_accuracy: 0.79702 |  0:08:44s\n",
            "epoch 79 | loss: 0.43681 | train_auc: 0.8886  | train_logloss: 0.42328 | train_accuracy: 0.80807 | val_auc: 0.87664 | val_logloss: 0.44163 | val_accuracy: 0.79668 |  0:08:50s\n",
            "epoch 80 | loss: 0.43448 | train_auc: 0.88917 | train_logloss: 0.42136 | train_accuracy: 0.80859 | val_auc: 0.87827 | val_logloss: 0.43854 | val_accuracy: 0.79998 |  0:08:56s\n",
            "epoch 81 | loss: 0.43969 | train_auc: 0.89057 | train_logloss: 0.4195  | train_accuracy: 0.81321 | val_auc: 0.87999 | val_logloss: 0.43627 | val_accuracy: 0.80111 |  0:09:02s\n",
            "epoch 82 | loss: 0.43572 | train_auc: 0.89097 | train_logloss: 0.41842 | train_accuracy: 0.80992 | val_auc: 0.8802  | val_logloss: 0.43513 | val_accuracy: 0.79532 |  0:09:08s\n",
            "epoch 83 | loss: 0.43446 | train_auc: 0.89207 | train_logloss: 0.4159  | train_accuracy: 0.81385 | val_auc: 0.88254 | val_logloss: 0.43144 | val_accuracy: 0.8027  |  0:09:13s\n",
            "epoch 84 | loss: 0.43049 | train_auc: 0.8926  | train_logloss: 0.41774 | train_accuracy: 0.81165 | val_auc: 0.8813  | val_logloss: 0.43696 | val_accuracy: 0.80089 |  0:09:19s\n",
            "epoch 85 | loss: 0.43017 | train_auc: 0.89273 | train_logloss: 0.41427 | train_accuracy: 0.81314 | val_auc: 0.88212 | val_logloss: 0.43218 | val_accuracy: 0.80248 |  0:09:26s\n",
            "epoch 86 | loss: 0.43347 | train_auc: 0.89278 | train_logloss: 0.41488 | train_accuracy: 0.81341 | val_auc: 0.88218 | val_logloss: 0.43303 | val_accuracy: 0.80259 |  0:09:39s\n",
            "epoch 87 | loss: 0.42954 | train_auc: 0.89438 | train_logloss: 0.41196 | train_accuracy: 0.81445 | val_auc: 0.88212 | val_logloss: 0.43194 | val_accuracy: 0.801   |  0:09:45s\n",
            "epoch 88 | loss: 0.4321  | train_auc: 0.89462 | train_logloss: 0.41218 | train_accuracy: 0.81422 | val_auc: 0.88204 | val_logloss: 0.43341 | val_accuracy: 0.79918 |  0:09:51s\n",
            "epoch 89 | loss: 0.42694 | train_auc: 0.89429 | train_logloss: 0.41181 | train_accuracy: 0.81514 | val_auc: 0.88083 | val_logloss: 0.43428 | val_accuracy: 0.80077 |  0:09:57s\n",
            "epoch 90 | loss: 0.43023 | train_auc: 0.89502 | train_logloss: 0.40977 | train_accuracy: 0.81468 | val_auc: 0.88206 | val_logloss: 0.4322  | val_accuracy: 0.80384 |  0:10:03s\n",
            "epoch 91 | loss: 0.43085 | train_auc: 0.89518 | train_logloss: 0.41038 | train_accuracy: 0.81397 | val_auc: 0.88209 | val_logloss: 0.43232 | val_accuracy: 0.80179 |  0:10:08s\n",
            "epoch 92 | loss: 0.42708 | train_auc: 0.89508 | train_logloss: 0.40952 | train_accuracy: 0.81585 | val_auc: 0.88446 | val_logloss: 0.42796 | val_accuracy: 0.80498 |  0:10:14s\n",
            "epoch 93 | loss: 0.42257 | train_auc: 0.89629 | train_logloss: 0.40817 | train_accuracy: 0.81759 | val_auc: 0.88486 | val_logloss: 0.42767 | val_accuracy: 0.80316 |  0:10:20s\n",
            "epoch 94 | loss: 0.4272  | train_auc: 0.89642 | train_logloss: 0.40695 | train_accuracy: 0.81688 | val_auc: 0.88521 | val_logloss: 0.42697 | val_accuracy: 0.80554 |  0:10:26s\n",
            "epoch 95 | loss: 0.42321 | train_auc: 0.89747 | train_logloss: 0.40538 | train_accuracy: 0.81651 | val_auc: 0.88494 | val_logloss: 0.42819 | val_accuracy: 0.80611 |  0:10:31s\n",
            "epoch 96 | loss: 0.42343 | train_auc: 0.89733 | train_logloss: 0.40607 | train_accuracy: 0.8179  | val_auc: 0.88671 | val_logloss: 0.42392 | val_accuracy: 0.80884 |  0:10:37s\n",
            "epoch 97 | loss: 0.42201 | train_auc: 0.89879 | train_logloss: 0.40296 | train_accuracy: 0.81713 | val_auc: 0.88706 | val_logloss: 0.42396 | val_accuracy: 0.80645 |  0:10:43s\n",
            "epoch 98 | loss: 0.42357 | train_auc: 0.89615 | train_logloss: 0.40856 | train_accuracy: 0.81572 | val_auc: 0.8855  | val_logloss: 0.42644 | val_accuracy: 0.80736 |  0:10:49s\n",
            "epoch 99 | loss: 0.42639 | train_auc: 0.89795 | train_logloss: 0.40507 | train_accuracy: 0.81784 | val_auc: 0.88697 | val_logloss: 0.42411 | val_accuracy: 0.80668 |  0:10:55s\n",
            "epoch 100| loss: 0.42259 | train_auc: 0.89803 | train_logloss: 0.40559 | train_accuracy: 0.81784 | val_auc: 0.88373 | val_logloss: 0.42983 | val_accuracy: 0.80282 |  0:11:00s\n",
            "epoch 101| loss: 0.41963 | train_auc: 0.89874 | train_logloss: 0.40437 | train_accuracy: 0.8188  | val_auc: 0.88611 | val_logloss: 0.42604 | val_accuracy: 0.80929 |  0:11:06s\n",
            "epoch 102| loss: 0.42425 | train_auc: 0.89822 | train_logloss: 0.4053  | train_accuracy: 0.81745 | val_auc: 0.88606 | val_logloss: 0.42565 | val_accuracy: 0.80577 |  0:11:12s\n",
            "epoch 103| loss: 0.41783 | train_auc: 0.89628 | train_logloss: 0.40793 | train_accuracy: 0.81734 | val_auc: 0.88474 | val_logloss: 0.42744 | val_accuracy: 0.81054 |  0:11:18s\n",
            "epoch 104| loss: 0.4204  | train_auc: 0.90032 | train_logloss: 0.4008  | train_accuracy: 0.82127 | val_auc: 0.88765 | val_logloss: 0.42366 | val_accuracy: 0.80952 |  0:11:24s\n",
            "epoch 105| loss: 0.41706 | train_auc: 0.89844 | train_logloss: 0.40391 | train_accuracy: 0.81898 | val_auc: 0.88681 | val_logloss: 0.42483 | val_accuracy: 0.8085  |  0:11:30s\n",
            "epoch 106| loss: 0.41806 | train_auc: 0.90063 | train_logloss: 0.4004  | train_accuracy: 0.81965 | val_auc: 0.88676 | val_logloss: 0.42383 | val_accuracy: 0.80668 |  0:11:36s\n",
            "epoch 107| loss: 0.41429 | train_auc: 0.9013  | train_logloss: 0.39987 | train_accuracy: 0.82167 | val_auc: 0.8896  | val_logloss: 0.42137 | val_accuracy: 0.81065 |  0:11:42s\n",
            "epoch 108| loss: 0.41546 | train_auc: 0.90195 | train_logloss: 0.39682 | train_accuracy: 0.82275 | val_auc: 0.88889 | val_logloss: 0.42084 | val_accuracy: 0.81065 |  0:11:48s\n",
            "epoch 109| loss: 0.41413 | train_auc: 0.90063 | train_logloss: 0.39985 | train_accuracy: 0.82108 | val_auc: 0.88647 | val_logloss: 0.42529 | val_accuracy: 0.80611 |  0:11:53s\n",
            "epoch 110| loss: 0.41354 | train_auc: 0.90175 | train_logloss: 0.40111 | train_accuracy: 0.82007 | val_auc: 0.88776 | val_logloss: 0.42618 | val_accuracy: 0.80759 |  0:11:59s\n",
            "epoch 111| loss: 0.41865 | train_auc: 0.90348 | train_logloss: 0.39514 | train_accuracy: 0.82279 | val_auc: 0.89037 | val_logloss: 0.41791 | val_accuracy: 0.81304 |  0:12:05s\n",
            "epoch 112| loss: 0.41036 | train_auc: 0.90381 | train_logloss: 0.39416 | train_accuracy: 0.82293 | val_auc: 0.88721 | val_logloss: 0.42296 | val_accuracy: 0.81236 |  0:12:11s\n",
            "epoch 113| loss: 0.41036 | train_auc: 0.90268 | train_logloss: 0.39546 | train_accuracy: 0.82221 | val_auc: 0.88943 | val_logloss: 0.41984 | val_accuracy: 0.80884 |  0:12:16s\n",
            "epoch 114| loss: 0.40898 | train_auc: 0.90385 | train_logloss: 0.39359 | train_accuracy: 0.82491 | val_auc: 0.89007 | val_logloss: 0.42051 | val_accuracy: 0.81213 |  0:12:22s\n",
            "epoch 115| loss: 0.41441 | train_auc: 0.90393 | train_logloss: 0.39452 | train_accuracy: 0.82364 | val_auc: 0.89128 | val_logloss: 0.41675 | val_accuracy: 0.81031 |  0:12:28s\n",
            "epoch 116| loss: 0.41296 | train_auc: 0.9032  | train_logloss: 0.39841 | train_accuracy: 0.82402 | val_auc: 0.8882  | val_logloss: 0.42328 | val_accuracy: 0.81111 |  0:12:34s\n",
            "epoch 117| loss: 0.41139 | train_auc: 0.90549 | train_logloss: 0.39089 | train_accuracy: 0.82501 | val_auc: 0.89293 | val_logloss: 0.41367 | val_accuracy: 0.81372 |  0:12:40s\n",
            "epoch 118| loss: 0.41137 | train_auc: 0.90356 | train_logloss: 0.39423 | train_accuracy: 0.82298 | val_auc: 0.89097 | val_logloss: 0.41739 | val_accuracy: 0.81156 |  0:12:45s\n",
            "epoch 119| loss: 0.41185 | train_auc: 0.90306 | train_logloss: 0.39611 | train_accuracy: 0.82425 | val_auc: 0.89152 | val_logloss: 0.41667 | val_accuracy: 0.8119  |  0:12:51s\n",
            "epoch 120| loss: 0.41205 | train_auc: 0.90354 | train_logloss: 0.39393 | train_accuracy: 0.82422 | val_auc: 0.88978 | val_logloss: 0.41901 | val_accuracy: 0.80838 |  0:12:57s\n",
            "epoch 121| loss: 0.40728 | train_auc: 0.90438 | train_logloss: 0.39193 | train_accuracy: 0.82601 | val_auc: 0.893   | val_logloss: 0.41431 | val_accuracy: 0.81361 |  0:13:03s\n",
            "epoch 122| loss: 0.40919 | train_auc: 0.90399 | train_logloss: 0.40089 | train_accuracy: 0.82275 | val_auc: 0.89108 | val_logloss: 0.42757 | val_accuracy: 0.80668 |  0:13:09s\n",
            "epoch 123| loss: 0.40666 | train_auc: 0.90406 | train_logloss: 0.39292 | train_accuracy: 0.82591 | val_auc: 0.89064 | val_logloss: 0.41792 | val_accuracy: 0.81247 |  0:13:15s\n",
            "epoch 124| loss: 0.41153 | train_auc: 0.90451 | train_logloss: 0.39255 | train_accuracy: 0.82547 | val_auc: 0.89063 | val_logloss: 0.4185  | val_accuracy: 0.81531 |  0:13:21s\n",
            "epoch 125| loss: 0.40904 | train_auc: 0.90566 | train_logloss: 0.39021 | train_accuracy: 0.82732 | val_auc: 0.89426 | val_logloss: 0.4117  | val_accuracy: 0.81134 |  0:13:27s\n",
            "epoch 126| loss: 0.41011 | train_auc: 0.90704 | train_logloss: 0.38815 | train_accuracy: 0.82942 | val_auc: 0.89375 | val_logloss: 0.4116  | val_accuracy: 0.81565 |  0:13:33s\n",
            "epoch 127| loss: 0.40784 | train_auc: 0.90632 | train_logloss: 0.38845 | train_accuracy: 0.82834 | val_auc: 0.89147 | val_logloss: 0.41648 | val_accuracy: 0.81463 |  0:13:38s\n",
            "epoch 128| loss: 0.40436 | train_auc: 0.90436 | train_logloss: 0.39311 | train_accuracy: 0.82595 | val_auc: 0.88883 | val_logloss: 0.42304 | val_accuracy: 0.81293 |  0:13:44s\n",
            "epoch 129| loss: 0.407   | train_auc: 0.90527 | train_logloss: 0.39448 | train_accuracy: 0.82645 | val_auc: 0.88844 | val_logloss: 0.42674 | val_accuracy: 0.80668 |  0:13:50s\n",
            "epoch 130| loss: 0.41096 | train_auc: 0.90706 | train_logloss: 0.38828 | train_accuracy: 0.82919 | val_auc: 0.89298 | val_logloss: 0.41327 | val_accuracy: 0.81383 |  0:13:56s\n",
            "epoch 131| loss: 0.40585 | train_auc: 0.9082  | train_logloss: 0.38714 | train_accuracy: 0.82805 | val_auc: 0.89092 | val_logloss: 0.41814 | val_accuracy: 0.81224 |  0:14:01s\n",
            "epoch 132| loss: 0.4041  | train_auc: 0.90756 | train_logloss: 0.38729 | train_accuracy: 0.82884 | val_auc: 0.89037 | val_logloss: 0.41886 | val_accuracy: 0.81315 |  0:14:07s\n",
            "epoch 133| loss: 0.39879 | train_auc: 0.90855 | train_logloss: 0.38579 | train_accuracy: 0.82963 | val_auc: 0.89288 | val_logloss: 0.41414 | val_accuracy: 0.8144  |  0:14:13s\n",
            "epoch 134| loss: 0.40285 | train_auc: 0.90759 | train_logloss: 0.38686 | train_accuracy: 0.8293  | val_auc: 0.8924  | val_logloss: 0.41459 | val_accuracy: 0.81304 |  0:14:19s\n",
            "epoch 135| loss: 0.39956 | train_auc: 0.90895 | train_logloss: 0.38381 | train_accuracy: 0.83    | val_auc: 0.89309 | val_logloss: 0.4136  | val_accuracy: 0.81861 |  0:14:25s\n",
            "epoch 136| loss: 0.40216 | train_auc: 0.91088 | train_logloss: 0.38074 | train_accuracy: 0.83231 | val_auc: 0.89458 | val_logloss: 0.41085 | val_accuracy: 0.81804 |  0:14:31s\n",
            "epoch 137| loss: 0.39965 | train_auc: 0.91026 | train_logloss: 0.38212 | train_accuracy: 0.83233 | val_auc: 0.89368 | val_logloss: 0.4128  | val_accuracy: 0.81815 |  0:14:36s\n",
            "epoch 138| loss: 0.39828 | train_auc: 0.90818 | train_logloss: 0.38664 | train_accuracy: 0.82878 | val_auc: 0.89235 | val_logloss: 0.41612 | val_accuracy: 0.81145 |  0:14:42s\n",
            "epoch 139| loss: 0.40077 | train_auc: 0.9112  | train_logloss: 0.37923 | train_accuracy: 0.83362 | val_auc: 0.89487 | val_logloss: 0.41138 | val_accuracy: 0.82281 |  0:14:48s\n",
            "epoch 140| loss: 0.40087 | train_auc: 0.91039 | train_logloss: 0.38121 | train_accuracy: 0.832   | val_auc: 0.89404 | val_logloss: 0.41191 | val_accuracy: 0.81667 |  0:14:54s\n",
            "epoch 141| loss: 0.39717 | train_auc: 0.91108 | train_logloss: 0.38115 | train_accuracy: 0.8319  | val_auc: 0.89601 | val_logloss: 0.41148 | val_accuracy: 0.81565 |  0:15:00s\n",
            "epoch 142| loss: 0.40441 | train_auc: 0.91178 | train_logloss: 0.37908 | train_accuracy: 0.83478 | val_auc: 0.89337 | val_logloss: 0.41263 | val_accuracy: 0.81599 |  0:15:05s\n",
            "epoch 143| loss: 0.3992  | train_auc: 0.91124 | train_logloss: 0.38004 | train_accuracy: 0.83414 | val_auc: 0.89312 | val_logloss: 0.41422 | val_accuracy: 0.81383 |  0:15:11s\n",
            "epoch 144| loss: 0.39878 | train_auc: 0.9127  | train_logloss: 0.37595 | train_accuracy: 0.83643 | val_auc: 0.89543 | val_logloss: 0.41065 | val_accuracy: 0.8202  |  0:15:17s\n",
            "epoch 145| loss: 0.39885 | train_auc: 0.91081 | train_logloss: 0.38047 | train_accuracy: 0.83208 | val_auc: 0.89062 | val_logloss: 0.41931 | val_accuracy: 0.811   |  0:15:23s\n",
            "epoch 146| loss: 0.39671 | train_auc: 0.91237 | train_logloss: 0.37841 | train_accuracy: 0.8352  | val_auc: 0.89329 | val_logloss: 0.41368 | val_accuracy: 0.81758 |  0:15:29s\n",
            "epoch 147| loss: 0.39469 | train_auc: 0.91199 | train_logloss: 0.38015 | train_accuracy: 0.83408 | val_auc: 0.89516 | val_logloss: 0.41399 | val_accuracy: 0.81838 |  0:15:34s\n",
            "epoch 148| loss: 0.39536 | train_auc: 0.91335 | train_logloss: 0.37527 | train_accuracy: 0.83503 | val_auc: 0.89639 | val_logloss: 0.40896 | val_accuracy: 0.81747 |  0:15:40s\n",
            "epoch 149| loss: 0.39409 | train_auc: 0.91305 | train_logloss: 0.3775  | train_accuracy: 0.83406 | val_auc: 0.89647 | val_logloss: 0.40871 | val_accuracy: 0.82008 |  0:15:46s\n",
            "epoch 150| loss: 0.39652 | train_auc: 0.9088  | train_logloss: 0.38731 | train_accuracy: 0.8283  | val_auc: 0.89251 | val_logloss: 0.41806 | val_accuracy: 0.81599 |  0:15:52s\n",
            "epoch 151| loss: 0.39831 | train_auc: 0.91253 | train_logloss: 0.37981 | train_accuracy: 0.83323 | val_auc: 0.89449 | val_logloss: 0.41584 | val_accuracy: 0.81497 |  0:15:58s\n",
            "epoch 152| loss: 0.39945 | train_auc: 0.91168 | train_logloss: 0.38078 | train_accuracy: 0.83339 | val_auc: 0.89109 | val_logloss: 0.41735 | val_accuracy: 0.81281 |  0:16:04s\n",
            "epoch 153| loss: 0.39433 | train_auc: 0.9132  | train_logloss: 0.37636 | train_accuracy: 0.83541 | val_auc: 0.8941  | val_logloss: 0.414   | val_accuracy: 0.82156 |  0:16:10s\n",
            "epoch 154| loss: 0.38753 | train_auc: 0.91368 | train_logloss: 0.37383 | train_accuracy: 0.83445 | val_auc: 0.89373 | val_logloss: 0.41537 | val_accuracy: 0.81542 |  0:16:15s\n",
            "epoch 155| loss: 0.39119 | train_auc: 0.91489 | train_logloss: 0.37342 | train_accuracy: 0.83801 | val_auc: 0.89462 | val_logloss: 0.41357 | val_accuracy: 0.81906 |  0:16:21s\n",
            "epoch 156| loss: 0.39025 | train_auc: 0.91383 | train_logloss: 0.37535 | train_accuracy: 0.83684 | val_auc: 0.89538 | val_logloss: 0.41435 | val_accuracy: 0.81622 |  0:16:27s\n",
            "epoch 157| loss: 0.39509 | train_auc: 0.91698 | train_logloss: 0.3691  | train_accuracy: 0.83984 | val_auc: 0.89775 | val_logloss: 0.4081  | val_accuracy: 0.81872 |  0:16:33s\n",
            "epoch 158| loss: 0.39575 | train_auc: 0.91567 | train_logloss: 0.36951 | train_accuracy: 0.8395  | val_auc: 0.89517 | val_logloss: 0.41082 | val_accuracy: 0.81974 |  0:16:39s\n",
            "epoch 159| loss: 0.39399 | train_auc: 0.91426 | train_logloss: 0.37385 | train_accuracy: 0.8363  | val_auc: 0.89498 | val_logloss: 0.41137 | val_accuracy: 0.81656 |  0:16:45s\n",
            "epoch 160| loss: 0.3973  | train_auc: 0.91425 | train_logloss: 0.3743  | train_accuracy: 0.83724 | val_auc: 0.89459 | val_logloss: 0.41438 | val_accuracy: 0.81838 |  0:16:51s\n",
            "epoch 161| loss: 0.39763 | train_auc: 0.91528 | train_logloss: 0.37464 | train_accuracy: 0.83786 | val_auc: 0.89508 | val_logloss: 0.41127 | val_accuracy: 0.8202  |  0:16:57s\n",
            "epoch 162| loss: 0.39408 | train_auc: 0.91729 | train_logloss: 0.37019 | train_accuracy: 0.83876 | val_auc: 0.89641 | val_logloss: 0.40929 | val_accuracy: 0.81963 |  0:17:02s\n",
            "epoch 163| loss: 0.39456 | train_auc: 0.91417 | train_logloss: 0.37421 | train_accuracy: 0.83701 | val_auc: 0.89396 | val_logloss: 0.41686 | val_accuracy: 0.82031 |  0:17:08s\n",
            "epoch 164| loss: 0.38961 | train_auc: 0.91604 | train_logloss: 0.36876 | train_accuracy: 0.84142 | val_auc: 0.89727 | val_logloss: 0.4066  | val_accuracy: 0.82042 |  0:17:14s\n",
            "epoch 165| loss: 0.39209 | train_auc: 0.91719 | train_logloss: 0.3686  | train_accuracy: 0.83986 | val_auc: 0.89709 | val_logloss: 0.41014 | val_accuracy: 0.82167 |  0:17:20s\n",
            "epoch 166| loss: 0.39073 | train_auc: 0.91725 | train_logloss: 0.3661  | train_accuracy: 0.84025 | val_auc: 0.8967  | val_logloss: 0.40915 | val_accuracy: 0.81826 |  0:17:25s\n",
            "epoch 167| loss: 0.39327 | train_auc: 0.91643 | train_logloss: 0.36889 | train_accuracy: 0.83963 | val_auc: 0.89729 | val_logloss: 0.4064  | val_accuracy: 0.82031 |  0:17:31s\n",
            "epoch 168| loss: 0.38875 | train_auc: 0.91616 | train_logloss: 0.37163 | train_accuracy: 0.83786 | val_auc: 0.8947  | val_logloss: 0.41348 | val_accuracy: 0.81906 |  0:17:37s\n",
            "epoch 169| loss: 0.3938  | train_auc: 0.91759 | train_logloss: 0.3695  | train_accuracy: 0.83911 | val_auc: 0.89729 | val_logloss: 0.40798 | val_accuracy: 0.81963 |  0:17:43s\n",
            "\n",
            "Early stopping occured at epoch 169 with best_epoch = 139 and best_val_accuracy = 0.82281\n",
            "Best weights from best epoch are automatically used!\n"
          ]
        }
      ],
      "source": [
        "training(X_train3, X_valid3, y_train3, y_valid3, 'train3', 'val3', clf3)"
      ]
    },
    {
      "cell_type": "code",
      "execution_count": null,
      "metadata": {
        "colab": {
          "base_uri": "https://localhost:8080/",
          "height": 300
        },
        "id": "olSL3oA2hHGH",
        "outputId": "ec8e4760-cd70-450c-c6fa-0e6ddc5d93e1"
      },
      "outputs": [
        {
          "data": {
            "text/plain": [
              "Text(0.5, 1.0, 'Loss for HAWH')"
            ]
          },
          "execution_count": 49,
          "metadata": {},
          "output_type": "execute_result"
        },
        {
          "data": {
            "image/png": "[encoded data removed]",
            "text/plain": [
              "<Figure size 432x288 with 1 Axes>"
            ]
          },
          "metadata": {},
          "output_type": "display_data"
        }
      ],
      "source": [
        "# plot losses\n",
        "plt.plot(clf2.history['loss'])\n",
        "plt.title('Loss for HAWH')"
      ]
    },
    {
      "cell_type": "code",
      "execution_count": null,
      "metadata": {
        "colab": {
          "base_uri": "https://localhost:8080/"
        },
        "id": "jJHM0s5qhHGI",
        "outputId": "9a87fc6c-746e-4c76-cd89-1ed07c79be5c"
      },
      "outputs": [
        {
          "name": "stdout",
          "output_type": "stream",
          "text": [
            "FINAL VALID AUC_SCORE: 0.8972858138251735\n",
            "FINAL VALID ACCURACY_SCORE: 0.8196274420717855\n",
            "FINAL TEST ACCURACY_SCORE: 0.8122439690487028\n",
            "FINAL TEST AUC_SCORE: 0.8918147046107916\n"
          ]
        }
      ],
      "source": [
        "test_model(X_test3, y_test3, X_valid3, y_valid3, clf3)"
      ]
    },
    {
      "cell_type": "code",
      "execution_count": null,
      "metadata": {
        "colab": {
          "base_uri": "https://localhost:8080/"
        },
        "id": "lT6J1DbyhHGI",
        "outputId": "b7a88947-d070-4503-d195-ac9c66d36516"
      },
      "outputs": [
        {
          "name": "stdout",
          "output_type": "stream",
          "text": [
            "FINAL VALID AUC_SCORE: 0.8972858138251735\n",
            "FINAL VALID ACCURACY_SCORE: 0.8196274420717855\n",
            "FINAL TEST ACCURACY_SCORE: 0.8336191448775506\n",
            "FINAL TEST AUC_SCORE: 0.9111982438171803\n"
          ]
        }
      ],
      "source": [
        "test_model(X_train3, y_train3, X_valid3, y_valid3, clf3)"
      ]
    },
    {
      "cell_type": "code",
      "execution_count": null,
      "metadata": {
        "colab": {
          "base_uri": "https://localhost:8080/",
          "height": 300
        },
        "id": "8r-F7MnJhHGJ",
        "outputId": "2572e0f5-f443-40ef-eb1d-3c42b7cc789c"
      },
      "outputs": [
        {
          "data": {
            "text/plain": [
              "Text(0.5, 1.0, 'Accuracies for HAWH')"
            ]
          },
          "execution_count": 52,
          "metadata": {},
          "output_type": "execute_result"
        },
        {
          "data": {
            "image/png": "[encoded data removed]",
            "text/plain": [
              "<Figure size 432x288 with 1 Axes>"
            ]
          },
          "metadata": {},
          "output_type": "display_data"
        }
      ],
      "source": [
        "plt.plot(clf2.history['train_accuracy'])\n",
        "plt.plot(clf2.history['val_accuracy'])\n",
        "plt.title('Accuracies for HAWH')"
      ]
    },
    {
      "cell_type": "code",
      "execution_count": null,
      "metadata": {
        "colab": {
          "base_uri": "https://localhost:8080/",
          "height": 300
        },
        "id": "LivZb_hIhHGJ",
        "outputId": "f24c4680-5d87-4390-c4e1-f950898a5421"
      },
      "outputs": [
        {
          "data": {
            "text/plain": [
              "Text(0.5, 1.0, 'Learning rates for HAWH')"
            ]
          },
          "execution_count": 53,
          "metadata": {},
          "output_type": "execute_result"
        },
        {
          "data": {
            "image/png": "[encoded data removed]",
            "text/plain": [
              "<Figure size 432x288 with 1 Axes>"
            ]
          },
          "metadata": {},
          "output_type": "display_data"
        }
      ],
      "source": [
        "# plot learning rates\n",
        "plt.plot(clf2.history['lr'])\n",
        "plt.title('Learning rates for HAWH')"
      ]
    },
    {
      "cell_type": "code",
      "execution_count": null,
      "metadata": {
        "colab": {
          "base_uri": "https://localhost:8080/",
          "height": 300
        },
        "id": "qMPFtEGThHGK",
        "outputId": "81c57924-9aaf-4f58-c211-2a560c5caa58"
      },
      "outputs": [
        {
          "data": {
            "text/plain": [
              "Text(0.5, 1.0, 'Area under the curves for HAWH')"
            ]
          },
          "execution_count": 54,
          "metadata": {},
          "output_type": "execute_result"
        },
        {
          "data": {
            "image/png": "[encoded data removed]",
            "text/plain": [
              "<Figure size 432x288 with 1 Axes>"
            ]
          },
          "metadata": {},
          "output_type": "display_data"
        }
      ],
      "source": [
        "plt.plot(clf2.history['train_auc'])\n",
        "plt.plot(clf2.history['val_auc'])\n",
        "plt.title('Area under the curves for HAWH')"
      ]
    },
    {
      "cell_type": "code",
      "execution_count": null,
      "metadata": {
        "id": "4GMJ_1YnhHGK"
      },
      "outputs": [],
      "source": [
        "# # save tabnet model \n",
        "# saving_path_name = \"/content/models/tabnet_WA_bs=2048\"\n",
        "# saved_filepath = clf2.save_model(saving_path_name)"
      ]
    },
    {
      "cell_type": "code",
      "execution_count": null,
      "metadata": {
        "id": "9Qd5DACnhHGL"
      },
      "outputs": [],
      "source": []
    },
    {
      "cell_type": "markdown",
      "metadata": {
        "id": "BuvweU2EjFyp"
      },
      "source": [
        "## 15-16"
      ]
    },
    {
      "cell_type": "markdown",
      "metadata": {
        "id": "WXGga_BZjFyq"
      },
      "source": [
        "### Data"
      ]
    },
    {
      "cell_type": "code",
      "execution_count": null,
      "metadata": {
        "id": "9gF-DhbvjFyq"
      },
      "outputs": [],
      "source": [
        "df1 = pd.read_csv('15-16_Balanced_Stunting.csv')\n",
        "df2 = pd.read_csv('15-16_Balanced_Wasting.csv')\n",
        "df3 = pd.read_csv('15-16_Balanced_Stunted_Wasting.csv')"
      ]
    },
    {
      "cell_type": "code",
      "execution_count": null,
      "metadata": {
        "id": "cre5RaVmpE_S"
      },
      "outputs": [],
      "source": [
        "df1 = df1.drop(['Unnamed: 0'], axis =1)\n",
        "df2 = df2.drop(['Unnamed: 0'], axis = 1)\n",
        "df3 = df3.drop(['Unnamed: 0'], axis =1)"
      ]
    },
    {
      "cell_type": "code",
      "execution_count": null,
      "metadata": {
        "id": "kebBYXAyjFyr"
      },
      "outputs": [],
      "source": [
        "train1_indices, valid1_indices, test1_indices = split_traindata(df1)\n",
        "train2_indices, valid2_indices, test2_indices = split_traindata(df2)\n",
        "train3_indices, valid3_indices, test3_indices = split_traindata(df3)"
      ]
    },
    {
      "cell_type": "code",
      "execution_count": null,
      "metadata": {
        "colab": {
          "base_uri": "https://localhost:8080/"
        },
        "id": "lOsNN3iRjFyr",
        "outputId": "7380fbd0-32d3-401d-ea22-a096cd766feb"
      },
      "outputs": [
        {
          "name": "stdout",
          "output_type": "stream",
          "text": [
            "State                           6\n",
            "Area                            2\n",
            "Religion                        5\n",
            "caste                           4\n",
            "mothers education               4\n",
            "source of water                 2\n",
            "toilet facility                 2\n",
            "no of members                  36\n",
            "no of living children          13\n",
            "mothers age(at first birth)     4\n",
            "sex of household head           2\n",
            "wealth index                    5\n",
            "initiaion of bf                 2\n",
            "sex of child                    2\n",
            "months of bf                    2\n",
            "mothers bmi                     3\n",
            "child's age                     7\n",
            "index to birth history          5\n",
            "birth weight                    3\n",
            "history of illness              2\n",
            "Exposure to mass media          2\n",
            "dietary score                  15\n",
            "immunization                    3\n",
            "H/A                             2\n",
            "Set                             3\n",
            "dtype: int64\n",
            "State                           int64\n",
            "Area                            int64\n",
            "Religion                        int64\n",
            "caste                           int64\n",
            "mothers education               int64\n",
            "source of water                 int64\n",
            "toilet facility                 int64\n",
            "no of members                   int64\n",
            "no of living children           int64\n",
            "mothers age(at first birth)     int64\n",
            "sex of household head           int64\n",
            "wealth index                    int64\n",
            "initiaion of bf                 int64\n",
            "sex of child                    int64\n",
            "months of bf                    int64\n",
            "mothers bmi                     int64\n",
            "child's age                     int64\n",
            "index to birth history          int64\n",
            "birth weight                    int64\n",
            "history of illness              int64\n",
            "Exposure to mass media          int64\n",
            "dietary score                   int64\n",
            "immunization                    int64\n",
            "H/A                             int64\n",
            "Set                            object\n",
            "dtype: object\n",
            "State 6\n",
            "Area 2\n",
            "Religion 5\n",
            "caste 4\n",
            "mothers education 4\n",
            "source of water 2\n",
            "toilet facility 2\n",
            "no of members 36\n",
            "no of living children 13\n",
            "mothers age(at first birth) 4\n",
            "sex of household head 2\n",
            "wealth index 5\n",
            "initiaion of bf 2\n",
            "sex of child 2\n",
            "months of bf 2\n",
            "mothers bmi 3\n",
            "child's age 7\n",
            "index to birth history 5\n",
            "birth weight 3\n",
            "history of illness 2\n",
            "Exposure to mass media 2\n",
            "dietary score 15\n",
            "immunization 3\n",
            "H/A 2\n",
            "Set 3\n",
            "State                           6\n",
            "Area                            2\n",
            "Religion                        5\n",
            "caste                           4\n",
            "mothers education               4\n",
            "source of water                 2\n",
            "toilet facility                 2\n",
            "no of members                  36\n",
            "no of living children          13\n",
            "mothers age(at first birth)     4\n",
            "sex of household head           2\n",
            "wealth index                    5\n",
            "initiaion of bf                 2\n",
            "sex of child                    2\n",
            "months of bf                    2\n",
            "mothers bmi                     3\n",
            "child's age                     7\n",
            "index to birth history          5\n",
            "birth weight                    3\n",
            "history of illness              2\n",
            "Exposure to mass media          2\n",
            "dietary score                  15\n",
            "immunization                    3\n",
            "W/H                             2\n",
            "Set                             3\n",
            "dtype: int64\n",
            "State                           int64\n",
            "Area                            int64\n",
            "Religion                        int64\n",
            "caste                           int64\n",
            "mothers education               int64\n",
            "source of water                 int64\n",
            "toilet facility                 int64\n",
            "no of members                   int64\n",
            "no of living children           int64\n",
            "mothers age(at first birth)     int64\n",
            "sex of household head           int64\n",
            "wealth index                    int64\n",
            "initiaion of bf                 int64\n",
            "sex of child                    int64\n",
            "months of bf                    int64\n",
            "mothers bmi                     int64\n",
            "child's age                     int64\n",
            "index to birth history          int64\n",
            "birth weight                    int64\n",
            "history of illness              int64\n",
            "Exposure to mass media          int64\n",
            "dietary score                   int64\n",
            "immunization                    int64\n",
            "W/H                             int64\n",
            "Set                            object\n",
            "dtype: object\n",
            "State 6\n",
            "Area 2\n",
            "Religion 5\n",
            "caste 4\n",
            "mothers education 4\n",
            "source of water 2\n",
            "toilet facility 2\n",
            "no of members 36\n",
            "no of living children 13\n",
            "mothers age(at first birth) 4\n",
            "sex of household head 2\n",
            "wealth index 5\n",
            "initiaion of bf 2\n",
            "sex of child 2\n",
            "months of bf 2\n",
            "mothers bmi 3\n",
            "child's age 7\n",
            "index to birth history 5\n",
            "birth weight 3\n",
            "history of illness 2\n",
            "Exposure to mass media 2\n",
            "dietary score 15\n",
            "immunization 3\n",
            "W/H 2\n",
            "Set 3\n",
            "State                           6\n",
            "Area                            2\n",
            "Religion                        5\n",
            "caste                           4\n",
            "mothers education               4\n",
            "source of water                 2\n",
            "toilet facility                 2\n",
            "no of members                  36\n",
            "no of living children          13\n",
            "mothers age(at first birth)     4\n",
            "sex of household head           2\n",
            "wealth index                    5\n",
            "initiaion of bf                 2\n",
            "sex of child                    2\n",
            "months of bf                    2\n",
            "mothers bmi                     3\n",
            "child's age                     7\n",
            "index to birth history          5\n",
            "birth weight                    3\n",
            "history of illness              2\n",
            "Exposure to mass media          2\n",
            "dietary score                  15\n",
            "immunization                    3\n",
            "HAWH                            2\n",
            "Set                             3\n",
            "dtype: int64\n",
            "State                           int64\n",
            "Area                            int64\n",
            "Religion                        int64\n",
            "caste                           int64\n",
            "mothers education               int64\n",
            "source of water                 int64\n",
            "toilet facility                 int64\n",
            "no of members                   int64\n",
            "no of living children           int64\n",
            "mothers age(at first birth)     int64\n",
            "sex of household head           int64\n",
            "wealth index                    int64\n",
            "initiaion of bf                 int64\n",
            "sex of child                    int64\n",
            "months of bf                    int64\n",
            "mothers bmi                     int64\n",
            "child's age                     int64\n",
            "index to birth history          int64\n",
            "birth weight                    int64\n",
            "history of illness              int64\n",
            "Exposure to mass media          int64\n",
            "dietary score                   int64\n",
            "immunization                    int64\n",
            "HAWH                            int64\n",
            "Set                            object\n",
            "dtype: object\n",
            "State 6\n",
            "Area 2\n",
            "Religion 5\n",
            "caste 4\n",
            "mothers education 4\n",
            "source of water 2\n",
            "toilet facility 2\n",
            "no of members 36\n",
            "no of living children 13\n",
            "mothers age(at first birth) 4\n",
            "sex of household head 2\n",
            "wealth index 5\n",
            "initiaion of bf 2\n",
            "sex of child 2\n",
            "months of bf 2\n",
            "mothers bmi 3\n",
            "child's age 7\n",
            "index to birth history 5\n",
            "birth weight 3\n",
            "history of illness 2\n",
            "Exposure to mass media 2\n",
            "dietary score 15\n",
            "immunization 3\n",
            "HAWH 2\n",
            "Set 3\n"
          ]
        }
      ],
      "source": [
        "categorical_columns1, categorical_dims1 = preprocess_data(df1, train1_indices)\n",
        "categorical_columns2, categorical_dims2 = preprocess_data(df2, train2_indices)\n",
        "categorical_columns3, categorical_dims3 = preprocess_data(df3, train3_indices)"
      ]
    },
    {
      "cell_type": "code",
      "execution_count": null,
      "metadata": {
        "id": "crgeE24WjFys"
      },
      "outputs": [],
      "source": [
        "features1, cat_idxs1, cat_dims1 = cat_features(df1, 'H/A', categorical_columns1, categorical_dims1)\n",
        "features2, cat_idxs2, cat_dims2 = cat_features(df2, 'W/H', categorical_columns2, categorical_dims2)\n",
        "features3, cat_idxs3, cat_dims3 = cat_features(df3, 'HAWH', categorical_columns3, categorical_dims3)"
      ]
    },
    {
      "cell_type": "code",
      "execution_count": null,
      "metadata": {
        "colab": {
          "base_uri": "https://localhost:8080/"
        },
        "id": "Qvw-awbMjFys",
        "outputId": "f7cf14b3-125e-4f2d-a4bf-5bd70f06a85d"
      },
      "outputs": [
        {
          "name": "stdout",
          "output_type": "stream",
          "text": [
            "Device used : cuda\n",
            "Device used : cuda\n",
            "Device used : cuda\n"
          ]
        }
      ],
      "source": [
        "clf1 = model(500, 1024, cat_idxs1, cat_dims1, df1)\n",
        "clf2 = model(500, 1024, cat_idxs2, cat_dims2, df2)\n",
        "clf3 = model(500, 1024, cat_idxs3, cat_dims3, df3)"
      ]
    },
    {
      "cell_type": "code",
      "execution_count": null,
      "metadata": {
        "id": "c3TIUKqvjFyt"
      },
      "outputs": [],
      "source": [
        "X_train1, X_valid1, X_test1, y_train1, y_valid1, y_test1 = final_data(df1, 'H/A', features1, train1_indices, valid1_indices, test1_indices)\n",
        "X_train2, X_valid2, X_test2, y_train2, y_valid2, y_test2 = final_data(df2, 'W/H', features2, train2_indices, valid2_indices, test2_indices)\n",
        "X_train3, X_valid3, X_test3, y_train3, y_valid3, y_test3 = final_data(df3, 'HAWH', features3, train3_indices, valid3_indices, test3_indices)"
      ]
    },
    {
      "cell_type": "markdown",
      "metadata": {
        "id": "fhDIfS9njFyt"
      },
      "source": [
        "###  H/A"
      ]
    },
    {
      "cell_type": "code",
      "execution_count": null,
      "metadata": {
        "colab": {
          "background_save": true,
          "base_uri": "https://localhost:8080/"
        },
        "id": "BFvMsY0kjFyu",
        "outputId": "e5691b12-1533-4ecd-898a-d13638f6c3bb"
      },
      "outputs": [
        {
          "name": "stdout",
          "output_type": "stream",
          "text": [
            "epoch 0  | loss: 0.79401 | train_auc: 0.52712 | train_logloss: 0.70417 | train_accuracy: 0.51911 | val_auc: 0.52388 | val_logloss: 0.70446 | val_accuracy: 0.5153  |  0:00:21s\n",
            "epoch 1  | loss: 0.69988 | train_auc: 0.573   | train_logloss: 0.68595 | train_accuracy: 0.55565 | val_auc: 0.57087 | val_logloss: 0.68609 | val_accuracy: 0.55344 |  0:00:44s\n",
            "epoch 2  | loss: 0.68841 | train_auc: 0.5911  | train_logloss: 0.68077 | train_accuracy: 0.56791 | val_auc: 0.59025 | val_logloss: 0.68099 | val_accuracy: 0.56669 |  0:01:17s\n",
            "epoch 3  | loss: 0.68252 | train_auc: 0.60415 | train_logloss: 0.67666 | train_accuracy: 0.576   | val_auc: 0.60241 | val_logloss: 0.67694 | val_accuracy: 0.573   |  0:01:39s\n",
            "epoch 4  | loss: 0.6799  | train_auc: 0.61275 | train_logloss: 0.67364 | train_accuracy: 0.58306 | val_auc: 0.61084 | val_logloss: 0.67419 | val_accuracy: 0.58171 |  0:02:01s\n",
            "epoch 5  | loss: 0.67581 | train_auc: 0.62131 | train_logloss: 0.67058 | train_accuracy: 0.58857 | val_auc: 0.61803 | val_logloss: 0.67193 | val_accuracy: 0.58657 |  0:02:23s\n",
            "epoch 6  | loss: 0.67222 | train_auc: 0.62786 | train_logloss: 0.66814 | train_accuracy: 0.59204 | val_auc: 0.62432 | val_logloss: 0.66954 | val_accuracy: 0.58861 |  0:02:45s\n",
            "epoch 7  | loss: 0.67156 | train_auc: 0.6323  | train_logloss: 0.6656  | train_accuracy: 0.59606 | val_auc: 0.62941 | val_logloss: 0.66697 | val_accuracy: 0.59528 |  0:03:07s\n",
            "epoch 8  | loss: 0.66922 | train_auc: 0.63702 | train_logloss: 0.66361 | train_accuracy: 0.59794 | val_auc: 0.6363  | val_logloss: 0.66435 | val_accuracy: 0.59905 |  0:03:28s\n",
            "epoch 9  | loss: 0.66763 | train_auc: 0.64093 | train_logloss: 0.66262 | train_accuracy: 0.59984 | val_auc: 0.6377  | val_logloss: 0.66413 | val_accuracy: 0.59845 |  0:03:51s\n",
            "epoch 10 | loss: 0.66536 | train_auc: 0.64436 | train_logloss: 0.66034 | train_accuracy: 0.60189 | val_auc: 0.64243 | val_logloss: 0.66144 | val_accuracy: 0.60307 |  0:04:13s\n",
            "epoch 11 | loss: 0.6636  | train_auc: 0.64855 | train_logloss: 0.65867 | train_accuracy: 0.60632 | val_auc: 0.64547 | val_logloss: 0.66008 | val_accuracy: 0.60324 |  0:04:34s\n",
            "epoch 12 | loss: 0.66267 | train_auc: 0.65417 | train_logloss: 0.65634 | train_accuracy: 0.61213 | val_auc: 0.65125 | val_logloss: 0.65749 | val_accuracy: 0.61213 |  0:04:57s\n",
            "epoch 13 | loss: 0.65902 | train_auc: 0.65858 | train_logloss: 0.65394 | train_accuracy: 0.61699 | val_auc: 0.65587 | val_logloss: 0.65528 | val_accuracy: 0.6153  |  0:05:19s\n",
            "epoch 14 | loss: 0.65761 | train_auc: 0.66374 | train_logloss: 0.65119 | train_accuracy: 0.62156 | val_auc: 0.66033 | val_logloss: 0.65261 | val_accuracy: 0.62076 |  0:05:40s\n",
            "epoch 15 | loss: 0.6554  | train_auc: 0.66685 | train_logloss: 0.64961 | train_accuracy: 0.62444 | val_auc: 0.66282 | val_logloss: 0.65169 | val_accuracy: 0.61914 |  0:06:02s\n",
            "epoch 16 | loss: 0.65225 | train_auc: 0.66995 | train_logloss: 0.64812 | train_accuracy: 0.62798 | val_auc: 0.66664 | val_logloss: 0.64981 | val_accuracy: 0.62429 |  0:06:23s\n",
            "epoch 17 | loss: 0.65165 | train_auc: 0.67352 | train_logloss: 0.64625 | train_accuracy: 0.63045 | val_auc: 0.66784 | val_logloss: 0.64938 | val_accuracy: 0.62566 |  0:06:44s\n",
            "epoch 18 | loss: 0.648   | train_auc: 0.67476 | train_logloss: 0.64516 | train_accuracy: 0.63142 | val_auc: 0.6717  | val_logloss: 0.64689 | val_accuracy: 0.62838 |  0:07:05s\n",
            "epoch 19 | loss: 0.64798 | train_auc: 0.67691 | train_logloss: 0.64363 | train_accuracy: 0.63257 | val_auc: 0.67453 | val_logloss: 0.64487 | val_accuracy: 0.6313  |  0:07:26s\n",
            "epoch 20 | loss: 0.64702 | train_auc: 0.67827 | train_logloss: 0.64287 | train_accuracy: 0.63277 | val_auc: 0.67602 | val_logloss: 0.64396 | val_accuracy: 0.62933 |  0:07:47s\n",
            "epoch 21 | loss: 0.64701 | train_auc: 0.67962 | train_logloss: 0.64225 | train_accuracy: 0.63476 | val_auc: 0.67663 | val_logloss: 0.64405 | val_accuracy: 0.63049 |  0:08:09s\n",
            "epoch 22 | loss: 0.64746 | train_auc: 0.68112 | train_logloss: 0.64109 | train_accuracy: 0.6348  | val_auc: 0.67908 | val_logloss: 0.64228 | val_accuracy: 0.63282 |  0:08:30s\n",
            "epoch 23 | loss: 0.64431 | train_auc: 0.68213 | train_logloss: 0.64066 | train_accuracy: 0.63616 | val_auc: 0.68145 | val_logloss: 0.64108 | val_accuracy: 0.63634 |  0:08:51s\n",
            "epoch 24 | loss: 0.64361 | train_auc: 0.68288 | train_logloss: 0.64033 | train_accuracy: 0.63702 | val_auc: 0.6812  | val_logloss: 0.64149 | val_accuracy: 0.63634 |  0:09:13s\n",
            "epoch 25 | loss: 0.64356 | train_auc: 0.68466 | train_logloss: 0.63948 | train_accuracy: 0.63773 | val_auc: 0.68259 | val_logloss: 0.6409  | val_accuracy: 0.63539 |  0:09:34s\n",
            "epoch 26 | loss: 0.642   | train_auc: 0.68545 | train_logloss: 0.63872 | train_accuracy: 0.63803 | val_auc: 0.68353 | val_logloss: 0.63992 | val_accuracy: 0.63581 |  0:09:55s\n",
            "epoch 27 | loss: 0.64145 | train_auc: 0.68696 | train_logloss: 0.63768 | train_accuracy: 0.64031 | val_auc: 0.68428 | val_logloss: 0.63927 | val_accuracy: 0.63641 |  0:10:16s\n",
            "epoch 28 | loss: 0.64054 | train_auc: 0.6875  | train_logloss: 0.63792 | train_accuracy: 0.63985 | val_auc: 0.68412 | val_logloss: 0.64004 | val_accuracy: 0.63733 |  0:10:36s\n",
            "epoch 29 | loss: 0.64117 | train_auc: 0.68844 | train_logloss: 0.63687 | train_accuracy: 0.64143 | val_auc: 0.68516 | val_logloss: 0.63906 | val_accuracy: 0.63803 |  0:10:57s\n",
            "epoch 30 | loss: 0.64102 | train_auc: 0.68903 | train_logloss: 0.63654 | train_accuracy: 0.64138 | val_auc: 0.68478 | val_logloss: 0.63921 | val_accuracy: 0.63775 |  0:11:19s\n",
            "epoch 31 | loss: 0.63889 | train_auc: 0.68983 | train_logloss: 0.63616 | train_accuracy: 0.64232 | val_auc: 0.687   | val_logloss: 0.63787 | val_accuracy: 0.63789 |  0:11:40s\n",
            "epoch 32 | loss: 0.6394  | train_auc: 0.68929 | train_logloss: 0.63699 | train_accuracy: 0.64086 | val_auc: 0.68634 | val_logloss: 0.63878 | val_accuracy: 0.63793 |  0:12:01s\n",
            "epoch 33 | loss: 0.63977 | train_auc: 0.69062 | train_logloss: 0.63559 | train_accuracy: 0.64269 | val_auc: 0.68578 | val_logloss: 0.63876 | val_accuracy: 0.63655 |  0:12:22s\n",
            "epoch 34 | loss: 0.6391  | train_auc: 0.69149 | train_logloss: 0.6352  | train_accuracy: 0.64205 | val_auc: 0.68826 | val_logloss: 0.63711 | val_accuracy: 0.63673 |  0:12:43s\n",
            "epoch 35 | loss: 0.64025 | train_auc: 0.69246 | train_logloss: 0.63466 | train_accuracy: 0.64351 | val_auc: 0.69035 | val_logloss: 0.6362  | val_accuracy: 0.64061 |  0:13:04s\n",
            "epoch 36 | loss: 0.63765 | train_auc: 0.69191 | train_logloss: 0.6347  | train_accuracy: 0.64336 | val_auc: 0.68932 | val_logloss: 0.63669 | val_accuracy: 0.64159 |  0:13:25s\n",
            "epoch 37 | loss: 0.63743 | train_auc: 0.69278 | train_logloss: 0.63503 | train_accuracy: 0.64391 | val_auc: 0.69026 | val_logloss: 0.63675 | val_accuracy: 0.64043 |  0:13:47s\n",
            "epoch 38 | loss: 0.63681 | train_auc: 0.69441 | train_logloss: 0.63337 | train_accuracy: 0.64459 | val_auc: 0.69092 | val_logloss: 0.63572 | val_accuracy: 0.63877 |  0:14:08s\n",
            "epoch 39 | loss: 0.63446 | train_auc: 0.69465 | train_logloss: 0.63409 | train_accuracy: 0.645   | val_auc: 0.69223 | val_logloss: 0.63606 | val_accuracy: 0.64188 |  0:14:29s\n",
            "epoch 40 | loss: 0.63618 | train_auc: 0.69547 | train_logloss: 0.63279 | train_accuracy: 0.64493 | val_auc: 0.69302 | val_logloss: 0.63453 | val_accuracy: 0.63951 |  0:14:51s\n",
            "epoch 41 | loss: 0.63414 | train_auc: 0.6953  | train_logloss: 0.63336 | train_accuracy: 0.64528 | val_auc: 0.69234 | val_logloss: 0.63554 | val_accuracy: 0.64092 |  0:15:12s\n",
            "epoch 42 | loss: 0.6345  | train_auc: 0.69568 | train_logloss: 0.63277 | train_accuracy: 0.64531 | val_auc: 0.692   | val_logloss: 0.63506 | val_accuracy: 0.64177 |  0:15:33s\n",
            "epoch 43 | loss: 0.63566 | train_auc: 0.69692 | train_logloss: 0.63238 | train_accuracy: 0.64545 | val_auc: 0.69268 | val_logloss: 0.63503 | val_accuracy: 0.64145 |  0:15:53s\n",
            "epoch 44 | loss: 0.63476 | train_auc: 0.69683 | train_logloss: 0.63174 | train_accuracy: 0.64573 | val_auc: 0.6927  | val_logloss: 0.63433 | val_accuracy: 0.64036 |  0:16:15s\n",
            "epoch 45 | loss: 0.63432 | train_auc: 0.69728 | train_logloss: 0.6324  | train_accuracy: 0.64513 | val_auc: 0.69344 | val_logloss: 0.6348  | val_accuracy: 0.64173 |  0:16:36s\n",
            "epoch 46 | loss: 0.63481 | train_auc: 0.69677 | train_logloss: 0.63181 | train_accuracy: 0.64565 | val_auc: 0.69287 | val_logloss: 0.63419 | val_accuracy: 0.64244 |  0:16:58s\n",
            "epoch 47 | loss: 0.63401 | train_auc: 0.69782 | train_logloss: 0.63149 | train_accuracy: 0.64528 | val_auc: 0.69491 | val_logloss: 0.63372 | val_accuracy: 0.64381 |  0:17:19s\n",
            "epoch 48 | loss: 0.63342 | train_auc: 0.69823 | train_logloss: 0.63204 | train_accuracy: 0.64568 | val_auc: 0.69529 | val_logloss: 0.63405 | val_accuracy: 0.64452 |  0:17:40s\n",
            "epoch 49 | loss: 0.63323 | train_auc: 0.69942 | train_logloss: 0.62997 | train_accuracy: 0.64749 | val_auc: 0.6959  | val_logloss: 0.63223 | val_accuracy: 0.64413 |  0:18:01s\n",
            "epoch 50 | loss: 0.63335 | train_auc: 0.69945 | train_logloss: 0.63035 | train_accuracy: 0.64709 | val_auc: 0.69714 | val_logloss: 0.63168 | val_accuracy: 0.64505 |  0:18:22s\n",
            "epoch 51 | loss: 0.6329  | train_auc: 0.69841 | train_logloss: 0.63085 | train_accuracy: 0.64837 | val_auc: 0.69556 | val_logloss: 0.63255 | val_accuracy: 0.64487 |  0:18:44s\n",
            "epoch 52 | loss: 0.6342  | train_auc: 0.69915 | train_logloss: 0.63082 | train_accuracy: 0.64813 | val_auc: 0.69575 | val_logloss: 0.63316 | val_accuracy: 0.64547 |  0:19:06s\n",
            "epoch 53 | loss: 0.63102 | train_auc: 0.70019 | train_logloss: 0.63009 | train_accuracy: 0.64876 | val_auc: 0.69872 | val_logloss: 0.63126 | val_accuracy: 0.64864 |  0:19:27s\n",
            "epoch 54 | loss: 0.63139 | train_auc: 0.70056 | train_logloss: 0.62966 | train_accuracy: 0.64936 | val_auc: 0.69862 | val_logloss: 0.63066 | val_accuracy: 0.64755 |  0:19:48s\n",
            "epoch 55 | loss: 0.63301 | train_auc: 0.70064 | train_logloss: 0.62953 | train_accuracy: 0.64886 | val_auc: 0.69777 | val_logloss: 0.63129 | val_accuracy: 0.64836 |  0:20:09s\n",
            "epoch 56 | loss: 0.63192 | train_auc: 0.70154 | train_logloss: 0.62858 | train_accuracy: 0.65024 | val_auc: 0.69862 | val_logloss: 0.63046 | val_accuracy: 0.64727 |  0:20:31s\n",
            "epoch 57 | loss: 0.63233 | train_auc: 0.70145 | train_logloss: 0.62892 | train_accuracy: 0.65054 | val_auc: 0.69784 | val_logloss: 0.63115 | val_accuracy: 0.64618 |  0:20:52s\n",
            "epoch 58 | loss: 0.63224 | train_auc: 0.70077 | train_logloss: 0.62926 | train_accuracy: 0.6491  | val_auc: 0.69826 | val_logloss: 0.63097 | val_accuracy: 0.64589 |  0:21:13s\n",
            "epoch 59 | loss: 0.63083 | train_auc: 0.70013 | train_logloss: 0.63032 | train_accuracy: 0.6489  | val_auc: 0.69729 | val_logloss: 0.63216 | val_accuracy: 0.64607 |  0:21:33s\n",
            "epoch 60 | loss: 0.63263 | train_auc: 0.70148 | train_logloss: 0.62917 | train_accuracy: 0.64961 | val_auc: 0.6985  | val_logloss: 0.63113 | val_accuracy: 0.64692 |  0:21:55s\n",
            "epoch 61 | loss: 0.63195 | train_auc: 0.70228 | train_logloss: 0.62866 | train_accuracy: 0.64991 | val_auc: 0.69918 | val_logloss: 0.63032 | val_accuracy: 0.64625 |  0:22:16s\n",
            "epoch 62 | loss: 0.63149 | train_auc: 0.70102 | train_logloss: 0.62941 | train_accuracy: 0.64964 | val_auc: 0.69818 | val_logloss: 0.63105 | val_accuracy: 0.64625 |  0:22:36s\n",
            "epoch 63 | loss: 0.63359 | train_auc: 0.69793 | train_logloss: 0.63105 | train_accuracy: 0.64626 | val_auc: 0.69639 | val_logloss: 0.63193 | val_accuracy: 0.64589 |  0:22:57s\n",
            "epoch 64 | loss: 0.63378 | train_auc: 0.69993 | train_logloss: 0.63057 | train_accuracy: 0.6488  | val_auc: 0.69684 | val_logloss: 0.63264 | val_accuracy: 0.64621 |  0:23:18s\n",
            "epoch 65 | loss: 0.63342 | train_auc: 0.69921 | train_logloss: 0.63038 | train_accuracy: 0.6488  | val_auc: 0.69608 | val_logloss: 0.63231 | val_accuracy: 0.64755 |  0:23:39s\n",
            "epoch 66 | loss: 0.63195 | train_auc: 0.70119 | train_logloss: 0.62892 | train_accuracy: 0.65    | val_auc: 0.69876 | val_logloss: 0.63095 | val_accuracy: 0.64896 |  0:23:59s\n",
            "epoch 67 | loss: 0.63238 | train_auc: 0.7002  | train_logloss: 0.62962 | train_accuracy: 0.64914 | val_auc: 0.69667 | val_logloss: 0.63208 | val_accuracy: 0.64663 |  0:24:20s\n",
            "epoch 68 | loss: 0.63261 | train_auc: 0.69983 | train_logloss: 0.63    | train_accuracy: 0.64883 | val_auc: 0.69812 | val_logloss: 0.63093 | val_accuracy: 0.6479  |  0:24:41s\n",
            "epoch 69 | loss: 0.63212 | train_auc: 0.70045 | train_logloss: 0.62953 | train_accuracy: 0.64923 | val_auc: 0.69876 | val_logloss: 0.63049 | val_accuracy: 0.64804 |  0:25:01s\n",
            "epoch 70 | loss: 0.63088 | train_auc: 0.70093 | train_logloss: 0.6295  | train_accuracy: 0.64857 | val_auc: 0.6992  | val_logloss: 0.63037 | val_accuracy: 0.64741 |  0:25:21s\n",
            "epoch 71 | loss: 0.63066 | train_auc: 0.70174 | train_logloss: 0.62847 | train_accuracy: 0.65064 | val_auc: 0.6999  | val_logloss: 0.62926 | val_accuracy: 0.64938 |  0:25:42s\n",
            "epoch 72 | loss: 0.6318  | train_auc: 0.6996  | train_logloss: 0.63075 | train_accuracy: 0.64832 | val_auc: 0.69856 | val_logloss: 0.63095 | val_accuracy: 0.64544 |  0:26:03s\n",
            "epoch 73 | loss: 0.63152 | train_auc: 0.70136 | train_logloss: 0.62873 | train_accuracy: 0.65113 | val_auc: 0.69976 | val_logloss: 0.62932 | val_accuracy: 0.64818 |  0:26:24s\n",
            "epoch 74 | loss: 0.63071 | train_auc: 0.70055 | train_logloss: 0.62916 | train_accuracy: 0.64936 | val_auc: 0.69918 | val_logloss: 0.63004 | val_accuracy: 0.64892 |  0:26:44s\n",
            "epoch 75 | loss: 0.63078 | train_auc: 0.70215 | train_logloss: 0.62811 | train_accuracy: 0.65041 | val_auc: 0.69988 | val_logloss: 0.62936 | val_accuracy: 0.64861 |  0:27:05s\n",
            "epoch 76 | loss: 0.63217 | train_auc: 0.70263 | train_logloss: 0.62839 | train_accuracy: 0.64867 | val_auc: 0.70046 | val_logloss: 0.62929 | val_accuracy: 0.64759 |  0:27:25s\n",
            "epoch 77 | loss: 0.63012 | train_auc: 0.70028 | train_logloss: 0.63064 | train_accuracy: 0.64763 | val_auc: 0.69915 | val_logloss: 0.6312  | val_accuracy: 0.64688 |  0:27:46s\n",
            "epoch 78 | loss: 0.62943 | train_auc: 0.70205 | train_logloss: 0.62825 | train_accuracy: 0.64926 | val_auc: 0.69989 | val_logloss: 0.62938 | val_accuracy: 0.64847 |  0:28:06s\n",
            "epoch 79 | loss: 0.63091 | train_auc: 0.70185 | train_logloss: 0.62881 | train_accuracy: 0.64926 | val_auc: 0.70034 | val_logloss: 0.6298  | val_accuracy: 0.65083 |  0:28:28s\n",
            "epoch 80 | loss: 0.63189 | train_auc: 0.6977  | train_logloss: 0.63253 | train_accuracy: 0.64499 | val_auc: 0.69484 | val_logloss: 0.63454 | val_accuracy: 0.64455 |  0:28:49s\n",
            "epoch 81 | loss: 0.63305 | train_auc: 0.69938 | train_logloss: 0.63027 | train_accuracy: 0.64826 | val_auc: 0.69808 | val_logloss: 0.63098 | val_accuracy: 0.64804 |  0:29:09s\n",
            "epoch 82 | loss: 0.63336 | train_auc: 0.69833 | train_logloss: 0.63106 | train_accuracy: 0.6468  | val_auc: 0.69642 | val_logloss: 0.63215 | val_accuracy: 0.64547 |  0:29:30s\n",
            "epoch 83 | loss: 0.63308 | train_auc: 0.69782 | train_logloss: 0.6313  | train_accuracy: 0.647   | val_auc: 0.69578 | val_logloss: 0.63257 | val_accuracy: 0.64491 |  0:29:51s\n",
            "epoch 84 | loss: 0.63262 | train_auc: 0.69812 | train_logloss: 0.63138 | train_accuracy: 0.64669 | val_auc: 0.69619 | val_logloss: 0.6327  | val_accuracy: 0.64279 |  0:30:11s\n",
            "epoch 85 | loss: 0.63305 | train_auc: 0.70166 | train_logloss: 0.62885 | train_accuracy: 0.65086 | val_auc: 0.70058 | val_logloss: 0.62953 | val_accuracy: 0.65002 |  0:30:32s\n",
            "epoch 86 | loss: 0.63158 | train_auc: 0.70156 | train_logloss: 0.6286  | train_accuracy: 0.65033 | val_auc: 0.69922 | val_logloss: 0.63001 | val_accuracy: 0.64787 |  0:30:53s\n",
            "epoch 87 | loss: 0.62993 | train_auc: 0.70265 | train_logloss: 0.62849 | train_accuracy: 0.64981 | val_auc: 0.70043 | val_logloss: 0.62999 | val_accuracy: 0.64723 |  0:31:13s\n",
            "epoch 88 | loss: 0.63006 | train_auc: 0.70269 | train_logloss: 0.62807 | train_accuracy: 0.65097 | val_auc: 0.70098 | val_logloss: 0.62889 | val_accuracy: 0.64826 |  0:31:34s\n",
            "epoch 89 | loss: 0.6301  | train_auc: 0.70221 | train_logloss: 0.62845 | train_accuracy: 0.64992 | val_auc: 0.7005  | val_logloss: 0.62938 | val_accuracy: 0.64787 |  0:31:55s\n",
            "epoch 90 | loss: 0.63142 | train_auc: 0.70199 | train_logloss: 0.62854 | train_accuracy: 0.64984 | val_auc: 0.7005  | val_logloss: 0.62934 | val_accuracy: 0.64974 |  0:32:15s\n",
            "epoch 91 | loss: 0.62911 | train_auc: 0.70364 | train_logloss: 0.62793 | train_accuracy: 0.6504  | val_auc: 0.70075 | val_logloss: 0.62958 | val_accuracy: 0.64861 |  0:32:36s\n",
            "epoch 92 | loss: 0.63086 | train_auc: 0.70351 | train_logloss: 0.62758 | train_accuracy: 0.65182 | val_auc: 0.70172 | val_logloss: 0.62865 | val_accuracy: 0.65065 |  0:32:56s\n",
            "epoch 93 | loss: 0.62997 | train_auc: 0.7032  | train_logloss: 0.62837 | train_accuracy: 0.65011 | val_auc: 0.70077 | val_logloss: 0.62966 | val_accuracy: 0.64889 |  0:33:16s\n",
            "epoch 94 | loss: 0.63044 | train_auc: 0.70243 | train_logloss: 0.62829 | train_accuracy: 0.65148 | val_auc: 0.70091 | val_logloss: 0.62914 | val_accuracy: 0.64984 |  0:33:37s\n",
            "epoch 95 | loss: 0.63019 | train_auc: 0.70357 | train_logloss: 0.62749 | train_accuracy: 0.65134 | val_auc: 0.70181 | val_logloss: 0.62838 | val_accuracy: 0.65012 |  0:33:57s\n",
            "epoch 96 | loss: 0.62952 | train_auc: 0.69712 | train_logloss: 0.63126 | train_accuracy: 0.64583 | val_auc: 0.6953  | val_logloss: 0.63244 | val_accuracy: 0.64568 |  0:34:18s\n",
            "epoch 97 | loss: 0.63219 | train_auc: 0.69968 | train_logloss: 0.62956 | train_accuracy: 0.64853 | val_auc: 0.69864 | val_logloss: 0.63031 | val_accuracy: 0.64748 |  0:34:38s\n",
            "epoch 98 | loss: 0.63064 | train_auc: 0.70149 | train_logloss: 0.62946 | train_accuracy: 0.6487  | val_auc: 0.70062 | val_logloss: 0.63005 | val_accuracy: 0.64797 |  0:34:58s\n",
            "epoch 99 | loss: 0.63235 | train_auc: 0.70208 | train_logloss: 0.62823 | train_accuracy: 0.65102 | val_auc: 0.70009 | val_logloss: 0.62984 | val_accuracy: 0.65005 |  0:35:18s\n",
            "epoch 100| loss: 0.63042 | train_auc: 0.70359 | train_logloss: 0.62745 | train_accuracy: 0.65149 | val_auc: 0.70075 | val_logloss: 0.62964 | val_accuracy: 0.64801 |  0:35:38s\n",
            "epoch 101| loss: 0.63038 | train_auc: 0.70406 | train_logloss: 0.62733 | train_accuracy: 0.65151 | val_auc: 0.70168 | val_logloss: 0.6289  | val_accuracy: 0.64981 |  0:35:59s\n",
            "epoch 102| loss: 0.62929 | train_auc: 0.70442 | train_logloss: 0.62654 | train_accuracy: 0.65189 | val_auc: 0.70198 | val_logloss: 0.62859 | val_accuracy: 0.6503  |  0:36:19s\n",
            "epoch 103| loss: 0.62813 | train_auc: 0.7052  | train_logloss: 0.62602 | train_accuracy: 0.65249 | val_auc: 0.70255 | val_logloss: 0.62796 | val_accuracy: 0.65097 |  0:36:40s\n",
            "epoch 104| loss: 0.62772 | train_auc: 0.70572 | train_logloss: 0.62638 | train_accuracy: 0.65178 | val_auc: 0.70317 | val_logloss: 0.62848 | val_accuracy: 0.65076 |  0:37:01s\n",
            "epoch 105| loss: 0.62792 | train_auc: 0.70632 | train_logloss: 0.62535 | train_accuracy: 0.65341 | val_auc: 0.70251 | val_logloss: 0.62826 | val_accuracy: 0.65002 |  0:37:21s\n",
            "epoch 106| loss: 0.62857 | train_auc: 0.70643 | train_logloss: 0.62531 | train_accuracy: 0.65321 | val_auc: 0.703   | val_logloss: 0.62797 | val_accuracy: 0.65115 |  0:37:43s\n",
            "epoch 107| loss: 0.62736 | train_auc: 0.70657 | train_logloss: 0.6257  | train_accuracy: 0.65332 | val_auc: 0.70344 | val_logloss: 0.62813 | val_accuracy: 0.65041 |  0:38:04s\n",
            "epoch 108| loss: 0.62813 | train_auc: 0.70652 | train_logloss: 0.62807 | train_accuracy: 0.65107 | val_auc: 0.70231 | val_logloss: 0.63117 | val_accuracy: 0.64959 |  0:38:25s\n",
            "epoch 109| loss: 0.62541 | train_auc: 0.70714 | train_logloss: 0.62494 | train_accuracy: 0.65367 | val_auc: 0.70287 | val_logloss: 0.62819 | val_accuracy: 0.65048 |  0:38:46s\n",
            "epoch 110| loss: 0.62713 | train_auc: 0.70741 | train_logloss: 0.6255  | train_accuracy: 0.65262 | val_auc: 0.70392 | val_logloss: 0.62807 | val_accuracy: 0.65136 |  0:39:07s\n",
            "epoch 111| loss: 0.62804 | train_auc: 0.70768 | train_logloss: 0.6243  | train_accuracy: 0.65491 | val_auc: 0.70411 | val_logloss: 0.62712 | val_accuracy: 0.65361 |  0:39:28s\n",
            "epoch 112| loss: 0.62656 | train_auc: 0.70745 | train_logloss: 0.62465 | train_accuracy: 0.6538  | val_auc: 0.70459 | val_logloss: 0.62721 | val_accuracy: 0.65372 |  0:39:49s\n",
            "epoch 113| loss: 0.62643 | train_auc: 0.70776 | train_logloss: 0.6244  | train_accuracy: 0.65461 | val_auc: 0.70345 | val_logloss: 0.62773 | val_accuracy: 0.65291 |  0:40:11s\n",
            "epoch 114| loss: 0.62713 | train_auc: 0.70853 | train_logloss: 0.62354 | train_accuracy: 0.6544  | val_auc: 0.70485 | val_logloss: 0.62639 | val_accuracy: 0.65287 |  0:40:32s\n",
            "epoch 115| loss: 0.62781 | train_auc: 0.70861 | train_logloss: 0.6237  | train_accuracy: 0.65453 | val_auc: 0.70495 | val_logloss: 0.6264  | val_accuracy: 0.65266 |  0:40:53s\n",
            "epoch 116| loss: 0.62732 | train_auc: 0.70853 | train_logloss: 0.62393 | train_accuracy: 0.65464 | val_auc: 0.70528 | val_logloss: 0.62655 | val_accuracy: 0.65418 |  0:41:14s\n",
            "epoch 117| loss: 0.62749 | train_auc: 0.70878 | train_logloss: 0.62357 | train_accuracy: 0.65415 | val_auc: 0.7054  | val_logloss: 0.62612 | val_accuracy: 0.65266 |  0:41:34s\n",
            "epoch 118| loss: 0.62663 | train_auc: 0.70916 | train_logloss: 0.62374 | train_accuracy: 0.65403 | val_auc: 0.70491 | val_logloss: 0.62712 | val_accuracy: 0.6527  |  0:41:55s\n",
            "epoch 119| loss: 0.62623 | train_auc: 0.70949 | train_logloss: 0.62276 | train_accuracy: 0.65617 | val_auc: 0.70457 | val_logloss: 0.62672 | val_accuracy: 0.65382 |  0:42:15s\n",
            "epoch 120| loss: 0.62582 | train_auc: 0.70985 | train_logloss: 0.62287 | train_accuracy: 0.65532 | val_auc: 0.7063  | val_logloss: 0.6256  | val_accuracy: 0.65273 |  0:42:36s\n",
            "epoch 121| loss: 0.62539 | train_auc: 0.70977 | train_logloss: 0.62262 | train_accuracy: 0.65493 | val_auc: 0.70576 | val_logloss: 0.62547 | val_accuracy: 0.65368 |  0:42:56s\n",
            "epoch 122| loss: 0.6256  | train_auc: 0.70997 | train_logloss: 0.62252 | train_accuracy: 0.65618 | val_auc: 0.70596 | val_logloss: 0.62581 | val_accuracy: 0.65315 |  0:43:16s\n",
            "epoch 123| loss: 0.6247  | train_auc: 0.70985 | train_logloss: 0.62287 | train_accuracy: 0.65593 | val_auc: 0.70517 | val_logloss: 0.62612 | val_accuracy: 0.65382 |  0:43:37s\n",
            "epoch 124| loss: 0.62586 | train_auc: 0.71006 | train_logloss: 0.6226  | train_accuracy: 0.6561  | val_auc: 0.70489 | val_logloss: 0.62672 | val_accuracy: 0.65037 |  0:43:57s\n",
            "epoch 125| loss: 0.6254  | train_auc: 0.71018 | train_logloss: 0.62269 | train_accuracy: 0.65592 | val_auc: 0.70556 | val_logloss: 0.62669 | val_accuracy: 0.65301 |  0:44:18s\n",
            "epoch 126| loss: 0.62552 | train_auc: 0.70964 | train_logloss: 0.6233  | train_accuracy: 0.65425 | val_auc: 0.7042  | val_logloss: 0.62681 | val_accuracy: 0.65171 |  0:44:38s\n",
            "epoch 127| loss: 0.62344 | train_auc: 0.71099 | train_logloss: 0.62202 | train_accuracy: 0.65603 | val_auc: 0.70509 | val_logloss: 0.62657 | val_accuracy: 0.65189 |  0:44:59s\n",
            "epoch 128| loss: 0.62458 | train_auc: 0.70969 | train_logloss: 0.62315 | train_accuracy: 0.65482 | val_auc: 0.70303 | val_logloss: 0.62776 | val_accuracy: 0.64914 |  0:45:19s\n",
            "epoch 129| loss: 0.62413 | train_auc: 0.71005 | train_logloss: 0.62244 | train_accuracy: 0.65522 | val_auc: 0.70491 | val_logloss: 0.62633 | val_accuracy: 0.65072 |  0:45:40s\n",
            "epoch 130| loss: 0.62402 | train_auc: 0.71173 | train_logloss: 0.62151 | train_accuracy: 0.65685 | val_auc: 0.7054  | val_logloss: 0.6261  | val_accuracy: 0.65227 |  0:46:01s\n",
            "epoch 131| loss: 0.62536 | train_auc: 0.7116  | train_logloss: 0.62162 | train_accuracy: 0.6554  | val_auc: 0.705   | val_logloss: 0.62616 | val_accuracy: 0.65326 |  0:46:22s\n",
            "epoch 132| loss: 0.62429 | train_auc: 0.71211 | train_logloss: 0.62304 | train_accuracy: 0.65411 | val_auc: 0.70511 | val_logloss: 0.62823 | val_accuracy: 0.65005 |  0:46:42s\n",
            "epoch 133| loss: 0.6244  | train_auc: 0.7119  | train_logloss: 0.62097 | train_accuracy: 0.6568  | val_auc: 0.70585 | val_logloss: 0.62562 | val_accuracy: 0.65464 |  0:47:03s\n",
            "epoch 134| loss: 0.62383 | train_auc: 0.71213 | train_logloss: 0.62092 | train_accuracy: 0.6569  | val_auc: 0.70475 | val_logloss: 0.62619 | val_accuracy: 0.65139 |  0:47:23s\n",
            "epoch 135| loss: 0.6235  | train_auc: 0.71249 | train_logloss: 0.62084 | train_accuracy: 0.65681 | val_auc: 0.70568 | val_logloss: 0.62585 | val_accuracy: 0.65516 |  0:47:44s\n",
            "epoch 136| loss: 0.62363 | train_auc: 0.71106 | train_logloss: 0.62269 | train_accuracy: 0.65518 | val_auc: 0.7048  | val_logloss: 0.62716 | val_accuracy: 0.65093 |  0:48:04s\n",
            "epoch 137| loss: 0.62414 | train_auc: 0.71234 | train_logloss: 0.62103 | train_accuracy: 0.65707 | val_auc: 0.70582 | val_logloss: 0.62555 | val_accuracy: 0.65287 |  0:48:25s\n",
            "epoch 138| loss: 0.62408 | train_auc: 0.7125  | train_logloss: 0.62194 | train_accuracy: 0.65603 | val_auc: 0.70547 | val_logloss: 0.62666 | val_accuracy: 0.65048 |  0:48:45s\n",
            "epoch 139| loss: 0.62416 | train_auc: 0.7126  | train_logloss: 0.62083 | train_accuracy: 0.65812 | val_auc: 0.70552 | val_logloss: 0.62517 | val_accuracy: 0.6491  |  0:49:06s\n",
            "epoch 140| loss: 0.6235  | train_auc: 0.71273 | train_logloss: 0.62105 | train_accuracy: 0.6568  | val_auc: 0.70509 | val_logloss: 0.62623 | val_accuracy: 0.65009 |  0:49:26s\n",
            "epoch 141| loss: 0.62229 | train_auc: 0.71258 | train_logloss: 0.62056 | train_accuracy: 0.65701 | val_auc: 0.70604 | val_logloss: 0.6256  | val_accuracy: 0.65259 |  0:49:47s\n",
            "epoch 142| loss: 0.62317 | train_auc: 0.71271 | train_logloss: 0.62121 | train_accuracy: 0.65628 | val_auc: 0.70377 | val_logloss: 0.62706 | val_accuracy: 0.64949 |  0:50:07s\n",
            "epoch 143| loss: 0.62329 | train_auc: 0.71157 | train_logloss: 0.62118 | train_accuracy: 0.65683 | val_auc: 0.70464 | val_logloss: 0.62625 | val_accuracy: 0.65315 |  0:50:28s\n",
            "epoch 144| loss: 0.62294 | train_auc: 0.71349 | train_logloss: 0.61973 | train_accuracy: 0.65725 | val_auc: 0.70518 | val_logloss: 0.62637 | val_accuracy: 0.65217 |  0:50:48s\n",
            "epoch 145| loss: 0.62442 | train_auc: 0.71285 | train_logloss: 0.62074 | train_accuracy: 0.65681 | val_auc: 0.70453 | val_logloss: 0.62684 | val_accuracy: 0.649   |  0:51:09s\n",
            "epoch 146| loss: 0.62334 | train_auc: 0.71319 | train_logloss: 0.62087 | train_accuracy: 0.65686 | val_auc: 0.70526 | val_logloss: 0.62607 | val_accuracy: 0.65005 |  0:51:30s\n",
            "epoch 147| loss: 0.62254 | train_auc: 0.7114  | train_logloss: 0.62127 | train_accuracy: 0.65638 | val_auc: 0.70418 | val_logloss: 0.62695 | val_accuracy: 0.65139 |  0:51:50s\n",
            "epoch 148| loss: 0.62482 | train_auc: 0.71362 | train_logloss: 0.6198  | train_accuracy: 0.65797 | val_auc: 0.70622 | val_logloss: 0.62485 | val_accuracy: 0.65291 |  0:52:11s\n",
            "epoch 149| loss: 0.62245 | train_auc: 0.71532 | train_logloss: 0.6184  | train_accuracy: 0.6596  | val_auc: 0.70584 | val_logloss: 0.62528 | val_accuracy: 0.65337 |  0:52:32s\n",
            "epoch 150| loss: 0.62232 | train_auc: 0.71472 | train_logloss: 0.62013 | train_accuracy: 0.65715 | val_auc: 0.7062  | val_logloss: 0.62662 | val_accuracy: 0.65287 |  0:52:52s\n",
            "epoch 151| loss: 0.62263 | train_auc: 0.71537 | train_logloss: 0.61869 | train_accuracy: 0.65902 | val_auc: 0.70509 | val_logloss: 0.62636 | val_accuracy: 0.65026 |  0:53:13s\n",
            "epoch 152| loss: 0.62296 | train_auc: 0.71466 | train_logloss: 0.61923 | train_accuracy: 0.65768 | val_auc: 0.7066  | val_logloss: 0.62467 | val_accuracy: 0.65238 |  0:53:33s\n",
            "epoch 153| loss: 0.62309 | train_auc: 0.7153  | train_logloss: 0.61861 | train_accuracy: 0.65791 | val_auc: 0.70596 | val_logloss: 0.62509 | val_accuracy: 0.65019 |  0:53:53s\n",
            "epoch 154| loss: 0.62224 | train_auc: 0.71291 | train_logloss: 0.62067 | train_accuracy: 0.6568  | val_auc: 0.70449 | val_logloss: 0.62708 | val_accuracy: 0.65009 |  0:54:14s\n",
            "epoch 155| loss: 0.62125 | train_auc: 0.71607 | train_logloss: 0.61815 | train_accuracy: 0.65938 | val_auc: 0.7058  | val_logloss: 0.62512 | val_accuracy: 0.65224 |  0:54:34s\n",
            "epoch 156| loss: 0.6219  | train_auc: 0.71589 | train_logloss: 0.61871 | train_accuracy: 0.65812 | val_auc: 0.70679 | val_logloss: 0.62566 | val_accuracy: 0.65164 |  0:54:54s\n",
            "epoch 157| loss: 0.62267 | train_auc: 0.71484 | train_logloss: 0.61966 | train_accuracy: 0.66032 | val_auc: 0.70563 | val_logloss: 0.62615 | val_accuracy: 0.65523 |  0:55:15s\n",
            "epoch 158| loss: 0.62209 | train_auc: 0.71594 | train_logloss: 0.61823 | train_accuracy: 0.65872 | val_auc: 0.70527 | val_logloss: 0.62576 | val_accuracy: 0.65041 |  0:55:36s\n",
            "epoch 159| loss: 0.62292 | train_auc: 0.71569 | train_logloss: 0.61866 | train_accuracy: 0.65878 | val_auc: 0.70614 | val_logloss: 0.6255  | val_accuracy: 0.65026 |  0:55:57s\n",
            "epoch 160| loss: 0.62131 | train_auc: 0.71545 | train_logloss: 0.61819 | train_accuracy: 0.65975 | val_auc: 0.70564 | val_logloss: 0.62535 | val_accuracy: 0.65171 |  0:56:18s\n",
            "epoch 161| loss: 0.62079 | train_auc: 0.7157  | train_logloss: 0.61807 | train_accuracy: 0.6601  | val_auc: 0.70583 | val_logloss: 0.62551 | val_accuracy: 0.6522  |  0:56:38s\n",
            "epoch 162| loss: 0.62205 | train_auc: 0.71634 | train_logloss: 0.61841 | train_accuracy: 0.65921 | val_auc: 0.70641 | val_logloss: 0.62483 | val_accuracy: 0.65263 |  0:56:59s\n",
            "epoch 163| loss: 0.62195 | train_auc: 0.71396 | train_logloss: 0.61945 | train_accuracy: 0.65944 | val_auc: 0.70629 | val_logloss: 0.62527 | val_accuracy: 0.65189 |  0:57:20s\n",
            "epoch 164| loss: 0.62283 | train_auc: 0.71347 | train_logloss: 0.62022 | train_accuracy: 0.65799 | val_auc: 0.7048  | val_logloss: 0.62587 | val_accuracy: 0.65086 |  0:57:41s\n",
            "epoch 165| loss: 0.62112 | train_auc: 0.71583 | train_logloss: 0.61818 | train_accuracy: 0.65771 | val_auc: 0.70515 | val_logloss: 0.62666 | val_accuracy: 0.65129 |  0:58:01s\n",
            "epoch 166| loss: 0.62089 | train_auc: 0.71565 | train_logloss: 0.61829 | train_accuracy: 0.65846 | val_auc: 0.70695 | val_logloss: 0.62478 | val_accuracy: 0.65365 |  0:58:22s\n",
            "epoch 167| loss: 0.62289 | train_auc: 0.7164  | train_logloss: 0.61801 | train_accuracy: 0.65994 | val_auc: 0.70712 | val_logloss: 0.62428 | val_accuracy: 0.65217 |  0:58:42s\n",
            "epoch 168| loss: 0.61972 | train_auc: 0.71639 | train_logloss: 0.61768 | train_accuracy: 0.6601  | val_auc: 0.70544 | val_logloss: 0.62583 | val_accuracy: 0.65108 |  0:59:02s\n",
            "epoch 169| loss: 0.62181 | train_auc: 0.71624 | train_logloss: 0.61772 | train_accuracy: 0.65985 | val_auc: 0.70513 | val_logloss: 0.62602 | val_accuracy: 0.65026 |  0:59:23s\n",
            "epoch 170| loss: 0.62164 | train_auc: 0.71626 | train_logloss: 0.61819 | train_accuracy: 0.65916 | val_auc: 0.70517 | val_logloss: 0.62642 | val_accuracy: 0.65217 |  0:59:43s\n",
            "epoch 171| loss: 0.62264 | train_auc: 0.71644 | train_logloss: 0.61756 | train_accuracy: 0.65896 | val_auc: 0.70537 | val_logloss: 0.62569 | val_accuracy: 0.6516  |  1:00:04s\n",
            "epoch 172| loss: 0.62141 | train_auc: 0.7166  | train_logloss: 0.61753 | train_accuracy: 0.6607  | val_auc: 0.70622 | val_logloss: 0.62476 | val_accuracy: 0.65442 |  1:00:24s\n",
            "epoch 173| loss: 0.62174 | train_auc: 0.71731 | train_logloss: 0.61791 | train_accuracy: 0.66051 | val_auc: 0.70555 | val_logloss: 0.62564 | val_accuracy: 0.65139 |  1:00:44s\n",
            "epoch 174| loss: 0.62091 | train_auc: 0.7164  | train_logloss: 0.61898 | train_accuracy: 0.65851 | val_auc: 0.70661 | val_logloss: 0.62641 | val_accuracy: 0.65129 |  1:01:05s\n",
            "epoch 175| loss: 0.62073 | train_auc: 0.71811 | train_logloss: 0.61687 | train_accuracy: 0.65985 | val_auc: 0.70627 | val_logloss: 0.62585 | val_accuracy: 0.64995 |  1:01:26s\n",
            "epoch 176| loss: 0.62137 | train_auc: 0.71519 | train_logloss: 0.62115 | train_accuracy: 0.65713 | val_auc: 0.70399 | val_logloss: 0.6289  | val_accuracy: 0.64804 |  1:01:46s\n",
            "epoch 177| loss: 0.62196 | train_auc: 0.71549 | train_logloss: 0.61874 | train_accuracy: 0.65875 | val_auc: 0.70454 | val_logloss: 0.62607 | val_accuracy: 0.64885 |  1:02:07s\n",
            "epoch 178| loss: 0.62199 | train_auc: 0.71681 | train_logloss: 0.61746 | train_accuracy: 0.66019 | val_auc: 0.70453 | val_logloss: 0.62614 | val_accuracy: 0.64868 |  1:02:27s\n",
            "epoch 179| loss: 0.61982 | train_auc: 0.71812 | train_logloss: 0.61691 | train_accuracy: 0.66126 | val_auc: 0.70535 | val_logloss: 0.62562 | val_accuracy: 0.64924 |  1:02:48s\n",
            "epoch 180| loss: 0.62097 | train_auc: 0.71696 | train_logloss: 0.61747 | train_accuracy: 0.66095 | val_auc: 0.70397 | val_logloss: 0.62661 | val_accuracy: 0.64797 |  1:03:08s\n",
            "epoch 181| loss: 0.62249 | train_auc: 0.71805 | train_logloss: 0.61729 | train_accuracy: 0.66119 | val_auc: 0.70472 | val_logloss: 0.62621 | val_accuracy: 0.65196 |  1:03:28s\n",
            "epoch 182| loss: 0.62007 | train_auc: 0.71541 | train_logloss: 0.61894 | train_accuracy: 0.65881 | val_auc: 0.70271 | val_logloss: 0.6275  | val_accuracy: 0.64956 |  1:03:49s\n",
            "epoch 183| loss: 0.62163 | train_auc: 0.71853 | train_logloss: 0.61646 | train_accuracy: 0.66119 | val_auc: 0.7043  | val_logloss: 0.62658 | val_accuracy: 0.64935 |  1:04:09s\n",
            "epoch 184| loss: 0.62269 | train_auc: 0.71669 | train_logloss: 0.61765 | train_accuracy: 0.66008 | val_auc: 0.70366 | val_logloss: 0.62705 | val_accuracy: 0.65227 |  1:04:30s\n",
            "epoch 185| loss: 0.61956 | train_auc: 0.71634 | train_logloss: 0.61774 | train_accuracy: 0.65904 | val_auc: 0.70384 | val_logloss: 0.62718 | val_accuracy: 0.6485  |  1:04:50s\n",
            "epoch 186| loss: 0.62164 | train_auc: 0.71369 | train_logloss: 0.62113 | train_accuracy: 0.65745 | val_auc: 0.70146 | val_logloss: 0.62963 | val_accuracy: 0.64586 |  1:05:11s\n",
            "epoch 187| loss: 0.62125 | train_auc: 0.71728 | train_logloss: 0.61867 | train_accuracy: 0.65828 | val_auc: 0.70471 | val_logloss: 0.62713 | val_accuracy: 0.64857 |  1:05:31s\n",
            "\n",
            "Early stopping occured at epoch 187 with best_epoch = 157 and best_val_accuracy = 0.65523\n",
            "Best weights from best epoch are automatically used!\n"
          ]
        }
      ],
      "source": [
        "training(X_train1, X_valid1, y_train1, y_valid1, 'train1', 'val1', clf1)"
      ]
    },
    {
      "cell_type": "code",
      "execution_count": null,
      "metadata": {
        "colab": {
          "base_uri": "https://localhost:8080/",
          "height": 300
        },
        "id": "8IixxIBFjFyu",
        "outputId": "d4315452-d6c9-47fc-e037-d75555ba76bf"
      },
      "outputs": [
        {
          "data": {
            "text/plain": [
              "Text(0.5, 1.0, 'Loss for HA')"
            ]
          },
          "execution_count": 65,
          "metadata": {},
          "output_type": "execute_result"
        },
        {
          "data": {
            "image/png": "[encoded data removed]",
            "text/plain": [
              "<Figure size 432x288 with 1 Axes>"
            ]
          },
          "metadata": {},
          "output_type": "display_data"
        }
      ],
      "source": [
        "# plot losses\n",
        "plt.plot(clf1.history['loss'])\n",
        "plt.title('Loss for HA')"
      ]
    },
    {
      "cell_type": "code",
      "execution_count": null,
      "metadata": {
        "colab": {
          "background_save": true
        },
        "id": "2kJ6hOk7jFyv",
        "outputId": "19975538-3936-4c4a-ebea-556c3b7d145a"
      },
      "outputs": [
        {
          "data": {
            "text/plain": [
              "Text(0.5, 1.0, 'Accuracies for HA')"
            ]
          },
          "execution_count": null,
          "metadata": {},
          "output_type": "execute_result"
        },
        {
          "data": {
            "image/png": "[encoded data removed]",
            "text/plain": [
              "<Figure size 432x288 with 1 Axes>"
            ]
          },
          "metadata": {},
          "output_type": "display_data"
        }
      ],
      "source": [
        "plt.plot(clf1.history['train_accuracy'])\n",
        "plt.plot(clf1.history['val_accuracy'])\n",
        "plt.title('Accuracies for HA')"
      ]
    },
    {
      "cell_type": "code",
      "execution_count": null,
      "metadata": {
        "colab": {
          "background_save": true
        },
        "id": "tLZ5SZtxjFyv",
        "outputId": "da36a10b-4199-4a9e-8fb5-e8c58de17522"
      },
      "outputs": [
        {
          "data": {
            "text/plain": [
              "Text(0.5, 1.0, 'Area Under the Curve for HA')"
            ]
          },
          "execution_count": null,
          "metadata": {},
          "output_type": "execute_result"
        },
        {
          "data": {
            "image/png": "[encoded data removed]",
            "text/plain": [
              "<Figure size 432x288 with 1 Axes>"
            ]
          },
          "metadata": {},
          "output_type": "display_data"
        }
      ],
      "source": [
        "# plot auc\n",
        "plt.plot(clf1.history['train_auc'])\n",
        "plt.plot(clf1.history['val_auc'])\n",
        "plt.title('Area Under the Curve for HA')"
      ]
    },
    {
      "cell_type": "code",
      "execution_count": null,
      "metadata": {
        "colab": {
          "background_save": true
        },
        "id": "xsiuIc4-jFyw",
        "outputId": "22564e48-5b4f-44e4-ffaf-224babc6a76f"
      },
      "outputs": [
        {
          "data": {
            "text/plain": [
              "Text(0.5, 1.0, 'Learning rates for HA')"
            ]
          },
          "execution_count": null,
          "metadata": {},
          "output_type": "execute_result"
        },
        {
          "data": {
            "image/png": "[encoded data removed]",
            "text/plain": [
              "<Figure size 432x288 with 1 Axes>"
            ]
          },
          "metadata": {},
          "output_type": "display_data"
        }
      ],
      "source": [
        "# plot learning rates\n",
        "plt.plot(clf1.history['lr'])\n",
        "plt.title('Learning rates for HA')"
      ]
    },
    {
      "cell_type": "code",
      "execution_count": null,
      "metadata": {
        "colab": {
          "background_save": true
        },
        "id": "2ADVwieKjFyw",
        "outputId": "a92a7b04-a82c-490d-c495-9b92ffa677e3"
      },
      "outputs": [
        {
          "name": "stdout",
          "output_type": "stream",
          "text": [
            "FINAL VALID AUC_SCORE: 0.7047052250663484\n",
            "FINAL VALID ACCURACY_SCORE: 0.6485724356714839\n",
            "FINAL TEST ACCURACY_SCORE: 0.6512234327558493\n",
            "FINAL TEST AUC_SCORE: 0.7053251449459477\n"
          ]
        }
      ],
      "source": [
        "test_model(X_test1, y_test1, X_valid1, y_valid1, clf1)"
      ]
    },
    {
      "cell_type": "code",
      "execution_count": null,
      "metadata": {
        "id": "H3uMAQBRjFyw"
      },
      "outputs": [],
      "source": [
        "test_model(X_train1, y_train1, X_valid1, y_valid1, clf1)"
      ]
    },
    {
      "cell_type": "code",
      "execution_count": null,
      "metadata": {
        "id": "W6xIFm5HjFyx"
      },
      "outputs": [],
      "source": [
        "# os.mkdir('models')"
      ]
    },
    {
      "cell_type": "code",
      "execution_count": null,
      "metadata": {
        "id": "yAMj6qMvjFyx"
      },
      "outputs": [],
      "source": [
        "# # save tabnet model \n",
        "# saving_path_name = \"/content/models/tabnet_basic_HA\"\n",
        "# saved_filepath = clf1.save_model(saving_path_name)"
      ]
    },
    {
      "cell_type": "code",
      "execution_count": null,
      "metadata": {
        "id": "FXNDi1jEjFyy"
      },
      "outputs": [],
      "source": [
        "# # define new model with basic parameters and load state dict weights\n",
        "# loaded_clf1 = TabNetClassifier()\n",
        "# loaded_clf1.load_model(saved_filepath)"
      ]
    },
    {
      "cell_type": "markdown",
      "metadata": {
        "id": "vg4rtQkqjFyy"
      },
      "source": [
        "### W/H"
      ]
    },
    {
      "cell_type": "code",
      "execution_count": null,
      "metadata": {
        "colab": {
          "background_save": true,
          "base_uri": "https://localhost:8080/"
        },
        "id": "CbSJoBtejFyy",
        "outputId": "64e05f75-8733-4dfd-8c2b-4b27bd63bf77"
      },
      "outputs": [
        {
          "name": "stdout",
          "output_type": "stream",
          "text": [
            "epoch 0  | loss: 0.7535  | train_auc: 0.56471 | train_logloss: 0.69423 | train_accuracy: 0.54307 | val_auc: 0.56573 | val_logloss: 0.69348 | val_accuracy: 0.54206 |  0:00:29s\n",
            "epoch 1  | loss: 0.68598 | train_auc: 0.58506 | train_logloss: 0.68505 | train_accuracy: 0.55771 | val_auc: 0.59075 | val_logloss: 0.68367 | val_accuracy: 0.56027 |  0:00:53s\n",
            "epoch 2  | loss: 0.6789  | train_auc: 0.60339 | train_logloss: 0.67999 | train_accuracy: 0.56694 | val_auc: 0.60888 | val_logloss: 0.67899 | val_accuracy: 0.56595 |  0:01:19s\n",
            "epoch 3  | loss: 0.67279 | train_auc: 0.62218 | train_logloss: 0.67495 | train_accuracy: 0.57966 | val_auc: 0.62708 | val_logloss: 0.67366 | val_accuracy: 0.58223 |  0:01:43s\n",
            "epoch 4  | loss: 0.66672 | train_auc: 0.64019 | train_logloss: 0.66697 | train_accuracy: 0.59803 | val_auc: 0.64395 | val_logloss: 0.66566 | val_accuracy: 0.60023 |  0:02:08s\n",
            "epoch 5  | loss: 0.66246 | train_auc: 0.65286 | train_logloss: 0.65984 | train_accuracy: 0.61047 | val_auc: 0.65705 | val_logloss: 0.65772 | val_accuracy: 0.61163 |  0:02:32s\n",
            "epoch 6  | loss: 0.65877 | train_auc: 0.6608  | train_logloss: 0.65464 | train_accuracy: 0.61811 | val_auc: 0.66507 | val_logloss: 0.65268 | val_accuracy: 0.62219 |  0:02:56s\n",
            "epoch 7  | loss: 0.65769 | train_auc: 0.66623 | train_logloss: 0.65192 | train_accuracy: 0.6226  | val_auc: 0.66829 | val_logloss: 0.65092 | val_accuracy: 0.62479 |  0:03:21s\n",
            "epoch 8  | loss: 0.65489 | train_auc: 0.66946 | train_logloss: 0.65024 | train_accuracy: 0.62427 | val_auc: 0.67108 | val_logloss: 0.64956 | val_accuracy: 0.62599 |  0:03:45s\n",
            "epoch 9  | loss: 0.65373 | train_auc: 0.67303 | train_logloss: 0.64809 | train_accuracy: 0.6286  | val_auc: 0.6763  | val_logloss: 0.64639 | val_accuracy: 0.62967 |  0:04:09s\n",
            "epoch 10 | loss: 0.64905 | train_auc: 0.67671 | train_logloss: 0.64575 | train_accuracy: 0.63227 | val_auc: 0.6778  | val_logloss: 0.64487 | val_accuracy: 0.63125 |  0:04:33s\n",
            "epoch 11 | loss: 0.64808 | train_auc: 0.6805  | train_logloss: 0.64357 | train_accuracy: 0.63565 | val_auc: 0.68137 | val_logloss: 0.64313 | val_accuracy: 0.63514 |  0:04:57s\n",
            "epoch 12 | loss: 0.64719 | train_auc: 0.68239 | train_logloss: 0.64239 | train_accuracy: 0.63769 | val_auc: 0.68476 | val_logloss: 0.64094 | val_accuracy: 0.63646 |  0:05:22s\n",
            "epoch 13 | loss: 0.64639 | train_auc: 0.68622 | train_logloss: 0.64086 | train_accuracy: 0.63962 | val_auc: 0.68812 | val_logloss: 0.63974 | val_accuracy: 0.63783 |  0:05:46s\n",
            "epoch 14 | loss: 0.643   | train_auc: 0.68837 | train_logloss: 0.63904 | train_accuracy: 0.64178 | val_auc: 0.69118 | val_logloss: 0.63726 | val_accuracy: 0.64172 |  0:06:10s\n",
            "epoch 15 | loss: 0.64273 | train_auc: 0.69015 | train_logloss: 0.63805 | train_accuracy: 0.64157 | val_auc: 0.69265 | val_logloss: 0.63668 | val_accuracy: 0.64307 |  0:06:34s\n",
            "epoch 16 | loss: 0.6425  | train_auc: 0.69174 | train_logloss: 0.6372  | train_accuracy: 0.64328 | val_auc: 0.69559 | val_logloss: 0.63493 | val_accuracy: 0.64501 |  0:06:58s\n",
            "epoch 17 | loss: 0.64082 | train_auc: 0.69373 | train_logloss: 0.63591 | train_accuracy: 0.64525 | val_auc: 0.69797 | val_logloss: 0.63297 | val_accuracy: 0.64687 |  0:07:23s\n",
            "epoch 18 | loss: 0.63821 | train_auc: 0.69549 | train_logloss: 0.63409 | train_accuracy: 0.64733 | val_auc: 0.699   | val_logloss: 0.63159 | val_accuracy: 0.64761 |  0:07:47s\n",
            "epoch 19 | loss: 0.63757 | train_auc: 0.69774 | train_logloss: 0.63287 | train_accuracy: 0.64894 | val_auc: 0.70122 | val_logloss: 0.63024 | val_accuracy: 0.65078 |  0:08:11s\n",
            "epoch 20 | loss: 0.63705 | train_auc: 0.69909 | train_logloss: 0.63243 | train_accuracy: 0.64943 | val_auc: 0.70225 | val_logloss: 0.62989 | val_accuracy: 0.64863 |  0:08:35s\n",
            "epoch 21 | loss: 0.63564 | train_auc: 0.70058 | train_logloss: 0.63128 | train_accuracy: 0.65132 | val_auc: 0.70376 | val_logloss: 0.62874 | val_accuracy: 0.65177 |  0:08:59s\n",
            "epoch 22 | loss: 0.63385 | train_auc: 0.70225 | train_logloss: 0.63087 | train_accuracy: 0.65145 | val_auc: 0.70513 | val_logloss: 0.62868 | val_accuracy: 0.65135 |  0:09:23s\n",
            "epoch 23 | loss: 0.63383 | train_auc: 0.7039  | train_logloss: 0.62916 | train_accuracy: 0.65332 | val_auc: 0.70578 | val_logloss: 0.6275  | val_accuracy: 0.65342 |  0:09:47s\n",
            "epoch 24 | loss: 0.63266 | train_auc: 0.70544 | train_logloss: 0.62783 | train_accuracy: 0.65425 | val_auc: 0.70709 | val_logloss: 0.62602 | val_accuracy: 0.65497 |  0:10:12s\n",
            "epoch 25 | loss: 0.63186 | train_auc: 0.70604 | train_logloss: 0.62788 | train_accuracy: 0.65394 | val_auc: 0.70797 | val_logloss: 0.62601 | val_accuracy: 0.65458 |  0:10:36s\n",
            "epoch 26 | loss: 0.63174 | train_auc: 0.70733 | train_logloss: 0.62608 | train_accuracy: 0.65581 | val_auc: 0.70852 | val_logloss: 0.6249  | val_accuracy: 0.6565  |  0:11:00s\n",
            "epoch 27 | loss: 0.63025 | train_auc: 0.70899 | train_logloss: 0.62555 | train_accuracy: 0.65676 | val_auc: 0.71059 | val_logloss: 0.62401 | val_accuracy: 0.65772 |  0:11:24s\n",
            "epoch 28 | loss: 0.6292  | train_auc: 0.71057 | train_logloss: 0.62389 | train_accuracy: 0.65724 | val_auc: 0.71175 | val_logloss: 0.62293 | val_accuracy: 0.65775 |  0:11:48s\n",
            "epoch 29 | loss: 0.62837 | train_auc: 0.71217 | train_logloss: 0.62286 | train_accuracy: 0.65843 | val_auc: 0.71278 | val_logloss: 0.62219 | val_accuracy: 0.65838 |  0:12:12s\n",
            "epoch 30 | loss: 0.62599 | train_auc: 0.71335 | train_logloss: 0.62248 | train_accuracy: 0.65921 | val_auc: 0.71339 | val_logloss: 0.62214 | val_accuracy: 0.65874 |  0:12:37s\n",
            "epoch 31 | loss: 0.62594 | train_auc: 0.71422 | train_logloss: 0.62135 | train_accuracy: 0.66007 | val_auc: 0.71483 | val_logloss: 0.62088 | val_accuracy: 0.66089 |  0:13:01s\n",
            "epoch 32 | loss: 0.62515 | train_auc: 0.71514 | train_logloss: 0.62085 | train_accuracy: 0.66084 | val_auc: 0.71566 | val_logloss: 0.62079 | val_accuracy: 0.6617  |  0:13:25s\n",
            "epoch 33 | loss: 0.62493 | train_auc: 0.71557 | train_logloss: 0.62083 | train_accuracy: 0.66116 | val_auc: 0.71625 | val_logloss: 0.62007 | val_accuracy: 0.66164 |  0:13:49s\n",
            "epoch 34 | loss: 0.62373 | train_auc: 0.71682 | train_logloss: 0.62014 | train_accuracy: 0.66161 | val_auc: 0.71776 | val_logloss: 0.6193  | val_accuracy: 0.66203 |  0:14:13s\n",
            "epoch 35 | loss: 0.62331 | train_auc: 0.71771 | train_logloss: 0.61905 | train_accuracy: 0.66302 | val_auc: 0.71875 | val_logloss: 0.61805 | val_accuracy: 0.6643  |  0:14:37s\n",
            "epoch 36 | loss: 0.62336 | train_auc: 0.71853 | train_logloss: 0.618   | train_accuracy: 0.66339 | val_auc: 0.71944 | val_logloss: 0.61698 | val_accuracy: 0.66406 |  0:15:01s\n",
            "epoch 37 | loss: 0.6215  | train_auc: 0.71941 | train_logloss: 0.61762 | train_accuracy: 0.66393 | val_auc: 0.72098 | val_logloss: 0.61649 | val_accuracy: 0.66661 |  0:15:26s\n",
            "epoch 38 | loss: 0.62134 | train_auc: 0.71959 | train_logloss: 0.61786 | train_accuracy: 0.66429 | val_auc: 0.72026 | val_logloss: 0.61687 | val_accuracy: 0.66424 |  0:15:50s\n",
            "epoch 39 | loss: 0.62299 | train_auc: 0.71989 | train_logloss: 0.61951 | train_accuracy: 0.66041 | val_auc: 0.72121 | val_logloss: 0.61865 | val_accuracy: 0.66062 |  0:16:14s\n",
            "epoch 40 | loss: 0.61951 | train_auc: 0.72158 | train_logloss: 0.61606 | train_accuracy: 0.66489 | val_auc: 0.72258 | val_logloss: 0.61523 | val_accuracy: 0.66523 |  0:16:38s\n",
            "epoch 41 | loss: 0.62131 | train_auc: 0.72191 | train_logloss: 0.6158  | train_accuracy: 0.66562 | val_auc: 0.72287 | val_logloss: 0.61476 | val_accuracy: 0.66607 |  0:17:02s\n",
            "epoch 42 | loss: 0.6198  | train_auc: 0.72213 | train_logloss: 0.61555 | train_accuracy: 0.66498 | val_auc: 0.72254 | val_logloss: 0.61537 | val_accuracy: 0.66601 |  0:17:26s\n",
            "epoch 43 | loss: 0.61913 | train_auc: 0.72266 | train_logloss: 0.61528 | train_accuracy: 0.66624 | val_auc: 0.72335 | val_logloss: 0.6149  | val_accuracy: 0.66529 |  0:17:50s\n",
            "epoch 44 | loss: 0.61956 | train_auc: 0.72309 | train_logloss: 0.61457 | train_accuracy: 0.66695 | val_auc: 0.72364 | val_logloss: 0.61416 | val_accuracy: 0.66729 |  0:18:14s\n",
            "epoch 45 | loss: 0.61915 | train_auc: 0.72297 | train_logloss: 0.6145  | train_accuracy: 0.66675 | val_auc: 0.72252 | val_logloss: 0.61461 | val_accuracy: 0.66837 |  0:18:38s\n",
            "epoch 46 | loss: 0.61819 | train_auc: 0.72433 | train_logloss: 0.61373 | train_accuracy: 0.66763 | val_auc: 0.72404 | val_logloss: 0.61391 | val_accuracy: 0.66852 |  0:19:02s\n",
            "epoch 47 | loss: 0.61842 | train_auc: 0.72315 | train_logloss: 0.61507 | train_accuracy: 0.66734 | val_auc: 0.72314 | val_logloss: 0.61504 | val_accuracy: 0.66975 |  0:19:26s\n",
            "epoch 48 | loss: 0.61774 | train_auc: 0.72501 | train_logloss: 0.61347 | train_accuracy: 0.66822 | val_auc: 0.72588 | val_logloss: 0.61295 | val_accuracy: 0.66948 |  0:19:50s\n",
            "epoch 49 | loss: 0.61737 | train_auc: 0.7252  | train_logloss: 0.61278 | train_accuracy: 0.66787 | val_auc: 0.72641 | val_logloss: 0.61205 | val_accuracy: 0.66939 |  0:20:14s\n",
            "epoch 50 | loss: 0.61785 | train_auc: 0.72506 | train_logloss: 0.61375 | train_accuracy: 0.66824 | val_auc: 0.72486 | val_logloss: 0.61399 | val_accuracy: 0.66975 |  0:20:38s\n",
            "epoch 51 | loss: 0.61762 | train_auc: 0.72636 | train_logloss: 0.61208 | train_accuracy: 0.66899 | val_auc: 0.72637 | val_logloss: 0.61229 | val_accuracy: 0.66963 |  0:21:02s\n",
            "epoch 52 | loss: 0.61415 | train_auc: 0.72649 | train_logloss: 0.61275 | train_accuracy: 0.66684 | val_auc: 0.72654 | val_logloss: 0.61311 | val_accuracy: 0.66715 |  0:21:26s\n",
            "epoch 53 | loss: 0.61539 | train_auc: 0.72581 | train_logloss: 0.61272 | train_accuracy: 0.66635 | val_auc: 0.72666 | val_logloss: 0.61237 | val_accuracy: 0.66891 |  0:21:50s\n",
            "epoch 54 | loss: 0.61428 | train_auc: 0.72661 | train_logloss: 0.61179 | train_accuracy: 0.66843 | val_auc: 0.72737 | val_logloss: 0.61138 | val_accuracy: 0.6687  |  0:22:14s\n",
            "epoch 55 | loss: 0.61581 | train_auc: 0.72798 | train_logloss: 0.61076 | train_accuracy: 0.66997 | val_auc: 0.72878 | val_logloss: 0.61026 | val_accuracy: 0.67056 |  0:22:38s\n",
            "epoch 56 | loss: 0.61422 | train_auc: 0.72846 | train_logloss: 0.61061 | train_accuracy: 0.66969 | val_auc: 0.72976 | val_logloss: 0.60993 | val_accuracy: 0.67103 |  0:23:02s\n",
            "epoch 57 | loss: 0.61414 | train_auc: 0.72925 | train_logloss: 0.60976 | train_accuracy: 0.67122 | val_auc: 0.72983 | val_logloss: 0.6096  | val_accuracy: 0.67319 |  0:23:26s\n",
            "epoch 58 | loss: 0.61408 | train_auc: 0.72937 | train_logloss: 0.6101  | train_accuracy: 0.67024 | val_auc: 0.72976 | val_logloss: 0.61004 | val_accuracy: 0.67121 |  0:23:50s\n",
            "epoch 59 | loss: 0.61495 | train_auc: 0.7285  | train_logloss: 0.61057 | train_accuracy: 0.66979 | val_auc: 0.72838 | val_logloss: 0.61107 | val_accuracy: 0.6699  |  0:24:15s\n",
            "epoch 60 | loss: 0.61394 | train_auc: 0.72987 | train_logloss: 0.60989 | train_accuracy: 0.67045 | val_auc: 0.7301  | val_logloss: 0.61003 | val_accuracy: 0.67148 |  0:24:39s\n",
            "epoch 61 | loss: 0.61419 | train_auc: 0.7296  | train_logloss: 0.60958 | train_accuracy: 0.67058 | val_auc: 0.72968 | val_logloss: 0.61008 | val_accuracy: 0.67196 |  0:25:03s\n",
            "epoch 62 | loss: 0.61317 | train_auc: 0.72912 | train_logloss: 0.60988 | train_accuracy: 0.67088 | val_auc: 0.73018 | val_logloss: 0.60937 | val_accuracy: 0.67256 |  0:25:27s\n",
            "epoch 63 | loss: 0.61215 | train_auc: 0.73018 | train_logloss: 0.6088  | train_accuracy: 0.67124 | val_auc: 0.73075 | val_logloss: 0.60877 | val_accuracy: 0.67196 |  0:25:51s\n",
            "epoch 64 | loss: 0.61312 | train_auc: 0.73169 | train_logloss: 0.60742 | train_accuracy: 0.67256 | val_auc: 0.7321  | val_logloss: 0.6074  | val_accuracy: 0.67501 |  0:26:15s\n",
            "epoch 65 | loss: 0.61117 | train_auc: 0.73143 | train_logloss: 0.60787 | train_accuracy: 0.67146 | val_auc: 0.73103 | val_logloss: 0.60846 | val_accuracy: 0.671   |  0:26:39s\n",
            "epoch 66 | loss: 0.61008 | train_auc: 0.73249 | train_logloss: 0.60796 | train_accuracy: 0.67103 | val_auc: 0.73241 | val_logloss: 0.60856 | val_accuracy: 0.67181 |  0:27:02s\n",
            "epoch 67 | loss: 0.61102 | train_auc: 0.73224 | train_logloss: 0.60709 | train_accuracy: 0.67349 | val_auc: 0.73154 | val_logloss: 0.60804 | val_accuracy: 0.67325 |  0:27:26s\n",
            "epoch 68 | loss: 0.61167 | train_auc: 0.73348 | train_logloss: 0.60667 | train_accuracy: 0.67264 | val_auc: 0.73252 | val_logloss: 0.60787 | val_accuracy: 0.67423 |  0:27:50s\n",
            "epoch 69 | loss: 0.60944 | train_auc: 0.73311 | train_logloss: 0.60642 | train_accuracy: 0.67443 | val_auc: 0.73254 | val_logloss: 0.60734 | val_accuracy: 0.67549 |  0:28:13s\n",
            "epoch 70 | loss: 0.61211 | train_auc: 0.7324  | train_logloss: 0.6074  | train_accuracy: 0.67346 | val_auc: 0.73205 | val_logloss: 0.60789 | val_accuracy: 0.67495 |  0:28:37s\n",
            "epoch 71 | loss: 0.61084 | train_auc: 0.73317 | train_logloss: 0.60636 | train_accuracy: 0.67349 | val_auc: 0.73277 | val_logloss: 0.6069  | val_accuracy: 0.67397 |  0:29:01s\n",
            "epoch 72 | loss: 0.60999 | train_auc: 0.73354 | train_logloss: 0.60621 | train_accuracy: 0.67411 | val_auc: 0.73301 | val_logloss: 0.60678 | val_accuracy: 0.67429 |  0:29:25s\n",
            "epoch 73 | loss: 0.61189 | train_auc: 0.73413 | train_logloss: 0.60638 | train_accuracy: 0.67292 | val_auc: 0.73391 | val_logloss: 0.60693 | val_accuracy: 0.67414 |  0:29:49s\n",
            "epoch 74 | loss: 0.60854 | train_auc: 0.73484 | train_logloss: 0.60515 | train_accuracy: 0.67477 | val_auc: 0.73473 | val_logloss: 0.60541 | val_accuracy: 0.6751  |  0:30:13s\n",
            "epoch 75 | loss: 0.6087  | train_auc: 0.73124 | train_logloss: 0.60844 | train_accuracy: 0.67239 | val_auc: 0.73127 | val_logloss: 0.60827 | val_accuracy: 0.67471 |  0:30:37s\n",
            "epoch 76 | loss: 0.61129 | train_auc: 0.73443 | train_logloss: 0.60594 | train_accuracy: 0.6738  | val_auc: 0.73391 | val_logloss: 0.60632 | val_accuracy: 0.67232 |  0:31:01s\n",
            "epoch 77 | loss: 0.60892 | train_auc: 0.7342  | train_logloss: 0.60631 | train_accuracy: 0.67355 | val_auc: 0.73381 | val_logloss: 0.60655 | val_accuracy: 0.67495 |  0:31:24s\n",
            "epoch 78 | loss: 0.60965 | train_auc: 0.73447 | train_logloss: 0.60552 | train_accuracy: 0.67451 | val_auc: 0.7344  | val_logloss: 0.60572 | val_accuracy: 0.67382 |  0:31:48s\n",
            "epoch 79 | loss: 0.60969 | train_auc: 0.73387 | train_logloss: 0.60623 | train_accuracy: 0.67264 | val_auc: 0.73222 | val_logloss: 0.60752 | val_accuracy: 0.67082 |  0:32:12s\n",
            "epoch 80 | loss: 0.60838 | train_auc: 0.73474 | train_logloss: 0.6052  | train_accuracy: 0.67372 | val_auc: 0.7344  | val_logloss: 0.60582 | val_accuracy: 0.67459 |  0:32:36s\n",
            "epoch 81 | loss: 0.60946 | train_auc: 0.73482 | train_logloss: 0.60543 | train_accuracy: 0.67413 | val_auc: 0.73483 | val_logloss: 0.6055  | val_accuracy: 0.67702 |  0:33:00s\n",
            "epoch 82 | loss: 0.60869 | train_auc: 0.73541 | train_logloss: 0.60474 | train_accuracy: 0.67488 | val_auc: 0.73567 | val_logloss: 0.60459 | val_accuracy: 0.67639 |  0:33:23s\n",
            "epoch 83 | loss: 0.60788 | train_auc: 0.73598 | train_logloss: 0.60463 | train_accuracy: 0.67441 | val_auc: 0.73637 | val_logloss: 0.60464 | val_accuracy: 0.67543 |  0:33:47s\n",
            "epoch 84 | loss: 0.60985 | train_auc: 0.73663 | train_logloss: 0.60375 | train_accuracy: 0.67573 | val_auc: 0.73623 | val_logloss: 0.6045  | val_accuracy: 0.67546 |  0:34:11s\n",
            "epoch 85 | loss: 0.60859 | train_auc: 0.73593 | train_logloss: 0.60425 | train_accuracy: 0.67577 | val_auc: 0.73615 | val_logloss: 0.60407 | val_accuracy: 0.67531 |  0:34:35s\n",
            "epoch 86 | loss: 0.60838 | train_auc: 0.73665 | train_logloss: 0.60383 | train_accuracy: 0.67534 | val_auc: 0.73714 | val_logloss: 0.60376 | val_accuracy: 0.67618 |  0:34:59s\n",
            "epoch 87 | loss: 0.60972 | train_auc: 0.73601 | train_logloss: 0.60429 | train_accuracy: 0.67562 | val_auc: 0.73663 | val_logloss: 0.60407 | val_accuracy: 0.67507 |  0:35:22s\n",
            "epoch 88 | loss: 0.60687 | train_auc: 0.73646 | train_logloss: 0.6044  | train_accuracy: 0.67491 | val_auc: 0.73648 | val_logloss: 0.6047  | val_accuracy: 0.67582 |  0:35:46s\n",
            "epoch 89 | loss: 0.60744 | train_auc: 0.73625 | train_logloss: 0.60449 | train_accuracy: 0.67558 | val_auc: 0.73672 | val_logloss: 0.60452 | val_accuracy: 0.67693 |  0:36:10s\n",
            "epoch 90 | loss: 0.60671 | train_auc: 0.73692 | train_logloss: 0.60294 | train_accuracy: 0.67579 | val_auc: 0.73574 | val_logloss: 0.60423 | val_accuracy: 0.67612 |  0:36:33s\n",
            "epoch 91 | loss: 0.60616 | train_auc: 0.73756 | train_logloss: 0.60257 | train_accuracy: 0.67667 | val_auc: 0.73746 | val_logloss: 0.60297 | val_accuracy: 0.67729 |  0:36:57s\n",
            "epoch 92 | loss: 0.60741 | train_auc: 0.73772 | train_logloss: 0.60333 | train_accuracy: 0.67564 | val_auc: 0.73692 | val_logloss: 0.60429 | val_accuracy: 0.67555 |  0:37:21s\n",
            "epoch 93 | loss: 0.60819 | train_auc: 0.73752 | train_logloss: 0.60274 | train_accuracy: 0.67561 | val_auc: 0.73686 | val_logloss: 0.60404 | val_accuracy: 0.67597 |  0:37:45s\n",
            "epoch 94 | loss: 0.60558 | train_auc: 0.73731 | train_logloss: 0.60286 | train_accuracy: 0.67608 | val_auc: 0.73569 | val_logloss: 0.60449 | val_accuracy: 0.67537 |  0:38:08s\n",
            "epoch 95 | loss: 0.60468 | train_auc: 0.73829 | train_logloss: 0.60279 | train_accuracy: 0.67545 | val_auc: 0.73781 | val_logloss: 0.60369 | val_accuracy: 0.6754  |  0:38:32s\n",
            "epoch 96 | loss: 0.60617 | train_auc: 0.73805 | train_logloss: 0.60228 | train_accuracy: 0.67706 | val_auc: 0.73608 | val_logloss: 0.60418 | val_accuracy: 0.67426 |  0:38:55s\n",
            "epoch 97 | loss: 0.60662 | train_auc: 0.73898 | train_logloss: 0.60155 | train_accuracy: 0.67705 | val_auc: 0.73923 | val_logloss: 0.60168 | val_accuracy: 0.67729 |  0:39:19s\n",
            "epoch 98 | loss: 0.6065  | train_auc: 0.73923 | train_logloss: 0.60144 | train_accuracy: 0.67719 | val_auc: 0.73763 | val_logloss: 0.60311 | val_accuracy: 0.67576 |  0:39:43s\n",
            "epoch 99 | loss: 0.60649 | train_auc: 0.73783 | train_logloss: 0.60345 | train_accuracy: 0.67443 | val_auc: 0.73611 | val_logloss: 0.60512 | val_accuracy: 0.6728  |  0:40:07s\n",
            "epoch 100| loss: 0.60697 | train_auc: 0.73941 | train_logloss: 0.60153 | train_accuracy: 0.67634 | val_auc: 0.73775 | val_logloss: 0.60339 | val_accuracy: 0.6745  |  0:40:31s\n",
            "epoch 101| loss: 0.60693 | train_auc: 0.73768 | train_logloss: 0.60362 | train_accuracy: 0.67438 | val_auc: 0.73651 | val_logloss: 0.60505 | val_accuracy: 0.6734  |  0:40:54s\n",
            "epoch 102| loss: 0.6065  | train_auc: 0.73917 | train_logloss: 0.60141 | train_accuracy: 0.67744 | val_auc: 0.73796 | val_logloss: 0.6028  | val_accuracy: 0.67779 |  0:41:18s\n",
            "epoch 103| loss: 0.60565 | train_auc: 0.73852 | train_logloss: 0.60273 | train_accuracy: 0.67594 | val_auc: 0.73594 | val_logloss: 0.60519 | val_accuracy: 0.67196 |  0:41:42s\n",
            "epoch 104| loss: 0.60385 | train_auc: 0.73873 | train_logloss: 0.60181 | train_accuracy: 0.67712 | val_auc: 0.73764 | val_logloss: 0.603   | val_accuracy: 0.67651 |  0:42:06s\n",
            "epoch 105| loss: 0.60443 | train_auc: 0.73907 | train_logloss: 0.60148 | train_accuracy: 0.67795 | val_auc: 0.73763 | val_logloss: 0.60247 | val_accuracy: 0.67761 |  0:42:30s\n",
            "epoch 106| loss: 0.60498 | train_auc: 0.73967 | train_logloss: 0.6014  | train_accuracy: 0.67868 | val_auc: 0.73824 | val_logloss: 0.60265 | val_accuracy: 0.67735 |  0:42:54s\n",
            "epoch 107| loss: 0.60565 | train_auc: 0.73987 | train_logloss: 0.60219 | train_accuracy: 0.67743 | val_auc: 0.73902 | val_logloss: 0.60303 | val_accuracy: 0.67693 |  0:43:17s\n",
            "epoch 108| loss: 0.60672 | train_auc: 0.73927 | train_logloss: 0.60166 | train_accuracy: 0.67794 | val_auc: 0.73888 | val_logloss: 0.60217 | val_accuracy: 0.67824 |  0:43:41s\n",
            "epoch 109| loss: 0.60593 | train_auc: 0.74034 | train_logloss: 0.60105 | train_accuracy: 0.67821 | val_auc: 0.74017 | val_logloss: 0.60152 | val_accuracy: 0.67818 |  0:44:05s\n",
            "epoch 110| loss: 0.60414 | train_auc: 0.74124 | train_logloss: 0.60103 | train_accuracy: 0.67688 | val_auc: 0.7397  | val_logloss: 0.60257 | val_accuracy: 0.6763  |  0:44:28s\n",
            "epoch 111| loss: 0.60603 | train_auc: 0.74012 | train_logloss: 0.60121 | train_accuracy: 0.67628 | val_auc: 0.73908 | val_logloss: 0.60249 | val_accuracy: 0.67405 |  0:44:52s\n",
            "epoch 112| loss: 0.60337 | train_auc: 0.73512 | train_logloss: 0.60469 | train_accuracy: 0.67139 | val_auc: 0.7333  | val_logloss: 0.6064  | val_accuracy: 0.67023 |  0:45:16s\n",
            "epoch 113| loss: 0.60592 | train_auc: 0.73787 | train_logloss: 0.60313 | train_accuracy: 0.67752 | val_auc: 0.73733 | val_logloss: 0.60377 | val_accuracy: 0.67609 |  0:45:40s\n",
            "epoch 114| loss: 0.60515 | train_auc: 0.73973 | train_logloss: 0.60158 | train_accuracy: 0.67767 | val_auc: 0.73828 | val_logloss: 0.60324 | val_accuracy: 0.67648 |  0:46:03s\n",
            "epoch 115| loss: 0.60435 | train_auc: 0.74048 | train_logloss: 0.60075 | train_accuracy: 0.67834 | val_auc: 0.73939 | val_logloss: 0.60187 | val_accuracy: 0.67723 |  0:46:27s\n",
            "epoch 116| loss: 0.60162 | train_auc: 0.74174 | train_logloss: 0.59971 | train_accuracy: 0.67956 | val_auc: 0.73985 | val_logloss: 0.60156 | val_accuracy: 0.67785 |  0:46:50s\n",
            "epoch 117| loss: 0.60508 | train_auc: 0.74097 | train_logloss: 0.60062 | train_accuracy: 0.67795 | val_auc: 0.73895 | val_logloss: 0.60247 | val_accuracy: 0.67663 |  0:47:14s\n",
            "epoch 118| loss: 0.60364 | train_auc: 0.74037 | train_logloss: 0.60127 | train_accuracy: 0.67789 | val_auc: 0.73867 | val_logloss: 0.60292 | val_accuracy: 0.67791 |  0:47:38s\n",
            "epoch 119| loss: 0.60404 | train_auc: 0.74203 | train_logloss: 0.59912 | train_accuracy: 0.67932 | val_auc: 0.73982 | val_logloss: 0.60126 | val_accuracy: 0.67729 |  0:48:02s\n",
            "epoch 120| loss: 0.60573 | train_auc: 0.73234 | train_logloss: 0.60715 | train_accuracy: 0.67216 | val_auc: 0.73127 | val_logloss: 0.60823 | val_accuracy: 0.67094 |  0:48:25s\n",
            "epoch 121| loss: 0.60597 | train_auc: 0.73972 | train_logloss: 0.60098 | train_accuracy: 0.67783 | val_auc: 0.7377  | val_logloss: 0.60281 | val_accuracy: 0.67678 |  0:48:49s\n",
            "epoch 122| loss: 0.60385 | train_auc: 0.74165 | train_logloss: 0.59979 | train_accuracy: 0.6794  | val_auc: 0.73925 | val_logloss: 0.60196 | val_accuracy: 0.67633 |  0:49:13s\n",
            "epoch 123| loss: 0.60345 | train_auc: 0.7408  | train_logloss: 0.59986 | train_accuracy: 0.678   | val_auc: 0.73871 | val_logloss: 0.60157 | val_accuracy: 0.67609 |  0:49:36s\n",
            "epoch 124| loss: 0.60285 | train_auc: 0.74067 | train_logloss: 0.6002  | train_accuracy: 0.67786 | val_auc: 0.73827 | val_logloss: 0.60252 | val_accuracy: 0.67504 |  0:50:00s\n",
            "epoch 125| loss: 0.604   | train_auc: 0.74236 | train_logloss: 0.59881 | train_accuracy: 0.67923 | val_auc: 0.73938 | val_logloss: 0.6016  | val_accuracy: 0.67474 |  0:50:23s\n",
            "epoch 126| loss: 0.60435 | train_auc: 0.73941 | train_logloss: 0.60121 | train_accuracy: 0.67764 | val_auc: 0.73639 | val_logloss: 0.60388 | val_accuracy: 0.67438 |  0:50:47s\n",
            "epoch 127| loss: 0.60375 | train_auc: 0.74216 | train_logloss: 0.59948 | train_accuracy: 0.6787  | val_auc: 0.73949 | val_logloss: 0.60193 | val_accuracy: 0.67564 |  0:51:11s\n",
            "epoch 128| loss: 0.60411 | train_auc: 0.74287 | train_logloss: 0.59932 | train_accuracy: 0.67829 | val_auc: 0.74066 | val_logloss: 0.60142 | val_accuracy: 0.67462 |  0:51:35s\n",
            "epoch 129| loss: 0.60716 | train_auc: 0.73837 | train_logloss: 0.60404 | train_accuracy: 0.67453 | val_auc: 0.73742 | val_logloss: 0.60507 | val_accuracy: 0.67214 |  0:51:59s\n",
            "epoch 130| loss: 0.60577 | train_auc: 0.73796 | train_logloss: 0.60351 | train_accuracy: 0.67703 | val_auc: 0.73627 | val_logloss: 0.60477 | val_accuracy: 0.67651 |  0:52:22s\n",
            "epoch 131| loss: 0.60596 | train_auc: 0.73948 | train_logloss: 0.60188 | train_accuracy: 0.67753 | val_auc: 0.73812 | val_logloss: 0.60322 | val_accuracy: 0.67567 |  0:52:46s\n",
            "epoch 132| loss: 0.60302 | train_auc: 0.74236 | train_logloss: 0.59923 | train_accuracy: 0.67825 | val_auc: 0.73983 | val_logloss: 0.6015  | val_accuracy: 0.67663 |  0:53:10s\n",
            "epoch 133| loss: 0.60266 | train_auc: 0.74315 | train_logloss: 0.59851 | train_accuracy: 0.6803  | val_auc: 0.74029 | val_logloss: 0.60097 | val_accuracy: 0.67729 |  0:53:34s\n",
            "epoch 134| loss: 0.60142 | train_auc: 0.74335 | train_logloss: 0.59882 | train_accuracy: 0.68053 | val_auc: 0.74043 | val_logloss: 0.6012  | val_accuracy: 0.67854 |  0:53:58s\n",
            "epoch 135| loss: 0.60043 | train_auc: 0.74417 | train_logloss: 0.59842 | train_accuracy: 0.67807 | val_auc: 0.74134 | val_logloss: 0.60122 | val_accuracy: 0.67388 |  0:54:22s\n",
            "epoch 136| loss: 0.60331 | train_auc: 0.74348 | train_logloss: 0.59742 | train_accuracy: 0.67964 | val_auc: 0.74069 | val_logloss: 0.6     | val_accuracy: 0.67663 |  0:54:46s\n",
            "epoch 137| loss: 0.60129 | train_auc: 0.74365 | train_logloss: 0.59802 | train_accuracy: 0.68152 | val_auc: 0.74037 | val_logloss: 0.6009  | val_accuracy: 0.67812 |  0:55:10s\n",
            "epoch 138| loss: 0.60226 | train_auc: 0.74437 | train_logloss: 0.59787 | train_accuracy: 0.68036 | val_auc: 0.74066 | val_logloss: 0.60132 | val_accuracy: 0.67666 |  0:55:34s\n",
            "epoch 139| loss: 0.6019  | train_auc: 0.74449 | train_logloss: 0.59889 | train_accuracy: 0.68078 | val_auc: 0.74115 | val_logloss: 0.60172 | val_accuracy: 0.67657 |  0:55:57s\n",
            "epoch 140| loss: 0.60261 | train_auc: 0.74386 | train_logloss: 0.59882 | train_accuracy: 0.68073 | val_auc: 0.73969 | val_logloss: 0.60239 | val_accuracy: 0.67627 |  0:56:21s\n",
            "epoch 141| loss: 0.60053 | train_auc: 0.74418 | train_logloss: 0.59815 | train_accuracy: 0.68085 | val_auc: 0.7397  | val_logloss: 0.60211 | val_accuracy: 0.67767 |  0:56:45s\n",
            "epoch 142| loss: 0.60217 | train_auc: 0.74402 | train_logloss: 0.59787 | train_accuracy: 0.67912 | val_auc: 0.74083 | val_logloss: 0.60117 | val_accuracy: 0.67648 |  0:57:09s\n",
            "epoch 143| loss: 0.60317 | train_auc: 0.7443  | train_logloss: 0.59746 | train_accuracy: 0.68071 | val_auc: 0.74041 | val_logloss: 0.60109 | val_accuracy: 0.67678 |  0:57:33s\n",
            "epoch 144| loss: 0.60109 | train_auc: 0.74436 | train_logloss: 0.59716 | train_accuracy: 0.68188 | val_auc: 0.74131 | val_logloss: 0.59998 | val_accuracy: 0.67923 |  0:57:57s\n",
            "epoch 145| loss: 0.60184 | train_auc: 0.74511 | train_logloss: 0.59635 | train_accuracy: 0.68201 | val_auc: 0.74065 | val_logloss: 0.60033 | val_accuracy: 0.67815 |  0:58:21s\n",
            "epoch 146| loss: 0.60191 | train_auc: 0.74388 | train_logloss: 0.59767 | train_accuracy: 0.67906 | val_auc: 0.74043 | val_logloss: 0.60064 | val_accuracy: 0.67618 |  0:58:45s\n",
            "epoch 147| loss: 0.60029 | train_auc: 0.74203 | train_logloss: 0.59914 | train_accuracy: 0.67976 | val_auc: 0.73752 | val_logloss: 0.60318 | val_accuracy: 0.67612 |  0:59:09s\n",
            "epoch 148| loss: 0.60321 | train_auc: 0.74345 | train_logloss: 0.59822 | train_accuracy: 0.67949 | val_auc: 0.73866 | val_logloss: 0.60292 | val_accuracy: 0.67749 |  0:59:33s\n",
            "epoch 149| loss: 0.60021 | train_auc: 0.74508 | train_logloss: 0.59713 | train_accuracy: 0.68074 | val_auc: 0.74186 | val_logloss: 0.60058 | val_accuracy: 0.67806 |  0:59:56s\n"
          ]
        }
      ],
      "source": [
        "training(X_train2, X_valid2, y_train2, y_valid2, 'train2', 'val2', clf2)"
      ]
    },
    {
      "cell_type": "code",
      "execution_count": null,
      "metadata": {
        "colab": {
          "base_uri": "https://localhost:8080/",
          "height": 300
        },
        "id": "trjsH-UXjFyz",
        "outputId": "82e200d5-84f7-4e7f-f67b-ad29f7f4c223"
      },
      "outputs": [
        {
          "data": {
            "text/plain": [
              "Text(0.5, 1.0, 'Loss for W/H')"
            ]
          },
          "execution_count": 73,
          "metadata": {},
          "output_type": "execute_result"
        },
        {
          "data": {
            "image/png": "[encoded data removed]",
            "text/plain": [
              "<Figure size 432x288 with 1 Axes>"
            ]
          },
          "metadata": {},
          "output_type": "display_data"
        }
      ],
      "source": [
        "# plot losses\n",
        "plt.plot(clf2.history['loss'])\n",
        "plt.title('Loss for W/H')"
      ]
    },
    {
      "cell_type": "code",
      "execution_count": null,
      "metadata": {
        "colab": {
          "base_uri": "https://localhost:8080/"
        },
        "id": "8ojqaOghjFyz",
        "outputId": "d3b76149-abc6-4da5-a27d-52f4b74f82ed"
      },
      "outputs": [
        {
          "name": "stdout",
          "output_type": "stream",
          "text": [
            "FINAL VALID AUC_SCORE: 0.8900024246792724\n",
            "FINAL VALID ACCURACY_SCORE: 0.8590272792534099\n",
            "FINAL TEST ACCURACY_SCORE: 0.8630372492836677\n",
            "FINAL TEST AUC_SCORE: 0.8901869733293497\n"
          ]
        }
      ],
      "source": [
        "test_model(X_test2, y_test2, X_valid2, y_valid2, clf2)"
      ]
    },
    {
      "cell_type": "code",
      "execution_count": null,
      "metadata": {
        "colab": {
          "base_uri": "https://localhost:8080/"
        },
        "id": "uK-JqPUDjFy0",
        "outputId": "dd909963-9658-4d94-b49a-c9d783080139"
      },
      "outputs": [
        {
          "name": "stdout",
          "output_type": "stream",
          "text": [
            "FINAL VALID AUC_SCORE: 0.8900024246792724\n",
            "FINAL VALID ACCURACY_SCORE: 0.8590272792534099\n",
            "FINAL TEST ACCURACY_SCORE: 0.8580628734891941\n",
            "FINAL TEST AUC_SCORE: 0.8857843929628668\n"
          ]
        }
      ],
      "source": [
        "test_model(X_train2, y_train2, X_valid2, y_valid2, clf2)"
      ]
    },
    {
      "cell_type": "code",
      "execution_count": null,
      "metadata": {
        "colab": {
          "base_uri": "https://localhost:8080/",
          "height": 300
        },
        "id": "r8ZgTuo1jFy0",
        "outputId": "732c495f-10c6-485e-91f9-1323d3d6db41"
      },
      "outputs": [
        {
          "data": {
            "text/plain": [
              "Text(0.5, 1.0, 'Accuracies for WH')"
            ]
          },
          "execution_count": 76,
          "metadata": {},
          "output_type": "execute_result"
        },
        {
          "data": {
            "image/png": "[encoded data removed]",
            "text/plain": [
              "<Figure size 432x288 with 1 Axes>"
            ]
          },
          "metadata": {},
          "output_type": "display_data"
        }
      ],
      "source": [
        "plt.plot(clf2.history['train_accuracy'])\n",
        "plt.plot(clf2.history['val_accuracy'])\n",
        "plt.title('Accuracies for WH')"
      ]
    },
    {
      "cell_type": "code",
      "execution_count": null,
      "metadata": {
        "colab": {
          "base_uri": "https://localhost:8080/",
          "height": 300
        },
        "id": "NASai36PjFy0",
        "outputId": "ef74bb56-95bd-4a8f-a291-0b474b15446b"
      },
      "outputs": [
        {
          "data": {
            "text/plain": [
              "Text(0.5, 1.0, 'Learning rates for WH')"
            ]
          },
          "execution_count": 77,
          "metadata": {},
          "output_type": "execute_result"
        },
        {
          "data": {
            "image/png": "[encoded data removed]",
            "text/plain": [
              "<Figure size 432x288 with 1 Axes>"
            ]
          },
          "metadata": {},
          "output_type": "display_data"
        }
      ],
      "source": [
        "# plot learning rates\n",
        "plt.plot(clf2.history['lr'])\n",
        "plt.title('Learning rates for WH')"
      ]
    },
    {
      "cell_type": "code",
      "execution_count": null,
      "metadata": {
        "colab": {
          "base_uri": "https://localhost:8080/",
          "height": 300
        },
        "id": "NFAXfDffjFy1",
        "outputId": "df14be55-3b89-42e4-f836-b52747038ff0"
      },
      "outputs": [
        {
          "data": {
            "text/plain": [
              "Text(0.5, 1.0, 'Area under the curves for WH')"
            ]
          },
          "execution_count": 78,
          "metadata": {},
          "output_type": "execute_result"
        },
        {
          "data": {
            "image/png": "[encoded data removed]",
            "text/plain": [
              "<Figure size 432x288 with 1 Axes>"
            ]
          },
          "metadata": {},
          "output_type": "display_data"
        }
      ],
      "source": [
        "plt.plot(clf2.history['train_auc'])\n",
        "plt.plot(clf2.history['val_auc'])\n",
        "plt.title('Area under the curves for WH')"
      ]
    },
    {
      "cell_type": "code",
      "execution_count": null,
      "metadata": {
        "id": "w9tcJPLVjFy1"
      },
      "outputs": [],
      "source": [
        "# # save tabnet model \n",
        "# saving_path_name = \"/content/models/tabnet_WA_bs=2048\"\n",
        "# saved_filepath = clf2.save_model(saving_path_name)"
      ]
    },
    {
      "cell_type": "code",
      "execution_count": null,
      "metadata": {
        "id": "VdXs4j45jFy2"
      },
      "outputs": [],
      "source": []
    },
    {
      "cell_type": "markdown",
      "metadata": {
        "id": "jr2ZQ2-ejFy2"
      },
      "source": [
        "### HAWH"
      ]
    },
    {
      "cell_type": "code",
      "execution_count": null,
      "metadata": {
        "colab": {
          "base_uri": "https://localhost:8080/"
        },
        "id": "tWMDdSH8jFy2",
        "outputId": "1ce9dfac-09b2-45b0-dfd4-2d55b517d5bd"
      },
      "outputs": [
        {
          "name": "stdout",
          "output_type": "stream",
          "text": [
            "epoch 0  | loss: 0.52968 | train_auc: 0.92662 | train_logloss: 0.38557 | train_accuracy: 0.81004 | val_auc: 0.92759 | val_logloss: 0.3836  | val_accuracy: 0.80979 |  0:00:30s\n",
            "epoch 1  | loss: 0.2148  | train_auc: 0.96597 | train_logloss: 0.2034  | train_accuracy: 0.92352 | val_auc: 0.96548 | val_logloss: 0.2043  | val_accuracy: 0.92375 |  0:01:01s\n",
            "epoch 2  | loss: 0.16863 | train_auc: 0.96963 | train_logloss: 0.15174 | train_accuracy: 0.95347 | val_auc: 0.9682  | val_logloss: 0.15444 | val_accuracy: 0.95265 |  0:01:30s\n",
            "epoch 3  | loss: 0.15754 | train_auc: 0.97055 | train_logloss: 0.14098 | train_accuracy: 0.96105 | val_auc: 0.96883 | val_logloss: 0.14384 | val_accuracy: 0.96059 |  0:02:00s\n",
            "epoch 4  | loss: 0.15004 | train_auc: 0.97102 | train_logloss: 0.13876 | train_accuracy: 0.96293 | val_auc: 0.96992 | val_logloss: 0.1411  | val_accuracy: 0.96254 |  0:02:30s\n",
            "epoch 5  | loss: 0.14564 | train_auc: 0.97135 | train_logloss: 0.13776 | train_accuracy: 0.96319 | val_auc: 0.96999 | val_logloss: 0.14001 | val_accuracy: 0.96226 |  0:02:59s\n",
            "epoch 6  | loss: 0.14341 | train_auc: 0.97116 | train_logloss: 0.13655 | train_accuracy: 0.96407 | val_auc: 0.96954 | val_logloss: 0.1388  | val_accuracy: 0.96314 |  0:03:29s\n",
            "epoch 7  | loss: 0.14303 | train_auc: 0.97098 | train_logloss: 0.13507 | train_accuracy: 0.96325 | val_auc: 0.96943 | val_logloss: 0.13759 | val_accuracy: 0.96294 |  0:03:59s\n",
            "epoch 8  | loss: 0.14089 | train_auc: 0.97162 | train_logloss: 0.13709 | train_accuracy: 0.95966 | val_auc: 0.97019 | val_logloss: 0.13932 | val_accuracy: 0.95907 |  0:04:29s\n",
            "epoch 9  | loss: 0.14032 | train_auc: 0.97193 | train_logloss: 0.15634 | train_accuracy: 0.96142 | val_auc: 0.97102 | val_logloss: 0.15892 | val_accuracy: 0.96034 |  0:04:59s\n",
            "epoch 10 | loss: 0.1389  | train_auc: 0.97202 | train_logloss: 0.13296 | train_accuracy: 0.96489 | val_auc: 0.97071 | val_logloss: 0.13548 | val_accuracy: 0.96421 |  0:05:29s\n",
            "epoch 11 | loss: 0.13924 | train_auc: 0.972   | train_logloss: 0.13231 | train_accuracy: 0.96468 | val_auc: 0.97031 | val_logloss: 0.13497 | val_accuracy: 0.96406 |  0:05:59s\n",
            "epoch 12 | loss: 0.13956 | train_auc: 0.97217 | train_logloss: 0.13437 | train_accuracy: 0.95968 | val_auc: 0.97074 | val_logloss: 0.13697 | val_accuracy: 0.95887 |  0:06:29s\n",
            "epoch 13 | loss: 0.13818 | train_auc: 0.97217 | train_logloss: 0.13204 | train_accuracy: 0.9651  | val_auc: 0.97014 | val_logloss: 0.13496 | val_accuracy: 0.96453 |  0:06:59s\n",
            "epoch 14 | loss: 0.13868 | train_auc: 0.97213 | train_logloss: 0.13232 | train_accuracy: 0.96255 | val_auc: 0.97028 | val_logloss: 0.13496 | val_accuracy: 0.96196 |  0:07:30s\n",
            "epoch 15 | loss: 0.13691 | train_auc: 0.97234 | train_logloss: 0.13188 | train_accuracy: 0.96447 | val_auc: 0.97073 | val_logloss: 0.13437 | val_accuracy: 0.96376 |  0:08:01s\n",
            "epoch 16 | loss: 0.13571 | train_auc: 0.97277 | train_logloss: 0.13131 | train_accuracy: 0.96398 | val_auc: 0.9711  | val_logloss: 0.13407 | val_accuracy: 0.96361 |  0:08:32s\n",
            "epoch 17 | loss: 0.13729 | train_auc: 0.97262 | train_logloss: 0.13155 | train_accuracy: 0.96239 | val_auc: 0.9711  | val_logloss: 0.13417 | val_accuracy: 0.96201 |  0:09:03s\n",
            "epoch 18 | loss: 0.13785 | train_auc: 0.9724  | train_logloss: 0.13116 | train_accuracy: 0.96375 | val_auc: 0.97131 | val_logloss: 0.13348 | val_accuracy: 0.96336 |  0:09:33s\n",
            "epoch 19 | loss: 0.13731 | train_auc: 0.97278 | train_logloss: 0.13157 | train_accuracy: 0.96223 | val_auc: 0.97169 | val_logloss: 0.13401 | val_accuracy: 0.96196 |  0:10:04s\n",
            "epoch 20 | loss: 0.13817 | train_auc: 0.97284 | train_logloss: 0.13228 | train_accuracy: 0.96331 | val_auc: 0.97154 | val_logloss: 0.13456 | val_accuracy: 0.96284 |  0:10:34s\n",
            "epoch 21 | loss: 0.13879 | train_auc: 0.97262 | train_logloss: 0.13197 | train_accuracy: 0.96446 | val_auc: 0.97158 | val_logloss: 0.13407 | val_accuracy: 0.96389 |  0:11:06s\n",
            "epoch 22 | loss: 0.13573 | train_auc: 0.97264 | train_logloss: 0.1313  | train_accuracy: 0.96213 | val_auc: 0.97208 | val_logloss: 0.13315 | val_accuracy: 0.96176 |  0:11:38s\n",
            "epoch 23 | loss: 0.1395  | train_auc: 0.97273 | train_logloss: 0.13072 | train_accuracy: 0.96427 | val_auc: 0.97144 | val_logloss: 0.13304 | val_accuracy: 0.96386 |  0:12:29s\n",
            "epoch 24 | loss: 0.13494 | train_auc: 0.97261 | train_logloss: 0.13561 | train_accuracy: 0.9597  | val_auc: 0.97166 | val_logloss: 0.13756 | val_accuracy: 0.95919 |  0:13:00s\n",
            "epoch 25 | loss: 0.13747 | train_auc: 0.97268 | train_logloss: 0.13078 | train_accuracy: 0.96317 | val_auc: 0.97125 | val_logloss: 0.1334  | val_accuracy: 0.96276 |  0:13:32s\n",
            "epoch 26 | loss: 0.13857 | train_auc: 0.9728  | train_logloss: 0.13276 | train_accuracy: 0.96319 | val_auc: 0.97137 | val_logloss: 0.13523 | val_accuracy: 0.96281 |  0:14:04s\n",
            "epoch 27 | loss: 0.13546 | train_auc: 0.97262 | train_logloss: 0.13058 | train_accuracy: 0.96383 | val_auc: 0.97116 | val_logloss: 0.13307 | val_accuracy: 0.96359 |  0:14:35s\n",
            "epoch 28 | loss: 0.13746 | train_auc: 0.9726  | train_logloss: 0.13007 | train_accuracy: 0.96461 | val_auc: 0.97127 | val_logloss: 0.13249 | val_accuracy: 0.96426 |  0:15:07s\n",
            "epoch 29 | loss: 0.13731 | train_auc: 0.97302 | train_logloss: 0.1307  | train_accuracy: 0.96504 | val_auc: 0.97182 | val_logloss: 0.13273 | val_accuracy: 0.96433 |  0:15:40s\n",
            "epoch 30 | loss: 0.13559 | train_auc: 0.97289 | train_logloss: 0.1313  | train_accuracy: 0.96477 | val_auc: 0.97173 | val_logloss: 0.13336 | val_accuracy: 0.96396 |  0:16:12s\n",
            "epoch 31 | loss: 0.13566 | train_auc: 0.97323 | train_logloss: 0.12958 | train_accuracy: 0.96524 | val_auc: 0.97182 | val_logloss: 0.13207 | val_accuracy: 0.96443 |  0:16:45s\n",
            "epoch 32 | loss: 0.1375  | train_auc: 0.97344 | train_logloss: 0.1296  | train_accuracy: 0.96379 | val_auc: 0.97207 | val_logloss: 0.13197 | val_accuracy: 0.96346 |  0:17:17s\n",
            "epoch 33 | loss: 0.13585 | train_auc: 0.97346 | train_logloss: 0.13136 | train_accuracy: 0.96342 | val_auc: 0.97226 | val_logloss: 0.13364 | val_accuracy: 0.96284 |  0:17:50s\n",
            "epoch 34 | loss: 0.13701 | train_auc: 0.97358 | train_logloss: 0.13213 | train_accuracy: 0.96264 | val_auc: 0.97234 | val_logloss: 0.13461 | val_accuracy: 0.96214 |  0:18:22s\n",
            "epoch 35 | loss: 0.13307 | train_auc: 0.9732  | train_logloss: 0.13167 | train_accuracy: 0.96127 | val_auc: 0.97227 | val_logloss: 0.13395 | val_accuracy: 0.96062 |  0:18:55s\n",
            "epoch 36 | loss: 0.13665 | train_auc: 0.97372 | train_logloss: 0.1296  | train_accuracy: 0.96449 | val_auc: 0.97267 | val_logloss: 0.13179 | val_accuracy: 0.96394 |  0:19:27s\n",
            "epoch 37 | loss: 0.13496 | train_auc: 0.97377 | train_logloss: 0.12938 | train_accuracy: 0.96468 | val_auc: 0.97272 | val_logloss: 0.13154 | val_accuracy: 0.96409 |  0:19:59s\n",
            "epoch 38 | loss: 0.13602 | train_auc: 0.97413 | train_logloss: 0.12958 | train_accuracy: 0.96501 | val_auc: 0.97252 | val_logloss: 0.13202 | val_accuracy: 0.96441 |  0:20:32s\n",
            "epoch 39 | loss: 0.13717 | train_auc: 0.97413 | train_logloss: 0.13161 | train_accuracy: 0.96249 | val_auc: 0.97297 | val_logloss: 0.13382 | val_accuracy: 0.96206 |  0:21:02s\n",
            "epoch 40 | loss: 0.13708 | train_auc: 0.9736  | train_logloss: 0.13078 | train_accuracy: 0.96219 | val_auc: 0.97255 | val_logloss: 0.13299 | val_accuracy: 0.96174 |  0:21:33s\n",
            "epoch 41 | loss: 0.13571 | train_auc: 0.97375 | train_logloss: 0.12919 | train_accuracy: 0.96449 | val_auc: 0.97236 | val_logloss: 0.13171 | val_accuracy: 0.96406 |  0:22:04s\n",
            "epoch 42 | loss: 0.1331  | train_auc: 0.97411 | train_logloss: 0.12944 | train_accuracy: 0.96448 | val_auc: 0.9726  | val_logloss: 0.13196 | val_accuracy: 0.96406 |  0:22:34s\n",
            "epoch 43 | loss: 0.1366  | train_auc: 0.97413 | train_logloss: 0.13082 | train_accuracy: 0.96427 | val_auc: 0.97276 | val_logloss: 0.1334  | val_accuracy: 0.96364 |  0:23:04s\n",
            "\n",
            "Early stopping occured at epoch 43 with best_epoch = 13 and best_val_accuracy = 0.96453\n",
            "Best weights from best epoch are automatically used!\n"
          ]
        }
      ],
      "source": [
        "training(X_train3, X_valid3, y_train3, y_valid3, 'train3', 'val3', clf3)"
      ]
    },
    {
      "cell_type": "code",
      "execution_count": null,
      "metadata": {
        "id": "-xLH2f-pjFy3"
      },
      "outputs": [],
      "source": [
        "# plot losses\n",
        "plt.plot(clf2.history['loss'])\n",
        "plt.title('Loss for HAWH')"
      ]
    },
    {
      "cell_type": "code",
      "execution_count": null,
      "metadata": {
        "colab": {
          "base_uri": "https://localhost:8080/"
        },
        "id": "4HztHOufjFy3",
        "outputId": "dfeebc33-fc8f-4bca-9192-819aab294573"
      },
      "outputs": [
        {
          "name": "stdout",
          "output_type": "stream",
          "text": [
            "FINAL VALID AUC_SCORE: 0.972758897367551\n",
            "FINAL VALID ACCURACY_SCORE: 0.9636359098509996\n",
            "FINAL TEST ACCURACY_SCORE: 0.9646770400760495\n",
            "FINAL TEST AUC_SCORE: 0.9719251864825134\n"
          ]
        }
      ],
      "source": [
        "test_model(X_test3, y_test3, X_valid3, y_valid3, clf3)"
      ]
    },
    {
      "cell_type": "code",
      "execution_count": null,
      "metadata": {
        "colab": {
          "base_uri": "https://localhost:8080/"
        },
        "id": "tSS1OqFljFy4",
        "outputId": "70d0175b-c509-403b-dd47-0b4c92ae7213"
      },
      "outputs": [
        {
          "name": "stdout",
          "output_type": "stream",
          "text": [
            "FINAL VALID AUC_SCORE: 0.972758897367551\n",
            "FINAL VALID ACCURACY_SCORE: 0.9636359098509996\n",
            "FINAL TEST ACCURACY_SCORE: 0.9651025944905788\n",
            "FINAL TEST AUC_SCORE: 0.9721663134674872\n"
          ]
        }
      ],
      "source": [
        "test_model(X_train3, y_train3, X_valid3, y_valid3, clf3)"
      ]
    },
    {
      "cell_type": "code",
      "execution_count": null,
      "metadata": {
        "colab": {
          "base_uri": "https://localhost:8080/",
          "height": 207
        },
        "id": "7cVVrDy5jFy4",
        "outputId": "814232ce-961d-401e-89a0-53e14b7cd49a"
      },
      "outputs": [
        {
          "ename": "AttributeError",
          "evalue": "ignored",
          "output_type": "error",
          "traceback": [
            "\u001b[0;31m---------------------------------------------------------------------------\u001b[0m",
            "\u001b[0;31mAttributeError\u001b[0m                            Traceback (most recent call last)",
            "\u001b[0;32m<ipython-input-34-154a97f85970>\u001b[0m in \u001b[0;36m<module>\u001b[0;34m()\u001b[0m\n\u001b[0;32m----> 1\u001b[0;31m \u001b[0mplt\u001b[0m\u001b[0;34m.\u001b[0m\u001b[0mplot\u001b[0m\u001b[0;34m(\u001b[0m\u001b[0mclf2\u001b[0m\u001b[0;34m.\u001b[0m\u001b[0mhistory\u001b[0m\u001b[0;34m[\u001b[0m\u001b[0;34m'train_accuracy'\u001b[0m\u001b[0;34m]\u001b[0m\u001b[0;34m)\u001b[0m\u001b[0;34m\u001b[0m\u001b[0;34m\u001b[0m\u001b[0m\n\u001b[0m\u001b[1;32m      2\u001b[0m \u001b[0mplt\u001b[0m\u001b[0;34m.\u001b[0m\u001b[0mplot\u001b[0m\u001b[0;34m(\u001b[0m\u001b[0mclf2\u001b[0m\u001b[0;34m.\u001b[0m\u001b[0mhistory\u001b[0m\u001b[0;34m[\u001b[0m\u001b[0;34m'val_accuracy'\u001b[0m\u001b[0;34m]\u001b[0m\u001b[0;34m)\u001b[0m\u001b[0;34m\u001b[0m\u001b[0;34m\u001b[0m\u001b[0m\n\u001b[1;32m      3\u001b[0m \u001b[0mplt\u001b[0m\u001b[0;34m.\u001b[0m\u001b[0mtitle\u001b[0m\u001b[0;34m(\u001b[0m\u001b[0;34m'Accuracies for HAWH'\u001b[0m\u001b[0;34m)\u001b[0m\u001b[0;34m\u001b[0m\u001b[0;34m\u001b[0m\u001b[0m\n",
            "\u001b[0;31mAttributeError\u001b[0m: 'TabNetClassifier' object has no attribute 'history'"
          ]
        }
      ],
      "source": [
        "plt.plot(clf2.history['train_accuracy'])\n",
        "plt.plot(clf2.history['val_accuracy'])\n",
        "plt.title('Accuracies for HAWH')"
      ]
    },
    {
      "cell_type": "code",
      "execution_count": null,
      "metadata": {
        "id": "C6dolBhWjFy5"
      },
      "outputs": [],
      "source": [
        "# plot learning rates\n",
        "plt.plot(clf2.history['lr'])\n",
        "plt.title('Learning rates for HAWH')"
      ]
    },
    {
      "cell_type": "code",
      "execution_count": null,
      "metadata": {
        "id": "-9WSROdwjFy5"
      },
      "outputs": [],
      "source": [
        "plt.plot(clf2.history['train_auc'])\n",
        "plt.plot(clf2.history['val_auc'])\n",
        "plt.title('Area under the curves for HAWH')"
      ]
    },
    {
      "cell_type": "code",
      "execution_count": null,
      "metadata": {
        "id": "7ujUGHrWjFy6"
      },
      "outputs": [],
      "source": [
        "# # save tabnet model \n",
        "# saving_path_name = \"/content/models/tabnet_WA_bs=2048\"\n",
        "# saved_filepath = clf2.save_model(saving_path_name)"
      ]
    },
    {
      "cell_type": "code",
      "execution_count": null,
      "metadata": {
        "id": "_TWQvs93jFy6"
      },
      "outputs": [],
      "source": []
    }
  ],
  "metadata": {
    "accelerator": "GPU",
    "colab": {
      "collapsed_sections": [],
      "toc_visible": true,
      "provenance": []
    },
    "kernelspec": {
      "display_name": "Python 3",
      "name": "python3"
    },
    "language_info": {
      "name": "python"
    }
  },
  "nbformat": 4,
  "nbformat_minor": 0
}
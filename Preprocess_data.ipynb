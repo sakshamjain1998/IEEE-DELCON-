{
  "nbformat": 4,
  "nbformat_minor": 0,
  "metadata": {
    "colab": {
      "provenance": [],
      "collapsed_sections": []
    },
    "kernelspec": {
      "display_name": "Python 3",
      "name": "python3"
    },
    "language_info": {
      "name": "python"
    }
  },
  "cells": [
    {
      "cell_type": "code",
      "metadata": {
        "id": "XPAXUV2Y7NA4"
      },
      "source": [
        "import pandas as pd"
      ],
      "execution_count": null,
      "outputs": []
    },
    {
      "cell_type": "markdown",
      "metadata": {
        "id": "YMgMLASlhxwv"
      },
      "source": [
        "# Read Data"
      ]
    },
    {
      "cell_type": "code",
      "metadata": {
        "id": "_lG9Khvl7YOG"
      },
      "source": [
        "df = pd.read_excel('5_6_new_original.xlsx')"
      ],
      "execution_count": null,
      "outputs": []
    },
    {
      "cell_type": "code",
      "metadata": {
        "colab": {
          "base_uri": "https://localhost:8080/",
          "height": 484
        },
        "id": "eTsLreKd7xwr",
        "outputId": "412d257b-3a8b-4ccf-8072-9d687b7219bf"
      },
      "source": [
        "df "
      ],
      "execution_count": null,
      "outputs": [
        {
          "data": {
            "text/html": [
              "<div>\n",
              "<style scoped>\n",
              "    .dataframe tbody tr th:only-of-type {\n",
              "        vertical-align: middle;\n",
              "    }\n",
              "\n",
              "    .dataframe tbody tr th {\n",
              "        vertical-align: top;\n",
              "    }\n",
              "\n",
              "    .dataframe thead th {\n",
              "        text-align: right;\n",
              "    }\n",
              "</style>\n",
              "<table border=\"1\" class=\"dataframe\">\n",
              "  <thead>\n",
              "    <tr style=\"text-align: right;\">\n",
              "      <th></th>\n",
              "      <th>state</th>\n",
              "      <th>area</th>\n",
              "      <th>religion</th>\n",
              "      <th>caste</th>\n",
              "      <th>type of family</th>\n",
              "      <th>father's education</th>\n",
              "      <th>father's occupation</th>\n",
              "      <th>mother's education</th>\n",
              "      <th>mother's occupation</th>\n",
              "      <th>total family members</th>\n",
              "      <th>exposure to mass media</th>\n",
              "      <th>source of drinking water</th>\n",
              "      <th>toilet facility</th>\n",
              "      <th>mother's age</th>\n",
              "      <th>mother's bmi</th>\n",
              "      <th>child's age</th>\n",
              "      <th>sex of child</th>\n",
              "      <th>birth weight</th>\n",
              "      <th>initiation of bf(early initiation)</th>\n",
              "      <th>wealth index</th>\n",
              "      <th>moths of bf</th>\n",
              "      <th>history of illness</th>\n",
              "      <th>immunization</th>\n",
              "      <th>index to birth history</th>\n",
              "      <th>no of living children</th>\n",
              "      <th>sex of household head</th>\n",
              "      <th>dietary score</th>\n",
              "      <th>h/a</th>\n",
              "      <th>w/a</th>\n",
              "      <th>w/h</th>\n",
              "      <th>bmi</th>\n",
              "    </tr>\n",
              "  </thead>\n",
              "  <tbody>\n",
              "    <tr>\n",
              "      <th>0</th>\n",
              "      <td>28</td>\n",
              "      <td>2</td>\n",
              "      <td>1</td>\n",
              "      <td>3.0</td>\n",
              "      <td>2</td>\n",
              "      <td>1.0</td>\n",
              "      <td>5.0</td>\n",
              "      <td>1</td>\n",
              "      <td>5</td>\n",
              "      <td>6</td>\n",
              "      <td>1</td>\n",
              "      <td>13</td>\n",
              "      <td>31</td>\n",
              "      <td>17</td>\n",
              "      <td>1659</td>\n",
              "      <td>35.0</td>\n",
              "      <td>1</td>\n",
              "      <td>9996</td>\n",
              "      <td>106.0</td>\n",
              "      <td>2</td>\n",
              "      <td>35</td>\n",
              "      <td>2</td>\n",
              "      <td>2</td>\n",
              "      <td>1</td>\n",
              "      <td>2</td>\n",
              "      <td>1</td>\n",
              "      <td>1</td>\n",
              "      <td>-267.0</td>\n",
              "      <td>-292.0</td>\n",
              "      <td>-213.0</td>\n",
              "      <td>-175.0</td>\n",
              "    </tr>\n",
              "    <tr>\n",
              "      <th>1</th>\n",
              "      <td>28</td>\n",
              "      <td>2</td>\n",
              "      <td>2</td>\n",
              "      <td>3.0</td>\n",
              "      <td>2</td>\n",
              "      <td>2.0</td>\n",
              "      <td>5.0</td>\n",
              "      <td>0</td>\n",
              "      <td>5</td>\n",
              "      <td>7</td>\n",
              "      <td>1</td>\n",
              "      <td>13</td>\n",
              "      <td>31</td>\n",
              "      <td>16</td>\n",
              "      <td>2045</td>\n",
              "      <td>52.0</td>\n",
              "      <td>1</td>\n",
              "      <td>9996</td>\n",
              "      <td>102.0</td>\n",
              "      <td>3</td>\n",
              "      <td>24</td>\n",
              "      <td>2</td>\n",
              "      <td>2</td>\n",
              "      <td>1</td>\n",
              "      <td>2</td>\n",
              "      <td>1</td>\n",
              "      <td>0</td>\n",
              "      <td>-294.0</td>\n",
              "      <td>-165.0</td>\n",
              "      <td>21.0</td>\n",
              "      <td>54.0</td>\n",
              "    </tr>\n",
              "    <tr>\n",
              "      <th>2</th>\n",
              "      <td>28</td>\n",
              "      <td>2</td>\n",
              "      <td>1</td>\n",
              "      <td>4.0</td>\n",
              "      <td>2</td>\n",
              "      <td>2.0</td>\n",
              "      <td>5.0</td>\n",
              "      <td>2</td>\n",
              "      <td>0</td>\n",
              "      <td>8</td>\n",
              "      <td>1</td>\n",
              "      <td>13</td>\n",
              "      <td>12</td>\n",
              "      <td>22</td>\n",
              "      <td>1729</td>\n",
              "      <td>11.0</td>\n",
              "      <td>2</td>\n",
              "      <td>9996</td>\n",
              "      <td>201.0</td>\n",
              "      <td>4</td>\n",
              "      <td>11</td>\n",
              "      <td>3</td>\n",
              "      <td>1</td>\n",
              "      <td>1</td>\n",
              "      <td>2</td>\n",
              "      <td>1</td>\n",
              "      <td>1</td>\n",
              "      <td>-106.0</td>\n",
              "      <td>-89.0</td>\n",
              "      <td>-50.0</td>\n",
              "      <td>-39.0</td>\n",
              "    </tr>\n",
              "    <tr>\n",
              "      <th>3</th>\n",
              "      <td>28</td>\n",
              "      <td>2</td>\n",
              "      <td>1</td>\n",
              "      <td>4.0</td>\n",
              "      <td>2</td>\n",
              "      <td>2.0</td>\n",
              "      <td>5.0</td>\n",
              "      <td>2</td>\n",
              "      <td>0</td>\n",
              "      <td>8</td>\n",
              "      <td>1</td>\n",
              "      <td>13</td>\n",
              "      <td>12</td>\n",
              "      <td>22</td>\n",
              "      <td>1729</td>\n",
              "      <td>23.0</td>\n",
              "      <td>1</td>\n",
              "      <td>9996</td>\n",
              "      <td>201.0</td>\n",
              "      <td>4</td>\n",
              "      <td>12</td>\n",
              "      <td>0</td>\n",
              "      <td>4</td>\n",
              "      <td>2</td>\n",
              "      <td>2</td>\n",
              "      <td>1</td>\n",
              "      <td>1</td>\n",
              "      <td>-217.0</td>\n",
              "      <td>-102.0</td>\n",
              "      <td>14.0</td>\n",
              "      <td>52.0</td>\n",
              "    </tr>\n",
              "    <tr>\n",
              "      <th>4</th>\n",
              "      <td>28</td>\n",
              "      <td>2</td>\n",
              "      <td>2</td>\n",
              "      <td>3.0</td>\n",
              "      <td>2</td>\n",
              "      <td>9.0</td>\n",
              "      <td>8.0</td>\n",
              "      <td>0</td>\n",
              "      <td>5</td>\n",
              "      <td>6</td>\n",
              "      <td>2</td>\n",
              "      <td>13</td>\n",
              "      <td>31</td>\n",
              "      <td>18</td>\n",
              "      <td>1874</td>\n",
              "      <td>35.0</td>\n",
              "      <td>1</td>\n",
              "      <td>9996</td>\n",
              "      <td>0.0</td>\n",
              "      <td>3</td>\n",
              "      <td>35</td>\n",
              "      <td>2</td>\n",
              "      <td>2</td>\n",
              "      <td>1</td>\n",
              "      <td>1</td>\n",
              "      <td>1</td>\n",
              "      <td>2</td>\n",
              "      <td>-281.0</td>\n",
              "      <td>-159.0</td>\n",
              "      <td>1.0</td>\n",
              "      <td>42.0</td>\n",
              "    </tr>\n",
              "    <tr>\n",
              "      <th>...</th>\n",
              "      <td>...</td>\n",
              "      <td>...</td>\n",
              "      <td>...</td>\n",
              "      <td>...</td>\n",
              "      <td>...</td>\n",
              "      <td>...</td>\n",
              "      <td>...</td>\n",
              "      <td>...</td>\n",
              "      <td>...</td>\n",
              "      <td>...</td>\n",
              "      <td>...</td>\n",
              "      <td>...</td>\n",
              "      <td>...</td>\n",
              "      <td>...</td>\n",
              "      <td>...</td>\n",
              "      <td>...</td>\n",
              "      <td>...</td>\n",
              "      <td>...</td>\n",
              "      <td>...</td>\n",
              "      <td>...</td>\n",
              "      <td>...</td>\n",
              "      <td>...</td>\n",
              "      <td>...</td>\n",
              "      <td>...</td>\n",
              "      <td>...</td>\n",
              "      <td>...</td>\n",
              "      <td>...</td>\n",
              "      <td>...</td>\n",
              "      <td>...</td>\n",
              "      <td>...</td>\n",
              "      <td>...</td>\n",
              "    </tr>\n",
              "    <tr>\n",
              "      <th>51550</th>\n",
              "      <td>19</td>\n",
              "      <td>2</td>\n",
              "      <td>1</td>\n",
              "      <td>4.0</td>\n",
              "      <td>2</td>\n",
              "      <td>0.0</td>\n",
              "      <td>8.0</td>\n",
              "      <td>2</td>\n",
              "      <td>0</td>\n",
              "      <td>5</td>\n",
              "      <td>2</td>\n",
              "      <td>21</td>\n",
              "      <td>22</td>\n",
              "      <td>19</td>\n",
              "      <td>1765</td>\n",
              "      <td>54.0</td>\n",
              "      <td>2</td>\n",
              "      <td>9996</td>\n",
              "      <td>202.0</td>\n",
              "      <td>1</td>\n",
              "      <td>54</td>\n",
              "      <td>3</td>\n",
              "      <td>4</td>\n",
              "      <td>1</td>\n",
              "      <td>1</td>\n",
              "      <td>1</td>\n",
              "      <td>0</td>\n",
              "      <td>-380.0</td>\n",
              "      <td>-358.0</td>\n",
              "      <td>-184.0</td>\n",
              "      <td>-145.0</td>\n",
              "    </tr>\n",
              "    <tr>\n",
              "      <th>51551</th>\n",
              "      <td>19</td>\n",
              "      <td>2</td>\n",
              "      <td>1</td>\n",
              "      <td>4.0</td>\n",
              "      <td>1</td>\n",
              "      <td>1.0</td>\n",
              "      <td>8.0</td>\n",
              "      <td>1</td>\n",
              "      <td>0</td>\n",
              "      <td>4</td>\n",
              "      <td>2</td>\n",
              "      <td>21</td>\n",
              "      <td>22</td>\n",
              "      <td>22</td>\n",
              "      <td>1494</td>\n",
              "      <td>49.0</td>\n",
              "      <td>1</td>\n",
              "      <td>9996</td>\n",
              "      <td>203.0</td>\n",
              "      <td>1</td>\n",
              "      <td>10</td>\n",
              "      <td>0</td>\n",
              "      <td>4</td>\n",
              "      <td>1</td>\n",
              "      <td>2</td>\n",
              "      <td>1</td>\n",
              "      <td>0</td>\n",
              "      <td>-385.0</td>\n",
              "      <td>-349.0</td>\n",
              "      <td>-190.0</td>\n",
              "      <td>-127.0</td>\n",
              "    </tr>\n",
              "    <tr>\n",
              "      <th>51552</th>\n",
              "      <td>19</td>\n",
              "      <td>2</td>\n",
              "      <td>1</td>\n",
              "      <td>4.0</td>\n",
              "      <td>2</td>\n",
              "      <td>2.0</td>\n",
              "      <td>5.0</td>\n",
              "      <td>2</td>\n",
              "      <td>0</td>\n",
              "      <td>5</td>\n",
              "      <td>1</td>\n",
              "      <td>21</td>\n",
              "      <td>23</td>\n",
              "      <td>16</td>\n",
              "      <td>2069</td>\n",
              "      <td>25.0</td>\n",
              "      <td>2</td>\n",
              "      <td>3500</td>\n",
              "      <td>101.0</td>\n",
              "      <td>2</td>\n",
              "      <td>25</td>\n",
              "      <td>0</td>\n",
              "      <td>4</td>\n",
              "      <td>1</td>\n",
              "      <td>1</td>\n",
              "      <td>1</td>\n",
              "      <td>1</td>\n",
              "      <td>-317.0</td>\n",
              "      <td>-243.0</td>\n",
              "      <td>-89.0</td>\n",
              "      <td>-45.0</td>\n",
              "    </tr>\n",
              "    <tr>\n",
              "      <th>51553</th>\n",
              "      <td>19</td>\n",
              "      <td>2</td>\n",
              "      <td>1</td>\n",
              "      <td>4.0</td>\n",
              "      <td>2</td>\n",
              "      <td>2.0</td>\n",
              "      <td>5.0</td>\n",
              "      <td>2</td>\n",
              "      <td>0</td>\n",
              "      <td>7</td>\n",
              "      <td>0</td>\n",
              "      <td>21</td>\n",
              "      <td>22</td>\n",
              "      <td>19</td>\n",
              "      <td>2299</td>\n",
              "      <td>40.0</td>\n",
              "      <td>1</td>\n",
              "      <td>2500</td>\n",
              "      <td>101.0</td>\n",
              "      <td>3</td>\n",
              "      <td>40</td>\n",
              "      <td>0</td>\n",
              "      <td>4</td>\n",
              "      <td>1</td>\n",
              "      <td>3</td>\n",
              "      <td>1</td>\n",
              "      <td>0</td>\n",
              "      <td>-156.0</td>\n",
              "      <td>-167.0</td>\n",
              "      <td>-122.0</td>\n",
              "      <td>-101.0</td>\n",
              "    </tr>\n",
              "    <tr>\n",
              "      <th>51554</th>\n",
              "      <td>19</td>\n",
              "      <td>2</td>\n",
              "      <td>1</td>\n",
              "      <td>4.0</td>\n",
              "      <td>2</td>\n",
              "      <td>2.0</td>\n",
              "      <td>3.0</td>\n",
              "      <td>2</td>\n",
              "      <td>0</td>\n",
              "      <td>8</td>\n",
              "      <td>1</td>\n",
              "      <td>21</td>\n",
              "      <td>12</td>\n",
              "      <td>22</td>\n",
              "      <td>1843</td>\n",
              "      <td>44.0</td>\n",
              "      <td>2</td>\n",
              "      <td>2250</td>\n",
              "      <td>101.0</td>\n",
              "      <td>4</td>\n",
              "      <td>44</td>\n",
              "      <td>0</td>\n",
              "      <td>4</td>\n",
              "      <td>1</td>\n",
              "      <td>1</td>\n",
              "      <td>1</td>\n",
              "      <td>0</td>\n",
              "      <td>52.0</td>\n",
              "      <td>35.0</td>\n",
              "      <td>9.0</td>\n",
              "      <td>2.0</td>\n",
              "    </tr>\n",
              "  </tbody>\n",
              "</table>\n",
              "<p>51555 rows × 31 columns</p>\n",
              "</div>"
            ],
            "text/plain": [
              "       state  area  religion  caste  ...    h/a    w/a    w/h    bmi\n",
              "0         28     2         1    3.0  ... -267.0 -292.0 -213.0 -175.0\n",
              "1         28     2         2    3.0  ... -294.0 -165.0   21.0   54.0\n",
              "2         28     2         1    4.0  ... -106.0  -89.0  -50.0  -39.0\n",
              "3         28     2         1    4.0  ... -217.0 -102.0   14.0   52.0\n",
              "4         28     2         2    3.0  ... -281.0 -159.0    1.0   42.0\n",
              "...      ...   ...       ...    ...  ...    ...    ...    ...    ...\n",
              "51550     19     2         1    4.0  ... -380.0 -358.0 -184.0 -145.0\n",
              "51551     19     2         1    4.0  ... -385.0 -349.0 -190.0 -127.0\n",
              "51552     19     2         1    4.0  ... -317.0 -243.0  -89.0  -45.0\n",
              "51553     19     2         1    4.0  ... -156.0 -167.0 -122.0 -101.0\n",
              "51554     19     2         1    4.0  ...   52.0   35.0    9.0    2.0\n",
              "\n",
              "[51555 rows x 31 columns]"
            ]
          },
          "execution_count": 3,
          "metadata": {},
          "output_type": "execute_result"
        }
      ]
    },
    {
      "cell_type": "code",
      "metadata": {
        "colab": {
          "base_uri": "https://localhost:8080/"
        },
        "id": "z9Y7JMtw7yMy",
        "outputId": "94ebe76b-81a9-4fbb-f427-c871668eb03f"
      },
      "source": [
        "df.isnull().sum()"
      ],
      "execution_count": null,
      "outputs": [
        {
          "data": {
            "text/plain": [
              "state                                    0\n",
              "area                                     0\n",
              "religion                                 0\n",
              "caste                                 1752\n",
              "type of family                           0\n",
              "father's education                      48\n",
              "father's occupation                     48\n",
              "mother's education                       0\n",
              "mother's occupation                      0\n",
              "total family members                     0\n",
              "exposure to mass media                   0\n",
              "source of drinking water                 0\n",
              "toilet facility                          0\n",
              "mother's age                             0\n",
              "mother's bmi                             0\n",
              "child's age                           3471\n",
              "sex of child                             0\n",
              "birth weight                             0\n",
              "initiation of bf(early initiation)    1436\n",
              "wealth index                             0\n",
              "moths of bf                              0\n",
              "history of illness                       0\n",
              "immunization                             0\n",
              "index to birth history                   0\n",
              "no of living children                    0\n",
              "sex of household head                    0\n",
              "dietary score                            0\n",
              "h/a                                   3471\n",
              "w/a                                   3471\n",
              "w/h                                   3471\n",
              "bmi                                   3471\n",
              "dtype: int64"
            ]
          },
          "execution_count": 4,
          "metadata": {},
          "output_type": "execute_result"
        }
      ]
    },
    {
      "cell_type": "code",
      "metadata": {
        "colab": {
          "base_uri": "https://localhost:8080/"
        },
        "id": "K1K2iwFoPJwv",
        "outputId": "cffeaa37-1889-4cb1-f5ff-4ba0170f9bb5"
      },
      "source": [
        "df.isna().sum()"
      ],
      "execution_count": null,
      "outputs": [
        {
          "data": {
            "text/plain": [
              "state                                    0\n",
              "area                                     0\n",
              "religion                                 0\n",
              "caste                                 1752\n",
              "type of family                           0\n",
              "father's education                      48\n",
              "father's occupation                     48\n",
              "mother's education                       0\n",
              "mother's occupation                      0\n",
              "total family members                     0\n",
              "exposure to mass media                   0\n",
              "source of drinking water                 0\n",
              "toilet facility                          0\n",
              "mother's age                             0\n",
              "mother's bmi                             0\n",
              "child's age                           3471\n",
              "sex of child                             0\n",
              "birth weight                             0\n",
              "initiation of bf(early initiation)    1436\n",
              "wealth index                             0\n",
              "moths of bf                              0\n",
              "history of illness                       0\n",
              "immunization                             0\n",
              "index to birth history                   0\n",
              "no of living children                    0\n",
              "sex of household head                    0\n",
              "dietary score                            0\n",
              "h/a                                   3471\n",
              "w/a                                   3471\n",
              "w/h                                   3471\n",
              "bmi                                   3471\n",
              "dtype: int64"
            ]
          },
          "execution_count": 5,
          "metadata": {},
          "output_type": "execute_result"
        }
      ]
    },
    {
      "cell_type": "code",
      "metadata": {
        "id": "1KUrXkRo77Ck"
      },
      "source": [
        "df = df.dropna()"
      ],
      "execution_count": null,
      "outputs": []
    },
    {
      "cell_type": "code",
      "metadata": {
        "colab": {
          "base_uri": "https://localhost:8080/",
          "height": 484
        },
        "id": "DdEtojFgB9Ni",
        "outputId": "e93411bd-2e2e-4097-cf8c-0356ca8edf5d"
      },
      "source": [
        "df"
      ],
      "execution_count": null,
      "outputs": [
        {
          "data": {
            "text/html": [
              "<div>\n",
              "<style scoped>\n",
              "    .dataframe tbody tr th:only-of-type {\n",
              "        vertical-align: middle;\n",
              "    }\n",
              "\n",
              "    .dataframe tbody tr th {\n",
              "        vertical-align: top;\n",
              "    }\n",
              "\n",
              "    .dataframe thead th {\n",
              "        text-align: right;\n",
              "    }\n",
              "</style>\n",
              "<table border=\"1\" class=\"dataframe\">\n",
              "  <thead>\n",
              "    <tr style=\"text-align: right;\">\n",
              "      <th></th>\n",
              "      <th>state</th>\n",
              "      <th>area</th>\n",
              "      <th>religion</th>\n",
              "      <th>caste</th>\n",
              "      <th>type of family</th>\n",
              "      <th>father's education</th>\n",
              "      <th>father's occupation</th>\n",
              "      <th>mother's education</th>\n",
              "      <th>mother's occupation</th>\n",
              "      <th>total family members</th>\n",
              "      <th>exposure to mass media</th>\n",
              "      <th>source of drinking water</th>\n",
              "      <th>toilet facility</th>\n",
              "      <th>mother's age</th>\n",
              "      <th>mother's bmi</th>\n",
              "      <th>child's age</th>\n",
              "      <th>sex of child</th>\n",
              "      <th>birth weight</th>\n",
              "      <th>initiation of bf(early initiation)</th>\n",
              "      <th>wealth index</th>\n",
              "      <th>moths of bf</th>\n",
              "      <th>history of illness</th>\n",
              "      <th>immunization</th>\n",
              "      <th>index to birth history</th>\n",
              "      <th>no of living children</th>\n",
              "      <th>sex of household head</th>\n",
              "      <th>dietary score</th>\n",
              "      <th>h/a</th>\n",
              "      <th>w/a</th>\n",
              "      <th>w/h</th>\n",
              "      <th>bmi</th>\n",
              "    </tr>\n",
              "  </thead>\n",
              "  <tbody>\n",
              "    <tr>\n",
              "      <th>0</th>\n",
              "      <td>28</td>\n",
              "      <td>2</td>\n",
              "      <td>1</td>\n",
              "      <td>3.0</td>\n",
              "      <td>2</td>\n",
              "      <td>1.0</td>\n",
              "      <td>5.0</td>\n",
              "      <td>1</td>\n",
              "      <td>5</td>\n",
              "      <td>6</td>\n",
              "      <td>1</td>\n",
              "      <td>13</td>\n",
              "      <td>31</td>\n",
              "      <td>17</td>\n",
              "      <td>1659</td>\n",
              "      <td>35.0</td>\n",
              "      <td>1</td>\n",
              "      <td>9996</td>\n",
              "      <td>106.0</td>\n",
              "      <td>2</td>\n",
              "      <td>35</td>\n",
              "      <td>2</td>\n",
              "      <td>2</td>\n",
              "      <td>1</td>\n",
              "      <td>2</td>\n",
              "      <td>1</td>\n",
              "      <td>1</td>\n",
              "      <td>-267.0</td>\n",
              "      <td>-292.0</td>\n",
              "      <td>-213.0</td>\n",
              "      <td>-175.0</td>\n",
              "    </tr>\n",
              "    <tr>\n",
              "      <th>1</th>\n",
              "      <td>28</td>\n",
              "      <td>2</td>\n",
              "      <td>2</td>\n",
              "      <td>3.0</td>\n",
              "      <td>2</td>\n",
              "      <td>2.0</td>\n",
              "      <td>5.0</td>\n",
              "      <td>0</td>\n",
              "      <td>5</td>\n",
              "      <td>7</td>\n",
              "      <td>1</td>\n",
              "      <td>13</td>\n",
              "      <td>31</td>\n",
              "      <td>16</td>\n",
              "      <td>2045</td>\n",
              "      <td>52.0</td>\n",
              "      <td>1</td>\n",
              "      <td>9996</td>\n",
              "      <td>102.0</td>\n",
              "      <td>3</td>\n",
              "      <td>24</td>\n",
              "      <td>2</td>\n",
              "      <td>2</td>\n",
              "      <td>1</td>\n",
              "      <td>2</td>\n",
              "      <td>1</td>\n",
              "      <td>0</td>\n",
              "      <td>-294.0</td>\n",
              "      <td>-165.0</td>\n",
              "      <td>21.0</td>\n",
              "      <td>54.0</td>\n",
              "    </tr>\n",
              "    <tr>\n",
              "      <th>2</th>\n",
              "      <td>28</td>\n",
              "      <td>2</td>\n",
              "      <td>1</td>\n",
              "      <td>4.0</td>\n",
              "      <td>2</td>\n",
              "      <td>2.0</td>\n",
              "      <td>5.0</td>\n",
              "      <td>2</td>\n",
              "      <td>0</td>\n",
              "      <td>8</td>\n",
              "      <td>1</td>\n",
              "      <td>13</td>\n",
              "      <td>12</td>\n",
              "      <td>22</td>\n",
              "      <td>1729</td>\n",
              "      <td>11.0</td>\n",
              "      <td>2</td>\n",
              "      <td>9996</td>\n",
              "      <td>201.0</td>\n",
              "      <td>4</td>\n",
              "      <td>11</td>\n",
              "      <td>3</td>\n",
              "      <td>1</td>\n",
              "      <td>1</td>\n",
              "      <td>2</td>\n",
              "      <td>1</td>\n",
              "      <td>1</td>\n",
              "      <td>-106.0</td>\n",
              "      <td>-89.0</td>\n",
              "      <td>-50.0</td>\n",
              "      <td>-39.0</td>\n",
              "    </tr>\n",
              "    <tr>\n",
              "      <th>3</th>\n",
              "      <td>28</td>\n",
              "      <td>2</td>\n",
              "      <td>1</td>\n",
              "      <td>4.0</td>\n",
              "      <td>2</td>\n",
              "      <td>2.0</td>\n",
              "      <td>5.0</td>\n",
              "      <td>2</td>\n",
              "      <td>0</td>\n",
              "      <td>8</td>\n",
              "      <td>1</td>\n",
              "      <td>13</td>\n",
              "      <td>12</td>\n",
              "      <td>22</td>\n",
              "      <td>1729</td>\n",
              "      <td>23.0</td>\n",
              "      <td>1</td>\n",
              "      <td>9996</td>\n",
              "      <td>201.0</td>\n",
              "      <td>4</td>\n",
              "      <td>12</td>\n",
              "      <td>0</td>\n",
              "      <td>4</td>\n",
              "      <td>2</td>\n",
              "      <td>2</td>\n",
              "      <td>1</td>\n",
              "      <td>1</td>\n",
              "      <td>-217.0</td>\n",
              "      <td>-102.0</td>\n",
              "      <td>14.0</td>\n",
              "      <td>52.0</td>\n",
              "    </tr>\n",
              "    <tr>\n",
              "      <th>4</th>\n",
              "      <td>28</td>\n",
              "      <td>2</td>\n",
              "      <td>2</td>\n",
              "      <td>3.0</td>\n",
              "      <td>2</td>\n",
              "      <td>9.0</td>\n",
              "      <td>8.0</td>\n",
              "      <td>0</td>\n",
              "      <td>5</td>\n",
              "      <td>6</td>\n",
              "      <td>2</td>\n",
              "      <td>13</td>\n",
              "      <td>31</td>\n",
              "      <td>18</td>\n",
              "      <td>1874</td>\n",
              "      <td>35.0</td>\n",
              "      <td>1</td>\n",
              "      <td>9996</td>\n",
              "      <td>0.0</td>\n",
              "      <td>3</td>\n",
              "      <td>35</td>\n",
              "      <td>2</td>\n",
              "      <td>2</td>\n",
              "      <td>1</td>\n",
              "      <td>1</td>\n",
              "      <td>1</td>\n",
              "      <td>2</td>\n",
              "      <td>-281.0</td>\n",
              "      <td>-159.0</td>\n",
              "      <td>1.0</td>\n",
              "      <td>42.0</td>\n",
              "    </tr>\n",
              "    <tr>\n",
              "      <th>...</th>\n",
              "      <td>...</td>\n",
              "      <td>...</td>\n",
              "      <td>...</td>\n",
              "      <td>...</td>\n",
              "      <td>...</td>\n",
              "      <td>...</td>\n",
              "      <td>...</td>\n",
              "      <td>...</td>\n",
              "      <td>...</td>\n",
              "      <td>...</td>\n",
              "      <td>...</td>\n",
              "      <td>...</td>\n",
              "      <td>...</td>\n",
              "      <td>...</td>\n",
              "      <td>...</td>\n",
              "      <td>...</td>\n",
              "      <td>...</td>\n",
              "      <td>...</td>\n",
              "      <td>...</td>\n",
              "      <td>...</td>\n",
              "      <td>...</td>\n",
              "      <td>...</td>\n",
              "      <td>...</td>\n",
              "      <td>...</td>\n",
              "      <td>...</td>\n",
              "      <td>...</td>\n",
              "      <td>...</td>\n",
              "      <td>...</td>\n",
              "      <td>...</td>\n",
              "      <td>...</td>\n",
              "      <td>...</td>\n",
              "    </tr>\n",
              "    <tr>\n",
              "      <th>51550</th>\n",
              "      <td>19</td>\n",
              "      <td>2</td>\n",
              "      <td>1</td>\n",
              "      <td>4.0</td>\n",
              "      <td>2</td>\n",
              "      <td>0.0</td>\n",
              "      <td>8.0</td>\n",
              "      <td>2</td>\n",
              "      <td>0</td>\n",
              "      <td>5</td>\n",
              "      <td>2</td>\n",
              "      <td>21</td>\n",
              "      <td>22</td>\n",
              "      <td>19</td>\n",
              "      <td>1765</td>\n",
              "      <td>54.0</td>\n",
              "      <td>2</td>\n",
              "      <td>9996</td>\n",
              "      <td>202.0</td>\n",
              "      <td>1</td>\n",
              "      <td>54</td>\n",
              "      <td>3</td>\n",
              "      <td>4</td>\n",
              "      <td>1</td>\n",
              "      <td>1</td>\n",
              "      <td>1</td>\n",
              "      <td>0</td>\n",
              "      <td>-380.0</td>\n",
              "      <td>-358.0</td>\n",
              "      <td>-184.0</td>\n",
              "      <td>-145.0</td>\n",
              "    </tr>\n",
              "    <tr>\n",
              "      <th>51551</th>\n",
              "      <td>19</td>\n",
              "      <td>2</td>\n",
              "      <td>1</td>\n",
              "      <td>4.0</td>\n",
              "      <td>1</td>\n",
              "      <td>1.0</td>\n",
              "      <td>8.0</td>\n",
              "      <td>1</td>\n",
              "      <td>0</td>\n",
              "      <td>4</td>\n",
              "      <td>2</td>\n",
              "      <td>21</td>\n",
              "      <td>22</td>\n",
              "      <td>22</td>\n",
              "      <td>1494</td>\n",
              "      <td>49.0</td>\n",
              "      <td>1</td>\n",
              "      <td>9996</td>\n",
              "      <td>203.0</td>\n",
              "      <td>1</td>\n",
              "      <td>10</td>\n",
              "      <td>0</td>\n",
              "      <td>4</td>\n",
              "      <td>1</td>\n",
              "      <td>2</td>\n",
              "      <td>1</td>\n",
              "      <td>0</td>\n",
              "      <td>-385.0</td>\n",
              "      <td>-349.0</td>\n",
              "      <td>-190.0</td>\n",
              "      <td>-127.0</td>\n",
              "    </tr>\n",
              "    <tr>\n",
              "      <th>51552</th>\n",
              "      <td>19</td>\n",
              "      <td>2</td>\n",
              "      <td>1</td>\n",
              "      <td>4.0</td>\n",
              "      <td>2</td>\n",
              "      <td>2.0</td>\n",
              "      <td>5.0</td>\n",
              "      <td>2</td>\n",
              "      <td>0</td>\n",
              "      <td>5</td>\n",
              "      <td>1</td>\n",
              "      <td>21</td>\n",
              "      <td>23</td>\n",
              "      <td>16</td>\n",
              "      <td>2069</td>\n",
              "      <td>25.0</td>\n",
              "      <td>2</td>\n",
              "      <td>3500</td>\n",
              "      <td>101.0</td>\n",
              "      <td>2</td>\n",
              "      <td>25</td>\n",
              "      <td>0</td>\n",
              "      <td>4</td>\n",
              "      <td>1</td>\n",
              "      <td>1</td>\n",
              "      <td>1</td>\n",
              "      <td>1</td>\n",
              "      <td>-317.0</td>\n",
              "      <td>-243.0</td>\n",
              "      <td>-89.0</td>\n",
              "      <td>-45.0</td>\n",
              "    </tr>\n",
              "    <tr>\n",
              "      <th>51553</th>\n",
              "      <td>19</td>\n",
              "      <td>2</td>\n",
              "      <td>1</td>\n",
              "      <td>4.0</td>\n",
              "      <td>2</td>\n",
              "      <td>2.0</td>\n",
              "      <td>5.0</td>\n",
              "      <td>2</td>\n",
              "      <td>0</td>\n",
              "      <td>7</td>\n",
              "      <td>0</td>\n",
              "      <td>21</td>\n",
              "      <td>22</td>\n",
              "      <td>19</td>\n",
              "      <td>2299</td>\n",
              "      <td>40.0</td>\n",
              "      <td>1</td>\n",
              "      <td>2500</td>\n",
              "      <td>101.0</td>\n",
              "      <td>3</td>\n",
              "      <td>40</td>\n",
              "      <td>0</td>\n",
              "      <td>4</td>\n",
              "      <td>1</td>\n",
              "      <td>3</td>\n",
              "      <td>1</td>\n",
              "      <td>0</td>\n",
              "      <td>-156.0</td>\n",
              "      <td>-167.0</td>\n",
              "      <td>-122.0</td>\n",
              "      <td>-101.0</td>\n",
              "    </tr>\n",
              "    <tr>\n",
              "      <th>51554</th>\n",
              "      <td>19</td>\n",
              "      <td>2</td>\n",
              "      <td>1</td>\n",
              "      <td>4.0</td>\n",
              "      <td>2</td>\n",
              "      <td>2.0</td>\n",
              "      <td>3.0</td>\n",
              "      <td>2</td>\n",
              "      <td>0</td>\n",
              "      <td>8</td>\n",
              "      <td>1</td>\n",
              "      <td>21</td>\n",
              "      <td>12</td>\n",
              "      <td>22</td>\n",
              "      <td>1843</td>\n",
              "      <td>44.0</td>\n",
              "      <td>2</td>\n",
              "      <td>2250</td>\n",
              "      <td>101.0</td>\n",
              "      <td>4</td>\n",
              "      <td>44</td>\n",
              "      <td>0</td>\n",
              "      <td>4</td>\n",
              "      <td>1</td>\n",
              "      <td>1</td>\n",
              "      <td>1</td>\n",
              "      <td>0</td>\n",
              "      <td>52.0</td>\n",
              "      <td>35.0</td>\n",
              "      <td>9.0</td>\n",
              "      <td>2.0</td>\n",
              "    </tr>\n",
              "  </tbody>\n",
              "</table>\n",
              "<p>45568 rows × 31 columns</p>\n",
              "</div>"
            ],
            "text/plain": [
              "       state  area  religion  caste  ...    h/a    w/a    w/h    bmi\n",
              "0         28     2         1    3.0  ... -267.0 -292.0 -213.0 -175.0\n",
              "1         28     2         2    3.0  ... -294.0 -165.0   21.0   54.0\n",
              "2         28     2         1    4.0  ... -106.0  -89.0  -50.0  -39.0\n",
              "3         28     2         1    4.0  ... -217.0 -102.0   14.0   52.0\n",
              "4         28     2         2    3.0  ... -281.0 -159.0    1.0   42.0\n",
              "...      ...   ...       ...    ...  ...    ...    ...    ...    ...\n",
              "51550     19     2         1    4.0  ... -380.0 -358.0 -184.0 -145.0\n",
              "51551     19     2         1    4.0  ... -385.0 -349.0 -190.0 -127.0\n",
              "51552     19     2         1    4.0  ... -317.0 -243.0  -89.0  -45.0\n",
              "51553     19     2         1    4.0  ... -156.0 -167.0 -122.0 -101.0\n",
              "51554     19     2         1    4.0  ...   52.0   35.0    9.0    2.0\n",
              "\n",
              "[45568 rows x 31 columns]"
            ]
          },
          "execution_count": 7,
          "metadata": {},
          "output_type": "execute_result"
        }
      ]
    },
    {
      "cell_type": "markdown",
      "metadata": {
        "id": "sqrNDridEUrh"
      },
      "source": [
        "# Y features"
      ]
    },
    {
      "cell_type": "code",
      "metadata": {
        "id": "y76B2KcYEYhS"
      },
      "source": [
        "df = df.rename(columns={'h/a': \"H/A\"})\n",
        "df = df.rename(columns={'w/a': \"W/A\"})\n",
        "df = df.rename(columns={'w/h': \"W/H\"})\n",
        "df = df.rename(columns={'bmi': \"Bmi\"})"
      ],
      "execution_count": null,
      "outputs": []
    },
    {
      "cell_type": "code",
      "metadata": {
        "colab": {
          "base_uri": "https://localhost:8080/"
        },
        "id": "t7cR72JvUZp9",
        "outputId": "09907d26-15d6-4d97-d8df-87f03883c942"
      },
      "source": [
        "df[\"H/A\"]=df[\"H/A\"].replace({9998.0:9999.0, 9996.0:9999.0, 9997.0:9999.0})\n",
        "indexNames = df[df['H/A'] == 9999.0].index\n",
        "df.drop(indexNames , inplace=True)\n",
        "print(df.shape)\n",
        "print(df['H/A'].max())\n",
        "print(df['H/A'].min())"
      ],
      "execution_count": null,
      "outputs": [
        {
          "name": "stdout",
          "output_type": "stream",
          "text": [
            "(39140, 31)\n",
            "600.0\n",
            "-600.0\n"
          ]
        }
      ]
    },
    {
      "cell_type": "code",
      "metadata": {
        "colab": {
          "base_uri": "https://localhost:8080/"
        },
        "id": "MGmPNVCyTqaT",
        "outputId": "6a24f618-7242-4afa-c4cf-1fdcc5c54a4f"
      },
      "source": [
        "print(df['H/A'].unique())\n",
        "df['H/A'] = df['H/A']/100\n",
        "print(df['H/A'].unique())\n",
        "# df['H/A']=pd.cut(df['H/A'], bins=[-6.5,-2, 6.5], labels=[1,0], include_lowest=True)\n",
        "# print(df['H/A'].unique())"
      ],
      "execution_count": null,
      "outputs": [
        {
          "name": "stdout",
          "output_type": "stream",
          "text": [
            "[-267. -294. -106. ...  503.  531.  401.]\n",
            "[-2.67 -2.94 -1.06 ...  5.03  5.31  4.01]\n"
          ]
        }
      ]
    },
    {
      "cell_type": "code",
      "metadata": {
        "colab": {
          "base_uri": "https://localhost:8080/"
        },
        "id": "AbFTx_srTqrn",
        "outputId": "37bcc530-592c-4c25-bddc-cb2094ba115b"
      },
      "source": [
        "# print(df['W/A'].unique())\n",
        "df['W/A'] = df['W/A']/100\n",
        "print(df['W/A'].unique())\n",
        "# df['W/A']=pd.cut(df['W/A'], bins=[-6.5,-2,6.5], labels=[1,0], include_lowest=True)\n",
        "# # print(df['W/A'].unique())"
      ],
      "execution_count": null,
      "outputs": [
        {
          "name": "stdout",
          "output_type": "stream",
          "text": [
            "[-2.92 -1.65 -0.89 -1.02 -1.59 -0.1  -4.33 -1.24  0.89 -0.95 -2.21  0.62\n",
            " -1.66 -1.83 -3.88 -1.55 -3.17 -0.51  1.76 -1.72 -0.14 -1.53 -2.13 -0.56\n",
            " -2.25 -2.51 -1.9  -1.49 -1.58  0.04 -2.39 -1.95 -2.04  0.81  0.13 -2.02\n",
            " -0.87 -2.46 -1.37 -1.3  -0.3  -2.69 -0.86 -0.74 -0.53 -2.26 -3.8  -2.58\n",
            " -1.71 -1.87 -1.29 -0.42 -1.81 -3.69 -2.01 -1.78 -1.17 -2.33 -2.87  0.39\n",
            " -1.52 -1.73 -0.05 -2.66 -1.91  0.57 -1.94 -3.58 -1.47 -0.57 -4.69 -2.2\n",
            " -2.44 -2.38 -2.34 -2.42 -1.32 -0.58 -1.25 -0.23 -1.89 -0.55 -2.88 -1.75\n",
            " -3.4  -0.75 -0.04 -0.7   2.14 -1.33 -1.57 -1.7  -2.27 -1.68 -1.22 -2.56\n",
            " -2.22 -2.37  0.36  0.96  0.15 -1.07 -1.41  0.08 -1.36 -0.32  0.51 -0.33\n",
            " -0.5  -0.26 -0.69 -2.29  0.12 -1.23 -0.12 -1.67 -1.56 -4.48 -2.98 -3.01\n",
            " -0.03 -0.31 -0.83 -1.63 -2.15  0.58 -1.15  0.37  0.28 -0.98 -0.94 -2.11\n",
            "  0.05  0.56 -1.8  -0.96 -2.73 -3.54 -1.45 -0.22 -0.41 -3.39 -1.46 -0.46\n",
            " -2.14  0.97 -1.88 -1.21 -0.54  1.    0.21 -1.03 -3.86 -1.04 -0.39 -0.93\n",
            " -0.15  0.45 -1.16 -2.1  -2.55 -1.6  -3.14 -3.16  1.44  1.14 -0.36 -3.34\n",
            "  1.29 -1.96 -1.69 -1.93 -2.94 -0.88 -1.92 -1.26 -3.65 -3.6  -1.61 -2.84\n",
            " -1.13 -1.43 -1.27 -0.64  0.11 -1.35 -0.81 -0.35  0.02 -1.11 -1.38 -1.86\n",
            "  1.64 -2.07 -0.28 -2.09 -1.28 -1.74 -2.03 -0.99  0.3   0.82 -1.06 -1.48\n",
            "  0.64 -0.82  0.5  -2.16 -2.36 -0.63 -1.34  0.01 -0.44 -3.41 -1.77 -2.7\n",
            " -2.52 -1.64  0.17 -3.29 -2.43 -0.37 -0.9  -2.18 -0.02 -0.92 -1.99 -0.24\n",
            " -2.08 -0.52 -3.51 -3.09  0.95 -1.39 -2.48 -3.26  0.4  -0.79 -3.3  -0.47\n",
            " -2.   -0.97  0.6  -1.31  1.69 -3.52 -3.22 -3.04  0.47 -0.67 -1.84  1.32\n",
            "  0.33 -1.5  -0.76 -0.59  0.68  0.94 -2.93 -1.2  -3.75 -3.38 -0.21 -0.01\n",
            " -1.01  2.94 -0.78 -4.37 -3.1   0.42 -0.4  -0.91 -0.11 -1.09 -0.62 -2.75\n",
            " -2.3  -3.18 -3.15 -1.19 -2.57  0.76  0.29 -0.09 -0.8  -1.14 -0.38 -0.72\n",
            " -0.77  0.    0.88 -1.08 -2.05 -4.1  -2.76 -3.73 -0.73 -3.46  0.07 -3.33\n",
            " -3.07 -1.   -1.82 -2.28  0.06 -2.71 -0.06  0.98 -2.06 -1.79 -4.55 -1.51\n",
            " -1.1  -1.76 -0.68 -2.47  1.3  -4.13 -1.42  1.28  1.95 -3.5  -5.18 -1.44\n",
            "  0.87 -2.85 -2.77 -2.67  3.24  0.35 -0.61 -1.62 -2.61 -0.66 -0.08 -2.24\n",
            " -0.18 -1.18 -3.45 -0.6   0.31 -2.64  0.69  0.34 -2.23 -3.31 -4.59 -4.01\n",
            " -4.44 -2.49 -2.91 -0.84 -2.62 -2.86 -3.2  -2.8  -1.12 -4.17  1.16  1.27\n",
            "  0.66 -3.77 -3.06 -5.22 -2.65 -3.23 -3.63 -2.5  -0.48 -2.12 -3.12  0.41\n",
            "  0.09  0.72  0.63 -3.48 -3.28 -4.   -3.55 -0.27  0.46 -1.4  -0.49 -2.54\n",
            " -2.17 -0.65 -3.02 -0.71 -0.29  2.1   2.48  0.18 -3.83 -2.9   0.38 -2.79\n",
            " -1.97 -3.13  0.67 -0.34  1.09  0.16  1.19 -3.25 -0.17  0.22 -3.67  0.73\n",
            " -1.85 -3.68 -3.32 -2.59 -1.05 -3.19 -2.81 -2.35 -1.98 -1.54 -3.11 -2.45\n",
            "  1.4   0.77 -3.44 -4.31 -0.85  0.27 -2.72 -3.93  0.85 -0.19  1.41  0.25\n",
            "  1.2  -2.19 -4.38  2.32 -2.74  0.65  1.45 -0.45  1.74  0.8  -2.4   0.2\n",
            " -2.31  0.48  1.89  0.55 -2.78  2.36 -3.62 -4.12 -4.45 -2.95 -3.66  1.49\n",
            "  1.04  0.99  1.38  1.23 -4.16  2.52  3.28 -0.07  1.54 -3.08 -0.16 -2.63\n",
            " -2.68 -5.03 -3.78  2.41 -2.41  1.81 -3.89 -2.99 -4.05 -3.61 -0.2   1.15\n",
            "  0.93  0.19  0.9  -0.13  0.14  0.78 -4.14 -0.25 -4.51 -4.92  1.94 -3.94\n",
            "  1.72 -3.    3.15  1.01 -3.21 -3.27 -4.64 -4.11 -2.89 -2.97 -3.74  0.61\n",
            " -3.03  1.78  3.27 -3.64 -4.68 -4.56 -2.6  -3.59  1.55 -2.53  2.6  -3.99\n",
            " -4.07 -4.26 -2.83 -3.35  0.26 -4.04  0.84 -4.35  0.54  1.33 -3.53 -3.05\n",
            "  0.52  1.07  1.83  0.1   2.2  -3.96 -4.21 -5.1   3.96  1.31  1.68  0.75\n",
            "  1.26 -5.02 -4.02 -4.58 -4.49  0.24  0.74  1.12  0.23  1.57 -3.7   0.83\n",
            " -4.62  0.43  2.18  1.22  1.51 -4.42 -0.43  2.88 -5.21 -4.75  1.56  0.71\n",
            " -4.4  -3.57 -4.57  1.43 -3.42 -4.7  -2.96 -3.47  0.32  0.03 -3.9  -5.25\n",
            " -3.43 -4.41 -4.47 -3.49 -4.67 -2.32 -3.91  1.58  0.59 -4.03  0.49 -3.72\n",
            "  1.71 -3.92  1.03 -3.37 -2.82  1.08  1.36 -3.76 -3.87 -5.34  3.59 -4.96\n",
            " -4.24 -4.98  1.62  2.11 -4.28 -3.98 -3.79 -3.56 -4.73 -5.11 -4.9  -5.7\n",
            "  1.42 -3.85 -4.29 -4.3  -4.65 -4.18 -4.89 -3.36 -5.15 -4.06 -3.71  1.05\n",
            " -4.52 -4.2  -4.25 -5.06 -4.23 -4.08 -4.19 -4.88 -3.24 -3.95 -3.82 -4.09\n",
            " -5.88 -4.85 -4.97 -4.54 -3.81 -4.34 -5.33 -4.71 -4.39  2.54 -5.39 -3.84\n",
            " -5.16 -3.97  0.53 -4.61 -5.13  1.93 -4.76 -5.04 -4.87 -4.32 -4.63  1.73\n",
            " -5.42 -5.36 -4.95 -5.09 -5.97  1.46 -4.74 -4.43 -4.79  1.35  1.06  0.44\n",
            "  1.67 -4.94 -5.37 -4.91  1.25 -4.6   3.2   0.86  2.5   2.19  1.6   2.26\n",
            "  0.92  2.61  1.97  2.31  1.47  0.7   1.66 -4.84  1.17 -5.57 -4.86  1.39\n",
            " -4.5   1.37 -4.36  1.11  1.9   2.08  1.91 -4.22  1.21  0.91 -5.17 -4.53\n",
            "  1.88  2.66  2.47  1.24  1.77 -4.27  2.87  3.08  2.93  2.07  2.23  0.79\n",
            "  1.02  2.28  2.3  -5.2  -5.   -5.43 -5.14  2.74 -5.32 -4.46 -5.19  1.13\n",
            " -4.81  1.1   3.11 -5.05  1.63 -4.82 -4.99 -4.66  1.53  4.03 -4.15  2.04\n",
            " -4.72 -4.77  2.58 -4.93  2.82  2.84  2.06 -5.07  1.5  -5.46 -4.78  2.13\n",
            "  1.65  2.02  1.52  1.18  2.44  2.76  2.55  1.82 -5.62  1.85  1.98 -4.8\n",
            "  2.   -5.45  2.92  2.62  1.79  2.81  2.15  1.7   3.77  2.35  2.46  2.03\n",
            "  2.12  1.48  2.24  1.8   3.12  1.61  1.84  2.73 -5.29 -5.58 -4.83 -5.77\n",
            " -5.12 -5.41 -5.27  2.33  3.17 -5.54  3.05  1.99  2.49  2.09  1.86  2.7\n",
            "  2.42 -5.01  1.59  3.91  3.36  2.8   2.01  2.71  2.17  3.45  3.58  3.72\n",
            "  2.75 -5.82  3.09  2.37  2.79  4.41  2.68  2.77  3.71  2.51  1.75  2.67\n",
            "  3.14  4.47  3.4   2.83 -5.4  -5.53  2.34  2.56 -5.61  3.62  3.07  3.1\n",
            "  1.87  3.49  2.27 -5.91 -5.8   2.69  1.34  2.4 ]\n"
          ]
        }
      ]
    },
    {
      "cell_type": "code",
      "metadata": {
        "colab": {
          "base_uri": "https://localhost:8080/"
        },
        "id": "bHOcxh4vZ1Qv",
        "outputId": "2d7a2f6f-7c4a-4b04-8bb4-57d9b1a737e8"
      },
      "source": [
        "df['W/A'].max()"
      ],
      "execution_count": null,
      "outputs": [
        {
          "data": {
            "text/plain": [
              "4.47"
            ]
          },
          "execution_count": 13,
          "metadata": {},
          "output_type": "execute_result"
        }
      ]
    },
    {
      "cell_type": "code",
      "metadata": {
        "colab": {
          "base_uri": "https://localhost:8080/"
        },
        "id": "aokOrtQVZ9Mx",
        "outputId": "4dfd02f4-f8c2-4a5e-94e2-9f1ccc430283"
      },
      "source": [
        "# print(df['W/H'].unique())\n",
        "df['W/H'] = df['W/H']/100\n",
        "print(df['W/H'].unique())\n",
        "# df['W/H']=pd.cut(df['W/H'], bins=[-6.5,-2,6.5], labels=[1,0], include_lowest=True)\n",
        "# print(df['W/H'].unique())"
      ],
      "execution_count": null,
      "outputs": [
        {
          "name": "stdout",
          "output_type": "stream",
          "text": [
            "[-2.13  0.21 -0.5   0.14  0.01  0.61 -1.65  0.27  0.66 -1.32 -0.09 -1.14\n",
            " -1.86  1.65 -1.78 -1.37  0.06 -0.39  0.16  1.16 -0.99 -1.22 -0.72 -0.24\n",
            " -1.52 -2.1  -1.64  0.2  -2.32  0.41  1.64  1.47 -2.05 -0.62  0.22  1.39\n",
            " -0.16 -0.56 -0.02 -1.75 -0.69 -1.16  0.78 -3.23 -0.77 -0.07 -0.53  0.42\n",
            " -1.93 -4.33 -0.22 -1.54 -2.64 -1.2  -1.04 -1.63 -1.83 -1.13 -0.08 -1.69\n",
            "  0.73  0.75 -0.13 -1.31 -0.12 -0.15 -0.41 -0.79 -0.05 -3.91 -1.76 -0.96\n",
            " -2.26 -2.58 -1.92 -0.21 -1.56 -0.54 -1.23  0.29 -1.05 -1.28 -2.09 -0.14\n",
            " -0.33 -1.3   4.36 -0.63 -0.49 -0.91 -2.28 -1.02 -0.75 -0.87  1.07 -2.27\n",
            " -1.58 -0.31  1.35  0.94 -0.86  0.12 -1.1  -1.45  0.55 -1.   -0.44 -0.59\n",
            " -1.25 -0.84 -1.12 -1.34  0.62  0.28  0.49 -1.87 -1.49 -2.88 -1.68  0.03\n",
            " -2.14 -1.57  1.22 -0.9  -0.36 -1.18 -1.21 -0.93 -1.73 -0.83  0.5  -1.8\n",
            " -0.19 -2.9  -2.23 -2.35 -1.33 -0.32 -1.26 -0.68  0.13  2.18 -1.98 -1.44\n",
            "  0.57 -2.07 -0.57 -0.55 -0.42  0.18 -1.36 -0.64 -1.03  0.52  0.1  -1.15\n",
            " -1.71 -1.66  1.19  0.98 -0.23 -2.69 -3.61  0.36  0.19 -0.73 -4.62 -1.85\n",
            " -1.67 -2.29 -3.02 -2.38 -1.17 -0.65 -0.89  0.11  0.93  0.05  0.6   1.18\n",
            " -0.38 -1.08  0.58 -1.46 -2.44  0.08 -1.59  0.44 -1.55 -0.43 -1.39 -1.09\n",
            "  1.3   0.15 -1.35  0.8  -2.97 -1.48 -0.06 -0.52  0.38 -0.74  0.37  1.02\n",
            " -3.52 -3.98 -0.88 -0.95 -0.67  0.26 -0.6  -0.28  1.38  3.37 -2.46 -0.03\n",
            "  2.61  0.79  0.68  1.82  1.03  0.24 -1.19 -0.78 -1.41  0.59  0.63 -0.8\n",
            " -0.58 -0.76  0.65 -1.27  1.08  1.75 -1.79 -1.24 -2.06  0.76 -0.26 -2.08\n",
            "  0.34 -3.97 -1.42 -2.03 -2.51  0.4  -1.74  2.8   1.61  1.87  1.41  1.2\n",
            "  0.48  1.31 -0.94  1.59 -0.7   1.06  1.6  -0.85  0.17  0.    3.43  0.3\n",
            "  1.54 -3.07 -2.01  0.74  4.18 -3.2  -2.33  1.04 -0.25  0.92  0.39  1.78\n",
            " -2.63 -2.36 -0.45 -1.99 -0.3  -3.18 -0.97  1.42  0.77  1.48  0.69  0.43\n",
            "  0.51 -0.46 -1.53  1.55  0.85 -0.18  0.25 -2.17 -2.11 -1.07 -2.59 -1.94\n",
            " -2.65 -2.91 -2.18 -2.37  0.33  0.64 -2.2  -0.04  0.95 -3.69  0.23 -2.34\n",
            " -1.62 -0.98 -0.81 -1.47  0.86  0.67 -0.66 -1.51 -4.46 -0.71 -1.81  1.66\n",
            " -2.75  0.99 -0.37  0.04 -1.4   2.71 -2.24  2.72  3.94  4.26 -1.7  -1.5\n",
            " -1.11  0.9   1.25 -0.48  1.28 -3.89  1.4  -1.88  0.71 -2.55  3.58 -0.34\n",
            " -3.24 -4.61 -1.01 -2.22 -2.16 -4.59 -3.29 -2.94 -2.49  2.07  1.21 -1.61\n",
            " -3.35 -2.73 -2.31 -1.89  0.35 -0.17  1.33 -2.39 -3.04  0.46  1.11  1.34\n",
            " -3.31 -2.82 -2.96 -0.29 -1.29 -0.35  3.03  4.21 -0.4  -1.95 -0.82 -0.47\n",
            "  2.23 -2.41  0.31  0.89  0.09  0.02 -0.1  -2.3   1.13  1.15  3.71 -3.39\n",
            " -0.92  1.36 -1.97 -4.21 -1.38 -3.96 -0.61 -2.77 -0.01  2.97 -1.82 -3.62\n",
            " -2.87  1.92  2.6  -2.02 -2.15 -1.77 -3.4   1.49  1.58 -4.47 -0.27  1.27\n",
            "  1.01  1.   -1.96  0.97  1.79  1.88 -0.51  2.53 -4.08 -2.53  0.7   3.4\n",
            "  1.84  1.37  1.56  0.84  2.26  2.11 -2.43 -3.22  0.83 -3.3  -3.58  2.21\n",
            " -2.47  2.01 -2.76 -2.83  1.68 -2.93 -2.99 -1.43  0.54 -2.04 -0.11  2.15\n",
            "  1.9  -3.09  2.37  2.12 -2.52  4.92 -1.6   2.03 -3.19 -3.14  1.81 -1.06\n",
            " -2.    0.56 -1.91 -2.7   2.63  0.72  0.91 -4.68  1.99  0.88 -3.27 -1.72\n",
            " -2.8  -4.13  1.86 -3.21 -1.84  1.17 -2.74 -1.9  -2.25 -2.62  0.53 -3.71\n",
            "  0.82  3.72  2.42 -2.56  1.24 -3.72 -2.67 -3.54 -2.95  2.51 -3.59 -3.28\n",
            " -4.18 -3.11 -3.67  1.63 -3.49  2.38  2.34  0.07 -4.55 -4.7  -3.37 -3.34\n",
            "  2.28  1.43 -3.85 -3.81 -4.12 -4.19  3.65 -4.3  -2.85 -2.84 -2.81 -2.42\n",
            " -3.32  2.14  0.81 -2.54  1.96  1.12 -4.15 -2.19  1.57  3.82  2.31  2.19\n",
            "  0.45 -2.78  2.82 -2.45  3.47  1.14 -3.9   2.13  2.57  3.7   1.95  1.51\n",
            "  3.31  2.    0.32 -3.03  0.87 -3.95  1.09  0.96 -3.68  2.16  2.25 -3.77\n",
            " -4.35 -4.69  0.47  2.4   2.39 -2.89 -0.2  -3.26 -4.52  1.32  3.73 -2.5\n",
            "  2.83 -3.1   1.44 -3.48  1.67 -3.17 -3.88 -2.4   1.74 -3.51 -3.57 -3.73\n",
            " -3.44  1.45 -2.72 -2.71  1.62  1.89 -4.2  -3.53 -2.6   2.96 -3.66 -4.04\n",
            "  3.56  2.35  1.7  -3.56 -2.66  2.45  2.33 -4.73  1.83  1.23 -3.33  1.1\n",
            "  3.97 -2.61  2.49  2.08 -3.82 -3.   -3.93 -4.82 -3.36 -3.47 -4.34 -4.28\n",
            " -3.08 -2.21  1.72 -3.01 -3.46 -4.84 -4.48 -2.98 -2.12 -3.15 -4.74 -4.1\n",
            " -4.42 -4.89 -3.41 -3.06 -4.96 -3.13 -4.23 -4.31 -3.5  -4.75 -4.5  -3.25\n",
            " -4.11 -2.48 -2.57 -3.79 -3.87 -4.63  1.85 -3.78 -3.45 -3.74 -2.92 -3.12\n",
            " -4.67 -2.79 -3.16 -2.68 -4.16 -4.09  2.7  -4.25 -4.   -3.6   4.05 -3.38\n",
            "  1.71 -4.88 -4.17 -3.83  2.81 -4.27 -3.63  2.73 -3.75 -2.86  1.73 -4.36\n",
            "  4.61  4.51 -3.65 -4.92  1.29  4.65 -3.05  4.95 -4.79  2.77 -4.94 -4.6\n",
            "  1.76 -3.64  1.8   3.08  1.97 -4.26  3.92 -4.32 -4.78 -4.44 -4.53 -4.54\n",
            "  2.55  4.91  1.5  -3.42  2.86  1.52  1.69  3.07 -3.86  2.3  -4.14 -3.76\n",
            "  3.48  2.09  1.53  1.93  2.43 -3.92  3.1  -4.98  4.41  2.52  2.59  4.11\n",
            "  2.05  2.06  1.26  2.1   2.2  -4.66  2.22 -4.64 -4.37  1.94 -3.43  4.03\n",
            "  3.   -4.51 -3.84 -4.07  2.92 -4.05  2.56 -4.87  3.88  4.15  2.04  2.17\n",
            "  2.47  3.3   3.76  3.11  3.39  2.24  3.59  4.29  1.98  2.44 -4.39  3.86\n",
            " -4.02  4.34  2.65 -3.8  -4.99  1.91  2.5   2.89  1.77  3.9   1.05  1.46\n",
            " -4.01  2.58  2.9  -4.76 -4.45  4.46 -4.93 -4.06 -4.72 -4.57 -4.97 -4.43\n",
            "  2.02 -4.49  3.13  3.19  3.64  3.96  4.44 -3.55  3.55  3.53  3.78  2.78\n",
            " -3.99  2.88  3.74  2.94  2.87  2.76  2.36  2.41 -4.29  4.16 -4.03 -4.65\n",
            "  4.14  3.62  3.77  4.1   3.05 -4.83 -3.7  -4.8  -4.4  -4.85 -4.22  4.13\n",
            "  2.99 -4.56 -4.24  3.09  3.51 -4.58 -4.81 -4.9   2.64 -3.94  2.54  3.24\n",
            "  4.87  2.95  2.79  3.67  2.46  2.67  3.95  3.02  3.89  3.22  3.85  2.91\n",
            "  2.29  4.45  2.75 -4.41  3.29  3.33  3.21  3.41  2.27  4.28  3.6   4.77\n",
            "  2.48 -4.86  3.25  3.91  2.69 -4.71  4.56  3.99 -4.77  3.04  2.98  3.66\n",
            "  4.78  2.68  3.49  3.98  4.02  4.22  3.14  2.62  4.27  3.79  3.8   3.42\n",
            "  3.27  4.08  3.16  3.44  2.84 -4.38  3.06  2.85  4.74  4.35  3.57  4.6\n",
            "  3.69  3.2   2.66  4.3   3.12  3.26  3.5   4.53  3.93  3.15  3.45  4.01\n",
            "  4.71 -4.91  3.32  4.33  3.38  4.5   4.83  4.25  4.47  3.81  4.8   2.74\n",
            "  3.23  4.12  2.32  3.83  3.01  3.52  4.31  4.55  4.09  2.93  3.46  3.87\n",
            "  4.68  4.19  4.43  3.68  5.  ]\n"
          ]
        }
      ]
    },
    {
      "cell_type": "code",
      "metadata": {
        "colab": {
          "base_uri": "https://localhost:8080/"
        },
        "id": "qLrhB3sYZ_5j",
        "outputId": "61f4bfc0-aaf1-43dd-82af-016a77ef177e"
      },
      "source": [
        "df['W/H'].min()"
      ],
      "execution_count": null,
      "outputs": [
        {
          "data": {
            "text/plain": [
              "-4.99"
            ]
          },
          "execution_count": 16,
          "metadata": {},
          "output_type": "execute_result"
        }
      ]
    },
    {
      "cell_type": "code",
      "metadata": {
        "colab": {
          "base_uri": "https://localhost:8080/"
        },
        "id": "TlAiq2LlaABG",
        "outputId": "fca4154d-3145-4ee9-ea85-a55c1076765c"
      },
      "source": [
        "# print(df['Bmi'].unique())\n",
        "df['Bmi'] = df['Bmi']/100\n",
        "print(df['Bmi'].unique())\n",
        "# df['Bmi']=pd.cut(df['Bmi'], bins=[-6.5,-2,6.5], labels=[1,0], include_lowest=True)\n",
        "# print(df['Bmi'].unique())"
      ],
      "execution_count": null,
      "outputs": [
        {
          "name": "stdout",
          "output_type": "stream",
          "text": [
            "[-1.75  0.54 -0.39  0.52  0.42  0.48 -1.11  0.67  0.57  0.14 -0.86 -0.09\n",
            " -0.85 -1.8  -0.47 -1.83 -1.05  0.22 -0.99 -0.11  0.9  -0.75  0.19 -1.16\n",
            " -0.42 -0.13 -1.42 -1.95  0.5  -2.45  1.91  1.48 -1.96 -0.25  0.44  1.44\n",
            " -0.32 -0.17  0.06 -1.57 -0.54  0.88 -3.26 -0.56  0.12 -0.45  0.77 -1.72\n",
            " -4.29  0.03 -1.43 -2.68 -1.09 -1.47 -1.17 -0.78  0.51  0.38 -1.53  1.63\n",
            "  0.87 -0.19 -1.3   0.   -0.16  0.74 -1.93 -0.35 -0.48  0.23 -1.51  0.07\n",
            " -3.64 -0.83 -1.59 -0.84 -2.31 -1.06 -2.06 -2.57 -2.05 -0.22 -0.57 -1.19\n",
            "  0.61 -0.92 -0.63 -2.19 -0.18 -0.15 -1.41  4.75  1.02 -0.41 -0.34 -0.76\n",
            " -2.37  1.36 -2.41 -1.36 -0.05  0.94 -0.14 -0.87  0.13 -1.58  0.63 -1.15\n",
            " -0.08 -1.02 -0.46  0.11 -0.62 -1.26 -0.36 -0.91 -1.28  0.21  0.39  0.81\n",
            " -2.09 -1.48  0.56 -2.02 -1.03 -1.52  1.22 -0.82 -0.59  0.96 -0.71  0.65\n",
            " -0.07 -1.73 -0.52 -1.24 -1.08 -0.79  0.41 -0.67 -0.21 -3.11 -2.29 -0.89\n",
            " -1.38 -2.36 -1.18  0.01 -0.72 -0.1   0.34  2.58 -1.37 -2.08 -2.03 -0.26\n",
            " -0.38  0.4  -0.43 -0.37  0.99 -0.58 -0.8   0.43 -1.22 -1.64 -0.29  1.1\n",
            "  0.85 -0.81 -2.3  -0.69  0.55 -1.29 -0.5  -4.8   0.46 -1.76 -2.44 -3.05\n",
            " -1.99 -0.88  0.35  0.31 -0.61  0.29  0.6   1.37  0.72 -0.9   0.17 -0.6\n",
            "  0.69 -0.93 -1.23 -0.28 -1.14 -1.2   0.78 -0.97 -3.39  1.53 -2.63 -1.07\n",
            "  0.1   0.47 -0.12  0.27 -0.96 -1.4   1.16 -3.27 -4.37 -2.13 -0.74  0.49\n",
            " -0.33 -0.01  1.75 -0.2   2.7  -2.26  0.93  2.98 -2.25  0.58  1.2   2.59\n",
            "  0.64 -0.4   2.22  0.15 -1.    1.17 -1.77 -1.39  1.43 -3.36  0.37 -2.34\n",
            "  0.45 -2.14  1.6   0.8   0.16  2.17  1.35  1.52 -0.06  0.36  1.38 -1.45\n",
            " -0.44  1.86  1.64  1.21  1.93 -0.24 -1.04 -1.69 -1.55  3.56  0.79  1.19\n",
            " -3.01 -1.49  1.45 -1.31  1.55 -2.59 -0.95  0.04  0.95  0.71  0.2  -0.94\n",
            " -0.73  2.3  -2.55 -2.42 -2.   -0.31 -3.09  0.24  0.09  1.87  1.61  1.56\n",
            " -0.64  0.25  0.02  1.05  2.01  1.03 -0.55  0.73  0.26 -2.11 -0.27 -0.77\n",
            " -2.33 -1.89 -2.74 -1.35 -1.54 -2.27  1.08  0.76  1.77 -4.05 -2.71 -1.88\n",
            " -2.1   1.09  0.82 -1.32 -4.54 -1.27  1.72  0.86 -1.56 -3.59  1.39 -1.71\n",
            " -2.16 -1.21  2.61  0.08 -1.9   0.66  2.72  3.74  4.73 -1.67  0.98  1.7\n",
            "  0.32 -1.44  1.95 -3.92  1.82 -1.74 -1.91  3.35  0.53 -2.82 -0.49 -1.25\n",
            " -4.63 -4.61 -0.23 -3.   -0.7  -2.79 -1.13  0.75 -0.65  1.33  1.14  2.24\n",
            "  1.32 -1.1  -2.12 -1.66 -3.61 -3.79 -2.04 -2.07 -0.03 -1.61  1.98 -2.65\n",
            "  0.92  1.07  1.04  1.27 -1.01  1.49 -0.68 -3.42 -1.85 -1.5  -1.86 -0.02\n",
            "  0.05 -2.18 -2.54  0.3   3.06  4.57  1.96 -3.24  2.07 -2.5  -2.43  3.94\n",
            "  2.19  1.59  0.97  4.77 -3.18  1.42 -1.87 -1.34 -0.53  1.    1.8  -1.79\n",
            " -4.27 -3.37  0.89 -1.46 -3.93 -0.66 -3.55 -2.92 -3.12 -2.21  1.06 -1.97\n",
            " -2.15 -1.12  2.35  2.79  0.18  1.01 -0.51 -2.81  1.11  1.74  1.54 -4.26\n",
            "  1.24 -2.58 -0.98  2.57  0.62 -2.9   2.9  -2.01 -3.52 -2.38  1.23 -3.54\n",
            "  3.73  1.26  1.34  2.08 -2.24  2.6   2.65 -2.51 -3.71  0.84 -3.74  1.3\n",
            "  1.57 -2.95 -4.14  1.18  1.5  -1.62  0.91 -2.88 -2.22 -2.86 -0.04 -2.76\n",
            "  2.29  2.1  -3.51  2.46 -1.78  2.03 -2.62  4.16 -1.63  1.29  1.76 -2.99\n",
            "  0.7  -3.03 -3.07 -3.16  1.88  1.84 -1.65 -1.84 -2.72  0.59  3.3  -3.73\n",
            " -4.89 -3.13  1.41 -2.67 -2.96  1.71 -2.87 -4.2  -1.33 -2.75 -4.62 -4.38\n",
            "  1.13 -1.7  -1.98 -3.23  4.35  2.49 -2.39  2.74  1.78 -3.85 -1.6  -0.3\n",
            "  2.18 -3.77 -2.97 -4.11 -2.93  2.02  1.4  -2.52 -3.19  1.46 -3.29 -3.87\n",
            "  1.25  2.09 -3.5   2.41  2.38 -4.5  -4.77 -3.33  2.83  1.85  1.83 -2.49\n",
            " -1.81  1.67  2.45  0.68 -3.7  -4.04 -3.15 -4.33 -3.47 -3.56 -3.97 -2.84\n",
            "  1.89 -1.94 -3.35  2.4   1.12 -2.7   0.83 -4.84  3.    2.26  3.39  3.95\n",
            " -2.2   1.66  2.2   3.55 -2.48  3.37 -3.89 -2.6   2.71 -2.8   2.69  2.21\n",
            " -3.25 -3.46  2.32  2.11  1.68  2.23  2.93  0.28 -3.63 -4.15 -4.82  2.76\n",
            " -3.68 -4.45 -3.04 -2.17 -3.21 -2.61 -4.57 -1.68  1.62  1.81  2.31  3.26\n",
            " -4.22  2.84 -4.16 -1.82 -2.78  2.15 -1.92 -4.1   3.45  1.65 -4.01  1.58\n",
            "  0.33  2.16  2.33 -4.13 -2.23  1.92 -3.62 -3.1  -2.28 -3.32  3.24 -3.28\n",
            " -4.21  3.54  1.47  2.28 -3.17 -4.28 -2.32  2.14  2.04 -4.55  1.31  2.51\n",
            "  1.51  2.5  -2.73 -2.66 -2.77 -3.2  -3.86  3.88  1.9  -2.46  2.39  1.73\n",
            " -3.66 -2.64 -2.91 -4.98 -3.65 -3.58 -2.56 -3.38 -3.44 -4.36  2.92 -3.08\n",
            " -2.85 -3.06  1.79  1.15 -3.14 -2.69 -3.67 -4.71 -3.76 -4.7  -4.79 -3.81\n",
            " -4.91 -3.69 -4.94 -2.53 -2.4  -4.51 -4.58 -3.96 -3.95 -4.12 -3.88 -3.22\n",
            " -4.92 -4.64 -3.82 -3.3  -4.41 -3.72 -2.47 -3.02 -4.08 -4.99 -3.49 -2.98\n",
            " -2.89 -3.8  -3.78 -2.83 -3.84 -4.18  1.28 -2.94 -3.53  1.94 -4.02  4.45\n",
            " -4.69 -4.43 -4.42 -2.35 -3.31 -4.03 -4.09  3.79 -4.56 -3.6   3.18  2.86\n",
            "  3.02 -4.32 -4.73  4.07 -3.43  1.69  2.27  2.48 -4.23 -3.98 -4.35 -4.74\n",
            " -4.4  -3.48  2.87  3.01  3.5  -3.57  3.1  -3.4  -3.9   2.42 -4.19  3.34\n",
            "  2.67  3.47  2.37 -3.34  4.1   2.85  2.64  3.71  2.47  2.06  2.53  2.\n",
            " -3.45 -4.39 -4.78 -3.83 -4.65 -4.3   2.13 -4.47 -4.66 -4.53 -3.41  2.73\n",
            "  2.34 -3.91 -4.52  3.84  3.15  2.54 -4.86  4.11  4.34 -4.    3.04  2.62\n",
            "  4.24  4.06  4.4   3.67  4.85  3.05 -3.99  3.77  3.97  3.29  2.05  2.44\n",
            "  2.52  4.02  2.88 -3.75 -4.93  2.82  2.78  3.8  -4.46  3.58 -4.9  -3.94\n",
            " -4.68 -4.76 -4.48 -4.07 -4.06 -4.72  3.28  4.2  -4.17  2.66  2.89  3.68\n",
            "  3.76  2.25  2.36  3.63  2.63  3.09  3.13  4.42 -4.81  4.17 -4.59  1.99\n",
            "  3.07  3.93  3.82  2.97 -4.97 -4.75 -4.44  4.31 -5.   -4.31  4.44 -4.24\n",
            " -4.85  2.75 -4.67  2.12  3.86  4.09  3.9  -4.34  2.68 -4.25  4.59  2.81\n",
            "  3.32  3.12  3.75  3.19  3.99  2.55  4.48  4.72  2.56  4.82 -4.49  4.37\n",
            "  3.17  3.89 -4.87  3.14  3.33  3.22  2.96  3.36  3.87  4.03  3.46 -4.6\n",
            "  3.49 -4.83  2.43  3.65  3.16  4.76  3.42  4.46  3.64  3.62  4.25  4.89\n",
            "  4.18  3.23  3.03  4.53  2.99  3.66  4.12  4.64  4.38  1.97  3.41  4.23\n",
            "  2.91  4.78  3.2   3.72  3.25  4.36  4.6   3.61  3.69  2.95  3.31  4.27\n",
            "  3.38  4.99  4.39  2.8   3.96 -4.96  4.63  2.94  4.65  3.6   3.83  3.21\n",
            "  3.4   4.55  4.91  2.77  3.92  4.74  4.98  3.85  4.67  4.84  4.26  4.21\n",
            "  4.92  3.27]\n"
          ]
        }
      ]
    },
    {
      "cell_type": "code",
      "metadata": {
        "colab": {
          "base_uri": "https://localhost:8080/"
        },
        "id": "M78VY6APaAKH",
        "outputId": "72d6f815-7591-4b06-d2f6-ce6d86d2dbac"
      },
      "source": [
        "df['Bmi'].max()"
      ],
      "execution_count": null,
      "outputs": [
        {
          "data": {
            "text/plain": [
              "4.99"
            ]
          },
          "execution_count": 18,
          "metadata": {},
          "output_type": "execute_result"
        }
      ]
    },
    {
      "cell_type": "markdown",
      "metadata": {
        "id": "MdWVN5Amh1IJ"
      },
      "source": [
        "# Variables"
      ]
    },
    {
      "cell_type": "markdown",
      "metadata": {
        "id": "_SMnJTySV1ZB"
      },
      "source": [
        "## father's education"
      ]
    },
    {
      "cell_type": "code",
      "metadata": {
        "colab": {
          "base_uri": "https://localhost:8080/"
        },
        "id": "NZwlNGqbCRFj",
        "outputId": "82f57d30-35ad-4cb9-b566-8bc4bb2f6438"
      },
      "source": [
        "print(df['father\\'s education'].unique())"
      ],
      "execution_count": null,
      "outputs": [
        {
          "name": "stdout",
          "output_type": "stream",
          "text": [
            "[1. 2. 9. 0. 3. 8.]\n"
          ]
        }
      ]
    },
    {
      "cell_type": "code",
      "metadata": {
        "colab": {
          "base_uri": "https://localhost:8080/"
        },
        "id": "-HV0CVvyPB-s",
        "outputId": "bd01e17d-7697-484c-9066-bbf3c903413e"
      },
      "source": [
        "print(df['father\\'s education'].unique())\n",
        "print(f'shape of original df = {df.shape}')\n",
        "df[\"father\\'s education\"]=df[\"father\\'s education\"].replace({9:8, 0:'No education', 1:'Primary education', 2:'Secondary education', 3:'Higher education'})\n",
        "indexNames = df[df['father\\'s education'] == 8].index\n",
        "df.drop(indexNames , inplace=True)\n",
        "print(df['father\\'s education'].unique())\n",
        "print(f'shape of original df = {df.shape}')"
      ],
      "execution_count": null,
      "outputs": [
        {
          "name": "stdout",
          "output_type": "stream",
          "text": [
            "[1. 2. 9. 0. 3. 8.]\n",
            "shape of original df = (39140, 31)\n",
            "['Primary education' 'Secondary education' 'No education'\n",
            " 'Higher education']\n",
            "shape of original df = (38736, 31)\n"
          ]
        }
      ]
    },
    {
      "cell_type": "code",
      "metadata": {
        "colab": {
          "base_uri": "https://localhost:8080/"
        },
        "id": "DlPY8iQ_Gcd-",
        "outputId": "5a9b3119-c139-4a23-8c19-a437bf190f6f"
      },
      "source": [
        "df['father\\'s education'].value_counts()"
      ],
      "execution_count": null,
      "outputs": [
        {
          "data": {
            "text/plain": [
              "Secondary education    19178\n",
              "No education            9000\n",
              "Primary education       5747\n",
              "Higher education        4811\n",
              "Name: father's education, dtype: int64"
            ]
          },
          "execution_count": 21,
          "metadata": {},
          "output_type": "execute_result"
        }
      ]
    },
    {
      "cell_type": "markdown",
      "metadata": {
        "id": "bzOx6OSGV55F"
      },
      "source": [
        "## father's occupation"
      ]
    },
    {
      "cell_type": "code",
      "metadata": {
        "colab": {
          "base_uri": "https://localhost:8080/"
        },
        "id": "5nKnbcKEGpWF",
        "outputId": "7a0c2c31-2e76-4e03-e529-f6073c20cf70"
      },
      "source": [
        "print(df['father\\'s occupation'].unique())\n",
        "df['father\\'s occupation']=df['father\\'s occupation'].replace({0:'unemployed',1:'professional',2:'clerical',3:'sales',4:'self employed',5:'Rgri',6:'household',7:'services' ,8:'skilled labour', 99.0:'dont know', 98.0:'dont know'})"
      ],
      "execution_count": null,
      "outputs": [
        {
          "name": "stdout",
          "output_type": "stream",
          "text": [
            "[ 5.  8.  3.  7.  2.  1.  0. 99. 98.]\n"
          ]
        }
      ]
    },
    {
      "cell_type": "code",
      "metadata": {
        "colab": {
          "base_uri": "https://localhost:8080/"
        },
        "id": "VbO8ApH7QRrK",
        "outputId": "9ee58f12-fb06-425f-cc4a-23271a979c37"
      },
      "source": [
        "print(df['father\\'s occupation'].unique())\n",
        "print(f'shape of original df = {df.shape}')\n",
        "# df[\"father\\'s occupation\"]=df[\"father\\'s occupation\"].replace({99:'dont know'})\n",
        "indexNames = df[df['father\\'s occupation'] == 'dont know'].index\n",
        "df.drop(indexNames , inplace=True)\n",
        "print(df['father\\'s occupation'].unique())\n",
        "print(f'shape of new df = {df.shape}')"
      ],
      "execution_count": null,
      "outputs": [
        {
          "name": "stdout",
          "output_type": "stream",
          "text": [
            "['Rgri' 'skilled labour' 'sales' 'services' 'clerical' 'professional'\n",
            " 'unemployed' 'dont know']\n",
            "shape of original df = (38736, 31)\n",
            "['Rgri' 'skilled labour' 'sales' 'services' 'clerical' 'professional'\n",
            " 'unemployed']\n",
            "shape of new df = (38630, 31)\n"
          ]
        }
      ]
    },
    {
      "cell_type": "code",
      "metadata": {
        "colab": {
          "base_uri": "https://localhost:8080/"
        },
        "id": "ZK2lB_UikHVQ",
        "outputId": "f518633a-32cb-4e77-d10b-15e34347b2eb"
      },
      "source": [
        "print(df['father\\'s occupation'].value_counts())"
      ],
      "execution_count": null,
      "outputs": [
        {
          "name": "stdout",
          "output_type": "stream",
          "text": [
            "skilled labour    15687\n",
            "Rgri              10421\n",
            "sales              5307\n",
            "professional       2893\n",
            "services           2290\n",
            "clerical           1595\n",
            "unemployed          437\n",
            "Name: father's occupation, dtype: int64\n"
          ]
        }
      ]
    },
    {
      "cell_type": "markdown",
      "metadata": {
        "id": "aG0mSKiDV8SI"
      },
      "source": [
        "## mothers education"
      ]
    },
    {
      "cell_type": "code",
      "metadata": {
        "colab": {
          "base_uri": "https://localhost:8080/"
        },
        "id": "nsp7sg7KGzQK",
        "outputId": "79127130-cf1f-451d-a8cb-6094c012c428"
      },
      "source": [
        "df['mother\\'s education'].unique()"
      ],
      "execution_count": null,
      "outputs": [
        {
          "data": {
            "text/plain": [
              "array([1, 0, 2, 3])"
            ]
          },
          "execution_count": 25,
          "metadata": {},
          "output_type": "execute_result"
        }
      ]
    },
    {
      "cell_type": "code",
      "metadata": {
        "colab": {
          "base_uri": "https://localhost:8080/"
        },
        "id": "xNSzrbf6TkkX",
        "outputId": "b1677b91-3d1c-4a0a-9c90-0bf804e177af"
      },
      "source": [
        "print(df['mother\\'s education'].unique())\n",
        "print(f'shape of original df = {df.shape}')\n",
        "# df[\"mother\\'s education\"]=df[\"mother\\'s education\"].replace({9:8})\n",
        "df[\"mother\\'s education\"]=df[\"mother\\'s education\"].replace({0:'No education', 1:'Primary education', 2:'Secondary education', 3:'Higher education'})\n",
        "indexNames = df[df['mother\\'s education'] == 9].index\n",
        "df.drop(indexNames , inplace=True)\n",
        "print(df['mother\\'s education'].unique())\n",
        "print(f'shape of original df = {df.shape}')"
      ],
      "execution_count": null,
      "outputs": [
        {
          "name": "stdout",
          "output_type": "stream",
          "text": [
            "[1 0 2 3]\n",
            "shape of original df = (38630, 31)\n",
            "['Primary education' 'No education' 'Secondary education'\n",
            " 'Higher education']\n",
            "shape of original df = (38630, 31)\n"
          ]
        }
      ]
    },
    {
      "cell_type": "code",
      "metadata": {
        "colab": {
          "base_uri": "https://localhost:8080/"
        },
        "id": "PCQXkoxmmV8L",
        "outputId": "ded3d8d4-0491-41e7-e47a-204afd5f68d0"
      },
      "source": [
        "df['mother\\'s education'].value_counts()"
      ],
      "execution_count": null,
      "outputs": [
        {
          "data": {
            "text/plain": [
              "No education           15459\n",
              "Secondary education    14625\n",
              "Primary education       5595\n",
              "Higher education        2951\n",
              "Name: mother's education, dtype: int64"
            ]
          },
          "execution_count": 27,
          "metadata": {},
          "output_type": "execute_result"
        }
      ]
    },
    {
      "cell_type": "markdown",
      "metadata": {
        "id": "MiJEocabV-tO"
      },
      "source": [
        "## mothers occupation"
      ]
    },
    {
      "cell_type": "code",
      "metadata": {
        "colab": {
          "base_uri": "https://localhost:8080/"
        },
        "id": "H7qxwVQiHnok",
        "outputId": "9196b753-3511-4b66-a397-2810cfa206c9"
      },
      "source": [
        "df['mother\\'s occupation'].unique()"
      ],
      "execution_count": null,
      "outputs": [
        {
          "data": {
            "text/plain": [
              "array([ 5,  0,  1,  3,  7,  8,  2, 99, 98])"
            ]
          },
          "execution_count": 28,
          "metadata": {},
          "output_type": "execute_result"
        }
      ]
    },
    {
      "cell_type": "code",
      "metadata": {
        "id": "Yl8iskOmUAFJ"
      },
      "source": [
        "df['mother\\'s occupation']=df['mother\\'s occupation'].replace({0:'unemployed',1:'professional',2:'clerical',3:'sales',4:'self employed',5:'Rgri',6:'household',7:'services' ,8:'skilled labour', 99:'dont know', 98:'dont know'})"
      ],
      "execution_count": null,
      "outputs": []
    },
    {
      "cell_type": "code",
      "metadata": {
        "colab": {
          "base_uri": "https://localhost:8080/"
        },
        "id": "BNYKlfDgUH-q",
        "outputId": "dd98fce0-f5d4-4f17-e6ef-c9f85ecf88c3"
      },
      "source": [
        "print(df['mother\\'s occupation'].unique())\n",
        "print(f'shape of original df = {df.shape}')\n",
        "# df[\"father\\'s occupation\"]=df[\"father\\'s occupation\"].replace({99:'dont know'})\n",
        "indexNames = df[df['mother\\'s occupation'] == 'dont know'].index\n",
        "df.drop(indexNames , inplace=True)\n",
        "print(df['mother\\'s occupation'].unique())\n",
        "print(f'shape of new df = {df.shape}')"
      ],
      "execution_count": null,
      "outputs": [
        {
          "name": "stdout",
          "output_type": "stream",
          "text": [
            "['Rgri' 'unemployed' 'professional' 'sales' 'services' 'skilled labour'\n",
            " 'clerical' 'dont know']\n",
            "shape of original df = (38630, 31)\n",
            "['Rgri' 'unemployed' 'professional' 'sales' 'services' 'skilled labour'\n",
            " 'clerical']\n",
            "shape of new df = (38615, 31)\n"
          ]
        }
      ]
    },
    {
      "cell_type": "code",
      "metadata": {
        "colab": {
          "base_uri": "https://localhost:8080/"
        },
        "id": "khrdFEEVmeth",
        "outputId": "3fce38b2-d346-4a63-924e-7dd90bd47c23"
      },
      "source": [
        "df['mother\\'s occupation'].value_counts()"
      ],
      "execution_count": null,
      "outputs": [
        {
          "data": {
            "text/plain": [
              "unemployed        24826\n",
              "Rgri               8584\n",
              "skilled labour     2703\n",
              "professional        863\n",
              "services            775\n",
              "sales               643\n",
              "clerical            221\n",
              "Name: mother's occupation, dtype: int64"
            ]
          },
          "execution_count": 31,
          "metadata": {},
          "output_type": "execute_result"
        }
      ]
    },
    {
      "cell_type": "markdown",
      "metadata": {
        "id": "eOWBY8-WWBZg"
      },
      "source": [
        "## state"
      ]
    },
    {
      "cell_type": "code",
      "metadata": {
        "colab": {
          "base_uri": "https://localhost:8080/"
        },
        "id": "oI-rMxMaHrOU",
        "outputId": "3bfb162f-5430-4716-c617-5c8f983128da"
      },
      "source": [
        "df['state'].value_counts()"
      ],
      "execution_count": null,
      "outputs": [
        {
          "output_type": "execute_result",
          "data": {
            "text/plain": [
              "Central_India      8970\n",
              "NorthEast_India    6673\n",
              "East_India         5645\n",
              "North_India        5373\n",
              "South_India        4803\n",
              "West_India         3745\n",
              "Name: state, dtype: int64"
            ]
          },
          "metadata": {},
          "execution_count": 29
        }
      ]
    },
    {
      "cell_type": "code",
      "metadata": {
        "id": "uYh8HOxhOPMT"
      },
      "source": [
        "df['state']= df['state'].replace({1:\"North_India\", 2:\"North_India\", \n",
        "                                  3:\"North_India\", 5:\"Central_India\", 6:\"North_India\", \n",
        "                                  7:\"North_India\", 8:\"North_India\", 9:\"Central_India\",\n",
        "                                  10:\"East_India\", 11:\"NorthEast_India\", 12:\"NorthEast_India\", 13:\"NorthEast_India\", 14:\"NorthEast_India\", \n",
        "                                  15:\"NorthEast_India\", 16:\"NorthEast_India\", 17:\"NorthEast_India\", 18:\"NorthEast_India\", 19:\"East_India\", \n",
        "                                  20:\"East_India\", 21:\"East_India\", 22:\"Central_India\", 23:\"Central_India\", 24:\"West_India\", \n",
        "                                  27:\"West_India\", 28:\"South_India\", 29:\"South_India\", 30:\"West_India\", \n",
        "                                  32:\"South_India\", 33:\"South_India\"})\n"
      ],
      "execution_count": null,
      "outputs": []
    },
    {
      "cell_type": "code",
      "metadata": {
        "id": "zJOR54UbTlyN"
      },
      "source": [
        "df['state']= df['state'].replace({1:\"North_India\", 2:\"North_India\", \n",
        "                                  3:\"North_India\", 5:\"Central_India\", 6:\"North_India\", \n",
        "                                  7:\"North_India\", 8:\"North_India\", 9:\"Central_India\",\n",
        "                                  10:\"East_India\", 11:\"NorthEast_India\", 12:\"NorthEast_India\", 13:\"NorthEast_India\", 14:\"NorthEast_India\", \n",
        "                                  15:\"NorthEast_India\", 16:\"NorthEast_India\", 17:\"NorthEast_India\", 18:\"NorthEast_India\", 19:\"East_India\", \n",
        "                                  20:\"East_India\", 21:\"East_India\", 22:\"Central_India\", 23:\"Central_India\", 24:\"West_India\", \n",
        "                                  27:\"West_India\", 28:\"South_India\", 29:\"South_India\", 30:\"West_India\", \n",
        "                                  32:\"South_India\", 33:\"South_India\"})\n"
      ],
      "execution_count": null,
      "outputs": []
    },
    {
      "cell_type": "code",
      "metadata": {
        "id": "l3P5TuR-T26E"
      },
      "source": [
        "# df['State']= df['State'].replace({1:\"East_India\", 2:\"South_India\", 3:\"NorthEast_India\", 4:\"NorthEast_India\", \n",
        "#                                   5:\"East_India\", 6:\"North_India\", 7:\"Central_India\", 8:\"West_India\", 9:\"West_India\",\n",
        "#                                   10:\"West_India\", 11:\"West_India\", 12:\"North_India\", 13:\"North_India\", 14:\"North_India\", 15:\"East_India\", \n",
        "#                                   16:\"South_India\", 17:\"South_India\", 18:\"South_India\", 19:\"Central_India\", 20:\"West_India\", 21:\"NorthEast_India\", \n",
        "#                                   22:\"NorthEast_India\", 23:\"NorthEast_India\", 24:\"NorthEast_India\", 25:\"North_India\", 26:\"East_India\", 27:\"South_India\", \n",
        "#                                   28:\"North_India\", 29:\"North_India\", 30:\"NorthEast_India\", 31:\"South_India\", 32:\"NorthEast_India\", 33:\"Central_India\", \n",
        "#                                   34:\"Central_India\", 35:\"East_India\", 36:\"South_India\"})\n"
      ],
      "execution_count": null,
      "outputs": []
    },
    {
      "cell_type": "markdown",
      "metadata": {
        "id": "46z7eOIPWC_v"
      },
      "source": [
        "## area"
      ]
    },
    {
      "cell_type": "code",
      "metadata": {
        "colab": {
          "base_uri": "https://localhost:8080/"
        },
        "id": "K3E90YALHzED",
        "outputId": "df4ce231-397d-4939-d382-01dc8cef9608"
      },
      "source": [
        "print(df['area'].unique())\n",
        "df['area'] = df['area'].replace({1:'Urban', 2:'Rural'})\n",
        "print(df['area'].unique())\n",
        "print(df['area'].value_counts())"
      ],
      "execution_count": null,
      "outputs": [
        {
          "output_type": "stream",
          "name": "stdout",
          "text": [
            "['Rural' 'Urban']\n",
            "['Rural' 'Urban']\n",
            "Rural    22032\n",
            "Urban    13177\n",
            "Name: area, dtype: int64\n"
          ]
        }
      ]
    },
    {
      "cell_type": "markdown",
      "metadata": {
        "id": "ezKCJiImWGLt"
      },
      "source": [
        "## religion"
      ]
    },
    {
      "cell_type": "code",
      "metadata": {
        "colab": {
          "base_uri": "https://localhost:8080/"
        },
        "id": "oyAU2DAIH1RF",
        "outputId": "48a8fa55-32b7-458c-a332-1483b043c010"
      },
      "source": [
        "print(df['religion'].unique())\n",
        "df['religion']=df['religion'].replace({1:'Hindu',2:'Muslim',3:'Christian',4:'Sikh',5:'Others',6:'Others',10:'Others' ,9:'Others', 99:'Others', 96:'Others'})"
      ],
      "execution_count": null,
      "outputs": [
        {
          "name": "stdout",
          "output_type": "stream",
          "text": [
            "[ 1  2  3 96  6 10  5  9 99  4]\n"
          ]
        }
      ]
    },
    {
      "cell_type": "code",
      "metadata": {
        "colab": {
          "base_uri": "https://localhost:8080/"
        },
        "id": "4osQM6lnU8gL",
        "outputId": "5c17fb3c-f3aa-4bdb-d992-92f287bedf68"
      },
      "source": [
        "print(df['religion'].unique())\n",
        "print(f'religion = {df.shape}')"
      ],
      "execution_count": null,
      "outputs": [
        {
          "name": "stdout",
          "output_type": "stream",
          "text": [
            "['Hindu' 'Muslim' 'Christian' 'Others' 'Sikh']\n",
            "religion = (38615, 31)\n"
          ]
        }
      ]
    },
    {
      "cell_type": "code",
      "metadata": {
        "colab": {
          "base_uri": "https://localhost:8080/"
        },
        "id": "fs6gqMG_mwvo",
        "outputId": "e2362e09-99af-4048-8a87-f3fb4a5d8838"
      },
      "source": [
        "df['religion'].value_counts()"
      ],
      "execution_count": null,
      "outputs": [
        {
          "output_type": "execute_result",
          "data": {
            "text/plain": [
              "Hindu        25093\n",
              "Muslim        4935\n",
              "Christian     3580\n",
              "Others         941\n",
              "Sikh           660\n",
              "Name: religion, dtype: int64"
            ]
          },
          "metadata": {},
          "execution_count": 32
        }
      ]
    },
    {
      "cell_type": "markdown",
      "metadata": {
        "id": "0bHgBnC8WKWk"
      },
      "source": [
        "## caste"
      ]
    },
    {
      "cell_type": "code",
      "metadata": {
        "colab": {
          "base_uri": "https://localhost:8080/"
        },
        "id": "Ag-FCZWAH6AF",
        "outputId": "697acc8f-91c1-4baa-97f3-d3b1a54b1076"
      },
      "source": [
        "df['caste'].unique()"
      ],
      "execution_count": null,
      "outputs": [
        {
          "data": {
            "text/plain": [
              "array([3., 4., 1., 2., 9., 8.])"
            ]
          },
          "execution_count": 40,
          "metadata": {},
          "output_type": "execute_result"
        }
      ]
    },
    {
      "cell_type": "code",
      "metadata": {
        "colab": {
          "base_uri": "https://localhost:8080/"
        },
        "id": "eWI5jFmmYRs1",
        "outputId": "67285b2c-ef78-4795-e341-aaeb15d76012"
      },
      "source": [
        "print(df['caste'].unique())\n",
        "print(f'shape of original df = {df.shape}')\n",
        "df[\"caste\"]=df[\"caste\"].replace({8.0:9})\n",
        "indexNames = df[df['caste'] == 9].index\n",
        "df.drop(indexNames , inplace=True)\n",
        "print(df['caste'].unique())\n",
        "print(f'shape of new df = {df.shape}')"
      ],
      "execution_count": null,
      "outputs": [
        {
          "name": "stdout",
          "output_type": "stream",
          "text": [
            "[3. 4. 1. 2. 9. 8.]\n",
            "shape of original df = (38615, 31)\n",
            "[3. 4. 1. 2.]\n",
            "shape of new df = (38286, 31)\n"
          ]
        }
      ]
    },
    {
      "cell_type": "code",
      "metadata": {
        "id": "6qHCmQJtZNzN"
      },
      "source": [
        "df['caste']=df['caste'].replace({1:'SC',2:'ST',3:'OBC',4:'Others'})"
      ],
      "execution_count": null,
      "outputs": []
    },
    {
      "cell_type": "code",
      "metadata": {
        "colab": {
          "base_uri": "https://localhost:8080/"
        },
        "id": "VQEgaZowm7hb",
        "outputId": "0bc3ba36-19f4-449f-e2bb-ca9325891798"
      },
      "source": [
        "df['caste'].value_counts()"
      ],
      "execution_count": null,
      "outputs": [
        {
          "output_type": "execute_result",
          "data": {
            "text/plain": [
              "OBC       11833\n",
              "Others    10763\n",
              "SC         6551\n",
              "ST         6062\n",
              "Name: caste, dtype: int64"
            ]
          },
          "metadata": {},
          "execution_count": 33
        }
      ]
    },
    {
      "cell_type": "markdown",
      "metadata": {
        "id": "Hv88HpuDWNTm"
      },
      "source": [
        "## type of family"
      ]
    },
    {
      "cell_type": "code",
      "metadata": {
        "colab": {
          "base_uri": "https://localhost:8080/"
        },
        "id": "3ZknICWIH9GJ",
        "outputId": "c156a182-5ba8-4ef7-fddb-22c258c8d42c"
      },
      "source": [
        "df['type of family'].unique()"
      ],
      "execution_count": null,
      "outputs": [
        {
          "data": {
            "text/plain": [
              "array([2, 1, 7])"
            ]
          },
          "execution_count": 44,
          "metadata": {},
          "output_type": "execute_result"
        }
      ]
    },
    {
      "cell_type": "markdown",
      "metadata": {
        "id": "lPFiYM-uWP7P"
      },
      "source": [
        "## total family members"
      ]
    },
    {
      "cell_type": "code",
      "metadata": {
        "colab": {
          "base_uri": "https://localhost:8080/"
        },
        "id": "GbgqJw4VIAih",
        "outputId": "a5096a1f-1e39-4550-eb77-0687ad615cda"
      },
      "source": [
        "df['total family members'].value_counts()"
      ],
      "execution_count": null,
      "outputs": [
        {
          "output_type": "execute_result",
          "data": {
            "text/plain": [
              "5     6540\n",
              "4     5994\n",
              "6     5838\n",
              "7     4330\n",
              "8     3221\n",
              "3     2511\n",
              "9     2170\n",
              "10    1492\n",
              "11    1032\n",
              "12     703\n",
              "13     518\n",
              "14     334\n",
              "15     269\n",
              "16     153\n",
              "17     123\n",
              "2      102\n",
              "20      73\n",
              "18      63\n",
              "21      62\n",
              "19      57\n",
              "23      32\n",
              "22      27\n",
              "24      26\n",
              "28      11\n",
              "29       6\n",
              "32       5\n",
              "25       4\n",
              "35       4\n",
              "34       4\n",
              "27       2\n",
              "26       1\n",
              "31       1\n",
              "Name: total family members, dtype: int64"
            ]
          },
          "metadata": {},
          "execution_count": 12
        }
      ]
    },
    {
      "cell_type": "markdown",
      "metadata": {
        "id": "U59MGAW0WSxk"
      },
      "source": [
        "## exposure to mass media"
      ]
    },
    {
      "cell_type": "code",
      "metadata": {
        "colab": {
          "base_uri": "https://localhost:8080/"
        },
        "id": "h1bhLneLL1cs",
        "outputId": "498da106-2a5a-4294-c08c-dca253338988"
      },
      "source": [
        "df['exposure to mass media'].unique()"
      ],
      "execution_count": null,
      "outputs": [
        {
          "data": {
            "text/plain": [
              "array([1, 2, 3, 0])"
            ]
          },
          "execution_count": 46,
          "metadata": {},
          "output_type": "execute_result"
        }
      ]
    },
    {
      "cell_type": "code",
      "metadata": {
        "id": "H-L_kdvM6I77"
      },
      "source": [
        "df['exposure to mass media']=df['exposure to mass media'].replace({1:'Yes',2: 'Yes',3:'Yes',0:'No'})"
      ],
      "execution_count": null,
      "outputs": []
    },
    {
      "cell_type": "code",
      "metadata": {
        "colab": {
          "base_uri": "https://localhost:8080/"
        },
        "id": "jV7cV2MrZ9nu",
        "outputId": "0accfc0b-ed6c-4886-8796-38fcdf672089"
      },
      "source": [
        "df['exposure to mass media'].value_counts()"
      ],
      "execution_count": null,
      "outputs": [
        {
          "output_type": "execute_result",
          "data": {
            "text/plain": [
              "Yes    26540\n",
              "No      8669\n",
              "Name: exposure to mass media, dtype: int64"
            ]
          },
          "metadata": {},
          "execution_count": 34
        }
      ]
    },
    {
      "cell_type": "markdown",
      "metadata": {
        "id": "6dEobiy1aOa5"
      },
      "source": [
        "## source of drinking water"
      ]
    },
    {
      "cell_type": "code",
      "metadata": {
        "colab": {
          "background_save": true,
          "base_uri": "https://localhost:8080/"
        },
        "id": "K8Ek-w85L_Dh",
        "outputId": "162cefb2-9a1a-48fd-bcb1-42430e726eb3"
      },
      "source": [
        "df['source of drinking water'].unique()"
      ],
      "execution_count": null,
      "outputs": [
        {
          "data": {
            "text/plain": [
              "array([13, 43, 12, 11, 97, 21, 71, 32, 96, 31, 42, 61, 62, 41, 51, 99])"
            ]
          },
          "execution_count": null,
          "metadata": {},
          "output_type": "execute_result"
        }
      ]
    },
    {
      "cell_type": "code",
      "metadata": {
        "colab": {
          "background_save": true
        },
        "id": "Ak4LRiLQb1JN"
      },
      "source": [
        "df = df.rename(columns={\"source of drinking water\": \"Source of drinking water\"})"
      ],
      "execution_count": null,
      "outputs": []
    },
    {
      "cell_type": "code",
      "metadata": {
        "colab": {
          "background_save": true
        },
        "id": "lmCZUiyYanv1"
      },
      "source": [
        "df[\"Source of drinking water\"]=df[\"Source of drinking water\"].replace({10:1})\n",
        "df[\"Source of drinking water\"]=df[\"Source of drinking water\"].replace({11:1})\n",
        "df[\"Source of drinking water\"]=df[\"Source of drinking water\"].replace({12:1})\n",
        "df[\"Source of drinking water\"]=df[\"Source of drinking water\"].replace({13:1})\n",
        "df[\"Source of drinking water\"]=df[\"Source of drinking water\"].replace({20:1})\n",
        "df[\"Source of drinking water\"]=df[\"Source of drinking water\"].replace({21:1})\n",
        "df[\"Source of drinking water\"]=df[\"Source of drinking water\"].replace({30:1})\n",
        "df[\"Source of drinking water\"]=df[\"Source of drinking water\"].replace({31:1})\n",
        "df[\"Source of drinking water\"]=df[\"Source of drinking water\"].replace({41:1})\n",
        "df[\"Source of drinking water\"]=df[\"Source of drinking water\"].replace({51:1})\n",
        "df[\"Source of drinking water\"]=df[\"Source of drinking water\"].replace({71:1})\n",
        "df[\"Source of drinking water\"]=df[\"Source of drinking water\"].replace({61:1})\n",
        "df[\"Source of drinking water\"]=df[\"Source of drinking water\"].replace({62:1})\n",
        "df[\"Source of drinking water\"]=df[\"Source of drinking water\"].replace({32:2})\n",
        "df[\"Source of drinking water\"]=df[\"Source of drinking water\"].replace({40:2})\n",
        "df[\"Source of drinking water\"]=df[\"Source of drinking water\"].replace({42:2})\n",
        "df[\"Source of drinking water\"]=df[\"Source of drinking water\"].replace({43:2})\n",
        "df[\"Source of drinking water\"]=df[\"Source of drinking water\"].replace({96:2})\n",
        "df[\"Source of drinking water\"]=df[\"Source of drinking water\"].replace({97:2})\n",
        "df[\"Source of drinking water\"]=df[\"Source of drinking water\"].replace({99:2})"
      ],
      "execution_count": null,
      "outputs": []
    },
    {
      "cell_type": "code",
      "metadata": {
        "colab": {
          "background_save": true
        },
        "id": "TfsUP2OFFmX3"
      },
      "source": [
        "df[\"Source of drinking water\"]=df[\"Source of drinking water\"].replace({1:'Improved', 2:'Unimproved'})"
      ],
      "execution_count": null,
      "outputs": []
    },
    {
      "cell_type": "code",
      "metadata": {
        "colab": {
          "background_save": true,
          "base_uri": "https://localhost:8080/"
        },
        "id": "a-qgzspRcA1v",
        "outputId": "d1b8280b-0260-4f71-e6a9-3d0c76992455"
      },
      "source": [
        "df['Source of drinking water'].unique()"
      ],
      "execution_count": null,
      "outputs": [
        {
          "data": {
            "text/plain": [
              "array(['Improved', 'Unimproved'], dtype=object)"
            ]
          },
          "execution_count": null,
          "metadata": {},
          "output_type": "execute_result"
        }
      ]
    },
    {
      "cell_type": "code",
      "metadata": {
        "colab": {
          "base_uri": "https://localhost:8080/"
        },
        "id": "rwawsfOenLgC",
        "outputId": "0e50a1aa-f151-453d-9cf8-e321e57511fa"
      },
      "source": [
        "df['Source of drinking water'].value_counts()"
      ],
      "execution_count": null,
      "outputs": [
        {
          "output_type": "execute_result",
          "data": {
            "text/plain": [
              "Improved      29527\n",
              "Unimproved     5682\n",
              "Name: Source of drinking water, dtype: int64"
            ]
          },
          "metadata": {},
          "execution_count": 35
        }
      ]
    },
    {
      "cell_type": "markdown",
      "metadata": {
        "id": "chI2UmW3aRCC"
      },
      "source": [
        "## toilet facility"
      ]
    },
    {
      "cell_type": "code",
      "metadata": {
        "colab": {
          "background_save": true,
          "base_uri": "https://localhost:8080/"
        },
        "id": "49wmg9awMEUL",
        "outputId": "8bfcd649-05b3-4b02-eb7b-c2ab2cd86396"
      },
      "source": [
        "df['toilet facility'].unique()"
      ],
      "execution_count": null,
      "outputs": [
        {
          "data": {
            "text/plain": [
              "array([31, 12, 11, 97, 14, 13, 22, 99, 96, 21, 23, 44, 41, 15])"
            ]
          },
          "execution_count": null,
          "metadata": {},
          "output_type": "execute_result"
        }
      ]
    },
    {
      "cell_type": "code",
      "metadata": {
        "colab": {
          "background_save": true
        },
        "id": "FporIBgXc0Px"
      },
      "source": [
        "df = df.rename(columns={\"toilet facility\": \"Toilet Facility\"})"
      ],
      "execution_count": null,
      "outputs": []
    },
    {
      "cell_type": "code",
      "metadata": {
        "colab": {
          "background_save": true
        },
        "id": "t4jJN5WDaUcg"
      },
      "source": [
        "df['Toilet Facility'] = df['Toilet Facility'].replace({31:2})\n",
        "df['Toilet Facility'] = df['Toilet Facility'].replace({23:2})\n",
        "df['Toilet Facility'] = df['Toilet Facility'].replace({30:2})\n",
        "df['Toilet Facility'] = df['Toilet Facility'].replace({96:2})\n",
        "df['Toilet Facility'] = df['Toilet Facility'].replace({97:2})\n",
        "df['Toilet Facility'] = df['Toilet Facility'].replace({44:2})\n",
        "df['Toilet Facility'] = df['Toilet Facility'].replace({14:1})\n",
        "df['Toilet Facility'] = df['Toilet Facility'].replace({13:1})\n",
        "df['Toilet Facility'] = df['Toilet Facility'].replace({12:1})\n",
        "df['Toilet Facility'] = df['Toilet Facility'].replace({10:1})\n",
        "df['Toilet Facility'] = df['Toilet Facility'].replace({11:1})\n",
        "df['Toilet Facility'] = df['Toilet Facility'].replace({15:1})\n",
        "df['Toilet Facility'] = df['Toilet Facility'].replace({20:1})\n",
        "df['Toilet Facility'] = df['Toilet Facility'].replace({21:1})\n",
        "df['Toilet Facility'] = df['Toilet Facility'].replace({22:1})\n",
        "df['Toilet Facility'] = df['Toilet Facility'].replace({41:1})\n",
        "df['Toilet Facility'] = df['Toilet Facility'].replace({99:2})"
      ],
      "execution_count": null,
      "outputs": []
    },
    {
      "cell_type": "code",
      "metadata": {
        "colab": {
          "background_save": true
        },
        "id": "J964-ALkF_4y"
      },
      "source": [
        "df['Toilet Facility'] = df['Toilet Facility'].replace({1:'Improved', 2:'Unimproved'})"
      ],
      "execution_count": null,
      "outputs": []
    },
    {
      "cell_type": "code",
      "metadata": {
        "colab": {
          "background_save": true,
          "base_uri": "https://localhost:8080/"
        },
        "id": "c-Ppk1wMc-mG",
        "outputId": "9187314d-8924-4233-d9b9-11e4af30845d"
      },
      "source": [
        "df['Toilet Facility'].unique()"
      ],
      "execution_count": null,
      "outputs": [
        {
          "data": {
            "text/plain": [
              "array(['Unimproved', 'Improved'], dtype=object)"
            ]
          },
          "execution_count": null,
          "metadata": {},
          "output_type": "execute_result"
        }
      ]
    },
    {
      "cell_type": "code",
      "metadata": {
        "colab": {
          "base_uri": "https://localhost:8080/"
        },
        "id": "xDalA8amnUSU",
        "outputId": "5edc9adf-fe3a-4726-f128-62d0adf20ab5"
      },
      "source": [
        "df['Toilet Facility'].value_counts()"
      ],
      "execution_count": null,
      "outputs": [
        {
          "output_type": "execute_result",
          "data": {
            "text/plain": [
              "Unimproved    18294\n",
              "Improved      16915\n",
              "Name: Toilet Facility, dtype: int64"
            ]
          },
          "metadata": {},
          "execution_count": 36
        }
      ]
    },
    {
      "cell_type": "markdown",
      "metadata": {
        "id": "mvBwGdF1aV0S"
      },
      "source": [
        "## mothers age"
      ]
    },
    {
      "cell_type": "code",
      "metadata": {
        "colab": {
          "background_save": true,
          "base_uri": "https://localhost:8080/"
        },
        "id": "GWruAKXWMI72",
        "outputId": "20254174-d309-4d35-afcb-f8ff32ba54c5"
      },
      "source": [
        "df['mother\\'s age'].unique()"
      ],
      "execution_count": null,
      "outputs": [
        {
          "data": {
            "text/plain": [
              "array([17, 16, 22, 15, 18, 20, 27, 24, 21, 23, 26, 11, 19, 13, 31, 14, 30,\n",
              "       25, 36, 28, 29, 12, 32, 35, 34, 33, 39, 41, 38, 37, 40, 42, 44, 43,\n",
              "       45])"
            ]
          },
          "execution_count": null,
          "metadata": {},
          "output_type": "execute_result"
        }
      ]
    },
    {
      "cell_type": "code",
      "metadata": {
        "colab": {
          "background_save": true
        },
        "id": "8DmV7ImmdOsF"
      },
      "source": [
        "df['mother\\'s age'] = pd.cut(df['mother\\'s age'], bins=[0, 19, 29, 39, 50], include_lowest=True, labels=['<20', '20-29', '30-39', '40 or above'])"
      ],
      "execution_count": null,
      "outputs": []
    },
    {
      "cell_type": "code",
      "metadata": {
        "colab": {
          "base_uri": "https://localhost:8080/"
        },
        "id": "TrfDwhMinb21",
        "outputId": "519cb708-deb0-41de-e5ac-1c9c512ee459"
      },
      "source": [
        "df['mother\\'s age'].value_counts()"
      ],
      "execution_count": null,
      "outputs": [
        {
          "output_type": "execute_result",
          "data": {
            "text/plain": [
              "<20            17943\n",
              "20-29          16515\n",
              "30-39            735\n",
              "40 or above       16\n",
              "Name: mother's age, dtype: int64"
            ]
          },
          "metadata": {},
          "execution_count": 37
        }
      ]
    },
    {
      "cell_type": "markdown",
      "metadata": {
        "id": "UbIc49Oyde-T"
      },
      "source": [
        "## mothers bmi"
      ]
    },
    {
      "cell_type": "code",
      "metadata": {
        "colab": {
          "background_save": true,
          "base_uri": "https://localhost:8080/"
        },
        "id": "Y1TFP_rDJJay",
        "outputId": "2587df73-33a7-4c93-8fdc-0eda8d5eb4e5"
      },
      "source": [
        "df['mother\\'s bmi'].value_counts()"
      ],
      "execution_count": null,
      "outputs": [
        {
          "data": {
            "text/plain": [
              "9999    212\n",
              "1912     86\n",
              "1914     85\n",
              "1827     85\n",
              "1876     82\n",
              "       ... \n",
              "3246      1\n",
              "3525      1\n",
              "3182      1\n",
              "3054      1\n",
              "4089      1\n",
              "Name: mother's bmi, Length: 1990, dtype: int64"
            ]
          },
          "execution_count": null,
          "metadata": {},
          "output_type": "execute_result"
        }
      ]
    },
    {
      "cell_type": "code",
      "metadata": {
        "colab": {
          "background_save": true,
          "base_uri": "https://localhost:8080/"
        },
        "id": "6u07-N_4d_z4",
        "outputId": "7749ff81-bda3-4bf6-b2ea-59e59128d406"
      },
      "source": [
        "df[\"mother\\'s bmi\"]=df[\"mother\\'s bmi\"].replace({9998.0:9999.0, 9996.0:9999.0, 9997.0:9999.0})\n",
        "indexNames = df[df['mother\\'s bmi'] == 9999.0].index\n",
        "df.drop(indexNames , inplace=True)\n",
        "print(df.shape)\n",
        "print(df['mother\\'s bmi'].max())\n",
        "print(df['mother\\'s bmi'].min())"
      ],
      "execution_count": null,
      "outputs": [
        {
          "name": "stdout",
          "output_type": "stream",
          "text": [
            "(38059, 31)\n",
            "5962.0\n",
            "1204.0\n"
          ]
        }
      ]
    },
    {
      "cell_type": "code",
      "metadata": {
        "colab": {
          "background_save": true,
          "base_uri": "https://localhost:8080/"
        },
        "id": "F9bcgpO2MMmp",
        "outputId": "bb4320ec-8b62-420e-ec76-88ff3545a92c"
      },
      "source": [
        "df['mother\\'s bmi']=df['mother\\'s bmi'].div(100)\n",
        "df['mother\\'s bmi']=pd.cut(df['mother\\'s bmi'], bins=[0,18,25,60], right= False, labels=['underweight','healthy','overweight'])\n",
        "print(df['mother\\'s bmi'].unique())"
      ],
      "execution_count": null,
      "outputs": [
        {
          "name": "stdout",
          "output_type": "stream",
          "text": [
            "['underweight', 'healthy', 'overweight']\n",
            "Categories (3, object): ['underweight' < 'healthy' < 'overweight']\n"
          ]
        }
      ]
    },
    {
      "cell_type": "markdown",
      "metadata": {
        "id": "KGRpXSjIdmqi"
      },
      "source": [
        "## childs age"
      ]
    },
    {
      "cell_type": "code",
      "metadata": {
        "colab": {
          "background_save": true,
          "base_uri": "https://localhost:8080/"
        },
        "id": "1d837L5BMOjP",
        "outputId": "13be2fc0-fa55-4452-b705-37f32541949c"
      },
      "source": [
        "df['child\\'s age'].unique()"
      ],
      "execution_count": null,
      "outputs": [
        {
          "data": {
            "text/plain": [
              "array([35., 52., 11., 23.,  5., 48., 27., 19., 44., 16., 51., 46.,  9.,\n",
              "       42., 20.,  3., 28., 37., 56., 10., 55., 54., 24., 36., 26.,  8.,\n",
              "       40., 43., 38., 17., 33., 50., 14., 31., 57., 47., 59.,  1., 25.,\n",
              "       13., 32., 53., 58., 29.,  6., 12., 39., 34.,  7., 49., 21., 18.,\n",
              "       30., 41., 15., 22., 45.,  2.,  4.,  0.])"
            ]
          },
          "execution_count": null,
          "metadata": {},
          "output_type": "execute_result"
        }
      ]
    },
    {
      "cell_type": "code",
      "metadata": {
        "colab": {
          "background_save": true
        },
        "id": "AO9vhR9teO7E"
      },
      "source": [
        "df['child\\'s age'] = pd.cut(df['child\\'s age'], bins=[0, 6, 12, 18, 24, 36, 48, 59], include_lowest=True, labels=['6-', '6-12', '12-18', '18-24', '24-36', '36-48', '48-59'])"
      ],
      "execution_count": null,
      "outputs": []
    },
    {
      "cell_type": "code",
      "metadata": {
        "colab": {
          "background_save": true,
          "base_uri": "https://localhost:8080/"
        },
        "id": "ICffkcjZnm5-",
        "outputId": "32352540-cadd-4614-c5ef-76d253f73712"
      },
      "source": [
        "df['child\\'s age'].value_counts()"
      ],
      "execution_count": null,
      "outputs": [
        {
          "data": {
            "text/plain": [
              "36-48    7812\n",
              "24-36    7805\n",
              "48-59    7149\n",
              "12-18    4049\n",
              "6-12     3878\n",
              "6-       3778\n",
              "18-24    3588\n",
              "Name: child's age, dtype: int64"
            ]
          },
          "execution_count": null,
          "metadata": {},
          "output_type": "execute_result"
        }
      ]
    },
    {
      "cell_type": "markdown",
      "metadata": {
        "id": "bo0pUxyigWwS"
      },
      "source": [
        "## Sex of child"
      ]
    },
    {
      "cell_type": "code",
      "metadata": {
        "colab": {
          "background_save": true,
          "base_uri": "https://localhost:8080/"
        },
        "id": "NHHjBh84MzbZ",
        "outputId": "63de2997-9708-4105-9c29-4f24a210b695"
      },
      "source": [
        "df['sex of child'].unique()"
      ],
      "execution_count": null,
      "outputs": [
        {
          "data": {
            "text/plain": [
              "array([1, 2])"
            ]
          },
          "execution_count": null,
          "metadata": {},
          "output_type": "execute_result"
        }
      ]
    },
    {
      "cell_type": "code",
      "metadata": {
        "colab": {
          "background_save": true
        },
        "id": "u2hu_N7vgcbS"
      },
      "source": [
        "df['sex of child']=df['sex of child'].replace({1:'Male',2:'Female'})"
      ],
      "execution_count": null,
      "outputs": []
    },
    {
      "cell_type": "code",
      "metadata": {
        "colab": {
          "background_save": true,
          "base_uri": "https://localhost:8080/"
        },
        "id": "qqaiDwBhnr-f",
        "outputId": "fef2aa82-0ea0-4fd9-89cf-68071adfedea"
      },
      "source": [
        "df['sex of child'].value_counts()"
      ],
      "execution_count": null,
      "outputs": [
        {
          "data": {
            "text/plain": [
              "Male      19800\n",
              "Female    18259\n",
              "Name: sex of child, dtype: int64"
            ]
          },
          "execution_count": null,
          "metadata": {},
          "output_type": "execute_result"
        }
      ]
    },
    {
      "cell_type": "markdown",
      "metadata": {
        "id": "WAHiZGXugsLK"
      },
      "source": [
        "## Birthweight"
      ]
    },
    {
      "cell_type": "code",
      "metadata": {
        "colab": {
          "background_save": true
        },
        "id": "cFs7GOnj6-te"
      },
      "source": [
        "df['birth weight']=df['birth weight'].replace({9996 : 20000, 9998: 20000})"
      ],
      "execution_count": null,
      "outputs": []
    },
    {
      "cell_type": "code",
      "metadata": {
        "colab": {
          "background_save": true,
          "base_uri": "https://localhost:8080/"
        },
        "id": "1_aBm-U09dS6",
        "outputId": "f0afdb1d-987d-4813-9d02-b57cb56bee8a"
      },
      "source": [
        "df['birth weight'].value_counts()"
      ],
      "execution_count": null,
      "outputs": [
        {
          "data": {
            "text/plain": [
              "20000    22202\n",
              "3000      3257\n",
              "2500      2774\n",
              "3500      1870\n",
              "2000      1094\n",
              "         ...  \n",
              "2320         1\n",
              "1008         1\n",
              "2545         1\n",
              "4030         1\n",
              "2081         1\n",
              "Name: birth weight, Length: 282, dtype: int64"
            ]
          },
          "execution_count": null,
          "metadata": {},
          "output_type": "execute_result"
        }
      ]
    },
    {
      "cell_type": "code",
      "metadata": {
        "colab": {
          "background_save": true
        },
        "id": "lDxatqHDJsl-"
      },
      "source": [
        "df['birth weight']=pd.cut(df['birth weight'] ,bins=[0,2500,11000, 25000], right=False , labels=['2.5-','2.5+','Not Measured'] , include_lowest=True)"
      ],
      "execution_count": null,
      "outputs": []
    },
    {
      "cell_type": "code",
      "metadata": {
        "colab": {
          "background_save": true,
          "base_uri": "https://localhost:8080/"
        },
        "id": "oe3MHbIkM2iT",
        "outputId": "f06e89c3-dda1-44ea-d259-1a033c121b35"
      },
      "source": [
        "df['birth weight'].unique()"
      ],
      "execution_count": null,
      "outputs": [
        {
          "data": {
            "text/plain": [
              "['Not Measured', '2.5+', '2.5-']\n",
              "Categories (3, object): ['2.5-' < '2.5+' < 'Not Measured']"
            ]
          },
          "execution_count": null,
          "metadata": {},
          "output_type": "execute_result"
        }
      ]
    },
    {
      "cell_type": "markdown",
      "metadata": {
        "id": "I78PNV3JgwtF"
      },
      "source": [
        "## initiation of bf"
      ]
    },
    {
      "cell_type": "code",
      "metadata": {
        "colab": {
          "background_save": true,
          "base_uri": "https://localhost:8080/"
        },
        "id": "uym7jpaSM4bF",
        "outputId": "97c1064a-527f-45a1-9286-08be7bb63e0b"
      },
      "source": [
        "df['initiation of bf(early initiation)'].unique()"
      ],
      "execution_count": null,
      "outputs": [
        {
          "data": {
            "text/plain": [
              "array([106., 102., 201., 105., 203., 202., 101.,   0., 103., 107., 205.,\n",
              "       112., 204., 108., 100., 110., 104., 120., 109., 206., 207., 116.,\n",
              "       122., 213., 123., 223., 114., 208., 199., 999., 115., 111., 215.,\n",
              "       212., 117., 299., 118., 113., 119., 220., 216., 210., 209., 222.,\n",
              "       214., 218., 121., 217., 211.])"
            ]
          },
          "execution_count": null,
          "metadata": {},
          "output_type": "execute_result"
        }
      ]
    },
    {
      "cell_type": "code",
      "metadata": {
        "colab": {
          "background_save": true
        },
        "id": "A2tQ8rYkT1M-"
      },
      "source": [
        "df['initiation of bf(early initiation)']=df['initiation of bf(early initiation)'].replace({0:'Early initiation',100:'Early initiation',101:'Early initiation', 199:'Late initiation',\n",
        "                                                                                           201:'Late initiation', 299:'Late initiation', 106:'Late initiation',106:'Late initiation', \n",
        "                                                                                           102:'Late initiation', 105:'Late initiation', 203:'Late initiation', 202:'Late initiation',\n",
        "                                                                                           103:'Late initiation', 107:'Late initiation', 205:'Late initiation', 112:'Late initiation', \n",
        "                                                                                           204:'Late initiation', 108:'Late initiation', 110:'Late initiation', 104:'Late initiation',\n",
        "                                                                                           120:'Late initiation', 206:'Late initiation', 109:'Late initiation', 118:'Late initiation',\n",
        "                                                                                           207:'Late initiation', 116:'Late initiation', 122:'Late initiation', 213:'Late initiation',\n",
        "                                                                                           123:'Late initiation', 114:'Late initiation', 223:'Late initiation', 208:'Late initiation',\n",
        "                                                                                           199:'Late initiation', 999:'Late initiation', 111:'Late initiation', 215:'Late initiation', \n",
        "                                                                                           212:'Late initiation', 117:'Late initiation', 299:'Late initiation', 113:'Late initiation', \n",
        "                                                                                           119:'Late initiation', 220:'Late initiation', 216:'Late initiation', 210:'Late initiation',\n",
        "                                                                                           209:'Late initiation', 106:'Late initiation', 106:'Late initiation', 106:'Late initiation',\n",
        "                                                                                           106:'Late initiation', 222:'Late initiation', 214:'Late initiation', 218:'Late initiation',\n",
        "                                                                                           121:'Late initiation', 217:'Late initiation', 211:'Late initiation', 115:'Late initiation'\n",
        "                                                                                           })"
      ],
      "execution_count": null,
      "outputs": []
    },
    {
      "cell_type": "code",
      "metadata": {
        "colab": {
          "background_save": true,
          "base_uri": "https://localhost:8080/"
        },
        "id": "w7tv1PPN_p5T",
        "outputId": "f55815af-c6c6-40c5-b25c-3c51dcdc394a"
      },
      "source": [
        "df['initiation of bf(early initiation)'].value_counts()"
      ],
      "execution_count": null,
      "outputs": [
        {
          "data": {
            "text/plain": [
              "Late initiation     21464\n",
              "Early initiation    16595\n",
              "Name: initiation of bf(early initiation), dtype: int64"
            ]
          },
          "execution_count": null,
          "metadata": {},
          "output_type": "execute_result"
        }
      ]
    },
    {
      "cell_type": "markdown",
      "metadata": {
        "id": "yOIc2qNdKzzN"
      },
      "source": [
        "## wealth index"
      ]
    },
    {
      "cell_type": "code",
      "metadata": {
        "colab": {
          "background_save": true,
          "base_uri": "https://localhost:8080/"
        },
        "id": "8Ya4TLT2NEqi",
        "outputId": "e5c2930f-6b4a-4739-a0e8-cbe62dcc404a"
      },
      "source": [
        "df['wealth index'].value_counts()"
      ],
      "execution_count": null,
      "outputs": [
        {
          "data": {
            "text/plain": [
              "4    8514\n",
              "5    7971\n",
              "3    7889\n",
              "2    6915\n",
              "1    6770\n",
              "Name: wealth index, dtype: int64"
            ]
          },
          "execution_count": null,
          "metadata": {},
          "output_type": "execute_result"
        }
      ]
    },
    {
      "cell_type": "code",
      "metadata": {
        "colab": {
          "background_save": true
        },
        "id": "7etjQpwaQs-R"
      },
      "source": [
        "df['wealth index'] = df['wealth index'].replace({1:'Poorest', 2:'Poorer', 3:'Middle', 4:'Richer', 5:'Richest'})"
      ],
      "execution_count": null,
      "outputs": []
    },
    {
      "cell_type": "markdown",
      "metadata": {
        "id": "-ltze-sBLRo1"
      },
      "source": [
        "## Months of bf"
      ]
    },
    {
      "cell_type": "code",
      "metadata": {
        "colab": {
          "background_save": true
        },
        "id": "SwVN4Kr_LTni"
      },
      "source": [
        "df = df.rename(columns={'moths of bf': \"months of bf\"})"
      ],
      "execution_count": null,
      "outputs": []
    },
    {
      "cell_type": "code",
      "metadata": {
        "colab": {
          "background_save": true
        },
        "id": "ETSMQZWWLkCg"
      },
      "source": [
        "df['months of bf']=pd.cut(df['months of bf'] ,bins=[0,24, 100], right=False , labels=['<24','>24'] , include_lowest=True)"
      ],
      "execution_count": null,
      "outputs": []
    },
    {
      "cell_type": "code",
      "metadata": {
        "colab": {
          "background_save": true,
          "base_uri": "https://localhost:8080/"
        },
        "id": "_5nrXfJDNKlH",
        "outputId": "b3c44808-4bb6-4e81-b413-ec4821fc6992"
      },
      "source": [
        "df['months of bf'].unique()"
      ],
      "execution_count": null,
      "outputs": [
        {
          "data": {
            "text/plain": [
              "['>24', '<24']\n",
              "Categories (2, object): ['<24' < '>24']"
            ]
          },
          "execution_count": null,
          "metadata": {},
          "output_type": "execute_result"
        }
      ]
    },
    {
      "cell_type": "code",
      "metadata": {
        "colab": {
          "background_save": true,
          "base_uri": "https://localhost:8080/"
        },
        "id": "mBJ5eSAMMAU6",
        "outputId": "e4cdd542-a50d-47e9-89a8-b7e1d1c0369c"
      },
      "source": [
        "df['months of bf'].value_counts()"
      ],
      "execution_count": null,
      "outputs": [
        {
          "data": {
            "text/plain": [
              "<24    25824\n",
              ">24    12235\n",
              "Name: months of bf, dtype: int64"
            ]
          },
          "execution_count": null,
          "metadata": {},
          "output_type": "execute_result"
        }
      ]
    },
    {
      "cell_type": "markdown",
      "metadata": {
        "id": "qyCwl3F0MSZY"
      },
      "source": [
        "## History of illness"
      ]
    },
    {
      "cell_type": "code",
      "metadata": {
        "colab": {
          "background_save": true,
          "base_uri": "https://localhost:8080/"
        },
        "id": "gh_QCQHXNNuj",
        "outputId": "b83700ae-1af5-4374-cd73-009b9d95946f"
      },
      "source": [
        "df['history of illness'].unique()"
      ],
      "execution_count": null,
      "outputs": [
        {
          "data": {
            "text/plain": [
              "array([2, 3, 0, 1, 5, 4])"
            ]
          },
          "execution_count": null,
          "metadata": {},
          "output_type": "execute_result"
        }
      ]
    },
    {
      "cell_type": "code",
      "metadata": {
        "colab": {
          "background_save": true
        },
        "id": "p6f5FvcBMbPL"
      },
      "source": [
        "df['history of illness']=df['history of illness'].replace({2:1,3:1,4:1,5:1})"
      ],
      "execution_count": null,
      "outputs": []
    },
    {
      "cell_type": "code",
      "metadata": {
        "colab": {
          "base_uri": "https://localhost:8080/"
        },
        "id": "XN_XJZdJMm-M",
        "outputId": "31be7578-ec85-465c-d9e6-ff190b10bcee"
      },
      "source": [
        "df['history of illness'].value_counts()"
      ],
      "execution_count": null,
      "outputs": [
        {
          "output_type": "execute_result",
          "data": {
            "text/plain": [
              "0    25587\n",
              "1     9743\n",
              "Name: history of illness, dtype: int64"
            ]
          },
          "metadata": {},
          "execution_count": 15
        }
      ]
    },
    {
      "cell_type": "markdown",
      "metadata": {
        "id": "Dcqjhav0MsLQ"
      },
      "source": [
        "## Immunization"
      ]
    },
    {
      "cell_type": "code",
      "metadata": {
        "colab": {
          "background_save": true
        },
        "id": "d_RYrB_hMyL1"
      },
      "source": [
        "df['immunization']=df['immunization'].replace({4:\"Fully immunized\",1:\"Partially immunized\",3:\"Partially immunized\",2:\"Partially immunized\",0:'Not immunized'})"
      ],
      "execution_count": null,
      "outputs": []
    },
    {
      "cell_type": "code",
      "metadata": {
        "colab": {
          "background_save": true,
          "base_uri": "https://localhost:8080/"
        },
        "id": "bw5oSNhrNY0h",
        "outputId": "5de931c0-599b-4ba4-a72d-90668b0ec16a"
      },
      "source": [
        "df['immunization'].value_counts()"
      ],
      "execution_count": null,
      "outputs": [
        {
          "data": {
            "text/plain": [
              "Partially immunized    17570\n",
              "Fully immunized        16104\n",
              "Not immunized           4385\n",
              "Name: immunization, dtype: int64"
            ]
          },
          "execution_count": null,
          "metadata": {},
          "output_type": "execute_result"
        }
      ]
    },
    {
      "cell_type": "markdown",
      "metadata": {
        "id": "ie2w6plzNNIT"
      },
      "source": [
        "## Index to birth history"
      ]
    },
    {
      "cell_type": "code",
      "metadata": {
        "colab": {
          "base_uri": "https://localhost:8080/"
        },
        "id": "6UkpksCcOyIj",
        "outputId": "f8db98ed-1049-4a55-c5ff-1a1ad56f9f52"
      },
      "source": [
        "df['index to birth history'].value_counts()"
      ],
      "execution_count": null,
      "outputs": [
        {
          "output_type": "execute_result",
          "data": {
            "text/plain": [
              "1    25713\n",
              "2     8520\n",
              "3     1045\n",
              "4       52\n",
              "Name: index to birth history, dtype: int64"
            ]
          },
          "metadata": {},
          "execution_count": 16
        }
      ]
    },
    {
      "cell_type": "markdown",
      "metadata": {
        "id": "7R8AHGD7NaKc"
      },
      "source": [
        "## Sex of household head"
      ]
    },
    {
      "cell_type": "code",
      "metadata": {
        "colab": {
          "background_save": true,
          "base_uri": "https://localhost:8080/"
        },
        "id": "w-g3FkDcO10m",
        "outputId": "d53c375e-1502-4602-cf7f-e8fb967d1790"
      },
      "source": [
        "df['sex of household head'].value_counts()"
      ],
      "execution_count": null,
      "outputs": [
        {
          "data": {
            "text/plain": [
              "1    34137\n",
              "2     3922\n",
              "Name: sex of household head, dtype: int64"
            ]
          },
          "execution_count": null,
          "metadata": {},
          "output_type": "execute_result"
        }
      ]
    },
    {
      "cell_type": "code",
      "metadata": {
        "colab": {
          "background_save": true
        },
        "id": "RfbIBxrANjcz"
      },
      "source": [
        "df['sex of household head']=df['sex of household head'].replace({1:'Male', 2:'Female'})"
      ],
      "execution_count": null,
      "outputs": []
    },
    {
      "cell_type": "markdown",
      "metadata": {
        "id": "VsNppHKyNzKu"
      },
      "source": [
        "## Dietary Score"
      ]
    },
    {
      "cell_type": "code",
      "metadata": {
        "colab": {
          "background_save": true,
          "base_uri": "https://localhost:8080/"
        },
        "id": "lVQir61vO68t",
        "outputId": "23a00536-44d9-4d21-ccbe-885d05af2e88"
      },
      "source": [
        "df['dietary score'].unique()"
      ],
      "execution_count": null,
      "outputs": [
        {
          "data": {
            "text/plain": [
              "array([ 1,  0,  3,  2,  7,  6,  4,  8,  5,  9, 10])"
            ]
          },
          "execution_count": null,
          "metadata": {},
          "output_type": "execute_result"
        }
      ]
    },
    {
      "cell_type": "code",
      "metadata": {
        "colab": {
          "background_save": true
        },
        "id": "q-_bLNXNO8yO"
      },
      "source": [
        "df['dietary score']=df['dietary score'].replace({1:0,2:0,3:0,4:1,5:1,6:1,7:1,8:1,9:1,10:1,11:1,12:1,13:1,14:1})"
      ],
      "execution_count": null,
      "outputs": []
    },
    {
      "cell_type": "code",
      "metadata": {
        "colab": {
          "base_uri": "https://localhost:8080/"
        },
        "id": "Efhlmn_uN_UF",
        "outputId": "98a6906a-82bd-40ee-df9f-76efc8938d0a"
      },
      "source": [
        "df['dietary score'].value_counts()"
      ],
      "execution_count": null,
      "outputs": [
        {
          "output_type": "execute_result",
          "data": {
            "text/plain": [
              "0    33493\n",
              "1     1716\n",
              "Name: dietary score, dtype: int64"
            ]
          },
          "metadata": {},
          "execution_count": 22
        }
      ]
    },
    {
      "cell_type": "code",
      "metadata": {
        "colab": {
          "background_save": true,
          "base_uri": "https://localhost:8080/"
        },
        "id": "JWqqet5hcaLi",
        "outputId": "84992ee4-aadf-401e-c849-e4964de4868a"
      },
      "source": [
        "df.shape"
      ],
      "execution_count": null,
      "outputs": [
        {
          "data": {
            "text/plain": [
              "(38059, 31)"
            ]
          },
          "execution_count": null,
          "metadata": {},
          "output_type": "execute_result"
        }
      ]
    },
    {
      "cell_type": "code",
      "metadata": {
        "colab": {
          "background_save": true,
          "base_uri": "https://localhost:8080/",
          "height": 651
        },
        "id": "D8QTrnjDPlXy",
        "outputId": "5530e9b5-a5da-4df4-e21b-702aaf91ed51"
      },
      "source": [
        "df"
      ],
      "execution_count": null,
      "outputs": [
        {
          "data": {
            "text/html": [
              "<div>\n",
              "<style scoped>\n",
              "    .dataframe tbody tr th:only-of-type {\n",
              "        vertical-align: middle;\n",
              "    }\n",
              "\n",
              "    .dataframe tbody tr th {\n",
              "        vertical-align: top;\n",
              "    }\n",
              "\n",
              "    .dataframe thead th {\n",
              "        text-align: right;\n",
              "    }\n",
              "</style>\n",
              "<table border=\"1\" class=\"dataframe\">\n",
              "  <thead>\n",
              "    <tr style=\"text-align: right;\">\n",
              "      <th></th>\n",
              "      <th>state</th>\n",
              "      <th>area</th>\n",
              "      <th>religion</th>\n",
              "      <th>caste</th>\n",
              "      <th>type of family</th>\n",
              "      <th>father's education</th>\n",
              "      <th>father's occupation</th>\n",
              "      <th>mother's education</th>\n",
              "      <th>mother's occupation</th>\n",
              "      <th>total family members</th>\n",
              "      <th>exposure to mass media</th>\n",
              "      <th>Source of drinking water</th>\n",
              "      <th>Toilet Facility</th>\n",
              "      <th>mother's age</th>\n",
              "      <th>mother's bmi</th>\n",
              "      <th>child's age</th>\n",
              "      <th>sex of child</th>\n",
              "      <th>birth weight</th>\n",
              "      <th>initiation of bf(early initiation)</th>\n",
              "      <th>wealth index</th>\n",
              "      <th>months of bf</th>\n",
              "      <th>history of illness</th>\n",
              "      <th>immunization</th>\n",
              "      <th>index to birth history</th>\n",
              "      <th>no of living children</th>\n",
              "      <th>sex of household head</th>\n",
              "      <th>dietary score</th>\n",
              "      <th>H/A</th>\n",
              "      <th>W/A</th>\n",
              "      <th>W/H</th>\n",
              "      <th>Bmi</th>\n",
              "    </tr>\n",
              "  </thead>\n",
              "  <tbody>\n",
              "    <tr>\n",
              "      <th>0</th>\n",
              "      <td>South_India</td>\n",
              "      <td>Rural</td>\n",
              "      <td>Hindu</td>\n",
              "      <td>OBC</td>\n",
              "      <td>2</td>\n",
              "      <td>Primary education</td>\n",
              "      <td>Rgri</td>\n",
              "      <td>Primary education</td>\n",
              "      <td>Rgri</td>\n",
              "      <td>6</td>\n",
              "      <td>Yes</td>\n",
              "      <td>Improved</td>\n",
              "      <td>Unimproved</td>\n",
              "      <td>&lt;20</td>\n",
              "      <td>underweight</td>\n",
              "      <td>24-36</td>\n",
              "      <td>Male</td>\n",
              "      <td>Not Measured</td>\n",
              "      <td>Late initiation</td>\n",
              "      <td>Poorer</td>\n",
              "      <td>&gt;24</td>\n",
              "      <td>1</td>\n",
              "      <td>Partially immunized</td>\n",
              "      <td>1</td>\n",
              "      <td>2</td>\n",
              "      <td>Male</td>\n",
              "      <td>0</td>\n",
              "      <td>-2.67</td>\n",
              "      <td>-2.92</td>\n",
              "      <td>-2.13</td>\n",
              "      <td>-1.75</td>\n",
              "    </tr>\n",
              "    <tr>\n",
              "      <th>1</th>\n",
              "      <td>South_India</td>\n",
              "      <td>Rural</td>\n",
              "      <td>Muslim</td>\n",
              "      <td>OBC</td>\n",
              "      <td>2</td>\n",
              "      <td>Secondary education</td>\n",
              "      <td>Rgri</td>\n",
              "      <td>No education</td>\n",
              "      <td>Rgri</td>\n",
              "      <td>7</td>\n",
              "      <td>Yes</td>\n",
              "      <td>Improved</td>\n",
              "      <td>Unimproved</td>\n",
              "      <td>&lt;20</td>\n",
              "      <td>healthy</td>\n",
              "      <td>48-59</td>\n",
              "      <td>Male</td>\n",
              "      <td>Not Measured</td>\n",
              "      <td>Late initiation</td>\n",
              "      <td>Middle</td>\n",
              "      <td>&gt;24</td>\n",
              "      <td>1</td>\n",
              "      <td>Partially immunized</td>\n",
              "      <td>1</td>\n",
              "      <td>2</td>\n",
              "      <td>Male</td>\n",
              "      <td>0</td>\n",
              "      <td>-2.94</td>\n",
              "      <td>-1.65</td>\n",
              "      <td>0.21</td>\n",
              "      <td>0.54</td>\n",
              "    </tr>\n",
              "    <tr>\n",
              "      <th>2</th>\n",
              "      <td>South_India</td>\n",
              "      <td>Rural</td>\n",
              "      <td>Hindu</td>\n",
              "      <td>Others</td>\n",
              "      <td>2</td>\n",
              "      <td>Secondary education</td>\n",
              "      <td>Rgri</td>\n",
              "      <td>Secondary education</td>\n",
              "      <td>unemployed</td>\n",
              "      <td>8</td>\n",
              "      <td>Yes</td>\n",
              "      <td>Improved</td>\n",
              "      <td>Improved</td>\n",
              "      <td>20-29</td>\n",
              "      <td>underweight</td>\n",
              "      <td>6-12</td>\n",
              "      <td>Female</td>\n",
              "      <td>Not Measured</td>\n",
              "      <td>Late initiation</td>\n",
              "      <td>Richer</td>\n",
              "      <td>&lt;24</td>\n",
              "      <td>1</td>\n",
              "      <td>Partially immunized</td>\n",
              "      <td>1</td>\n",
              "      <td>2</td>\n",
              "      <td>Male</td>\n",
              "      <td>0</td>\n",
              "      <td>-1.06</td>\n",
              "      <td>-0.89</td>\n",
              "      <td>-0.50</td>\n",
              "      <td>-0.39</td>\n",
              "    </tr>\n",
              "    <tr>\n",
              "      <th>3</th>\n",
              "      <td>South_India</td>\n",
              "      <td>Rural</td>\n",
              "      <td>Hindu</td>\n",
              "      <td>Others</td>\n",
              "      <td>2</td>\n",
              "      <td>Secondary education</td>\n",
              "      <td>Rgri</td>\n",
              "      <td>Secondary education</td>\n",
              "      <td>unemployed</td>\n",
              "      <td>8</td>\n",
              "      <td>Yes</td>\n",
              "      <td>Improved</td>\n",
              "      <td>Improved</td>\n",
              "      <td>20-29</td>\n",
              "      <td>underweight</td>\n",
              "      <td>18-24</td>\n",
              "      <td>Male</td>\n",
              "      <td>Not Measured</td>\n",
              "      <td>Late initiation</td>\n",
              "      <td>Richer</td>\n",
              "      <td>&lt;24</td>\n",
              "      <td>0</td>\n",
              "      <td>Fully immunized</td>\n",
              "      <td>2</td>\n",
              "      <td>2</td>\n",
              "      <td>Male</td>\n",
              "      <td>0</td>\n",
              "      <td>-2.17</td>\n",
              "      <td>-1.02</td>\n",
              "      <td>0.14</td>\n",
              "      <td>0.52</td>\n",
              "    </tr>\n",
              "    <tr>\n",
              "      <th>6</th>\n",
              "      <td>South_India</td>\n",
              "      <td>Rural</td>\n",
              "      <td>Christian</td>\n",
              "      <td>SC</td>\n",
              "      <td>2</td>\n",
              "      <td>No education</td>\n",
              "      <td>skilled labour</td>\n",
              "      <td>No education</td>\n",
              "      <td>unemployed</td>\n",
              "      <td>9</td>\n",
              "      <td>Yes</td>\n",
              "      <td>Unimproved</td>\n",
              "      <td>Unimproved</td>\n",
              "      <td>&lt;20</td>\n",
              "      <td>healthy</td>\n",
              "      <td>6-</td>\n",
              "      <td>Female</td>\n",
              "      <td>Not Measured</td>\n",
              "      <td>Late initiation</td>\n",
              "      <td>Middle</td>\n",
              "      <td>&lt;24</td>\n",
              "      <td>0</td>\n",
              "      <td>Partially immunized</td>\n",
              "      <td>1</td>\n",
              "      <td>1</td>\n",
              "      <td>Male</td>\n",
              "      <td>0</td>\n",
              "      <td>-0.81</td>\n",
              "      <td>-0.10</td>\n",
              "      <td>0.61</td>\n",
              "      <td>0.48</td>\n",
              "    </tr>\n",
              "    <tr>\n",
              "      <th>...</th>\n",
              "      <td>...</td>\n",
              "      <td>...</td>\n",
              "      <td>...</td>\n",
              "      <td>...</td>\n",
              "      <td>...</td>\n",
              "      <td>...</td>\n",
              "      <td>...</td>\n",
              "      <td>...</td>\n",
              "      <td>...</td>\n",
              "      <td>...</td>\n",
              "      <td>...</td>\n",
              "      <td>...</td>\n",
              "      <td>...</td>\n",
              "      <td>...</td>\n",
              "      <td>...</td>\n",
              "      <td>...</td>\n",
              "      <td>...</td>\n",
              "      <td>...</td>\n",
              "      <td>...</td>\n",
              "      <td>...</td>\n",
              "      <td>...</td>\n",
              "      <td>...</td>\n",
              "      <td>...</td>\n",
              "      <td>...</td>\n",
              "      <td>...</td>\n",
              "      <td>...</td>\n",
              "      <td>...</td>\n",
              "      <td>...</td>\n",
              "      <td>...</td>\n",
              "      <td>...</td>\n",
              "      <td>...</td>\n",
              "    </tr>\n",
              "    <tr>\n",
              "      <th>51550</th>\n",
              "      <td>East_India</td>\n",
              "      <td>Rural</td>\n",
              "      <td>Hindu</td>\n",
              "      <td>Others</td>\n",
              "      <td>2</td>\n",
              "      <td>No education</td>\n",
              "      <td>skilled labour</td>\n",
              "      <td>Secondary education</td>\n",
              "      <td>unemployed</td>\n",
              "      <td>5</td>\n",
              "      <td>Yes</td>\n",
              "      <td>Improved</td>\n",
              "      <td>Improved</td>\n",
              "      <td>&lt;20</td>\n",
              "      <td>underweight</td>\n",
              "      <td>48-59</td>\n",
              "      <td>Female</td>\n",
              "      <td>Not Measured</td>\n",
              "      <td>Late initiation</td>\n",
              "      <td>Poorest</td>\n",
              "      <td>&gt;24</td>\n",
              "      <td>1</td>\n",
              "      <td>Fully immunized</td>\n",
              "      <td>1</td>\n",
              "      <td>1</td>\n",
              "      <td>Male</td>\n",
              "      <td>0</td>\n",
              "      <td>-3.80</td>\n",
              "      <td>-3.58</td>\n",
              "      <td>-1.84</td>\n",
              "      <td>-1.45</td>\n",
              "    </tr>\n",
              "    <tr>\n",
              "      <th>51551</th>\n",
              "      <td>East_India</td>\n",
              "      <td>Rural</td>\n",
              "      <td>Hindu</td>\n",
              "      <td>Others</td>\n",
              "      <td>1</td>\n",
              "      <td>Primary education</td>\n",
              "      <td>skilled labour</td>\n",
              "      <td>Primary education</td>\n",
              "      <td>unemployed</td>\n",
              "      <td>4</td>\n",
              "      <td>Yes</td>\n",
              "      <td>Improved</td>\n",
              "      <td>Improved</td>\n",
              "      <td>20-29</td>\n",
              "      <td>underweight</td>\n",
              "      <td>48-59</td>\n",
              "      <td>Male</td>\n",
              "      <td>Not Measured</td>\n",
              "      <td>Late initiation</td>\n",
              "      <td>Poorest</td>\n",
              "      <td>&lt;24</td>\n",
              "      <td>0</td>\n",
              "      <td>Fully immunized</td>\n",
              "      <td>1</td>\n",
              "      <td>2</td>\n",
              "      <td>Male</td>\n",
              "      <td>0</td>\n",
              "      <td>-3.85</td>\n",
              "      <td>-3.49</td>\n",
              "      <td>-1.90</td>\n",
              "      <td>-1.27</td>\n",
              "    </tr>\n",
              "    <tr>\n",
              "      <th>51552</th>\n",
              "      <td>East_India</td>\n",
              "      <td>Rural</td>\n",
              "      <td>Hindu</td>\n",
              "      <td>Others</td>\n",
              "      <td>2</td>\n",
              "      <td>Secondary education</td>\n",
              "      <td>Rgri</td>\n",
              "      <td>Secondary education</td>\n",
              "      <td>unemployed</td>\n",
              "      <td>5</td>\n",
              "      <td>Yes</td>\n",
              "      <td>Improved</td>\n",
              "      <td>Unimproved</td>\n",
              "      <td>&lt;20</td>\n",
              "      <td>healthy</td>\n",
              "      <td>24-36</td>\n",
              "      <td>Female</td>\n",
              "      <td>2.5+</td>\n",
              "      <td>Early initiation</td>\n",
              "      <td>Poorer</td>\n",
              "      <td>&gt;24</td>\n",
              "      <td>0</td>\n",
              "      <td>Fully immunized</td>\n",
              "      <td>1</td>\n",
              "      <td>1</td>\n",
              "      <td>Male</td>\n",
              "      <td>0</td>\n",
              "      <td>-3.17</td>\n",
              "      <td>-2.43</td>\n",
              "      <td>-0.89</td>\n",
              "      <td>-0.45</td>\n",
              "    </tr>\n",
              "    <tr>\n",
              "      <th>51553</th>\n",
              "      <td>East_India</td>\n",
              "      <td>Rural</td>\n",
              "      <td>Hindu</td>\n",
              "      <td>Others</td>\n",
              "      <td>2</td>\n",
              "      <td>Secondary education</td>\n",
              "      <td>Rgri</td>\n",
              "      <td>Secondary education</td>\n",
              "      <td>unemployed</td>\n",
              "      <td>7</td>\n",
              "      <td>No</td>\n",
              "      <td>Improved</td>\n",
              "      <td>Improved</td>\n",
              "      <td>&lt;20</td>\n",
              "      <td>healthy</td>\n",
              "      <td>36-48</td>\n",
              "      <td>Male</td>\n",
              "      <td>2.5+</td>\n",
              "      <td>Early initiation</td>\n",
              "      <td>Middle</td>\n",
              "      <td>&gt;24</td>\n",
              "      <td>0</td>\n",
              "      <td>Fully immunized</td>\n",
              "      <td>1</td>\n",
              "      <td>3</td>\n",
              "      <td>Male</td>\n",
              "      <td>0</td>\n",
              "      <td>-1.56</td>\n",
              "      <td>-1.67</td>\n",
              "      <td>-1.22</td>\n",
              "      <td>-1.01</td>\n",
              "    </tr>\n",
              "    <tr>\n",
              "      <th>51554</th>\n",
              "      <td>East_India</td>\n",
              "      <td>Rural</td>\n",
              "      <td>Hindu</td>\n",
              "      <td>Others</td>\n",
              "      <td>2</td>\n",
              "      <td>Secondary education</td>\n",
              "      <td>sales</td>\n",
              "      <td>Secondary education</td>\n",
              "      <td>unemployed</td>\n",
              "      <td>8</td>\n",
              "      <td>Yes</td>\n",
              "      <td>Improved</td>\n",
              "      <td>Improved</td>\n",
              "      <td>20-29</td>\n",
              "      <td>healthy</td>\n",
              "      <td>36-48</td>\n",
              "      <td>Female</td>\n",
              "      <td>2.5-</td>\n",
              "      <td>Early initiation</td>\n",
              "      <td>Richer</td>\n",
              "      <td>&gt;24</td>\n",
              "      <td>0</td>\n",
              "      <td>Fully immunized</td>\n",
              "      <td>1</td>\n",
              "      <td>1</td>\n",
              "      <td>Male</td>\n",
              "      <td>0</td>\n",
              "      <td>0.52</td>\n",
              "      <td>0.35</td>\n",
              "      <td>0.09</td>\n",
              "      <td>0.02</td>\n",
              "    </tr>\n",
              "  </tbody>\n",
              "</table>\n",
              "<p>38059 rows × 31 columns</p>\n",
              "</div>"
            ],
            "text/plain": [
              "             state   area   religion   caste  ...   H/A   W/A   W/H   Bmi\n",
              "0      South_India  Rural      Hindu     OBC  ... -2.67 -2.92 -2.13 -1.75\n",
              "1      South_India  Rural     Muslim     OBC  ... -2.94 -1.65  0.21  0.54\n",
              "2      South_India  Rural      Hindu  Others  ... -1.06 -0.89 -0.50 -0.39\n",
              "3      South_India  Rural      Hindu  Others  ... -2.17 -1.02  0.14  0.52\n",
              "6      South_India  Rural  Christian      SC  ... -0.81 -0.10  0.61  0.48\n",
              "...            ...    ...        ...     ...  ...   ...   ...   ...   ...\n",
              "51550   East_India  Rural      Hindu  Others  ... -3.80 -3.58 -1.84 -1.45\n",
              "51551   East_India  Rural      Hindu  Others  ... -3.85 -3.49 -1.90 -1.27\n",
              "51552   East_India  Rural      Hindu  Others  ... -3.17 -2.43 -0.89 -0.45\n",
              "51553   East_India  Rural      Hindu  Others  ... -1.56 -1.67 -1.22 -1.01\n",
              "51554   East_India  Rural      Hindu  Others  ...  0.52  0.35  0.09  0.02\n",
              "\n",
              "[38059 rows x 31 columns]"
            ]
          },
          "execution_count": null,
          "metadata": {},
          "output_type": "execute_result"
        }
      ]
    },
    {
      "cell_type": "code",
      "metadata": {
        "colab": {
          "background_save": true
        },
        "id": "z2OJFqudQ5nu"
      },
      "source": [
        "df.to_csv('Dataset_5-6_reg.csv')"
      ],
      "execution_count": null,
      "outputs": []
    },
    {
      "cell_type": "markdown",
      "metadata": {
        "id": "8A3I0YLRFmJO"
      },
      "source": [
        "# Outlier Removal"
      ]
    },
    {
      "cell_type": "code",
      "metadata": {
        "id": "DB-1Qny0F61I"
      },
      "source": [
        "import pandas as pd"
      ],
      "execution_count": null,
      "outputs": []
    },
    {
      "cell_type": "code",
      "metadata": {
        "id": "9FWPMl0KFlMK"
      },
      "source": [
        "df = pd.read_csv('Dataset_5-6.csv')"
      ],
      "execution_count": null,
      "outputs": []
    },
    {
      "cell_type": "code",
      "metadata": {
        "id": "3yDKbvEyGT5s"
      },
      "source": [
        "df = df.drop('Unnamed: 0', axis = 1)"
      ],
      "execution_count": null,
      "outputs": []
    },
    {
      "cell_type": "code",
      "metadata": {
        "colab": {
          "base_uri": "https://localhost:8080/",
          "height": 311
        },
        "id": "BSWgUgOGtRZ8",
        "outputId": "7738ea69-c2b5-4c9d-88db-b687d71d498b"
      },
      "source": [
        "df.describe()"
      ],
      "execution_count": null,
      "outputs": [
        {
          "output_type": "execute_result",
          "data": {
            "text/html": [
              "<div>\n",
              "<style scoped>\n",
              "    .dataframe tbody tr th:only-of-type {\n",
              "        vertical-align: middle;\n",
              "    }\n",
              "\n",
              "    .dataframe tbody tr th {\n",
              "        vertical-align: top;\n",
              "    }\n",
              "\n",
              "    .dataframe thead th {\n",
              "        text-align: right;\n",
              "    }\n",
              "</style>\n",
              "<table border=\"1\" class=\"dataframe\">\n",
              "  <thead>\n",
              "    <tr style=\"text-align: right;\">\n",
              "      <th></th>\n",
              "      <th>type of family</th>\n",
              "      <th>total family members</th>\n",
              "      <th>history of illness</th>\n",
              "      <th>index to birth history</th>\n",
              "      <th>no of living children</th>\n",
              "      <th>dietary score</th>\n",
              "      <th>H/A</th>\n",
              "      <th>W/A</th>\n",
              "      <th>W/H</th>\n",
              "      <th>Bmi</th>\n",
              "    </tr>\n",
              "  </thead>\n",
              "  <tbody>\n",
              "    <tr>\n",
              "      <th>count</th>\n",
              "      <td>35209.000000</td>\n",
              "      <td>35209.000000</td>\n",
              "      <td>35209.000000</td>\n",
              "      <td>35209.000000</td>\n",
              "      <td>35209.00000</td>\n",
              "      <td>35209.000000</td>\n",
              "      <td>35209.000000</td>\n",
              "      <td>35209.000000</td>\n",
              "      <td>35209.000000</td>\n",
              "      <td>35209.000000</td>\n",
              "    </tr>\n",
              "    <tr>\n",
              "      <th>mean</th>\n",
              "      <td>1.514329</td>\n",
              "      <td>6.491295</td>\n",
              "      <td>0.276123</td>\n",
              "      <td>1.300293</td>\n",
              "      <td>2.72169</td>\n",
              "      <td>0.048738</td>\n",
              "      <td>0.444347</td>\n",
              "      <td>0.381437</td>\n",
              "      <td>0.185464</td>\n",
              "      <td>0.159703</td>\n",
              "    </tr>\n",
              "    <tr>\n",
              "      <th>std</th>\n",
              "      <td>0.499802</td>\n",
              "      <td>2.685588</td>\n",
              "      <td>0.447085</td>\n",
              "      <td>0.518790</td>\n",
              "      <td>1.55447</td>\n",
              "      <td>0.215322</td>\n",
              "      <td>0.496900</td>\n",
              "      <td>0.485746</td>\n",
              "      <td>0.388679</td>\n",
              "      <td>0.366336</td>\n",
              "    </tr>\n",
              "    <tr>\n",
              "      <th>min</th>\n",
              "      <td>1.000000</td>\n",
              "      <td>2.000000</td>\n",
              "      <td>0.000000</td>\n",
              "      <td>1.000000</td>\n",
              "      <td>1.00000</td>\n",
              "      <td>0.000000</td>\n",
              "      <td>0.000000</td>\n",
              "      <td>0.000000</td>\n",
              "      <td>0.000000</td>\n",
              "      <td>0.000000</td>\n",
              "    </tr>\n",
              "    <tr>\n",
              "      <th>25%</th>\n",
              "      <td>1.000000</td>\n",
              "      <td>5.000000</td>\n",
              "      <td>0.000000</td>\n",
              "      <td>1.000000</td>\n",
              "      <td>2.00000</td>\n",
              "      <td>0.000000</td>\n",
              "      <td>0.000000</td>\n",
              "      <td>0.000000</td>\n",
              "      <td>0.000000</td>\n",
              "      <td>0.000000</td>\n",
              "    </tr>\n",
              "    <tr>\n",
              "      <th>50%</th>\n",
              "      <td>2.000000</td>\n",
              "      <td>6.000000</td>\n",
              "      <td>0.000000</td>\n",
              "      <td>1.000000</td>\n",
              "      <td>2.00000</td>\n",
              "      <td>0.000000</td>\n",
              "      <td>0.000000</td>\n",
              "      <td>0.000000</td>\n",
              "      <td>0.000000</td>\n",
              "      <td>0.000000</td>\n",
              "    </tr>\n",
              "    <tr>\n",
              "      <th>75%</th>\n",
              "      <td>2.000000</td>\n",
              "      <td>8.000000</td>\n",
              "      <td>1.000000</td>\n",
              "      <td>2.000000</td>\n",
              "      <td>3.00000</td>\n",
              "      <td>0.000000</td>\n",
              "      <td>1.000000</td>\n",
              "      <td>1.000000</td>\n",
              "      <td>0.000000</td>\n",
              "      <td>0.000000</td>\n",
              "    </tr>\n",
              "    <tr>\n",
              "      <th>max</th>\n",
              "      <td>2.000000</td>\n",
              "      <td>17.000000</td>\n",
              "      <td>1.000000</td>\n",
              "      <td>3.000000</td>\n",
              "      <td>9.00000</td>\n",
              "      <td>1.000000</td>\n",
              "      <td>1.000000</td>\n",
              "      <td>1.000000</td>\n",
              "      <td>1.000000</td>\n",
              "      <td>1.000000</td>\n",
              "    </tr>\n",
              "  </tbody>\n",
              "</table>\n",
              "</div>"
            ],
            "text/plain": [
              "       type of family  total family members  ...           W/H           Bmi\n",
              "count    35209.000000          35209.000000  ...  35209.000000  35209.000000\n",
              "mean         1.514329              6.491295  ...      0.185464      0.159703\n",
              "std          0.499802              2.685588  ...      0.388679      0.366336\n",
              "min          1.000000              2.000000  ...      0.000000      0.000000\n",
              "25%          1.000000              5.000000  ...      0.000000      0.000000\n",
              "50%          2.000000              6.000000  ...      0.000000      0.000000\n",
              "75%          2.000000              8.000000  ...      0.000000      0.000000\n",
              "max          2.000000             17.000000  ...      1.000000      1.000000\n",
              "\n",
              "[8 rows x 10 columns]"
            ]
          },
          "metadata": {},
          "execution_count": 21
        }
      ]
    },
    {
      "cell_type": "code",
      "metadata": {
        "colab": {
          "base_uri": "https://localhost:8080/"
        },
        "id": "Lqn9MUPwGSAB",
        "outputId": "db7e4c97-5bae-45a5-eab0-1d2dc9d55ddd"
      },
      "source": [
        "print(df['type of family'].unique())\n",
        "print(f'shape of original df = {df.shape}')\n",
        "indexNames = df[df['type of family'] == 7].index\n",
        "df.drop(indexNames , inplace=True)\n",
        "print(df['type of family'].unique())\n",
        "print(f'shape of new df = {df.shape}')"
      ],
      "execution_count": null,
      "outputs": [
        {
          "output_type": "stream",
          "name": "stdout",
          "text": [
            "[2 1 7]\n",
            "shape of original df = (38059, 31)\n",
            "[2 1]\n",
            "shape of new df = (35708, 31)\n"
          ]
        }
      ]
    },
    {
      "cell_type": "code",
      "metadata": {
        "colab": {
          "base_uri": "https://localhost:8080/"
        },
        "id": "L9fBHCTfGx1H",
        "outputId": "6bedd55d-549a-4587-a6e6-c174239ce308"
      },
      "source": [
        "print(df['total family members'].unique())\n",
        "print(f'shape of original df = {df.shape}')\n",
        "# df[\"mother\\'s education\"]=df[\"mother\\'s education\"].replace({9:8})\n",
        "df[\"total family members\"]=df[\"total family members\"].replace({20:999, 21:999, 18:999, 19:999, 23:999, 22:999, 24:999, 28:999, 29:999, \n",
        "                                                               32:999, 25:999, 35:999, 34:999, 27:999, 26:999, 31:999})\n",
        "indexNames = df[df['total family members'] == 999].index\n",
        "df.drop(indexNames , inplace=True)\n",
        "print(df['total family members'].unique())\n",
        "print(f'shape of original df = {df.shape}')"
      ],
      "execution_count": null,
      "outputs": [
        {
          "output_type": "stream",
          "name": "stdout",
          "text": [
            "[ 6  7  8  9  4  5  3 10 12 11 14  2 15 13 18 28 20 21 17 16 24 19 23 22\n",
            " 29 25 32 34 27 26 31 35]\n",
            "shape of original df = (35708, 31)\n",
            "[ 6  7  8  9  4  5  3 10 12 11 14  2 15 13 17 16]\n",
            "shape of original df = (35330, 31)\n"
          ]
        }
      ]
    },
    {
      "cell_type": "code",
      "metadata": {
        "colab": {
          "base_uri": "https://localhost:8080/"
        },
        "id": "RdeJvYr-IcVi",
        "outputId": "8029816d-bb64-4a73-c271-087445b71b5c"
      },
      "source": [
        "print(df['index to birth history'].unique())\n",
        "print(f'shape of original df = {df.shape}')\n",
        "indexNames = df[df['index to birth history'] == 4].index\n",
        "df.drop(indexNames , inplace=True)\n",
        "print(df['index to birth history'].unique())\n",
        "print(f'shape of new df = {df.shape}')"
      ],
      "execution_count": null,
      "outputs": [
        {
          "output_type": "stream",
          "name": "stdout",
          "text": [
            "[1 2 3 4]\n",
            "shape of original df = (35330, 31)\n",
            "[1 2 3]\n",
            "shape of new df = (35278, 31)\n"
          ]
        }
      ]
    },
    {
      "cell_type": "code",
      "metadata": {
        "colab": {
          "base_uri": "https://localhost:8080/"
        },
        "id": "epgzPAPlJC39",
        "outputId": "8cf30ca1-2186-41fb-bc47-a296821a8a58"
      },
      "source": [
        "df['no of living children'].value_counts()"
      ],
      "execution_count": null,
      "outputs": [
        {
          "output_type": "execute_result",
          "data": {
            "text/plain": [
              "2     11983\n",
              "1      7375\n",
              "3      7266\n",
              "4      4147\n",
              "5      2186\n",
              "6      1207\n",
              "7       591\n",
              "8       294\n",
              "9       160\n",
              "10       38\n",
              "11       23\n",
              "12        6\n",
              "13        2\n",
              "Name: no of living children, dtype: int64"
            ]
          },
          "metadata": {},
          "execution_count": 19
        }
      ]
    },
    {
      "cell_type": "code",
      "metadata": {
        "colab": {
          "base_uri": "https://localhost:8080/"
        },
        "id": "mDcudT5YJN32",
        "outputId": "0b17e8df-fb04-4a39-bf71-a5298d52be39"
      },
      "source": [
        "print(df['no of living children'].unique())\n",
        "print(f'shape of original df = {df.shape}')\n",
        "# df[\"mother\\'s education\"]=df[\"mother\\'s education\"].replace({9:8})\n",
        "df[\"no of living children\"]=df[\"no of living children\"].replace({10:999, 11:999, 12:999, 13:999})\n",
        "indexNames = df[df['no of living children'] == 999].index\n",
        "df.drop(indexNames , inplace=True)\n",
        "print(df['no of living children'].unique())\n",
        "print(f'shape of original df = {df.shape}')"
      ],
      "execution_count": null,
      "outputs": [
        {
          "output_type": "stream",
          "name": "stdout",
          "text": [
            "[ 2  1  3  4  6  7  5  8  9 10 12 11 13]\n",
            "shape of original df = (35278, 31)\n",
            "[2 1 3 4 6 7 5 8 9]\n",
            "shape of original df = (35209, 31)\n"
          ]
        }
      ]
    },
    {
      "cell_type": "code",
      "metadata": {
        "id": "zGboQWP9LmlJ"
      },
      "source": [
        "from sklearn import preprocessing"
      ],
      "execution_count": null,
      "outputs": []
    },
    {
      "cell_type": "code",
      "metadata": {
        "id": "aobu537GLqM1"
      },
      "source": [
        "dfl = pd.DataFrame()"
      ],
      "execution_count": null,
      "outputs": []
    },
    {
      "cell_type": "code",
      "metadata": {
        "id": "2Bx-qoi3Jlae"
      },
      "source": [
        "label_encoder = preprocessing.LabelEncoder()\n",
        "dfl['state']= label_encoder.fit_transform(df['state'])\n",
        "dfl['area']= label_encoder.fit_transform(df['area'])\n",
        "dfl['religion']= label_encoder.fit_transform(df['religion'])\n",
        "dfl['caste']= label_encoder.fit_transform(df['caste'])\n",
        "dfl['father\\'s education']= label_encoder.fit_transform(df['father\\'s education'])\n",
        "dfl['father\\'s occupation']= label_encoder.fit_transform(df['father\\'s occupation'])\n",
        "dfl['mother\\'s education']= label_encoder.fit_transform(df['mother\\'s education'])\n",
        "dfl['mother\\'s occupation']= label_encoder.fit_transform(df['mother\\'s occupation'])\n",
        "dfl['exposure to mass media']= label_encoder.fit_transform(df['exposure to mass media'])\n",
        "dfl['Source of drinking water']= label_encoder.fit_transform(df['Source of drinking water'])\n",
        "dfl['Toilet Facility'] = label_encoder.fit_transform(df['Toilet Facility'])\n",
        "dfl['mother\\'s age']= label_encoder.fit_transform(df['mother\\'s age'])\n",
        "dfl['mother\\'s bmi']= label_encoder.fit_transform(df['mother\\'s bmi'])\n",
        "dfl['child\\'s age']= label_encoder.fit_transform(df['child\\'s age'])\n",
        "dfl['sex of child']= label_encoder.fit_transform(df['sex of child'])\n",
        "dfl['birth weight']= label_encoder.fit_transform(df['birth weight'])\n",
        "dfl['initiation of bf(early initiation)']= label_encoder.fit_transform(df['initiation of bf(early initiation)'])\n",
        "dfl['wealth index']= label_encoder.fit_transform(df['wealth index'])\n",
        "dfl['months of bf']= label_encoder.fit_transform(df['months of bf'])\n",
        "dfl['immunization']= label_encoder.fit_transform(df['immunization'])\n",
        "dfl['sex of household head']= label_encoder.fit_transform(df['sex of household head'])\n",
        "dfl['H/A'] = df['H/A']\n",
        "dfl['W/A'] = df['W/A']\n",
        "dfl['W/H'] = df['W/H']\n",
        "dfl['Bmi'] = df['Bmi']\n",
        "dfl['history of illness'] = df['history of illness']\n",
        "dfl['index to birth history'] = df['index to birth history']\n",
        "dfl['no of living children'] = df['no of living children']\n",
        "dfl['dietary score'] = df['dietary score']\n",
        "dfl['total family members'] = df['total family members']\n",
        "dfl['type of family'] = df['type of family']"
      ],
      "execution_count": null,
      "outputs": []
    },
    {
      "cell_type": "code",
      "metadata": {
        "colab": {
          "base_uri": "https://localhost:8080/",
          "height": 347
        },
        "id": "swY-DSpuLuuo",
        "outputId": "8d9daf1d-d59a-4389-9b23-ee3731ca9ba0"
      },
      "source": [
        "dfl.describe()"
      ],
      "execution_count": null,
      "outputs": [
        {
          "output_type": "execute_result",
          "data": {
            "text/html": [
              "<div>\n",
              "<style scoped>\n",
              "    .dataframe tbody tr th:only-of-type {\n",
              "        vertical-align: middle;\n",
              "    }\n",
              "\n",
              "    .dataframe tbody tr th {\n",
              "        vertical-align: top;\n",
              "    }\n",
              "\n",
              "    .dataframe thead th {\n",
              "        text-align: right;\n",
              "    }\n",
              "</style>\n",
              "<table border=\"1\" class=\"dataframe\">\n",
              "  <thead>\n",
              "    <tr style=\"text-align: right;\">\n",
              "      <th></th>\n",
              "      <th>state</th>\n",
              "      <th>area</th>\n",
              "      <th>religion</th>\n",
              "      <th>caste</th>\n",
              "      <th>father's education</th>\n",
              "      <th>father's occupation</th>\n",
              "      <th>mother's education</th>\n",
              "      <th>mother's occupation</th>\n",
              "      <th>exposure to mass media</th>\n",
              "      <th>Source of drinking water</th>\n",
              "      <th>Toilet Facility</th>\n",
              "      <th>mother's age</th>\n",
              "      <th>mother's bmi</th>\n",
              "      <th>child's age</th>\n",
              "      <th>sex of child</th>\n",
              "      <th>birth weight</th>\n",
              "      <th>initiation of bf(early initiation)</th>\n",
              "      <th>wealth index</th>\n",
              "      <th>months of bf</th>\n",
              "      <th>immunization</th>\n",
              "      <th>sex of household head</th>\n",
              "      <th>H/A</th>\n",
              "      <th>W/A</th>\n",
              "      <th>W/H</th>\n",
              "      <th>Bmi</th>\n",
              "      <th>history of illness</th>\n",
              "      <th>index to birth history</th>\n",
              "      <th>no of living children</th>\n",
              "      <th>dietary score</th>\n",
              "      <th>total family members</th>\n",
              "      <th>type of family</th>\n",
              "    </tr>\n",
              "  </thead>\n",
              "  <tbody>\n",
              "    <tr>\n",
              "      <th>count</th>\n",
              "      <td>35209.000000</td>\n",
              "      <td>35209.000000</td>\n",
              "      <td>35209.000000</td>\n",
              "      <td>35209.000000</td>\n",
              "      <td>35209.000000</td>\n",
              "      <td>35209.000000</td>\n",
              "      <td>35209.000000</td>\n",
              "      <td>35209.000000</td>\n",
              "      <td>35209.000000</td>\n",
              "      <td>35209.000000</td>\n",
              "      <td>35209.000000</td>\n",
              "      <td>35209.000000</td>\n",
              "      <td>35209.000000</td>\n",
              "      <td>35209.000000</td>\n",
              "      <td>35209.000000</td>\n",
              "      <td>35209.000000</td>\n",
              "      <td>35209.000000</td>\n",
              "      <td>35209.000000</td>\n",
              "      <td>35209.000000</td>\n",
              "      <td>35209.000000</td>\n",
              "      <td>35209.000000</td>\n",
              "      <td>32605.000000</td>\n",
              "      <td>32605.000000</td>\n",
              "      <td>32605.000000</td>\n",
              "      <td>32605.000000</td>\n",
              "      <td>32605.000000</td>\n",
              "      <td>32605.000000</td>\n",
              "      <td>32605.000000</td>\n",
              "      <td>32605.000000</td>\n",
              "      <td>32605.000000</td>\n",
              "      <td>32605.000000</td>\n",
              "    </tr>\n",
              "    <tr>\n",
              "      <th>mean</th>\n",
              "      <td>2.074668</td>\n",
              "      <td>0.374251</td>\n",
              "      <td>1.148172</td>\n",
              "      <td>1.194325</td>\n",
              "      <td>2.011077</td>\n",
              "      <td>2.923940</td>\n",
              "      <td>1.822687</td>\n",
              "      <td>4.358403</td>\n",
              "      <td>0.753785</td>\n",
              "      <td>0.161379</td>\n",
              "      <td>0.519583</td>\n",
              "      <td>1.550626</td>\n",
              "      <td>0.605555</td>\n",
              "      <td>2.967849</td>\n",
              "      <td>0.520634</td>\n",
              "      <td>1.251754</td>\n",
              "      <td>0.557528</td>\n",
              "      <td>2.041637</td>\n",
              "      <td>0.326223</td>\n",
              "      <td>1.026726</td>\n",
              "      <td>0.900423</td>\n",
              "      <td>0.442294</td>\n",
              "      <td>0.380463</td>\n",
              "      <td>0.187364</td>\n",
              "      <td>0.161141</td>\n",
              "      <td>0.272228</td>\n",
              "      <td>1.301672</td>\n",
              "      <td>2.722803</td>\n",
              "      <td>0.047753</td>\n",
              "      <td>6.481491</td>\n",
              "      <td>1.514614</td>\n",
              "    </tr>\n",
              "    <tr>\n",
              "      <th>std</th>\n",
              "      <td>1.682092</td>\n",
              "      <td>0.483936</td>\n",
              "      <td>0.703926</td>\n",
              "      <td>1.083096</td>\n",
              "      <td>1.102759</td>\n",
              "      <td>2.114416</td>\n",
              "      <td>1.025355</td>\n",
              "      <td>2.502568</td>\n",
              "      <td>0.430812</td>\n",
              "      <td>0.367886</td>\n",
              "      <td>0.499623</td>\n",
              "      <td>1.484870</td>\n",
              "      <td>0.865631</td>\n",
              "      <td>1.732916</td>\n",
              "      <td>0.499581</td>\n",
              "      <td>0.924994</td>\n",
              "      <td>0.496687</td>\n",
              "      <td>1.434978</td>\n",
              "      <td>0.468837</td>\n",
              "      <td>0.940424</td>\n",
              "      <td>0.299439</td>\n",
              "      <td>0.496666</td>\n",
              "      <td>0.485508</td>\n",
              "      <td>0.390209</td>\n",
              "      <td>0.367667</td>\n",
              "      <td>0.445114</td>\n",
              "      <td>0.518897</td>\n",
              "      <td>1.550352</td>\n",
              "      <td>0.213247</td>\n",
              "      <td>2.667652</td>\n",
              "      <td>0.499794</td>\n",
              "    </tr>\n",
              "    <tr>\n",
              "      <th>min</th>\n",
              "      <td>0.000000</td>\n",
              "      <td>0.000000</td>\n",
              "      <td>0.000000</td>\n",
              "      <td>0.000000</td>\n",
              "      <td>0.000000</td>\n",
              "      <td>0.000000</td>\n",
              "      <td>0.000000</td>\n",
              "      <td>0.000000</td>\n",
              "      <td>0.000000</td>\n",
              "      <td>0.000000</td>\n",
              "      <td>0.000000</td>\n",
              "      <td>0.000000</td>\n",
              "      <td>0.000000</td>\n",
              "      <td>0.000000</td>\n",
              "      <td>0.000000</td>\n",
              "      <td>0.000000</td>\n",
              "      <td>0.000000</td>\n",
              "      <td>0.000000</td>\n",
              "      <td>0.000000</td>\n",
              "      <td>0.000000</td>\n",
              "      <td>0.000000</td>\n",
              "      <td>0.000000</td>\n",
              "      <td>0.000000</td>\n",
              "      <td>0.000000</td>\n",
              "      <td>0.000000</td>\n",
              "      <td>0.000000</td>\n",
              "      <td>1.000000</td>\n",
              "      <td>1.000000</td>\n",
              "      <td>0.000000</td>\n",
              "      <td>2.000000</td>\n",
              "      <td>1.000000</td>\n",
              "    </tr>\n",
              "    <tr>\n",
              "      <th>25%</th>\n",
              "      <td>0.000000</td>\n",
              "      <td>0.000000</td>\n",
              "      <td>1.000000</td>\n",
              "      <td>0.000000</td>\n",
              "      <td>1.000000</td>\n",
              "      <td>0.000000</td>\n",
              "      <td>1.000000</td>\n",
              "      <td>2.000000</td>\n",
              "      <td>1.000000</td>\n",
              "      <td>0.000000</td>\n",
              "      <td>0.000000</td>\n",
              "      <td>0.000000</td>\n",
              "      <td>0.000000</td>\n",
              "      <td>2.000000</td>\n",
              "      <td>0.000000</td>\n",
              "      <td>0.000000</td>\n",
              "      <td>0.000000</td>\n",
              "      <td>1.000000</td>\n",
              "      <td>0.000000</td>\n",
              "      <td>0.000000</td>\n",
              "      <td>1.000000</td>\n",
              "      <td>0.000000</td>\n",
              "      <td>0.000000</td>\n",
              "      <td>0.000000</td>\n",
              "      <td>0.000000</td>\n",
              "      <td>0.000000</td>\n",
              "      <td>1.000000</td>\n",
              "      <td>2.000000</td>\n",
              "      <td>0.000000</td>\n",
              "      <td>5.000000</td>\n",
              "      <td>1.000000</td>\n",
              "    </tr>\n",
              "    <tr>\n",
              "      <th>50%</th>\n",
              "      <td>2.000000</td>\n",
              "      <td>0.000000</td>\n",
              "      <td>1.000000</td>\n",
              "      <td>1.000000</td>\n",
              "      <td>2.000000</td>\n",
              "      <td>3.000000</td>\n",
              "      <td>2.000000</td>\n",
              "      <td>6.000000</td>\n",
              "      <td>1.000000</td>\n",
              "      <td>0.000000</td>\n",
              "      <td>1.000000</td>\n",
              "      <td>3.000000</td>\n",
              "      <td>0.000000</td>\n",
              "      <td>3.000000</td>\n",
              "      <td>1.000000</td>\n",
              "      <td>2.000000</td>\n",
              "      <td>1.000000</td>\n",
              "      <td>2.000000</td>\n",
              "      <td>0.000000</td>\n",
              "      <td>1.000000</td>\n",
              "      <td>1.000000</td>\n",
              "      <td>0.000000</td>\n",
              "      <td>0.000000</td>\n",
              "      <td>0.000000</td>\n",
              "      <td>0.000000</td>\n",
              "      <td>0.000000</td>\n",
              "      <td>1.000000</td>\n",
              "      <td>2.000000</td>\n",
              "      <td>0.000000</td>\n",
              "      <td>6.000000</td>\n",
              "      <td>2.000000</td>\n",
              "    </tr>\n",
              "    <tr>\n",
              "      <th>75%</th>\n",
              "      <td>3.000000</td>\n",
              "      <td>1.000000</td>\n",
              "      <td>1.000000</td>\n",
              "      <td>2.000000</td>\n",
              "      <td>3.000000</td>\n",
              "      <td>5.000000</td>\n",
              "      <td>3.000000</td>\n",
              "      <td>6.000000</td>\n",
              "      <td>1.000000</td>\n",
              "      <td>0.000000</td>\n",
              "      <td>1.000000</td>\n",
              "      <td>3.000000</td>\n",
              "      <td>2.000000</td>\n",
              "      <td>4.000000</td>\n",
              "      <td>1.000000</td>\n",
              "      <td>2.000000</td>\n",
              "      <td>1.000000</td>\n",
              "      <td>3.000000</td>\n",
              "      <td>1.000000</td>\n",
              "      <td>2.000000</td>\n",
              "      <td>1.000000</td>\n",
              "      <td>1.000000</td>\n",
              "      <td>1.000000</td>\n",
              "      <td>0.000000</td>\n",
              "      <td>0.000000</td>\n",
              "      <td>1.000000</td>\n",
              "      <td>2.000000</td>\n",
              "      <td>3.000000</td>\n",
              "      <td>0.000000</td>\n",
              "      <td>8.000000</td>\n",
              "      <td>2.000000</td>\n",
              "    </tr>\n",
              "    <tr>\n",
              "      <th>max</th>\n",
              "      <td>5.000000</td>\n",
              "      <td>1.000000</td>\n",
              "      <td>4.000000</td>\n",
              "      <td>3.000000</td>\n",
              "      <td>3.000000</td>\n",
              "      <td>6.000000</td>\n",
              "      <td>3.000000</td>\n",
              "      <td>6.000000</td>\n",
              "      <td>1.000000</td>\n",
              "      <td>1.000000</td>\n",
              "      <td>1.000000</td>\n",
              "      <td>3.000000</td>\n",
              "      <td>2.000000</td>\n",
              "      <td>6.000000</td>\n",
              "      <td>1.000000</td>\n",
              "      <td>2.000000</td>\n",
              "      <td>1.000000</td>\n",
              "      <td>4.000000</td>\n",
              "      <td>1.000000</td>\n",
              "      <td>2.000000</td>\n",
              "      <td>1.000000</td>\n",
              "      <td>1.000000</td>\n",
              "      <td>1.000000</td>\n",
              "      <td>1.000000</td>\n",
              "      <td>1.000000</td>\n",
              "      <td>1.000000</td>\n",
              "      <td>3.000000</td>\n",
              "      <td>9.000000</td>\n",
              "      <td>1.000000</td>\n",
              "      <td>17.000000</td>\n",
              "      <td>2.000000</td>\n",
              "    </tr>\n",
              "  </tbody>\n",
              "</table>\n",
              "</div>"
            ],
            "text/plain": [
              "              state          area  ...  total family members  type of family\n",
              "count  35209.000000  35209.000000  ...          32605.000000    32605.000000\n",
              "mean       2.074668      0.374251  ...              6.481491        1.514614\n",
              "std        1.682092      0.483936  ...              2.667652        0.499794\n",
              "min        0.000000      0.000000  ...              2.000000        1.000000\n",
              "25%        0.000000      0.000000  ...              5.000000        1.000000\n",
              "50%        2.000000      0.000000  ...              6.000000        2.000000\n",
              "75%        3.000000      1.000000  ...              8.000000        2.000000\n",
              "max        5.000000      1.000000  ...             17.000000        2.000000\n",
              "\n",
              "[8 rows x 31 columns]"
            ]
          },
          "metadata": {},
          "execution_count": 28
        }
      ]
    },
    {
      "cell_type": "code",
      "metadata": {
        "id": "RPdOaHvbLxse"
      },
      "source": [
        "df.to_csv('Dataset_5-6_outlier.csv')"
      ],
      "execution_count": null,
      "outputs": []
    },
    {
      "cell_type": "markdown",
      "metadata": {
        "id": "1h8mM1f90gVZ"
      },
      "source": [
        "# 15-16 Dataset"
      ]
    },
    {
      "cell_type": "markdown",
      "metadata": {
        "id": "SRgQrsNW4VD_"
      },
      "source": [
        "# Y features"
      ]
    },
    {
      "cell_type": "code",
      "metadata": {
        "id": "t3Xmx3jMOsm3"
      },
      "source": [
        "df = pd.read_csv('15_16_preprocessed_latest.csv')"
      ],
      "execution_count": null,
      "outputs": []
    },
    {
      "cell_type": "code",
      "metadata": {
        "id": "Az7jx-dF11L8"
      },
      "source": [
        "df = df.drop(['Unnamed: 0'], axis = 1)"
      ],
      "execution_count": null,
      "outputs": []
    },
    {
      "cell_type": "code",
      "metadata": {
        "colab": {
          "base_uri": "https://localhost:8080/",
          "height": 651
        },
        "id": "Ac4ibLav4h3v",
        "outputId": "9416088b-1c82-438c-a618-51abc7438482"
      },
      "source": [
        "df"
      ],
      "execution_count": null,
      "outputs": [
        {
          "output_type": "execute_result",
          "data": {
            "text/html": [
              "<div>\n",
              "<style scoped>\n",
              "    .dataframe tbody tr th:only-of-type {\n",
              "        vertical-align: middle;\n",
              "    }\n",
              "\n",
              "    .dataframe tbody tr th {\n",
              "        vertical-align: top;\n",
              "    }\n",
              "\n",
              "    .dataframe thead th {\n",
              "        text-align: right;\n",
              "    }\n",
              "</style>\n",
              "<table border=\"1\" class=\"dataframe\">\n",
              "  <thead>\n",
              "    <tr style=\"text-align: right;\">\n",
              "      <th></th>\n",
              "      <th>State</th>\n",
              "      <th>Area</th>\n",
              "      <th>Religion</th>\n",
              "      <th>caste</th>\n",
              "      <th>mothers education</th>\n",
              "      <th>source of water</th>\n",
              "      <th>toilet facility</th>\n",
              "      <th>no of members</th>\n",
              "      <th>no of living children</th>\n",
              "      <th>mothers age(at first birth)</th>\n",
              "      <th>sex of household head</th>\n",
              "      <th>wealth index</th>\n",
              "      <th>initiaion of bf</th>\n",
              "      <th>sex of child</th>\n",
              "      <th>months of bf</th>\n",
              "      <th>mothers bmi</th>\n",
              "      <th>child's age</th>\n",
              "      <th>index to birth history</th>\n",
              "      <th>birth weight</th>\n",
              "      <th>history of illness</th>\n",
              "      <th>Exposure to mass media</th>\n",
              "      <th>dietary score</th>\n",
              "      <th>immunization</th>\n",
              "      <th>H/A</th>\n",
              "      <th>W/A</th>\n",
              "      <th>W/H</th>\n",
              "      <th>Bmi</th>\n",
              "    </tr>\n",
              "  </thead>\n",
              "  <tbody>\n",
              "    <tr>\n",
              "      <th>0</th>\n",
              "      <td>East_India</td>\n",
              "      <td>Urban</td>\n",
              "      <td>Hindu</td>\n",
              "      <td>Others</td>\n",
              "      <td>Secondary education</td>\n",
              "      <td>Improved</td>\n",
              "      <td>Improved</td>\n",
              "      <td>4</td>\n",
              "      <td>1</td>\n",
              "      <td>20-29</td>\n",
              "      <td>Male</td>\n",
              "      <td>Richer</td>\n",
              "      <td>Early Initiation</td>\n",
              "      <td>Female</td>\n",
              "      <td>&gt;24</td>\n",
              "      <td>healthy</td>\n",
              "      <td>48-60</td>\n",
              "      <td>1</td>\n",
              "      <td>2.5+</td>\n",
              "      <td>Yes</td>\n",
              "      <td>Yes</td>\n",
              "      <td>0</td>\n",
              "      <td>fully immunized</td>\n",
              "      <td>-78</td>\n",
              "      <td>-38</td>\n",
              "      <td>16</td>\n",
              "      <td>13</td>\n",
              "    </tr>\n",
              "    <tr>\n",
              "      <th>1</th>\n",
              "      <td>East_India</td>\n",
              "      <td>Urban</td>\n",
              "      <td>Hindu</td>\n",
              "      <td>OBC</td>\n",
              "      <td>Higher education</td>\n",
              "      <td>Improved</td>\n",
              "      <td>Improved</td>\n",
              "      <td>3</td>\n",
              "      <td>1</td>\n",
              "      <td>20-29</td>\n",
              "      <td>Male</td>\n",
              "      <td>Richer</td>\n",
              "      <td>Late Initiation</td>\n",
              "      <td>Female</td>\n",
              "      <td>&lt;24</td>\n",
              "      <td>overweight</td>\n",
              "      <td>24-36</td>\n",
              "      <td>1</td>\n",
              "      <td>2.5+</td>\n",
              "      <td>No</td>\n",
              "      <td>Yes</td>\n",
              "      <td>0</td>\n",
              "      <td>fully immunized</td>\n",
              "      <td>-172</td>\n",
              "      <td>-176</td>\n",
              "      <td>-110</td>\n",
              "      <td>-98</td>\n",
              "    </tr>\n",
              "    <tr>\n",
              "      <th>2</th>\n",
              "      <td>East_India</td>\n",
              "      <td>Rural</td>\n",
              "      <td>Christian</td>\n",
              "      <td>ST</td>\n",
              "      <td>Secondary education</td>\n",
              "      <td>Improved</td>\n",
              "      <td>Improved</td>\n",
              "      <td>6</td>\n",
              "      <td>2</td>\n",
              "      <td>20-29</td>\n",
              "      <td>Male</td>\n",
              "      <td>Middle</td>\n",
              "      <td>Early Initiation</td>\n",
              "      <td>Female</td>\n",
              "      <td>&lt;24</td>\n",
              "      <td>healthy</td>\n",
              "      <td>6-</td>\n",
              "      <td>1</td>\n",
              "      <td>2.5+</td>\n",
              "      <td>No</td>\n",
              "      <td>Yes</td>\n",
              "      <td>4</td>\n",
              "      <td>unimmunized</td>\n",
              "      <td>78</td>\n",
              "      <td>-78</td>\n",
              "      <td>-166</td>\n",
              "      <td>-165</td>\n",
              "    </tr>\n",
              "    <tr>\n",
              "      <th>3</th>\n",
              "      <td>East_India</td>\n",
              "      <td>Rural</td>\n",
              "      <td>Christian</td>\n",
              "      <td>ST</td>\n",
              "      <td>Secondary education</td>\n",
              "      <td>Improved</td>\n",
              "      <td>Improved</td>\n",
              "      <td>6</td>\n",
              "      <td>3</td>\n",
              "      <td>20-29</td>\n",
              "      <td>Male</td>\n",
              "      <td>Richest</td>\n",
              "      <td>Early Initiation</td>\n",
              "      <td>Male</td>\n",
              "      <td>&lt;24</td>\n",
              "      <td>healthy</td>\n",
              "      <td>6-12</td>\n",
              "      <td>1</td>\n",
              "      <td>2.5+</td>\n",
              "      <td>No</td>\n",
              "      <td>Yes</td>\n",
              "      <td>3</td>\n",
              "      <td>unimmunized</td>\n",
              "      <td>-78</td>\n",
              "      <td>-56</td>\n",
              "      <td>-7</td>\n",
              "      <td>-13</td>\n",
              "    </tr>\n",
              "    <tr>\n",
              "      <th>4</th>\n",
              "      <td>East_India</td>\n",
              "      <td>Rural</td>\n",
              "      <td>Christian</td>\n",
              "      <td>ST</td>\n",
              "      <td>Secondary education</td>\n",
              "      <td>Improved</td>\n",
              "      <td>Improved</td>\n",
              "      <td>5</td>\n",
              "      <td>2</td>\n",
              "      <td>20-29</td>\n",
              "      <td>Female</td>\n",
              "      <td>Middle</td>\n",
              "      <td>Early Initiation</td>\n",
              "      <td>Female</td>\n",
              "      <td>&lt;24</td>\n",
              "      <td>healthy</td>\n",
              "      <td>24-36</td>\n",
              "      <td>1</td>\n",
              "      <td>2.5+</td>\n",
              "      <td>No</td>\n",
              "      <td>Yes</td>\n",
              "      <td>0</td>\n",
              "      <td>unimmunized</td>\n",
              "      <td>-105</td>\n",
              "      <td>-1</td>\n",
              "      <td>72</td>\n",
              "      <td>88</td>\n",
              "    </tr>\n",
              "    <tr>\n",
              "      <th>...</th>\n",
              "      <td>...</td>\n",
              "      <td>...</td>\n",
              "      <td>...</td>\n",
              "      <td>...</td>\n",
              "      <td>...</td>\n",
              "      <td>...</td>\n",
              "      <td>...</td>\n",
              "      <td>...</td>\n",
              "      <td>...</td>\n",
              "      <td>...</td>\n",
              "      <td>...</td>\n",
              "      <td>...</td>\n",
              "      <td>...</td>\n",
              "      <td>...</td>\n",
              "      <td>...</td>\n",
              "      <td>...</td>\n",
              "      <td>...</td>\n",
              "      <td>...</td>\n",
              "      <td>...</td>\n",
              "      <td>...</td>\n",
              "      <td>...</td>\n",
              "      <td>...</td>\n",
              "      <td>...</td>\n",
              "      <td>...</td>\n",
              "      <td>...</td>\n",
              "      <td>...</td>\n",
              "      <td>...</td>\n",
              "    </tr>\n",
              "    <tr>\n",
              "      <th>172617</th>\n",
              "      <td>South_India</td>\n",
              "      <td>Urban</td>\n",
              "      <td>Hindu</td>\n",
              "      <td>OBC</td>\n",
              "      <td>Higher education</td>\n",
              "      <td>Improved</td>\n",
              "      <td>Improved</td>\n",
              "      <td>4</td>\n",
              "      <td>1</td>\n",
              "      <td>20-29</td>\n",
              "      <td>Male</td>\n",
              "      <td>Richest</td>\n",
              "      <td>Early Initiation</td>\n",
              "      <td>Female</td>\n",
              "      <td>&lt;24</td>\n",
              "      <td>overweight</td>\n",
              "      <td>24-36</td>\n",
              "      <td>1</td>\n",
              "      <td>2.5+</td>\n",
              "      <td>No</td>\n",
              "      <td>Yes</td>\n",
              "      <td>0</td>\n",
              "      <td>fully immunized</td>\n",
              "      <td>-132</td>\n",
              "      <td>-67</td>\n",
              "      <td>5</td>\n",
              "      <td>22</td>\n",
              "    </tr>\n",
              "    <tr>\n",
              "      <th>172618</th>\n",
              "      <td>South_India</td>\n",
              "      <td>Urban</td>\n",
              "      <td>Hindu</td>\n",
              "      <td>OBC</td>\n",
              "      <td>Secondary education</td>\n",
              "      <td>Improved</td>\n",
              "      <td>Improved</td>\n",
              "      <td>4</td>\n",
              "      <td>2</td>\n",
              "      <td>&lt;20</td>\n",
              "      <td>Male</td>\n",
              "      <td>Richest</td>\n",
              "      <td>Early Initiation</td>\n",
              "      <td>Female</td>\n",
              "      <td>&lt;24</td>\n",
              "      <td>overweight</td>\n",
              "      <td>48-60</td>\n",
              "      <td>1</td>\n",
              "      <td>2.5+</td>\n",
              "      <td>No</td>\n",
              "      <td>Yes</td>\n",
              "      <td>0</td>\n",
              "      <td>fully immunized</td>\n",
              "      <td>-28</td>\n",
              "      <td>47</td>\n",
              "      <td>97</td>\n",
              "      <td>92</td>\n",
              "    </tr>\n",
              "    <tr>\n",
              "      <th>172619</th>\n",
              "      <td>South_India</td>\n",
              "      <td>Rural</td>\n",
              "      <td>Hindu</td>\n",
              "      <td>OBC</td>\n",
              "      <td>Secondary education</td>\n",
              "      <td>Improved</td>\n",
              "      <td>Improved</td>\n",
              "      <td>3</td>\n",
              "      <td>1</td>\n",
              "      <td>&lt;20</td>\n",
              "      <td>Male</td>\n",
              "      <td>Middle</td>\n",
              "      <td>Late Initiation</td>\n",
              "      <td>Male</td>\n",
              "      <td>&lt;24</td>\n",
              "      <td>underweight</td>\n",
              "      <td>6-12</td>\n",
              "      <td>1</td>\n",
              "      <td>2.5+</td>\n",
              "      <td>Yes</td>\n",
              "      <td>Yes</td>\n",
              "      <td>1</td>\n",
              "      <td>partially immunized</td>\n",
              "      <td>41</td>\n",
              "      <td>109</td>\n",
              "      <td>121</td>\n",
              "      <td>113</td>\n",
              "    </tr>\n",
              "    <tr>\n",
              "      <th>172620</th>\n",
              "      <td>South_India</td>\n",
              "      <td>Rural</td>\n",
              "      <td>Hindu</td>\n",
              "      <td>OBC</td>\n",
              "      <td>Secondary education</td>\n",
              "      <td>Unimproved</td>\n",
              "      <td>Unimproved</td>\n",
              "      <td>8</td>\n",
              "      <td>1</td>\n",
              "      <td>&lt;20</td>\n",
              "      <td>Male</td>\n",
              "      <td>Richer</td>\n",
              "      <td>Late Initiation</td>\n",
              "      <td>Male</td>\n",
              "      <td>&lt;24</td>\n",
              "      <td>healthy</td>\n",
              "      <td>6-</td>\n",
              "      <td>1</td>\n",
              "      <td>2.5-</td>\n",
              "      <td>No</td>\n",
              "      <td>Yes</td>\n",
              "      <td>0</td>\n",
              "      <td>partially immunized</td>\n",
              "      <td>-148</td>\n",
              "      <td>-322</td>\n",
              "      <td>-304</td>\n",
              "      <td>-361</td>\n",
              "    </tr>\n",
              "    <tr>\n",
              "      <th>172621</th>\n",
              "      <td>South_India</td>\n",
              "      <td>Rural</td>\n",
              "      <td>Hindu</td>\n",
              "      <td>Others</td>\n",
              "      <td>Secondary education</td>\n",
              "      <td>Improved</td>\n",
              "      <td>Improved</td>\n",
              "      <td>4</td>\n",
              "      <td>2</td>\n",
              "      <td>20-29</td>\n",
              "      <td>Male</td>\n",
              "      <td>Richer</td>\n",
              "      <td>Early Initiation</td>\n",
              "      <td>Male</td>\n",
              "      <td>&lt;24</td>\n",
              "      <td>healthy</td>\n",
              "      <td>24-36</td>\n",
              "      <td>1</td>\n",
              "      <td>2.5+</td>\n",
              "      <td>No</td>\n",
              "      <td>Yes</td>\n",
              "      <td>0</td>\n",
              "      <td>fully immunized</td>\n",
              "      <td>-140</td>\n",
              "      <td>-75</td>\n",
              "      <td>-1</td>\n",
              "      <td>18</td>\n",
              "    </tr>\n",
              "  </tbody>\n",
              "</table>\n",
              "<p>172622 rows × 27 columns</p>\n",
              "</div>"
            ],
            "text/plain": [
              "              State   Area   Religion   caste  ...  H/A  W/A  W/H  Bmi\n",
              "0        East_India  Urban      Hindu  Others  ...  -78  -38   16   13\n",
              "1        East_India  Urban      Hindu     OBC  ... -172 -176 -110  -98\n",
              "2        East_India  Rural  Christian      ST  ...   78  -78 -166 -165\n",
              "3        East_India  Rural  Christian      ST  ...  -78  -56   -7  -13\n",
              "4        East_India  Rural  Christian      ST  ... -105   -1   72   88\n",
              "...             ...    ...        ...     ...  ...  ...  ...  ...  ...\n",
              "172617  South_India  Urban      Hindu     OBC  ... -132  -67    5   22\n",
              "172618  South_India  Urban      Hindu     OBC  ...  -28   47   97   92\n",
              "172619  South_India  Rural      Hindu     OBC  ...   41  109  121  113\n",
              "172620  South_India  Rural      Hindu     OBC  ... -148 -322 -304 -361\n",
              "172621  South_India  Rural      Hindu  Others  ... -140  -75   -1   18\n",
              "\n",
              "[172622 rows x 27 columns]"
            ]
          },
          "metadata": {},
          "execution_count": 21
        }
      ]
    },
    {
      "cell_type": "code",
      "metadata": {
        "id": "DmeANdjQ4VEV"
      },
      "source": [
        "# df = df.rename(columns={'h/a': \"H/A\"})\n",
        "df = df.rename(columns={'w/a': \"W/A\"})\n",
        "df = df.rename(columns={'h/a ': \"H/A\"})\n",
        "df = df.rename(columns={'w/h': \"W/H\"})\n",
        "df = df.rename(columns={'bmi': \"Bmi\"})"
      ],
      "execution_count": null,
      "outputs": []
    },
    {
      "cell_type": "code",
      "metadata": {
        "colab": {
          "base_uri": "https://localhost:8080/"
        },
        "id": "fNNasq-44VEZ",
        "outputId": "8bbf0005-3721-410e-ef85-3d76e38461d9"
      },
      "source": [
        "df[\"H/A\"]=df[\"H/A\"].replace({9998.0:9999.0, 9996.0:9999.0, 9997.0:9999.0})\n",
        "indexNames = df[df['H/A'] == 9999.0].index\n",
        "df.drop(indexNames , inplace=True)\n",
        "print(df.shape)\n",
        "print(df['H/A'].max())\n",
        "print(df['H/A'].min())"
      ],
      "execution_count": null,
      "outputs": [
        {
          "output_type": "stream",
          "name": "stdout",
          "text": [
            "(172622, 27)\n",
            "600\n",
            "-600\n"
          ]
        }
      ]
    },
    {
      "cell_type": "code",
      "metadata": {
        "colab": {
          "base_uri": "https://localhost:8080/"
        },
        "id": "zxT5WYkY4VEb",
        "outputId": "f4693dc3-425f-4dbd-8d0a-84e9a5bd6020"
      },
      "source": [
        "print(df['H/A'].unique())\n",
        "df['H/A'] = df['H/A']/100\n",
        "print(df['H/A'].unique())\n",
        "df['H/A']=pd.cut(df['H/A'], bins=[-6.5,-2, 6.5], labels=[1,0], include_lowest=True)\n",
        "print(df['H/A'].unique())"
      ],
      "execution_count": null,
      "outputs": [
        {
          "output_type": "stream",
          "name": "stdout",
          "text": [
            "[ -78 -172   78 ...  600  543  586]\n",
            "[-0.78 -1.72  0.78 ...  6.    5.43  5.86]\n",
            "[0, 1]\n",
            "Categories (2, int64): [1 < 0]\n"
          ]
        }
      ]
    },
    {
      "cell_type": "code",
      "metadata": {
        "colab": {
          "base_uri": "https://localhost:8080/"
        },
        "id": "lYns7ggf4VEc",
        "outputId": "5ed0e6eb-d4c2-41f4-82b3-9a96eb1d358c"
      },
      "source": [
        "print(df['W/A'].unique())\n",
        "df['W/A'] = df['W/A']/100\n",
        "print(df['W/A'].unique())\n",
        "df['W/A']=pd.cut(df['W/A'], bins=[-6.5,-2,6.5], labels=[1,0], include_lowest=True)\n",
        "print(df['W/A'].unique())"
      ],
      "execution_count": null,
      "outputs": [
        {
          "output_type": "stream",
          "name": "stdout",
          "text": [
            "[ -38 -176  -78  -56   -1 -101  -27  -66 -120  -61 -167 -274   21    6\n",
            "  239 -132  -53  -59  -95 -191 -183 -279   40   92  -58 -153   -9   46\n",
            "   41  -44  -46  -33  -48  -88  -77  -82 -217 -170 -290  -97   -7 -202\n",
            " -251 -358 -341 -103 -218 -186 -227 -110 -439 -131  -37  -71 -333 -177\n",
            " -126  -90  -54   13  -22  188 -158 -116 -142 -311 -236 -304   60 -257\n",
            "   85  244  -26  -79   -2   42 -204 -112 -134    5 -332 -135 -288  -81\n",
            " -169 -193  261 -109   10  193 -141 -118 -250 -152  -29 -173 -229  -20\n",
            "  -73   19  135 -219  100 -154 -185  -70   15  -51 -163  -96  -35 -450\n",
            " -280 -271 -239 -291    9  -60 -248  -10  -84 -115 -267 -214 -161 -127\n",
            " -124 -114  176   91 -228  104   31   27  -34 -159  -17 -255 -268 -207\n",
            "  202 -213   -8 -235 -147  -75  -62 -171    4  -92 -224 -107    7 -162\n",
            " -174 -137 -144 -151 -302 -187 -350 -111 -197  -39  -76 -139 -195  -74\n",
            "   54  -15 -128 -157  -80  -31 -287  -65   43  350 -188 -130  -98 -220\n",
            " -145 -446 -429 -300 -415 -215 -179 -113 -100 -244  -63 -296 -221 -106\n",
            "  -99 -231 -261  138 -242   30  -24  -89  -16  -40  -72 -148  -94 -146\n",
            "  106   28 -209 -359 -253 -140  -41  153 -295   65   48 -129 -108 -272\n",
            " -315 -282   -4  195   52 -334  -52   18 -119 -166 -138 -297 -143 -165\n",
            "  -42   14 -125  -32  174  -85    0 -184 -201 -198   20 -225 -301   61\n",
            "  -47  218  -50 -362 -200 -397  276 -150 -181 -459 -357 -387 -321  -14\n",
            " -102 -247 -347 -121  -30   -6  -67   45   89  114   24 -254  187 -194\n",
            "  -21 -284 -329 -180 -264   36   16  251  -18 -196  -25  -64 -133 -243\n",
            "  -28 -281 -420 -199  141  -93  -36 -258  -43 -277 -342 -368 -122 -216\n",
            " -192 -168  -87 -246 -190  -23 -189 -226 -252 -306  -49 -178  -55 -322\n",
            " -283 -208 -210 -222 -266 -269 -303 -136  -11 -276 -172 -156 -232  -69\n",
            " -230 -273   44 -314 -205 -312 -123  -68  -91   -3  123 -117 -323   39\n",
            "   17  -13   34 -203 -423 -447 -175 -249 -223   -5 -491 -160 -265 -237\n",
            " -317 -352   83 -105  -57  229 -344 -370 -278 -395   66 -206  163    1\n",
            "   72 -238 -241 -324 -394 -338 -182 -104 -335  -86 -309   22  -12   56\n",
            " -404 -149 -275 -417 -164 -434 -286 -307   70 -337   23 -256 -330 -327\n",
            " -294  112  118   71 -211  120 -240 -380  -45   67   35  315 -262  102\n",
            "   68 -155 -299   55 -379 -373   33  -83 -393 -371  101  108  134   11\n",
            " -289 -366   47  121   29  -19 -313 -318   77 -346  361   49 -486 -376\n",
            "  201 -234   98 -263 -298 -414 -325    3 -392    8 -411 -326   57 -270\n",
            " -336  140  143 -331  255 -233  119 -343 -504 -212 -354 -367   64 -292\n",
            " -410 -364  151  258 -419   26    2   99 -319 -245 -260 -418 -390 -345\n",
            "  136   50 -372 -285   12   87 -320  133 -259  221  262  173  107  162\n",
            " -427  197  116 -377 -407   75  128 -369 -453 -340 -381  237 -310 -384\n",
            "  139   25   97  117  127  182  132   86   53  109   78  129   69  126\n",
            "  152 -293  223 -356   37  175  122   74  408  149   38  103   82 -412\n",
            " -389 -422  142 -396   81   79  324 -308 -416  144  204  110 -405 -361\n",
            "  394 -490 -494   76  146  217   95 -383  113   93  170   88 -374   59\n",
            "   80  125  205  260  111 -468  189   58   94  242  131  157  147  156\n",
            " -351   84   63  292  155   51 -388   62  199  257 -433  289 -328   32\n",
            "  225 -435 -365  321  165  213 -409  172 -454   73  150 -316  211 -391\n",
            "  105  130  314  191  295  282  177  209  137  227  171 -400  272  194\n",
            " -483 -495  274  296 -349  160  245 -363 -506  219 -353   96  254 -339\n",
            "   90  159  124 -482  154 -382  115  240  145  228  266 -462  164 -402\n",
            "  311  303 -401  216  231 -360  192  185  232  306 -548  238  265  198\n",
            " -375 -408 -348 -430 -386 -473 -305 -378  220  179  278 -385 -458 -475\n",
            "  158  184  180 -438  214 -564  224  280  207 -399 -406 -476 -428  190\n",
            " -471 -355  290 -426 -589  340  234  183 -443 -436 -465 -560 -460 -432\n",
            "  181 -528  148  161 -425  168 -541  305  196  178  353  309 -485 -576\n",
            "  166  212 -413 -484 -456  210  365  275 -452  235 -398  277  167  222\n",
            "  253 -540 -461 -530 -492  380  243 -424 -479 -467  336 -442 -480 -488\n",
            " -457 -448  372 -441 -474  241 -481 -572 -505 -554 -403  297 -524  236\n",
            " -445  169  373 -477  230 -487  388 -517 -538 -421  206  367 -478 -497\n",
            " -466  208  256 -512 -472 -542 -534 -440  248 -444 -431 -463  298  215\n",
            "  250  186  226  299  273 -470 -508  384 -455 -510 -535  363 -525 -451\n",
            " -503 -526 -575  409 -501 -516  368 -591 -502 -514  357 -469 -518 -568\n",
            " -437 -507 -543 -499 -536  390 -561 -539 -537  247 -449 -567 -551 -496\n",
            "  200 -549 -509  203 -558 -531  263 -546  259 -498 -555 -520  279  355\n",
            "  233  379 -556  293 -464  271 -573  268 -565  393  246  264  319 -521\n",
            " -574  287  316  335  294  410  427  304  374 -527 -559  343 -529 -519\n",
            "  249  496  352  270  285  381  332  267  375  291  364  337  283  463\n",
            "  434  308  326  312  414  281  346  323 -493  342 -513 -500  351  462\n",
            "  356  325 -532 -522 -511 -581 -579  252  487  327 -588  453 -553 -569\n",
            "  313  318 -552 -586  329  317 -571 -533  369 -489 -523 -578 -594  301\n",
            "  320  307 -566 -577  382 -563  344  403  269  322  407  387  439  310\n",
            "  396  334  459  371 -515  354  300  454 -545  377  456  284  341  395\n",
            "  347  404  360  339  302  417  441  288  423  362  431  461  286  366\n",
            "  429  490  345  333 -590  402  420 -585  376  422 -547  411 -562  338]\n",
            "[-0.38 -1.76 -0.78 -0.56 -0.01 -1.01 -0.27 -0.66 -1.2  -0.61 -1.67 -2.74\n",
            "  0.21  0.06  2.39 -1.32 -0.53 -0.59 -0.95 -1.91 -1.83 -2.79  0.4   0.92\n",
            " -0.58 -1.53 -0.09  0.46  0.41 -0.44 -0.46 -0.33 -0.48 -0.88 -0.77 -0.82\n",
            " -2.17 -1.7  -2.9  -0.97 -0.07 -2.02 -2.51 -3.58 -3.41 -1.03 -2.18 -1.86\n",
            " -2.27 -1.1  -4.39 -1.31 -0.37 -0.71 -3.33 -1.77 -1.26 -0.9  -0.54  0.13\n",
            " -0.22  1.88 -1.58 -1.16 -1.42 -3.11 -2.36 -3.04  0.6  -2.57  0.85  2.44\n",
            " -0.26 -0.79 -0.02  0.42 -2.04 -1.12 -1.34  0.05 -3.32 -1.35 -2.88 -0.81\n",
            " -1.69 -1.93  2.61 -1.09  0.1   1.93 -1.41 -1.18 -2.5  -1.52 -0.29 -1.73\n",
            " -2.29 -0.2  -0.73  0.19  1.35 -2.19  1.   -1.54 -1.85 -0.7   0.15 -0.51\n",
            " -1.63 -0.96 -0.35 -4.5  -2.8  -2.71 -2.39 -2.91  0.09 -0.6  -2.48 -0.1\n",
            " -0.84 -1.15 -2.67 -2.14 -1.61 -1.27 -1.24 -1.14  1.76  0.91 -2.28  1.04\n",
            "  0.31  0.27 -0.34 -1.59 -0.17 -2.55 -2.68 -2.07  2.02 -2.13 -0.08 -2.35\n",
            " -1.47 -0.75 -0.62 -1.71  0.04 -0.92 -2.24 -1.07  0.07 -1.62 -1.74 -1.37\n",
            " -1.44 -1.51 -3.02 -1.87 -3.5  -1.11 -1.97 -0.39 -0.76 -1.39 -1.95 -0.74\n",
            "  0.54 -0.15 -1.28 -1.57 -0.8  -0.31 -2.87 -0.65  0.43  3.5  -1.88 -1.3\n",
            " -0.98 -2.2  -1.45 -4.46 -4.29 -3.   -4.15 -2.15 -1.79 -1.13 -1.   -2.44\n",
            " -0.63 -2.96 -2.21 -1.06 -0.99 -2.31 -2.61  1.38 -2.42  0.3  -0.24 -0.89\n",
            " -0.16 -0.4  -0.72 -1.48 -0.94 -1.46  1.06  0.28 -2.09 -3.59 -2.53 -1.4\n",
            " -0.41  1.53 -2.95  0.65  0.48 -1.29 -1.08 -2.72 -3.15 -2.82 -0.04  1.95\n",
            "  0.52 -3.34 -0.52  0.18 -1.19 -1.66 -1.38 -2.97 -1.43 -1.65 -0.42  0.14\n",
            " -1.25 -0.32  1.74 -0.85  0.   -1.84 -2.01 -1.98  0.2  -2.25 -3.01  0.61\n",
            " -0.47  2.18 -0.5  -3.62 -2.   -3.97  2.76 -1.5  -1.81 -4.59 -3.57 -3.87\n",
            " -3.21 -0.14 -1.02 -2.47 -3.47 -1.21 -0.3  -0.06 -0.67  0.45  0.89  1.14\n",
            "  0.24 -2.54  1.87 -1.94 -0.21 -2.84 -3.29 -1.8  -2.64  0.36  0.16  2.51\n",
            " -0.18 -1.96 -0.25 -0.64 -1.33 -2.43 -0.28 -2.81 -4.2  -1.99  1.41 -0.93\n",
            " -0.36 -2.58 -0.43 -2.77 -3.42 -3.68 -1.22 -2.16 -1.92 -1.68 -0.87 -2.46\n",
            " -1.9  -0.23 -1.89 -2.26 -2.52 -3.06 -0.49 -1.78 -0.55 -3.22 -2.83 -2.08\n",
            " -2.1  -2.22 -2.66 -2.69 -3.03 -1.36 -0.11 -2.76 -1.72 -1.56 -2.32 -0.69\n",
            " -2.3  -2.73  0.44 -3.14 -2.05 -3.12 -1.23 -0.68 -0.91 -0.03  1.23 -1.17\n",
            " -3.23  0.39  0.17 -0.13  0.34 -2.03 -4.23 -4.47 -1.75 -2.49 -2.23 -0.05\n",
            " -4.91 -1.6  -2.65 -2.37 -3.17 -3.52  0.83 -1.05 -0.57  2.29 -3.44 -3.7\n",
            " -2.78 -3.95  0.66 -2.06  1.63  0.01  0.72 -2.38 -2.41 -3.24 -3.94 -3.38\n",
            " -1.82 -1.04 -3.35 -0.86 -3.09  0.22 -0.12  0.56 -4.04 -1.49 -2.75 -4.17\n",
            " -1.64 -4.34 -2.86 -3.07  0.7  -3.37  0.23 -2.56 -3.3  -3.27 -2.94  1.12\n",
            "  1.18  0.71 -2.11  1.2  -2.4  -3.8  -0.45  0.67  0.35  3.15 -2.62  1.02\n",
            "  0.68 -1.55 -2.99  0.55 -3.79 -3.73  0.33 -0.83 -3.93 -3.71  1.01  1.08\n",
            "  1.34  0.11 -2.89 -3.66  0.47  1.21  0.29 -0.19 -3.13 -3.18  0.77 -3.46\n",
            "  3.61  0.49 -4.86 -3.76  2.01 -2.34  0.98 -2.63 -2.98 -4.14 -3.25  0.03\n",
            " -3.92  0.08 -4.11 -3.26  0.57 -2.7  -3.36  1.4   1.43 -3.31  2.55 -2.33\n",
            "  1.19 -3.43 -5.04 -2.12 -3.54 -3.67  0.64 -2.92 -4.1  -3.64  1.51  2.58\n",
            " -4.19  0.26  0.02  0.99 -3.19 -2.45 -2.6  -4.18 -3.9  -3.45  1.36  0.5\n",
            " -3.72 -2.85  0.12  0.87 -3.2   1.33 -2.59  2.21  2.62  1.73  1.07  1.62\n",
            " -4.27  1.97  1.16 -3.77 -4.07  0.75  1.28 -3.69 -4.53 -3.4  -3.81  2.37\n",
            " -3.1  -3.84  1.39  0.25  0.97  1.17  1.27  1.82  1.32  0.86  0.53  1.09\n",
            "  0.78  1.29  0.69  1.26  1.52 -2.93  2.23 -3.56  0.37  1.75  1.22  0.74\n",
            "  4.08  1.49  0.38  1.03  0.82 -4.12 -3.89 -4.22  1.42 -3.96  0.81  0.79\n",
            "  3.24 -3.08 -4.16  1.44  2.04  1.1  -4.05 -3.61  3.94 -4.9  -4.94  0.76\n",
            "  1.46  2.17  0.95 -3.83  1.13  0.93  1.7   0.88 -3.74  0.59  0.8   1.25\n",
            "  2.05  2.6   1.11 -4.68  1.89  0.58  0.94  2.42  1.31  1.57  1.47  1.56\n",
            " -3.51  0.84  0.63  2.92  1.55  0.51 -3.88  0.62  1.99  2.57 -4.33  2.89\n",
            " -3.28  0.32  2.25 -4.35 -3.65  3.21  1.65  2.13 -4.09  1.72 -4.54  0.73\n",
            "  1.5  -3.16  2.11 -3.91  1.05  1.3   3.14  1.91  2.95  2.82  1.77  2.09\n",
            "  1.37  2.27  1.71 -4.    2.72  1.94 -4.83 -4.95  2.74  2.96 -3.49  1.6\n",
            "  2.45 -3.63 -5.06  2.19 -3.53  0.96  2.54 -3.39  0.9   1.59  1.24 -4.82\n",
            "  1.54 -3.82  1.15  2.4   1.45  2.28  2.66 -4.62  1.64 -4.02  3.11  3.03\n",
            " -4.01  2.16  2.31 -3.6   1.92  1.85  2.32  3.06 -5.48  2.38  2.65  1.98\n",
            " -3.75 -4.08 -3.48 -4.3  -3.86 -4.73 -3.05 -3.78  2.2   1.79  2.78 -3.85\n",
            " -4.58 -4.75  1.58  1.84  1.8  -4.38  2.14 -5.64  2.24  2.8   2.07 -3.99\n",
            " -4.06 -4.76 -4.28  1.9  -4.71 -3.55  2.9  -4.26 -5.89  3.4   2.34  1.83\n",
            " -4.43 -4.36 -4.65 -5.6  -4.6  -4.32  1.81 -5.28  1.48  1.61 -4.25  1.68\n",
            " -5.41  3.05  1.96  1.78  3.53  3.09 -4.85 -5.76  1.66  2.12 -4.13 -4.84\n",
            " -4.56  2.1   3.65  2.75 -4.52  2.35 -3.98  2.77  1.67  2.22  2.53 -5.4\n",
            " -4.61 -5.3  -4.92  3.8   2.43 -4.24 -4.79 -4.67  3.36 -4.42 -4.8  -4.88\n",
            " -4.57 -4.48  3.72 -4.41 -4.74  2.41 -4.81 -5.72 -5.05 -5.54 -4.03  2.97\n",
            " -5.24  2.36 -4.45  1.69  3.73 -4.77  2.3  -4.87  3.88 -5.17 -5.38 -4.21\n",
            "  2.06  3.67 -4.78 -4.97 -4.66  2.08  2.56 -5.12 -4.72 -5.42 -5.34 -4.4\n",
            "  2.48 -4.44 -4.31 -4.63  2.98  2.15  2.5   1.86  2.26  2.99  2.73 -4.7\n",
            " -5.08  3.84 -4.55 -5.1  -5.35  3.63 -5.25 -4.51 -5.03 -5.26 -5.75  4.09\n",
            " -5.01 -5.16  3.68 -5.91 -5.02 -5.14  3.57 -4.69 -5.18 -5.68 -4.37 -5.07\n",
            " -5.43 -4.99 -5.36  3.9  -5.61 -5.39 -5.37  2.47 -4.49 -5.67 -5.51 -4.96\n",
            "  2.   -5.49 -5.09  2.03 -5.58 -5.31  2.63 -5.46  2.59 -4.98 -5.55 -5.2\n",
            "  2.79  3.55  2.33  3.79 -5.56  2.93 -4.64  2.71 -5.73  2.68 -5.65  3.93\n",
            "  2.46  2.64  3.19 -5.21 -5.74  2.87  3.16  3.35  2.94  4.1   4.27  3.04\n",
            "  3.74 -5.27 -5.59  3.43 -5.29 -5.19  2.49  4.96  3.52  2.7   2.85  3.81\n",
            "  3.32  2.67  3.75  2.91  3.64  3.37  2.83  4.63  4.34  3.08  3.26  3.12\n",
            "  4.14  2.81  3.46  3.23 -4.93  3.42 -5.13 -5.    3.51  4.62  3.56  3.25\n",
            " -5.32 -5.22 -5.11 -5.81 -5.79  2.52  4.87  3.27 -5.88  4.53 -5.53 -5.69\n",
            "  3.13  3.18 -5.52 -5.86  3.29  3.17 -5.71 -5.33  3.69 -4.89 -5.23 -5.78\n",
            " -5.94  3.01  3.2   3.07 -5.66 -5.77  3.82 -5.63  3.44  4.03  2.69  3.22\n",
            "  4.07  3.87  4.39  3.1   3.96  3.34  4.59  3.71 -5.15  3.54  3.    4.54\n",
            " -5.45  3.77  4.56  2.84  3.41  3.95  3.47  4.04  3.6   3.39  3.02  4.17\n",
            "  4.41  2.88  4.23  3.62  4.31  4.61  2.86  3.66  4.29  4.9   3.45  3.33\n",
            " -5.9   4.02  4.2  -5.85  3.76  4.22 -5.47  4.11 -5.62  3.38]\n",
            "[0, 1]\n",
            "Categories (2, int64): [1 < 0]\n"
          ]
        }
      ]
    },
    {
      "cell_type": "code",
      "metadata": {
        "colab": {
          "base_uri": "https://localhost:8080/"
        },
        "id": "FM2GjzSn4VEd",
        "outputId": "f5dcccd9-bb42-43b0-a223-445bbd4cd298"
      },
      "source": [
        "df['W/A'].min()"
      ],
      "execution_count": null,
      "outputs": [
        {
          "output_type": "execute_result",
          "data": {
            "text/plain": [
              "1"
            ]
          },
          "metadata": {},
          "execution_count": 26
        }
      ]
    },
    {
      "cell_type": "code",
      "metadata": {
        "colab": {
          "base_uri": "https://localhost:8080/"
        },
        "id": "PNXlUVXf4VEe",
        "outputId": "cf9b045d-4835-4e4d-a8e1-27395dc3ee13"
      },
      "source": [
        "print(df['W/H'].unique())\n",
        "df['W/H'] = df['W/H']/100\n",
        "print(df['W/H'].unique())\n",
        "df['W/H']=pd.cut(df['W/H'], bins=[-6.5,-2,6.5], labels=[1,0], include_lowest=True)\n",
        "print(df['W/H'].unique())"
      ],
      "execution_count": null,
      "outputs": [
        {
          "output_type": "stream",
          "name": "stdout",
          "text": [
            "[  16 -110 -166   -7   72  -33   29  -17  146    2 -215  118  -58  225\n",
            "   93 -103   -2   17 -112 -173  -76 -161   49  -61  -31  -38  -23   50\n",
            "  -55  -66  -54   -3  -52  105  -25 -107 -101 -139 -338  -99   34 -115\n",
            "  -43   40 -311 -195   47   10 -179 -326   44 -396   31 -129  204 -356\n",
            " -116  -94  -88 -143   42  325 -137   36 -209 -329 -323 -187 -242  210\n",
            "  444  -93 -211 -154  168 -109 -104 -392 -446 -221 -384  -41 -170  -98\n",
            " -105  451  -32  -47  140   60  -96    5 -182 -214  -53 -184 -133   78\n",
            "   57   87 -163  123  -89 -208  -83 -119  171 -193 -108    1   70 -472\n",
            " -227 -205  -72 -231 -315 -141   38  -56   69  -30  104  148 -164  -42\n",
            "  253   53 -165   67   83  -24 -118 -176  -90 -234   -6  -75   -4  -19\n",
            "   90 -134  -64  -10 -127 -125  182 -210 -376 -314  -86  -92  -26 -132\n",
            "  -77 -146  134 -480  -69 -162 -152   24  -28 -150 -148   19   -9 -168\n",
            " -232 -106 -218  311 -400   84   45 -111 -236 -204 -302 -128  282 -344\n",
            " -100   37  159   22  165 -486 -434 -199 -426  -87  150   -5  -79 -246\n",
            " -316 -284   21   27 -122 -288  -60  184  -80  -44   18 -264   97  189\n",
            "   79 -157  199   -8 -126 -185  -40 -130 -341  151   26  -27   55   30\n",
            "  262 -222  300 -220 -120 -251 -422   58 -123    3  180    4 -203 -183\n",
            "  -63 -249  -78  -73 -213   54 -117  -57  -45   35 -348   13  -15  -22\n",
            "  111  426  246   91 -239 -175    6 -159  -48 -265 -404  101   59  131\n",
            " -114 -153  -14  122   56 -200 -352  248 -121 -188 -280 -470 -431 -413\n",
            " -458 -295 -306  130 -267 -266 -145  -11   81   63 -102   52   33   75\n",
            "  -59   48 -136 -171 -276  -74 -131   20 -144  129   -1  -97    7  -21\n",
            "   39  -50   68 -271  183 -336 -191 -351  -16 -207 -255 -167 -233 -151\n",
            "  -68 -156 -206 -309  108 -228   62   32   88 -340 -138 -172 -278 -269\n",
            " -155 -342  -95 -174  -13 -124  -62 -217  -84 -240 -177 -186 -244 -291\n",
            " -378  -67 -256  174 -305 -201  -51    8 -190 -398 -160 -303   43  -91\n",
            " -142 -430   11 -277   61 -149   92  -46  -85  115 -274  -36 -197 -425\n",
            " -216   46 -180 -198 -135 -237 -270   15  -70  -81   65 -402 -358 -257\n",
            " -225 -290  -18  353 -300 -252  119 -320 -395 -230  -82 -113  106  -65\n",
            "  156   74   25 -324    0  -39   12 -362 -321   64   80 -243 -330 -268\n",
            "  -29  -37   82   77 -347 -377  -12 -343 -368 -304 -273   95 -254 -298\n",
            " -292   99 -285 -202  194 -259 -411  149  -34   71  128  109 -189  -20\n",
            "   66 -333  242  100 -319 -261 -178  218 -354 -367  -71 -369 -226 -245\n",
            " -181  112 -317 -296  195 -383  299   23 -312  227 -169 -235 -334 -192\n",
            "  335   41  432 -223  192 -238 -293 -196 -147  245 -275 -360   51 -253\n",
            " -445  117 -140   14 -286 -299 -388 -498 -447    9 -158 -224 -272 -282\n",
            "  136  110  113 -212  -35 -490  296   76  124 -248  193 -414 -403 -325\n",
            "   28  121 -263  228 -332 -412 -394 -294 -405 -229 -374 -410 -307 -247\n",
            "  202 -241 -262 -339 -444 -258  216  102  475  223 -328  179  257  265\n",
            " -308 -349 -289   85  427 -313  178  190 -297 -335 -194  -49 -260  276\n",
            "  103  380  196 -391 -357  275  172 -322  329 -331  270  238   86  176\n",
            "  332   94  135  188 -361  139  342  206 -359  268  320  345 -389  170\n",
            "  352 -372  346  141  402  354 -476 -373 -417  306  251 -337  138 -363\n",
            "  291  244  107 -409  144  469  158  155 -219  367 -453  247  126  197\n",
            "  229  145  120  127  266  157  447   89  324  143  152  200   96  181\n",
            "   73 -281  254  222 -327   98 -250 -473  186 -401 -310  201 -355  125\n",
            " -415 -475 -482 -439  362 -469 -366  277 -424  243  271  153  433 -420\n",
            "  269  212  169 -454 -371  399  185  365  116 -364  167 -455 -380 -432\n",
            " -418  233  235  161  142 -406 -467  177  132 -499  389  259  154  137\n",
            " -464 -474  264 -350  297  250 -421 -370  173 -437  241  219 -399  333\n",
            "  382  198 -283  240  207 -442  330  215 -397  224  386  114  403 -386\n",
            "  252  261  321 -435  305  295  287 -427 -419  331 -365  349  208  239\n",
            "  187  360  164  213  273  419  361  348  147 -390  163  406  289 -279\n",
            " -393  175  209 -456 -436 -318  307  314  232 -457  284 -466  263  328\n",
            "  133  226  373 -423  415  393  425  285  496  344  292  316  166  351\n",
            "  315 -387  203  392 -450  396  390 -433 -345  160 -287  162  249  470\n",
            " -408  236 -459 -451  294  217  274  340 -478 -381 -440 -449  309  445\n",
            "  341 -429  214  401  290 -438  412 -452 -385  267  455 -301 -416  436\n",
            "  258  191  221  334 -353 -479  343  211  230  378  322 -441 -493  280\n",
            "  312 -407 -465  465 -382  462 -481 -496 -375 -468 -471  327  308 -448\n",
            " -462  488  492 -461 -443  260 -346  231 -460  298  234  255  383  283\n",
            "  457  370 -487  301 -497  336  478 -428  443  377  384  302 -489  286\n",
            " -485 -379  358  463 -488 -463  439  256  374  429  237  313 -492  473\n",
            "  459  317  205  428  500 -484  368  279  434  379  355  398 -495  435\n",
            "  385 -494  220  293  338  319  467  350  414  347  474  371  364  272\n",
            "  372 -477  446  400  356  359  326  460  366  417 -491  337  278  388\n",
            "  281  466  442  420  394  430  288  491 -483  416  411  497  449  375\n",
            "  363  310  424  391  452  440  450  381  303  498  318  339  493  304\n",
            "  408  438  407  489  323  369  357  387  410  418  409  448  395  464\n",
            "  499  490  456  421  453  477  441  376  461  482  471  422  485 -500\n",
            "  472  458  495  454  480  494  486  413  437  431  397  468  423  405\n",
            "  479  484  481  404]\n",
            "[ 0.16 -1.1  -1.66 -0.07  0.72 -0.33  0.29 -0.17  1.46  0.02 -2.15  1.18\n",
            " -0.58  2.25  0.93 -1.03 -0.02  0.17 -1.12 -1.73 -0.76 -1.61  0.49 -0.61\n",
            " -0.31 -0.38 -0.23  0.5  -0.55 -0.66 -0.54 -0.03 -0.52  1.05 -0.25 -1.07\n",
            " -1.01 -1.39 -3.38 -0.99  0.34 -1.15 -0.43  0.4  -3.11 -1.95  0.47  0.1\n",
            " -1.79 -3.26  0.44 -3.96  0.31 -1.29  2.04 -3.56 -1.16 -0.94 -0.88 -1.43\n",
            "  0.42  3.25 -1.37  0.36 -2.09 -3.29 -3.23 -1.87 -2.42  2.1   4.44 -0.93\n",
            " -2.11 -1.54  1.68 -1.09 -1.04 -3.92 -4.46 -2.21 -3.84 -0.41 -1.7  -0.98\n",
            " -1.05  4.51 -0.32 -0.47  1.4   0.6  -0.96  0.05 -1.82 -2.14 -0.53 -1.84\n",
            " -1.33  0.78  0.57  0.87 -1.63  1.23 -0.89 -2.08 -0.83 -1.19  1.71 -1.93\n",
            " -1.08  0.01  0.7  -4.72 -2.27 -2.05 -0.72 -2.31 -3.15 -1.41  0.38 -0.56\n",
            "  0.69 -0.3   1.04  1.48 -1.64 -0.42  2.53  0.53 -1.65  0.67  0.83 -0.24\n",
            " -1.18 -1.76 -0.9  -2.34 -0.06 -0.75 -0.04 -0.19  0.9  -1.34 -0.64 -0.1\n",
            " -1.27 -1.25  1.82 -2.1  -3.76 -3.14 -0.86 -0.92 -0.26 -1.32 -0.77 -1.46\n",
            "  1.34 -4.8  -0.69 -1.62 -1.52  0.24 -0.28 -1.5  -1.48  0.19 -0.09 -1.68\n",
            " -2.32 -1.06 -2.18  3.11 -4.    0.84  0.45 -1.11 -2.36 -2.04 -3.02 -1.28\n",
            "  2.82 -3.44 -1.    0.37  1.59  0.22  1.65 -4.86 -4.34 -1.99 -4.26 -0.87\n",
            "  1.5  -0.05 -0.79 -2.46 -3.16 -2.84  0.21  0.27 -1.22 -2.88 -0.6   1.84\n",
            " -0.8  -0.44  0.18 -2.64  0.97  1.89  0.79 -1.57  1.99 -0.08 -1.26 -1.85\n",
            " -0.4  -1.3  -3.41  1.51  0.26 -0.27  0.55  0.3   2.62 -2.22  3.   -2.2\n",
            " -1.2  -2.51 -4.22  0.58 -1.23  0.03  1.8   0.04 -2.03 -1.83 -0.63 -2.49\n",
            " -0.78 -0.73 -2.13  0.54 -1.17 -0.57 -0.45  0.35 -3.48  0.13 -0.15 -0.22\n",
            "  1.11  4.26  2.46  0.91 -2.39 -1.75  0.06 -1.59 -0.48 -2.65 -4.04  1.01\n",
            "  0.59  1.31 -1.14 -1.53 -0.14  1.22  0.56 -2.   -3.52  2.48 -1.21 -1.88\n",
            " -2.8  -4.7  -4.31 -4.13 -4.58 -2.95 -3.06  1.3  -2.67 -2.66 -1.45 -0.11\n",
            "  0.81  0.63 -1.02  0.52  0.33  0.75 -0.59  0.48 -1.36 -1.71 -2.76 -0.74\n",
            " -1.31  0.2  -1.44  1.29 -0.01 -0.97  0.07 -0.21  0.39 -0.5   0.68 -2.71\n",
            "  1.83 -3.36 -1.91 -3.51 -0.16 -2.07 -2.55 -1.67 -2.33 -1.51 -0.68 -1.56\n",
            " -2.06 -3.09  1.08 -2.28  0.62  0.32  0.88 -3.4  -1.38 -1.72 -2.78 -2.69\n",
            " -1.55 -3.42 -0.95 -1.74 -0.13 -1.24 -0.62 -2.17 -0.84 -2.4  -1.77 -1.86\n",
            " -2.44 -2.91 -3.78 -0.67 -2.56  1.74 -3.05 -2.01 -0.51  0.08 -1.9  -3.98\n",
            " -1.6  -3.03  0.43 -0.91 -1.42 -4.3   0.11 -2.77  0.61 -1.49  0.92 -0.46\n",
            " -0.85  1.15 -2.74 -0.36 -1.97 -4.25 -2.16  0.46 -1.8  -1.98 -1.35 -2.37\n",
            " -2.7   0.15 -0.7  -0.81  0.65 -4.02 -3.58 -2.57 -2.25 -2.9  -0.18  3.53\n",
            " -3.   -2.52  1.19 -3.2  -3.95 -2.3  -0.82 -1.13  1.06 -0.65  1.56  0.74\n",
            "  0.25 -3.24  0.   -0.39  0.12 -3.62 -3.21  0.64  0.8  -2.43 -3.3  -2.68\n",
            " -0.29 -0.37  0.82  0.77 -3.47 -3.77 -0.12 -3.43 -3.68 -3.04 -2.73  0.95\n",
            " -2.54 -2.98 -2.92  0.99 -2.85 -2.02  1.94 -2.59 -4.11  1.49 -0.34  0.71\n",
            "  1.28  1.09 -1.89 -0.2   0.66 -3.33  2.42  1.   -3.19 -2.61 -1.78  2.18\n",
            " -3.54 -3.67 -0.71 -3.69 -2.26 -2.45 -1.81  1.12 -3.17 -2.96  1.95 -3.83\n",
            "  2.99  0.23 -3.12  2.27 -1.69 -2.35 -3.34 -1.92  3.35  0.41  4.32 -2.23\n",
            "  1.92 -2.38 -2.93 -1.96 -1.47  2.45 -2.75 -3.6   0.51 -2.53 -4.45  1.17\n",
            " -1.4   0.14 -2.86 -2.99 -3.88 -4.98 -4.47  0.09 -1.58 -2.24 -2.72 -2.82\n",
            "  1.36  1.1   1.13 -2.12 -0.35 -4.9   2.96  0.76  1.24 -2.48  1.93 -4.14\n",
            " -4.03 -3.25  0.28  1.21 -2.63  2.28 -3.32 -4.12 -3.94 -2.94 -4.05 -2.29\n",
            " -3.74 -4.1  -3.07 -2.47  2.02 -2.41 -2.62 -3.39 -4.44 -2.58  2.16  1.02\n",
            "  4.75  2.23 -3.28  1.79  2.57  2.65 -3.08 -3.49 -2.89  0.85  4.27 -3.13\n",
            "  1.78  1.9  -2.97 -3.35 -1.94 -0.49 -2.6   2.76  1.03  3.8   1.96 -3.91\n",
            " -3.57  2.75  1.72 -3.22  3.29 -3.31  2.7   2.38  0.86  1.76  3.32  0.94\n",
            "  1.35  1.88 -3.61  1.39  3.42  2.06 -3.59  2.68  3.2   3.45 -3.89  1.7\n",
            "  3.52 -3.72  3.46  1.41  4.02  3.54 -4.76 -3.73 -4.17  3.06  2.51 -3.37\n",
            "  1.38 -3.63  2.91  2.44  1.07 -4.09  1.44  4.69  1.58  1.55 -2.19  3.67\n",
            " -4.53  2.47  1.26  1.97  2.29  1.45  1.2   1.27  2.66  1.57  4.47  0.89\n",
            "  3.24  1.43  1.52  2.    0.96  1.81  0.73 -2.81  2.54  2.22 -3.27  0.98\n",
            " -2.5  -4.73  1.86 -4.01 -3.1   2.01 -3.55  1.25 -4.15 -4.75 -4.82 -4.39\n",
            "  3.62 -4.69 -3.66  2.77 -4.24  2.43  2.71  1.53  4.33 -4.2   2.69  2.12\n",
            "  1.69 -4.54 -3.71  3.99  1.85  3.65  1.16 -3.64  1.67 -4.55 -3.8  -4.32\n",
            " -4.18  2.33  2.35  1.61  1.42 -4.06 -4.67  1.77  1.32 -4.99  3.89  2.59\n",
            "  1.54  1.37 -4.64 -4.74  2.64 -3.5   2.97  2.5  -4.21 -3.7   1.73 -4.37\n",
            "  2.41  2.19 -3.99  3.33  3.82  1.98 -2.83  2.4   2.07 -4.42  3.3   2.15\n",
            " -3.97  2.24  3.86  1.14  4.03 -3.86  2.52  2.61  3.21 -4.35  3.05  2.95\n",
            "  2.87 -4.27 -4.19  3.31 -3.65  3.49  2.08  2.39  1.87  3.6   1.64  2.13\n",
            "  2.73  4.19  3.61  3.48  1.47 -3.9   1.63  4.06  2.89 -2.79 -3.93  1.75\n",
            "  2.09 -4.56 -4.36 -3.18  3.07  3.14  2.32 -4.57  2.84 -4.66  2.63  3.28\n",
            "  1.33  2.26  3.73 -4.23  4.15  3.93  4.25  2.85  4.96  3.44  2.92  3.16\n",
            "  1.66  3.51  3.15 -3.87  2.03  3.92 -4.5   3.96  3.9  -4.33 -3.45  1.6\n",
            " -2.87  1.62  2.49  4.7  -4.08  2.36 -4.59 -4.51  2.94  2.17  2.74  3.4\n",
            " -4.78 -3.81 -4.4  -4.49  3.09  4.45  3.41 -4.29  2.14  4.01  2.9  -4.38\n",
            "  4.12 -4.52 -3.85  2.67  4.55 -3.01 -4.16  4.36  2.58  1.91  2.21  3.34\n",
            " -3.53 -4.79  3.43  2.11  2.3   3.78  3.22 -4.41 -4.93  2.8   3.12 -4.07\n",
            " -4.65  4.65 -3.82  4.62 -4.81 -4.96 -3.75 -4.68 -4.71  3.27  3.08 -4.48\n",
            " -4.62  4.88  4.92 -4.61 -4.43  2.6  -3.46  2.31 -4.6   2.98  2.34  2.55\n",
            "  3.83  2.83  4.57  3.7  -4.87  3.01 -4.97  3.36  4.78 -4.28  4.43  3.77\n",
            "  3.84  3.02 -4.89  2.86 -4.85 -3.79  3.58  4.63 -4.88 -4.63  4.39  2.56\n",
            "  3.74  4.29  2.37  3.13 -4.92  4.73  4.59  3.17  2.05  4.28  5.   -4.84\n",
            "  3.68  2.79  4.34  3.79  3.55  3.98 -4.95  4.35  3.85 -4.94  2.2   2.93\n",
            "  3.38  3.19  4.67  3.5   4.14  3.47  4.74  3.71  3.64  2.72  3.72 -4.77\n",
            "  4.46  4.    3.56  3.59  3.26  4.6   3.66  4.17 -4.91  3.37  2.78  3.88\n",
            "  2.81  4.66  4.42  4.2   3.94  4.3   2.88  4.91 -4.83  4.16  4.11  4.97\n",
            "  4.49  3.75  3.63  3.1   4.24  3.91  4.52  4.4   4.5   3.81  3.03  4.98\n",
            "  3.18  3.39  4.93  3.04  4.08  4.38  4.07  4.89  3.23  3.69  3.57  3.87\n",
            "  4.1   4.18  4.09  4.48  3.95  4.64  4.99  4.9   4.56  4.21  4.53  4.77\n",
            "  4.41  3.76  4.61  4.82  4.71  4.22  4.85 -5.    4.72  4.58  4.95  4.54\n",
            "  4.8   4.94  4.86  4.13  4.37  4.31  3.97  4.68  4.23  4.05  4.79  4.84\n",
            "  4.81  4.04]\n",
            "[0, 1]\n",
            "Categories (2, int64): [1 < 0]\n"
          ]
        }
      ]
    },
    {
      "cell_type": "code",
      "metadata": {
        "colab": {
          "base_uri": "https://localhost:8080/"
        },
        "id": "Bk4kbxS74VEf",
        "outputId": "6b05103e-06f5-44ad-ad67-7f755632d162"
      },
      "source": [
        "df['W/H'].min()"
      ],
      "execution_count": null,
      "outputs": [
        {
          "output_type": "execute_result",
          "data": {
            "text/plain": [
              "1"
            ]
          },
          "metadata": {},
          "execution_count": 28
        }
      ]
    },
    {
      "cell_type": "code",
      "metadata": {
        "colab": {
          "base_uri": "https://localhost:8080/"
        },
        "id": "yOZ7sc674VEh",
        "outputId": "ff8a4796-2c00-4aba-a0b8-af020631c9fd"
      },
      "source": [
        "# print(df['Bmi'].unique())\n",
        "df['Bmi'] = df['Bmi']/100\n",
        "print(df['Bmi'].unique())\n",
        "df['Bmi']=pd.cut(df['Bmi'], bins=[-6.5,-2,6.5], labels=[1,0], include_lowest=True)\n",
        "print(df['Bmi'].unique())"
      ],
      "execution_count": null,
      "outputs": [
        {
          "output_type": "stream",
          "name": "stdout",
          "text": [
            "[ 0.13 -0.98 -1.65 -0.13  0.88 -0.22  0.37 -0.2   1.33  0.11 -2.11 -0.57\n",
            "  1.41 -0.77  2.23  0.31 -1.13  0.02  0.52 -1.15 -1.5  -1.38  2.25  0.42\n",
            " -0.64 -0.02 -0.38 -0.27  0.15  0.51 -0.55 -0.74 -0.5   0.68  0.06 -0.42\n",
            "  1.23 -0.03 -0.81 -1.59 -3.21 -1.    0.2   0.83 -0.99  0.47  0.17 -3.07\n",
            " -1.17  1.11  0.27 -1.68  0.75 -3.32  0.98 -3.67  0.72 -1.45  0.9  -3.52\n",
            " -0.9  -0.94 -0.84 -0.04 -1.48  0.38 -0.06  3.53 -1.27  0.74 -1.74 -3.33\n",
            " -2.98 -0.73 -2.32  2.13  4.7  -1.01 -2.61 -1.92  1.82 -0.78 -4.88 -2.27\n",
            " -3.69  0.05 -0.92 -0.86  4.35 -0.16 -0.4   0.23 -1.22 -0.05 -3.44 -1.69\n",
            " -0.33  0.49 -1.93  1.12  0.7   1.39 -1.42  1.18  1.48 -0.63 -2.17 -0.47\n",
            " -1.3   1.07 -2.28 -0.89 -0.26  1.04 -4.66 -2.14 -1.76 -2.2  -3.14 -1.6\n",
            "  0.59  0.07  0.84  1.9   2.08 -1.73 -0.18  2.66  0.43 -1.51  0.67  0.61\n",
            "  0.   -1.85 -1.1  -2.05 -0.12 -0.09 -0.08 -0.88 -1.23 -1.16 -0.53  1.29\n",
            " -1.06 -0.72  2.3   0.64 -2.04  1.   -4.05 -0.44 -0.32  0.32 -1.29 -1.02\n",
            " -0.82 -0.54 -2.31  2.33 -4.79 -0.67  0.09 -1.41 -1.2  -0.52 -0.35 -1.72\n",
            " -2.94 -2.35  4.28 -4.58  1.08  0.24 -0.6  -2.59 -2.   -3.22  3.14 -3.81\n",
            " -0.68 -4.99 -0.65  1.63  0.86  1.99 -4.18 -3.83  1.02 -0.66 -0.48 -2.33\n",
            " -0.39 -3.19 -2.84  0.44 -1.32 -2.38  0.33 -1.03 -2.95 -0.7   1.87 -0.69\n",
            " -0.31 -1.24 -1.09 -0.11 -1.36 -2.78  1.37  2.39 -0.43 -1.4   0.6   0.21\n",
            " -1.14 -1.53 -0.83 -2.97  0.08 -0.61 -3.77 -2.24  0.73  2.71 -0.24  1.25\n",
            " -2.07 -3.09 -4.57  0.18  1.78 -1.95  0.96 -1.54 -2.68 -0.14 -0.62 -0.46\n",
            "  0.35 -1.86 -1.34 -1.43 -0.37 -0.59 -0.21  0.4  -0.01  0.19 -0.51 -2.01\n",
            "  3.89 -0.91  1.17  1.1  -1.7   0.41 -1.99 -2.75 -2.99  0.63  0.85 -1.78\n",
            "  1.38  0.58 -1.8  -3.1   2.7  -0.97 -0.25 -1.04 -2.02 -2.85 -4.61 -4.12\n",
            " -4.01 -4.84 -3.7   0.8  -2.16 -2.3   0.5  -0.93  0.81  0.89 -1.64  3.35\n",
            "  0.28  1.24  0.03 -1.81  0.71 -1.33 -1.9  -3.03 -0.85 -0.56 -1.28 -0.23\n",
            " -0.1   0.69 -0.95 -0.28 -2.46 -2.21 -0.29 -0.07  1.86 -2.18 -3.63 -2.15\n",
            " -3.53 -1.97 -2.37 -0.45  2.27 -1.87 -2.55 -2.45 -1.62 -2.91  0.04  0.77\n",
            "  1.4  -2.23  0.65  0.62 -1.46 -2.42 -2.89 -2.73 -1.18 -0.76 -1.71 -1.07\n",
            " -0.71 -0.8  -0.3  -1.21 -1.31 -0.87 -2.77 -3.82 -1.63 -2.63 -2.54 -0.96\n",
            "  0.22 -3.12 -1.39 -1.89 -1.25 -2.64 -3.02 -1.55 -2.13 -1.98 -4.32 -1.35\n",
            " -3.08 -1.19 -1.08 -0.17 -1.26 -4.92 -0.15 -1.11 -2.65  1.09  1.26 -2.49\n",
            " -1.52  1.54  1.01 -4.09 -2.1  -0.79 -2.34 -1.56 -2.74 -1.12  0.82 -4.03\n",
            " -3.25 -0.34 -2.43 -1.49  0.36 -0.36  0.56 -1.66  3.8  -2.62 -2.19 -2.48\n",
            " -2.86 -1.57 -4.14 -2.79 -1.37  0.34 -1.05  1.61  0.78  0.16 -3.37 -0.75\n",
            " -1.94 -0.58 -4.27 -0.49 -2.88 -3.18 -2.52 -3.71 -2.92 -2.6  -2.58 -2.4\n",
            "  0.25 -3.11 -3.39  1.21 -2.44 -1.61 -3.16 -2.36 -1.96  1.45  1.03  1.62\n",
            " -3.93 -2.12 -3.47  2.85  0.53 -2.53  0.12 -4.37 -3.41  1.19  1.68 -1.91\n",
            " -2.83 -1.47 -2.03 -1.67 -3.31  2.01 -2.96 -1.83 -0.41  2.48 -1.82 -3.58\n",
            "  0.26 -3.4  -3.59  1.14 -2.51  1.15  0.48 -3.01  0.29 -1.75 -0.19 -1.79\n",
            "  3.05  0.14  0.1  -4.44 -3.54  3.72 -3.91  4.22 -2.26  0.92 -1.44  0.01\n",
            " -2.8   0.91 -1.88  2.5  -3.36  0.54 -4.64 -2.09 -2.7   0.46 -3.   -3.45\n",
            " -2.87  1.06  0.3   0.76  1.22  0.66 -2.29  0.55  1.51  0.97  1.43 -2.57\n",
            " -1.84 -3.27 -4.6  -2.47 -3.04 -3.26 -4.08 -1.77  1.52  2.96 -3.3   0.45\n",
            " -4.    0.57 -2.25 -2.08 -2.41 -4.3  -4.21 -2.39 -2.66  1.27  2.02 -3.05\n",
            " -3.66 -4.7  -2.67  2.03  2.63  1.91  2.68 -2.22 -3.06 -3.15 -3.48 -3.28\n",
            "  4.33  1.56 -2.72  1.76 -3.23  2.04 -2.76  0.95  1.36 -2.06 -3.17  1.16\n",
            "  1.28  4.08 -3.87  1.94 -1.58 -3.55  3.57  2.15  1.58  2.05  0.39 -2.56\n",
            "  2.38  1.6   2.83  1.8   1.67  3.23 -2.5  -4.49  1.46  1.85  0.94  1.95\n",
            " -3.79  1.57  1.79  2.11  1.93  2.1   3.07  3.71  4.07 -4.26 -3.6   2.43\n",
            "  1.71  1.2   3.76  3.95  1.31  3.73  3.78  2.53  1.42 -4.83 -3.29 -4.19\n",
            "  3.49 -3.13  0.93  1.89 -3.86  3.15  0.99 -3.68  1.34 -4.46  1.84  4.49\n",
            "  1.65  1.55  1.3   3.52  2.24 -3.46  2.17 -3.94  2.74  1.83 -3.61 -2.69\n",
            "  4.1   4.8   1.7   2.    2.91  2.19  0.79 -2.9   1.69  1.59 -4.55  2.09\n",
            " -3.76 -4.71 -3.49  1.96  1.73  1.49  1.53  1.47  2.81 -4.93 -4.65 -3.56\n",
            " -4.67  3.21 -4.42  1.74 -3.78 -4.24 -4.17 -4.11  2.92 -4.36  3.18  3.54\n",
            " -4.31 -2.81  1.64  4.72 -3.95 -4.8   2.37 -4.59  2.35 -3.65  2.16  0.87\n",
            " -3.34  2.14  1.05 -4.54  2.28  1.72  2.18 -4.25  3.64  1.44  3.03  2.69\n",
            " -3.73 -4.75 -3.24 -4.76  2.29  3.13  2.31 -3.57  2.07  3.01 -4.53  1.77\n",
            "  3.65  1.81  3.84  2.59  1.98 -4.96  3.51  1.13 -3.89 -2.71  1.35 -4.02\n",
            "  2.6  -2.93  2.4   3.24  3.9   4.3   2.98 -3.98  2.61 -4.45  3.34  2.46\n",
            " -4.52  2.82  1.75  2.76  2.42 -4.95  2.32  2.72  4.24  2.51  3.83 -3.85\n",
            " -4.04  3.04  2.06  2.89 -3.38 -4.69 -3.99 -3.2  -4.78  2.65 -3.9  -4.48\n",
            " -4.23  2.75 -4.35 -4.33 -3.35 -3.96  2.56  2.99  3.61  1.32 -3.72  2.73\n",
            "  2.45  3.91  2.49  3.99  3.93 -4.22 -3.43 -3.62 -3.92  3.33  4.32  2.54\n",
            "  1.92  3.3   3.27  3.36  1.88 -4.77  4.41  2.44  3.06  3.    2.22  4.89\n",
            " -3.97 -3.8   2.9   3.6   2.93  2.41  2.52  2.58 -4.1   2.26  3.45  2.36\n",
            " -4.56 -3.74  2.95  4.52  4.09  1.5  -4.5  -4.87 -3.88  4.79 -4.72  3.08\n",
            "  2.87  1.97 -2.82  2.57  2.64  2.34  1.66  3.75 -4.81 -4.89  3.97  4.19\n",
            "  3.68 -3.5   3.43 -4.15 -4.98  2.78  2.47  4.62  4.4  -3.42 -4.34  2.88\n",
            "  4.57 -4.47 -4.91  4.13 -4.07 -4.74  3.55 -4.4  -4.86 -4.28 -4.29  3.09\n",
            "  4.15 -4.51  2.12  2.2  -4.63 -3.51  3.59  3.32  3.31 -4.97  3.26  4.2\n",
            "  4.03  4.58  2.86 -3.84  2.62 -4.13  4.66 -4.43 -4.94  4.82 -4.73  3.58\n",
            "  3.5   2.55  3.02  2.77  3.67  3.1  -4.16  3.56  3.19  3.37  3.98  4.31\n",
            "  3.17 -4.41  4.61  3.46 -3.75  3.94  4.9  -4.9  -3.64 -4.06 -4.68 -4.82\n",
            "  3.29  3.11 -4.38  4.56  4.18  3.16  2.21 -4.39  4.64  4.65  4.44  3.62\n",
            "  3.7   3.44  3.12  2.79  4.98 -5.    4.87  3.2  -4.2   2.84  3.38  4.\n",
            "  3.85  3.69  2.8   4.55  2.97  4.37  4.45  4.85  4.88  3.87 -4.62  3.39\n",
            "  2.67  4.12  4.53  4.73  4.36  3.96  3.63  3.47  4.48  4.43  3.77  4.97\n",
            "  4.69  4.91  3.41  3.48  4.75  4.63  3.4   4.23  3.25  3.92  4.51  3.82\n",
            "  4.26  4.29  3.81  4.39  4.92  3.28  4.01  4.71  4.11  4.06  4.5  -4.85\n",
            "  4.47  4.17  3.79  4.68  4.46  3.42  4.34  2.94  3.22  4.74  4.05  4.27\n",
            "  4.77  4.6   3.74  4.16  4.04  4.21  4.81  4.14  4.25  4.54  3.66  4.59\n",
            "  4.84  4.42  3.88  4.99  5.    4.67  4.93  3.86  4.83  4.86  4.76  4.78\n",
            "  4.02]\n",
            "[0, 1]\n",
            "Categories (2, int64): [1 < 0]\n"
          ]
        }
      ]
    },
    {
      "cell_type": "code",
      "metadata": {
        "colab": {
          "base_uri": "https://localhost:8080/"
        },
        "id": "IvBLIG8f4VEi",
        "outputId": "93a1ecbd-8f6b-4117-a6f5-2eba3b5b6df6"
      },
      "source": [
        "df['Bmi'].max()"
      ],
      "execution_count": null,
      "outputs": [
        {
          "output_type": "execute_result",
          "data": {
            "text/plain": [
              "0"
            ]
          },
          "metadata": {},
          "execution_count": 30
        }
      ]
    },
    {
      "cell_type": "code",
      "metadata": {
        "colab": {
          "base_uri": "https://localhost:8080/",
          "height": 651
        },
        "id": "fEmb9fVu10QS",
        "outputId": "7b52163e-186b-434e-973a-65f02e9c5ee7"
      },
      "source": [
        "df"
      ],
      "execution_count": null,
      "outputs": [
        {
          "output_type": "execute_result",
          "data": {
            "text/html": [
              "<div>\n",
              "<style scoped>\n",
              "    .dataframe tbody tr th:only-of-type {\n",
              "        vertical-align: middle;\n",
              "    }\n",
              "\n",
              "    .dataframe tbody tr th {\n",
              "        vertical-align: top;\n",
              "    }\n",
              "\n",
              "    .dataframe thead th {\n",
              "        text-align: right;\n",
              "    }\n",
              "</style>\n",
              "<table border=\"1\" class=\"dataframe\">\n",
              "  <thead>\n",
              "    <tr style=\"text-align: right;\">\n",
              "      <th></th>\n",
              "      <th>State</th>\n",
              "      <th>Area</th>\n",
              "      <th>Religion</th>\n",
              "      <th>caste</th>\n",
              "      <th>mothers education</th>\n",
              "      <th>source of water</th>\n",
              "      <th>toilet facility</th>\n",
              "      <th>no of members</th>\n",
              "      <th>no of living children</th>\n",
              "      <th>mothers age(at first birth)</th>\n",
              "      <th>sex of household head</th>\n",
              "      <th>wealth index</th>\n",
              "      <th>initiaion of bf</th>\n",
              "      <th>sex of child</th>\n",
              "      <th>months of bf</th>\n",
              "      <th>mothers bmi</th>\n",
              "      <th>child's age</th>\n",
              "      <th>index to birth history</th>\n",
              "      <th>birth weight</th>\n",
              "      <th>history of illness</th>\n",
              "      <th>Exposure to mass media</th>\n",
              "      <th>dietary score</th>\n",
              "      <th>immunization</th>\n",
              "      <th>H/A</th>\n",
              "      <th>W/A</th>\n",
              "      <th>W/H</th>\n",
              "      <th>Bmi</th>\n",
              "    </tr>\n",
              "  </thead>\n",
              "  <tbody>\n",
              "    <tr>\n",
              "      <th>0</th>\n",
              "      <td>East_India</td>\n",
              "      <td>Urban</td>\n",
              "      <td>Hindu</td>\n",
              "      <td>Others</td>\n",
              "      <td>Secondary education</td>\n",
              "      <td>Improved</td>\n",
              "      <td>Improved</td>\n",
              "      <td>4</td>\n",
              "      <td>1</td>\n",
              "      <td>20-29</td>\n",
              "      <td>Male</td>\n",
              "      <td>Richer</td>\n",
              "      <td>Early Initiation</td>\n",
              "      <td>Female</td>\n",
              "      <td>&gt;24</td>\n",
              "      <td>healthy</td>\n",
              "      <td>48-60</td>\n",
              "      <td>1</td>\n",
              "      <td>2.5+</td>\n",
              "      <td>Yes</td>\n",
              "      <td>Yes</td>\n",
              "      <td>0</td>\n",
              "      <td>fully immunized</td>\n",
              "      <td>0</td>\n",
              "      <td>0</td>\n",
              "      <td>0</td>\n",
              "      <td>0</td>\n",
              "    </tr>\n",
              "    <tr>\n",
              "      <th>1</th>\n",
              "      <td>East_India</td>\n",
              "      <td>Urban</td>\n",
              "      <td>Hindu</td>\n",
              "      <td>OBC</td>\n",
              "      <td>Higher education</td>\n",
              "      <td>Improved</td>\n",
              "      <td>Improved</td>\n",
              "      <td>3</td>\n",
              "      <td>1</td>\n",
              "      <td>20-29</td>\n",
              "      <td>Male</td>\n",
              "      <td>Richer</td>\n",
              "      <td>Late Initiation</td>\n",
              "      <td>Female</td>\n",
              "      <td>&lt;24</td>\n",
              "      <td>overweight</td>\n",
              "      <td>24-36</td>\n",
              "      <td>1</td>\n",
              "      <td>2.5+</td>\n",
              "      <td>No</td>\n",
              "      <td>Yes</td>\n",
              "      <td>0</td>\n",
              "      <td>fully immunized</td>\n",
              "      <td>0</td>\n",
              "      <td>0</td>\n",
              "      <td>0</td>\n",
              "      <td>0</td>\n",
              "    </tr>\n",
              "    <tr>\n",
              "      <th>2</th>\n",
              "      <td>East_India</td>\n",
              "      <td>Rural</td>\n",
              "      <td>Christian</td>\n",
              "      <td>ST</td>\n",
              "      <td>Secondary education</td>\n",
              "      <td>Improved</td>\n",
              "      <td>Improved</td>\n",
              "      <td>6</td>\n",
              "      <td>2</td>\n",
              "      <td>20-29</td>\n",
              "      <td>Male</td>\n",
              "      <td>Middle</td>\n",
              "      <td>Early Initiation</td>\n",
              "      <td>Female</td>\n",
              "      <td>&lt;24</td>\n",
              "      <td>healthy</td>\n",
              "      <td>6-</td>\n",
              "      <td>1</td>\n",
              "      <td>2.5+</td>\n",
              "      <td>No</td>\n",
              "      <td>Yes</td>\n",
              "      <td>4</td>\n",
              "      <td>unimmunized</td>\n",
              "      <td>0</td>\n",
              "      <td>0</td>\n",
              "      <td>0</td>\n",
              "      <td>0</td>\n",
              "    </tr>\n",
              "    <tr>\n",
              "      <th>3</th>\n",
              "      <td>East_India</td>\n",
              "      <td>Rural</td>\n",
              "      <td>Christian</td>\n",
              "      <td>ST</td>\n",
              "      <td>Secondary education</td>\n",
              "      <td>Improved</td>\n",
              "      <td>Improved</td>\n",
              "      <td>6</td>\n",
              "      <td>3</td>\n",
              "      <td>20-29</td>\n",
              "      <td>Male</td>\n",
              "      <td>Richest</td>\n",
              "      <td>Early Initiation</td>\n",
              "      <td>Male</td>\n",
              "      <td>&lt;24</td>\n",
              "      <td>healthy</td>\n",
              "      <td>6-12</td>\n",
              "      <td>1</td>\n",
              "      <td>2.5+</td>\n",
              "      <td>No</td>\n",
              "      <td>Yes</td>\n",
              "      <td>3</td>\n",
              "      <td>unimmunized</td>\n",
              "      <td>0</td>\n",
              "      <td>0</td>\n",
              "      <td>0</td>\n",
              "      <td>0</td>\n",
              "    </tr>\n",
              "    <tr>\n",
              "      <th>4</th>\n",
              "      <td>East_India</td>\n",
              "      <td>Rural</td>\n",
              "      <td>Christian</td>\n",
              "      <td>ST</td>\n",
              "      <td>Secondary education</td>\n",
              "      <td>Improved</td>\n",
              "      <td>Improved</td>\n",
              "      <td>5</td>\n",
              "      <td>2</td>\n",
              "      <td>20-29</td>\n",
              "      <td>Female</td>\n",
              "      <td>Middle</td>\n",
              "      <td>Early Initiation</td>\n",
              "      <td>Female</td>\n",
              "      <td>&lt;24</td>\n",
              "      <td>healthy</td>\n",
              "      <td>24-36</td>\n",
              "      <td>1</td>\n",
              "      <td>2.5+</td>\n",
              "      <td>No</td>\n",
              "      <td>Yes</td>\n",
              "      <td>0</td>\n",
              "      <td>unimmunized</td>\n",
              "      <td>0</td>\n",
              "      <td>0</td>\n",
              "      <td>0</td>\n",
              "      <td>0</td>\n",
              "    </tr>\n",
              "    <tr>\n",
              "      <th>...</th>\n",
              "      <td>...</td>\n",
              "      <td>...</td>\n",
              "      <td>...</td>\n",
              "      <td>...</td>\n",
              "      <td>...</td>\n",
              "      <td>...</td>\n",
              "      <td>...</td>\n",
              "      <td>...</td>\n",
              "      <td>...</td>\n",
              "      <td>...</td>\n",
              "      <td>...</td>\n",
              "      <td>...</td>\n",
              "      <td>...</td>\n",
              "      <td>...</td>\n",
              "      <td>...</td>\n",
              "      <td>...</td>\n",
              "      <td>...</td>\n",
              "      <td>...</td>\n",
              "      <td>...</td>\n",
              "      <td>...</td>\n",
              "      <td>...</td>\n",
              "      <td>...</td>\n",
              "      <td>...</td>\n",
              "      <td>...</td>\n",
              "      <td>...</td>\n",
              "      <td>...</td>\n",
              "      <td>...</td>\n",
              "    </tr>\n",
              "    <tr>\n",
              "      <th>172617</th>\n",
              "      <td>South_India</td>\n",
              "      <td>Urban</td>\n",
              "      <td>Hindu</td>\n",
              "      <td>OBC</td>\n",
              "      <td>Higher education</td>\n",
              "      <td>Improved</td>\n",
              "      <td>Improved</td>\n",
              "      <td>4</td>\n",
              "      <td>1</td>\n",
              "      <td>20-29</td>\n",
              "      <td>Male</td>\n",
              "      <td>Richest</td>\n",
              "      <td>Early Initiation</td>\n",
              "      <td>Female</td>\n",
              "      <td>&lt;24</td>\n",
              "      <td>overweight</td>\n",
              "      <td>24-36</td>\n",
              "      <td>1</td>\n",
              "      <td>2.5+</td>\n",
              "      <td>No</td>\n",
              "      <td>Yes</td>\n",
              "      <td>0</td>\n",
              "      <td>fully immunized</td>\n",
              "      <td>0</td>\n",
              "      <td>0</td>\n",
              "      <td>0</td>\n",
              "      <td>0</td>\n",
              "    </tr>\n",
              "    <tr>\n",
              "      <th>172618</th>\n",
              "      <td>South_India</td>\n",
              "      <td>Urban</td>\n",
              "      <td>Hindu</td>\n",
              "      <td>OBC</td>\n",
              "      <td>Secondary education</td>\n",
              "      <td>Improved</td>\n",
              "      <td>Improved</td>\n",
              "      <td>4</td>\n",
              "      <td>2</td>\n",
              "      <td>&lt;20</td>\n",
              "      <td>Male</td>\n",
              "      <td>Richest</td>\n",
              "      <td>Early Initiation</td>\n",
              "      <td>Female</td>\n",
              "      <td>&lt;24</td>\n",
              "      <td>overweight</td>\n",
              "      <td>48-60</td>\n",
              "      <td>1</td>\n",
              "      <td>2.5+</td>\n",
              "      <td>No</td>\n",
              "      <td>Yes</td>\n",
              "      <td>0</td>\n",
              "      <td>fully immunized</td>\n",
              "      <td>0</td>\n",
              "      <td>0</td>\n",
              "      <td>0</td>\n",
              "      <td>0</td>\n",
              "    </tr>\n",
              "    <tr>\n",
              "      <th>172619</th>\n",
              "      <td>South_India</td>\n",
              "      <td>Rural</td>\n",
              "      <td>Hindu</td>\n",
              "      <td>OBC</td>\n",
              "      <td>Secondary education</td>\n",
              "      <td>Improved</td>\n",
              "      <td>Improved</td>\n",
              "      <td>3</td>\n",
              "      <td>1</td>\n",
              "      <td>&lt;20</td>\n",
              "      <td>Male</td>\n",
              "      <td>Middle</td>\n",
              "      <td>Late Initiation</td>\n",
              "      <td>Male</td>\n",
              "      <td>&lt;24</td>\n",
              "      <td>underweight</td>\n",
              "      <td>6-12</td>\n",
              "      <td>1</td>\n",
              "      <td>2.5+</td>\n",
              "      <td>Yes</td>\n",
              "      <td>Yes</td>\n",
              "      <td>1</td>\n",
              "      <td>partially immunized</td>\n",
              "      <td>0</td>\n",
              "      <td>0</td>\n",
              "      <td>0</td>\n",
              "      <td>0</td>\n",
              "    </tr>\n",
              "    <tr>\n",
              "      <th>172620</th>\n",
              "      <td>South_India</td>\n",
              "      <td>Rural</td>\n",
              "      <td>Hindu</td>\n",
              "      <td>OBC</td>\n",
              "      <td>Secondary education</td>\n",
              "      <td>Unimproved</td>\n",
              "      <td>Unimproved</td>\n",
              "      <td>8</td>\n",
              "      <td>1</td>\n",
              "      <td>&lt;20</td>\n",
              "      <td>Male</td>\n",
              "      <td>Richer</td>\n",
              "      <td>Late Initiation</td>\n",
              "      <td>Male</td>\n",
              "      <td>&lt;24</td>\n",
              "      <td>healthy</td>\n",
              "      <td>6-</td>\n",
              "      <td>1</td>\n",
              "      <td>2.5-</td>\n",
              "      <td>No</td>\n",
              "      <td>Yes</td>\n",
              "      <td>0</td>\n",
              "      <td>partially immunized</td>\n",
              "      <td>0</td>\n",
              "      <td>1</td>\n",
              "      <td>1</td>\n",
              "      <td>1</td>\n",
              "    </tr>\n",
              "    <tr>\n",
              "      <th>172621</th>\n",
              "      <td>South_India</td>\n",
              "      <td>Rural</td>\n",
              "      <td>Hindu</td>\n",
              "      <td>Others</td>\n",
              "      <td>Secondary education</td>\n",
              "      <td>Improved</td>\n",
              "      <td>Improved</td>\n",
              "      <td>4</td>\n",
              "      <td>2</td>\n",
              "      <td>20-29</td>\n",
              "      <td>Male</td>\n",
              "      <td>Richer</td>\n",
              "      <td>Early Initiation</td>\n",
              "      <td>Male</td>\n",
              "      <td>&lt;24</td>\n",
              "      <td>healthy</td>\n",
              "      <td>24-36</td>\n",
              "      <td>1</td>\n",
              "      <td>2.5+</td>\n",
              "      <td>No</td>\n",
              "      <td>Yes</td>\n",
              "      <td>0</td>\n",
              "      <td>fully immunized</td>\n",
              "      <td>0</td>\n",
              "      <td>0</td>\n",
              "      <td>0</td>\n",
              "      <td>0</td>\n",
              "    </tr>\n",
              "  </tbody>\n",
              "</table>\n",
              "<p>172622 rows × 27 columns</p>\n",
              "</div>"
            ],
            "text/plain": [
              "              State   Area   Religion   caste  ... H/A W/A W/H  Bmi\n",
              "0        East_India  Urban      Hindu  Others  ...   0   0   0    0\n",
              "1        East_India  Urban      Hindu     OBC  ...   0   0   0    0\n",
              "2        East_India  Rural  Christian      ST  ...   0   0   0    0\n",
              "3        East_India  Rural  Christian      ST  ...   0   0   0    0\n",
              "4        East_India  Rural  Christian      ST  ...   0   0   0    0\n",
              "...             ...    ...        ...     ...  ...  ..  ..  ..  ...\n",
              "172617  South_India  Urban      Hindu     OBC  ...   0   0   0    0\n",
              "172618  South_India  Urban      Hindu     OBC  ...   0   0   0    0\n",
              "172619  South_India  Rural      Hindu     OBC  ...   0   0   0    0\n",
              "172620  South_India  Rural      Hindu     OBC  ...   0   1   1    1\n",
              "172621  South_India  Rural      Hindu  Others  ...   0   0   0    0\n",
              "\n",
              "[172622 rows x 27 columns]"
            ]
          },
          "metadata": {},
          "execution_count": 31
        }
      ]
    },
    {
      "cell_type": "code",
      "metadata": {
        "colab": {
          "base_uri": "https://localhost:8080/"
        },
        "id": "wfI5yLcC54jZ",
        "outputId": "63c047d5-03d2-4736-a89c-06f813e58556"
      },
      "source": [
        "df['H/A'].value_counts()"
      ],
      "execution_count": null,
      "outputs": [
        {
          "output_type": "execute_result",
          "data": {
            "text/plain": [
              "0    109698\n",
              "1     62924\n",
              "Name: H/A, dtype: int64"
            ]
          },
          "metadata": {},
          "execution_count": 33
        }
      ]
    },
    {
      "cell_type": "code",
      "metadata": {
        "colab": {
          "base_uri": "https://localhost:8080/"
        },
        "id": "_rtLpoYi56Ug",
        "outputId": "bbfc9791-8da1-4071-93e3-39a2da7db2bb"
      },
      "source": [
        "df['W/A'].value_counts()"
      ],
      "execution_count": null,
      "outputs": [
        {
          "output_type": "execute_result",
          "data": {
            "text/plain": [
              "0    114844\n",
              "1     57778\n",
              "Name: W/A, dtype: int64"
            ]
          },
          "metadata": {},
          "execution_count": 34
        }
      ]
    },
    {
      "cell_type": "code",
      "metadata": {
        "colab": {
          "base_uri": "https://localhost:8080/"
        },
        "id": "GqpzfE-56AQU",
        "outputId": "3e70b7b9-3311-4dd3-a4d2-6456bb88023a"
      },
      "source": [
        "df['W/H'].value_counts()"
      ],
      "execution_count": null,
      "outputs": [
        {
          "output_type": "execute_result",
          "data": {
            "text/plain": [
              "0    135263\n",
              "1     37359\n",
              "Name: W/H, dtype: int64"
            ]
          },
          "metadata": {},
          "execution_count": 35
        }
      ]
    },
    {
      "cell_type": "code",
      "metadata": {
        "colab": {
          "base_uri": "https://localhost:8080/"
        },
        "id": "jKyWukCU6Csb",
        "outputId": "12d4a86a-6a6a-4f72-92e9-d0716a9407c1"
      },
      "source": [
        "df['Bmi'].value_counts()"
      ],
      "execution_count": null,
      "outputs": [
        {
          "output_type": "execute_result",
          "data": {
            "text/plain": [
              "0    138323\n",
              "1     34299\n",
              "Name: Bmi, dtype: int64"
            ]
          },
          "metadata": {},
          "execution_count": 36
        }
      ]
    },
    {
      "cell_type": "code",
      "metadata": {
        "id": "NC_DJiTe6D6F"
      },
      "source": [
        "df.to_csv('Dataset_15-16.csv')"
      ],
      "execution_count": null,
      "outputs": []
    },
    {
      "cell_type": "markdown",
      "metadata": {
        "id": "Jw0Dw3GEDPRB"
      },
      "source": [
        "## Make 4th variable"
      ]
    },
    {
      "cell_type": "code",
      "metadata": {
        "id": "yUJ1hU9HFG7c"
      },
      "source": [
        "import pandas as pd"
      ],
      "execution_count": null,
      "outputs": []
    },
    {
      "cell_type": "code",
      "metadata": {
        "id": "bMVneqUI6J4S"
      },
      "source": [
        "def make_fourth(path, x):\n",
        "  df = pd.read_csv(path)\n",
        "  df['HAWH'] = df['H/A'] + df['W/H']\n",
        "  df['HAWH'] = df['HAWH'].replace({2:4, 1:0})\n",
        "  print(df['HAWH'].value_counts())\n",
        "  df['HAWH'] = df['HAWH'].replace({4:1})\n",
        "  print(df['HAWH'].value_counts())\n",
        "  return df.to_csv(f'New_Dataset_{x}.csv')"
      ],
      "execution_count": null,
      "outputs": []
    },
    {
      "cell_type": "code",
      "metadata": {
        "colab": {
          "base_uri": "https://localhost:8080/"
        },
        "id": "KpN_R00gFAOi",
        "outputId": "46d53e65-3aee-4c05-8bb5-f94d02171b19"
      },
      "source": [
        "make_fourth('/content/Dataset_5-6.csv', '5-6')"
      ],
      "execution_count": null,
      "outputs": [
        {
          "output_type": "stream",
          "name": "stdout",
          "text": [
            "0    35122\n",
            "4     2937\n",
            "Name: HAWH, dtype: int64\n",
            "0    35122\n",
            "1     2937\n",
            "Name: HAWH, dtype: int64\n"
          ]
        }
      ]
    },
    {
      "cell_type": "code",
      "metadata": {
        "colab": {
          "base_uri": "https://localhost:8080/"
        },
        "id": "YUayzuVQFFWb",
        "outputId": "011d36b9-56f8-4294-efcb-bf0de9ffa144"
      },
      "source": [
        "make_fourth('/content/Dataset_15-16.csv', '15-16')"
      ],
      "execution_count": null,
      "outputs": [
        {
          "output_type": "stream",
          "name": "stdout",
          "text": [
            "0    161546\n",
            "4     11076\n",
            "Name: HAWH, dtype: int64\n",
            "0    161546\n",
            "1     11076\n",
            "Name: HAWH, dtype: int64\n"
          ]
        }
      ]
    },
    {
      "cell_type": "code",
      "metadata": {
        "id": "wHRbICk1w7Dz"
      },
      "source": [],
      "execution_count": null,
      "outputs": []
    }
  ]
}